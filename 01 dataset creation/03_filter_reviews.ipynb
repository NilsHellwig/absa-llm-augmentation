{
 "cells": [
  {
   "cell_type": "markdown",
   "id": "d3e07a11-7920-4c19-8577-48f7d98a1d82",
   "metadata": {},
   "source": [
    "# Notebook: Filter Reviews from Collected HTMLs"
   ]
  },
  {
   "cell_type": "markdown",
   "id": "85832c4c-2ab8-41cc-b690-6b2c076d5d7a",
   "metadata": {},
   "source": [
    "## Packages"
   ]
  },
  {
   "cell_type": "code",
   "execution_count": 1,
   "id": "21959832-c64a-4122-919d-a9ef902ac384",
   "metadata": {
    "tags": []
   },
   "outputs": [],
   "source": [
    "from langdetect import detect\n",
    "from bs4 import BeautifulSoup\n",
    "import pandas as pd\n",
    "import spacy\n",
    "import json\n",
    "import nltk\n",
    "from nltk.tokenize import sent_tokenize"
   ]
  },
  {
   "cell_type": "markdown",
   "id": "cfe0f0b7-8c8a-4021-b16e-01a9b4bb7b66",
   "metadata": {},
   "source": [
    "## Settings"
   ]
  },
  {
   "cell_type": "code",
   "execution_count": 2,
   "id": "7b7fcae1-4484-4999-9d8b-ff6d1494ec18",
   "metadata": {
    "tags": []
   },
   "outputs": [
    {
     "name": "stderr",
     "output_type": "stream",
     "text": [
      "[nltk_data] Downloading package punkt to\n",
      "[nltk_data]     /Users/nils_hellwig/nltk_data...\n",
      "[nltk_data]   Package punkt is already up-to-date!\n"
     ]
    },
    {
     "data": {
      "text/plain": [
       "True"
      ]
     },
     "execution_count": 2,
     "metadata": {},
     "output_type": "execute_result"
    }
   ],
   "source": [
    "nltk.download('punkt')"
   ]
  },
  {
   "cell_type": "code",
   "execution_count": 3,
   "id": "03a7ba7d-5456-4e2b-b123-5cf1749a2e53",
   "metadata": {
    "tags": []
   },
   "outputs": [],
   "source": [
    "%%capture\n",
    "!python -m spacy download de_core_news_lg"
   ]
  },
  {
   "cell_type": "code",
   "execution_count": 4,
   "id": "22c90a36-71a4-46a4-a0da-abc7aea6da19",
   "metadata": {
    "tags": []
   },
   "outputs": [],
   "source": [
    "nlp = spacy.load(\"de_core_news_lg\")"
   ]
  },
  {
   "cell_type": "markdown",
   "id": "caffba9f-b007-4878-9377-5b64a0544fd0",
   "metadata": {},
   "source": [
    "## Constants"
   ]
  },
  {
   "cell_type": "code",
   "execution_count": 5,
   "id": "2478b5a4-fd21-4d69-be2a-f889b478deb8",
   "metadata": {
    "tags": []
   },
   "outputs": [],
   "source": [
    "REVIEWS_PATH = \"../datasets/reviews_urls.csv\"\n",
    "RANDOM_STATE = 43"
   ]
  },
  {
   "cell_type": "markdown",
   "id": "4597beda-a4b4-4f06-9cd7-27b1c534a003",
   "metadata": {},
   "source": [
    "## Code"
   ]
  },
  {
   "cell_type": "markdown",
   "id": "938e9745-2849-4641-bbbd-72ebc85d84e4",
   "metadata": {},
   "source": [
    "### Load Dataset"
   ]
  },
  {
   "cell_type": "code",
   "execution_count": 6,
   "id": "0d59070e-0109-4bf0-ab5a-ae77d878f1d3",
   "metadata": {
    "tags": []
   },
   "outputs": [],
   "source": [
    "reviews_df = pd.read_csv(REVIEWS_PATH)"
   ]
  },
  {
   "cell_type": "markdown",
   "id": "ef4161fe-64c2-4f42-8c46-724e6bbfb43d",
   "metadata": {},
   "source": [
    "### Load Reviews"
   ]
  },
  {
   "cell_type": "code",
   "execution_count": 7,
   "id": "bdad69c3-b37c-43fb-bbcf-c0e4472c5b5b",
   "metadata": {},
   "outputs": [],
   "source": [
    "columns = ['review_id', 'restaurant_id', 'page_index', 'title', 'date', 'author_name', 'author_location', 'text', 'rating', 'restaurant_name', 'language_code']\n",
    "data_reviews = []"
   ]
  },
  {
   "cell_type": "code",
   "execution_count": 8,
   "id": "eac9a72e-7117-44b8-bceb-d1bf06013a8d",
   "metadata": {
    "tags": []
   },
   "outputs": [],
   "source": [
    "def load_review(review_soup):\n",
    "    review = {}\n",
    "    review[\"title\"] = review_soup.find(\"div\", attrs={\"class\": \"quote\"}).get_text()\n",
    "    review[\"date\"] = review_soup.find(class_='ratingDate')['title']\n",
    "    review[\"author_name\"] = review_soup.find(class_='scrname').get_text()\n",
    "    user_location_element = review_soup.find(class_='userLocation')\n",
    "    if user_location_element:\n",
    "        user_location = user_location_element.get_text()\n",
    "    else:\n",
    "        user_location = None\n",
    "    review[\"author_location\"] = user_location\n",
    "    review[\"text\"] = review_soup.find(class_='partial_entry').get_text()\n",
    "    review[\"rating\"] = int(review_soup.find(class_='reviewItemInline').find('span', class_='ui_bubble_rating')['class'][1].split('_')[1]) / 10\n",
    "    return review"
   ]
  },
  {
   "cell_type": "code",
   "execution_count": 9,
   "id": "fe14c607-433a-4063-8005-b1db0e942979",
   "metadata": {
    "tags": []
   },
   "outputs": [],
   "source": [
    "for index, row in reviews_df.iterrows():\n",
    "    path_review = \"../datasets/reviews_restaurants_html/restaurant_\" + str(row['restaurant_id']) + \"_review_\" + str(row[\"review_id\"]) + \".html\"\n",
    "    with open(path_review, 'r', encoding='utf-8') as file:\n",
    "        html_content = file.read()\n",
    "    doc_soup = BeautifulSoup(html_content, 'html.parser')\n",
    "    review_soup = doc_soup.find(id=\"review_\"+str(row[\"review_id\"]))\n",
    "    review = load_review(review_soup)\n",
    "    review[\"restaurant_name\"] = doc_soup.find('a', class_='HEADING').get_text()\n",
    "    review[\"language_code\"] = doc_soup.find(\"div\", class_=\"prw_reviews_user_links_hsx\").span[\"data-language\"]\n",
    "    review[\"review_id\"] = row[\"review_id\"]\n",
    "    review[\"restaurant_id\"] = row[\"restaurant_id\"]\n",
    "    review[\"page_index\"] = row[\"page_index\"]\n",
    "    data_reviews.append(review)"
   ]
  },
  {
   "cell_type": "code",
   "execution_count": 10,
   "id": "cdeb3ff8-3cd4-485d-9c17-4a829287707a",
   "metadata": {
    "tags": []
   },
   "outputs": [],
   "source": [
    "df_reviews = pd.DataFrame(data_reviews, columns=columns)"
   ]
  },
  {
   "cell_type": "code",
   "execution_count": 11,
   "id": "cb46ac87-60b7-47f3-9bfe-1eff6ae597ea",
   "metadata": {
    "tags": []
   },
   "outputs": [
    {
     "data": {
      "text/html": [
       "<div>\n",
       "<style scoped>\n",
       "    .dataframe tbody tr th:only-of-type {\n",
       "        vertical-align: middle;\n",
       "    }\n",
       "\n",
       "    .dataframe tbody tr th {\n",
       "        vertical-align: top;\n",
       "    }\n",
       "\n",
       "    .dataframe thead th {\n",
       "        text-align: right;\n",
       "    }\n",
       "</style>\n",
       "<table border=\"1\" class=\"dataframe\">\n",
       "  <thead>\n",
       "    <tr style=\"text-align: right;\">\n",
       "      <th></th>\n",
       "      <th>review_id</th>\n",
       "      <th>restaurant_id</th>\n",
       "      <th>page_index</th>\n",
       "      <th>title</th>\n",
       "      <th>date</th>\n",
       "      <th>author_name</th>\n",
       "      <th>author_location</th>\n",
       "      <th>text</th>\n",
       "      <th>rating</th>\n",
       "      <th>restaurant_name</th>\n",
       "      <th>language_code</th>\n",
       "    </tr>\n",
       "  </thead>\n",
       "  <tbody>\n",
       "  </tbody>\n",
       "</table>\n",
       "</div>"
      ],
      "text/plain": [
       "Empty DataFrame\n",
       "Columns: [review_id, restaurant_id, page_index, title, date, author_name, author_location, text, rating, restaurant_name, language_code]\n",
       "Index: []"
      ]
     },
     "execution_count": 11,
     "metadata": {},
     "output_type": "execute_result"
    }
   ],
   "source": [
    "duplicate_rows = df_reviews[df_reviews.duplicated(subset=['review_id'], keep=False)]\n",
    "duplicate_rows"
   ]
  },
  {
   "cell_type": "markdown",
   "id": "bdcd2375-af01-4223-a1e4-da889d46db08",
   "metadata": {},
   "source": [
    "### Delete Examples without Data"
   ]
  },
  {
   "cell_type": "markdown",
   "id": "d627d423-b73d-43df-b9ae-745a9ca2d54a",
   "metadata": {},
   "source": [
    "There are rare cases where the text from the rating is not returned with the GET request to the page from the restaurant rating. These will now be excluded."
   ]
  },
  {
   "cell_type": "code",
   "execution_count": 12,
   "id": "0f068d7a-bcf7-41dd-a716-ffbd7ed2de8f",
   "metadata": {
    "tags": []
   },
   "outputs": [],
   "source": [
    "df_reviews = df_reviews.drop(df_reviews[(df_reviews['text'] == '') | (df_reviews['title'] == '')].index)"
   ]
  },
  {
   "cell_type": "markdown",
   "id": "2904757f-7f9b-4c25-8043-b5d10bf6d0d2",
   "metadata": {},
   "source": [
    "### Filter Languages\n",
    "\n",
    "We are only considering reviews in german language."
   ]
  },
  {
   "cell_type": "code",
   "execution_count": 13,
   "id": "4508a9a7-8fe4-4898-b1ef-f3732f6a21a9",
   "metadata": {},
   "outputs": [],
   "source": [
    "df_reviews = df_reviews.drop(df_reviews[(df_reviews['language_code'] != 'de')].index)"
   ]
  },
  {
   "cell_type": "markdown",
   "id": "aec8a268-1f0b-4348-b167-ee797791c710",
   "metadata": {},
   "source": [
    "Even if the language code = \"de\", we have observed that reviews in other languages sometimes have \"de\" as the language code. These are excluded with the help of Google's language-detection."
   ]
  },
  {
   "cell_type": "code",
   "execution_count": 14,
   "id": "57f01c97-147e-46bf-9d4f-16536b42997c",
   "metadata": {
    "tags": []
   },
   "outputs": [
    {
     "data": {
      "text/html": [
       "<div>\n",
       "<style scoped>\n",
       "    .dataframe tbody tr th:only-of-type {\n",
       "        vertical-align: middle;\n",
       "    }\n",
       "\n",
       "    .dataframe tbody tr th {\n",
       "        vertical-align: top;\n",
       "    }\n",
       "\n",
       "    .dataframe thead th {\n",
       "        text-align: right;\n",
       "    }\n",
       "</style>\n",
       "<table border=\"1\" class=\"dataframe\">\n",
       "  <thead>\n",
       "    <tr style=\"text-align: right;\">\n",
       "      <th></th>\n",
       "      <th>review_id</th>\n",
       "      <th>restaurant_id</th>\n",
       "      <th>page_index</th>\n",
       "      <th>title</th>\n",
       "      <th>date</th>\n",
       "      <th>author_name</th>\n",
       "      <th>author_location</th>\n",
       "      <th>text</th>\n",
       "      <th>rating</th>\n",
       "      <th>restaurant_name</th>\n",
       "      <th>language_code</th>\n",
       "      <th>detected_language</th>\n",
       "    </tr>\n",
       "  </thead>\n",
       "  <tbody>\n",
       "  </tbody>\n",
       "</table>\n",
       "</div>"
      ],
      "text/plain": [
       "Empty DataFrame\n",
       "Columns: [review_id, restaurant_id, page_index, title, date, author_name, author_location, text, rating, restaurant_name, language_code, detected_language]\n",
       "Index: []"
      ]
     },
     "execution_count": 14,
     "metadata": {},
     "output_type": "execute_result"
    }
   ],
   "source": [
    "df_reviews['detected_language'] = df_reviews['text'].apply(lambda x: detect(x))\n",
    "# Examples of reviews that were excluded\n",
    "df_reviews[df_reviews['detected_language'] != 'de']"
   ]
  },
  {
   "cell_type": "code",
   "execution_count": 15,
   "id": "fa00ab7f-0e9f-4871-93f6-1ee0c0136865",
   "metadata": {
    "tags": []
   },
   "outputs": [],
   "source": [
    "df_reviews = df_reviews[df_reviews['detected_language'] == 'de']"
   ]
  },
  {
   "cell_type": "markdown",
   "id": "4a1a99a7-9a95-4e3b-b533-8563d2a40679",
   "metadata": {},
   "source": [
    "### Check for Duplicates"
   ]
  },
  {
   "cell_type": "markdown",
   "id": "0256bcef-03c7-425b-93f2-c569e528cd15",
   "metadata": {
    "tags": []
   },
   "source": [
    "### Remove Reviews Posted Before June 2022 "
   ]
  },
  {
   "cell_type": "code",
   "execution_count": 16,
   "id": "f80272c4-8cc0-4ee5-855a-7af1e3678f4f",
   "metadata": {
    "tags": []
   },
   "outputs": [],
   "source": [
    "month_mapping = {\n",
    "    \"Januar\": 1, \"Februar\": 2, \"März\": 3, \"April\": 4, \"Mai\": 5, \"Juni\": 6,\n",
    "    \"Juli\": 7, \"August\": 8, \"September\": 9, \"Oktober\": 10, \"November\": 11, \"Dezember\": 12\n",
    "}\n",
    "\n",
    "def convert_date(date_string):\n",
    "    day, month_name, year = date_string.split()\n",
    "    day = day.replace(\".\", \"\")\n",
    "    month = month_mapping[month_name]\n",
    "    return pd.Timestamp(int(year), month, int(day))\n",
    "\n",
    "df_reviews[\"date\"] = df_reviews[\"date\"].apply(convert_date)"
   ]
  },
  {
   "cell_type": "code",
   "execution_count": 17,
   "id": "fa1077a8-9b35-4e17-befa-85dc048a488f",
   "metadata": {
    "tags": []
   },
   "outputs": [],
   "source": [
    "df_reviews = df_reviews[df_reviews[\"date\"] >= pd.Timestamp(2022, 7, 1)]"
   ]
  },
  {
   "cell_type": "code",
   "execution_count": 18,
   "id": "18fcc8ff-4887-46ab-8334-a54224204936",
   "metadata": {
    "tags": []
   },
   "outputs": [
    {
     "data": {
      "text/html": [
       "<div>\n",
       "<style scoped>\n",
       "    .dataframe tbody tr th:only-of-type {\n",
       "        vertical-align: middle;\n",
       "    }\n",
       "\n",
       "    .dataframe tbody tr th {\n",
       "        vertical-align: top;\n",
       "    }\n",
       "\n",
       "    .dataframe thead th {\n",
       "        text-align: right;\n",
       "    }\n",
       "</style>\n",
       "<table border=\"1\" class=\"dataframe\">\n",
       "  <thead>\n",
       "    <tr style=\"text-align: right;\">\n",
       "      <th></th>\n",
       "      <th>review_id</th>\n",
       "      <th>restaurant_id</th>\n",
       "      <th>page_index</th>\n",
       "      <th>title</th>\n",
       "      <th>date</th>\n",
       "      <th>author_name</th>\n",
       "      <th>author_location</th>\n",
       "      <th>text</th>\n",
       "      <th>rating</th>\n",
       "      <th>restaurant_name</th>\n",
       "      <th>language_code</th>\n",
       "      <th>detected_language</th>\n",
       "    </tr>\n",
       "  </thead>\n",
       "  <tbody>\n",
       "    <tr>\n",
       "      <th>0</th>\n",
       "      <td>867460923</td>\n",
       "      <td>778662</td>\n",
       "      <td>0</td>\n",
       "      <td>Absolut enttäuschend</td>\n",
       "      <td>2022-11-06</td>\n",
       "      <td>BackPacker563486</td>\n",
       "      <td>Berlin, Deutschland</td>\n",
       "      <td>Die schlechteste Pasta aglio olio ever!!! Schm...</td>\n",
       "      <td>1.0</td>\n",
       "      <td>Vapiano</td>\n",
       "      <td>de</td>\n",
       "      <td>de</td>\n",
       "    </tr>\n",
       "    <tr>\n",
       "      <th>10</th>\n",
       "      <td>906970320</td>\n",
       "      <td>8000775</td>\n",
       "      <td>0</td>\n",
       "      <td>Unverschämter Kellner … Blondi mit Goldkette</td>\n",
       "      <td>2023-07-31</td>\n",
       "      <td>MichaelA759</td>\n",
       "      <td>Biberach, Deutschland</td>\n",
       "      <td>Wir sind eigentlich große Freunde der Osteria-...</td>\n",
       "      <td>1.0</td>\n",
       "      <td>L'Osteria München Bogenhausen</td>\n",
       "      <td>de</td>\n",
       "      <td>de</td>\n",
       "    </tr>\n",
       "    <tr>\n",
       "      <th>11</th>\n",
       "      <td>891912786</td>\n",
       "      <td>8000775</td>\n",
       "      <td>0</td>\n",
       "      <td>Gerne wieder!!!</td>\n",
       "      <td>2023-05-25</td>\n",
       "      <td>Mirjam H</td>\n",
       "      <td>None</td>\n",
       "      <td>Tolle Qualität der Speisen, gute Lage des Loka...</td>\n",
       "      <td>5.0</td>\n",
       "      <td>L'Osteria München Bogenhausen</td>\n",
       "      <td>de</td>\n",
       "      <td>de</td>\n",
       "    </tr>\n",
       "    <tr>\n",
       "      <th>12</th>\n",
       "      <td>888709323</td>\n",
       "      <td>8000775</td>\n",
       "      <td>0</td>\n",
       "      <td>Für Quick Lunch ganz ok</td>\n",
       "      <td>2023-05-02</td>\n",
       "      <td>thordym</td>\n",
       "      <td>Niebüll, Deutschland</td>\n",
       "      <td>Wir hatten nicht ganz viel Zeit für unser Mitt...</td>\n",
       "      <td>3.0</td>\n",
       "      <td>L'Osteria München Bogenhausen</td>\n",
       "      <td>de</td>\n",
       "      <td>de</td>\n",
       "    </tr>\n",
       "    <tr>\n",
       "      <th>13</th>\n",
       "      <td>888554589</td>\n",
       "      <td>8000775</td>\n",
       "      <td>0</td>\n",
       "      <td>Lecker und gemütlich</td>\n",
       "      <td>2023-05-01</td>\n",
       "      <td>Angelika B</td>\n",
       "      <td>None</td>\n",
       "      <td>Gemütliche Einrichtung und Atmosphäre. Leckere...</td>\n",
       "      <td>4.0</td>\n",
       "      <td>L'Osteria München Bogenhausen</td>\n",
       "      <td>de</td>\n",
       "      <td>de</td>\n",
       "    </tr>\n",
       "    <tr>\n",
       "      <th>14</th>\n",
       "      <td>886547453</td>\n",
       "      <td>8000775</td>\n",
       "      <td>0</td>\n",
       "      <td>Chaotische Zustände - Lange Wartezeiten - Kalt...</td>\n",
       "      <td>2023-04-17</td>\n",
       "      <td>Freedom10972899719</td>\n",
       "      <td>München, Deutschland</td>\n",
       "      <td>Grundsätzlich muss ich sagen, dass ich mit der...</td>\n",
       "      <td>1.0</td>\n",
       "      <td>L'Osteria München Bogenhausen</td>\n",
       "      <td>de</td>\n",
       "      <td>de</td>\n",
       "    </tr>\n",
       "    <tr>\n",
       "      <th>15</th>\n",
       "      <td>885333225</td>\n",
       "      <td>8000775</td>\n",
       "      <td>0</td>\n",
       "      <td>Lecker - Schnell - Freundlich</td>\n",
       "      <td>2023-04-08</td>\n",
       "      <td>HannahMaria1892</td>\n",
       "      <td>München, Deutschland</td>\n",
       "      <td>Wir waren mit der Familie an Ostersamstag in d...</td>\n",
       "      <td>5.0</td>\n",
       "      <td>L'Osteria München Bogenhausen</td>\n",
       "      <td>de</td>\n",
       "      <td>de</td>\n",
       "    </tr>\n",
       "    <tr>\n",
       "      <th>16</th>\n",
       "      <td>885147996</td>\n",
       "      <td>8000775</td>\n",
       "      <td>0</td>\n",
       "      <td>Lecker aber schlechter Service</td>\n",
       "      <td>2023-04-07</td>\n",
       "      <td>freddykrueger88</td>\n",
       "      <td>Achim, Deutschland</td>\n",
       "      <td>Erstmal wurde man gekonnt an der Tür ignoriert...</td>\n",
       "      <td>1.0</td>\n",
       "      <td>L'Osteria München Bogenhausen</td>\n",
       "      <td>de</td>\n",
       "      <td>de</td>\n",
       "    </tr>\n",
       "    <tr>\n",
       "      <th>17</th>\n",
       "      <td>883265167</td>\n",
       "      <td>8000775</td>\n",
       "      <td>0</td>\n",
       "      <td>Mittagessen</td>\n",
       "      <td>2023-03-23</td>\n",
       "      <td>629christinaz</td>\n",
       "      <td>None</td>\n",
       "      <td>Hat alles sehr gut gepasst ☺️ gerne kommen wir...</td>\n",
       "      <td>5.0</td>\n",
       "      <td>L'Osteria München Bogenhausen</td>\n",
       "      <td>de</td>\n",
       "      <td>de</td>\n",
       "    </tr>\n",
       "    <tr>\n",
       "      <th>18</th>\n",
       "      <td>882425450</td>\n",
       "      <td>8000775</td>\n",
       "      <td>0</td>\n",
       "      <td>Spontaner Besuch</td>\n",
       "      <td>2023-03-16</td>\n",
       "      <td>Anja B</td>\n",
       "      <td>None</td>\n",
       "      <td>Haben kurzfristig noch einen Platz bekommen. A...</td>\n",
       "      <td>5.0</td>\n",
       "      <td>L'Osteria München Bogenhausen</td>\n",
       "      <td>de</td>\n",
       "      <td>de</td>\n",
       "    </tr>\n",
       "    <tr>\n",
       "      <th>19</th>\n",
       "      <td>882207098</td>\n",
       "      <td>8000775</td>\n",
       "      <td>0</td>\n",
       "      <td>Super Essen</td>\n",
       "      <td>2023-03-14</td>\n",
       "      <td>PvW199999999999</td>\n",
       "      <td>None</td>\n",
       "      <td>Lecker Essen, super Service, Tolle Musik 😊Wir ...</td>\n",
       "      <td>5.0</td>\n",
       "      <td>L'Osteria München Bogenhausen</td>\n",
       "      <td>de</td>\n",
       "      <td>de</td>\n",
       "    </tr>\n",
       "    <tr>\n",
       "      <th>20</th>\n",
       "      <td>882200941</td>\n",
       "      <td>8000775</td>\n",
       "      <td>1</td>\n",
       "      <td>Sehr empfehlenswert</td>\n",
       "      <td>2023-03-14</td>\n",
       "      <td>Camper233000</td>\n",
       "      <td>San Francisco, Kalifornien</td>\n",
       "      <td>Service und Essen top, sehr empfehlenswert. To...</td>\n",
       "      <td>5.0</td>\n",
       "      <td>L'Osteria München Bogenhausen</td>\n",
       "      <td>de</td>\n",
       "      <td>de</td>\n",
       "    </tr>\n",
       "    <tr>\n",
       "      <th>21</th>\n",
       "      <td>882015493</td>\n",
       "      <td>8000775</td>\n",
       "      <td>1</td>\n",
       "      <td>zu laut, zu teuer</td>\n",
       "      <td>2023-03-13</td>\n",
       "      <td>badhotelturkey</td>\n",
       "      <td>None</td>\n",
       "      <td>die Pizzen mögen zwar groß sein, aber wenn die...</td>\n",
       "      <td>2.0</td>\n",
       "      <td>L'Osteria München Bogenhausen</td>\n",
       "      <td>de</td>\n",
       "      <td>de</td>\n",
       "    </tr>\n",
       "    <tr>\n",
       "      <th>22</th>\n",
       "      <td>881472448</td>\n",
       "      <td>8000775</td>\n",
       "      <td>1</td>\n",
       "      <td>Hervorragendes Essen und aufmerksame Bedienung</td>\n",
       "      <td>2023-03-08</td>\n",
       "      <td>711claudiaw</td>\n",
       "      <td>München, Deutschland</td>\n",
       "      <td>Das Essen ist super lecker, die Antipastiplatt...</td>\n",
       "      <td>5.0</td>\n",
       "      <td>L'Osteria München Bogenhausen</td>\n",
       "      <td>de</td>\n",
       "      <td>de</td>\n",
       "    </tr>\n",
       "    <tr>\n",
       "      <th>23</th>\n",
       "      <td>881226661</td>\n",
       "      <td>8000775</td>\n",
       "      <td>1</td>\n",
       "      <td>Gute Pizzen</td>\n",
       "      <td>2023-03-06</td>\n",
       "      <td>P3004WJmarkusk</td>\n",
       "      <td>München, Deutschland</td>\n",
       "      <td>Gute und leckere Pizzen aufmerksame und freund...</td>\n",
       "      <td>5.0</td>\n",
       "      <td>L'Osteria München Bogenhausen</td>\n",
       "      <td>de</td>\n",
       "      <td>de</td>\n",
       "    </tr>\n",
       "    <tr>\n",
       "      <th>24</th>\n",
       "      <td>880846130</td>\n",
       "      <td>8000775</td>\n",
       "      <td>1</td>\n",
       "      <td>liebst Pizza, gehst dahin!</td>\n",
       "      <td>2023-03-03</td>\n",
       "      <td>krobert231</td>\n",
       "      <td>Schweiz</td>\n",
       "      <td>An diesem Restaurant geht kein weg vorbei! Ein...</td>\n",
       "      <td>5.0</td>\n",
       "      <td>L'Osteria München Bogenhausen</td>\n",
       "      <td>de</td>\n",
       "      <td>de</td>\n",
       "    </tr>\n",
       "    <tr>\n",
       "      <th>25</th>\n",
       "      <td>880036139</td>\n",
       "      <td>8000775</td>\n",
       "      <td>1</td>\n",
       "      <td>Geburtstag</td>\n",
       "      <td>2023-02-25</td>\n",
       "      <td>jeanettepB2842JN</td>\n",
       "      <td>None</td>\n",
       "      <td>10 von 10 SternenTolle LocationLeckere Getränk...</td>\n",
       "      <td>5.0</td>\n",
       "      <td>L'Osteria München Bogenhausen</td>\n",
       "      <td>de</td>\n",
       "      <td>de</td>\n",
       "    </tr>\n",
       "    <tr>\n",
       "      <th>26</th>\n",
       "      <td>879603526</td>\n",
       "      <td>8000775</td>\n",
       "      <td>1</td>\n",
       "      <td>Rundum gelungener Abend</td>\n",
       "      <td>2023-02-21</td>\n",
       "      <td>jayaitsch</td>\n",
       "      <td>None</td>\n",
       "      <td>Sehr schönes Ambiente, nicht nur große, sonder...</td>\n",
       "      <td>5.0</td>\n",
       "      <td>L'Osteria München Bogenhausen</td>\n",
       "      <td>de</td>\n",
       "      <td>de</td>\n",
       "    </tr>\n",
       "    <tr>\n",
       "      <th>27</th>\n",
       "      <td>878704335</td>\n",
       "      <td>8000775</td>\n",
       "      <td>1</td>\n",
       "      <td>Top!</td>\n",
       "      <td>2023-02-14</td>\n",
       "      <td>939margaretek</td>\n",
       "      <td>None</td>\n",
       "      <td>Auch ohne Reservierung findet sich immer ein P...</td>\n",
       "      <td>5.0</td>\n",
       "      <td>L'Osteria München Bogenhausen</td>\n",
       "      <td>de</td>\n",
       "      <td>de</td>\n",
       "    </tr>\n",
       "    <tr>\n",
       "      <th>28</th>\n",
       "      <td>877562304</td>\n",
       "      <td>8000775</td>\n",
       "      <td>1</td>\n",
       "      <td>Super Service</td>\n",
       "      <td>2023-02-05</td>\n",
       "      <td>Christian P</td>\n",
       "      <td>None</td>\n",
       "      <td>Super angenehmer Service, wir haben gleich ein...</td>\n",
       "      <td>5.0</td>\n",
       "      <td>L'Osteria München Bogenhausen</td>\n",
       "      <td>de</td>\n",
       "      <td>de</td>\n",
       "    </tr>\n",
       "    <tr>\n",
       "      <th>29</th>\n",
       "      <td>877507559</td>\n",
       "      <td>8000775</td>\n",
       "      <td>1</td>\n",
       "      <td>Super</td>\n",
       "      <td>2023-02-05</td>\n",
       "      <td>NinaCPL</td>\n",
       "      <td>None</td>\n",
       "      <td>Haben uns bei unserem Besuch sehr wohl gefühlt...</td>\n",
       "      <td>5.0</td>\n",
       "      <td>L'Osteria München Bogenhausen</td>\n",
       "      <td>de</td>\n",
       "      <td>de</td>\n",
       "    </tr>\n",
       "    <tr>\n",
       "      <th>30</th>\n",
       "      <td>877130071</td>\n",
       "      <td>8000775</td>\n",
       "      <td>2</td>\n",
       "      <td>Nie wieder.</td>\n",
       "      <td>2023-02-01</td>\n",
       "      <td>A2B2_SurryHills</td>\n",
       "      <td>Sydney, Australien</td>\n",
       "      <td>Zweimal Pizza zur Lieferung bestellt, ein drit...</td>\n",
       "      <td>1.0</td>\n",
       "      <td>L'Osteria München Bogenhausen</td>\n",
       "      <td>de</td>\n",
       "      <td>de</td>\n",
       "    </tr>\n",
       "    <tr>\n",
       "      <th>31</th>\n",
       "      <td>873912904</td>\n",
       "      <td>8000775</td>\n",
       "      <td>2</td>\n",
       "      <td>Günstig am Ring gelegen</td>\n",
       "      <td>2023-01-04</td>\n",
       "      <td>Holger M</td>\n",
       "      <td>München, Deutschland</td>\n",
       "      <td>Bestellt, bekommen und gegessen habe ich ein V...</td>\n",
       "      <td>3.0</td>\n",
       "      <td>L'Osteria München Bogenhausen</td>\n",
       "      <td>de</td>\n",
       "      <td>de</td>\n",
       "    </tr>\n",
       "    <tr>\n",
       "      <th>32</th>\n",
       "      <td>872623932</td>\n",
       "      <td>8000775</td>\n",
       "      <td>2</td>\n",
       "      <td>Auf Online Bestellung 50 Minuten gewartet :-( ...</td>\n",
       "      <td>2022-12-23</td>\n",
       "      <td>Q3877IUmarkusf</td>\n",
       "      <td>None</td>\n",
       "      <td>Bloß nicht über das System bestellen - angebli...</td>\n",
       "      <td>1.0</td>\n",
       "      <td>L'Osteria München Bogenhausen</td>\n",
       "      <td>de</td>\n",
       "      <td>de</td>\n",
       "    </tr>\n",
       "    <tr>\n",
       "      <th>33</th>\n",
       "      <td>867616540</td>\n",
       "      <td>8000775</td>\n",
       "      <td>2</td>\n",
       "      <td>Schlechtester Service Münchens!!!!!</td>\n",
       "      <td>2022-11-07</td>\n",
       "      <td>tagarelli</td>\n",
       "      <td>München, Deutschland</td>\n",
       "      <td>Die Pizza mag ja gut sein....aber die Kellner ...</td>\n",
       "      <td>1.0</td>\n",
       "      <td>L'Osteria München Bogenhausen</td>\n",
       "      <td>de</td>\n",
       "      <td>de</td>\n",
       "    </tr>\n",
       "  </tbody>\n",
       "</table>\n",
       "</div>"
      ],
      "text/plain": [
       "    review_id  restaurant_id  page_index  \\\n",
       "0   867460923         778662           0   \n",
       "10  906970320        8000775           0   \n",
       "11  891912786        8000775           0   \n",
       "12  888709323        8000775           0   \n",
       "13  888554589        8000775           0   \n",
       "14  886547453        8000775           0   \n",
       "15  885333225        8000775           0   \n",
       "16  885147996        8000775           0   \n",
       "17  883265167        8000775           0   \n",
       "18  882425450        8000775           0   \n",
       "19  882207098        8000775           0   \n",
       "20  882200941        8000775           1   \n",
       "21  882015493        8000775           1   \n",
       "22  881472448        8000775           1   \n",
       "23  881226661        8000775           1   \n",
       "24  880846130        8000775           1   \n",
       "25  880036139        8000775           1   \n",
       "26  879603526        8000775           1   \n",
       "27  878704335        8000775           1   \n",
       "28  877562304        8000775           1   \n",
       "29  877507559        8000775           1   \n",
       "30  877130071        8000775           2   \n",
       "31  873912904        8000775           2   \n",
       "32  872623932        8000775           2   \n",
       "33  867616540        8000775           2   \n",
       "\n",
       "                                                title       date  \\\n",
       "0                                Absolut enttäuschend 2022-11-06   \n",
       "10       Unverschämter Kellner … Blondi mit Goldkette 2023-07-31   \n",
       "11                                    Gerne wieder!!! 2023-05-25   \n",
       "12                            Für Quick Lunch ganz ok 2023-05-02   \n",
       "13                               Lecker und gemütlich 2023-05-01   \n",
       "14  Chaotische Zustände - Lange Wartezeiten - Kalt... 2023-04-17   \n",
       "15                      Lecker - Schnell - Freundlich 2023-04-08   \n",
       "16                     Lecker aber schlechter Service 2023-04-07   \n",
       "17                                        Mittagessen 2023-03-23   \n",
       "18                                   Spontaner Besuch 2023-03-16   \n",
       "19                                        Super Essen 2023-03-14   \n",
       "20                                Sehr empfehlenswert 2023-03-14   \n",
       "21                                  zu laut, zu teuer 2023-03-13   \n",
       "22     Hervorragendes Essen und aufmerksame Bedienung 2023-03-08   \n",
       "23                                        Gute Pizzen 2023-03-06   \n",
       "24                         liebst Pizza, gehst dahin! 2023-03-03   \n",
       "25                                         Geburtstag 2023-02-25   \n",
       "26                            Rundum gelungener Abend 2023-02-21   \n",
       "27                                               Top! 2023-02-14   \n",
       "28                                      Super Service 2023-02-05   \n",
       "29                                              Super 2023-02-05   \n",
       "30                                        Nie wieder. 2023-02-01   \n",
       "31                            Günstig am Ring gelegen 2023-01-04   \n",
       "32  Auf Online Bestellung 50 Minuten gewartet :-( ... 2022-12-23   \n",
       "33                Schlechtester Service Münchens!!!!! 2022-11-07   \n",
       "\n",
       "           author_name             author_location  \\\n",
       "0     BackPacker563486         Berlin, Deutschland   \n",
       "10         MichaelA759       Biberach, Deutschland   \n",
       "11            Mirjam H                        None   \n",
       "12             thordym        Niebüll, Deutschland   \n",
       "13          Angelika B                        None   \n",
       "14  Freedom10972899719        München, Deutschland   \n",
       "15     HannahMaria1892        München, Deutschland   \n",
       "16     freddykrueger88          Achim, Deutschland   \n",
       "17       629christinaz                        None   \n",
       "18              Anja B                        None   \n",
       "19     PvW199999999999                        None   \n",
       "20        Camper233000  San Francisco, Kalifornien   \n",
       "21      badhotelturkey                        None   \n",
       "22         711claudiaw        München, Deutschland   \n",
       "23      P3004WJmarkusk        München, Deutschland   \n",
       "24          krobert231                     Schweiz   \n",
       "25    jeanettepB2842JN                        None   \n",
       "26           jayaitsch                        None   \n",
       "27       939margaretek                        None   \n",
       "28         Christian P                        None   \n",
       "29             NinaCPL                        None   \n",
       "30     A2B2_SurryHills          Sydney, Australien   \n",
       "31            Holger M        München, Deutschland   \n",
       "32      Q3877IUmarkusf                        None   \n",
       "33           tagarelli        München, Deutschland   \n",
       "\n",
       "                                                 text  rating  \\\n",
       "0   Die schlechteste Pasta aglio olio ever!!! Schm...     1.0   \n",
       "10  Wir sind eigentlich große Freunde der Osteria-...     1.0   \n",
       "11  Tolle Qualität der Speisen, gute Lage des Loka...     5.0   \n",
       "12  Wir hatten nicht ganz viel Zeit für unser Mitt...     3.0   \n",
       "13  Gemütliche Einrichtung und Atmosphäre. Leckere...     4.0   \n",
       "14  Grundsätzlich muss ich sagen, dass ich mit der...     1.0   \n",
       "15  Wir waren mit der Familie an Ostersamstag in d...     5.0   \n",
       "16  Erstmal wurde man gekonnt an der Tür ignoriert...     1.0   \n",
       "17  Hat alles sehr gut gepasst ☺️ gerne kommen wir...     5.0   \n",
       "18  Haben kurzfristig noch einen Platz bekommen. A...     5.0   \n",
       "19  Lecker Essen, super Service, Tolle Musik 😊Wir ...     5.0   \n",
       "20  Service und Essen top, sehr empfehlenswert. To...     5.0   \n",
       "21  die Pizzen mögen zwar groß sein, aber wenn die...     2.0   \n",
       "22  Das Essen ist super lecker, die Antipastiplatt...     5.0   \n",
       "23  Gute und leckere Pizzen aufmerksame und freund...     5.0   \n",
       "24  An diesem Restaurant geht kein weg vorbei! Ein...     5.0   \n",
       "25  10 von 10 SternenTolle LocationLeckere Getränk...     5.0   \n",
       "26  Sehr schönes Ambiente, nicht nur große, sonder...     5.0   \n",
       "27  Auch ohne Reservierung findet sich immer ein P...     5.0   \n",
       "28  Super angenehmer Service, wir haben gleich ein...     5.0   \n",
       "29  Haben uns bei unserem Besuch sehr wohl gefühlt...     5.0   \n",
       "30  Zweimal Pizza zur Lieferung bestellt, ein drit...     1.0   \n",
       "31  Bestellt, bekommen und gegessen habe ich ein V...     3.0   \n",
       "32  Bloß nicht über das System bestellen - angebli...     1.0   \n",
       "33  Die Pizza mag ja gut sein....aber die Kellner ...     1.0   \n",
       "\n",
       "                    restaurant_name language_code detected_language  \n",
       "0                          Vapiano             de                de  \n",
       "10   L'Osteria München Bogenhausen             de                de  \n",
       "11   L'Osteria München Bogenhausen             de                de  \n",
       "12   L'Osteria München Bogenhausen             de                de  \n",
       "13   L'Osteria München Bogenhausen             de                de  \n",
       "14   L'Osteria München Bogenhausen             de                de  \n",
       "15   L'Osteria München Bogenhausen             de                de  \n",
       "16   L'Osteria München Bogenhausen             de                de  \n",
       "17   L'Osteria München Bogenhausen             de                de  \n",
       "18   L'Osteria München Bogenhausen             de                de  \n",
       "19   L'Osteria München Bogenhausen             de                de  \n",
       "20   L'Osteria München Bogenhausen             de                de  \n",
       "21   L'Osteria München Bogenhausen             de                de  \n",
       "22   L'Osteria München Bogenhausen             de                de  \n",
       "23   L'Osteria München Bogenhausen             de                de  \n",
       "24   L'Osteria München Bogenhausen             de                de  \n",
       "25   L'Osteria München Bogenhausen             de                de  \n",
       "26   L'Osteria München Bogenhausen             de                de  \n",
       "27   L'Osteria München Bogenhausen             de                de  \n",
       "28   L'Osteria München Bogenhausen             de                de  \n",
       "29   L'Osteria München Bogenhausen             de                de  \n",
       "30   L'Osteria München Bogenhausen             de                de  \n",
       "31   L'Osteria München Bogenhausen             de                de  \n",
       "32   L'Osteria München Bogenhausen             de                de  \n",
       "33   L'Osteria München Bogenhausen             de                de  "
      ]
     },
     "execution_count": 18,
     "metadata": {},
     "output_type": "execute_result"
    }
   ],
   "source": [
    "df_reviews"
   ]
  },
  {
   "cell_type": "markdown",
   "id": "d45c4cf8-0f03-45c1-9c6f-e8a0d0d8e62b",
   "metadata": {},
   "source": [
    "### Anonymise"
   ]
  },
  {
   "cell_type": "code",
   "execution_count": 19,
   "id": "a9e4c2fd-2618-482f-8ac5-d5efe9da612a",
   "metadata": {},
   "outputs": [],
   "source": [
    "df_reviews[\"text_noanonymization\"] = df_reviews[\"text\"]"
   ]
  },
  {
   "cell_type": "code",
   "execution_count": 20,
   "id": "74a83b9d-6c3c-43bd-a670-62f183632c40",
   "metadata": {},
   "outputs": [],
   "source": [
    "def anonymize_entities(text):\n",
    "    doc = nlp(text)\n",
    "    for ent in doc.ents:\n",
    "        if ent.label_ in [\"LOC\", \"PERSON\", \"DATE\"] and ent.label_ != \"Essen\":\n",
    "            text = text.replace(ent.text, f\"<{ent.label_}>\")\n",
    "    return text\n",
    "\n",
    "df_reviews[\"text\"] = df_reviews[\"text\"].apply(anonymize_entities)"
   ]
  },
  {
   "cell_type": "code",
   "execution_count": 21,
   "id": "e51fe9c2-5811-4ecf-915a-9ce40508886b",
   "metadata": {},
   "outputs": [],
   "source": [
    "def anonymize_username(text, username):\n",
    "    return text.replace(username, \"<PERSON>\")\n",
    "df_reviews[\"text\"] = df_reviews.apply(lambda row: anonymize_username(row[\"text\"], row[\"author_name\"]), axis=1)"
   ]
  },
  {
   "cell_type": "markdown",
   "id": "ec43bc38-0a15-497b-877d-2c4303e9ec9e",
   "metadata": {},
   "source": [
    "### Filter Sentences"
   ]
  },
  {
   "cell_type": "code",
   "execution_count": 22,
   "id": "7073afac-e189-4eee-8c34-131f30775142",
   "metadata": {
    "tags": []
   },
   "outputs": [],
   "source": [
    "df_reviews_sentences = pd.DataFrame(columns=list(df_reviews.columns) + ['sentence_idx'])\n",
    "\n",
    "for idx, row in df_reviews.iterrows():\n",
    "    sentences = sent_tokenize(row['text'])\n",
    "    sentence_index = 0\n",
    "    for sentence in sentences:\n",
    "        new_row = row.copy()  # Kopiere die gesamte Zeile\n",
    "        new_row['text'] = sentence  # Setze 'text' auf den aktuellen Satz\n",
    "        new_row['sentence_idx'] = sentence_index\n",
    "        df_reviews_sentences.loc[len(df_reviews_sentences)] = new_row\n",
    "        sentence_index += 1"
   ]
  },
  {
   "cell_type": "code",
   "execution_count": 23,
   "id": "c68409e3-39ee-4983-919f-69158989f48b",
   "metadata": {
    "tags": []
   },
   "outputs": [
    {
     "data": {
      "text/html": [
       "<div>\n",
       "<style scoped>\n",
       "    .dataframe tbody tr th:only-of-type {\n",
       "        vertical-align: middle;\n",
       "    }\n",
       "\n",
       "    .dataframe tbody tr th {\n",
       "        vertical-align: top;\n",
       "    }\n",
       "\n",
       "    .dataframe thead th {\n",
       "        text-align: right;\n",
       "    }\n",
       "</style>\n",
       "<table border=\"1\" class=\"dataframe\">\n",
       "  <thead>\n",
       "    <tr style=\"text-align: right;\">\n",
       "      <th></th>\n",
       "      <th>review_id</th>\n",
       "      <th>restaurant_id</th>\n",
       "      <th>page_index</th>\n",
       "      <th>title</th>\n",
       "      <th>date</th>\n",
       "      <th>author_name</th>\n",
       "      <th>author_location</th>\n",
       "      <th>text</th>\n",
       "      <th>rating</th>\n",
       "      <th>restaurant_name</th>\n",
       "      <th>language_code</th>\n",
       "      <th>detected_language</th>\n",
       "      <th>text_noanonymization</th>\n",
       "      <th>sentence_idx</th>\n",
       "    </tr>\n",
       "  </thead>\n",
       "  <tbody>\n",
       "    <tr>\n",
       "      <th>0</th>\n",
       "      <td>867460923</td>\n",
       "      <td>778662</td>\n",
       "      <td>0</td>\n",
       "      <td>Absolut enttäuschend</td>\n",
       "      <td>2022-11-06</td>\n",
       "      <td>BackPacker563486</td>\n",
       "      <td>Berlin, Deutschland</td>\n",
       "      <td>Die schlechteste Pasta aglio olio ever!!!</td>\n",
       "      <td>1.0</td>\n",
       "      <td>Vapiano</td>\n",
       "      <td>de</td>\n",
       "      <td>de</td>\n",
       "      <td>Die schlechteste Pasta aglio olio ever!!! Schm...</td>\n",
       "      <td>0</td>\n",
       "    </tr>\n",
       "    <tr>\n",
       "      <th>1</th>\n",
       "      <td>867460923</td>\n",
       "      <td>778662</td>\n",
       "      <td>0</td>\n",
       "      <td>Absolut enttäuschend</td>\n",
       "      <td>2022-11-06</td>\n",
       "      <td>BackPacker563486</td>\n",
       "      <td>Berlin, Deutschland</td>\n",
       "      <td>Schmeckte absolut nach nichts.</td>\n",
       "      <td>1.0</td>\n",
       "      <td>Vapiano</td>\n",
       "      <td>de</td>\n",
       "      <td>de</td>\n",
       "      <td>Die schlechteste Pasta aglio olio ever!!! Schm...</td>\n",
       "      <td>1</td>\n",
       "    </tr>\n",
       "    <tr>\n",
       "      <th>2</th>\n",
       "      <td>867460923</td>\n",
       "      <td>778662</td>\n",
       "      <td>0</td>\n",
       "      <td>Absolut enttäuschend</td>\n",
       "      <td>2022-11-06</td>\n",
       "      <td>BackPacker563486</td>\n",
       "      <td>Berlin, Deutschland</td>\n",
       "      <td>Unmotiviertes Personal.</td>\n",
       "      <td>1.0</td>\n",
       "      <td>Vapiano</td>\n",
       "      <td>de</td>\n",
       "      <td>de</td>\n",
       "      <td>Die schlechteste Pasta aglio olio ever!!! Schm...</td>\n",
       "      <td>2</td>\n",
       "    </tr>\n",
       "    <tr>\n",
       "      <th>3</th>\n",
       "      <td>867460923</td>\n",
       "      <td>778662</td>\n",
       "      <td>0</td>\n",
       "      <td>Absolut enttäuschend</td>\n",
       "      <td>2022-11-06</td>\n",
       "      <td>BackPacker563486</td>\n",
       "      <td>Berlin, Deutschland</td>\n",
       "      <td>Das hat rein gar nichts mit italienischer Lebe...</td>\n",
       "      <td>1.0</td>\n",
       "      <td>Vapiano</td>\n",
       "      <td>de</td>\n",
       "      <td>de</td>\n",
       "      <td>Die schlechteste Pasta aglio olio ever!!! Schm...</td>\n",
       "      <td>3</td>\n",
       "    </tr>\n",
       "    <tr>\n",
       "      <th>4</th>\n",
       "      <td>906970320</td>\n",
       "      <td>8000775</td>\n",
       "      <td>0</td>\n",
       "      <td>Unverschämter Kellner … Blondi mit Goldkette</td>\n",
       "      <td>2023-07-31</td>\n",
       "      <td>MichaelA759</td>\n",
       "      <td>Biberach, Deutschland</td>\n",
       "      <td>Wir sind eigentlich große Freunde der Osteria-...</td>\n",
       "      <td>1.0</td>\n",
       "      <td>L'Osteria München Bogenhausen</td>\n",
       "      <td>de</td>\n",
       "      <td>de</td>\n",
       "      <td>Wir sind eigentlich große Freunde der Osteria-...</td>\n",
       "      <td>0</td>\n",
       "    </tr>\n",
       "    <tr>\n",
       "      <th>...</th>\n",
       "      <td>...</td>\n",
       "      <td>...</td>\n",
       "      <td>...</td>\n",
       "      <td>...</td>\n",
       "      <td>...</td>\n",
       "      <td>...</td>\n",
       "      <td>...</td>\n",
       "      <td>...</td>\n",
       "      <td>...</td>\n",
       "      <td>...</td>\n",
       "      <td>...</td>\n",
       "      <td>...</td>\n",
       "      <td>...</td>\n",
       "      <td>...</td>\n",
       "    </tr>\n",
       "    <tr>\n",
       "      <th>74</th>\n",
       "      <td>873912904</td>\n",
       "      <td>8000775</td>\n",
       "      <td>2</td>\n",
       "      <td>Günstig am Ring gelegen</td>\n",
       "      <td>2023-01-04</td>\n",
       "      <td>Holger M</td>\n",
       "      <td>München, Deutschland</td>\n",
       "      <td>Kurz: es hat geschmeckt.</td>\n",
       "      <td>3.0</td>\n",
       "      <td>L'Osteria München Bogenhausen</td>\n",
       "      <td>de</td>\n",
       "      <td>de</td>\n",
       "      <td>Bestellt, bekommen und gegessen habe ich ein V...</td>\n",
       "      <td>1</td>\n",
       "    </tr>\n",
       "    <tr>\n",
       "      <th>75</th>\n",
       "      <td>873912904</td>\n",
       "      <td>8000775</td>\n",
       "      <td>2</td>\n",
       "      <td>Günstig am Ring gelegen</td>\n",
       "      <td>2023-01-04</td>\n",
       "      <td>Holger M</td>\n",
       "      <td>München, Deutschland</td>\n",
       "      <td>Die Thunfischsoße, große Kapern und einwandfre...</td>\n",
       "      <td>3.0</td>\n",
       "      <td>L'Osteria München Bogenhausen</td>\n",
       "      <td>de</td>\n",
       "      <td>de</td>\n",
       "      <td>Bestellt, bekommen und gegessen habe ich ein V...</td>\n",
       "      <td>2</td>\n",
       "    </tr>\n",
       "    <tr>\n",
       "      <th>76</th>\n",
       "      <td>873912904</td>\n",
       "      <td>8000775</td>\n",
       "      <td>2</td>\n",
       "      <td>Günstig am Ring gelegen</td>\n",
       "      <td>2023-01-04</td>\n",
       "      <td>Holger M</td>\n",
       "      <td>München, Deutschland</td>\n",
       "      <td>Die Umstände wie Service, Location waren voll ...</td>\n",
       "      <td>3.0</td>\n",
       "      <td>L'Osteria München Bogenhausen</td>\n",
       "      <td>de</td>\n",
       "      <td>de</td>\n",
       "      <td>Bestellt, bekommen und gegessen habe ich ein V...</td>\n",
       "      <td>3</td>\n",
       "    </tr>\n",
       "    <tr>\n",
       "      <th>77</th>\n",
       "      <td>872623932</td>\n",
       "      <td>8000775</td>\n",
       "      <td>2</td>\n",
       "      <td>Auf Online Bestellung 50 Minuten gewartet :-( ...</td>\n",
       "      <td>2022-12-23</td>\n",
       "      <td>Q3877IUmarkusf</td>\n",
       "      <td>None</td>\n",
       "      <td>Bloß nicht über das System bestellen - angebli...</td>\n",
       "      <td>1.0</td>\n",
       "      <td>L'Osteria München Bogenhausen</td>\n",
       "      <td>de</td>\n",
       "      <td>de</td>\n",
       "      <td>Bloß nicht über das System bestellen - angebli...</td>\n",
       "      <td>0</td>\n",
       "    </tr>\n",
       "    <tr>\n",
       "      <th>78</th>\n",
       "      <td>867616540</td>\n",
       "      <td>8000775</td>\n",
       "      <td>2</td>\n",
       "      <td>Schlechtester Service Münchens!!!!!</td>\n",
       "      <td>2022-11-07</td>\n",
       "      <td>tagarelli</td>\n",
       "      <td>München, Deutschland</td>\n",
       "      <td>Die Pizza mag ja gut sein....aber die Kellner ...</td>\n",
       "      <td>1.0</td>\n",
       "      <td>L'Osteria München Bogenhausen</td>\n",
       "      <td>de</td>\n",
       "      <td>de</td>\n",
       "      <td>Die Pizza mag ja gut sein....aber die Kellner ...</td>\n",
       "      <td>0</td>\n",
       "    </tr>\n",
       "  </tbody>\n",
       "</table>\n",
       "<p>79 rows × 14 columns</p>\n",
       "</div>"
      ],
      "text/plain": [
       "    review_id restaurant_id page_index  \\\n",
       "0   867460923        778662          0   \n",
       "1   867460923        778662          0   \n",
       "2   867460923        778662          0   \n",
       "3   867460923        778662          0   \n",
       "4   906970320       8000775          0   \n",
       "..        ...           ...        ...   \n",
       "74  873912904       8000775          2   \n",
       "75  873912904       8000775          2   \n",
       "76  873912904       8000775          2   \n",
       "77  872623932       8000775          2   \n",
       "78  867616540       8000775          2   \n",
       "\n",
       "                                                title       date  \\\n",
       "0                                Absolut enttäuschend 2022-11-06   \n",
       "1                                Absolut enttäuschend 2022-11-06   \n",
       "2                                Absolut enttäuschend 2022-11-06   \n",
       "3                                Absolut enttäuschend 2022-11-06   \n",
       "4        Unverschämter Kellner … Blondi mit Goldkette 2023-07-31   \n",
       "..                                                ...        ...   \n",
       "74                            Günstig am Ring gelegen 2023-01-04   \n",
       "75                            Günstig am Ring gelegen 2023-01-04   \n",
       "76                            Günstig am Ring gelegen 2023-01-04   \n",
       "77  Auf Online Bestellung 50 Minuten gewartet :-( ... 2022-12-23   \n",
       "78                Schlechtester Service Münchens!!!!! 2022-11-07   \n",
       "\n",
       "         author_name        author_location  \\\n",
       "0   BackPacker563486    Berlin, Deutschland   \n",
       "1   BackPacker563486    Berlin, Deutschland   \n",
       "2   BackPacker563486    Berlin, Deutschland   \n",
       "3   BackPacker563486    Berlin, Deutschland   \n",
       "4        MichaelA759  Biberach, Deutschland   \n",
       "..               ...                    ...   \n",
       "74          Holger M   München, Deutschland   \n",
       "75          Holger M   München, Deutschland   \n",
       "76          Holger M   München, Deutschland   \n",
       "77    Q3877IUmarkusf                   None   \n",
       "78         tagarelli   München, Deutschland   \n",
       "\n",
       "                                                 text rating  \\\n",
       "0           Die schlechteste Pasta aglio olio ever!!!    1.0   \n",
       "1                      Schmeckte absolut nach nichts.    1.0   \n",
       "2                             Unmotiviertes Personal.    1.0   \n",
       "3   Das hat rein gar nichts mit italienischer Lebe...    1.0   \n",
       "4   Wir sind eigentlich große Freunde der Osteria-...    1.0   \n",
       "..                                                ...    ...   \n",
       "74                           Kurz: es hat geschmeckt.    3.0   \n",
       "75  Die Thunfischsoße, große Kapern und einwandfre...    3.0   \n",
       "76  Die Umstände wie Service, Location waren voll ...    3.0   \n",
       "77  Bloß nicht über das System bestellen - angebli...    1.0   \n",
       "78  Die Pizza mag ja gut sein....aber die Kellner ...    1.0   \n",
       "\n",
       "                    restaurant_name language_code detected_language  \\\n",
       "0                          Vapiano             de                de   \n",
       "1                          Vapiano             de                de   \n",
       "2                          Vapiano             de                de   \n",
       "3                          Vapiano             de                de   \n",
       "4    L'Osteria München Bogenhausen             de                de   \n",
       "..                              ...           ...               ...   \n",
       "74   L'Osteria München Bogenhausen             de                de   \n",
       "75   L'Osteria München Bogenhausen             de                de   \n",
       "76   L'Osteria München Bogenhausen             de                de   \n",
       "77   L'Osteria München Bogenhausen             de                de   \n",
       "78   L'Osteria München Bogenhausen             de                de   \n",
       "\n",
       "                                 text_noanonymization sentence_idx  \n",
       "0   Die schlechteste Pasta aglio olio ever!!! Schm...            0  \n",
       "1   Die schlechteste Pasta aglio olio ever!!! Schm...            1  \n",
       "2   Die schlechteste Pasta aglio olio ever!!! Schm...            2  \n",
       "3   Die schlechteste Pasta aglio olio ever!!! Schm...            3  \n",
       "4   Wir sind eigentlich große Freunde der Osteria-...            0  \n",
       "..                                                ...          ...  \n",
       "74  Bestellt, bekommen und gegessen habe ich ein V...            1  \n",
       "75  Bestellt, bekommen und gegessen habe ich ein V...            2  \n",
       "76  Bestellt, bekommen und gegessen habe ich ein V...            3  \n",
       "77  Bloß nicht über das System bestellen - angebli...            0  \n",
       "78  Die Pizza mag ja gut sein....aber die Kellner ...            0  \n",
       "\n",
       "[79 rows x 14 columns]"
      ]
     },
     "execution_count": 23,
     "metadata": {},
     "output_type": "execute_result"
    }
   ],
   "source": [
    "df_reviews_sentences"
   ]
  },
  {
   "cell_type": "code",
   "execution_count": 24,
   "id": "d9d0b04f-d175-48d1-9f4c-6779ebdf5974",
   "metadata": {
    "tags": []
   },
   "outputs": [
    {
     "data": {
      "text/html": [
       "<div>\n",
       "<style scoped>\n",
       "    .dataframe tbody tr th:only-of-type {\n",
       "        vertical-align: middle;\n",
       "    }\n",
       "\n",
       "    .dataframe tbody tr th {\n",
       "        vertical-align: top;\n",
       "    }\n",
       "\n",
       "    .dataframe thead th {\n",
       "        text-align: right;\n",
       "    }\n",
       "</style>\n",
       "<table border=\"1\" class=\"dataframe\">\n",
       "  <thead>\n",
       "    <tr style=\"text-align: right;\">\n",
       "      <th></th>\n",
       "      <th>review_id</th>\n",
       "      <th>restaurant_id</th>\n",
       "      <th>page_index</th>\n",
       "      <th>title</th>\n",
       "      <th>date</th>\n",
       "      <th>author_name</th>\n",
       "      <th>author_location</th>\n",
       "      <th>text</th>\n",
       "      <th>rating</th>\n",
       "      <th>restaurant_name</th>\n",
       "      <th>language_code</th>\n",
       "      <th>detected_language</th>\n",
       "      <th>text_noanonymization</th>\n",
       "      <th>sentence_idx</th>\n",
       "    </tr>\n",
       "  </thead>\n",
       "  <tbody>\n",
       "  </tbody>\n",
       "</table>\n",
       "</div>"
      ],
      "text/plain": [
       "Empty DataFrame\n",
       "Columns: [review_id, restaurant_id, page_index, title, date, author_name, author_location, text, rating, restaurant_name, language_code, detected_language, text_noanonymization, sentence_idx]\n",
       "Index: []"
      ]
     },
     "execution_count": 24,
     "metadata": {},
     "output_type": "execute_result"
    }
   ],
   "source": [
    "df_reviews_sentences[df_reviews_sentences[\"text\"].str.contains(\"maske\", case=False)]"
   ]
  },
  {
   "cell_type": "code",
   "execution_count": 25,
   "id": "17745c49-0731-4a53-9d7f-30b1cdbd2882",
   "metadata": {
    "tags": []
   },
   "outputs": [
    {
     "data": {
      "text/plain": [
       "rating\n",
       "5.0    35\n",
       "1.0    34\n",
       "3.0     5\n",
       "2.0     3\n",
       "4.0     2\n",
       "Name: count, dtype: int64"
      ]
     },
     "execution_count": 25,
     "metadata": {},
     "output_type": "execute_result"
    }
   ],
   "source": [
    "df_reviews_sentences[\"rating\"].value_counts()"
   ]
  },
  {
   "cell_type": "markdown",
   "id": "8fa015fe-937a-48d1-9cfd-de11cbc43ba7",
   "metadata": {},
   "source": [
    "### Balancing"
   ]
  },
  {
   "cell_type": "code",
   "execution_count": 26,
   "id": "f2ac7535-1b60-4562-bb26-495d6735d8da",
   "metadata": {
    "tags": []
   },
   "outputs": [
    {
     "ename": "ValueError",
     "evalue": "Cannot take a larger sample than population when 'replace=False'",
     "output_type": "error",
     "traceback": [
      "\u001b[0;31m---------------------------------------------------------------------------\u001b[0m",
      "\u001b[0;31mValueError\u001b[0m                                Traceback (most recent call last)",
      "Cell \u001b[0;32mIn[26], line 1\u001b[0m\n\u001b[0;32m----> 1\u001b[0m df_balanced_reviews_sentences \u001b[38;5;241m=\u001b[39m \u001b[43mdf_reviews_sentences\u001b[49m\u001b[38;5;241;43m.\u001b[39;49m\u001b[43mgroupby\u001b[49m\u001b[43m(\u001b[49m\u001b[43m[\u001b[49m\u001b[38;5;124;43m'\u001b[39;49m\u001b[38;5;124;43mrating\u001b[39;49m\u001b[38;5;124;43m'\u001b[39;49m\u001b[43m]\u001b[49m\u001b[43m,\u001b[49m\u001b[43m \u001b[49m\u001b[43mgroup_keys\u001b[49m\u001b[38;5;241;43m=\u001b[39;49m\u001b[38;5;28;43;01mFalse\u001b[39;49;00m\u001b[43m)\u001b[49m\u001b[38;5;241;43m.\u001b[39;49m\u001b[43mapply\u001b[49m\u001b[43m(\u001b[49m\u001b[38;5;28;43;01mlambda\u001b[39;49;00m\u001b[43m \u001b[49m\u001b[43mx\u001b[49m\u001b[43m:\u001b[49m\u001b[43m \u001b[49m\u001b[43mx\u001b[49m\u001b[38;5;241;43m.\u001b[39;49m\u001b[43msample\u001b[49m\u001b[43m(\u001b[49m\u001b[38;5;241;43m150\u001b[39;49m\u001b[43m,\u001b[49m\u001b[43m \u001b[49m\u001b[43mreplace\u001b[49m\u001b[38;5;241;43m=\u001b[39;49m\u001b[38;5;28;43;01mFalse\u001b[39;49;00m\u001b[43m,\u001b[49m\u001b[43m \u001b[49m\u001b[43mrandom_state\u001b[49m\u001b[38;5;241;43m=\u001b[39;49m\u001b[43mRANDOM_STATE\u001b[49m\u001b[43m)\u001b[49m\u001b[43m)\u001b[49m\n\u001b[1;32m      2\u001b[0m df_balanced_reviews_sentences\u001b[38;5;241m.\u001b[39mreset_index(drop\u001b[38;5;241m=\u001b[39m\u001b[38;5;28;01mTrue\u001b[39;00m, inplace\u001b[38;5;241m=\u001b[39m\u001b[38;5;28;01mTrue\u001b[39;00m)\n\u001b[1;32m      3\u001b[0m df_balanced_reviews_sentences\n",
      "File \u001b[0;32m/opt/homebrew/Caskroom/miniforge/base/envs/tensorflow_m1/lib/python3.11/site-packages/pandas/core/groupby/groupby.py:1353\u001b[0m, in \u001b[0;36mGroupBy.apply\u001b[0;34m(self, func, *args, **kwargs)\u001b[0m\n\u001b[1;32m   1351\u001b[0m \u001b[38;5;28;01mwith\u001b[39;00m option_context(\u001b[38;5;124m\"\u001b[39m\u001b[38;5;124mmode.chained_assignment\u001b[39m\u001b[38;5;124m\"\u001b[39m, \u001b[38;5;28;01mNone\u001b[39;00m):\n\u001b[1;32m   1352\u001b[0m     \u001b[38;5;28;01mtry\u001b[39;00m:\n\u001b[0;32m-> 1353\u001b[0m         result \u001b[38;5;241m=\u001b[39m \u001b[38;5;28;43mself\u001b[39;49m\u001b[38;5;241;43m.\u001b[39;49m\u001b[43m_python_apply_general\u001b[49m\u001b[43m(\u001b[49m\u001b[43mf\u001b[49m\u001b[43m,\u001b[49m\u001b[43m \u001b[49m\u001b[38;5;28;43mself\u001b[39;49m\u001b[38;5;241;43m.\u001b[39;49m\u001b[43m_selected_obj\u001b[49m\u001b[43m)\u001b[49m\n\u001b[1;32m   1354\u001b[0m     \u001b[38;5;28;01mexcept\u001b[39;00m \u001b[38;5;167;01mTypeError\u001b[39;00m:\n\u001b[1;32m   1355\u001b[0m         \u001b[38;5;66;03m# gh-20949\u001b[39;00m\n\u001b[1;32m   1356\u001b[0m         \u001b[38;5;66;03m# try again, with .apply acting as a filtering\u001b[39;00m\n\u001b[0;32m   (...)\u001b[0m\n\u001b[1;32m   1360\u001b[0m         \u001b[38;5;66;03m# fails on *some* columns, e.g. a numeric operation\u001b[39;00m\n\u001b[1;32m   1361\u001b[0m         \u001b[38;5;66;03m# on a string grouper column\u001b[39;00m\n\u001b[1;32m   1363\u001b[0m         \u001b[38;5;28;01mreturn\u001b[39;00m \u001b[38;5;28mself\u001b[39m\u001b[38;5;241m.\u001b[39m_python_apply_general(f, \u001b[38;5;28mself\u001b[39m\u001b[38;5;241m.\u001b[39m_obj_with_exclusions)\n",
      "File \u001b[0;32m/opt/homebrew/Caskroom/miniforge/base/envs/tensorflow_m1/lib/python3.11/site-packages/pandas/core/groupby/groupby.py:1402\u001b[0m, in \u001b[0;36mGroupBy._python_apply_general\u001b[0;34m(self, f, data, not_indexed_same, is_transform, is_agg)\u001b[0m\n\u001b[1;32m   1367\u001b[0m \u001b[38;5;129m@final\u001b[39m\n\u001b[1;32m   1368\u001b[0m \u001b[38;5;28;01mdef\u001b[39;00m \u001b[38;5;21m_python_apply_general\u001b[39m(\n\u001b[1;32m   1369\u001b[0m     \u001b[38;5;28mself\u001b[39m,\n\u001b[0;32m   (...)\u001b[0m\n\u001b[1;32m   1374\u001b[0m     is_agg: \u001b[38;5;28mbool\u001b[39m \u001b[38;5;241m=\u001b[39m \u001b[38;5;28;01mFalse\u001b[39;00m,\n\u001b[1;32m   1375\u001b[0m ) \u001b[38;5;241m-\u001b[39m\u001b[38;5;241m>\u001b[39m NDFrameT:\n\u001b[1;32m   1376\u001b[0m \u001b[38;5;250m    \u001b[39m\u001b[38;5;124;03m\"\"\"\u001b[39;00m\n\u001b[1;32m   1377\u001b[0m \u001b[38;5;124;03m    Apply function f in python space\u001b[39;00m\n\u001b[1;32m   1378\u001b[0m \n\u001b[0;32m   (...)\u001b[0m\n\u001b[1;32m   1400\u001b[0m \u001b[38;5;124;03m        data after applying f\u001b[39;00m\n\u001b[1;32m   1401\u001b[0m \u001b[38;5;124;03m    \"\"\"\u001b[39;00m\n\u001b[0;32m-> 1402\u001b[0m     values, mutated \u001b[38;5;241m=\u001b[39m \u001b[38;5;28;43mself\u001b[39;49m\u001b[38;5;241;43m.\u001b[39;49m\u001b[43mgrouper\u001b[49m\u001b[38;5;241;43m.\u001b[39;49m\u001b[43mapply\u001b[49m\u001b[43m(\u001b[49m\u001b[43mf\u001b[49m\u001b[43m,\u001b[49m\u001b[43m \u001b[49m\u001b[43mdata\u001b[49m\u001b[43m,\u001b[49m\u001b[43m \u001b[49m\u001b[38;5;28;43mself\u001b[39;49m\u001b[38;5;241;43m.\u001b[39;49m\u001b[43maxis\u001b[49m\u001b[43m)\u001b[49m\n\u001b[1;32m   1403\u001b[0m     \u001b[38;5;28;01mif\u001b[39;00m not_indexed_same \u001b[38;5;129;01mis\u001b[39;00m \u001b[38;5;28;01mNone\u001b[39;00m:\n\u001b[1;32m   1404\u001b[0m         not_indexed_same \u001b[38;5;241m=\u001b[39m mutated\n",
      "File \u001b[0;32m/opt/homebrew/Caskroom/miniforge/base/envs/tensorflow_m1/lib/python3.11/site-packages/pandas/core/groupby/ops.py:767\u001b[0m, in \u001b[0;36mBaseGrouper.apply\u001b[0;34m(self, f, data, axis)\u001b[0m\n\u001b[1;32m    765\u001b[0m \u001b[38;5;66;03m# group might be modified\u001b[39;00m\n\u001b[1;32m    766\u001b[0m group_axes \u001b[38;5;241m=\u001b[39m group\u001b[38;5;241m.\u001b[39maxes\n\u001b[0;32m--> 767\u001b[0m res \u001b[38;5;241m=\u001b[39m \u001b[43mf\u001b[49m\u001b[43m(\u001b[49m\u001b[43mgroup\u001b[49m\u001b[43m)\u001b[49m\n\u001b[1;32m    768\u001b[0m \u001b[38;5;28;01mif\u001b[39;00m \u001b[38;5;129;01mnot\u001b[39;00m mutated \u001b[38;5;129;01mand\u001b[39;00m \u001b[38;5;129;01mnot\u001b[39;00m _is_indexed_like(res, group_axes, axis):\n\u001b[1;32m    769\u001b[0m     mutated \u001b[38;5;241m=\u001b[39m \u001b[38;5;28;01mTrue\u001b[39;00m\n",
      "Cell \u001b[0;32mIn[26], line 1\u001b[0m, in \u001b[0;36m<lambda>\u001b[0;34m(x)\u001b[0m\n\u001b[0;32m----> 1\u001b[0m df_balanced_reviews_sentences \u001b[38;5;241m=\u001b[39m df_reviews_sentences\u001b[38;5;241m.\u001b[39mgroupby([\u001b[38;5;124m'\u001b[39m\u001b[38;5;124mrating\u001b[39m\u001b[38;5;124m'\u001b[39m], group_keys\u001b[38;5;241m=\u001b[39m\u001b[38;5;28;01mFalse\u001b[39;00m)\u001b[38;5;241m.\u001b[39mapply(\u001b[38;5;28;01mlambda\u001b[39;00m x: \u001b[43mx\u001b[49m\u001b[38;5;241;43m.\u001b[39;49m\u001b[43msample\u001b[49m\u001b[43m(\u001b[49m\u001b[38;5;241;43m150\u001b[39;49m\u001b[43m,\u001b[49m\u001b[43m \u001b[49m\u001b[43mreplace\u001b[49m\u001b[38;5;241;43m=\u001b[39;49m\u001b[38;5;28;43;01mFalse\u001b[39;49;00m\u001b[43m,\u001b[49m\u001b[43m \u001b[49m\u001b[43mrandom_state\u001b[49m\u001b[38;5;241;43m=\u001b[39;49m\u001b[43mRANDOM_STATE\u001b[49m\u001b[43m)\u001b[49m)\n\u001b[1;32m      2\u001b[0m df_balanced_reviews_sentences\u001b[38;5;241m.\u001b[39mreset_index(drop\u001b[38;5;241m=\u001b[39m\u001b[38;5;28;01mTrue\u001b[39;00m, inplace\u001b[38;5;241m=\u001b[39m\u001b[38;5;28;01mTrue\u001b[39;00m)\n\u001b[1;32m      3\u001b[0m df_balanced_reviews_sentences\n",
      "File \u001b[0;32m/opt/homebrew/Caskroom/miniforge/base/envs/tensorflow_m1/lib/python3.11/site-packages/pandas/core/generic.py:5858\u001b[0m, in \u001b[0;36mNDFrame.sample\u001b[0;34m(self, n, frac, replace, weights, random_state, axis, ignore_index)\u001b[0m\n\u001b[1;32m   5855\u001b[0m \u001b[38;5;28;01mif\u001b[39;00m weights \u001b[38;5;129;01mis\u001b[39;00m \u001b[38;5;129;01mnot\u001b[39;00m \u001b[38;5;28;01mNone\u001b[39;00m:\n\u001b[1;32m   5856\u001b[0m     weights \u001b[38;5;241m=\u001b[39m sample\u001b[38;5;241m.\u001b[39mpreprocess_weights(\u001b[38;5;28mself\u001b[39m, weights, axis)\n\u001b[0;32m-> 5858\u001b[0m sampled_indices \u001b[38;5;241m=\u001b[39m \u001b[43msample\u001b[49m\u001b[38;5;241;43m.\u001b[39;49m\u001b[43msample\u001b[49m\u001b[43m(\u001b[49m\u001b[43mobj_len\u001b[49m\u001b[43m,\u001b[49m\u001b[43m \u001b[49m\u001b[43msize\u001b[49m\u001b[43m,\u001b[49m\u001b[43m \u001b[49m\u001b[43mreplace\u001b[49m\u001b[43m,\u001b[49m\u001b[43m \u001b[49m\u001b[43mweights\u001b[49m\u001b[43m,\u001b[49m\u001b[43m \u001b[49m\u001b[43mrs\u001b[49m\u001b[43m)\u001b[49m\n\u001b[1;32m   5859\u001b[0m result \u001b[38;5;241m=\u001b[39m \u001b[38;5;28mself\u001b[39m\u001b[38;5;241m.\u001b[39mtake(sampled_indices, axis\u001b[38;5;241m=\u001b[39maxis)\n\u001b[1;32m   5861\u001b[0m \u001b[38;5;28;01mif\u001b[39;00m ignore_index:\n",
      "File \u001b[0;32m/opt/homebrew/Caskroom/miniforge/base/envs/tensorflow_m1/lib/python3.11/site-packages/pandas/core/sample.py:151\u001b[0m, in \u001b[0;36msample\u001b[0;34m(obj_len, size, replace, weights, random_state)\u001b[0m\n\u001b[1;32m    148\u001b[0m     \u001b[38;5;28;01melse\u001b[39;00m:\n\u001b[1;32m    149\u001b[0m         \u001b[38;5;28;01mraise\u001b[39;00m \u001b[38;5;167;01mValueError\u001b[39;00m(\u001b[38;5;124m\"\u001b[39m\u001b[38;5;124mInvalid weights: weights sum to zero\u001b[39m\u001b[38;5;124m\"\u001b[39m)\n\u001b[0;32m--> 151\u001b[0m \u001b[38;5;28;01mreturn\u001b[39;00m \u001b[43mrandom_state\u001b[49m\u001b[38;5;241;43m.\u001b[39;49m\u001b[43mchoice\u001b[49m\u001b[43m(\u001b[49m\u001b[43mobj_len\u001b[49m\u001b[43m,\u001b[49m\u001b[43m \u001b[49m\u001b[43msize\u001b[49m\u001b[38;5;241;43m=\u001b[39;49m\u001b[43msize\u001b[49m\u001b[43m,\u001b[49m\u001b[43m \u001b[49m\u001b[43mreplace\u001b[49m\u001b[38;5;241;43m=\u001b[39;49m\u001b[43mreplace\u001b[49m\u001b[43m,\u001b[49m\u001b[43m \u001b[49m\u001b[43mp\u001b[49m\u001b[38;5;241;43m=\u001b[39;49m\u001b[43mweights\u001b[49m\u001b[43m)\u001b[49m\u001b[38;5;241m.\u001b[39mastype(\n\u001b[1;32m    152\u001b[0m     np\u001b[38;5;241m.\u001b[39mintp, copy\u001b[38;5;241m=\u001b[39m\u001b[38;5;28;01mFalse\u001b[39;00m\n\u001b[1;32m    153\u001b[0m )\n",
      "File \u001b[0;32mmtrand.pyx:984\u001b[0m, in \u001b[0;36mnumpy.random.mtrand.RandomState.choice\u001b[0;34m()\u001b[0m\n",
      "\u001b[0;31mValueError\u001b[0m: Cannot take a larger sample than population when 'replace=False'"
     ]
    }
   ],
   "source": [
    "df_balanced_reviews_sentences = df_reviews_sentences.groupby(['rating'], group_keys=False).apply(lambda x: x.sample(600, replace=False, random_state=RANDOM_STATE))\n",
    "df_balanced_reviews_sentences.reset_index(drop=True, inplace=True)\n",
    "df_balanced_reviews_sentences"
   ]
  },
  {
   "cell_type": "markdown",
   "id": "cf95bc6d-1ab1-4768-8b28-010997fb6279",
   "metadata": {},
   "source": [
    "### Randomisierung"
   ]
  },
  {
   "cell_type": "code",
   "execution_count": null,
   "id": "d1fb6378-5ccd-48c3-8d08-ddd48498da18",
   "metadata": {},
   "outputs": [],
   "source": [
    "df_balanced_reviews_sentences = df_balanced_reviews_sentences.sample(frac=1, random_state=RANDOM_STATE)  # 'frac=1' mischt den gesamten DataFrame\n",
    "df_balanced_reviews_sentences.reset_index(drop=True, inplace=True)\n",
    "df_balanced_reviews_sentences"
   ]
  },
  {
   "cell_type": "code",
   "execution_count": null,
   "id": "c04af8ba-ef1b-4d7b-81be-435e33520c1d",
   "metadata": {
    "tags": []
   },
   "outputs": [],
   "source": [
    "df_balanced_reviews_sentences[\"rating\"].value_counts()"
   ]
  },
  {
   "cell_type": "code",
   "execution_count": null,
   "id": "6cd37024-1bc7-41f6-8e6d-4f34bd490441",
   "metadata": {},
   "outputs": [],
   "source": [
    "df_balanced_reviews_sentences.groupby([\"review_id\", \"sentence_idx\"]).size().reset_index(name=\"count\")"
   ]
  },
  {
   "cell_type": "code",
   "execution_count": null,
   "id": "1eed9230-f055-491c-904d-c93d93a1c0f0",
   "metadata": {
    "tags": []
   },
   "outputs": [],
   "source": [
    "df_balanced_reviews_sentences[\"restaurant_id\"].value_counts()"
   ]
  },
  {
   "cell_type": "markdown",
   "id": "d61cb1bc-25d1-48df-a4ea-754f0c6ddf4f",
   "metadata": {},
   "source": [
    "### Store as .csv "
   ]
  },
  {
   "cell_type": "code",
   "execution_count": null,
   "id": "ec07b2e4-8b16-4d4a-a212-8e1e6029a30f",
   "metadata": {},
   "outputs": [],
   "source": [
    "df_reviews.to_csv(\"../datasets/reviews.csv\")"
   ]
  },
  {
   "cell_type": "code",
   "execution_count": null,
   "id": "8923e3a2-ed7d-4f68-8a77-14adb8d271b4",
   "metadata": {
    "tags": []
   },
   "outputs": [],
   "source": [
    "df_reviews_sentences.to_csv(\"../datasets/reviews_sentences.csv\")"
   ]
  },
  {
   "cell_type": "code",
   "execution_count": null,
   "id": "cc77ae24-af64-464f-9e00-15067cbdd6c4",
   "metadata": {
    "tags": []
   },
   "outputs": [],
   "source": [
    "df_balanced_reviews_sentences.to_csv(\"../datasets/balanced_reviews_sentences.csv\")"
   ]
  },
  {
   "cell_type": "code",
   "execution_count": null,
   "id": "ebff5de3-905f-43de-961f-e56456126ff3",
   "metadata": {
    "tags": []
   },
   "outputs": [],
   "source": [
    "docker run -d --name doccano -p 8000:8000 -v app_data:/app/data doccano/doccano"
   ]
  }
 ],
 "metadata": {
  "kernelspec": {
   "display_name": "Python 3 (ipykernel)",
   "language": "python",
   "name": "python3"
  },
  "language_info": {
   "codemirror_mode": {
    "name": "ipython",
    "version": 3
   },
   "file_extension": ".py",
   "mimetype": "text/x-python",
   "name": "python",
   "nbconvert_exporter": "python",
   "pygments_lexer": "ipython3",
   "version": "3.11.3"
  }
 },
 "nbformat": 4,
 "nbformat_minor": 5
}
