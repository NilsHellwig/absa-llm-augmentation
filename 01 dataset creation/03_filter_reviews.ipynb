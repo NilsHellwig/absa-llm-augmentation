{
 "cells": [
  {
   "cell_type": "markdown",
   "id": "d3e07a11-7920-4c19-8577-48f7d98a1d82",
   "metadata": {},
   "source": [
    "# Notebook: Filter Reviews from Collected HTMLs"
   ]
  },
  {
   "cell_type": "markdown",
   "id": "85832c4c-2ab8-41cc-b690-6b2c076d5d7a",
   "metadata": {},
   "source": [
    "## Packages"
   ]
  },
  {
   "cell_type": "code",
   "execution_count": 1,
   "id": "21959832-c64a-4122-919d-a9ef902ac384",
   "metadata": {
    "tags": []
   },
   "outputs": [],
   "source": [
    "from langdetect import detect\n",
    "from bs4 import BeautifulSoup\n",
    "import pandas as pd\n",
    "import spacy\n",
    "import json\n",
    "import nltk\n",
    "from nltk.tokenize import sent_tokenize"
   ]
  },
  {
   "cell_type": "markdown",
   "id": "cfe0f0b7-8c8a-4021-b16e-01a9b4bb7b66",
   "metadata": {},
   "source": [
    "## Settings"
   ]
  },
  {
   "cell_type": "code",
   "execution_count": 2,
   "id": "7b7fcae1-4484-4999-9d8b-ff6d1494ec18",
   "metadata": {
    "tags": []
   },
   "outputs": [
    {
     "name": "stderr",
     "output_type": "stream",
     "text": [
      "[nltk_data] Downloading package punkt to\n",
      "[nltk_data]     /Users/nils_hellwig/nltk_data...\n",
      "[nltk_data]   Package punkt is already up-to-date!\n"
     ]
    },
    {
     "data": {
      "text/plain": [
       "True"
      ]
     },
     "execution_count": 2,
     "metadata": {},
     "output_type": "execute_result"
    }
   ],
   "source": [
    "nltk.download('punkt')"
   ]
  },
  {
   "cell_type": "code",
   "execution_count": 3,
   "id": "03a7ba7d-5456-4e2b-b123-5cf1749a2e53",
   "metadata": {
    "tags": []
   },
   "outputs": [],
   "source": [
    "%%capture\n",
    "!python -m spacy download de_core_news_lg"
   ]
  },
  {
   "cell_type": "code",
   "execution_count": 4,
   "id": "22c90a36-71a4-46a4-a0da-abc7aea6da19",
   "metadata": {
    "tags": []
   },
   "outputs": [],
   "source": [
    "nlp = spacy.load(\"de_core_news_lg\")"
   ]
  },
  {
   "cell_type": "markdown",
   "id": "caffba9f-b007-4878-9377-5b64a0544fd0",
   "metadata": {},
   "source": [
    "## Constants"
   ]
  },
  {
   "cell_type": "code",
   "execution_count": 5,
   "id": "2478b5a4-fd21-4d69-be2a-f889b478deb8",
   "metadata": {
    "tags": []
   },
   "outputs": [],
   "source": [
    "REVIEWS_PATH = \"../datasets/reviews_urls.csv\"\n",
    "RANDOM_STATE = 43"
   ]
  },
  {
   "cell_type": "markdown",
   "id": "4597beda-a4b4-4f06-9cd7-27b1c534a003",
   "metadata": {},
   "source": [
    "## Code"
   ]
  },
  {
   "cell_type": "markdown",
   "id": "938e9745-2849-4641-bbbd-72ebc85d84e4",
   "metadata": {},
   "source": [
    "### Load Dataset"
   ]
  },
  {
   "cell_type": "code",
   "execution_count": 6,
   "id": "0d59070e-0109-4bf0-ab5a-ae77d878f1d3",
   "metadata": {
    "tags": []
   },
   "outputs": [],
   "source": [
    "reviews_df = pd.read_csv(REVIEWS_PATH)"
   ]
  },
  {
   "cell_type": "markdown",
   "id": "ef4161fe-64c2-4f42-8c46-724e6bbfb43d",
   "metadata": {},
   "source": [
    "### Load Reviews"
   ]
  },
  {
   "cell_type": "code",
   "execution_count": 7,
   "id": "bdad69c3-b37c-43fb-bbcf-c0e4472c5b5b",
   "metadata": {},
   "outputs": [],
   "source": [
    "columns = ['review_id', 'restaurant_id', 'page_index', 'title', 'date', 'author_name', 'author_location', 'text', 'rating', 'restaurant_name', 'language_code']\n",
    "data_reviews = []"
   ]
  },
  {
   "cell_type": "code",
   "execution_count": 8,
   "id": "eac9a72e-7117-44b8-bceb-d1bf06013a8d",
   "metadata": {
    "tags": []
   },
   "outputs": [],
   "source": [
    "def load_review(review_soup):\n",
    "    review = {}\n",
    "    review[\"title\"] = review_soup.find(\"div\", attrs={\"class\": \"quote\"}).get_text()\n",
    "    review[\"date\"] = review_soup.find(class_='ratingDate')['title']\n",
    "    review[\"author_name\"] = review_soup.find(class_='scrname').get_text()\n",
    "    user_location_element = review_soup.find(class_='userLocation')\n",
    "    if user_location_element:\n",
    "        user_location = user_location_element.get_text()\n",
    "    else:\n",
    "        user_location = None\n",
    "    review[\"author_location\"] = user_location\n",
    "    review[\"text\"] = review_soup.find(class_='partial_entry').get_text()\n",
    "    review[\"rating\"] = int(review_soup.find(class_='reviewItemInline').find('span', class_='ui_bubble_rating')['class'][1].split('_')[1]) / 10\n",
    "    return review"
   ]
  },
  {
   "cell_type": "code",
   "execution_count": 9,
   "id": "fe14c607-433a-4063-8005-b1db0e942979",
   "metadata": {
    "tags": []
   },
   "outputs": [],
   "source": [
    "for index, row in reviews_df.iterrows():\n",
    "    path_review = \"../datasets/reviews_restaurants_html/restaurant_\" + str(row['restaurant_id']) + \"_review_\" + str(row[\"review_id\"]) + \".html\"\n",
    "    with open(path_review, 'r', encoding='utf-8') as file:\n",
    "        html_content = file.read()\n",
    "    doc_soup = BeautifulSoup(html_content, 'html.parser')\n",
    "    review_soup = doc_soup.find(id=\"review_\"+str(row[\"review_id\"]))\n",
    "    review = load_review(review_soup)\n",
    "    review[\"restaurant_name\"] = doc_soup.find('a', class_='HEADING').get_text()\n",
    "    review[\"language_code\"] = doc_soup.find(\"div\", class_=\"prw_reviews_user_links_hsx\").span[\"data-language\"]\n",
    "    review[\"review_id\"] = row[\"review_id\"]\n",
    "    review[\"restaurant_id\"] = row[\"restaurant_id\"]\n",
    "    review[\"page_index\"] = row[\"page_index\"]\n",
    "    data_reviews.append(review)"
   ]
  },
  {
   "cell_type": "code",
   "execution_count": 10,
   "id": "cdeb3ff8-3cd4-485d-9c17-4a829287707a",
   "metadata": {
    "tags": []
   },
   "outputs": [],
   "source": [
    "df_reviews = pd.DataFrame(data_reviews, columns=columns)"
   ]
  },
  {
   "cell_type": "markdown",
   "id": "bdcd2375-af01-4223-a1e4-da889d46db08",
   "metadata": {},
   "source": [
    "### Delete Examples without Data"
   ]
  },
  {
   "cell_type": "markdown",
   "id": "d627d423-b73d-43df-b9ae-745a9ca2d54a",
   "metadata": {},
   "source": [
    "There are rare cases where the text from the rating is not returned with the GET request to the page from the restaurant rating. These will now be excluded."
   ]
  },
  {
   "cell_type": "code",
   "execution_count": 11,
   "id": "0f068d7a-bcf7-41dd-a716-ffbd7ed2de8f",
   "metadata": {
    "tags": []
   },
   "outputs": [],
   "source": [
    "df_reviews = df_reviews.drop(df_reviews[(df_reviews['text'] == '') | (df_reviews['title'] == '')].index)"
   ]
  },
  {
   "cell_type": "markdown",
   "id": "2904757f-7f9b-4c25-8043-b5d10bf6d0d2",
   "metadata": {},
   "source": [
    "### Filter Languages\n",
    "\n",
    "We are only considering reviews in german language."
   ]
  },
  {
   "cell_type": "code",
   "execution_count": 12,
   "id": "4508a9a7-8fe4-4898-b1ef-f3732f6a21a9",
   "metadata": {},
   "outputs": [],
   "source": [
    "df_reviews = df_reviews.drop(df_reviews[(df_reviews['language_code'] != 'de')].index)"
   ]
  },
  {
   "cell_type": "markdown",
   "id": "aec8a268-1f0b-4348-b167-ee797791c710",
   "metadata": {},
   "source": [
    "Even if the language code = \"de\", we have observed that reviews in other languages sometimes have \"de\" as the language code. These are excluded with the help of Google's language-detection."
   ]
  },
  {
   "cell_type": "code",
   "execution_count": 13,
   "id": "57f01c97-147e-46bf-9d4f-16536b42997c",
   "metadata": {
    "tags": []
   },
   "outputs": [
    {
     "data": {
      "text/html": [
       "<div>\n",
       "<style scoped>\n",
       "    .dataframe tbody tr th:only-of-type {\n",
       "        vertical-align: middle;\n",
       "    }\n",
       "\n",
       "    .dataframe tbody tr th {\n",
       "        vertical-align: top;\n",
       "    }\n",
       "\n",
       "    .dataframe thead th {\n",
       "        text-align: right;\n",
       "    }\n",
       "</style>\n",
       "<table border=\"1\" class=\"dataframe\">\n",
       "  <thead>\n",
       "    <tr style=\"text-align: right;\">\n",
       "      <th></th>\n",
       "      <th>review_id</th>\n",
       "      <th>restaurant_id</th>\n",
       "      <th>page_index</th>\n",
       "      <th>title</th>\n",
       "      <th>date</th>\n",
       "      <th>author_name</th>\n",
       "      <th>author_location</th>\n",
       "      <th>text</th>\n",
       "      <th>rating</th>\n",
       "      <th>restaurant_name</th>\n",
       "      <th>language_code</th>\n",
       "      <th>detected_language</th>\n",
       "    </tr>\n",
       "  </thead>\n",
       "  <tbody>\n",
       "    <tr>\n",
       "      <th>2803</th>\n",
       "      <td>892819899</td>\n",
       "      <td>715362</td>\n",
       "      <td>0</td>\n",
       "      <td>Worst hard rock</td>\n",
       "      <td>31. Mai 2023</td>\n",
       "      <td>Phil D</td>\n",
       "      <td>None</td>\n",
       "      <td>After a wonderful few days in Berlin decided t...</td>\n",
       "      <td>1.0</td>\n",
       "      <td>Hard Rock Cafe Berlin</td>\n",
       "      <td>de</td>\n",
       "      <td>en</td>\n",
       "    </tr>\n",
       "  </tbody>\n",
       "</table>\n",
       "</div>"
      ],
      "text/plain": [
       "      review_id  restaurant_id  page_index             title          date   \n",
       "2803  892819899         715362           0  Worst hard rock   31. Mai 2023  \\\n",
       "\n",
       "     author_name author_location   \n",
       "2803      Phil D            None  \\\n",
       "\n",
       "                                                   text  rating   \n",
       "2803  After a wonderful few days in Berlin decided t...     1.0  \\\n",
       "\n",
       "              restaurant_name language_code detected_language  \n",
       "2803   Hard Rock Cafe Berlin             de                en  "
      ]
     },
     "execution_count": 13,
     "metadata": {},
     "output_type": "execute_result"
    }
   ],
   "source": [
    "df_reviews['detected_language'] = df_reviews['text'].apply(lambda x: detect(x))\n",
    "# Examples of reviews that were excluded\n",
    "df_reviews[df_reviews['detected_language'] != 'de']"
   ]
  },
  {
   "cell_type": "code",
   "execution_count": 14,
   "id": "fa00ab7f-0e9f-4871-93f6-1ee0c0136865",
   "metadata": {
    "tags": []
   },
   "outputs": [],
   "source": [
    "df_reviews = df_reviews[df_reviews['detected_language'] == 'de']"
   ]
  },
  {
   "cell_type": "markdown",
   "id": "4a1a99a7-9a95-4e3b-b533-8563d2a40679",
   "metadata": {},
   "source": [
    "### Check for Duplicates"
   ]
  },
  {
   "cell_type": "code",
   "execution_count": 16,
   "id": "cb46ac87-60b7-47f3-9bfe-1eff6ae597ea",
   "metadata": {
    "tags": []
   },
   "outputs": [
    {
     "data": {
      "text/html": [
       "<div>\n",
       "<style scoped>\n",
       "    .dataframe tbody tr th:only-of-type {\n",
       "        vertical-align: middle;\n",
       "    }\n",
       "\n",
       "    .dataframe tbody tr th {\n",
       "        vertical-align: top;\n",
       "    }\n",
       "\n",
       "    .dataframe thead th {\n",
       "        text-align: right;\n",
       "    }\n",
       "</style>\n",
       "<table border=\"1\" class=\"dataframe\">\n",
       "  <thead>\n",
       "    <tr style=\"text-align: right;\">\n",
       "      <th></th>\n",
       "      <th>review_id</th>\n",
       "      <th>restaurant_id</th>\n",
       "      <th>page_index</th>\n",
       "      <th>title</th>\n",
       "      <th>date</th>\n",
       "      <th>author_name</th>\n",
       "      <th>author_location</th>\n",
       "      <th>text</th>\n",
       "      <th>rating</th>\n",
       "      <th>restaurant_name</th>\n",
       "      <th>language_code</th>\n",
       "      <th>detected_language</th>\n",
       "    </tr>\n",
       "  </thead>\n",
       "  <tbody>\n",
       "  </tbody>\n",
       "</table>\n",
       "</div>"
      ],
      "text/plain": [
       "Empty DataFrame\n",
       "Columns: [review_id, restaurant_id, page_index, title, date, author_name, author_location, text, rating, restaurant_name, language_code, detected_language]\n",
       "Index: []"
      ]
     },
     "execution_count": 16,
     "metadata": {},
     "output_type": "execute_result"
    }
   ],
   "source": [
    "duplicate_rows = df_reviews[df_reviews.duplicated(subset=['review_id'], keep=False)]\n",
    "duplicate_rows"
   ]
  },
  {
   "cell_type": "markdown",
   "id": "d45c4cf8-0f03-45c1-9c6f-e8a0d0d8e62b",
   "metadata": {},
   "source": [
    "### Anonymisierung"
   ]
  },
  {
   "cell_type": "code",
   "execution_count": 17,
   "id": "a9e4c2fd-2618-482f-8ac5-d5efe9da612a",
   "metadata": {},
   "outputs": [],
   "source": [
    "df_reviews[\"text_noanonymization\"] = df_reviews[\"text\"]"
   ]
  },
  {
   "cell_type": "code",
   "execution_count": 18,
   "id": "74a83b9d-6c3c-43bd-a670-62f183632c40",
   "metadata": {},
   "outputs": [],
   "source": [
    "def anonymize_entities(text):\n",
    "    doc = nlp(text)\n",
    "    for ent in doc.ents:\n",
    "        if ent.label_ in [\"LOC\", \"PERSON\", \"DATE\"] and ent.label_ != \"Essen\":\n",
    "            text = text.replace(ent.text, f\"<{ent.label_}>\")\n",
    "    return text\n",
    "\n",
    "df_reviews[\"text\"] = df_reviews[\"text\"].apply(anonymize_entities)"
   ]
  },
  {
   "cell_type": "code",
   "execution_count": 19,
   "id": "e51fe9c2-5811-4ecf-915a-9ce40508886b",
   "metadata": {},
   "outputs": [],
   "source": [
    "def anonymize_username(text, username):\n",
    "    return text.replace(username, \"<PERSON>\")\n",
    "df_reviews[\"text\"] = df_reviews.apply(lambda row: anonymize_username(row[\"text\"], row[\"author_name\"]), axis=1)"
   ]
  },
  {
   "cell_type": "markdown",
   "id": "ec43bc38-0a15-497b-877d-2c4303e9ec9e",
   "metadata": {},
   "source": [
    "### Filter Sentences"
   ]
  },
  {
   "cell_type": "code",
   "execution_count": 20,
   "id": "7073afac-e189-4eee-8c34-131f30775142",
   "metadata": {
    "tags": []
   },
   "outputs": [],
   "source": [
    "df_reviews_sentences = pd.DataFrame(columns=list(df_reviews.columns) + ['sentence_idx'])\n",
    "\n",
    "for idx, row in df_reviews.iterrows():\n",
    "    sentences = sent_tokenize(row['text'])\n",
    "    sentence_index = 0\n",
    "    for sentence in sentences:\n",
    "        new_row = row.copy()  # Kopiere die gesamte Zeile\n",
    "        new_row['text'] = sentence  # Setze 'text' auf den aktuellen Satz\n",
    "        new_row['sentence_idx'] = sentence_index\n",
    "        df_reviews_sentences.loc[len(df_reviews_sentences)] = new_row\n",
    "        sentence_index += 1"
   ]
  },
  {
   "cell_type": "markdown",
   "id": "8fa015fe-937a-48d1-9cfd-de11cbc43ba7",
   "metadata": {},
   "source": [
    "### Balancing"
   ]
  },
  {
   "cell_type": "code",
   "execution_count": 21,
   "id": "f2ac7535-1b60-4562-bb26-495d6735d8da",
   "metadata": {
    "tags": []
   },
   "outputs": [
    {
     "data": {
      "text/html": [
       "<div>\n",
       "<style scoped>\n",
       "    .dataframe tbody tr th:only-of-type {\n",
       "        vertical-align: middle;\n",
       "    }\n",
       "\n",
       "    .dataframe tbody tr th {\n",
       "        vertical-align: top;\n",
       "    }\n",
       "\n",
       "    .dataframe thead th {\n",
       "        text-align: right;\n",
       "    }\n",
       "</style>\n",
       "<table border=\"1\" class=\"dataframe\">\n",
       "  <thead>\n",
       "    <tr style=\"text-align: right;\">\n",
       "      <th></th>\n",
       "      <th>review_id</th>\n",
       "      <th>restaurant_id</th>\n",
       "      <th>page_index</th>\n",
       "      <th>title</th>\n",
       "      <th>date</th>\n",
       "      <th>author_name</th>\n",
       "      <th>author_location</th>\n",
       "      <th>text</th>\n",
       "      <th>rating</th>\n",
       "      <th>restaurant_name</th>\n",
       "      <th>language_code</th>\n",
       "      <th>detected_language</th>\n",
       "      <th>text_noanonymization</th>\n",
       "      <th>sentence_idx</th>\n",
       "    </tr>\n",
       "  </thead>\n",
       "  <tbody>\n",
       "    <tr>\n",
       "      <th>0</th>\n",
       "      <td>320444037</td>\n",
       "      <td>1119896</td>\n",
       "      <td>13</td>\n",
       "      <td>Überforderung in höchstem Maße</td>\n",
       "      <td>20. Oktober 2015</td>\n",
       "      <td>nalujulia</td>\n",
       "      <td>Wien, Österreich</td>\n",
       "      <td>Bestellung, Zubereitung der Pasta, Bringen des...</td>\n",
       "      <td>1.0</td>\n",
       "      <td>Vapiano</td>\n",
       "      <td>de</td>\n",
       "      <td>de</td>\n",
       "      <td>Zu zweit stellten wir uns an der Pasta Bar in ...</td>\n",
       "      <td>2</td>\n",
       "    </tr>\n",
       "    <tr>\n",
       "      <th>1</th>\n",
       "      <td>521160362</td>\n",
       "      <td>718834</td>\n",
       "      <td>7</td>\n",
       "      <td>Schlechter Service, unprofessionelle \"Köche\" -...</td>\n",
       "      <td>4. September 2017</td>\n",
       "      <td>onlystopontop</td>\n",
       "      <td>München, Deutschland</td>\n",
       "      <td>Es gibt nur eines, wofür ich absolut niemals V...</td>\n",
       "      <td>1.0</td>\n",
       "      <td>VAPIANO München</td>\n",
       "      <td>de</td>\n",
       "      <td>de</td>\n",
       "      <td>Bis man mich mal dazu motiviert hat ein Restau...</td>\n",
       "      <td>5</td>\n",
       "    </tr>\n",
       "    <tr>\n",
       "      <th>2</th>\n",
       "      <td>685411373</td>\n",
       "      <td>2271294</td>\n",
       "      <td>16</td>\n",
       "      <td>Nie wieder</td>\n",
       "      <td>30. Juni 2019</td>\n",
       "      <td>Peter K</td>\n",
       "      <td>Wülfrath, Nordrhein-Westfalen, Germany</td>\n",
       "      <td>Nachdem wir am Eingang von sehr freundlichen D...</td>\n",
       "      <td>1.0</td>\n",
       "      <td>Hard Rock Cafe</td>\n",
       "      <td>de</td>\n",
       "      <td>de</td>\n",
       "      <td>Nachdem wir am Eingang von sehr freundlichen D...</td>\n",
       "      <td>0</td>\n",
       "    </tr>\n",
       "    <tr>\n",
       "      <th>3</th>\n",
       "      <td>571867416</td>\n",
       "      <td>778662</td>\n",
       "      <td>5</td>\n",
       "      <td>Nach dem Halb Marathon</td>\n",
       "      <td>8. April 2018</td>\n",
       "      <td>167christiang</td>\n",
       "      <td>Brandenburg, Deutschland</td>\n",
       "      <td>auf meine Nudeln warten!</td>\n",
       "      <td>1.0</td>\n",
       "      <td>Vapiano</td>\n",
       "      <td>de</td>\n",
       "      <td>de</td>\n",
       "      <td>Trotz Leere in diesem Vapiano musste ich 33min...</td>\n",
       "      <td>2</td>\n",
       "    </tr>\n",
       "    <tr>\n",
       "      <th>4</th>\n",
       "      <td>613198287</td>\n",
       "      <td>1520135</td>\n",
       "      <td>10</td>\n",
       "      <td>Mit Durchfall Garantie!!!! NIE WIEDER!!!!!</td>\n",
       "      <td>2. September 2018</td>\n",
       "      <td>gigi-8787</td>\n",
       "      <td>Tübingen, Deutschland</td>\n",
       "      <td>Einmal und nie wieder!!</td>\n",
       "      <td>1.0</td>\n",
       "      <td>L'Osteria München Künstlerhaus</td>\n",
       "      <td>de</td>\n",
       "      <td>de</td>\n",
       "      <td>Das schlechteste Restaurant bei dem ich jemals...</td>\n",
       "      <td>4</td>\n",
       "    </tr>\n",
       "    <tr>\n",
       "      <th>...</th>\n",
       "      <td>...</td>\n",
       "      <td>...</td>\n",
       "      <td>...</td>\n",
       "      <td>...</td>\n",
       "      <td>...</td>\n",
       "      <td>...</td>\n",
       "      <td>...</td>\n",
       "      <td>...</td>\n",
       "      <td>...</td>\n",
       "      <td>...</td>\n",
       "      <td>...</td>\n",
       "      <td>...</td>\n",
       "      <td>...</td>\n",
       "      <td>...</td>\n",
       "    </tr>\n",
       "    <tr>\n",
       "      <th>3495</th>\n",
       "      <td>355501122</td>\n",
       "      <td>2395287</td>\n",
       "      <td>19</td>\n",
       "      <td>Leckeres Essen vor dem Musical</td>\n",
       "      <td>15. März 2016</td>\n",
       "      <td>Peter R</td>\n",
       "      <td>None</td>\n",
       "      <td>Gut dass ich schon ein paar Tage vorher einen ...</td>\n",
       "      <td>5.0</td>\n",
       "      <td>BLOCK HOUSE Friedrichstraße</td>\n",
       "      <td>de</td>\n",
       "      <td>de</td>\n",
       "      <td>Wir waren letzten Samstag vor dem Musical Hair...</td>\n",
       "      <td>1</td>\n",
       "    </tr>\n",
       "    <tr>\n",
       "      <th>3496</th>\n",
       "      <td>406050576</td>\n",
       "      <td>1867249</td>\n",
       "      <td>15</td>\n",
       "      <td>Lecker und preiswert</td>\n",
       "      <td>16. August 2016</td>\n",
       "      <td>juleb767</td>\n",
       "      <td>None</td>\n",
       "      <td>Wir haben zu 4. ein Mittagsmenü gegessen, es g...</td>\n",
       "      <td>5.0</td>\n",
       "      <td>HANS IM GLÜCK Burgergrill &amp; Bar</td>\n",
       "      <td>de</td>\n",
       "      <td>de</td>\n",
       "      <td>Wir haben zu 4. ein Mittagsmenü gegessen, es g...</td>\n",
       "      <td>0</td>\n",
       "    </tr>\n",
       "    <tr>\n",
       "      <th>3497</th>\n",
       "      <td>356486328</td>\n",
       "      <td>1867249</td>\n",
       "      <td>19</td>\n",
       "      <td>Viele Varianten</td>\n",
       "      <td>18. März 2016</td>\n",
       "      <td>cycling-freak65</td>\n",
       "      <td>Luxemburg</td>\n",
       "      <td>mache häufig einen Besuch im Hans in Glück wen...</td>\n",
       "      <td>5.0</td>\n",
       "      <td>HANS IM GLÜCK Burgergrill &amp; Bar</td>\n",
       "      <td>de</td>\n",
       "      <td>de</td>\n",
       "      <td>mache häufig einen Besuch im Hans in Glück wen...</td>\n",
       "      <td>0</td>\n",
       "    </tr>\n",
       "    <tr>\n",
       "      <th>3498</th>\n",
       "      <td>391439182</td>\n",
       "      <td>4432816</td>\n",
       "      <td>18</td>\n",
       "      <td>Lecker vegan</td>\n",
       "      <td>11. Juli 2016</td>\n",
       "      <td>Martine R</td>\n",
       "      <td>Mistelbach, Österreich</td>\n",
       "      <td>Vegane Bürger sind Klasse</td>\n",
       "      <td>5.0</td>\n",
       "      <td>HANS IM GLÜCK - Burgergrill and Bar</td>\n",
       "      <td>de</td>\n",
       "      <td>de</td>\n",
       "      <td>Gemütliches restaurant mit freundliche Bedienu...</td>\n",
       "      <td>1</td>\n",
       "    </tr>\n",
       "    <tr>\n",
       "      <th>3499</th>\n",
       "      <td>562620913</td>\n",
       "      <td>715362</td>\n",
       "      <td>17</td>\n",
       "      <td>Gutes Essen, Gute Musik</td>\n",
       "      <td>25. Februar 2018</td>\n",
       "      <td>Andreas L</td>\n",
       "      <td>Kassel, Deutschland</td>\n",
       "      <td>Alles in allen ein gelungener Abend</td>\n",
       "      <td>5.0</td>\n",
       "      <td>Hard Rock Cafe Berlin</td>\n",
       "      <td>de</td>\n",
       "      <td>de</td>\n",
       "      <td>Sehr angenehm gute Unterhaltung. Das Essen war...</td>\n",
       "      <td>3</td>\n",
       "    </tr>\n",
       "  </tbody>\n",
       "</table>\n",
       "<p>3500 rows × 14 columns</p>\n",
       "</div>"
      ],
      "text/plain": [
       "      review_id restaurant_id page_index   \n",
       "0     320444037       1119896         13  \\\n",
       "1     521160362        718834          7   \n",
       "2     685411373       2271294         16   \n",
       "3     571867416        778662          5   \n",
       "4     613198287       1520135         10   \n",
       "...         ...           ...        ...   \n",
       "3495  355501122       2395287         19   \n",
       "3496  406050576       1867249         15   \n",
       "3497  356486328       1867249         19   \n",
       "3498  391439182       4432816         18   \n",
       "3499  562620913        715362         17   \n",
       "\n",
       "                                                  title               date   \n",
       "0                        Überforderung in höchstem Maße   20. Oktober 2015  \\\n",
       "1     Schlechter Service, unprofessionelle \"Köche\" -...  4. September 2017   \n",
       "2                                            Nie wieder      30. Juni 2019   \n",
       "3                               Nach dem Halb Marathon       8. April 2018   \n",
       "4            Mit Durchfall Garantie!!!! NIE WIEDER!!!!!  2. September 2018   \n",
       "...                                                 ...                ...   \n",
       "3495                     Leckeres Essen vor dem Musical      15. März 2016   \n",
       "3496                               Lecker und preiswert    16. August 2016   \n",
       "3497                                    Viele Varianten      18. März 2016   \n",
       "3498                                       Lecker vegan      11. Juli 2016   \n",
       "3499                            Gutes Essen, Gute Musik   25. Februar 2018   \n",
       "\n",
       "          author_name                         author_location   \n",
       "0           nalujulia                        Wien, Österreich  \\\n",
       "1       onlystopontop                    München, Deutschland   \n",
       "2             Peter K  Wülfrath, Nordrhein-Westfalen, Germany   \n",
       "3       167christiang                Brandenburg, Deutschland   \n",
       "4           gigi-8787                   Tübingen, Deutschland   \n",
       "...               ...                                     ...   \n",
       "3495          Peter R                                    None   \n",
       "3496         juleb767                                    None   \n",
       "3497  cycling-freak65                               Luxemburg   \n",
       "3498        Martine R                  Mistelbach, Österreich   \n",
       "3499        Andreas L                     Kassel, Deutschland   \n",
       "\n",
       "                                                   text rating   \n",
       "0     Bestellung, Zubereitung der Pasta, Bringen des...    1.0  \\\n",
       "1     Es gibt nur eines, wofür ich absolut niemals V...    1.0   \n",
       "2     Nachdem wir am Eingang von sehr freundlichen D...    1.0   \n",
       "3                              auf meine Nudeln warten!    1.0   \n",
       "4                               Einmal und nie wieder!!    1.0   \n",
       "...                                                 ...    ...   \n",
       "3495  Gut dass ich schon ein paar Tage vorher einen ...    5.0   \n",
       "3496  Wir haben zu 4. ein Mittagsmenü gegessen, es g...    5.0   \n",
       "3497  mache häufig einen Besuch im Hans in Glück wen...    5.0   \n",
       "3498                          Vegane Bürger sind Klasse    5.0   \n",
       "3499                Alles in allen ein gelungener Abend    5.0   \n",
       "\n",
       "                            restaurant_name language_code detected_language   \n",
       "0                                  Vapiano             de                de  \\\n",
       "1                          VAPIANO München             de                de   \n",
       "2                           Hard Rock Cafe             de                de   \n",
       "3                                  Vapiano             de                de   \n",
       "4           L'Osteria München Künstlerhaus             de                de   \n",
       "...                                     ...           ...               ...   \n",
       "3495           BLOCK HOUSE Friedrichstraße             de                de   \n",
       "3496       HANS IM GLÜCK Burgergrill & Bar             de                de   \n",
       "3497       HANS IM GLÜCK Burgergrill & Bar             de                de   \n",
       "3498   HANS IM GLÜCK - Burgergrill and Bar             de                de   \n",
       "3499                 Hard Rock Cafe Berlin             de                de   \n",
       "\n",
       "                                   text_noanonymization sentence_idx  \n",
       "0     Zu zweit stellten wir uns an der Pasta Bar in ...            2  \n",
       "1     Bis man mich mal dazu motiviert hat ein Restau...            5  \n",
       "2     Nachdem wir am Eingang von sehr freundlichen D...            0  \n",
       "3     Trotz Leere in diesem Vapiano musste ich 33min...            2  \n",
       "4     Das schlechteste Restaurant bei dem ich jemals...            4  \n",
       "...                                                 ...          ...  \n",
       "3495  Wir waren letzten Samstag vor dem Musical Hair...            1  \n",
       "3496  Wir haben zu 4. ein Mittagsmenü gegessen, es g...            0  \n",
       "3497  mache häufig einen Besuch im Hans in Glück wen...            0  \n",
       "3498  Gemütliches restaurant mit freundliche Bedienu...            1  \n",
       "3499  Sehr angenehm gute Unterhaltung. Das Essen war...            3  \n",
       "\n",
       "[3500 rows x 14 columns]"
      ]
     },
     "execution_count": 21,
     "metadata": {},
     "output_type": "execute_result"
    }
   ],
   "source": [
    "df_balanced_reviews_sentences = df_reviews_sentences.groupby(['rating'], group_keys=False).apply(lambda x: x.sample(700, replace=False, random_state=RANDOM_STATE))\n",
    "df_balanced_reviews_sentences.reset_index(drop=True, inplace=True)\n",
    "df_balanced_reviews_sentences"
   ]
  },
  {
   "cell_type": "markdown",
   "id": "cf95bc6d-1ab1-4768-8b28-010997fb6279",
   "metadata": {},
   "source": [
    "### Randomisierung"
   ]
  },
  {
   "cell_type": "code",
   "execution_count": 22,
   "id": "d1fb6378-5ccd-48c3-8d08-ddd48498da18",
   "metadata": {},
   "outputs": [
    {
     "data": {
      "text/html": [
       "<div>\n",
       "<style scoped>\n",
       "    .dataframe tbody tr th:only-of-type {\n",
       "        vertical-align: middle;\n",
       "    }\n",
       "\n",
       "    .dataframe tbody tr th {\n",
       "        vertical-align: top;\n",
       "    }\n",
       "\n",
       "    .dataframe thead th {\n",
       "        text-align: right;\n",
       "    }\n",
       "</style>\n",
       "<table border=\"1\" class=\"dataframe\">\n",
       "  <thead>\n",
       "    <tr style=\"text-align: right;\">\n",
       "      <th></th>\n",
       "      <th>review_id</th>\n",
       "      <th>restaurant_id</th>\n",
       "      <th>page_index</th>\n",
       "      <th>title</th>\n",
       "      <th>date</th>\n",
       "      <th>author_name</th>\n",
       "      <th>author_location</th>\n",
       "      <th>text</th>\n",
       "      <th>rating</th>\n",
       "      <th>restaurant_name</th>\n",
       "      <th>language_code</th>\n",
       "      <th>detected_language</th>\n",
       "      <th>text_noanonymization</th>\n",
       "      <th>sentence_idx</th>\n",
       "    </tr>\n",
       "  </thead>\n",
       "  <tbody>\n",
       "    <tr>\n",
       "      <th>0</th>\n",
       "      <td>483808031</td>\n",
       "      <td>1520135</td>\n",
       "      <td>19</td>\n",
       "      <td>Lage unschlagbar, Qualität entsprechend aller ...</td>\n",
       "      <td>13. Mai 2017</td>\n",
       "      <td>Irk247</td>\n",
       "      <td>Augsburg, Deutschland</td>\n",
       "      <td>Das Restaurant ist zentral gelegen, trotzdem s...</td>\n",
       "      <td>4.0</td>\n",
       "      <td>L'Osteria München Künstlerhaus</td>\n",
       "      <td>de</td>\n",
       "      <td>de</td>\n",
       "      <td>Das Restaurant ist zentral gelegen, trotzdem s...</td>\n",
       "      <td>0</td>\n",
       "    </tr>\n",
       "    <tr>\n",
       "      <th>1</th>\n",
       "      <td>635650543</td>\n",
       "      <td>7082848</td>\n",
       "      <td>11</td>\n",
       "      <td>Gelungen !</td>\n",
       "      <td>25. November 2018</td>\n",
       "      <td>luih201</td>\n",
       "      <td>None</td>\n",
       "      <td>Keine lange Wartezeiten und Typisch Italienisch.</td>\n",
       "      <td>5.0</td>\n",
       "      <td>L'Osteria</td>\n",
       "      <td>de</td>\n",
       "      <td>de</td>\n",
       "      <td>Waren schon öfter da, Essen immer super lecker...</td>\n",
       "      <td>2</td>\n",
       "    </tr>\n",
       "    <tr>\n",
       "      <th>2</th>\n",
       "      <td>809253853</td>\n",
       "      <td>2271294</td>\n",
       "      <td>6</td>\n",
       "      <td>Worst ever HRC</td>\n",
       "      <td>10. September 2021</td>\n",
       "      <td>andydrei</td>\n",
       "      <td>None</td>\n",
       "      <td>Wenn Sie allerdings trockene, lauwarme Burger ...</td>\n",
       "      <td>2.0</td>\n",
       "      <td>Hard Rock Cafe</td>\n",
       "      <td>de</td>\n",
       "      <td>de</td>\n",
       "      <td>Von anderen Hard Rock Cafés bin ich leckeres E...</td>\n",
       "      <td>2</td>\n",
       "    </tr>\n",
       "    <tr>\n",
       "      <th>3</th>\n",
       "      <td>567785421</td>\n",
       "      <td>1870837</td>\n",
       "      <td>10</td>\n",
       "      <td>Super lecker</td>\n",
       "      <td>20. März 2018</td>\n",
       "      <td>thomasrV8773VX</td>\n",
       "      <td>Königswinter, Deutschland</td>\n",
       "      <td>Immer wenn ich in &lt;LOC&gt; bin komme ich nicht dr...</td>\n",
       "      <td>5.0</td>\n",
       "      <td>BLOCK HOUSE Jungfernstieg</td>\n",
       "      <td>de</td>\n",
       "      <td>de</td>\n",
       "      <td>Immer wenn ich in Hamburg bin komme ich nicht ...</td>\n",
       "      <td>0</td>\n",
       "    </tr>\n",
       "    <tr>\n",
       "      <th>4</th>\n",
       "      <td>817846970</td>\n",
       "      <td>9554533</td>\n",
       "      <td>0</td>\n",
       "      <td>Absolut top</td>\n",
       "      <td>7. November 2021</td>\n",
       "      <td>spstutorial</td>\n",
       "      <td>Kulmbach, Deutschland</td>\n",
       "      <td>Wir hatten nicht reserviert und bekamen trotzd...</td>\n",
       "      <td>4.0</td>\n",
       "      <td>HANS IM GLÜCK Burgergrill &amp; Bar</td>\n",
       "      <td>de</td>\n",
       "      <td>de</td>\n",
       "      <td>Wir hatten nicht reserviert und bekamen trotzd...</td>\n",
       "      <td>0</td>\n",
       "    </tr>\n",
       "    <tr>\n",
       "      <th>...</th>\n",
       "      <td>...</td>\n",
       "      <td>...</td>\n",
       "      <td>...</td>\n",
       "      <td>...</td>\n",
       "      <td>...</td>\n",
       "      <td>...</td>\n",
       "      <td>...</td>\n",
       "      <td>...</td>\n",
       "      <td>...</td>\n",
       "      <td>...</td>\n",
       "      <td>...</td>\n",
       "      <td>...</td>\n",
       "      <td>...</td>\n",
       "      <td>...</td>\n",
       "    </tr>\n",
       "    <tr>\n",
       "      <th>3495</th>\n",
       "      <td>722535583</td>\n",
       "      <td>758281</td>\n",
       "      <td>2</td>\n",
       "      <td>Rasche Bedienung, recht gute Speisen, Freundli...</td>\n",
       "      <td>30. Oktober 2019</td>\n",
       "      <td>Heinz G</td>\n",
       "      <td>Zürich, Schweiz</td>\n",
       "      <td>Schade, ansonsten wäre das noch ein guter Ort,...</td>\n",
       "      <td>4.0</td>\n",
       "      <td>Vapiano</td>\n",
       "      <td>de</td>\n",
       "      <td>de</td>\n",
       "      <td>Das Essen war ganz ok, Vapiano Styl eben. Aber...</td>\n",
       "      <td>3</td>\n",
       "    </tr>\n",
       "    <tr>\n",
       "      <th>3496</th>\n",
       "      <td>637091546</td>\n",
       "      <td>2429098</td>\n",
       "      <td>5</td>\n",
       "      <td>Riesige Pizza</td>\n",
       "      <td>2. Dezember 2018</td>\n",
       "      <td>steph70806</td>\n",
       "      <td>Kornwestheim, Deutschland</td>\n",
       "      <td>Also das allerwichtigste zuerst: Die Pizza war...</td>\n",
       "      <td>4.0</td>\n",
       "      <td>L'Osteria</td>\n",
       "      <td>de</td>\n",
       "      <td>de</td>\n",
       "      <td>Also das allerwichtigste zuerst: Die Pizza war...</td>\n",
       "      <td>0</td>\n",
       "    </tr>\n",
       "    <tr>\n",
       "      <th>3497</th>\n",
       "      <td>483726529</td>\n",
       "      <td>1520135</td>\n",
       "      <td>19</td>\n",
       "      <td>Super Pizza</td>\n",
       "      <td>12. Mai 2017</td>\n",
       "      <td>sebastianbY3422VY</td>\n",
       "      <td>München, Deutschland</td>\n",
       "      <td>Service kommt ganz auf den Kellner/in an.</td>\n",
       "      <td>4.0</td>\n",
       "      <td>L'Osteria München Künstlerhaus</td>\n",
       "      <td>de</td>\n",
       "      <td>de</td>\n",
       "      <td>Beste Pizza in der Stadt. Für ein Essen mit Fr...</td>\n",
       "      <td>3</td>\n",
       "    </tr>\n",
       "    <tr>\n",
       "      <th>3498</th>\n",
       "      <td>706342521</td>\n",
       "      <td>2271294</td>\n",
       "      <td>14</td>\n",
       "      <td>Einer meiner Lieblingsplätze in Hamburg</td>\n",
       "      <td>4. September 2019</td>\n",
       "      <td>Bernd P</td>\n",
       "      <td>München, Deutschland</td>\n",
       "      <td>Das Essen ist einfach super, die Burger so zie...</td>\n",
       "      <td>5.0</td>\n",
       "      <td>Hard Rock Cafe</td>\n",
       "      <td>de</td>\n",
       "      <td>de</td>\n",
       "      <td>Hamburg ist sicher nicht arm an tourist traps,...</td>\n",
       "      <td>2</td>\n",
       "    </tr>\n",
       "    <tr>\n",
       "      <th>3499</th>\n",
       "      <td>369051908</td>\n",
       "      <td>758281</td>\n",
       "      <td>10</td>\n",
       "      <td>Ganz nett</td>\n",
       "      <td>30. April 2016</td>\n",
       "      <td>beerhimm</td>\n",
       "      <td>Frankfurt am Main, Deutschland</td>\n",
       "      <td>Ich glaube das Biet ist hausgemacht , von dahe...</td>\n",
       "      <td>3.0</td>\n",
       "      <td>Vapiano</td>\n",
       "      <td>de</td>\n",
       "      <td>de</td>\n",
       "      <td>Ist ok ,aber außer dem Bier kulinarisch nicht ...</td>\n",
       "      <td>1</td>\n",
       "    </tr>\n",
       "  </tbody>\n",
       "</table>\n",
       "<p>3500 rows × 14 columns</p>\n",
       "</div>"
      ],
      "text/plain": [
       "      review_id restaurant_id page_index   \n",
       "0     483808031       1520135         19  \\\n",
       "1     635650543       7082848         11   \n",
       "2     809253853       2271294          6   \n",
       "3     567785421       1870837         10   \n",
       "4     817846970       9554533          0   \n",
       "...         ...           ...        ...   \n",
       "3495  722535583        758281          2   \n",
       "3496  637091546       2429098          5   \n",
       "3497  483726529       1520135         19   \n",
       "3498  706342521       2271294         14   \n",
       "3499  369051908        758281         10   \n",
       "\n",
       "                                                  title                date   \n",
       "0     Lage unschlagbar, Qualität entsprechend aller ...        13. Mai 2017  \\\n",
       "1                                            Gelungen !   25. November 2018   \n",
       "2                                        Worst ever HRC  10. September 2021   \n",
       "3                                         Super lecker        20. März 2018   \n",
       "4                                           Absolut top    7. November 2021   \n",
       "...                                                 ...                 ...   \n",
       "3495  Rasche Bedienung, recht gute Speisen, Freundli...    30. Oktober 2019   \n",
       "3496                                      Riesige Pizza    2. Dezember 2018   \n",
       "3497                                        Super Pizza        12. Mai 2017   \n",
       "3498            Einer meiner Lieblingsplätze in Hamburg   4. September 2019   \n",
       "3499                                          Ganz nett      30. April 2016   \n",
       "\n",
       "            author_name                 author_location   \n",
       "0                Irk247           Augsburg, Deutschland  \\\n",
       "1               luih201                            None   \n",
       "2              andydrei                            None   \n",
       "3        thomasrV8773VX       Königswinter, Deutschland   \n",
       "4           spstutorial           Kulmbach, Deutschland   \n",
       "...                 ...                             ...   \n",
       "3495            Heinz G                 Zürich, Schweiz   \n",
       "3496         steph70806       Kornwestheim, Deutschland   \n",
       "3497  sebastianbY3422VY            München, Deutschland   \n",
       "3498            Bernd P            München, Deutschland   \n",
       "3499           beerhimm  Frankfurt am Main, Deutschland   \n",
       "\n",
       "                                                   text rating   \n",
       "0     Das Restaurant ist zentral gelegen, trotzdem s...    4.0  \\\n",
       "1      Keine lange Wartezeiten und Typisch Italienisch.    5.0   \n",
       "2     Wenn Sie allerdings trockene, lauwarme Burger ...    2.0   \n",
       "3     Immer wenn ich in <LOC> bin komme ich nicht dr...    5.0   \n",
       "4     Wir hatten nicht reserviert und bekamen trotzd...    4.0   \n",
       "...                                                 ...    ...   \n",
       "3495  Schade, ansonsten wäre das noch ein guter Ort,...    4.0   \n",
       "3496  Also das allerwichtigste zuerst: Die Pizza war...    4.0   \n",
       "3497          Service kommt ganz auf den Kellner/in an.    4.0   \n",
       "3498  Das Essen ist einfach super, die Burger so zie...    5.0   \n",
       "3499  Ich glaube das Biet ist hausgemacht , von dahe...    3.0   \n",
       "\n",
       "                        restaurant_name language_code detected_language   \n",
       "0       L'Osteria München Künstlerhaus             de                de  \\\n",
       "1                            L'Osteria             de                de   \n",
       "2                       Hard Rock Cafe             de                de   \n",
       "3            BLOCK HOUSE Jungfernstieg             de                de   \n",
       "4      HANS IM GLÜCK Burgergrill & Bar             de                de   \n",
       "...                                 ...           ...               ...   \n",
       "3495                           Vapiano             de                de   \n",
       "3496                         L'Osteria             de                de   \n",
       "3497    L'Osteria München Künstlerhaus             de                de   \n",
       "3498                    Hard Rock Cafe             de                de   \n",
       "3499                           Vapiano             de                de   \n",
       "\n",
       "                                   text_noanonymization sentence_idx  \n",
       "0     Das Restaurant ist zentral gelegen, trotzdem s...            0  \n",
       "1     Waren schon öfter da, Essen immer super lecker...            2  \n",
       "2     Von anderen Hard Rock Cafés bin ich leckeres E...            2  \n",
       "3     Immer wenn ich in Hamburg bin komme ich nicht ...            0  \n",
       "4     Wir hatten nicht reserviert und bekamen trotzd...            0  \n",
       "...                                                 ...          ...  \n",
       "3495  Das Essen war ganz ok, Vapiano Styl eben. Aber...            3  \n",
       "3496  Also das allerwichtigste zuerst: Die Pizza war...            0  \n",
       "3497  Beste Pizza in der Stadt. Für ein Essen mit Fr...            3  \n",
       "3498  Hamburg ist sicher nicht arm an tourist traps,...            2  \n",
       "3499  Ist ok ,aber außer dem Bier kulinarisch nicht ...            1  \n",
       "\n",
       "[3500 rows x 14 columns]"
      ]
     },
     "execution_count": 22,
     "metadata": {},
     "output_type": "execute_result"
    }
   ],
   "source": [
    "df_balanced_reviews_sentences = df_balanced_reviews_sentences.sample(frac=1, random_state=RANDOM_STATE)  # 'frac=1' mischt den gesamten DataFrame\n",
    "df_balanced_reviews_sentences.reset_index(drop=True, inplace=True)\n",
    "df_balanced_reviews_sentences"
   ]
  },
  {
   "cell_type": "code",
   "execution_count": 23,
   "id": "c04af8ba-ef1b-4d7b-81be-435e33520c1d",
   "metadata": {
    "tags": []
   },
   "outputs": [
    {
     "data": {
      "text/plain": [
       "rating\n",
       "4.0    700\n",
       "5.0    700\n",
       "2.0    700\n",
       "3.0    700\n",
       "1.0    700\n",
       "Name: count, dtype: int64"
      ]
     },
     "execution_count": 23,
     "metadata": {},
     "output_type": "execute_result"
    }
   ],
   "source": [
    "df_balanced_reviews_sentences[\"rating\"].value_counts()"
   ]
  },
  {
   "cell_type": "code",
   "execution_count": 24,
   "id": "6cd37024-1bc7-41f6-8e6d-4f34bd490441",
   "metadata": {},
   "outputs": [
    {
     "data": {
      "text/html": [
       "<div>\n",
       "<style scoped>\n",
       "    .dataframe tbody tr th:only-of-type {\n",
       "        vertical-align: middle;\n",
       "    }\n",
       "\n",
       "    .dataframe tbody tr th {\n",
       "        vertical-align: top;\n",
       "    }\n",
       "\n",
       "    .dataframe thead th {\n",
       "        text-align: right;\n",
       "    }\n",
       "</style>\n",
       "<table border=\"1\" class=\"dataframe\">\n",
       "  <thead>\n",
       "    <tr style=\"text-align: right;\">\n",
       "      <th></th>\n",
       "      <th>review_id</th>\n",
       "      <th>sentence_idx</th>\n",
       "      <th>count</th>\n",
       "    </tr>\n",
       "  </thead>\n",
       "  <tbody>\n",
       "    <tr>\n",
       "      <th>0</th>\n",
       "      <td>103493884</td>\n",
       "      <td>12</td>\n",
       "      <td>1</td>\n",
       "    </tr>\n",
       "    <tr>\n",
       "      <th>1</th>\n",
       "      <td>106323330</td>\n",
       "      <td>0</td>\n",
       "      <td>1</td>\n",
       "    </tr>\n",
       "    <tr>\n",
       "      <th>2</th>\n",
       "      <td>108229054</td>\n",
       "      <td>1</td>\n",
       "      <td>1</td>\n",
       "    </tr>\n",
       "    <tr>\n",
       "      <th>3</th>\n",
       "      <td>108229054</td>\n",
       "      <td>5</td>\n",
       "      <td>1</td>\n",
       "    </tr>\n",
       "    <tr>\n",
       "      <th>4</th>\n",
       "      <td>114707299</td>\n",
       "      <td>1</td>\n",
       "      <td>1</td>\n",
       "    </tr>\n",
       "    <tr>\n",
       "      <th>...</th>\n",
       "      <td>...</td>\n",
       "      <td>...</td>\n",
       "      <td>...</td>\n",
       "    </tr>\n",
       "    <tr>\n",
       "      <th>3495</th>\n",
       "      <td>910013568</td>\n",
       "      <td>3</td>\n",
       "      <td>1</td>\n",
       "    </tr>\n",
       "    <tr>\n",
       "      <th>3496</th>\n",
       "      <td>910516999</td>\n",
       "      <td>4</td>\n",
       "      <td>1</td>\n",
       "    </tr>\n",
       "    <tr>\n",
       "      <th>3497</th>\n",
       "      <td>910516999</td>\n",
       "      <td>9</td>\n",
       "      <td>1</td>\n",
       "    </tr>\n",
       "    <tr>\n",
       "      <th>3498</th>\n",
       "      <td>910516999</td>\n",
       "      <td>11</td>\n",
       "      <td>1</td>\n",
       "    </tr>\n",
       "    <tr>\n",
       "      <th>3499</th>\n",
       "      <td>910840019</td>\n",
       "      <td>3</td>\n",
       "      <td>1</td>\n",
       "    </tr>\n",
       "  </tbody>\n",
       "</table>\n",
       "<p>3500 rows × 3 columns</p>\n",
       "</div>"
      ],
      "text/plain": [
       "      review_id  sentence_idx  count\n",
       "0     103493884            12      1\n",
       "1     106323330             0      1\n",
       "2     108229054             1      1\n",
       "3     108229054             5      1\n",
       "4     114707299             1      1\n",
       "...         ...           ...    ...\n",
       "3495  910013568             3      1\n",
       "3496  910516999             4      1\n",
       "3497  910516999             9      1\n",
       "3498  910516999            11      1\n",
       "3499  910840019             3      1\n",
       "\n",
       "[3500 rows x 3 columns]"
      ]
     },
     "execution_count": 24,
     "metadata": {},
     "output_type": "execute_result"
    }
   ],
   "source": [
    "df_balanced_reviews_sentences.groupby([\"review_id\", \"sentence_idx\"]).size().reset_index(name=\"count\")"
   ]
  },
  {
   "cell_type": "code",
   "execution_count": 29,
   "id": "1eed9230-f055-491c-904d-c93d93a1c0f0",
   "metadata": {
    "tags": []
   },
   "outputs": [
    {
     "data": {
      "text/plain": [
       "restaurant_id\n",
       "1520135    233\n",
       "2429098    220\n",
       "758281     199\n",
       "718834     197\n",
       "1875739    193\n",
       "1118814    186\n",
       "2271294    186\n",
       "1119896    185\n",
       "715361     180\n",
       "1867249    177\n",
       "4432816    171\n",
       "7082848    168\n",
       "1027424    161\n",
       "9554533    159\n",
       "715362     157\n",
       "778662     156\n",
       "1870837    152\n",
       "801344     146\n",
       "1821839    143\n",
       "2395287    131\n",
       "Name: count, dtype: int64"
      ]
     },
     "execution_count": 29,
     "metadata": {},
     "output_type": "execute_result"
    }
   ],
   "source": [
    "df_balanced_reviews_sentences[\"restaurant_id\"].value_counts()"
   ]
  },
  {
   "cell_type": "markdown",
   "id": "d61cb1bc-25d1-48df-a4ea-754f0c6ddf4f",
   "metadata": {},
   "source": [
    "### Store as .csv "
   ]
  },
  {
   "cell_type": "code",
   "execution_count": 26,
   "id": "ec07b2e4-8b16-4d4a-a212-8e1e6029a30f",
   "metadata": {},
   "outputs": [],
   "source": [
    "df_reviews.to_csv(\"../datasets/reviews.csv\")"
   ]
  },
  {
   "cell_type": "code",
   "execution_count": 27,
   "id": "8923e3a2-ed7d-4f68-8a77-14adb8d271b4",
   "metadata": {
    "tags": []
   },
   "outputs": [],
   "source": [
    "df_reviews_sentences.to_csv(\"../datasets/reviews_sentences.csv\")"
   ]
  },
  {
   "cell_type": "code",
   "execution_count": 28,
   "id": "cc77ae24-af64-464f-9e00-15067cbdd6c4",
   "metadata": {
    "tags": []
   },
   "outputs": [],
   "source": [
    "df_balanced_reviews_sentences.to_csv(\"../datasets/balanced_reviews_sentences.csv\")"
   ]
  }
 ],
 "metadata": {
  "kernelspec": {
   "display_name": "Python 3 (ipykernel)",
   "language": "python",
   "name": "python3"
  },
  "language_info": {
   "codemirror_mode": {
    "name": "ipython",
    "version": 3
   },
   "file_extension": ".py",
   "mimetype": "text/x-python",
   "name": "python",
   "nbconvert_exporter": "python",
   "pygments_lexer": "ipython3",
   "version": "3.11.3"
  }
 },
 "nbformat": 4,
 "nbformat_minor": 5
}
