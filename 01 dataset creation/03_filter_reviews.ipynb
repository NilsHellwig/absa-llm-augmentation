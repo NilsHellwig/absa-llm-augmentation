{
 "cells": [
  {
   "cell_type": "markdown",
   "id": "d3e07a11-7920-4c19-8577-48f7d98a1d82",
   "metadata": {},
   "source": [
    "# Notebook: Filter Reviews from Collected HTMLs"
   ]
  },
  {
   "cell_type": "markdown",
   "id": "85832c4c-2ab8-41cc-b690-6b2c076d5d7a",
   "metadata": {},
   "source": [
    "## Packages"
   ]
  },
  {
   "cell_type": "code",
   "execution_count": 1,
   "id": "21959832-c64a-4122-919d-a9ef902ac384",
   "metadata": {
    "tags": []
   },
   "outputs": [],
   "source": [
    "from langdetect import detect\n",
    "from bs4 import BeautifulSoup\n",
    "import pandas as pd\n",
    "import spacy\n",
    "import json\n",
    "import nltk\n",
    "from nltk.tokenize import sent_tokenize\n",
    "import re"
   ]
  },
  {
   "cell_type": "markdown",
   "id": "cfe0f0b7-8c8a-4021-b16e-01a9b4bb7b66",
   "metadata": {},
   "source": [
    "## Settings"
   ]
  },
  {
   "cell_type": "code",
   "execution_count": 2,
   "id": "7b7fcae1-4484-4999-9d8b-ff6d1494ec18",
   "metadata": {
    "tags": []
   },
   "outputs": [
    {
     "name": "stderr",
     "output_type": "stream",
     "text": [
      "[nltk_data] Downloading package punkt to\n",
      "[nltk_data]     /Users/nils_hellwig/nltk_data...\n",
      "[nltk_data]   Package punkt is already up-to-date!\n"
     ]
    },
    {
     "data": {
      "text/plain": [
       "True"
      ]
     },
     "execution_count": 2,
     "metadata": {},
     "output_type": "execute_result"
    }
   ],
   "source": [
    "nltk.download('punkt')"
   ]
  },
  {
   "cell_type": "code",
   "execution_count": 3,
   "id": "03a7ba7d-5456-4e2b-b123-5cf1749a2e53",
   "metadata": {
    "tags": []
   },
   "outputs": [],
   "source": [
    "%%capture\n",
    "#!python -m spacy download de_core_news_lg"
   ]
  },
  {
   "cell_type": "code",
   "execution_count": 4,
   "id": "22c90a36-71a4-46a4-a0da-abc7aea6da19",
   "metadata": {
    "tags": []
   },
   "outputs": [],
   "source": [
    "nlp = spacy.load(\"de_core_news_lg\")"
   ]
  },
  {
   "cell_type": "markdown",
   "id": "caffba9f-b007-4878-9377-5b64a0544fd0",
   "metadata": {},
   "source": [
    "## Constants"
   ]
  },
  {
   "cell_type": "code",
   "execution_count": 5,
   "id": "2478b5a4-fd21-4d69-be2a-f889b478deb8",
   "metadata": {
    "tags": []
   },
   "outputs": [],
   "source": [
    "RESTAURANT_URLS = \"restaurant_metadata_with_highest_page_index.json\"\n",
    "REVIEWS_PATH = \"reviews_urls.csv\"\n",
    "RANDOM_STATE = 43"
   ]
  },
  {
   "cell_type": "markdown",
   "id": "4597beda-a4b4-4f06-9cd7-27b1c534a003",
   "metadata": {},
   "source": [
    "## Code"
   ]
  },
  {
   "cell_type": "markdown",
   "id": "938e9745-2849-4641-bbbd-72ebc85d84e4",
   "metadata": {},
   "source": [
    "### Load Dataset"
   ]
  },
  {
   "cell_type": "code",
   "execution_count": 6,
   "id": "0d59070e-0109-4bf0-ab5a-ae77d878f1d3",
   "metadata": {
    "tags": []
   },
   "outputs": [],
   "source": [
    "reviews_df = pd.read_csv(REVIEWS_PATH)"
   ]
  },
  {
   "cell_type": "markdown",
   "id": "ef4161fe-64c2-4f42-8c46-724e6bbfb43d",
   "metadata": {},
   "source": [
    "### Load Reviews"
   ]
  },
  {
   "cell_type": "code",
   "execution_count": 7,
   "id": "bdad69c3-b37c-43fb-bbcf-c0e4472c5b5b",
   "metadata": {},
   "outputs": [],
   "source": [
    "columns = ['review_id', 'restaurant_id', 'page_index', 'title', 'date', 'author_name', 'author_location', 'text', 'rating', 'restaurant_name', 'language_code']\n",
    "data_reviews = []"
   ]
  },
  {
   "cell_type": "code",
   "execution_count": 8,
   "id": "eac9a72e-7117-44b8-bceb-d1bf06013a8d",
   "metadata": {
    "tags": []
   },
   "outputs": [],
   "source": [
    "def load_review(review_soup):\n",
    "    review = {}\n",
    "    review[\"title\"] = review_soup.find(\"div\", attrs={\"class\": \"quote\"}).get_text()\n",
    "    review[\"date\"] = review_soup.find(class_='ratingDate')['title']\n",
    "    review[\"author_name\"] = review_soup.find(class_='scrname').get_text()\n",
    "    user_location_element = review_soup.find(class_='userLocation')\n",
    "    if user_location_element:\n",
    "        user_location = user_location_element.get_text()\n",
    "    else:\n",
    "        user_location = None\n",
    "    review[\"author_location\"] = user_location\n",
    "    review[\"text\"] = review_soup.find(class_='partial_entry').get_text()\n",
    "    review[\"rating\"] = int(review_soup.find(class_='reviewItemInline').find('span', class_='ui_bubble_rating')['class'][1].split('_')[1]) / 10\n",
    "    return review"
   ]
  },
  {
   "cell_type": "code",
   "execution_count": 9,
   "id": "fe14c607-433a-4063-8005-b1db0e942979",
   "metadata": {
    "tags": []
   },
   "outputs": [],
   "source": [
    "for index, row in reviews_df.iterrows():\n",
    "    path_review = \"reviews_restaurants_html/restaurant_\" + str(row['restaurant_id']) + \"_review_\" + str(row[\"review_id\"]) + \".html\"\n",
    "    with open(path_review, 'r', encoding='utf-8') as file:\n",
    "        html_content = file.read()\n",
    "    doc_soup = BeautifulSoup(html_content, 'html.parser')\n",
    "    review_soup = doc_soup.find(id=\"review_\"+str(row[\"review_id\"]))\n",
    "    review = load_review(review_soup)\n",
    "    try:\n",
    "        review[\"language_code\"] = doc_soup.find(\"div\", class_=\"prw_reviews_user_links_hsx\").span[\"data-language\"]\n",
    "    except:\n",
    "        review[\"language_code\"] = \"not defined\"\n",
    "    review[\"review_id\"] = row[\"review_id\"]\n",
    "    review[\"restaurant_id\"] = row[\"restaurant_id\"]\n",
    "    review[\"page_index\"] = row[\"page_index\"]\n",
    "    data_reviews.append(review)"
   ]
  },
  {
   "cell_type": "code",
   "execution_count": 10,
   "id": "cdeb3ff8-3cd4-485d-9c17-4a829287707a",
   "metadata": {
    "tags": []
   },
   "outputs": [],
   "source": [
    "df_reviews = pd.DataFrame(data_reviews, columns=columns)"
   ]
  },
  {
   "cell_type": "markdown",
   "id": "a283d68e-60bd-4420-a64b-75355e9df77c",
   "metadata": {},
   "source": [
    "### Add restaurant name"
   ]
  },
  {
   "cell_type": "code",
   "execution_count": 11,
   "id": "b7e67b91-e8cf-412c-b8da-7e165643db80",
   "metadata": {
    "tags": []
   },
   "outputs": [],
   "source": [
    "with open(RESTAURANT_URLS, 'r') as json_file:\n",
    "    restaurant_metadata = json.load(json_file)"
   ]
  },
  {
   "cell_type": "code",
   "execution_count": 12,
   "id": "a490df00-be3d-4bb5-a6a8-1c4d923eca38",
   "metadata": {
    "tags": []
   },
   "outputs": [],
   "source": [
    "restaurant_dict = {entry['id']: entry['restaurant'] for entry in restaurant_metadata}\n",
    "restaurant_dict_str = {int(k): v for k, v in restaurant_dict.items()}\n",
    "df_reviews['restaurant_name'] = df_reviews['restaurant_id'].map(restaurant_dict_str)"
   ]
  },
  {
   "cell_type": "markdown",
   "id": "b44a1b0d-0383-4dde-90c6-fd48c3f25d8b",
   "metadata": {},
   "source": [
    "### Check for Duplicates"
   ]
  },
  {
   "cell_type": "code",
   "execution_count": 13,
   "id": "cb46ac87-60b7-47f3-9bfe-1eff6ae597ea",
   "metadata": {
    "tags": []
   },
   "outputs": [
    {
     "data": {
      "text/html": [
       "<div>\n",
       "<style scoped>\n",
       "    .dataframe tbody tr th:only-of-type {\n",
       "        vertical-align: middle;\n",
       "    }\n",
       "\n",
       "    .dataframe tbody tr th {\n",
       "        vertical-align: top;\n",
       "    }\n",
       "\n",
       "    .dataframe thead th {\n",
       "        text-align: right;\n",
       "    }\n",
       "</style>\n",
       "<table border=\"1\" class=\"dataframe\">\n",
       "  <thead>\n",
       "    <tr style=\"text-align: right;\">\n",
       "      <th></th>\n",
       "      <th>review_id</th>\n",
       "      <th>restaurant_id</th>\n",
       "      <th>page_index</th>\n",
       "      <th>title</th>\n",
       "      <th>date</th>\n",
       "      <th>author_name</th>\n",
       "      <th>author_location</th>\n",
       "      <th>text</th>\n",
       "      <th>rating</th>\n",
       "      <th>restaurant_name</th>\n",
       "      <th>language_code</th>\n",
       "    </tr>\n",
       "  </thead>\n",
       "  <tbody>\n",
       "  </tbody>\n",
       "</table>\n",
       "</div>"
      ],
      "text/plain": [
       "Empty DataFrame\n",
       "Columns: [review_id, restaurant_id, page_index, title, date, author_name, author_location, text, rating, restaurant_name, language_code]\n",
       "Index: []"
      ]
     },
     "execution_count": 13,
     "metadata": {},
     "output_type": "execute_result"
    }
   ],
   "source": [
    "duplicate_rows = df_reviews[df_reviews.duplicated(subset=['review_id'], keep=False)]\n",
    "duplicate_rows"
   ]
  },
  {
   "cell_type": "markdown",
   "id": "bdcd2375-af01-4223-a1e4-da889d46db08",
   "metadata": {},
   "source": [
    "### Delete Examples without Data"
   ]
  },
  {
   "cell_type": "markdown",
   "id": "d627d423-b73d-43df-b9ae-745a9ca2d54a",
   "metadata": {},
   "source": [
    "There are rare cases where the text from the rating is not returned with the GET request to the page from the restaurant rating. These will now be excluded."
   ]
  },
  {
   "cell_type": "code",
   "execution_count": 14,
   "id": "0f068d7a-bcf7-41dd-a716-ffbd7ed2de8f",
   "metadata": {
    "tags": []
   },
   "outputs": [],
   "source": [
    "df_reviews = df_reviews.drop(df_reviews[(df_reviews['text'] == '') | (df_reviews['title'] == '')].index)"
   ]
  },
  {
   "cell_type": "markdown",
   "id": "2904757f-7f9b-4c25-8043-b5d10bf6d0d2",
   "metadata": {},
   "source": [
    "### Filter Languages\n",
    "\n",
    "We are only considering reviews in german language."
   ]
  },
  {
   "cell_type": "code",
   "execution_count": 15,
   "id": "4508a9a7-8fe4-4898-b1ef-f3732f6a21a9",
   "metadata": {},
   "outputs": [],
   "source": [
    "df_reviews = df_reviews.drop(df_reviews[(df_reviews['language_code'] != 'de')].index)"
   ]
  },
  {
   "cell_type": "markdown",
   "id": "aec8a268-1f0b-4348-b167-ee797791c710",
   "metadata": {},
   "source": [
    "Even if the language code = \"de\", we have observed that reviews in other languages sometimes have \"de\" as the language code. These are excluded with the help of Google's language-detection."
   ]
  },
  {
   "cell_type": "code",
   "execution_count": 16,
   "id": "57f01c97-147e-46bf-9d4f-16536b42997c",
   "metadata": {
    "tags": []
   },
   "outputs": [
    {
     "data": {
      "text/html": [
       "<div>\n",
       "<style scoped>\n",
       "    .dataframe tbody tr th:only-of-type {\n",
       "        vertical-align: middle;\n",
       "    }\n",
       "\n",
       "    .dataframe tbody tr th {\n",
       "        vertical-align: top;\n",
       "    }\n",
       "\n",
       "    .dataframe thead th {\n",
       "        text-align: right;\n",
       "    }\n",
       "</style>\n",
       "<table border=\"1\" class=\"dataframe\">\n",
       "  <thead>\n",
       "    <tr style=\"text-align: right;\">\n",
       "      <th></th>\n",
       "      <th>review_id</th>\n",
       "      <th>restaurant_id</th>\n",
       "      <th>page_index</th>\n",
       "      <th>title</th>\n",
       "      <th>date</th>\n",
       "      <th>author_name</th>\n",
       "      <th>author_location</th>\n",
       "      <th>text</th>\n",
       "      <th>rating</th>\n",
       "      <th>restaurant_name</th>\n",
       "      <th>language_code</th>\n",
       "      <th>detected_language</th>\n",
       "    </tr>\n",
       "  </thead>\n",
       "  <tbody>\n",
       "    <tr>\n",
       "      <th>967</th>\n",
       "      <td>774382373</td>\n",
       "      <td>13295509</td>\n",
       "      <td>0</td>\n",
       "      <td>ES WAR nur akzeptable.It jast not very tasty.G...</td>\n",
       "      <td>15. Oktober 2020</td>\n",
       "      <td>EmmiQ</td>\n",
       "      <td>Mexiko-Stadt, Mexiko</td>\n",
       "      <td>Dass Hamburger sind nicht außergewöhnlich. Mei...</td>\n",
       "      <td>4.0</td>\n",
       "      <td>hans im glück</td>\n",
       "      <td>de</td>\n",
       "      <td>en</td>\n",
       "    </tr>\n",
       "    <tr>\n",
       "      <th>1892</th>\n",
       "      <td>861674842</td>\n",
       "      <td>6415648</td>\n",
       "      <td>0</td>\n",
       "      <td>Nett aber laaaangsam / Nice but sloooowly</td>\n",
       "      <td>24. September 2022</td>\n",
       "      <td>davidmonba</td>\n",
       "      <td>Valencia, Spanien</td>\n",
       "      <td>Der Ort ist nett, das Essen und die Getränke s...</td>\n",
       "      <td>4.0</td>\n",
       "      <td>l'osteria</td>\n",
       "      <td>de</td>\n",
       "      <td>en</td>\n",
       "    </tr>\n",
       "    <tr>\n",
       "      <th>3105</th>\n",
       "      <td>851895150</td>\n",
       "      <td>5930727</td>\n",
       "      <td>0</td>\n",
       "      <td>Entäuscht</td>\n",
       "      <td>4. August 2022</td>\n",
       "      <td>AbhiS_Hamburg_75</td>\n",
       "      <td>None</td>\n",
       "      <td>I would advise against the falafel dishes beca...</td>\n",
       "      <td>1.0</td>\n",
       "      <td>dean&amp;david</td>\n",
       "      <td>de</td>\n",
       "      <td>en</td>\n",
       "    </tr>\n",
       "  </tbody>\n",
       "</table>\n",
       "</div>"
      ],
      "text/plain": [
       "      review_id  restaurant_id  page_index  \\\n",
       "967   774382373       13295509           0   \n",
       "1892  861674842        6415648           0   \n",
       "3105  851895150        5930727           0   \n",
       "\n",
       "                                                  title                date  \\\n",
       "967   ES WAR nur akzeptable.It jast not very tasty.G...    15. Oktober 2020   \n",
       "1892          Nett aber laaaangsam / Nice but sloooowly  24. September 2022   \n",
       "3105                                          Entäuscht      4. August 2022   \n",
       "\n",
       "           author_name       author_location  \\\n",
       "967              EmmiQ  Mexiko-Stadt, Mexiko   \n",
       "1892        davidmonba     Valencia, Spanien   \n",
       "3105  AbhiS_Hamburg_75                  None   \n",
       "\n",
       "                                                   text  rating  \\\n",
       "967   Dass Hamburger sind nicht außergewöhnlich. Mei...     4.0   \n",
       "1892  Der Ort ist nett, das Essen und die Getränke s...     4.0   \n",
       "3105  I would advise against the falafel dishes beca...     1.0   \n",
       "\n",
       "     restaurant_name language_code detected_language  \n",
       "967    hans im glück            de                en  \n",
       "1892       l'osteria            de                en  \n",
       "3105      dean&david            de                en  "
      ]
     },
     "execution_count": 16,
     "metadata": {},
     "output_type": "execute_result"
    }
   ],
   "source": [
    "df_reviews['detected_language'] = df_reviews['text'].apply(lambda x: detect(x))\n",
    "# Examples of reviews that were excluded\n",
    "df_reviews[df_reviews['detected_language'] != 'de']"
   ]
  },
  {
   "cell_type": "code",
   "execution_count": 17,
   "id": "fa00ab7f-0e9f-4871-93f6-1ee0c0136865",
   "metadata": {
    "tags": []
   },
   "outputs": [],
   "source": [
    "df_reviews = df_reviews[df_reviews['detected_language'] == 'de']"
   ]
  },
  {
   "cell_type": "markdown",
   "id": "0256bcef-03c7-425b-93f2-c569e528cd15",
   "metadata": {
    "tags": []
   },
   "source": [
    "### Remove Reviews Posted Before June 2022 "
   ]
  },
  {
   "cell_type": "code",
   "execution_count": 18,
   "id": "f80272c4-8cc0-4ee5-855a-7af1e3678f4f",
   "metadata": {
    "tags": []
   },
   "outputs": [],
   "source": [
    "month_mapping = {\n",
    "    \"Januar\": 1, \"Februar\": 2, \"März\": 3, \"April\": 4, \"Mai\": 5, \"Juni\": 6,\n",
    "    \"Juli\": 7, \"August\": 8, \"September\": 9, \"Oktober\": 10, \"November\": 11, \"Dezember\": 12\n",
    "}\n",
    "\n",
    "def convert_date(date_string):\n",
    "    day, month_name, year = date_string.split()\n",
    "    day = day.replace(\".\", \"\")\n",
    "    month = month_mapping[month_name]\n",
    "    return pd.Timestamp(int(year), month, int(day))\n",
    "\n",
    "df_reviews[\"date\"] = df_reviews[\"date\"].apply(convert_date)"
   ]
  },
  {
   "cell_type": "code",
   "execution_count": 19,
   "id": "fa1077a8-9b35-4e17-befa-85dc048a488f",
   "metadata": {
    "tags": []
   },
   "outputs": [],
   "source": [
    "df_reviews = df_reviews[df_reviews[\"date\"] >= pd.Timestamp(2022, 7, 1)]"
   ]
  },
  {
   "cell_type": "code",
   "execution_count": 20,
   "id": "19cf36ee-c4b1-4358-86ac-91d26db68148",
   "metadata": {
    "tags": []
   },
   "outputs": [],
   "source": [
    "df_reviews.reset_index(drop=True, inplace=True)"
   ]
  },
  {
   "cell_type": "markdown",
   "id": "d45c4cf8-0f03-45c1-9c6f-e8a0d0d8e62b",
   "metadata": {},
   "source": [
    "### Anonymise"
   ]
  },
  {
   "cell_type": "code",
   "execution_count": 21,
   "id": "a9e4c2fd-2618-482f-8ac5-d5efe9da612a",
   "metadata": {},
   "outputs": [],
   "source": [
    "df_reviews[\"text_noanonymization\"] = df_reviews[\"text\"]"
   ]
  },
  {
   "cell_type": "code",
   "execution_count": 22,
   "id": "74a83b9d-6c3c-43bd-a670-62f183632c40",
   "metadata": {},
   "outputs": [],
   "source": [
    "def anonymize_entities(text):\n",
    "    doc = nlp(text)\n",
    "    for ent in doc.ents:\n",
    "        if ent.label_ in [\"LOC\", \"PERSON\", \"DATE\"] and ent.label_ != \"Essen\":\n",
    "            text = text.replace(ent.text, f\"<{ent.label_}>\")\n",
    "    return text\n",
    "\n",
    "df_reviews[\"text\"] = df_reviews[\"text\"].apply(anonymize_entities)"
   ]
  },
  {
   "cell_type": "code",
   "execution_count": 23,
   "id": "be968019-536d-4697-9237-54f439ec798b",
   "metadata": {
    "tags": []
   },
   "outputs": [],
   "source": [
    "def anonymize_restaurant_name(text):\n",
    "    restaurant_names = [\n",
    "        \"vapiano\",\n",
    "        \"hans im glück\",\n",
    "        \"hans ins glück\",\n",
    "        \"dean&david\",\n",
    "        \"dean und david\",\n",
    "        \"dean & david\",\n",
    "        \"dean and david\",\n",
    "        \"losteria\",\n",
    "        \"l osteria\",\n",
    "        \"l'osteria\",\n",
    "        \"l‘osteria\",\n",
    "        \"l´osteria\",\n",
    "        \"Llosteria\",\n",
    "        \"L’Osteria\",\n",
    "        \"la osteria\",\n",
    "        \"L`Osteria\",\n",
    "        \"L’Hosteria\",\n",
    "        \"blockhouse\",\n",
    "        \"block house\",\n",
    "        \"block hause\",\n",
    "        \"blockhaus\",\n",
    "        \"blockouse\",\n",
    "        \"Block Houses\",\n",
    "        \"vapianos\",\n",
    "    ]\n",
    "    for name in restaurant_names:\n",
    "        text = re.sub(r'\\b' + re.escape(name) + r'\\b', \"<RESTAURANT_NAME>\", text, flags=re.IGNORECASE)\n",
    "    return text\n",
    "\n",
    "df_reviews[\"text\"] = df_reviews[\"text\"].apply(anonymize_restaurant_name)"
   ]
  },
  {
   "cell_type": "code",
   "execution_count": 24,
   "id": "e51fe9c2-5811-4ecf-915a-9ce40508886b",
   "metadata": {},
   "outputs": [],
   "source": [
    "def anonymize_username(text, username):\n",
    "    return text.replace(username, \"<PERSON>\")\n",
    "df_reviews[\"text\"] = df_reviews.apply(lambda row: anonymize_username(row[\"text\"], row[\"author_name\"]), axis=1)"
   ]
  },
  {
   "cell_type": "markdown",
   "id": "d61cb1bc-25d1-48df-a4ea-754f0c6ddf4f",
   "metadata": {},
   "source": [
    "### Store as .csv "
   ]
  },
  {
   "cell_type": "code",
   "execution_count": 25,
   "id": "ec07b2e4-8b16-4d4a-a212-8e1e6029a30f",
   "metadata": {},
   "outputs": [],
   "source": [
    "df_reviews.to_csv(\"reviews_dataset/reviews.csv\")"
   ]
  },
  {
   "cell_type": "code",
   "execution_count": 26,
   "id": "00404867-43d1-4bc2-9753-302c356d6c3f",
   "metadata": {
    "tags": []
   },
   "outputs": [
    {
     "data": {
      "text/html": [
       "<div>\n",
       "<style scoped>\n",
       "    .dataframe tbody tr th:only-of-type {\n",
       "        vertical-align: middle;\n",
       "    }\n",
       "\n",
       "    .dataframe tbody tr th {\n",
       "        vertical-align: top;\n",
       "    }\n",
       "\n",
       "    .dataframe thead th {\n",
       "        text-align: right;\n",
       "    }\n",
       "</style>\n",
       "<table border=\"1\" class=\"dataframe\">\n",
       "  <thead>\n",
       "    <tr style=\"text-align: right;\">\n",
       "      <th></th>\n",
       "      <th>review_id</th>\n",
       "      <th>restaurant_id</th>\n",
       "      <th>page_index</th>\n",
       "      <th>title</th>\n",
       "      <th>date</th>\n",
       "      <th>author_name</th>\n",
       "      <th>author_location</th>\n",
       "      <th>text</th>\n",
       "      <th>rating</th>\n",
       "      <th>restaurant_name</th>\n",
       "      <th>language_code</th>\n",
       "      <th>detected_language</th>\n",
       "      <th>text_noanonymization</th>\n",
       "    </tr>\n",
       "  </thead>\n",
       "  <tbody>\n",
       "    <tr>\n",
       "      <th>0</th>\n",
       "      <td>867460923</td>\n",
       "      <td>778662</td>\n",
       "      <td>0</td>\n",
       "      <td>Absolut enttäuschend</td>\n",
       "      <td>2022-11-06</td>\n",
       "      <td>BackPacker563486</td>\n",
       "      <td>Berlin, Deutschland</td>\n",
       "      <td>Die schlechteste Pasta aglio olio ever!!! Schm...</td>\n",
       "      <td>1.0</td>\n",
       "      <td>vapiano</td>\n",
       "      <td>de</td>\n",
       "      <td>de</td>\n",
       "      <td>Die schlechteste Pasta aglio olio ever!!! Schm...</td>\n",
       "    </tr>\n",
       "    <tr>\n",
       "      <th>1</th>\n",
       "      <td>907309442</td>\n",
       "      <td>1119896</td>\n",
       "      <td>0</td>\n",
       "      <td>Bestes Italienisches Restaurant Berlin</td>\n",
       "      <td>2023-08-02</td>\n",
       "      <td>Luca R</td>\n",
       "      <td>None</td>\n",
       "      <td>Ich lieeeebe &lt;RESTAURANT_NAME&gt;.Gutes Essen,sup...</td>\n",
       "      <td>5.0</td>\n",
       "      <td>vapiano</td>\n",
       "      <td>de</td>\n",
       "      <td>de</td>\n",
       "      <td>Ich lieeeebe Vapiano.Gutes Essen,super nette M...</td>\n",
       "    </tr>\n",
       "    <tr>\n",
       "      <th>2</th>\n",
       "      <td>904367426</td>\n",
       "      <td>1119896</td>\n",
       "      <td>0</td>\n",
       "      <td>Enttäuschung</td>\n",
       "      <td>2023-07-20</td>\n",
       "      <td>V6519ILannab</td>\n",
       "      <td>Berlin, Deutschland</td>\n",
       "      <td>Ich war früher ein &lt;RESTAURANT_NAME&gt; Fan (also...</td>\n",
       "      <td>1.0</td>\n",
       "      <td>vapiano</td>\n",
       "      <td>de</td>\n",
       "      <td>de</td>\n",
       "      <td>Ich war früher ein Vapiano Fan (also in 2012-2...</td>\n",
       "    </tr>\n",
       "    <tr>\n",
       "      <th>3</th>\n",
       "      <td>865243904</td>\n",
       "      <td>1119896</td>\n",
       "      <td>0</td>\n",
       "      <td>wir gehen gerne hier hin</td>\n",
       "      <td>2022-10-20</td>\n",
       "      <td>575klat</td>\n",
       "      <td>None</td>\n",
       "      <td>Wir gehen gerne hier hin. Immer ok für das Pre...</td>\n",
       "      <td>5.0</td>\n",
       "      <td>vapiano</td>\n",
       "      <td>de</td>\n",
       "      <td>de</td>\n",
       "      <td>Wir gehen gerne hier hin. Immer ok für das Pre...</td>\n",
       "    </tr>\n",
       "    <tr>\n",
       "      <th>4</th>\n",
       "      <td>863710312</td>\n",
       "      <td>1119896</td>\n",
       "      <td>0</td>\n",
       "      <td>Gut gelegen, Essen naja</td>\n",
       "      <td>2022-10-08</td>\n",
       "      <td>DirkU42</td>\n",
       "      <td>Bielefeld, Deutschland</td>\n",
       "      <td>Sehr gut gelegen am &lt;LOC&gt;, freundliche Bedienu...</td>\n",
       "      <td>3.0</td>\n",
       "      <td>vapiano</td>\n",
       "      <td>de</td>\n",
       "      <td>de</td>\n",
       "      <td>Sehr gut gelegen am Potsdamer Platz, freundlic...</td>\n",
       "    </tr>\n",
       "    <tr>\n",
       "      <th>...</th>\n",
       "      <td>...</td>\n",
       "      <td>...</td>\n",
       "      <td>...</td>\n",
       "      <td>...</td>\n",
       "      <td>...</td>\n",
       "      <td>...</td>\n",
       "      <td>...</td>\n",
       "      <td>...</td>\n",
       "      <td>...</td>\n",
       "      <td>...</td>\n",
       "      <td>...</td>\n",
       "      <td>...</td>\n",
       "      <td>...</td>\n",
       "    </tr>\n",
       "    <tr>\n",
       "      <th>1653</th>\n",
       "      <td>868756286</td>\n",
       "      <td>25149391</td>\n",
       "      <td>0</td>\n",
       "      <td>Vielen Dank</td>\n",
       "      <td>2022-11-17</td>\n",
       "      <td>christiansL1481LW</td>\n",
       "      <td>None</td>\n",
       "      <td>Ausgezeichneter Service, komme gerne wieder. H...</td>\n",
       "      <td>5.0</td>\n",
       "      <td>dean&amp;david</td>\n",
       "      <td>de</td>\n",
       "      <td>de</td>\n",
       "      <td>Ausgezeichneter Service, komme gerne wieder. H...</td>\n",
       "    </tr>\n",
       "    <tr>\n",
       "      <th>1654</th>\n",
       "      <td>868742251</td>\n",
       "      <td>25149391</td>\n",
       "      <td>0</td>\n",
       "      <td>Top</td>\n",
       "      <td>2022-11-17</td>\n",
       "      <td>626miguelw</td>\n",
       "      <td>None</td>\n",
       "      <td>Sehr lecker, schneller und guter Service, nett...</td>\n",
       "      <td>5.0</td>\n",
       "      <td>dean&amp;david</td>\n",
       "      <td>de</td>\n",
       "      <td>de</td>\n",
       "      <td>Sehr lecker, schneller und guter Service, nett...</td>\n",
       "    </tr>\n",
       "    <tr>\n",
       "      <th>1655</th>\n",
       "      <td>868661042</td>\n",
       "      <td>25149391</td>\n",
       "      <td>0</td>\n",
       "      <td>Ausgesprochen schenelles gutes Essen und gesund!</td>\n",
       "      <td>2022-11-16</td>\n",
       "      <td>A6205ZAadrianav</td>\n",
       "      <td>None</td>\n",
       "      <td>Essen war sehr lecker Besonders positiv ist, d...</td>\n",
       "      <td>5.0</td>\n",
       "      <td>dean&amp;david</td>\n",
       "      <td>de</td>\n",
       "      <td>de</td>\n",
       "      <td>Essen war sehr lecker Besonders positiv ist, d...</td>\n",
       "    </tr>\n",
       "    <tr>\n",
       "      <th>1656</th>\n",
       "      <td>868462723</td>\n",
       "      <td>21174965</td>\n",
       "      <td>0</td>\n",
       "      <td>Eine Empfehlung kann ich gerne geben</td>\n",
       "      <td>2022-11-14</td>\n",
       "      <td>Andreas G</td>\n",
       "      <td>Sinzig, Deutschland</td>\n",
       "      <td>Essen war lecker, Bedienung war in Ordnung.Pre...</td>\n",
       "      <td>4.0</td>\n",
       "      <td>dean&amp;david</td>\n",
       "      <td>de</td>\n",
       "      <td>de</td>\n",
       "      <td>Essen war lecker, Bedienung war in Ordnung.Pre...</td>\n",
       "    </tr>\n",
       "    <tr>\n",
       "      <th>1657</th>\n",
       "      <td>896044837</td>\n",
       "      <td>25173833</td>\n",
       "      <td>0</td>\n",
       "      <td>Empfehlenswert!</td>\n",
       "      <td>2023-06-20</td>\n",
       "      <td>dr_anke_schaefer</td>\n",
       "      <td>Rostock, Deutschland</td>\n",
       "      <td>Immer wieder die beste Alternative für das Bus...</td>\n",
       "      <td>5.0</td>\n",
       "      <td>dean&amp;david</td>\n",
       "      <td>de</td>\n",
       "      <td>de</td>\n",
       "      <td>Immer wieder die beste Alternative für das Bus...</td>\n",
       "    </tr>\n",
       "  </tbody>\n",
       "</table>\n",
       "<p>1658 rows × 13 columns</p>\n",
       "</div>"
      ],
      "text/plain": [
       "      review_id  restaurant_id  page_index  \\\n",
       "0     867460923         778662           0   \n",
       "1     907309442        1119896           0   \n",
       "2     904367426        1119896           0   \n",
       "3     865243904        1119896           0   \n",
       "4     863710312        1119896           0   \n",
       "...         ...            ...         ...   \n",
       "1653  868756286       25149391           0   \n",
       "1654  868742251       25149391           0   \n",
       "1655  868661042       25149391           0   \n",
       "1656  868462723       21174965           0   \n",
       "1657  896044837       25173833           0   \n",
       "\n",
       "                                                 title       date  \\\n",
       "0                                 Absolut enttäuschend 2022-11-06   \n",
       "1              Bestes Italienisches Restaurant Berlin  2023-08-02   \n",
       "2                                        Enttäuschung  2023-07-20   \n",
       "3                             wir gehen gerne hier hin 2022-10-20   \n",
       "4                              Gut gelegen, Essen naja 2022-10-08   \n",
       "...                                                ...        ...   \n",
       "1653                                       Vielen Dank 2022-11-17   \n",
       "1654                                               Top 2022-11-17   \n",
       "1655  Ausgesprochen schenelles gutes Essen und gesund! 2022-11-16   \n",
       "1656              Eine Empfehlung kann ich gerne geben 2022-11-14   \n",
       "1657                                   Empfehlenswert! 2023-06-20   \n",
       "\n",
       "            author_name         author_location  \\\n",
       "0      BackPacker563486     Berlin, Deutschland   \n",
       "1                Luca R                    None   \n",
       "2          V6519ILannab     Berlin, Deutschland   \n",
       "3               575klat                    None   \n",
       "4               DirkU42  Bielefeld, Deutschland   \n",
       "...                 ...                     ...   \n",
       "1653  christiansL1481LW                    None   \n",
       "1654         626miguelw                    None   \n",
       "1655    A6205ZAadrianav                    None   \n",
       "1656          Andreas G     Sinzig, Deutschland   \n",
       "1657   dr_anke_schaefer    Rostock, Deutschland   \n",
       "\n",
       "                                                   text  rating  \\\n",
       "0     Die schlechteste Pasta aglio olio ever!!! Schm...     1.0   \n",
       "1     Ich lieeeebe <RESTAURANT_NAME>.Gutes Essen,sup...     5.0   \n",
       "2     Ich war früher ein <RESTAURANT_NAME> Fan (also...     1.0   \n",
       "3     Wir gehen gerne hier hin. Immer ok für das Pre...     5.0   \n",
       "4     Sehr gut gelegen am <LOC>, freundliche Bedienu...     3.0   \n",
       "...                                                 ...     ...   \n",
       "1653  Ausgezeichneter Service, komme gerne wieder. H...     5.0   \n",
       "1654  Sehr lecker, schneller und guter Service, nett...     5.0   \n",
       "1655  Essen war sehr lecker Besonders positiv ist, d...     5.0   \n",
       "1656  Essen war lecker, Bedienung war in Ordnung.Pre...     4.0   \n",
       "1657  Immer wieder die beste Alternative für das Bus...     5.0   \n",
       "\n",
       "     restaurant_name language_code detected_language  \\\n",
       "0            vapiano            de                de   \n",
       "1            vapiano            de                de   \n",
       "2            vapiano            de                de   \n",
       "3            vapiano            de                de   \n",
       "4            vapiano            de                de   \n",
       "...              ...           ...               ...   \n",
       "1653      dean&david            de                de   \n",
       "1654      dean&david            de                de   \n",
       "1655      dean&david            de                de   \n",
       "1656      dean&david            de                de   \n",
       "1657      dean&david            de                de   \n",
       "\n",
       "                                   text_noanonymization  \n",
       "0     Die schlechteste Pasta aglio olio ever!!! Schm...  \n",
       "1     Ich lieeeebe Vapiano.Gutes Essen,super nette M...  \n",
       "2     Ich war früher ein Vapiano Fan (also in 2012-2...  \n",
       "3     Wir gehen gerne hier hin. Immer ok für das Pre...  \n",
       "4     Sehr gut gelegen am Potsdamer Platz, freundlic...  \n",
       "...                                                 ...  \n",
       "1653  Ausgezeichneter Service, komme gerne wieder. H...  \n",
       "1654  Sehr lecker, schneller und guter Service, nett...  \n",
       "1655  Essen war sehr lecker Besonders positiv ist, d...  \n",
       "1656  Essen war lecker, Bedienung war in Ordnung.Pre...  \n",
       "1657  Immer wieder die beste Alternative für das Bus...  \n",
       "\n",
       "[1658 rows x 13 columns]"
      ]
     },
     "execution_count": 26,
     "metadata": {},
     "output_type": "execute_result"
    }
   ],
   "source": [
    "df_reviews"
   ]
  }
 ],
 "metadata": {
  "kernelspec": {
   "display_name": "Python 3 (ipykernel)",
   "language": "python",
   "name": "python3"
  },
  "language_info": {
   "codemirror_mode": {
    "name": "ipython",
    "version": 3
   },
   "file_extension": ".py",
   "mimetype": "text/x-python",
   "name": "python",
   "nbconvert_exporter": "python",
   "pygments_lexer": "ipython3",
   "version": "3.11.3"
  }
 },
 "nbformat": 4,
 "nbformat_minor": 5
}
