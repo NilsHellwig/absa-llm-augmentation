{
 "cells": [
  {
   "cell_type": "markdown",
   "id": "43fddf8b-3033-4f88-959e-933349351b74",
   "metadata": {},
   "source": [
    "# Notebook: View Dataset Statistics"
   ]
  },
  {
   "cell_type": "markdown",
   "id": "157fc61c-001b-483d-9f6e-b8c9463ff0d4",
   "metadata": {},
   "source": [
    "This notebook is used to explore a given dataset."
   ]
  },
  {
   "cell_type": "markdown",
   "id": "7b84ace6-0de9-4e95-b24a-0ce3b7ab036a",
   "metadata": {},
   "source": [
    "## Packages"
   ]
  },
  {
   "cell_type": "code",
   "execution_count": 1,
   "id": "fcbebd8e-1e66-4724-8061-1648b493457b",
   "metadata": {
    "tags": []
   },
   "outputs": [],
   "source": [
    "import pandas as pd\n",
    "import tiktoken\n",
    "import re"
   ]
  },
  {
   "cell_type": "markdown",
   "id": "f01ddac6-3116-4968-b571-7cff2a9915ca",
   "metadata": {},
   "source": [
    "## Constants"
   ]
  },
  {
   "cell_type": "code",
   "execution_count": 2,
   "id": "4c1d4d6d-98e4-4cfd-b091-d3bc814a3645",
   "metadata": {
    "tags": []
   },
   "outputs": [],
   "source": [
    "DATASET_PATH = \"reviews_dataset/balanced_reviews_sentences.csv\"\n",
    "LLM_MODEL_NAME = \"gpt-3.5-turbo\""
   ]
  },
  {
   "cell_type": "markdown",
   "id": "87dd24de-6851-4d09-8582-3261c82c7fdc",
   "metadata": {},
   "source": [
    "## Code"
   ]
  },
  {
   "cell_type": "markdown",
   "id": "b234edaf-da17-40f6-b21b-da571955f3ed",
   "metadata": {},
   "source": [
    "### General Statistics"
   ]
  },
  {
   "cell_type": "code",
   "execution_count": 3,
   "id": "5b381318-2073-4f7b-bc98-3671a317207b",
   "metadata": {
    "tags": []
   },
   "outputs": [
    {
     "data": {
      "text/html": [
       "<div>\n",
       "<style scoped>\n",
       "    .dataframe tbody tr th:only-of-type {\n",
       "        vertical-align: middle;\n",
       "    }\n",
       "\n",
       "    .dataframe tbody tr th {\n",
       "        vertical-align: top;\n",
       "    }\n",
       "\n",
       "    .dataframe thead th {\n",
       "        text-align: right;\n",
       "    }\n",
       "</style>\n",
       "<table border=\"1\" class=\"dataframe\">\n",
       "  <thead>\n",
       "    <tr style=\"text-align: right;\">\n",
       "      <th></th>\n",
       "      <th>Unnamed: 0.1</th>\n",
       "      <th>Unnamed: 0</th>\n",
       "      <th>review_id</th>\n",
       "      <th>restaurant_id</th>\n",
       "      <th>page_index</th>\n",
       "      <th>title</th>\n",
       "      <th>date</th>\n",
       "      <th>author_name</th>\n",
       "      <th>author_location</th>\n",
       "      <th>text</th>\n",
       "      <th>rating</th>\n",
       "      <th>city</th>\n",
       "      <th>restaurant_name</th>\n",
       "      <th>language_code</th>\n",
       "      <th>text_noanonymization</th>\n",
       "      <th>sentence_idx</th>\n",
       "      <th>detected_language</th>\n",
       "    </tr>\n",
       "  </thead>\n",
       "  <tbody>\n",
       "    <tr>\n",
       "      <th>0</th>\n",
       "      <td>0</td>\n",
       "      <td>1537</td>\n",
       "      <td>867609212</td>\n",
       "      <td>743219</td>\n",
       "      <td>1</td>\n",
       "      <td>Schönes Ambiente</td>\n",
       "      <td>2022-11-07</td>\n",
       "      <td>schneiderrebecca</td>\n",
       "      <td>Würzburg, Deutschland</td>\n",
       "      <td>Das Personal freundlich.</td>\n",
       "      <td>4.0</td>\n",
       "      <td>leipzig</td>\n",
       "      <td>Cafe Riquet</td>\n",
       "      <td>de</td>\n",
       "      <td>Ich war gegen 17:30 Uhr in dem Kaffeehaus. Die...</td>\n",
       "      <td>4</td>\n",
       "      <td>de</td>\n",
       "    </tr>\n",
       "    <tr>\n",
       "      <th>1</th>\n",
       "      <td>1</td>\n",
       "      <td>2443</td>\n",
       "      <td>911273338</td>\n",
       "      <td>1342313</td>\n",
       "      <td>1</td>\n",
       "      <td>Nicht nur überaus köstlich in romantischer Atm...</td>\n",
       "      <td>2023-08-18</td>\n",
       "      <td>Michael E</td>\n",
       "      <td>NaN</td>\n",
       "      <td>Überragender Service, köstliche Speisen!Wir ko...</td>\n",
       "      <td>5.0</td>\n",
       "      <td>bielefeld</td>\n",
       "      <td>Jivino Enoteca</td>\n",
       "      <td>de</td>\n",
       "      <td>Ungefragt wurde uns vorab serviert, was wir mö...</td>\n",
       "      <td>1</td>\n",
       "      <td>de</td>\n",
       "    </tr>\n",
       "    <tr>\n",
       "      <th>2</th>\n",
       "      <td>2</td>\n",
       "      <td>2150</td>\n",
       "      <td>910109779</td>\n",
       "      <td>1118853</td>\n",
       "      <td>0</td>\n",
       "      <td>Einfache Biergartenküche zu gehobenen Preisen</td>\n",
       "      <td>2023-08-13</td>\n",
       "      <td>ingrid240</td>\n",
       "      <td>Frankfurt am Main, Deutschland</td>\n",
       "      <td>Freundlicher Service, sehr gutes Bier.Das &lt;LOC...</td>\n",
       "      <td>2.0</td>\n",
       "      <td>hannover</td>\n",
       "      <td>Bavarium</td>\n",
       "      <td>de</td>\n",
       "      <td>Freundlicher Service, sehr gutes Bier.Das Tiro...</td>\n",
       "      <td>0</td>\n",
       "      <td>de</td>\n",
       "    </tr>\n",
       "    <tr>\n",
       "      <th>3</th>\n",
       "      <td>3</td>\n",
       "      <td>724</td>\n",
       "      <td>857521547</td>\n",
       "      <td>1190751</td>\n",
       "      <td>12</td>\n",
       "      <td>Schlemmermenü super köstlich.</td>\n",
       "      <td>2022-08-31</td>\n",
       "      <td>409gisell</td>\n",
       "      <td>NaN</td>\n",
       "      <td>Jeder Gang ein Genuss.</td>\n",
       "      <td>5.0</td>\n",
       "      <td>frankfurt</td>\n",
       "      <td>Trattoria i Siciliani</td>\n",
       "      <td>de</td>\n",
       "      <td>Jeder Gang ein Genuss. Wir haben Fisch und Fle...</td>\n",
       "      <td>0</td>\n",
       "      <td>de</td>\n",
       "    </tr>\n",
       "    <tr>\n",
       "      <th>4</th>\n",
       "      <td>4</td>\n",
       "      <td>2984</td>\n",
       "      <td>892846168</td>\n",
       "      <td>2481134</td>\n",
       "      <td>1</td>\n",
       "      <td>Essen, Wein und Service sehr zu empfehlen</td>\n",
       "      <td>2023-05-31</td>\n",
       "      <td>Explore04799982138</td>\n",
       "      <td>Gaiole in Chianti, Italien</td>\n",
       "      <td>Ein tolles italienisches Restaurant.</td>\n",
       "      <td>4.0</td>\n",
       "      <td>mannheim</td>\n",
       "      <td>Da Vino</td>\n",
       "      <td>de</td>\n",
       "      <td>Ein tolles italienisches Restaurant. Essen tol...</td>\n",
       "      <td>0</td>\n",
       "      <td>de</td>\n",
       "    </tr>\n",
       "    <tr>\n",
       "      <th>...</th>\n",
       "      <td>...</td>\n",
       "      <td>...</td>\n",
       "      <td>...</td>\n",
       "      <td>...</td>\n",
       "      <td>...</td>\n",
       "      <td>...</td>\n",
       "      <td>...</td>\n",
       "      <td>...</td>\n",
       "      <td>...</td>\n",
       "      <td>...</td>\n",
       "      <td>...</td>\n",
       "      <td>...</td>\n",
       "      <td>...</td>\n",
       "      <td>...</td>\n",
       "      <td>...</td>\n",
       "      <td>...</td>\n",
       "      <td>...</td>\n",
       "    </tr>\n",
       "    <tr>\n",
       "      <th>3495</th>\n",
       "      <td>3495</td>\n",
       "      <td>504</td>\n",
       "      <td>868718065</td>\n",
       "      <td>7235024</td>\n",
       "      <td>2</td>\n",
       "      <td>Mein erster originaler rheinischer Sauerbraten</td>\n",
       "      <td>2022-11-16</td>\n",
       "      <td>ALMSUPA</td>\n",
       "      <td>Wien, Österreich</td>\n",
       "      <td>Danke für die tolle Zeit bei Euch!</td>\n",
       "      <td>4.0</td>\n",
       "      <td>köln</td>\n",
       "      <td>Früh am Dom</td>\n",
       "      <td>de</td>\n",
       "      <td>Waren in der City mit dem \"einheimischen\" Cous...</td>\n",
       "      <td>5</td>\n",
       "      <td>de</td>\n",
       "    </tr>\n",
       "    <tr>\n",
       "      <th>3496</th>\n",
       "      <td>3496</td>\n",
       "      <td>218</td>\n",
       "      <td>883034414</td>\n",
       "      <td>954454</td>\n",
       "      <td>2</td>\n",
       "      <td>War mit 4 Freunden hier essen. Freundliches Pe...</td>\n",
       "      <td>2023-03-21</td>\n",
       "      <td>Joker-BN</td>\n",
       "      <td>Bonn, Deutschland</td>\n",
       "      <td>Nach Rücksprache mit dem Chef wurde eine Ausna...</td>\n",
       "      <td>4.0</td>\n",
       "      <td>hamburg</td>\n",
       "      <td>ALEX Hamburg</td>\n",
       "      <td>de</td>\n",
       "      <td>Sehr schöne Lage mit Blick auf die Alster. Gut...</td>\n",
       "      <td>14</td>\n",
       "      <td>de</td>\n",
       "    </tr>\n",
       "    <tr>\n",
       "      <th>3497</th>\n",
       "      <td>3497</td>\n",
       "      <td>2205</td>\n",
       "      <td>853942330</td>\n",
       "      <td>1390048</td>\n",
       "      <td>2</td>\n",
       "      <td>Gutes Essen, meist mit Wartezeit</td>\n",
       "      <td>2022-08-13</td>\n",
       "      <td>TobiMTravel</td>\n",
       "      <td>München, Deutschland</td>\n",
       "      <td>Die &lt;LOC&gt; waren sehr gut und das Sauerkraut eb...</td>\n",
       "      <td>4.0</td>\n",
       "      <td>nürnberg</td>\n",
       "      <td>Bratwursthäusle</td>\n",
       "      <td>de</td>\n",
       "      <td>Wir waren als paar an einem Samstag Mittag dor...</td>\n",
       "      <td>1</td>\n",
       "      <td>de</td>\n",
       "    </tr>\n",
       "    <tr>\n",
       "      <th>3498</th>\n",
       "      <td>3498</td>\n",
       "      <td>3175</td>\n",
       "      <td>889498235</td>\n",
       "      <td>7322855</td>\n",
       "      <td>4</td>\n",
       "      <td>Ein Reines Gedicht</td>\n",
       "      <td>2023-05-08</td>\n",
       "      <td>Tim R</td>\n",
       "      <td>NaN</td>\n",
       "      <td>Es schmeckt als ob die Kuh jeden Tag vom Bauer...</td>\n",
       "      <td>5.0</td>\n",
       "      <td>augsburg</td>\n",
       "      <td>SteakManufaktur</td>\n",
       "      <td>de</td>\n",
       "      <td>Zur Ambiente:Wir würden herzlich empfangen vom...</td>\n",
       "      <td>11</td>\n",
       "      <td>de</td>\n",
       "    </tr>\n",
       "    <tr>\n",
       "      <th>3499</th>\n",
       "      <td>3499</td>\n",
       "      <td>2176</td>\n",
       "      <td>852451262</td>\n",
       "      <td>960237</td>\n",
       "      <td>0</td>\n",
       "      <td>Haben uns mehr versprochen</td>\n",
       "      <td>2022-08-06</td>\n",
       "      <td>Passport40815252002</td>\n",
       "      <td>Heilbronn, Deutschland</td>\n",
       "      <td>Service mit Schwächen.</td>\n",
       "      <td>3.0</td>\n",
       "      <td>hannover</td>\n",
       "      <td>BLOCK HOUSE Am Kröpcke</td>\n",
       "      <td>de</td>\n",
       "      <td>Französische Zwiebelsuppe als Vorspeise war ei...</td>\n",
       "      <td>1</td>\n",
       "      <td>de</td>\n",
       "    </tr>\n",
       "  </tbody>\n",
       "</table>\n",
       "<p>3500 rows × 17 columns</p>\n",
       "</div>"
      ],
      "text/plain": [
       "      Unnamed: 0.1  Unnamed: 0  review_id  restaurant_id  page_index  \\\n",
       "0                0        1537  867609212         743219           1   \n",
       "1                1        2443  911273338        1342313           1   \n",
       "2                2        2150  910109779        1118853           0   \n",
       "3                3         724  857521547        1190751          12   \n",
       "4                4        2984  892846168        2481134           1   \n",
       "...            ...         ...        ...            ...         ...   \n",
       "3495          3495         504  868718065        7235024           2   \n",
       "3496          3496         218  883034414         954454           2   \n",
       "3497          3497        2205  853942330        1390048           2   \n",
       "3498          3498        3175  889498235        7322855           4   \n",
       "3499          3499        2176  852451262         960237           0   \n",
       "\n",
       "                                                  title        date  \\\n",
       "0                                      Schönes Ambiente  2022-11-07   \n",
       "1     Nicht nur überaus köstlich in romantischer Atm...  2023-08-18   \n",
       "2        Einfache Biergartenküche zu gehobenen Preisen   2023-08-13   \n",
       "3                         Schlemmermenü super köstlich.  2022-08-31   \n",
       "4             Essen, Wein und Service sehr zu empfehlen  2023-05-31   \n",
       "...                                                 ...         ...   \n",
       "3495     Mein erster originaler rheinischer Sauerbraten  2022-11-16   \n",
       "3496  War mit 4 Freunden hier essen. Freundliches Pe...  2023-03-21   \n",
       "3497                  Gutes Essen, meist mit Wartezeit   2022-08-13   \n",
       "3498                                 Ein Reines Gedicht  2023-05-08   \n",
       "3499                        Haben uns mehr versprochen   2022-08-06   \n",
       "\n",
       "              author_name                 author_location  \\\n",
       "0        schneiderrebecca           Würzburg, Deutschland   \n",
       "1               Michael E                             NaN   \n",
       "2               ingrid240  Frankfurt am Main, Deutschland   \n",
       "3               409gisell                             NaN   \n",
       "4      Explore04799982138      Gaiole in Chianti, Italien   \n",
       "...                   ...                             ...   \n",
       "3495              ALMSUPA                Wien, Österreich   \n",
       "3496             Joker-BN               Bonn, Deutschland   \n",
       "3497          TobiMTravel            München, Deutschland   \n",
       "3498                Tim R                             NaN   \n",
       "3499  Passport40815252002          Heilbronn, Deutschland   \n",
       "\n",
       "                                                   text  rating       city  \\\n",
       "0                              Das Personal freundlich.     4.0    leipzig   \n",
       "1     Überragender Service, köstliche Speisen!Wir ko...     5.0  bielefeld   \n",
       "2     Freundlicher Service, sehr gutes Bier.Das <LOC...     2.0   hannover   \n",
       "3                                Jeder Gang ein Genuss.     5.0  frankfurt   \n",
       "4                  Ein tolles italienisches Restaurant.     4.0   mannheim   \n",
       "...                                                 ...     ...        ...   \n",
       "3495                 Danke für die tolle Zeit bei Euch!     4.0       köln   \n",
       "3496  Nach Rücksprache mit dem Chef wurde eine Ausna...     4.0    hamburg   \n",
       "3497  Die <LOC> waren sehr gut und das Sauerkraut eb...     4.0   nürnberg   \n",
       "3498  Es schmeckt als ob die Kuh jeden Tag vom Bauer...     5.0   augsburg   \n",
       "3499                             Service mit Schwächen.     3.0   hannover   \n",
       "\n",
       "             restaurant_name language_code  \\\n",
       "0                Cafe Riquet            de   \n",
       "1             Jivino Enoteca            de   \n",
       "2                   Bavarium            de   \n",
       "3      Trattoria i Siciliani            de   \n",
       "4                    Da Vino            de   \n",
       "...                      ...           ...   \n",
       "3495             Früh am Dom            de   \n",
       "3496            ALEX Hamburg            de   \n",
       "3497         Bratwursthäusle            de   \n",
       "3498         SteakManufaktur            de   \n",
       "3499  BLOCK HOUSE Am Kröpcke            de   \n",
       "\n",
       "                                   text_noanonymization  sentence_idx  \\\n",
       "0     Ich war gegen 17:30 Uhr in dem Kaffeehaus. Die...             4   \n",
       "1     Ungefragt wurde uns vorab serviert, was wir mö...             1   \n",
       "2     Freundlicher Service, sehr gutes Bier.Das Tiro...             0   \n",
       "3     Jeder Gang ein Genuss. Wir haben Fisch und Fle...             0   \n",
       "4     Ein tolles italienisches Restaurant. Essen tol...             0   \n",
       "...                                                 ...           ...   \n",
       "3495  Waren in der City mit dem \"einheimischen\" Cous...             5   \n",
       "3496  Sehr schöne Lage mit Blick auf die Alster. Gut...            14   \n",
       "3497  Wir waren als paar an einem Samstag Mittag dor...             1   \n",
       "3498  Zur Ambiente:Wir würden herzlich empfangen vom...            11   \n",
       "3499  Französische Zwiebelsuppe als Vorspeise war ei...             1   \n",
       "\n",
       "     detected_language  \n",
       "0                   de  \n",
       "1                   de  \n",
       "2                   de  \n",
       "3                   de  \n",
       "4                   de  \n",
       "...                ...  \n",
       "3495                de  \n",
       "3496                de  \n",
       "3497                de  \n",
       "3498                de  \n",
       "3499                de  \n",
       "\n",
       "[3500 rows x 17 columns]"
      ]
     },
     "execution_count": 3,
     "metadata": {},
     "output_type": "execute_result"
    }
   ],
   "source": [
    "df = pd.read_csv(DATASET_PATH)\n",
    "df"
   ]
  },
  {
   "cell_type": "code",
   "execution_count": 4,
   "id": "dea4e4b7-1cc6-408e-b086-b91b262b4f3c",
   "metadata": {
    "tags": []
   },
   "outputs": [
    {
     "data": {
      "text/plain": [
       "rating\n",
       "4.0    700\n",
       "5.0    700\n",
       "2.0    700\n",
       "3.0    700\n",
       "1.0    700\n",
       "Name: count, dtype: int64"
      ]
     },
     "execution_count": 4,
     "metadata": {},
     "output_type": "execute_result"
    }
   ],
   "source": [
    "rating_counts = df['rating'].value_counts()\n",
    "rating_counts"
   ]
  },
  {
   "cell_type": "code",
   "execution_count": 5,
   "id": "a72fd03e-0c8b-49d2-ac3e-2b9f817776f1",
   "metadata": {
    "tags": []
   },
   "outputs": [
    {
     "data": {
      "text/plain": [
       "city\n",
       "hamburg            375\n",
       "leipzig            282\n",
       "dresden            259\n",
       "münchen            231\n",
       "düsseldorf         171\n",
       "frankfurt          161\n",
       "bonn               156\n",
       "stuttgart          156\n",
       "köln               155\n",
       "nürnberg           140\n",
       "münster            126\n",
       "berlin             121\n",
       "augsburg           121\n",
       "mannheim           118\n",
       "bremen             114\n",
       "bielefeld          108\n",
       "mönchengladbach    105\n",
       "bochum             101\n",
       "hannover            97\n",
       "essen               96\n",
       "wiesbaden           94\n",
       "karlsruhe           81\n",
       "dortmund            55\n",
       "wuppertal           45\n",
       "duisburg            32\n",
       "Name: count, dtype: int64"
      ]
     },
     "execution_count": 5,
     "metadata": {},
     "output_type": "execute_result"
    }
   ],
   "source": [
    "rating_counts = df['city'].value_counts()\n",
    "rating_counts"
   ]
  },
  {
   "cell_type": "code",
   "execution_count": 6,
   "id": "a4e41b97-cae0-4d15-91d1-18c8d124c046",
   "metadata": {
    "tags": []
   },
   "outputs": [
    {
     "data": {
      "text/plain": [
       "restaurant_name\n",
       "Bullerei                    173\n",
       "Ratskeller                  148\n",
       "Mamma Mia                   142\n",
       "Olive                        89\n",
       "Schneider Bräuhaus           84\n",
       "                           ... \n",
       "Ola Lisboa                    3\n",
       "Argentina - Steak & Mehr      3\n",
       "Tokyo Sushi Bar               2\n",
       "Thai Banyan Restaurant        2\n",
       "Webster-Brauhaus              1\n",
       "Name: count, Length: 122, dtype: int64"
      ]
     },
     "execution_count": 6,
     "metadata": {},
     "output_type": "execute_result"
    }
   ],
   "source": [
    "rating_counts = df['restaurant_name'].value_counts()\n",
    "rating_counts"
   ]
  },
  {
   "cell_type": "code",
   "execution_count": 7,
   "id": "e5433164-e6f6-49c1-82d9-a0d8e5a40661",
   "metadata": {
    "tags": []
   },
   "outputs": [],
   "source": [
    "#df.groupby(['sentence_idx', 'review_id']).size().reset_index(name='count')"
   ]
  },
  {
   "cell_type": "code",
   "execution_count": 8,
   "id": "abbec722-a0e5-49db-8b82-3108fe0d0dd8",
   "metadata": {},
   "outputs": [
    {
     "data": {
      "text/plain": [
       "rating\n",
       "1.0    15.238571\n",
       "2.0    14.152857\n",
       "3.0    14.197143\n",
       "4.0    12.604286\n",
       "5.0    11.487143\n",
       "Name: word_count, dtype: float64"
      ]
     },
     "execution_count": 8,
     "metadata": {},
     "output_type": "execute_result"
    }
   ],
   "source": [
    "def count_words(text):\n",
    "    words = re.findall(r'\\w+', text)\n",
    "    return len(words)\n",
    "\n",
    "df['word_count'] = df['text'].apply(count_words)\n",
    "average_word_count_by_rating = df.groupby('rating')['word_count'].mean()\n",
    "average_word_count_by_rating"
   ]
  },
  {
   "cell_type": "code",
   "execution_count": 9,
   "id": "e778d18a-2e7f-4f08-a2b0-ea1773cf8f3e",
   "metadata": {},
   "outputs": [
    {
     "data": {
      "text/plain": [
       "13.536"
      ]
     },
     "execution_count": 9,
     "metadata": {},
     "output_type": "execute_result"
    }
   ],
   "source": [
    " df['word_count'].mean()"
   ]
  },
  {
   "cell_type": "markdown",
   "id": "e6c21225-a556-4058-a270-e64f1dc90af4",
   "metadata": {},
   "source": [
    "### Count Tokens (for LLM)"
   ]
  },
  {
   "cell_type": "code",
   "execution_count": 10,
   "id": "ab026fd8-1a36-43ff-89f5-117651bdda10",
   "metadata": {
    "tags": []
   },
   "outputs": [],
   "source": [
    "# Source: https://github.com/openai/openai-cookbook/blob/main/examples/How_to_count_tokens_with_tiktoken.ipynb\n",
    "def num_tokens_from_string(string: str, model_name: str) -> int:\n",
    "    encoding = tiktoken.encoding_for_model(model_name)\n",
    "    num_tokens = len(encoding.encode(string))\n",
    "    return num_tokens"
   ]
  },
  {
   "cell_type": "code",
   "execution_count": 14,
   "id": "7cd73823-38ad-4ab9-808c-fc1343c1805f",
   "metadata": {
    "tags": []
   },
   "outputs": [],
   "source": [
    "df['llm_token_count'] = df['text'].apply(lambda x: num_tokens_from_string(x, LLM_MODEL_NAME))"
   ]
  },
  {
   "cell_type": "code",
   "execution_count": 19,
   "id": "8e05363f-0c58-4b1f-b690-2900b5dab6a9",
   "metadata": {
    "tags": []
   },
   "outputs": [],
   "source": [
    "pd.set_option('display.max_colwidth', None)"
   ]
  },
  {
   "cell_type": "code",
   "execution_count": 38,
   "id": "398fa95b-5d26-4dee-ad97-182500a7a4ee",
   "metadata": {
    "tags": []
   },
   "outputs": [
    {
     "name": "stdout",
     "output_type": "stream",
     "text": [
      "Zeile mit den meisten Tokens:\n"
     ]
    },
    {
     "data": {
      "text/html": [
       "<div>\n",
       "<style scoped>\n",
       "    .dataframe tbody tr th:only-of-type {\n",
       "        vertical-align: middle;\n",
       "    }\n",
       "\n",
       "    .dataframe tbody tr th {\n",
       "        vertical-align: top;\n",
       "    }\n",
       "\n",
       "    .dataframe thead th {\n",
       "        text-align: right;\n",
       "    }\n",
       "</style>\n",
       "<table border=\"1\" class=\"dataframe\">\n",
       "  <thead>\n",
       "    <tr style=\"text-align: right;\">\n",
       "      <th></th>\n",
       "      <th>Unnamed: 0.1</th>\n",
       "      <th>Unnamed: 0</th>\n",
       "      <th>review_id</th>\n",
       "      <th>restaurant_id</th>\n",
       "      <th>page_index</th>\n",
       "      <th>title</th>\n",
       "      <th>date</th>\n",
       "      <th>author_name</th>\n",
       "      <th>author_location</th>\n",
       "      <th>text</th>\n",
       "      <th>rating</th>\n",
       "      <th>city</th>\n",
       "      <th>restaurant_name</th>\n",
       "      <th>language_code</th>\n",
       "      <th>text_noanonymization</th>\n",
       "      <th>sentence_idx</th>\n",
       "      <th>detected_language</th>\n",
       "      <th>word_count</th>\n",
       "      <th>llm_token_count</th>\n",
       "    </tr>\n",
       "  </thead>\n",
       "  <tbody>\n",
       "    <tr>\n",
       "      <th>2856</th>\n",
       "      <td>2856</td>\n",
       "      <td>3122</td>\n",
       "      <td>887348853</td>\n",
       "      <td>908561</td>\n",
       "      <td>0</td>\n",
       "      <td>Willkommen in der Servicewüste „Anders am Turmberg“!</td>\n",
       "      <td>2023-04-23</td>\n",
       "      <td>Michael R</td>\n",
       "      <td>Landau in der Pfalz, Deutschland</td>\n",
       "      <td>Der Chef steht mit Straßenkleidung in der Küche und lacht nur, über was war nicht klar – kein Wort des Bedauerns.Der Aperitif wurde nachgereicht und als Kompensation für ruiniertes Kleid und Handtasche zugegebenermaßen nicht berechnet.Schlechter Service scheint aber zum Ton des Hauses zu gehören, denn das Essen wurde serviert und erst danach erhielt man das Besteck direkt auf die Hand, Servietten lagen lieblos auf dem Tisch verstreut bzw. musste man anfordern und dafür zahlt man dann Spitzenpreise!Schaut man sich die Rezensionen über diese Lokalität auf den verschiedenen Foren an, so lebt die Kneipe fast nur von der Lage mit dem guten Blick auf Karlsruhe, aber dafür muss man Gottseidank nicht in das Lokal gehen!“ Im Übrigen hat auch uns fast jedes der dort monierten „Kleinigkeiten“ betroffen.Zusammengefasst ist dieses Etablissement nicht empfehlenswert und für den gebotenen Service zu teuer – Karlsruhe hat viele, deutlich bessere Lokale und unter gehobener Gastronomie stelle ich mir etwas anderes vor.</td>\n",
       "      <td>1.0</td>\n",
       "      <td>karlsruhe</td>\n",
       "      <td>Anders auf dem Turmberg</td>\n",
       "      <td>de</td>\n",
       "      <td>2 volle Gläser mit Aperitif von einem Azubi über meine Frau geschüttet. So etwas kann ja mal passieren, auch wenn es in durchnässter Kleidung nicht mehr so schmeckt und zudem die Handtasche und der Sessel betroffen sind. Schlimm ist nur, dass weder eine richtige Entschuldigung kam, der Stuhl nicht gewechselt wurde und der Boden nicht gewischt wurde. Auch die Scherben wurden nicht alle entfernt. Hilfe oder Unterstützung, das Missgeschick zu beseitigen – Fehlanzeige.Lediglich der Hinweis, wir klären das später – toll, wenn einem keiner hilft, den Schaden zu begrenzen. Der Chef steht mit Straßenkleidung in der Küche und lacht nur, über was war nicht klar – kein Wort des Bedauerns.Der Aperitif wurde nachgereicht und als Kompensation für ruiniertes Kleid und Handtasche zugegebenermaßen nicht berechnet.Schlechter Service scheint aber zum Ton des Hauses zu gehören, denn das Essen wurde serviert und erst danach erhielt man das Besteck direkt auf die Hand, Servietten lagen lieblos auf dem Tisch verstreut bzw. musste man anfordern und dafür zahlt man dann Spitzenpreise!Schaut man sich die Rezensionen über diese Lokalität auf den verschiedenen Foren an, so lebt die Kneipe fast nur von der Lage mit dem guten Blick auf Karlsruhe, aber dafür muss man Gottseidank nicht in das Lokal gehen!“ Im Übrigen hat auch uns fast jedes der dort monierten „Kleinigkeiten“ betroffen.Zusammengefasst ist dieses Etablissement nicht empfehlenswert und für den gebotenen Service zu teuer – Karlsruhe hat viele, deutlich bessere Lokale und unter gehobener Gastronomie stelle ich mir etwas anderes vor.</td>\n",
       "      <td>5</td>\n",
       "      <td>de</td>\n",
       "      <td>157</td>\n",
       "      <td>279</td>\n",
       "    </tr>\n",
       "  </tbody>\n",
       "</table>\n",
       "</div>"
      ],
      "text/plain": [
       "      Unnamed: 0.1  Unnamed: 0  review_id  restaurant_id  page_index  \\\n",
       "2856          2856        3122  887348853         908561           0   \n",
       "\n",
       "                                                     title        date  \\\n",
       "2856  Willkommen in der Servicewüste „Anders am Turmberg“!  2023-04-23   \n",
       "\n",
       "     author_name                   author_location  \\\n",
       "2856   Michael R  Landau in der Pfalz, Deutschland   \n",
       "\n",
       "                                                                                                                                                                                                                                                                                                                                                                                                                                                                                                                                                                                                                                                                                                                                                                                                                                                                                                                                                                                                                                                          text  \\\n",
       "2856  Der Chef steht mit Straßenkleidung in der Küche und lacht nur, über was war nicht klar – kein Wort des Bedauerns.Der Aperitif wurde nachgereicht und als Kompensation für ruiniertes Kleid und Handtasche zugegebenermaßen nicht berechnet.Schlechter Service scheint aber zum Ton des Hauses zu gehören, denn das Essen wurde serviert und erst danach erhielt man das Besteck direkt auf die Hand, Servietten lagen lieblos auf dem Tisch verstreut bzw. musste man anfordern und dafür zahlt man dann Spitzenpreise!Schaut man sich die Rezensionen über diese Lokalität auf den verschiedenen Foren an, so lebt die Kneipe fast nur von der Lage mit dem guten Blick auf Karlsruhe, aber dafür muss man Gottseidank nicht in das Lokal gehen!“ Im Übrigen hat auch uns fast jedes der dort monierten „Kleinigkeiten“ betroffen.Zusammengefasst ist dieses Etablissement nicht empfehlenswert und für den gebotenen Service zu teuer – Karlsruhe hat viele, deutlich bessere Lokale und unter gehobener Gastronomie stelle ich mir etwas anderes vor.   \n",
       "\n",
       "      rating       city          restaurant_name language_code  \\\n",
       "2856     1.0  karlsruhe  Anders auf dem Turmberg            de   \n",
       "\n",
       "                                                                                                                                                                                                                                                                                                                                                                                                                                                                                                                                                                                                                                                                                                                                                                                                                                                                                                                                                                                                                                                                                                                                                                                                                                                                                                                                                                                                                                                                                                                                                                                                                                       text_noanonymization  \\\n",
       "2856  2 volle Gläser mit Aperitif von einem Azubi über meine Frau geschüttet. So etwas kann ja mal passieren, auch wenn es in durchnässter Kleidung nicht mehr so schmeckt und zudem die Handtasche und der Sessel betroffen sind. Schlimm ist nur, dass weder eine richtige Entschuldigung kam, der Stuhl nicht gewechselt wurde und der Boden nicht gewischt wurde. Auch die Scherben wurden nicht alle entfernt. Hilfe oder Unterstützung, das Missgeschick zu beseitigen – Fehlanzeige.Lediglich der Hinweis, wir klären das später – toll, wenn einem keiner hilft, den Schaden zu begrenzen. Der Chef steht mit Straßenkleidung in der Küche und lacht nur, über was war nicht klar – kein Wort des Bedauerns.Der Aperitif wurde nachgereicht und als Kompensation für ruiniertes Kleid und Handtasche zugegebenermaßen nicht berechnet.Schlechter Service scheint aber zum Ton des Hauses zu gehören, denn das Essen wurde serviert und erst danach erhielt man das Besteck direkt auf die Hand, Servietten lagen lieblos auf dem Tisch verstreut bzw. musste man anfordern und dafür zahlt man dann Spitzenpreise!Schaut man sich die Rezensionen über diese Lokalität auf den verschiedenen Foren an, so lebt die Kneipe fast nur von der Lage mit dem guten Blick auf Karlsruhe, aber dafür muss man Gottseidank nicht in das Lokal gehen!“ Im Übrigen hat auch uns fast jedes der dort monierten „Kleinigkeiten“ betroffen.Zusammengefasst ist dieses Etablissement nicht empfehlenswert und für den gebotenen Service zu teuer – Karlsruhe hat viele, deutlich bessere Lokale und unter gehobener Gastronomie stelle ich mir etwas anderes vor.   \n",
       "\n",
       "      sentence_idx detected_language  word_count  llm_token_count  \n",
       "2856             5                de         157              279  "
      ]
     },
     "execution_count": 38,
     "metadata": {},
     "output_type": "execute_result"
    }
   ],
   "source": [
    "max_token_row = df[df['llm_token_count'] == df['llm_token_count'].max()]\n",
    "print(\"Zeile mit den meisten Tokens:\")\n",
    "max_token_row#[\"llm_token_count\"].values[0]"
   ]
  },
  {
   "cell_type": "code",
   "execution_count": 34,
   "id": "795cf4bf-74d4-476f-ae3f-5fd4ae8e4f25",
   "metadata": {
    "tags": []
   },
   "outputs": [],
   "source": [
    "with open(\"../prompt_template.txt\", \"r\", encoding=\"utf-8\") as file:\n",
    "    prompt_template = file.read()"
   ]
  },
  {
   "cell_type": "code",
   "execution_count": 35,
   "id": "9ae5782a-adb1-4c04-8e9f-4ac051c6770d",
   "metadata": {
    "tags": []
   },
   "outputs": [],
   "source": [
    "template_size = num_tokens_from_string(prompt_template, LLM_MODEL_NAME)\n",
    "aspect_term_tag_size = num_tokens_from_string('<aspect-term aspect=\"ambient/interior\" polarity=\"negative\"></aspect-term>', LLM_MODEL_NAME)"
   ]
  },
  {
   "cell_type": "code",
   "execution_count": 36,
   "id": "f1b0a460-1d6e-42c0-8ff5-75e11d89de5e",
   "metadata": {
    "tags": []
   },
   "outputs": [
    {
     "data": {
      "text/plain": [
       "3393"
      ]
     },
     "execution_count": 36,
     "metadata": {},
     "output_type": "execute_result"
    }
   ],
   "source": [
    "template_size + 10 * max_token_row[\"llm_token_count\"].values[0] + aspect_term_tag_size * 20"
   ]
  },
  {
   "cell_type": "code",
   "execution_count": null,
   "id": "dc2d1f13-d507-4333-853e-ae941830271b",
   "metadata": {},
   "outputs": [],
   "source": []
  }
 ],
 "metadata": {
  "kernelspec": {
   "display_name": "Python 3 (ipykernel)",
   "language": "python",
   "name": "python3"
  },
  "language_info": {
   "codemirror_mode": {
    "name": "ipython",
    "version": 3
   },
   "file_extension": ".py",
   "mimetype": "text/x-python",
   "name": "python",
   "nbconvert_exporter": "python",
   "pygments_lexer": "ipython3",
   "version": "3.11.3"
  }
 },
 "nbformat": 4,
 "nbformat_minor": 5
}
