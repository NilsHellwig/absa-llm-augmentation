{
 "cells": [
  {
   "cell_type": "markdown",
   "id": "43fddf8b-3033-4f88-959e-933349351b74",
   "metadata": {},
   "source": [
    "# Notebook: View Dataset Statistics"
   ]
  },
  {
   "cell_type": "markdown",
   "id": "157fc61c-001b-483d-9f6e-b8c9463ff0d4",
   "metadata": {},
   "source": [
    "This notebook is used to explore a given dataset."
   ]
  },
  {
   "cell_type": "markdown",
   "id": "7b84ace6-0de9-4e95-b24a-0ce3b7ab036a",
   "metadata": {},
   "source": [
    "## Packages"
   ]
  },
  {
   "cell_type": "code",
   "execution_count": 1,
   "id": "fcbebd8e-1e66-4724-8061-1648b493457b",
   "metadata": {
    "tags": []
   },
   "outputs": [],
   "source": [
    "import pandas as pd\n",
    "import tiktoken\n",
    "import re"
   ]
  },
  {
   "cell_type": "markdown",
   "id": "f01ddac6-3116-4968-b571-7cff2a9915ca",
   "metadata": {},
   "source": [
    "## Constants"
   ]
  },
  {
   "cell_type": "code",
   "execution_count": 2,
   "id": "4c1d4d6d-98e4-4cfd-b091-d3bc814a3645",
   "metadata": {
    "tags": []
   },
   "outputs": [],
   "source": [
    "DATASET_PATH = \"reviews_dataset/balanced_reviews_sentences.csv\"\n",
    "LLM_MODEL_NAME = \"gpt-3.5-turbo\""
   ]
  },
  {
   "cell_type": "markdown",
   "id": "87dd24de-6851-4d09-8582-3261c82c7fdc",
   "metadata": {},
   "source": [
    "## Code"
   ]
  },
  {
   "cell_type": "markdown",
   "id": "b234edaf-da17-40f6-b21b-da571955f3ed",
   "metadata": {},
   "source": [
    "### General Statistics"
   ]
  },
  {
   "cell_type": "code",
   "execution_count": 3,
   "id": "5b381318-2073-4f7b-bc98-3671a317207b",
   "metadata": {
    "tags": []
   },
   "outputs": [
    {
     "data": {
      "text/html": [
       "<div>\n",
       "<style scoped>\n",
       "    .dataframe tbody tr th:only-of-type {\n",
       "        vertical-align: middle;\n",
       "    }\n",
       "\n",
       "    .dataframe tbody tr th {\n",
       "        vertical-align: top;\n",
       "    }\n",
       "\n",
       "    .dataframe thead th {\n",
       "        text-align: right;\n",
       "    }\n",
       "</style>\n",
       "<table border=\"1\" class=\"dataframe\">\n",
       "  <thead>\n",
       "    <tr style=\"text-align: right;\">\n",
       "      <th></th>\n",
       "      <th>Unnamed: 0.1</th>\n",
       "      <th>Unnamed: 0</th>\n",
       "      <th>review_id</th>\n",
       "      <th>restaurant_id</th>\n",
       "      <th>page_index</th>\n",
       "      <th>title</th>\n",
       "      <th>date</th>\n",
       "      <th>author_name</th>\n",
       "      <th>author_location</th>\n",
       "      <th>text</th>\n",
       "      <th>rating</th>\n",
       "      <th>city</th>\n",
       "      <th>restaurant_name</th>\n",
       "      <th>language_code</th>\n",
       "      <th>text_noanonymization</th>\n",
       "      <th>sentence_idx</th>\n",
       "      <th>id</th>\n",
       "      <th>detected_language</th>\n",
       "    </tr>\n",
       "  </thead>\n",
       "  <tbody>\n",
       "    <tr>\n",
       "      <th>0</th>\n",
       "      <td>0</td>\n",
       "      <td>1906</td>\n",
       "      <td>875871390</td>\n",
       "      <td>8009090</td>\n",
       "      <td>16</td>\n",
       "      <td>Hausgemachte frische Pasta mit viel Auswahl un...</td>\n",
       "      <td>2023-01-21</td>\n",
       "      <td>Culture08862634821</td>\n",
       "      <td>Dresden, Deutschland</td>\n",
       "      <td>Damit war die Sauce in Summe ein wenig zu salz...</td>\n",
       "      <td>4.0</td>\n",
       "      <td>dresden</td>\n",
       "      <td>Mamma Mia</td>\n",
       "      <td>de</td>\n",
       "      <td>Ein solides italienisches Restaurant in der Dr...</td>\n",
       "      <td>11</td>\n",
       "      <td>8f5a5889-8cce-40c4-a9d4-ec68c9ad3447</td>\n",
       "      <td>de</td>\n",
       "    </tr>\n",
       "    <tr>\n",
       "      <th>1</th>\n",
       "      <td>1</td>\n",
       "      <td>2443</td>\n",
       "      <td>911273338</td>\n",
       "      <td>1342313</td>\n",
       "      <td>1</td>\n",
       "      <td>Nicht nur überaus köstlich in romantischer Atm...</td>\n",
       "      <td>2023-08-18</td>\n",
       "      <td>Michael E</td>\n",
       "      <td>NaN</td>\n",
       "      <td>Überragender Service, köstliche Speisen!Wir ko...</td>\n",
       "      <td>5.0</td>\n",
       "      <td>bielefeld</td>\n",
       "      <td>Jivino Enoteca</td>\n",
       "      <td>de</td>\n",
       "      <td>Ungefragt wurde uns vorab serviert, was wir mö...</td>\n",
       "      <td>1</td>\n",
       "      <td>dfa4a582-b715-4fe5-ba4a-f143441b97bb</td>\n",
       "      <td>de</td>\n",
       "    </tr>\n",
       "    <tr>\n",
       "      <th>2</th>\n",
       "      <td>2</td>\n",
       "      <td>2192</td>\n",
       "      <td>877994419</td>\n",
       "      <td>1390048</td>\n",
       "      <td>1</td>\n",
       "      <td>Nicht für nur 2 Personen geeignet</td>\n",
       "      <td>2023-02-09</td>\n",
       "      <td>N_G_4000</td>\n",
       "      <td>Fürth, Deutschland</td>\n",
       "      <td>Freundlichkeit und Qualität.Aber wenn Sie als ...</td>\n",
       "      <td>2.0</td>\n",
       "      <td>nürnberg</td>\n",
       "      <td>Bratwursthäusle</td>\n",
       "      <td>de</td>\n",
       "      <td>Im Garten bisher alles ok. Freundlichkeit und ...</td>\n",
       "      <td>1</td>\n",
       "      <td>57313614-0f5e-4855-80eb-f1fa735cdbb5</td>\n",
       "      <td>de</td>\n",
       "    </tr>\n",
       "    <tr>\n",
       "      <th>3</th>\n",
       "      <td>3</td>\n",
       "      <td>723</td>\n",
       "      <td>859195793</td>\n",
       "      <td>1190751</td>\n",
       "      <td>12</td>\n",
       "      <td>So lecker wie immer</td>\n",
       "      <td>2022-09-09</td>\n",
       "      <td>annaliebrern</td>\n",
       "      <td>NaN</td>\n",
       "      <td>Sie kochen für unsere Geburtstagsfeiern seit J...</td>\n",
       "      <td>5.0</td>\n",
       "      <td>frankfurt</td>\n",
       "      <td>Trattoria i Siciliani</td>\n",
       "      <td>de</td>\n",
       "      <td>Sie kochen für unsere Geburtstagsfeiern seit J...</td>\n",
       "      <td>0</td>\n",
       "      <td>80559f0d-8e77-4a6a-9970-5515bde2f0b8</td>\n",
       "      <td>de</td>\n",
       "    </tr>\n",
       "    <tr>\n",
       "      <th>4</th>\n",
       "      <td>4</td>\n",
       "      <td>563</td>\n",
       "      <td>850412704</td>\n",
       "      <td>718270</td>\n",
       "      <td>1</td>\n",
       "      <td>Lecker Kölsch</td>\n",
       "      <td>2022-07-28</td>\n",
       "      <td>kaiserdirk</td>\n",
       "      <td>Leverkusen, Deutschland</td>\n",
       "      <td>Wir mögen Peters Kölsch.2.</td>\n",
       "      <td>4.0</td>\n",
       "      <td>köln</td>\n",
       "      <td>Peters Brauhaus</td>\n",
       "      <td>de</td>\n",
       "      <td>Hier kehren wir immer wieder gerne ein, aus dr...</td>\n",
       "      <td>1</td>\n",
       "      <td>6089488a-38da-423e-8000-d8750df0dcf5</td>\n",
       "      <td>de</td>\n",
       "    </tr>\n",
       "    <tr>\n",
       "      <th>...</th>\n",
       "      <td>...</td>\n",
       "      <td>...</td>\n",
       "      <td>...</td>\n",
       "      <td>...</td>\n",
       "      <td>...</td>\n",
       "      <td>...</td>\n",
       "      <td>...</td>\n",
       "      <td>...</td>\n",
       "      <td>...</td>\n",
       "      <td>...</td>\n",
       "      <td>...</td>\n",
       "      <td>...</td>\n",
       "      <td>...</td>\n",
       "      <td>...</td>\n",
       "      <td>...</td>\n",
       "      <td>...</td>\n",
       "      <td>...</td>\n",
       "      <td>...</td>\n",
       "    </tr>\n",
       "    <tr>\n",
       "      <th>3495</th>\n",
       "      <td>3495</td>\n",
       "      <td>3113</td>\n",
       "      <td>887337929</td>\n",
       "      <td>7236591</td>\n",
       "      <td>0</td>\n",
       "      <td>Sehr empfehlenswert</td>\n",
       "      <td>2023-04-23</td>\n",
       "      <td>Thomas R</td>\n",
       "      <td>Baden-Württemberg, Deutschland</td>\n",
       "      <td>Man wurde freundlich bedient.</td>\n",
       "      <td>4.0</td>\n",
       "      <td>karlsruhe</td>\n",
       "      <td>Restaurant Terra Mare</td>\n",
       "      <td>de</td>\n",
       "      <td>Das Essen war einfach herrlich und eine riesig...</td>\n",
       "      <td>1</td>\n",
       "      <td>13aa2cca-5eef-4ece-a2f3-c6449950985e</td>\n",
       "      <td>de</td>\n",
       "    </tr>\n",
       "    <tr>\n",
       "      <th>3496</th>\n",
       "      <td>3496</td>\n",
       "      <td>3592</td>\n",
       "      <td>893275773</td>\n",
       "      <td>5207419</td>\n",
       "      <td>0</td>\n",
       "      <td>So gefällt Geburtstag feiern außer Haus</td>\n",
       "      <td>2023-06-03</td>\n",
       "      <td>Iris S</td>\n",
       "      <td>NaN</td>\n",
       "      <td>Zum Servicepersonal, der Küche und dem „Chef i...</td>\n",
       "      <td>4.0</td>\n",
       "      <td>mönchengladbach</td>\n",
       "      <td>Brauerei zum Stefanus</td>\n",
       "      <td>de</td>\n",
       "      <td>Dem Anlass angemessen (Geburtstag) waren wir P...</td>\n",
       "      <td>6</td>\n",
       "      <td>0a0676a9-d275-4258-9398-12fb206cb5d7</td>\n",
       "      <td>de</td>\n",
       "    </tr>\n",
       "    <tr>\n",
       "      <th>3497</th>\n",
       "      <td>3497</td>\n",
       "      <td>550</td>\n",
       "      <td>888907029</td>\n",
       "      <td>718270</td>\n",
       "      <td>0</td>\n",
       "      <td>Lecker Bier und tolle Atmosphäre</td>\n",
       "      <td>2023-05-04</td>\n",
       "      <td>Axel S</td>\n",
       "      <td>Braunschweig, Deutschland</td>\n",
       "      <td>Atmosphäre ist toll und man sollte in jedem Fa...</td>\n",
       "      <td>4.0</td>\n",
       "      <td>köln</td>\n",
       "      <td>Peters Brauhaus</td>\n",
       "      <td>de</td>\n",
       "      <td>Wir waren hier zum Abendessen. Atmosphäre ist ...</td>\n",
       "      <td>1</td>\n",
       "      <td>5a1f3ec9-8e3d-4b73-b341-856183ebe793</td>\n",
       "      <td>de</td>\n",
       "    </tr>\n",
       "    <tr>\n",
       "      <th>3498</th>\n",
       "      <td>3498</td>\n",
       "      <td>3175</td>\n",
       "      <td>889498235</td>\n",
       "      <td>7322855</td>\n",
       "      <td>4</td>\n",
       "      <td>Ein Reines Gedicht</td>\n",
       "      <td>2023-05-08</td>\n",
       "      <td>Tim R</td>\n",
       "      <td>NaN</td>\n",
       "      <td>Es schmeckt als ob die Kuh jeden Tag vom Bauer...</td>\n",
       "      <td>5.0</td>\n",
       "      <td>augsburg</td>\n",
       "      <td>SteakManufaktur</td>\n",
       "      <td>de</td>\n",
       "      <td>Zur Ambiente:Wir würden herzlich empfangen vom...</td>\n",
       "      <td>11</td>\n",
       "      <td>bf45e9b9-2317-4306-92f1-67d874158838</td>\n",
       "      <td>de</td>\n",
       "    </tr>\n",
       "    <tr>\n",
       "      <th>3499</th>\n",
       "      <td>3499</td>\n",
       "      <td>2820</td>\n",
       "      <td>880387516</td>\n",
       "      <td>947380</td>\n",
       "      <td>0</td>\n",
       "      <td>Ein bisschen Massenabfertigung</td>\n",
       "      <td>2023-02-27</td>\n",
       "      <td>gradundsonne</td>\n",
       "      <td>Köln, Deutschland</td>\n",
       "      <td>Klassische Einrichtung, ohne dass es zu finste...</td>\n",
       "      <td>3.0</td>\n",
       "      <td>münster</td>\n",
       "      <td>Altes Gasthaus Leve</td>\n",
       "      <td>de</td>\n",
       "      <td>Klassische Einrichtung, ohne dass es zu finste...</td>\n",
       "      <td>0</td>\n",
       "      <td>149fc9c9-a2ea-4a5a-a2d3-b7ed328a2741</td>\n",
       "      <td>de</td>\n",
       "    </tr>\n",
       "  </tbody>\n",
       "</table>\n",
       "<p>3500 rows × 18 columns</p>\n",
       "</div>"
      ],
      "text/plain": [
       "      Unnamed: 0.1  Unnamed: 0  review_id  restaurant_id  page_index  \\\n",
       "0                0        1906  875871390        8009090          16   \n",
       "1                1        2443  911273338        1342313           1   \n",
       "2                2        2192  877994419        1390048           1   \n",
       "3                3         723  859195793        1190751          12   \n",
       "4                4         563  850412704         718270           1   \n",
       "...            ...         ...        ...            ...         ...   \n",
       "3495          3495        3113  887337929        7236591           0   \n",
       "3496          3496        3592  893275773        5207419           0   \n",
       "3497          3497         550  888907029         718270           0   \n",
       "3498          3498        3175  889498235        7322855           4   \n",
       "3499          3499        2820  880387516         947380           0   \n",
       "\n",
       "                                                  title        date  \\\n",
       "0     Hausgemachte frische Pasta mit viel Auswahl un...  2023-01-21   \n",
       "1     Nicht nur überaus köstlich in romantischer Atm...  2023-08-18   \n",
       "2                     Nicht für nur 2 Personen geeignet  2023-02-09   \n",
       "3                                   So lecker wie immer  2022-09-09   \n",
       "4                                         Lecker Kölsch  2022-07-28   \n",
       "...                                                 ...         ...   \n",
       "3495                                Sehr empfehlenswert  2023-04-23   \n",
       "3496            So gefällt Geburtstag feiern außer Haus  2023-06-03   \n",
       "3497                   Lecker Bier und tolle Atmosphäre  2023-05-04   \n",
       "3498                                 Ein Reines Gedicht  2023-05-08   \n",
       "3499                     Ein bisschen Massenabfertigung  2023-02-27   \n",
       "\n",
       "             author_name                 author_location  \\\n",
       "0     Culture08862634821            Dresden, Deutschland   \n",
       "1              Michael E                             NaN   \n",
       "2               N_G_4000              Fürth, Deutschland   \n",
       "3           annaliebrern                             NaN   \n",
       "4             kaiserdirk         Leverkusen, Deutschland   \n",
       "...                  ...                             ...   \n",
       "3495            Thomas R  Baden-Württemberg, Deutschland   \n",
       "3496              Iris S                             NaN   \n",
       "3497              Axel S       Braunschweig, Deutschland   \n",
       "3498               Tim R                             NaN   \n",
       "3499        gradundsonne               Köln, Deutschland   \n",
       "\n",
       "                                                   text  rating  \\\n",
       "0     Damit war die Sauce in Summe ein wenig zu salz...     4.0   \n",
       "1     Überragender Service, köstliche Speisen!Wir ko...     5.0   \n",
       "2     Freundlichkeit und Qualität.Aber wenn Sie als ...     2.0   \n",
       "3     Sie kochen für unsere Geburtstagsfeiern seit J...     5.0   \n",
       "4                            Wir mögen Peters Kölsch.2.     4.0   \n",
       "...                                                 ...     ...   \n",
       "3495                      Man wurde freundlich bedient.     4.0   \n",
       "3496  Zum Servicepersonal, der Küche und dem „Chef i...     4.0   \n",
       "3497  Atmosphäre ist toll und man sollte in jedem Fa...     4.0   \n",
       "3498  Es schmeckt als ob die Kuh jeden Tag vom Bauer...     5.0   \n",
       "3499  Klassische Einrichtung, ohne dass es zu finste...     3.0   \n",
       "\n",
       "                 city        restaurant_name language_code  \\\n",
       "0             dresden              Mamma Mia            de   \n",
       "1           bielefeld         Jivino Enoteca            de   \n",
       "2            nürnberg        Bratwursthäusle            de   \n",
       "3           frankfurt  Trattoria i Siciliani            de   \n",
       "4                köln        Peters Brauhaus            de   \n",
       "...               ...                    ...           ...   \n",
       "3495        karlsruhe  Restaurant Terra Mare            de   \n",
       "3496  mönchengladbach  Brauerei zum Stefanus            de   \n",
       "3497             köln        Peters Brauhaus            de   \n",
       "3498         augsburg        SteakManufaktur            de   \n",
       "3499          münster    Altes Gasthaus Leve            de   \n",
       "\n",
       "                                   text_noanonymization  sentence_idx  \\\n",
       "0     Ein solides italienisches Restaurant in der Dr...            11   \n",
       "1     Ungefragt wurde uns vorab serviert, was wir mö...             1   \n",
       "2     Im Garten bisher alles ok. Freundlichkeit und ...             1   \n",
       "3     Sie kochen für unsere Geburtstagsfeiern seit J...             0   \n",
       "4     Hier kehren wir immer wieder gerne ein, aus dr...             1   \n",
       "...                                                 ...           ...   \n",
       "3495  Das Essen war einfach herrlich und eine riesig...             1   \n",
       "3496  Dem Anlass angemessen (Geburtstag) waren wir P...             6   \n",
       "3497  Wir waren hier zum Abendessen. Atmosphäre ist ...             1   \n",
       "3498  Zur Ambiente:Wir würden herzlich empfangen vom...            11   \n",
       "3499  Klassische Einrichtung, ohne dass es zu finste...             0   \n",
       "\n",
       "                                        id detected_language  \n",
       "0     8f5a5889-8cce-40c4-a9d4-ec68c9ad3447                de  \n",
       "1     dfa4a582-b715-4fe5-ba4a-f143441b97bb                de  \n",
       "2     57313614-0f5e-4855-80eb-f1fa735cdbb5                de  \n",
       "3     80559f0d-8e77-4a6a-9970-5515bde2f0b8                de  \n",
       "4     6089488a-38da-423e-8000-d8750df0dcf5                de  \n",
       "...                                    ...               ...  \n",
       "3495  13aa2cca-5eef-4ece-a2f3-c6449950985e                de  \n",
       "3496  0a0676a9-d275-4258-9398-12fb206cb5d7                de  \n",
       "3497  5a1f3ec9-8e3d-4b73-b341-856183ebe793                de  \n",
       "3498  bf45e9b9-2317-4306-92f1-67d874158838                de  \n",
       "3499  149fc9c9-a2ea-4a5a-a2d3-b7ed328a2741                de  \n",
       "\n",
       "[3500 rows x 18 columns]"
      ]
     },
     "execution_count": 3,
     "metadata": {},
     "output_type": "execute_result"
    }
   ],
   "source": [
    "df = pd.read_csv(DATASET_PATH)\n",
    "df"
   ]
  },
  {
   "cell_type": "code",
   "execution_count": 4,
   "id": "dea4e4b7-1cc6-408e-b086-b91b262b4f3c",
   "metadata": {
    "tags": []
   },
   "outputs": [
    {
     "data": {
      "text/plain": [
       "rating\n",
       "4.0    700\n",
       "5.0    700\n",
       "2.0    700\n",
       "3.0    700\n",
       "1.0    700\n",
       "Name: count, dtype: int64"
      ]
     },
     "execution_count": 4,
     "metadata": {},
     "output_type": "execute_result"
    }
   ],
   "source": [
    "rating_counts = df['rating'].value_counts()\n",
    "rating_counts"
   ]
  },
  {
   "cell_type": "code",
   "execution_count": 5,
   "id": "a72fd03e-0c8b-49d2-ac3e-2b9f817776f1",
   "metadata": {
    "tags": []
   },
   "outputs": [
    {
     "data": {
      "text/plain": [
       "city\n",
       "hamburg            375\n",
       "leipzig            274\n",
       "dresden            252\n",
       "münchen            229\n",
       "düsseldorf         171\n",
       "frankfurt          161\n",
       "stuttgart          156\n",
       "köln               156\n",
       "bonn               147\n",
       "nürnberg           147\n",
       "münster            135\n",
       "augsburg           123\n",
       "berlin             122\n",
       "mannheim           120\n",
       "bremen             116\n",
       "bielefeld          112\n",
       "mönchengladbach    103\n",
       "bochum             103\n",
       "wiesbaden           97\n",
       "hannover            95\n",
       "essen               93\n",
       "karlsruhe           79\n",
       "dortmund            57\n",
       "wuppertal           46\n",
       "duisburg            31\n",
       "Name: count, dtype: int64"
      ]
     },
     "execution_count": 5,
     "metadata": {},
     "output_type": "execute_result"
    }
   ],
   "source": [
    "rating_counts = df['city'].value_counts()\n",
    "rating_counts"
   ]
  },
  {
   "cell_type": "code",
   "execution_count": 6,
   "id": "a4e41b97-cae0-4d15-91d1-18c8d124c046",
   "metadata": {
    "tags": []
   },
   "outputs": [
    {
     "data": {
      "text/plain": [
       "restaurant_name\n",
       "Bullerei                    172\n",
       "Ratskeller                  151\n",
       "Mamma Mia                   137\n",
       "Olive                        85\n",
       "Schneider Bräuhaus           85\n",
       "                           ... \n",
       "Argentina - Steak & Mehr      4\n",
       "Tokyo Sushi Bar               3\n",
       "Ola Lisboa                    3\n",
       "EisLabor- Bonn Altstadt       3\n",
       "Thai Banyan Restaurant        2\n",
       "Name: count, Length: 121, dtype: int64"
      ]
     },
     "execution_count": 6,
     "metadata": {},
     "output_type": "execute_result"
    }
   ],
   "source": [
    "rating_counts = df['restaurant_name'].value_counts()\n",
    "rating_counts"
   ]
  },
  {
   "cell_type": "code",
   "execution_count": 7,
   "id": "e5433164-e6f6-49c1-82d9-a0d8e5a40661",
   "metadata": {
    "tags": []
   },
   "outputs": [],
   "source": [
    "#df.groupby(['sentence_idx', 'review_id']).size().reset_index(name='count')"
   ]
  },
  {
   "cell_type": "code",
   "execution_count": 8,
   "id": "abbec722-a0e5-49db-8b82-3108fe0d0dd8",
   "metadata": {},
   "outputs": [
    {
     "data": {
      "text/plain": [
       "rating\n",
       "1.0    15.648571\n",
       "2.0    14.484286\n",
       "3.0    13.367143\n",
       "4.0    12.191429\n",
       "5.0    11.661429\n",
       "Name: word_count, dtype: float64"
      ]
     },
     "execution_count": 8,
     "metadata": {},
     "output_type": "execute_result"
    }
   ],
   "source": [
    "def count_words(text):\n",
    "    words = re.findall(r'\\w+', text)\n",
    "    return len(words)\n",
    "\n",
    "df['word_count'] = df['text'].apply(count_words)\n",
    "average_word_count_by_rating = df.groupby('rating')['word_count'].mean()\n",
    "average_word_count_by_rating"
   ]
  },
  {
   "cell_type": "code",
   "execution_count": 9,
   "id": "e778d18a-2e7f-4f08-a2b0-ea1773cf8f3e",
   "metadata": {},
   "outputs": [
    {
     "data": {
      "text/plain": [
       "13.470571428571429"
      ]
     },
     "execution_count": 9,
     "metadata": {},
     "output_type": "execute_result"
    }
   ],
   "source": [
    " df['word_count'].mean()"
   ]
  },
  {
   "cell_type": "markdown",
   "id": "e6c21225-a556-4058-a270-e64f1dc90af4",
   "metadata": {},
   "source": [
    "### Count Tokens (for LLM)"
   ]
  },
  {
   "cell_type": "code",
   "execution_count": 10,
   "id": "ab026fd8-1a36-43ff-89f5-117651bdda10",
   "metadata": {
    "tags": []
   },
   "outputs": [],
   "source": [
    "# Source: https://github.com/openai/openai-cookbook/blob/main/examples/How_to_count_tokens_with_tiktoken.ipynb\n",
    "def num_tokens_from_string(string: str, model_name: str) -> int:\n",
    "    encoding = tiktoken.encoding_for_model(model_name)\n",
    "    num_tokens = len(encoding.encode(string))\n",
    "    return num_tokens"
   ]
  },
  {
   "cell_type": "code",
   "execution_count": 11,
   "id": "7cd73823-38ad-4ab9-808c-fc1343c1805f",
   "metadata": {
    "tags": []
   },
   "outputs": [],
   "source": [
    "df['llm_token_count'] = df['text'].apply(lambda x: num_tokens_from_string(x, LLM_MODEL_NAME))"
   ]
  },
  {
   "cell_type": "code",
   "execution_count": 12,
   "id": "8e05363f-0c58-4b1f-b690-2900b5dab6a9",
   "metadata": {
    "tags": []
   },
   "outputs": [],
   "source": [
    "pd.set_option('display.max_colwidth', None)"
   ]
  },
  {
   "cell_type": "code",
   "execution_count": 13,
   "id": "398fa95b-5d26-4dee-ad97-182500a7a4ee",
   "metadata": {
    "tags": []
   },
   "outputs": [
    {
     "name": "stdout",
     "output_type": "stream",
     "text": [
      "Zeile mit den meisten Tokens:\n"
     ]
    },
    {
     "data": {
      "text/html": [
       "<div>\n",
       "<style scoped>\n",
       "    .dataframe tbody tr th:only-of-type {\n",
       "        vertical-align: middle;\n",
       "    }\n",
       "\n",
       "    .dataframe tbody tr th {\n",
       "        vertical-align: top;\n",
       "    }\n",
       "\n",
       "    .dataframe thead th {\n",
       "        text-align: right;\n",
       "    }\n",
       "</style>\n",
       "<table border=\"1\" class=\"dataframe\">\n",
       "  <thead>\n",
       "    <tr style=\"text-align: right;\">\n",
       "      <th></th>\n",
       "      <th>Unnamed: 0.1</th>\n",
       "      <th>Unnamed: 0</th>\n",
       "      <th>review_id</th>\n",
       "      <th>restaurant_id</th>\n",
       "      <th>page_index</th>\n",
       "      <th>title</th>\n",
       "      <th>date</th>\n",
       "      <th>author_name</th>\n",
       "      <th>author_location</th>\n",
       "      <th>text</th>\n",
       "      <th>rating</th>\n",
       "      <th>city</th>\n",
       "      <th>restaurant_name</th>\n",
       "      <th>language_code</th>\n",
       "      <th>text_noanonymization</th>\n",
       "      <th>sentence_idx</th>\n",
       "      <th>id</th>\n",
       "      <th>detected_language</th>\n",
       "      <th>word_count</th>\n",
       "      <th>llm_token_count</th>\n",
       "    </tr>\n",
       "  </thead>\n",
       "  <tbody>\n",
       "    <tr>\n",
       "      <th>2856</th>\n",
       "      <td>2856</td>\n",
       "      <td>3122</td>\n",
       "      <td>887348853</td>\n",
       "      <td>908561</td>\n",
       "      <td>0</td>\n",
       "      <td>Willkommen in der Servicewüste „Anders am Turmberg“!</td>\n",
       "      <td>2023-04-23</td>\n",
       "      <td>Michael R</td>\n",
       "      <td>Landau in der Pfalz, Deutschland</td>\n",
       "      <td>Der Chef steht mit Straßenkleidung in der Küche und lacht nur, über was war nicht klar – kein Wort des Bedauerns.Der Aperitif wurde nachgereicht und als Kompensation für ruiniertes Kleid und Handtasche zugegebenermaßen nicht berechnet.Schlechter Service scheint aber zum Ton des Hauses zu gehören, denn das Essen wurde serviert und erst danach erhielt man das Besteck direkt auf die Hand, Servietten lagen lieblos auf dem Tisch verstreut bzw. musste man anfordern und dafür zahlt man dann Spitzenpreise!Schaut man sich die Rezensionen über diese Lokalität auf den verschiedenen Foren an, so lebt die Kneipe fast nur von der Lage mit dem guten Blick auf Karlsruhe, aber dafür muss man Gottseidank nicht in das Lokal gehen!“ Im Übrigen hat auch uns fast jedes der dort monierten „Kleinigkeiten“ betroffen.Zusammengefasst ist dieses Etablissement nicht empfehlenswert und für den gebotenen Service zu teuer – Karlsruhe hat viele, deutlich bessere Lokale und unter gehobener Gastronomie stelle ich mir etwas anderes vor.</td>\n",
       "      <td>1.0</td>\n",
       "      <td>karlsruhe</td>\n",
       "      <td>Anders auf dem Turmberg</td>\n",
       "      <td>de</td>\n",
       "      <td>2 volle Gläser mit Aperitif von einem Azubi über meine Frau geschüttet. So etwas kann ja mal passieren, auch wenn es in durchnässter Kleidung nicht mehr so schmeckt und zudem die Handtasche und der Sessel betroffen sind. Schlimm ist nur, dass weder eine richtige Entschuldigung kam, der Stuhl nicht gewechselt wurde und der Boden nicht gewischt wurde. Auch die Scherben wurden nicht alle entfernt. Hilfe oder Unterstützung, das Missgeschick zu beseitigen – Fehlanzeige.Lediglich der Hinweis, wir klären das später – toll, wenn einem keiner hilft, den Schaden zu begrenzen. Der Chef steht mit Straßenkleidung in der Küche und lacht nur, über was war nicht klar – kein Wort des Bedauerns.Der Aperitif wurde nachgereicht und als Kompensation für ruiniertes Kleid und Handtasche zugegebenermaßen nicht berechnet.Schlechter Service scheint aber zum Ton des Hauses zu gehören, denn das Essen wurde serviert und erst danach erhielt man das Besteck direkt auf die Hand, Servietten lagen lieblos auf dem Tisch verstreut bzw. musste man anfordern und dafür zahlt man dann Spitzenpreise!Schaut man sich die Rezensionen über diese Lokalität auf den verschiedenen Foren an, so lebt die Kneipe fast nur von der Lage mit dem guten Blick auf Karlsruhe, aber dafür muss man Gottseidank nicht in das Lokal gehen!“ Im Übrigen hat auch uns fast jedes der dort monierten „Kleinigkeiten“ betroffen.Zusammengefasst ist dieses Etablissement nicht empfehlenswert und für den gebotenen Service zu teuer – Karlsruhe hat viele, deutlich bessere Lokale und unter gehobener Gastronomie stelle ich mir etwas anderes vor.</td>\n",
       "      <td>5</td>\n",
       "      <td>60185e10-1715-4729-a483-cc2070f14615</td>\n",
       "      <td>de</td>\n",
       "      <td>157</td>\n",
       "      <td>279</td>\n",
       "    </tr>\n",
       "  </tbody>\n",
       "</table>\n",
       "</div>"
      ],
      "text/plain": [
       "      Unnamed: 0.1  Unnamed: 0  review_id  restaurant_id  page_index  \\\n",
       "2856          2856        3122  887348853         908561           0   \n",
       "\n",
       "                                                     title        date  \\\n",
       "2856  Willkommen in der Servicewüste „Anders am Turmberg“!  2023-04-23   \n",
       "\n",
       "     author_name                   author_location  \\\n",
       "2856   Michael R  Landau in der Pfalz, Deutschland   \n",
       "\n",
       "                                                                                                                                                                                                                                                                                                                                                                                                                                                                                                                                                                                                                                                                                                                                                                                                                                                                                                                                                                                                                                                          text  \\\n",
       "2856  Der Chef steht mit Straßenkleidung in der Küche und lacht nur, über was war nicht klar – kein Wort des Bedauerns.Der Aperitif wurde nachgereicht und als Kompensation für ruiniertes Kleid und Handtasche zugegebenermaßen nicht berechnet.Schlechter Service scheint aber zum Ton des Hauses zu gehören, denn das Essen wurde serviert und erst danach erhielt man das Besteck direkt auf die Hand, Servietten lagen lieblos auf dem Tisch verstreut bzw. musste man anfordern und dafür zahlt man dann Spitzenpreise!Schaut man sich die Rezensionen über diese Lokalität auf den verschiedenen Foren an, so lebt die Kneipe fast nur von der Lage mit dem guten Blick auf Karlsruhe, aber dafür muss man Gottseidank nicht in das Lokal gehen!“ Im Übrigen hat auch uns fast jedes der dort monierten „Kleinigkeiten“ betroffen.Zusammengefasst ist dieses Etablissement nicht empfehlenswert und für den gebotenen Service zu teuer – Karlsruhe hat viele, deutlich bessere Lokale und unter gehobener Gastronomie stelle ich mir etwas anderes vor.   \n",
       "\n",
       "      rating       city          restaurant_name language_code  \\\n",
       "2856     1.0  karlsruhe  Anders auf dem Turmberg            de   \n",
       "\n",
       "                                                                                                                                                                                                                                                                                                                                                                                                                                                                                                                                                                                                                                                                                                                                                                                                                                                                                                                                                                                                                                                                                                                                                                                                                                                                                                                                                                                                                                                                                                                                                                                                                                       text_noanonymization  \\\n",
       "2856  2 volle Gläser mit Aperitif von einem Azubi über meine Frau geschüttet. So etwas kann ja mal passieren, auch wenn es in durchnässter Kleidung nicht mehr so schmeckt und zudem die Handtasche und der Sessel betroffen sind. Schlimm ist nur, dass weder eine richtige Entschuldigung kam, der Stuhl nicht gewechselt wurde und der Boden nicht gewischt wurde. Auch die Scherben wurden nicht alle entfernt. Hilfe oder Unterstützung, das Missgeschick zu beseitigen – Fehlanzeige.Lediglich der Hinweis, wir klären das später – toll, wenn einem keiner hilft, den Schaden zu begrenzen. Der Chef steht mit Straßenkleidung in der Küche und lacht nur, über was war nicht klar – kein Wort des Bedauerns.Der Aperitif wurde nachgereicht und als Kompensation für ruiniertes Kleid und Handtasche zugegebenermaßen nicht berechnet.Schlechter Service scheint aber zum Ton des Hauses zu gehören, denn das Essen wurde serviert und erst danach erhielt man das Besteck direkt auf die Hand, Servietten lagen lieblos auf dem Tisch verstreut bzw. musste man anfordern und dafür zahlt man dann Spitzenpreise!Schaut man sich die Rezensionen über diese Lokalität auf den verschiedenen Foren an, so lebt die Kneipe fast nur von der Lage mit dem guten Blick auf Karlsruhe, aber dafür muss man Gottseidank nicht in das Lokal gehen!“ Im Übrigen hat auch uns fast jedes der dort monierten „Kleinigkeiten“ betroffen.Zusammengefasst ist dieses Etablissement nicht empfehlenswert und für den gebotenen Service zu teuer – Karlsruhe hat viele, deutlich bessere Lokale und unter gehobener Gastronomie stelle ich mir etwas anderes vor.   \n",
       "\n",
       "      sentence_idx                                    id detected_language  \\\n",
       "2856             5  60185e10-1715-4729-a483-cc2070f14615                de   \n",
       "\n",
       "      word_count  llm_token_count  \n",
       "2856         157              279  "
      ]
     },
     "execution_count": 13,
     "metadata": {},
     "output_type": "execute_result"
    }
   ],
   "source": [
    "max_token_row = df[df['llm_token_count'] == df['llm_token_count'].max()]\n",
    "print(\"Zeile mit den meisten Tokens:\")\n",
    "max_token_row#[\"llm_token_count\"].values[0]"
   ]
  },
  {
   "cell_type": "code",
   "execution_count": 14,
   "id": "795cf4bf-74d4-476f-ae3f-5fd4ae8e4f25",
   "metadata": {
    "tags": []
   },
   "outputs": [],
   "source": [
    "with open(\"../prompt_template.txt\", \"r\", encoding=\"utf-8\") as file:\n",
    "    prompt_template = file.read()"
   ]
  },
  {
   "cell_type": "code",
   "execution_count": 15,
   "id": "9ae5782a-adb1-4c04-8e9f-4ac051c6770d",
   "metadata": {
    "tags": []
   },
   "outputs": [],
   "source": [
    "template_size = num_tokens_from_string(prompt_template, LLM_MODEL_NAME)\n",
    "aspect_term_tag_size = num_tokens_from_string('<aspect-term aspect=\"ambient/interior\" polarity=\"negative\"></aspect-term>', LLM_MODEL_NAME)"
   ]
  },
  {
   "cell_type": "code",
   "execution_count": 16,
   "id": "f1b0a460-1d6e-42c0-8ff5-75e11d89de5e",
   "metadata": {
    "tags": []
   },
   "outputs": [
    {
     "data": {
      "text/plain": [
       "3394"
      ]
     },
     "execution_count": 16,
     "metadata": {},
     "output_type": "execute_result"
    }
   ],
   "source": [
    "template_size + 10 * max_token_row[\"llm_token_count\"].values[0] + aspect_term_tag_size * 20"
   ]
  }
 ],
 "metadata": {
  "kernelspec": {
   "display_name": "Python 3 (ipykernel)",
   "language": "python",
   "name": "python3"
  },
  "language_info": {
   "codemirror_mode": {
    "name": "ipython",
    "version": 3
   },
   "file_extension": ".py",
   "mimetype": "text/x-python",
   "name": "python",
   "nbconvert_exporter": "python",
   "pygments_lexer": "ipython3",
   "version": "3.11.3"
  }
 },
 "nbformat": 4,
 "nbformat_minor": 5
}
