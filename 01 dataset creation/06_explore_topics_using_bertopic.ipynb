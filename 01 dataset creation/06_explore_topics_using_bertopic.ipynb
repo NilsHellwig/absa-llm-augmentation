{
 "cells": [
  {
   "cell_type": "markdown",
   "id": "00376d79-6510-4f24-a22f-95739776da39",
   "metadata": {},
   "source": [
    "# Notebook: Explore Addressed Topics"
   ]
  },
  {
   "cell_type": "markdown",
   "id": "85e8415f-736d-41f6-a7c3-1b7f2ea0e813",
   "metadata": {},
   "source": [
    "This notebook is used to explore the topics discussed in reviews previously discussed. "
   ]
  },
  {
   "cell_type": "markdown",
   "id": "612372b9-72c6-4ded-9d3e-7cdadf194858",
   "metadata": {},
   "source": [
    "## Packages"
   ]
  },
  {
   "cell_type": "code",
   "execution_count": 1,
   "id": "56152822-2497-475d-b241-e86503ffe4f6",
   "metadata": {
    "tags": []
   },
   "outputs": [
    {
     "name": "stderr",
     "output_type": "stream",
     "text": [
      "/opt/homebrew/Caskroom/miniforge/base/envs/tensorflow_m1/lib/python3.11/site-packages/umap/distances.py:1063: NumbaDeprecationWarning: The 'nopython' keyword argument was not supplied to the 'numba.jit' decorator. The implicit default value for this argument is currently False, but it will be changed to True in Numba 0.59.0. See https://numba.readthedocs.io/en/stable/reference/deprecation.html#deprecation-of-object-mode-fall-back-behaviour-when-using-jit for details.\n",
      "  @numba.jit()\n",
      "/opt/homebrew/Caskroom/miniforge/base/envs/tensorflow_m1/lib/python3.11/site-packages/umap/distances.py:1071: NumbaDeprecationWarning: The 'nopython' keyword argument was not supplied to the 'numba.jit' decorator. The implicit default value for this argument is currently False, but it will be changed to True in Numba 0.59.0. See https://numba.readthedocs.io/en/stable/reference/deprecation.html#deprecation-of-object-mode-fall-back-behaviour-when-using-jit for details.\n",
      "  @numba.jit()\n",
      "/opt/homebrew/Caskroom/miniforge/base/envs/tensorflow_m1/lib/python3.11/site-packages/umap/distances.py:1086: NumbaDeprecationWarning: The 'nopython' keyword argument was not supplied to the 'numba.jit' decorator. The implicit default value for this argument is currently False, but it will be changed to True in Numba 0.59.0. See https://numba.readthedocs.io/en/stable/reference/deprecation.html#deprecation-of-object-mode-fall-back-behaviour-when-using-jit for details.\n",
      "  @numba.jit()\n",
      "/opt/homebrew/Caskroom/miniforge/base/envs/tensorflow_m1/lib/python3.11/site-packages/tqdm/auto.py:21: TqdmWarning: IProgress not found. Please update jupyter and ipywidgets. See https://ipywidgets.readthedocs.io/en/stable/user_install.html\n",
      "  from .autonotebook import tqdm as notebook_tqdm\n",
      "/opt/homebrew/Caskroom/miniforge/base/envs/tensorflow_m1/lib/python3.11/site-packages/umap/umap_.py:660: NumbaDeprecationWarning: The 'nopython' keyword argument was not supplied to the 'numba.jit' decorator. The implicit default value for this argument is currently False, but it will be changed to True in Numba 0.59.0. See https://numba.readthedocs.io/en/stable/reference/deprecation.html#deprecation-of-object-mode-fall-back-behaviour-when-using-jit for details.\n",
      "  @numba.jit()\n"
     ]
    }
   ],
   "source": [
    "from sklearn.cluster import AgglomerativeClustering\n",
    "from sklearn.cluster import KMeans\n",
    "from nltk.corpus import stopwords\n",
    "from bertopic import BERTopic\n",
    "from hdbscan import HDBSCAN\n",
    "from umap import UMAP\n",
    "import pandas as pd\n",
    "import spacy\n",
    "import nltk\n",
    "import re"
   ]
  },
  {
   "cell_type": "markdown",
   "id": "d5a1be27-74ad-4cb8-8edc-0be9c948b119",
   "metadata": {},
   "source": [
    "## Constants"
   ]
  },
  {
   "cell_type": "code",
   "execution_count": 2,
   "id": "49ec3f5c-2096-4826-a5ef-88e6ebec8594",
   "metadata": {},
   "outputs": [
    {
     "name": "stderr",
     "output_type": "stream",
     "text": [
      "[nltk_data] Downloading package stopwords to\n",
      "[nltk_data]     /Users/nils_hellwig/nltk_data...\n",
      "[nltk_data]   Package stopwords is already up-to-date!\n"
     ]
    },
    {
     "data": {
      "text/plain": [
       "True"
      ]
     },
     "execution_count": 2,
     "metadata": {},
     "output_type": "execute_result"
    }
   ],
   "source": [
    "nltk.download('stopwords')"
   ]
  },
  {
   "cell_type": "code",
   "execution_count": 3,
   "id": "64398eaf-1d66-4450-a3e1-bd04ad43c6d7",
   "metadata": {},
   "outputs": [],
   "source": [
    "DATASET_PATH = \"../datasets/reviews_sentences.csv\"\n",
    "STOPWORDS = set(stopwords.words('german'))\n",
    "N_TOPICS = 11"
   ]
  },
  {
   "cell_type": "markdown",
   "id": "5876060c-8b63-406a-b501-daa5b7fb8ebc",
   "metadata": {},
   "source": [
    "## Code"
   ]
  },
  {
   "cell_type": "code",
   "execution_count": 4,
   "id": "7444ce8e-7fd7-4c8e-bfd5-4ae34c0ee61f",
   "metadata": {},
   "outputs": [],
   "source": [
    "#spacy.cli.download(\"de_core_news_sm\")"
   ]
  },
  {
   "cell_type": "code",
   "execution_count": 5,
   "id": "386c63d7-8862-40b8-8bb6-26fdb9319739",
   "metadata": {},
   "outputs": [],
   "source": [
    "nlp = spacy.load('de_core_news_sm')"
   ]
  },
  {
   "cell_type": "code",
   "execution_count": 6,
   "id": "64f99091-1616-43c1-bdbf-5ffeeb410fd5",
   "metadata": {},
   "outputs": [],
   "source": [
    "dataset = pd.read_csv(DATASET_PATH)"
   ]
  },
  {
   "cell_type": "code",
   "execution_count": 7,
   "id": "e06aa92a-017e-499c-861c-8e084b7ae937",
   "metadata": {},
   "outputs": [],
   "source": [
    "def clean_text(text):\n",
    "    RE_WSPACE = re.compile(r\"\\s+\", re.IGNORECASE)\n",
    "    RE_ASCII = re.compile(r\"[^A-Za-zÀ-ž ]\", re.IGNORECASE)\n",
    "    RE_SINGLECHAR = re.compile(r\"\\b[A-Za-zÀ-ž]\\b\", re.IGNORECASE)\n",
    "\n",
    "    text = re.sub(r'@\\w+', '', text)\n",
    "    text = re.sub(RE_ASCII, \" \", text)\n",
    "    text = re.sub(RE_SINGLECHAR, \" \", text)\n",
    "    text = re.sub(RE_WSPACE, \" \", text)\n",
    "    return text.strip()\n",
    "\n",
    "def lemmatize_remove_stopwords_text(text):\n",
    "    doc = nlp(text)\n",
    "    lemmatized_text = ' '.join([token.lemma_.lower() for token in doc if token.text.lower() not in STOPWORDS])\n",
    "    return lemmatized_text\n",
    "\n",
    "dataset[\"text\"] = dataset[\"text\"].apply(clean_text)\n",
    "dataset[\"text\"] = dataset[\"text\"].apply(lemmatize_remove_stopwords_text)"
   ]
  },
  {
   "cell_type": "code",
   "execution_count": 8,
   "id": "bdf5a9d0-fd79-440a-8f4c-97900d2a61b0",
   "metadata": {},
   "outputs": [],
   "source": [
    "dataset = dataset.text.to_list()"
   ]
  },
  {
   "cell_type": "code",
   "execution_count": 9,
   "id": "b4820d11-491e-4599-a91a-e2648d74bf90",
   "metadata": {},
   "outputs": [],
   "source": [
    "# Use default UMAP but add random state\n",
    "umap_model = UMAP(n_neighbors=15, n_components=5, min_dist=0.0, metric='cosine', random_state=43)\n",
    "model = BERTopic(language=\"german\", nr_topics=N_TOPICS, umap_model=umap_model, top_n_words=20, embedding_model=\"paraphrase-multilingual-MiniLM-L12-v2\")"
   ]
  },
  {
   "cell_type": "code",
   "execution_count": 10,
   "id": "2eb146a8-735f-4155-ac92-dcd56ef55fa1",
   "metadata": {},
   "outputs": [
    {
     "name": "stderr",
     "output_type": "stream",
     "text": [
      "Downloading (…)0fe39/.gitattributes: 100%|███████████████████████████████████| 968/968 [00:00<00:00, 1.83MB/s]\n",
      "Downloading (…)_Pooling/config.json: 100%|████████████████████████████████████| 190/190 [00:00<00:00, 975kB/s]\n",
      "Downloading (…)83e900fe39/README.md: 100%|███████████████████████████████| 3.79k/3.79k [00:00<00:00, 7.62MB/s]\n",
      "Downloading (…)e900fe39/config.json: 100%|███████████████████████████████████| 645/645 [00:00<00:00, 3.19MB/s]\n",
      "Downloading (…)ce_transformers.json: 100%|████████████████████████████████████| 122/122 [00:00<00:00, 705kB/s]\n",
      "Downloading pytorch_model.bin: 100%|███████████████████████████████████████| 471M/471M [00:38<00:00, 12.2MB/s]\n",
      "Downloading (…)nce_bert_config.json: 100%|██████████████████████████████████| 53.0/53.0 [00:00<00:00, 193kB/s]\n",
      "Downloading (…)tencepiece.bpe.model: 100%|███████████████████████████████| 5.07M/5.07M [00:00<00:00, 12.5MB/s]\n",
      "Downloading (…)cial_tokens_map.json: 100%|████████████████████████████████████| 239/239 [00:00<00:00, 328kB/s]\n",
      "Downloading tokenizer.json: 100%|████████████████████████████████████████| 9.08M/9.08M [00:00<00:00, 12.4MB/s]\n",
      "Downloading (…)okenizer_config.json: 100%|███████████████████████████████████| 480/480 [00:00<00:00, 1.04MB/s]\n",
      "Downloading unigram.json: 100%|██████████████████████████████████████████| 14.8M/14.8M [00:01<00:00, 12.4MB/s]\n",
      "Downloading (…)900fe39/modules.json: 100%|████████████████████████████████████| 229/229 [00:00<00:00, 425kB/s]\n"
     ]
    }
   ],
   "source": [
    "topics, probabilities = model.fit_transform(dataset)\n",
    "topics = model.reduce_outliers(dataset, topics, strategy=\"distributions\")\n",
    "model.update_topics(dataset, topics, top_n_words=20)"
   ]
  },
  {
   "cell_type": "code",
   "execution_count": 11,
   "id": "b6ad0f51-3e1d-48a3-a45e-e1e23beb9d46",
   "metadata": {},
   "outputs": [
    {
     "ename": "KeyError",
     "evalue": "'Topic'",
     "output_type": "error",
     "traceback": [
      "\u001b[0;31m---------------------------------------------------------------------------\u001b[0m",
      "\u001b[0;31mKeyError\u001b[0m                                  Traceback (most recent call last)",
      "\u001b[0;32m/var/folders/qy/5gtwsk6s7jgbknbqgb533x9w0000gn/T/ipykernel_70632/1166905134.py\u001b[0m in \u001b[0;36m?\u001b[0;34m()\u001b[0m\n\u001b[0;32m----> 1\u001b[0;31m \u001b[0mtopic_statistics\u001b[0m \u001b[0;34m=\u001b[0m \u001b[0mmodel\u001b[0m\u001b[0;34m.\u001b[0m\u001b[0mget_document_info\u001b[0m\u001b[0;34m(\u001b[0m\u001b[0mdataset\u001b[0m\u001b[0;34m)\u001b[0m\u001b[0;34m[\u001b[0m\u001b[0;34m\"Topic\"\u001b[0m\u001b[0;34m]\u001b[0m\u001b[0;34m.\u001b[0m\u001b[0mvalue_counts\u001b[0m\u001b[0;34m(\u001b[0m\u001b[0;34m)\u001b[0m\u001b[0;34m.\u001b[0m\u001b[0mreset_index\u001b[0m\u001b[0;34m(\u001b[0m\u001b[0;34m)\u001b[0m\u001b[0;34m.\u001b[0m\u001b[0mrename\u001b[0m\u001b[0;34m(\u001b[0m\u001b[0mcolumns\u001b[0m\u001b[0;34m=\u001b[0m\u001b[0;34m{\u001b[0m\u001b[0;34m\"index\"\u001b[0m\u001b[0;34m:\u001b[0m \u001b[0;34m\"Topic\"\u001b[0m\u001b[0;34m,\u001b[0m \u001b[0;34m\"Topic\"\u001b[0m\u001b[0;34m:\u001b[0m \u001b[0;34m\"Frequency\"\u001b[0m\u001b[0;34m}\u001b[0m\u001b[0;34m)\u001b[0m\u001b[0;34m.\u001b[0m\u001b[0msort_values\u001b[0m\u001b[0;34m(\u001b[0m\u001b[0;34m\"Topic\"\u001b[0m\u001b[0;34m)\u001b[0m\u001b[0;34m.\u001b[0m\u001b[0mreset_index\u001b[0m\u001b[0;34m(\u001b[0m\u001b[0mdrop\u001b[0m\u001b[0;34m=\u001b[0m\u001b[0;32mTrue\u001b[0m\u001b[0;34m)\u001b[0m\u001b[0;34m\u001b[0m\u001b[0;34m\u001b[0m\u001b[0m\n\u001b[0m\u001b[1;32m      2\u001b[0m \u001b[0mtopic_statistics\u001b[0m \u001b[0;34m=\u001b[0m \u001b[0mtopic_statistics\u001b[0m\u001b[0;34m[\u001b[0m\u001b[0mtopic_statistics\u001b[0m\u001b[0;34m[\u001b[0m\u001b[0;34m\"Topic\"\u001b[0m\u001b[0;34m]\u001b[0m \u001b[0;34m!=\u001b[0m \u001b[0;34m-\u001b[0m\u001b[0;36m1\u001b[0m\u001b[0;34m]\u001b[0m\u001b[0;34m\u001b[0m\u001b[0;34m\u001b[0m\u001b[0m\n\u001b[1;32m      3\u001b[0m \u001b[0mtopic_statistics\u001b[0m\u001b[0;34m[\u001b[0m\u001b[0;34m\"Topic\"\u001b[0m\u001b[0;34m]\u001b[0m \u001b[0;34m=\u001b[0m \u001b[0mtopic_statistics\u001b[0m\u001b[0;34m[\u001b[0m\u001b[0;34m\"Topic\"\u001b[0m\u001b[0;34m]\u001b[0m \u001b[0;34m+\u001b[0m \u001b[0;36m1\u001b[0m\u001b[0;34m\u001b[0m\u001b[0;34m\u001b[0m\u001b[0m\n\u001b[1;32m      4\u001b[0m \u001b[0mtopic_statistics\u001b[0m\u001b[0;34m\u001b[0m\u001b[0;34m\u001b[0m\u001b[0m\n",
      "\u001b[0;32m/opt/homebrew/Caskroom/miniforge/base/envs/tensorflow_m1/lib/python3.11/site-packages/pandas/core/frame.py\u001b[0m in \u001b[0;36m?\u001b[0;34m(self, by, axis, ascending, inplace, kind, na_position, ignore_index, key)\u001b[0m\n\u001b[1;32m   6754\u001b[0m         \u001b[0;32melif\u001b[0m \u001b[0mlen\u001b[0m\u001b[0;34m(\u001b[0m\u001b[0mby\u001b[0m\u001b[0;34m)\u001b[0m\u001b[0;34m:\u001b[0m\u001b[0;34m\u001b[0m\u001b[0;34m\u001b[0m\u001b[0m\n\u001b[1;32m   6755\u001b[0m             \u001b[0;31m# len(by) == 1\u001b[0m\u001b[0;34m\u001b[0m\u001b[0;34m\u001b[0m\u001b[0m\n\u001b[1;32m   6756\u001b[0m \u001b[0;34m\u001b[0m\u001b[0m\n\u001b[1;32m   6757\u001b[0m             \u001b[0mby\u001b[0m \u001b[0;34m=\u001b[0m \u001b[0mby\u001b[0m\u001b[0;34m[\u001b[0m\u001b[0;36m0\u001b[0m\u001b[0;34m]\u001b[0m\u001b[0;34m\u001b[0m\u001b[0;34m\u001b[0m\u001b[0m\n\u001b[0;32m-> 6758\u001b[0;31m             \u001b[0mk\u001b[0m \u001b[0;34m=\u001b[0m \u001b[0mself\u001b[0m\u001b[0;34m.\u001b[0m\u001b[0m_get_label_or_level_values\u001b[0m\u001b[0;34m(\u001b[0m\u001b[0mby\u001b[0m\u001b[0;34m,\u001b[0m \u001b[0maxis\u001b[0m\u001b[0;34m=\u001b[0m\u001b[0maxis\u001b[0m\u001b[0;34m)\u001b[0m\u001b[0;34m\u001b[0m\u001b[0;34m\u001b[0m\u001b[0m\n\u001b[0m\u001b[1;32m   6759\u001b[0m \u001b[0;34m\u001b[0m\u001b[0m\n\u001b[1;32m   6760\u001b[0m             \u001b[0;31m# need to rewrap column in Series to apply key function\u001b[0m\u001b[0;34m\u001b[0m\u001b[0;34m\u001b[0m\u001b[0m\n\u001b[1;32m   6761\u001b[0m             \u001b[0;32mif\u001b[0m \u001b[0mkey\u001b[0m \u001b[0;32mis\u001b[0m \u001b[0;32mnot\u001b[0m \u001b[0;32mNone\u001b[0m\u001b[0;34m:\u001b[0m\u001b[0;34m\u001b[0m\u001b[0;34m\u001b[0m\u001b[0m\n",
      "\u001b[0;32m/opt/homebrew/Caskroom/miniforge/base/envs/tensorflow_m1/lib/python3.11/site-packages/pandas/core/generic.py\u001b[0m in \u001b[0;36m?\u001b[0;34m(self, key, axis)\u001b[0m\n\u001b[1;32m   1774\u001b[0m             \u001b[0mvalues\u001b[0m \u001b[0;34m=\u001b[0m \u001b[0mself\u001b[0m\u001b[0;34m.\u001b[0m\u001b[0mxs\u001b[0m\u001b[0;34m(\u001b[0m\u001b[0mkey\u001b[0m\u001b[0;34m,\u001b[0m \u001b[0maxis\u001b[0m\u001b[0;34m=\u001b[0m\u001b[0mother_axes\u001b[0m\u001b[0;34m[\u001b[0m\u001b[0;36m0\u001b[0m\u001b[0;34m]\u001b[0m\u001b[0;34m)\u001b[0m\u001b[0;34m.\u001b[0m\u001b[0m_values\u001b[0m\u001b[0;34m\u001b[0m\u001b[0;34m\u001b[0m\u001b[0m\n\u001b[1;32m   1775\u001b[0m         \u001b[0;32melif\u001b[0m \u001b[0mself\u001b[0m\u001b[0;34m.\u001b[0m\u001b[0m_is_level_reference\u001b[0m\u001b[0;34m(\u001b[0m\u001b[0mkey\u001b[0m\u001b[0;34m,\u001b[0m \u001b[0maxis\u001b[0m\u001b[0;34m=\u001b[0m\u001b[0maxis\u001b[0m\u001b[0;34m)\u001b[0m\u001b[0;34m:\u001b[0m\u001b[0;34m\u001b[0m\u001b[0;34m\u001b[0m\u001b[0m\n\u001b[1;32m   1776\u001b[0m             \u001b[0mvalues\u001b[0m \u001b[0;34m=\u001b[0m \u001b[0mself\u001b[0m\u001b[0;34m.\u001b[0m\u001b[0maxes\u001b[0m\u001b[0;34m[\u001b[0m\u001b[0maxis\u001b[0m\u001b[0;34m]\u001b[0m\u001b[0;34m.\u001b[0m\u001b[0mget_level_values\u001b[0m\u001b[0;34m(\u001b[0m\u001b[0mkey\u001b[0m\u001b[0;34m)\u001b[0m\u001b[0;34m.\u001b[0m\u001b[0m_values\u001b[0m\u001b[0;34m\u001b[0m\u001b[0;34m\u001b[0m\u001b[0m\n\u001b[1;32m   1777\u001b[0m         \u001b[0;32melse\u001b[0m\u001b[0;34m:\u001b[0m\u001b[0;34m\u001b[0m\u001b[0;34m\u001b[0m\u001b[0m\n\u001b[0;32m-> 1778\u001b[0;31m             \u001b[0;32mraise\u001b[0m \u001b[0mKeyError\u001b[0m\u001b[0;34m(\u001b[0m\u001b[0mkey\u001b[0m\u001b[0;34m)\u001b[0m\u001b[0;34m\u001b[0m\u001b[0;34m\u001b[0m\u001b[0m\n\u001b[0m\u001b[1;32m   1779\u001b[0m \u001b[0;34m\u001b[0m\u001b[0m\n\u001b[1;32m   1780\u001b[0m         \u001b[0;31m# Check for duplicates\u001b[0m\u001b[0;34m\u001b[0m\u001b[0;34m\u001b[0m\u001b[0m\n\u001b[1;32m   1781\u001b[0m         \u001b[0;32mif\u001b[0m \u001b[0mvalues\u001b[0m\u001b[0;34m.\u001b[0m\u001b[0mndim\u001b[0m \u001b[0;34m>\u001b[0m \u001b[0;36m1\u001b[0m\u001b[0;34m:\u001b[0m\u001b[0;34m\u001b[0m\u001b[0;34m\u001b[0m\u001b[0m\n",
      "\u001b[0;31mKeyError\u001b[0m: 'Topic'"
     ]
    }
   ],
   "source": [
    "topic_statistics = model.get_document_info(dataset)[\"Topic\"].value_counts().reset_index().rename(columns={\"index\": \"Topic\", \"Topic\": \"Frequency\"}).sort_values(\"Topic\").reset_index(drop=True)\n",
    "topic_statistics = topic_statistics[topic_statistics[\"Topic\"] != -1]\n",
    "topic_statistics[\"Topic\"] = topic_statistics[\"Topic\"] + 1\n",
    "topic_statistics"
   ]
  },
  {
   "cell_type": "code",
   "execution_count": null,
   "id": "6d5e0e33-2e84-42a3-ba08-d4d549b1ff93",
   "metadata": {
    "tags": []
   },
   "outputs": [],
   "source": [
    "top_words = []\n",
    "for topic in topic_statistics[\"Topic\"]:\n",
    "    words = model.get_topic(topic - 1)[:5]\n",
    "    top_words.append(', '.join([word[0] for word in words]))\n",
    "    \n",
    "topic_statistics[\"Top Words\"] = top_words\n",
    "\n",
    "def format_frequency(frequency):\n",
    "    return \"{:,}\".format(frequency)\n",
    "\n",
    "# Anwendung der Funktion auf die Spalte \"Frequency\"\n",
    "topic_statistics[\"Frequency\"] = topic_statistics[\"Frequency\"].apply(format_frequency)\n",
    "\n",
    "topic_statistics"
   ]
  }
 ],
 "metadata": {
  "kernelspec": {
   "display_name": "Python 3 (ipykernel)",
   "language": "python",
   "name": "python3"
  },
  "language_info": {
   "codemirror_mode": {
    "name": "ipython",
    "version": 3
   },
   "file_extension": ".py",
   "mimetype": "text/x-python",
   "name": "python",
   "nbconvert_exporter": "python",
   "pygments_lexer": "ipython3",
   "version": "3.11.3"
  }
 },
 "nbformat": 4,
 "nbformat_minor": 5
}
