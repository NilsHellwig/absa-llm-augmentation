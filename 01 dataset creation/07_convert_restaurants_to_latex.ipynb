{
 "cells": [
  {
   "cell_type": "code",
   "execution_count": 20,
   "metadata": {},
   "outputs": [
    {
     "name": "stdout",
     "output_type": "stream",
     "text": [
      "Die LaTeX-Tabelle wurde in 'restaurants_0.tex' gespeichert.\n",
      "Die LaTeX-Tabelle wurde in 'restaurants_1.tex' gespeichert.\n",
      "Die LaTeX-Tabelle wurde in 'restaurants_2.tex' gespeichert.\n",
      "Die LaTeX-Tabelle wurde in 'restaurants_3.tex' gespeichert.\n"
     ]
    }
   ],
   "source": [
    "import json\n",
    "\n",
    "# Lade die JSON-Datei\n",
    "with open('restaurants.json', 'r') as file:\n",
    "    data = json.load(file)\n",
    "\n",
    "# Teile den Datensatz in vier Teile auf\n",
    "num_records = len(data)\n",
    "chunk_size = num_records // 4\n",
    "\n",
    "for idx in range(4):\n",
    "    start = idx * chunk_size\n",
    "    end = (idx + 1) * chunk_size if idx < 3 else num_records\n",
    "    chunk_data = data[start:end]\n",
    "\n",
    "    # LaTeX-Tabelle erstellen\n",
    "    latex_table = \"\\\\begin{table}[]\\n\"\n",
    "    latex_table += \"\\\\centering\\n\"\n",
    "    latex_table += \"\\\\tiny\\n\"\n",
    "    latex_table += \"\\\\rotatebox{90}{\\n\"\n",
    "    latex_table += \"\\\\begin{tabular}{lll}\\n\"\n",
    "    latex_table += \"\\\\hline\\n\"\n",
    "    latex_table += \"\\\\textbf{Restaurant URL} & \\\\textbf{City} & \\\\textbf{\\\\begin{tabular}[c]{@{}l@{}}\\# User Reviews \\\\\\ (As of October 31, 2023)\\\\end{tabular}} \\\\\\\\ \\\\hline\\n\"\n",
    "\n",
    "    for restaurant in chunk_data:\n",
    "        url = restaurant['url']\n",
    "        city = restaurant['city'][0].upper() + restaurant['city'][1:]  # Nur erster Buchstabe der Stadt in Großbuchstaben\n",
    "        n_ratings = restaurant['n_ratings']\n",
    "        latex_url = \"\\\\url{\" + url.replace(\"_\", \"\\\\_\") + \"}\"\n",
    "        latex_table += f\"{latex_url} & {city} & {n_ratings} \\\\\\\\ \\n\"\n",
    "\n",
    "    latex_table += \"\\\\hline\\n\"\n",
    "    latex_table += \"\\\\end{tabular}\\n\"\n",
    "    latex_table += \"}\\n\"\n",
    "    latex_table += \"\\\\end{table}\"\n",
    "\n",
    "    # Tabelle in eine LaTeX-Datei schreiben (z.B. restaurants_{idx}.tex)\n",
    "    with open(f'restaurants_{idx}.tex', 'w') as latex_file:\n",
    "        latex_file.write(latex_table)\n",
    "\n",
    "    print(f\"Die LaTeX-Tabelle wurde in 'restaurants_{idx}.tex' gespeichert.\")\n",
    "\n",
    "\n",
    "\n"
   ]
  }
 ],
 "metadata": {
  "kernelspec": {
   "display_name": "tensorflow_m1",
   "language": "python",
   "name": "python3"
  },
  "language_info": {
   "codemirror_mode": {
    "name": "ipython",
    "version": 3
   },
   "file_extension": ".py",
   "mimetype": "text/x-python",
   "name": "python",
   "nbconvert_exporter": "python",
   "pygments_lexer": "ipython3",
   "version": "3.11.3"
  }
 },
 "nbformat": 4,
 "nbformat_minor": 2
}
