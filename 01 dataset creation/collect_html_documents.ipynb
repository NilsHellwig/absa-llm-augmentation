{
 "cells": [
  {
   "cell_type": "markdown",
   "id": "dd14b58c-dbd8-46e2-b9ea-69c7dd725395",
   "metadata": {},
   "source": [
    "# Collect HTML Documents"
   ]
  },
  {
   "cell_type": "markdown",
   "id": "236c1bc8-f4be-445b-a931-9591a9efde3f",
   "metadata": {},
   "source": [
    "This notebook is used to scrape restaurant reviews from TripAdvisor. First, the pages with the reviews are collected in the form of an .html file."
   ]
  },
  {
   "cell_type": "markdown",
   "id": "365ed91e-ce91-40e2-a39f-aabb6718ca5b",
   "metadata": {},
   "source": [
    "## Packages"
   ]
  },
  {
   "cell_type": "code",
   "execution_count": 16,
   "id": "29194bd1-ac51-4e02-9d54-9aff982f8fdf",
   "metadata": {
    "tags": []
   },
   "outputs": [],
   "source": [
    "from bs4 import BeautifulSoup\n",
    "import requests\n",
    "import json"
   ]
  },
  {
   "cell_type": "code",
   "execution_count": 17,
   "id": "e4b3c474-d17c-4898-9a90-f0bce3050fe6",
   "metadata": {},
   "outputs": [],
   "source": [
    "import urllib3\n",
    "urllib3.disable_warnings(urllib3.exceptions.InsecureRequestWarning)"
   ]
  },
  {
   "cell_type": "markdown",
   "id": "835bc8cd-1006-4be0-ab82-11c381b5ba31",
   "metadata": {
    "tags": []
   },
   "source": [
    "## Constants"
   ]
  },
  {
   "cell_type": "code",
   "execution_count": 18,
   "id": "f5995d10-7838-4083-bd93-3b6eaf321c02",
   "metadata": {
    "tags": []
   },
   "outputs": [],
   "source": [
    "# Source: https://stackoverflow.com/questions/69946941/python-beautifulsoup-web-scraping-tripadvisor-view-a-review\n",
    "REQUEST_HEADER = {\n",
    "    'Access-Control-Allow-Origin': '*',\n",
    "    'Access-Control-Allow-Methods': 'GET',\n",
    "    'Access-Control-Allow-Headers': 'Content-Type',\n",
    "    'accept': '*/*',\n",
    "    'accept-encoding': 'gzip, deflate',\n",
    "    'accept-language': 'en,mr;q=0.9',\n",
    "    'User-Agent': 'Mozilla/5.0 (Windows NT 10.0; Win64; x64) AppleWebKit/537.36 (KHTML, like Gecko) Chrome/95.0.4638.69 Safari/537.36'\n",
    "}"
   ]
  },
  {
   "cell_type": "code",
   "execution_count": 19,
   "id": "4f65dd6b-80e1-4e31-bcdf-9914c848cb3b",
   "metadata": {
    "tags": []
   },
   "outputs": [],
   "source": [
    "RESTAURANT_URLS = \"restaurant_reviews.json\"\n",
    "PAGES_RESTAURANTS_PATH = \"../datasets/pages_restaurants_html/\""
   ]
  },
  {
   "cell_type": "code",
   "execution_count": 20,
   "id": "f4cc1384-df29-4e4c-abd4-b698ff8b5095",
   "metadata": {
    "tags": []
   },
   "outputs": [],
   "source": [
    "N_PAGES = 3"
   ]
  },
  {
   "cell_type": "markdown",
   "id": "84e5483c-9cb7-4d0d-b65a-e2c2a1089732",
   "metadata": {},
   "source": [
    "## Code"
   ]
  },
  {
   "cell_type": "markdown",
   "id": "337719e1-6119-4a16-842d-d34cd8b2bb81",
   "metadata": {},
   "source": [
    "### Load Dataset"
   ]
  },
  {
   "cell_type": "code",
   "execution_count": 21,
   "id": "7dd56414-5260-40ce-8b6d-7834cc75c86a",
   "metadata": {
    "tags": []
   },
   "outputs": [],
   "source": [
    "with open(RESTAURANT_URLS, 'r') as json_file:\n",
    "    restaurant_metadata = json.load(json_file)"
   ]
  },
  {
   "cell_type": "code",
   "execution_count": 22,
   "id": "7adc1e68-f6f2-42c2-bd5d-1e74674dff76",
   "metadata": {
    "tags": []
   },
   "outputs": [],
   "source": [
    "def get_html_by_url(url):\n",
    "    response = requests.get(url, headers=REQUEST_HEADER)\n",
    "    html_content = response.text\n",
    "    return html_content"
   ]
  },
  {
   "cell_type": "markdown",
   "id": "924915cd-67ea-479d-b3a2-18fa5526c142",
   "metadata": {},
   "source": [
    "### Save Pages"
   ]
  },
  {
   "cell_type": "code",
   "execution_count": 23,
   "id": "8e4a2102-c3dc-42d1-a754-d1d0b8dd76f6",
   "metadata": {
    "tags": []
   },
   "outputs": [],
   "source": [
    "for restaurant in restaurant_metadata:\n",
    "    for page_index in range(0, N_PAGES):\n",
    "        url = restaurant[\"url\"]\n",
    "        url = url.replace(\"-Reviews-\", \"-Reviews-or\" + str(page_index * 10) +\"-\")\n",
    "        html = get_html_by_url(url)\n",
    "        with open(PAGES_RESTAURANTS_PATH + f'restaurant_{restaurant[\"id\"]}_pageidx_{page_index}.html', \"w\", encoding=\"utf-8\") as file:\n",
    "            file.write(html)"
   ]
  }
 ],
 "metadata": {
  "kernelspec": {
   "display_name": "Python 3 (ipykernel)",
   "language": "python",
   "name": "python3"
  },
  "language_info": {
   "codemirror_mode": {
    "name": "ipython",
    "version": 3
   },
   "file_extension": ".py",
   "mimetype": "text/x-python",
   "name": "python",
   "nbconvert_exporter": "python",
   "pygments_lexer": "ipython3",
   "version": "3.11.3"
  }
 },
 "nbformat": 4,
 "nbformat_minor": 5
}
