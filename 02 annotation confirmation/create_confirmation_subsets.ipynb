{
 "cells": [
  {
   "cell_type": "markdown",
   "metadata": {},
   "source": [
    "# Notebook: Create Confirmation Subsets"
   ]
  },
  {
   "cell_type": "markdown",
   "metadata": {},
   "source": [
    "## Packages"
   ]
  },
  {
   "cell_type": "code",
   "execution_count": 71,
   "metadata": {},
   "outputs": [],
   "source": [
    "import pandas as pd\n",
    "import json"
   ]
  },
  {
   "cell_type": "markdown",
   "metadata": {},
   "source": [
    "## Settings"
   ]
  },
  {
   "cell_type": "code",
   "execution_count": 72,
   "metadata": {},
   "outputs": [],
   "source": [
    "N_PARTS = 2"
   ]
  },
  {
   "cell_type": "code",
   "execution_count": 73,
   "metadata": {},
   "outputs": [],
   "source": [
    "INPUT_PATH = \"annotations_nils_total_dataset.csv\"\n",
    "OUTPUT_PATH_PREFIX = \"annotation_confirmation/annotation_confirmation_total_dataset\""
   ]
  },
  {
   "cell_type": "markdown",
   "metadata": {},
   "source": [
    "## Code"
   ]
  },
  {
   "cell_type": "code",
   "execution_count": 74,
   "metadata": {},
   "outputs": [],
   "source": [
    "# Zuvor muss ich meine Annotationen hochladen roh, aus label studio als csv\n",
    "df = pd.read_csv(INPUT_PATH)\n",
    "df[\"annotation_confirmation\"] = None"
   ]
  },
  {
   "cell_type": "code",
   "execution_count": 75,
   "metadata": {},
   "outputs": [],
   "source": [
    "def merge_labels_implicit_to_explicit(dataframe):\n",
    "    # Benutzerdefinierte Funktion, um label-implicit zu label-explicit hinzuzufügen und 'type' hinzufügen\n",
    "    def merge_labels(row):\n",
    "        labels_explicit = row[\"label-explicit\"]\n",
    "        labels_implicit = row[\"label-implicit\"]\n",
    "\n",
    "        if isinstance(labels_explicit, str) == False:\n",
    "            labels_explicit = []\n",
    "        else:\n",
    "            labels_explicit = json.loads(labels_explicit)\n",
    "\n",
    "        if isinstance(labels_implicit, str) == False:\n",
    "            labels_implicit = []\n",
    "        else:\n",
    "            labels_implicit = json.loads(labels_implicit)\n",
    "\n",
    "        labels_total = []\n",
    "        for annotation in labels_implicit:\n",
    "            tuple = ('\"'+annotation[\"labels\"][0].rsplit('-', 1)[0]+'\"',\n",
    "                     '\"'+annotation[\"labels\"][0].rsplit('-', 1)[1]+'\"', '\"NULL\"')\n",
    "            labels_total.append(tuple)\n",
    "\n",
    "        for annotation in labels_explicit:\n",
    "            tuple = ('\"'+annotation[\"labels\"][0].rsplit('-', 1)[0]+'\"', '\"' +\n",
    "                     annotation[\"labels\"][0].rsplit('-', 1)[1]+'\"', '\"'+annotation[\"text\"]+'\"')\n",
    "            labels_total.append(tuple)\n",
    "\n",
    "        row[\"annotation\"] = labels_total\n",
    "        row[\"annotation_confirmation\"] = \"\"\n",
    "        return row\n",
    "\n",
    "    dataframe = dataframe.apply(merge_labels, axis=1)\n",
    "\n",
    "    return dataframe"
   ]
  },
  {
   "cell_type": "code",
   "execution_count": 76,
   "metadata": {},
   "outputs": [
    {
     "name": "stdout",
     "output_type": "stream",
     "text": [
      "Part 0 saved to 'annotation_confirmation/annotation_confirmation_total_dataset_0.csv'.\n",
      "Part 1 saved to 'annotation_confirmation/annotation_confirmation_total_dataset_1.csv'.\n"
     ]
    }
   ],
   "source": [
    "total_rows = len(df)\n",
    "rows_per_part = total_rows // N_PARTS\n",
    "\n",
    "for idx in range(N_PARTS):\n",
    "    start_idx = idx * rows_per_part\n",
    "    end_idx = (idx + 1) * rows_per_part if idx < N_PARTS - 1 else total_rows\n",
    "    part_df = df.iloc[start_idx:end_idx]\n",
    "\n",
    "    filename = f\"{OUTPUT_PATH_PREFIX}_{idx}.csv\"\n",
    "\n",
    "    part_df = merge_labels_implicit_to_explicit(part_df)\n",
    "    part_df = part_df[[\"id\", \"annotation_confirmation\", \"annotation\", \"text\"]]\n",
    "\n",
    "    part_df.to_csv(filename, index=False)\n",
    "\n",
    "    print(f\"Part {idx} saved to '{filename}'.\")\n"
   ]
  },
  {
   "cell_type": "code",
   "execution_count": 77,
   "metadata": {},
   "outputs": [
    {
     "data": {
      "text/html": [
       "<div>\n",
       "<style scoped>\n",
       "    .dataframe tbody tr th:only-of-type {\n",
       "        vertical-align: middle;\n",
       "    }\n",
       "\n",
       "    .dataframe tbody tr th {\n",
       "        vertical-align: top;\n",
       "    }\n",
       "\n",
       "    .dataframe thead th {\n",
       "        text-align: right;\n",
       "    }\n",
       "</style>\n",
       "<table border=\"1\" class=\"dataframe\">\n",
       "  <thead>\n",
       "    <tr style=\"text-align: right;\">\n",
       "      <th></th>\n",
       "      <th>id</th>\n",
       "      <th>annotation_confirmation</th>\n",
       "      <th>annotation</th>\n",
       "      <th>text</th>\n",
       "    </tr>\n",
       "  </thead>\n",
       "  <tbody>\n",
       "    <tr>\n",
       "      <th>2000</th>\n",
       "      <td>acb9c5da-b48e-452c-aef5-1c01601aa251</td>\n",
       "      <td></td>\n",
       "      <td>[]</td>\n",
       "      <td>Man muss sich nicht wundern, wenn sich die pot...</td>\n",
       "    </tr>\n",
       "    <tr>\n",
       "      <th>2001</th>\n",
       "      <td>87903ffa-a10a-44cf-968f-a2c38f82706d</td>\n",
       "      <td></td>\n",
       "      <td>[(\"FOOD\", \"NEGATIVE\", \"Garnelen\"), (\"FOOD\", \"N...</td>\n",
       "      <td>Sowohl Hähnchenfleisch als auch Garnelen waren...</td>\n",
       "    </tr>\n",
       "    <tr>\n",
       "      <th>2002</th>\n",
       "      <td>99e6780c-eb6d-45ec-afe3-7c20d8500ac6</td>\n",
       "      <td></td>\n",
       "      <td>[]</td>\n",
       "      <td>Waren gestern mit 10 Personen dort.</td>\n",
       "    </tr>\n",
       "    <tr>\n",
       "      <th>2003</th>\n",
       "      <td>2f886ca9-59c8-4789-a8a7-484fcca42b5f</td>\n",
       "      <td></td>\n",
       "      <td>[(\"SERVICE\", \"POSITIVE\", \"Kellner*innen\"), (\"A...</td>\n",
       "      <td>Die gute Laune der Kellner*innen und die Musik...</td>\n",
       "    </tr>\n",
       "    <tr>\n",
       "      <th>2004</th>\n",
       "      <td>77b108e0-690c-4764-bf41-599bf1db9f8d</td>\n",
       "      <td></td>\n",
       "      <td>[(\"SERVICE\", \"POSITIVE\", \"Service\")]</td>\n",
       "      <td>Netter und freundlicher Service.</td>\n",
       "    </tr>\n",
       "    <tr>\n",
       "      <th>...</th>\n",
       "      <td>...</td>\n",
       "      <td>...</td>\n",
       "      <td>...</td>\n",
       "      <td>...</td>\n",
       "    </tr>\n",
       "    <tr>\n",
       "      <th>3996</th>\n",
       "      <td>5da31017-77d5-4f8b-b7b8-b846af0a68db</td>\n",
       "      <td></td>\n",
       "      <td>[]</td>\n",
       "      <td>und Convenience-Produkte.</td>\n",
       "    </tr>\n",
       "    <tr>\n",
       "      <th>3997</th>\n",
       "      <td>48f9c295-f1a5-488f-8b98-e950bc0dd26b</td>\n",
       "      <td></td>\n",
       "      <td>[(\"FOOD\", \"NEUTRAL\", \"Essen\")]</td>\n",
       "      <td>Essen war ok, aber sowas verdirbt einem nur di...</td>\n",
       "    </tr>\n",
       "    <tr>\n",
       "      <th>3998</th>\n",
       "      <td>395f3ce3-8953-49ab-9789-73296025a148</td>\n",
       "      <td></td>\n",
       "      <td>[(\"SERVICE\", \"POSITIVE\", \"Service\")]</td>\n",
       "      <td>Der Service war schnell, freundlich und Aufmer...</td>\n",
       "    </tr>\n",
       "    <tr>\n",
       "      <th>3999</th>\n",
       "      <td>08912473-cc39-4993-9aa8-faab203e1be1</td>\n",
       "      <td></td>\n",
       "      <td>[(\"AMBIENCE\", \"POSITIVE\", \"Ambiente\")]</td>\n",
       "      <td>Das Ambiente ist natürlich besonders.</td>\n",
       "    </tr>\n",
       "    <tr>\n",
       "      <th>4000</th>\n",
       "      <td>260f37f7-1d0d-4890-9a08-81036c7850a5</td>\n",
       "      <td></td>\n",
       "      <td>[(\"GENERAL-IMPRESSION\", \"POSITIVE\", \"Lokal\")]</td>\n",
       "      <td>Insgesamt ein alteingesessenes Lokal das man e...</td>\n",
       "    </tr>\n",
       "  </tbody>\n",
       "</table>\n",
       "<p>2001 rows × 4 columns</p>\n",
       "</div>"
      ],
      "text/plain": [
       "                                        id annotation_confirmation  \\\n",
       "2000  acb9c5da-b48e-452c-aef5-1c01601aa251                           \n",
       "2001  87903ffa-a10a-44cf-968f-a2c38f82706d                           \n",
       "2002  99e6780c-eb6d-45ec-afe3-7c20d8500ac6                           \n",
       "2003  2f886ca9-59c8-4789-a8a7-484fcca42b5f                           \n",
       "2004  77b108e0-690c-4764-bf41-599bf1db9f8d                           \n",
       "...                                    ...                     ...   \n",
       "3996  5da31017-77d5-4f8b-b7b8-b846af0a68db                           \n",
       "3997  48f9c295-f1a5-488f-8b98-e950bc0dd26b                           \n",
       "3998  395f3ce3-8953-49ab-9789-73296025a148                           \n",
       "3999  08912473-cc39-4993-9aa8-faab203e1be1                           \n",
       "4000  260f37f7-1d0d-4890-9a08-81036c7850a5                           \n",
       "\n",
       "                                             annotation  \\\n",
       "2000                                                 []   \n",
       "2001  [(\"FOOD\", \"NEGATIVE\", \"Garnelen\"), (\"FOOD\", \"N...   \n",
       "2002                                                 []   \n",
       "2003  [(\"SERVICE\", \"POSITIVE\", \"Kellner*innen\"), (\"A...   \n",
       "2004               [(\"SERVICE\", \"POSITIVE\", \"Service\")]   \n",
       "...                                                 ...   \n",
       "3996                                                 []   \n",
       "3997                     [(\"FOOD\", \"NEUTRAL\", \"Essen\")]   \n",
       "3998               [(\"SERVICE\", \"POSITIVE\", \"Service\")]   \n",
       "3999             [(\"AMBIENCE\", \"POSITIVE\", \"Ambiente\")]   \n",
       "4000      [(\"GENERAL-IMPRESSION\", \"POSITIVE\", \"Lokal\")]   \n",
       "\n",
       "                                                   text  \n",
       "2000  Man muss sich nicht wundern, wenn sich die pot...  \n",
       "2001  Sowohl Hähnchenfleisch als auch Garnelen waren...  \n",
       "2002                Waren gestern mit 10 Personen dort.  \n",
       "2003  Die gute Laune der Kellner*innen und die Musik...  \n",
       "2004                   Netter und freundlicher Service.  \n",
       "...                                                 ...  \n",
       "3996                          und Convenience-Produkte.  \n",
       "3997  Essen war ok, aber sowas verdirbt einem nur di...  \n",
       "3998  Der Service war schnell, freundlich und Aufmer...  \n",
       "3999              Das Ambiente ist natürlich besonders.  \n",
       "4000  Insgesamt ein alteingesessenes Lokal das man e...  \n",
       "\n",
       "[2001 rows x 4 columns]"
      ]
     },
     "execution_count": 77,
     "metadata": {},
     "output_type": "execute_result"
    }
   ],
   "source": [
    "part_df"
   ]
  }
 ],
 "metadata": {
  "kernelspec": {
   "display_name": "tensorflow_m1",
   "language": "python",
   "name": "python3"
  },
  "language_info": {
   "codemirror_mode": {
    "name": "ipython",
    "version": 3
   },
   "file_extension": ".py",
   "mimetype": "text/x-python",
   "name": "python",
   "nbconvert_exporter": "python",
   "pygments_lexer": "ipython3",
   "version": "3.11.3"
  }
 },
 "nbformat": 4,
 "nbformat_minor": 2
}
