{
 "cells": [
  {
   "cell_type": "markdown",
   "metadata": {},
   "source": [
    "# Notebook: Create Confirmation Subsets"
   ]
  },
  {
   "cell_type": "markdown",
   "metadata": {},
   "source": [
    "## Packages"
   ]
  },
  {
   "cell_type": "code",
   "execution_count": 1,
   "metadata": {},
   "outputs": [],
   "source": [
    "import pandas as pd\n",
    "import json"
   ]
  },
  {
   "cell_type": "markdown",
   "metadata": {},
   "source": [
    "## Settings"
   ]
  },
  {
   "cell_type": "code",
   "execution_count": 2,
   "metadata": {},
   "outputs": [],
   "source": [
    "N_PARTS = 2"
   ]
  },
  {
   "cell_type": "code",
   "execution_count": 3,
   "metadata": {},
   "outputs": [],
   "source": [
    "INPUT_PATH = \"synth_annotations_nils.csv\"\n",
    "OUTPUT_PATH_PREFIX = \"annotation_confirmation/annotation_confirmation_synth\""
   ]
  },
  {
   "cell_type": "markdown",
   "metadata": {},
   "source": [
    "## Code"
   ]
  },
  {
   "cell_type": "code",
   "execution_count": 4,
   "metadata": {},
   "outputs": [],
   "source": [
    "# Zuvor muss ich meine Annotationen hochladen roh, aus label studio als csv\n",
    "df = pd.read_csv(INPUT_PATH)\n",
    "df[\"annotation_confirmation\"] = None"
   ]
  },
  {
   "cell_type": "code",
   "execution_count": 5,
   "metadata": {},
   "outputs": [],
   "source": [
    "def merge_labels_implicit_to_explicit(dataframe):\n",
    "    # Benutzerdefinierte Funktion, um label-implicit zu label-explicit hinzuzufügen und 'type' hinzufügen\n",
    "    def merge_labels(row):\n",
    "        labels_explicit = row[\"label-explicit\"]\n",
    "        labels_implicit = row[\"label-implicit\"]\n",
    "\n",
    "        if isinstance(labels_explicit, str) == False:\n",
    "            labels_explicit = []\n",
    "        else:\n",
    "            labels_explicit = json.loads(labels_explicit)\n",
    "\n",
    "        if isinstance(labels_implicit, str) == False:\n",
    "            labels_implicit = []\n",
    "        else:\n",
    "            labels_implicit = json.loads(labels_implicit)\n",
    "\n",
    "        labels_total = []\n",
    "        for annotation in labels_implicit:\n",
    "            tuple = ('\"'+annotation[\"labels\"][0].rsplit('-', 1)[0]+'\"',\n",
    "                     '\"'+annotation[\"labels\"][0].rsplit('-', 1)[1]+'\"', '\"NULL\"')\n",
    "            labels_total.append(tuple)\n",
    "\n",
    "        for annotation in labels_explicit:\n",
    "            tuple = ('\"'+annotation[\"labels\"][0].rsplit('-', 1)[0]+'\"', '\"' +\n",
    "                     annotation[\"labels\"][0].rsplit('-', 1)[1]+'\"', '\"'+annotation[\"text\"]+'\"')\n",
    "            labels_total.append(tuple)\n",
    "\n",
    "        row[\"annotation\"] = labels_total\n",
    "        row[\"annotation_confirmation\"] = \"\"\n",
    "        return row\n",
    "\n",
    "    dataframe = dataframe.apply(merge_labels, axis=1)\n",
    "\n",
    "    return dataframe"
   ]
  },
  {
   "cell_type": "code",
   "execution_count": 6,
   "metadata": {},
   "outputs": [
    {
     "name": "stdout",
     "output_type": "stream",
     "text": [
      "Part 0 saved to 'annotation_confirmation/annotation_confirmation_synth_0.csv'.\n",
      "Part 1 saved to 'annotation_confirmation/annotation_confirmation_synth_1.csv'.\n"
     ]
    }
   ],
   "source": [
    "total_rows = len(df)\n",
    "rows_per_part = total_rows // N_PARTS\n",
    "\n",
    "for idx in range(N_PARTS):\n",
    "    start_idx = idx * rows_per_part\n",
    "    end_idx = (idx + 1) * rows_per_part if idx < N_PARTS - 1 else total_rows\n",
    "    part_df = df.iloc[start_idx:end_idx]\n",
    "\n",
    "    filename = f\"{OUTPUT_PATH_PREFIX}_{idx}.csv\"\n",
    "\n",
    "    part_df = merge_labels_implicit_to_explicit(part_df)\n",
    "    part_df = part_df[[\"id\", \"annotation_confirmation\", \"annotation\", \"text\"]]\n",
    "\n",
    "    part_df.to_csv(filename, index=False)\n",
    "\n",
    "    print(f\"Part {idx} saved to '{filename}'.\")\n"
   ]
  },
  {
   "cell_type": "code",
   "execution_count": 7,
   "metadata": {},
   "outputs": [
    {
     "data": {
      "text/html": [
       "<div>\n",
       "<style scoped>\n",
       "    .dataframe tbody tr th:only-of-type {\n",
       "        vertical-align: middle;\n",
       "    }\n",
       "\n",
       "    .dataframe tbody tr th {\n",
       "        vertical-align: top;\n",
       "    }\n",
       "\n",
       "    .dataframe thead th {\n",
       "        text-align: right;\n",
       "    }\n",
       "</style>\n",
       "<table border=\"1\" class=\"dataframe\">\n",
       "  <thead>\n",
       "    <tr style=\"text-align: right;\">\n",
       "      <th></th>\n",
       "      <th>id</th>\n",
       "      <th>annotation_confirmation</th>\n",
       "      <th>annotation</th>\n",
       "      <th>text</th>\n",
       "    </tr>\n",
       "  </thead>\n",
       "  <tbody>\n",
       "    <tr>\n",
       "      <th>12</th>\n",
       "      <td>139eabec-943a-4440-a92a-848a32d4a42c</td>\n",
       "      <td></td>\n",
       "      <td>[(\"GENERAL-IMPRESSION-NEGATIVE-no\", \"phrase\", ...</td>\n",
       "      <td>: - es war einfach schlecht.</td>\n",
       "    </tr>\n",
       "    <tr>\n",
       "      <th>13</th>\n",
       "      <td>5343d859-dd5f-4389-a1d8-d204eaa5c16a</td>\n",
       "      <td></td>\n",
       "      <td>[(\"PRICE\", \"NEGATIVE\", \"Rechnung\")]</td>\n",
       "      <td>Die Rechnung war nicht unbedingt billig, aber ...</td>\n",
       "    </tr>\n",
       "    <tr>\n",
       "      <th>14</th>\n",
       "      <td>aff88518-8c00-435d-bc0f-38503d14d551</td>\n",
       "      <td></td>\n",
       "      <td>[(\"SERVICE\", \"POSITIVE\", \"Mitarbeiter\")]</td>\n",
       "      <td>&gt; Mitarbeiter freundlich und hilfsbereit.</td>\n",
       "    </tr>\n",
       "    <tr>\n",
       "      <th>15</th>\n",
       "      <td>cfae65f5-8d8f-40c8-94eb-a13e238d87c1</td>\n",
       "      <td></td>\n",
       "      <td>[]</td>\n",
       "      <td>``Gib mir ein Hähnchen, ich bin hungrig`` - na...</td>\n",
       "    </tr>\n",
       "    <tr>\n",
       "      <th>16</th>\n",
       "      <td>95c2cd44-a246-4a74-9c0c-f4d4a3407173</td>\n",
       "      <td></td>\n",
       "      <td>[(\"AMBIENCE\", \"POSITIVE\", \"Ambiente\"), (\"FOOD\"...</td>\n",
       "      <td>Die Fisch war nicht gut zubereitet, aber das A...</td>\n",
       "    </tr>\n",
       "    <tr>\n",
       "      <th>17</th>\n",
       "      <td>66aeb036-23b2-4ba7-b81b-e4cab8fe4110</td>\n",
       "      <td></td>\n",
       "      <td>[(\"AMBIENCE\", \"POSITIVE\", \"Ambiente\")]</td>\n",
       "      <td>Ein Restaurant mit einem sehr schönen Ambiente.</td>\n",
       "    </tr>\n",
       "    <tr>\n",
       "      <th>18</th>\n",
       "      <td>9f287461-6bfd-4b7c-a1b8-c1d629aaf798</td>\n",
       "      <td></td>\n",
       "      <td>[(\"AMBIENCE\", \"POSITIVE\", \"Atmosphäre\")]</td>\n",
       "      <td>:\"Eine sehr gemütliche Atmosphäre.</td>\n",
       "    </tr>\n",
       "    <tr>\n",
       "      <th>19</th>\n",
       "      <td>2ef8c80d-3e3f-472b-bb0b-ab729b98076e</td>\n",
       "      <td></td>\n",
       "      <td>[(\"AMBIENCE\", \"POSITIVE\", \"Einrichtung\"), (\"PR...</td>\n",
       "      <td>Die Einrichtung war sehr schön, die Preise war...</td>\n",
       "    </tr>\n",
       "    <tr>\n",
       "      <th>20</th>\n",
       "      <td>22f08343-ab92-4219-96db-08fe7e3a6a18</td>\n",
       "      <td></td>\n",
       "      <td>[(\"SERVICE\", \"POSITIVE\", \"Bedienung\")]</td>\n",
       "      <td>Die Bedienung war sehr freundlich.</td>\n",
       "    </tr>\n",
       "    <tr>\n",
       "      <th>21</th>\n",
       "      <td>80f92a54-7eb3-4a56-b5a8-b73e2dd37a5a</td>\n",
       "      <td></td>\n",
       "      <td>[(\"FOOD\", \"NEGATIVE\", \"Tortellini\")]</td>\n",
       "      <td>Die Tortellini schmeckten schlecht.</td>\n",
       "    </tr>\n",
       "    <tr>\n",
       "      <th>22</th>\n",
       "      <td>c31e29d4-0af5-4e59-9f8b-2856c2238a15</td>\n",
       "      <td></td>\n",
       "      <td>[(\"FOOD\", \"POSITIVE\", \"Essen\")]</td>\n",
       "      <td>Das Essen ist gut wie immer.</td>\n",
       "    </tr>\n",
       "    <tr>\n",
       "      <th>23</th>\n",
       "      <td>ba161e63-e06d-453c-ae4d-7c2fd671e9a5</td>\n",
       "      <td></td>\n",
       "      <td>[(\"AMBIENCE\", \"NEGATIVE\", \"Atmosphäre\")]</td>\n",
       "      <td>:( ... man wünscht sich ja eine tolle Atmosphä...</td>\n",
       "    </tr>\n",
       "    <tr>\n",
       "      <th>24</th>\n",
       "      <td>9e6eabfb-659a-4801-8cbe-8e689532d48a</td>\n",
       "      <td></td>\n",
       "      <td>[(\"PRICE\", \"POSITIVE\", \"Preiso/Qualitätsverhäl...</td>\n",
       "      <td>Das Preiso/Qualitätsverhältnis war bei diesem ...</td>\n",
       "    </tr>\n",
       "  </tbody>\n",
       "</table>\n",
       "</div>"
      ],
      "text/plain": [
       "                                      id annotation_confirmation  \\\n",
       "12  139eabec-943a-4440-a92a-848a32d4a42c                           \n",
       "13  5343d859-dd5f-4389-a1d8-d204eaa5c16a                           \n",
       "14  aff88518-8c00-435d-bc0f-38503d14d551                           \n",
       "15  cfae65f5-8d8f-40c8-94eb-a13e238d87c1                           \n",
       "16  95c2cd44-a246-4a74-9c0c-f4d4a3407173                           \n",
       "17  66aeb036-23b2-4ba7-b81b-e4cab8fe4110                           \n",
       "18  9f287461-6bfd-4b7c-a1b8-c1d629aaf798                           \n",
       "19  2ef8c80d-3e3f-472b-bb0b-ab729b98076e                           \n",
       "20  22f08343-ab92-4219-96db-08fe7e3a6a18                           \n",
       "21  80f92a54-7eb3-4a56-b5a8-b73e2dd37a5a                           \n",
       "22  c31e29d4-0af5-4e59-9f8b-2856c2238a15                           \n",
       "23  ba161e63-e06d-453c-ae4d-7c2fd671e9a5                           \n",
       "24  9e6eabfb-659a-4801-8cbe-8e689532d48a                           \n",
       "\n",
       "                                           annotation  \\\n",
       "12  [(\"GENERAL-IMPRESSION-NEGATIVE-no\", \"phrase\", ...   \n",
       "13                [(\"PRICE\", \"NEGATIVE\", \"Rechnung\")]   \n",
       "14           [(\"SERVICE\", \"POSITIVE\", \"Mitarbeiter\")]   \n",
       "15                                                 []   \n",
       "16  [(\"AMBIENCE\", \"POSITIVE\", \"Ambiente\"), (\"FOOD\"...   \n",
       "17             [(\"AMBIENCE\", \"POSITIVE\", \"Ambiente\")]   \n",
       "18           [(\"AMBIENCE\", \"POSITIVE\", \"Atmosphäre\")]   \n",
       "19  [(\"AMBIENCE\", \"POSITIVE\", \"Einrichtung\"), (\"PR...   \n",
       "20             [(\"SERVICE\", \"POSITIVE\", \"Bedienung\")]   \n",
       "21               [(\"FOOD\", \"NEGATIVE\", \"Tortellini\")]   \n",
       "22                    [(\"FOOD\", \"POSITIVE\", \"Essen\")]   \n",
       "23           [(\"AMBIENCE\", \"NEGATIVE\", \"Atmosphäre\")]   \n",
       "24  [(\"PRICE\", \"POSITIVE\", \"Preiso/Qualitätsverhäl...   \n",
       "\n",
       "                                                 text  \n",
       "12                       : - es war einfach schlecht.  \n",
       "13  Die Rechnung war nicht unbedingt billig, aber ...  \n",
       "14          > Mitarbeiter freundlich und hilfsbereit.  \n",
       "15  ``Gib mir ein Hähnchen, ich bin hungrig`` - na...  \n",
       "16  Die Fisch war nicht gut zubereitet, aber das A...  \n",
       "17    Ein Restaurant mit einem sehr schönen Ambiente.  \n",
       "18                 :\"Eine sehr gemütliche Atmosphäre.  \n",
       "19  Die Einrichtung war sehr schön, die Preise war...  \n",
       "20                 Die Bedienung war sehr freundlich.  \n",
       "21                Die Tortellini schmeckten schlecht.  \n",
       "22                       Das Essen ist gut wie immer.  \n",
       "23  :( ... man wünscht sich ja eine tolle Atmosphä...  \n",
       "24  Das Preiso/Qualitätsverhältnis war bei diesem ...  "
      ]
     },
     "execution_count": 7,
     "metadata": {},
     "output_type": "execute_result"
    }
   ],
   "source": [
    "part_df"
   ]
  }
 ],
 "metadata": {
  "kernelspec": {
   "display_name": "tensorflow_m1",
   "language": "python",
   "name": "python3"
  },
  "language_info": {
   "codemirror_mode": {
    "name": "ipython",
    "version": 3
   },
   "file_extension": ".py",
   "mimetype": "text/x-python",
   "name": "python",
   "nbconvert_exporter": "python",
   "pygments_lexer": "ipython3",
   "version": "3.11.3"
  }
 },
 "nbformat": 4,
 "nbformat_minor": 2
}
