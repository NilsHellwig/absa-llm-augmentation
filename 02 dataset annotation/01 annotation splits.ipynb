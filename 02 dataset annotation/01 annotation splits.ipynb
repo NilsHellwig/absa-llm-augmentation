{
 "cells": [
  {
   "cell_type": "markdown",
   "id": "1ae9850c-8ad9-4a79-ba12-442cfe290d77",
   "metadata": {},
   "source": [
    "# Notebook: Create Splits for Annotation\n",
    "\n",
    "This notebook is used to split the dataset collected from Tripadvisor into several parts that can be hand out for annotation."
   ]
  },
  {
   "cell_type": "markdown",
   "id": "df47570d-1cc4-41ab-b62f-0337b34d39a8",
   "metadata": {},
   "source": [
    "## Packages"
   ]
  },
  {
   "cell_type": "code",
   "execution_count": 21,
   "id": "b429a25d-109b-4c3d-a54c-8a184562990e",
   "metadata": {
    "tags": []
   },
   "outputs": [],
   "source": [
    "import pandas as pd\n",
    "import os"
   ]
  },
  {
   "cell_type": "markdown",
   "id": "0b59c964-cce4-456e-ba76-8b8ec1b1a105",
   "metadata": {},
   "source": [
    "## Parameters"
   ]
  },
  {
   "cell_type": "code",
   "execution_count": 22,
   "id": "badebe13-4baf-4507-a963-82c8a920190a",
   "metadata": {
    "tags": []
   },
   "outputs": [],
   "source": [
    "DATASET_PATH = \"../datasets/balanced_reviews_sentences.csv\"\n",
    "SPLIT_SIZE = 300\n",
    "SPLITS_PATH = 'splits_not_annotated/'"
   ]
  },
  {
   "cell_type": "markdown",
   "id": "ebf255bf-eed4-4172-9e2e-8f06fa5e3eaf",
   "metadata": {},
   "source": [
    "## Code"
   ]
  },
  {
   "cell_type": "code",
   "execution_count": 23,
   "id": "f960053a-9e4a-4cbb-bb15-4e37b6987c4e",
   "metadata": {
    "tags": []
   },
   "outputs": [],
   "source": [
    "if not os.path.exists(SPLITS_PATH):\n",
    "    os.makedirs(SPLITS_PATH)"
   ]
  },
  {
   "cell_type": "code",
   "execution_count": 24,
   "id": "7d2d0313-4522-47ad-acef-f326e2e76da9",
   "metadata": {
    "tags": []
   },
   "outputs": [
    {
     "data": {
      "text/plain": [
       "10"
      ]
     },
     "execution_count": 24,
     "metadata": {},
     "output_type": "execute_result"
    }
   ],
   "source": [
    "df = pd.read_csv(DATASET_PATH)\n",
    "total_rows = len(df)\n",
    "num_splits = total_rows // SPLIT_SIZE + (1 if total_rows % SPLIT_SIZE > 0 else 0)\n",
    "num_splits"
   ]
  },
  {
   "cell_type": "code",
   "execution_count": 25,
   "id": "d6ce04d6-c56f-40f5-9778-2217fa831a68",
   "metadata": {
    "tags": []
   },
   "outputs": [
    {
     "name": "stdout",
     "output_type": "stream",
     "text": [
      "Split: 1, Gespeichert: splits_not_annotated/split_1.csv, Größe: 300\n",
      "Split: 2, Gespeichert: splits_not_annotated/split_2.csv, Größe: 300\n",
      "Split: 3, Gespeichert: splits_not_annotated/split_3.csv, Größe: 300\n",
      "Split: 4, Gespeichert: splits_not_annotated/split_4.csv, Größe: 300\n",
      "Split: 5, Gespeichert: splits_not_annotated/split_5.csv, Größe: 300\n",
      "Split: 6, Gespeichert: splits_not_annotated/split_6.csv, Größe: 300\n",
      "Split: 7, Gespeichert: splits_not_annotated/split_7.csv, Größe: 300\n",
      "Split: 8, Gespeichert: splits_not_annotated/split_8.csv, Größe: 300\n",
      "Split: 9, Gespeichert: splits_not_annotated/split_9.csv, Größe: 300\n",
      "Split: 10, Gespeichert: splits_not_annotated/split_10.csv, Größe: 300\n"
     ]
    }
   ],
   "source": [
    "for i in range(num_splits):\n",
    "    start_idx = i * SPLIT_SIZE\n",
    "    end_idx = start_idx + SPLIT_SIZE\n",
    "    split_df = df[start_idx:end_idx]\n",
    "    split_df = split_df[['restaurant_id', 'review_id', 'text']].reset_index(drop=True)\n",
    "    output_filename = os.path.join(SPLITS_PATH, f'split_{i+1}.csv')\n",
    "    split_df.to_csv(output_filename, index=False)\n",
    "    print(f\"Split: {i+1}, Gespeichert: {output_filename}, Größe: {len(split_df)}\")"
   ]
  },
  {
   "cell_type": "code",
   "execution_count": null,
   "id": "7dc172ac-f1c7-4ec1-a5d9-8105cdd6d46e",
   "metadata": {},
   "outputs": [],
   "source": []
  }
 ],
 "metadata": {
  "kernelspec": {
   "display_name": "Python 3 (ipykernel)",
   "language": "python",
   "name": "python3"
  },
  "language_info": {
   "codemirror_mode": {
    "name": "ipython",
    "version": 3
   },
   "file_extension": ".py",
   "mimetype": "text/x-python",
   "name": "python",
   "nbconvert_exporter": "python",
   "pygments_lexer": "ipython3",
   "version": "3.11.3"
  }
 },
 "nbformat": 4,
 "nbformat_minor": 5
}
