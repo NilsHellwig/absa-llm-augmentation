{
 "cells": [
  {
   "cell_type": "markdown",
   "id": "5d8a6118-5bd1-458e-a626-a7a2af545212",
   "metadata": {},
   "source": [
    "# Notebook: Merge/Filter Annotations"
   ]
  },
  {
   "cell_type": "markdown",
   "id": "c12e1616-4687-461d-b4c6-dad35b772cbb",
   "metadata": {
    "tags": []
   },
   "source": [
    "## Packages"
   ]
  },
  {
   "cell_type": "code",
   "execution_count": 68,
   "id": "12edf5b5-c1e8-4551-9a20-990a1793c67a",
   "metadata": {
    "tags": []
   },
   "outputs": [],
   "source": [
    "import pandas as pd\n",
    "import ast\n",
    "import os"
   ]
  },
  {
   "cell_type": "markdown",
   "id": "221cd936-ea0e-4336-9ddd-ea34eb230243",
   "metadata": {
    "tags": []
   },
   "source": [
    "## Parameters"
   ]
  },
  {
   "cell_type": "code",
   "execution_count": 69,
   "id": "1f741bfe-2398-4b5b-b938-ff1b1c37f2d1",
   "metadata": {
    "tags": []
   },
   "outputs": [],
   "source": [
    "PATH_ANNOTATIONS = \"annotations/\""
   ]
  },
  {
   "cell_type": "markdown",
   "id": "690fd452-0b26-42f4-b375-7894d171fb80",
   "metadata": {
    "tags": []
   },
   "source": [
    "## Code"
   ]
  },
  {
   "cell_type": "markdown",
   "id": "b3def6c2-a69a-4803-9f18-87302bd33fb1",
   "metadata": {},
   "source": [
    "### 1. Check if every review got annotated"
   ]
  },
  {
   "cell_type": "code",
   "execution_count": 70,
   "id": "4a1cd06a-7ca1-43e5-97a4-60a548348120",
   "metadata": {
    "tags": []
   },
   "outputs": [
    {
     "name": "stdout",
     "output_type": "stream",
     "text": [
      "nils-constantin.hellwig@stud.uni-regensburg.de: 18 times\n"
     ]
    }
   ],
   "source": [
    "import os\n",
    "import pandas as pd\n",
    "\n",
    "annotator_counts = {}\n",
    "\n",
    "for filename in os.listdir(PATH_ANNOTATIONS):\n",
    "    if filename.endswith('.csv'):\n",
    "        file_path = os.path.join(PATH_ANNOTATIONS, filename)\n",
    "        df = pd.read_csv(file_path)\n",
    "        annotator_column = df['annotator']\n",
    "        \n",
    "        for annotator in annotator_column:\n",
    "            if annotator in annotator_counts:\n",
    "                annotator_counts[annotator] += 1\n",
    "            else:\n",
    "                annotator_counts[annotator] = 1\n",
    "\n",
    "for annotator, count in annotator_counts.items():\n",
    "    print(f'{annotator}: {count} times')"
   ]
  },
  {
   "cell_type": "markdown",
   "id": "3cc78e44-d7cf-4fbe-a864-15bec699e23e",
   "metadata": {},
   "source": [
    "### 2. Merge Annotations"
   ]
  },
  {
   "cell_type": "code",
   "execution_count": 71,
   "id": "4b1d22e3-748f-4ab7-aeee-16544ac16b63",
   "metadata": {},
   "outputs": [],
   "source": [
    "pd.set_option('display.max_colwidth', None)"
   ]
  },
  {
   "cell_type": "code",
   "execution_count": 72,
   "id": "80a3b733-1645-4a2f-a9fd-545553e63afd",
   "metadata": {
    "tags": []
   },
   "outputs": [],
   "source": [
    "def convert_label_string_to_dict(label_str):\n",
    "    try:\n",
    "        return ast.literal_eval(label_str)\n",
    "    except (SyntaxError, ValueError):\n",
    "        return {}\n",
    "    \n",
    "df1 = pd.read_csv(PATH_ANNOTATIONS + \"annotation_1.csv\")\n",
    "df2 = pd.read_csv(PATH_ANNOTATIONS + \"annotation_2.csv\")\n",
    "df1['label_implicit'] = df1['label_implicit'].apply(convert_label_string_to_dict)\n",
    "df2['label_implicit'] = df2['label_implicit'].apply(convert_label_string_to_dict)\n",
    "df1['label_explicit'] = df1['label_explicit'].apply(convert_label_string_to_dict)\n",
    "df2['label_explicit'] = df2['label_explicit'].apply(convert_label_string_to_dict)"
   ]
  },
  {
   "cell_type": "markdown",
   "id": "774e99b6-e311-4ecf-860a-bb048513934e",
   "metadata": {},
   "source": [
    "When looking at the implicit aspects, we can ignore the place in the text that got annotated"
   ]
  },
  {
   "cell_type": "code",
   "execution_count": 73,
   "id": "74b52318-e925-4f71-af03-086ac8b6b3c2",
   "metadata": {},
   "outputs": [],
   "source": [
    "def remove_useless_keys_from_object(obj):\n",
    "    return [{k: v for k, v in item.items() if k not in [\"end\", \"text\", \"start\"]} for item in obj]\n",
    "\n",
    "df1['label_implicit'] = df1['label_implicit'].apply(remove_useless_keys_from_object)\n",
    "df2['label_implicit'] = df2['label_implicit'].apply(remove_useless_keys_from_object)"
   ]
  },
  {
   "cell_type": "code",
   "execution_count": 74,
   "id": "df94ae58-c5be-422c-9e4f-0d5145340564",
   "metadata": {
    "tags": []
   },
   "outputs": [],
   "source": [
    "def find_common_and_count_unique(a1, a2):\n",
    "    common_objects = []\n",
    "    count_unique = 0\n",
    "    for obj1 in a1:\n",
    "        if obj1 in a2:\n",
    "            common_objects.append(obj1)\n",
    "            a2.remove(obj1)\n",
    "        else:\n",
    "            count_unique += 1\n",
    "    \n",
    "    for obj2 in a2:\n",
    "        if obj2 not in common_objects:\n",
    "            count_unique += 1\n",
    "    \n",
    "    return common_objects, count_unique"
   ]
  },
  {
   "cell_type": "code",
   "execution_count": 78,
   "id": "acf71f3c-dff0-4201-951f-45cbf95a2874",
   "metadata": {
    "tags": []
   },
   "outputs": [
    {
     "name": "stdout",
     "output_type": "stream",
     "text": [
      "[{'name': 'max'}, {'name': 'thomas'}, {'name': 'jo'}] [{'name': 'nils'}, {'name': 'alex'}]\n",
      "-- {'name': 'max'}\n",
      "-- {'name': 'thomas'}\n",
      "-- {'name': 'jo'}\n"
     ]
    },
    {
     "data": {
      "text/plain": [
       "([], 5)"
      ]
     },
     "execution_count": 78,
     "metadata": {},
     "output_type": "execute_result"
    }
   ],
   "source": [
    "a1 = [{\"name\": \"max\"}, {\"name\": \"thomas\"}, {\"name\": \"jo\"}]\n",
    "a2= [{\"name\": \"nils\"}, {\"name\": \"alex\"}]\n",
    "\n",
    "find_common_and_count_unique(a1, a2)"
   ]
  },
  {
   "cell_type": "markdown",
   "id": "ac118790-5085-4049-b718-3a9da6edb0c6",
   "metadata": {},
   "source": [
    "Remove duplicate annotations. It might happen that an annotator annotates the same aspect-phrase twice with the same label and polarity."
   ]
  },
  {
   "cell_type": "code",
   "execution_count": 75,
   "id": "1b801c59-a832-485e-92c5-9850d3f26d6b",
   "metadata": {
    "tags": []
   },
   "outputs": [],
   "source": [
    "df1['label_explicit'] = df1['label_explicit'].apply(lambda x: [dict(t) for i, t in enumerate(x) if t not in x[:i]])\n",
    "df2['label_explicit'] = df2['label_explicit'].apply(lambda x: [dict(t) for i, t in enumerate(x) if t not in x[:i]])"
   ]
  },
  {
   "cell_type": "markdown",
   "id": "6c5278d6-2797-4c39-a029-c55debe53658",
   "metadata": {},
   "source": [
    "df2duplikate entfernen -> evtl kommt das mal vor"
   ]
  },
  {
   "cell_type": "code",
   "execution_count": 76,
   "id": "0165832f-6537-488b-879a-2bad9fa1cd75",
   "metadata": {
    "tags": []
   },
   "outputs": [
    {
     "name": "stdout",
     "output_type": "stream",
     "text": [
      "[] []\n",
      "[] []\n",
      "[] []\n",
      "[{'labels': ['AMBIENT-INTERIOR-NEGATIVE-no-phrase']}, {'labels': ['AMBIENT-INTERIOR-NEGATIVE-no-phrase']}] [{'labels': ['AMBIENT-INTERIOR-NEGATIVE-no-phrase']}]\n",
      "-- {'labels': ['AMBIENT-INTERIOR-NEGATIVE-no-phrase']}\n",
      "[] []\n",
      "[] []\n",
      "[] []\n",
      "[] []\n",
      "[] []\n"
     ]
    },
    {
     "data": {
      "text/html": [
       "<div>\n",
       "<style scoped>\n",
       "    .dataframe tbody tr th:only-of-type {\n",
       "        vertical-align: middle;\n",
       "    }\n",
       "\n",
       "    .dataframe tbody tr th {\n",
       "        vertical-align: top;\n",
       "    }\n",
       "\n",
       "    .dataframe thead th {\n",
       "        text-align: right;\n",
       "    }\n",
       "</style>\n",
       "<table border=\"1\" class=\"dataframe\">\n",
       "  <thead>\n",
       "    <tr style=\"text-align: right;\">\n",
       "      <th></th>\n",
       "      <th>label_explicit</th>\n",
       "      <th>label_implicit</th>\n",
       "      <th>unique_implicit_count</th>\n",
       "      <th>id</th>\n",
       "      <th>restaurant_id</th>\n",
       "      <th>review_id</th>\n",
       "      <th>text</th>\n",
       "    </tr>\n",
       "  </thead>\n",
       "  <tbody>\n",
       "    <tr>\n",
       "      <th>0</th>\n",
       "      <td>[{'end': 15, 'text': 'Wartezeit', 'start': 6, 'labels': ['SERVICE-NEGATIVE']}, {'end': 47, 'text': 'Restaurant', 'start': 37, 'labels': ['AMBIENT-INTERIOR-NEGATIVE']}]</td>\n",
       "      <td>[]</td>\n",
       "      <td>0</td>\n",
       "      <td>68133812</td>\n",
       "      <td>1870837</td>\n",
       "      <td>870392222</td>\n",
       "      <td>Lange Wartezeit auf einen Tisch, das Restaurant war sehr voll und somit auch sehr laut.</td>\n",
       "    </tr>\n",
       "    <tr>\n",
       "      <th>1</th>\n",
       "      <td>[{'end': 45, 'text': 'Kartoffeln', 'start': 35, 'labels': ['FOOD-POSITIVE']}, {'end': 59, 'text': 'Salat', 'start': 54, 'labels': ['FOOD-POSITIVE']}]</td>\n",
       "      <td>[]</td>\n",
       "      <td>0</td>\n",
       "      <td>68133813</td>\n",
       "      <td>1308296</td>\n",
       "      <td>887012563</td>\n",
       "      <td>Die Steaks waren sehr gut auch die Kartoffeln und der Salat.</td>\n",
       "    </tr>\n",
       "    <tr>\n",
       "      <th>2</th>\n",
       "      <td>[{'end': 7, 'text': 'Fritten', 'start': 0, 'labels': ['FOOD-POSITIVE']}, {'end': 54, 'text': 'Portion', 'start': 47, 'labels': ['FOOD-POSITIVE']}]</td>\n",
       "      <td>[]</td>\n",
       "      <td>0</td>\n",
       "      <td>68133814</td>\n",
       "      <td>10685715</td>\n",
       "      <td>849351269</td>\n",
       "      <td>Fritten waren gut und wir haben uns eine große Portion mit 3 Personen geteilt.</td>\n",
       "    </tr>\n",
       "    <tr>\n",
       "      <th>3</th>\n",
       "      <td>[{'end': 25, 'text': 'Toiletten', 'start': 16, 'labels': ['AMBIENT-INTERIOR-NEGATIVE']}]</td>\n",
       "      <td>[{'labels': ['AMBIENT-INTERIOR-NEGATIVE-no-phrase']}]</td>\n",
       "      <td>1</td>\n",
       "      <td>68133815</td>\n",
       "      <td>11895711</td>\n",
       "      <td>881137672</td>\n",
       "      <td>Leider sind die Toiletten eine Etage höher und wohl für Behinderte schwer zu erreichen, aber sauber und ordentlich.</td>\n",
       "    </tr>\n",
       "    <tr>\n",
       "      <th>4</th>\n",
       "      <td>[{'end': 12, 'text': 'Essen', 'start': 7, 'labels': ['FOOD-POSITIVE']}]</td>\n",
       "      <td>[]</td>\n",
       "      <td>0</td>\n",
       "      <td>68133816</td>\n",
       "      <td>5967363</td>\n",
       "      <td>871925315</td>\n",
       "      <td>Tolles Essen!</td>\n",
       "    </tr>\n",
       "    <tr>\n",
       "      <th>5</th>\n",
       "      <td>[]</td>\n",
       "      <td>[]</td>\n",
       "      <td>0</td>\n",
       "      <td>68133817</td>\n",
       "      <td>10130718</td>\n",
       "      <td>882916333</td>\n",
       "      <td>Die Hälfte habe ich übrig gelassen!</td>\n",
       "    </tr>\n",
       "    <tr>\n",
       "      <th>6</th>\n",
       "      <td>[{'end': 21, 'text': 'Pizza', 'start': 16, 'labels': ['FOOD-NEUTRAL']}, {'end': 76, 'text': 'Gewürze', 'start': 69, 'labels': ['FOOD-NEGATIVE']}]</td>\n",
       "      <td>[]</td>\n",
       "      <td>0</td>\n",
       "      <td>68133818</td>\n",
       "      <td>801344</td>\n",
       "      <td>885335081</td>\n",
       "      <td>Wir hatten eine Pizza bestellt die vom Belag ok war , jedoch fehlten Gewürze.</td>\n",
       "    </tr>\n",
       "    <tr>\n",
       "      <th>7</th>\n",
       "      <td>[{'end': 9, 'text': 'Tisch', 'start': 4, 'labels': ['AMBIENT-INTERIOR-NEGATIVE']}]</td>\n",
       "      <td>[]</td>\n",
       "      <td>0</td>\n",
       "      <td>68133819</td>\n",
       "      <td>6949511</td>\n",
       "      <td>875208633</td>\n",
       "      <td>Der Tisch, der uns dann, wiederum mit einem Fingerzeig (wir hatten eine Reservierung) angeboten wurde, war eine Frechheit.</td>\n",
       "    </tr>\n",
       "    <tr>\n",
       "      <th>8</th>\n",
       "      <td>[{'end': 104, 'text': 'Kasse', 'start': 99, 'labels': ['AMBIENT-INTERIOR-NEGATIVE']}]</td>\n",
       "      <td>[]</td>\n",
       "      <td>0</td>\n",
       "      <td>68133820</td>\n",
       "      <td>6914832</td>\n",
       "      <td>861065137</td>\n",
       "      <td>Das Preis-Leistungs-Verhältnis stimmt nicht mehr finden wir.Am ärgerlichsten war, dass sich an der Kasse beim Gehen eine Schlange bildete, weil wohl kein Angestellter kassieren wollte/konnte.</td>\n",
       "    </tr>\n",
       "  </tbody>\n",
       "</table>\n",
       "</div>"
      ],
      "text/plain": [
       "                                                                                                                                                            label_explicit  \\\n",
       "0  [{'end': 15, 'text': 'Wartezeit', 'start': 6, 'labels': ['SERVICE-NEGATIVE']}, {'end': 47, 'text': 'Restaurant', 'start': 37, 'labels': ['AMBIENT-INTERIOR-NEGATIVE']}]   \n",
       "1                    [{'end': 45, 'text': 'Kartoffeln', 'start': 35, 'labels': ['FOOD-POSITIVE']}, {'end': 59, 'text': 'Salat', 'start': 54, 'labels': ['FOOD-POSITIVE']}]   \n",
       "2                       [{'end': 7, 'text': 'Fritten', 'start': 0, 'labels': ['FOOD-POSITIVE']}, {'end': 54, 'text': 'Portion', 'start': 47, 'labels': ['FOOD-POSITIVE']}]   \n",
       "3                                                                                 [{'end': 25, 'text': 'Toiletten', 'start': 16, 'labels': ['AMBIENT-INTERIOR-NEGATIVE']}]   \n",
       "4                                                                                                  [{'end': 12, 'text': 'Essen', 'start': 7, 'labels': ['FOOD-POSITIVE']}]   \n",
       "5                                                                                                                                                                       []   \n",
       "6                        [{'end': 21, 'text': 'Pizza', 'start': 16, 'labels': ['FOOD-NEUTRAL']}, {'end': 76, 'text': 'Gewürze', 'start': 69, 'labels': ['FOOD-NEGATIVE']}]   \n",
       "7                                                                                       [{'end': 9, 'text': 'Tisch', 'start': 4, 'labels': ['AMBIENT-INTERIOR-NEGATIVE']}]   \n",
       "8                                                                                    [{'end': 104, 'text': 'Kasse', 'start': 99, 'labels': ['AMBIENT-INTERIOR-NEGATIVE']}]   \n",
       "\n",
       "                                          label_implicit  \\\n",
       "0                                                     []   \n",
       "1                                                     []   \n",
       "2                                                     []   \n",
       "3  [{'labels': ['AMBIENT-INTERIOR-NEGATIVE-no-phrase']}]   \n",
       "4                                                     []   \n",
       "5                                                     []   \n",
       "6                                                     []   \n",
       "7                                                     []   \n",
       "8                                                     []   \n",
       "\n",
       "   unique_implicit_count        id  restaurant_id  review_id  \\\n",
       "0                      0  68133812        1870837  870392222   \n",
       "1                      0  68133813        1308296  887012563   \n",
       "2                      0  68133814       10685715  849351269   \n",
       "3                      1  68133815       11895711  881137672   \n",
       "4                      0  68133816        5967363  871925315   \n",
       "5                      0  68133817       10130718  882916333   \n",
       "6                      0  68133818         801344  885335081   \n",
       "7                      0  68133819        6949511  875208633   \n",
       "8                      0  68133820        6914832  861065137   \n",
       "\n",
       "                                                                                                                                                                                              text  \n",
       "0                                                                                                          Lange Wartezeit auf einen Tisch, das Restaurant war sehr voll und somit auch sehr laut.  \n",
       "1                                                                                                                                     Die Steaks waren sehr gut auch die Kartoffeln und der Salat.  \n",
       "2                                                                                                                   Fritten waren gut und wir haben uns eine große Portion mit 3 Personen geteilt.  \n",
       "3                                                                              Leider sind die Toiletten eine Etage höher und wohl für Behinderte schwer zu erreichen, aber sauber und ordentlich.  \n",
       "4                                                                                                                                                                                    Tolles Essen!  \n",
       "5                                                                                                                                                              Die Hälfte habe ich übrig gelassen!  \n",
       "6                                                                                                                    Wir hatten eine Pizza bestellt die vom Belag ok war , jedoch fehlten Gewürze.  \n",
       "7                                                                       Der Tisch, der uns dann, wiederum mit einem Fingerzeig (wir hatten eine Reservierung) angeboten wurde, war eine Frechheit.  \n",
       "8  Das Preis-Leistungs-Verhältnis stimmt nicht mehr finden wir.Am ärgerlichsten war, dass sich an der Kasse beim Gehen eine Schlange bildete, weil wohl kein Angestellter kassieren wollte/konnte.  "
      ]
     },
     "execution_count": 76,
     "metadata": {},
     "output_type": "execute_result"
    }
   ],
   "source": [
    "annoated_dataset_total = pd.DataFrame([])\n",
    "\n",
    "for idx in range(len(df1)):\n",
    "    equal_explicit_annotation = []\n",
    "    for item1 in df1['label_explicit'].iloc[idx]:\n",
    "        for item2 in df2['label_explicit'].iloc[idx]:\n",
    "            if item1 == item2:\n",
    "                equal_explicit_annotation.append(item1)\n",
    "\n",
    "    equal_implicit_annotation = find_common_and_count_unique(df1['label_implicit'].iloc[idx], df2['label_implicit'].iloc[idx])\n",
    "                \n",
    "    annoated_dataset_total = pd.concat([annoated_dataset_total, pd.DataFrame({\n",
    "        'label_explicit': [str(equal_explicit_annotation)],\n",
    "        'label_implicit': [str(equal_implicit_annotation[0])],\n",
    "        'unique_implicit_count': equal_implicit_annotation[1],\n",
    "        'id': df1['id'].iloc[idx],\n",
    "        'restaurant_id': df1['restaurant_id'].iloc[idx],\n",
    "        'review_id': df1['review_id'].iloc[idx],\n",
    "        'text': df1['text'].iloc[idx],\n",
    "    })], ignore_index=True)\n",
    "\n",
    "annoated_dataset_total"
   ]
  },
  {
   "cell_type": "markdown",
   "id": "d9f06c1e-6176-4f79-ba91-1b37cbd5dae5",
   "metadata": {},
   "source": [
    "### To-do: Filter annotations with mixed label "
   ]
  },
  {
   "cell_type": "code",
   "execution_count": null,
   "id": "f86fb0e5-43d5-40c4-8380-43ab27809109",
   "metadata": {},
   "outputs": [],
   "source": []
  },
  {
   "cell_type": "markdown",
   "id": "a1c14024-69a4-41ce-883b-3dd871159736",
   "metadata": {},
   "source": [
    "### To-do: Filter annotations with no label"
   ]
  },
  {
   "cell_type": "code",
   "execution_count": null,
   "id": "fa6c978a-9463-4e45-8467-e0ee7a2b5b0b",
   "metadata": {},
   "outputs": [],
   "source": []
  },
  {
   "cell_type": "markdown",
   "id": "c2220fda-a972-410f-a2ad-6302703e1163",
   "metadata": {},
   "source": [
    "### To-do: Dataframe"
   ]
  },
  {
   "cell_type": "code",
   "execution_count": 77,
   "id": "ea513971-a5fe-428a-bd47-2f2dcf4cf6f6",
   "metadata": {
    "tags": []
   },
   "outputs": [],
   "source": [
    "annoated_dataset_total.to_csv(\"annoated_dataset_total.csv\")"
   ]
  },
  {
   "cell_type": "code",
   "execution_count": null,
   "id": "5278ea0a-6dfb-45d1-96b0-6d743c2e2913",
   "metadata": {},
   "outputs": [],
   "source": []
  }
 ],
 "metadata": {
  "kernelspec": {
   "display_name": "Python 3 (ipykernel)",
   "language": "python",
   "name": "python3"
  },
  "language_info": {
   "codemirror_mode": {
    "name": "ipython",
    "version": 3
   },
   "file_extension": ".py",
   "mimetype": "text/x-python",
   "name": "python",
   "nbconvert_exporter": "python",
   "pygments_lexer": "ipython3",
   "version": "3.11.3"
  }
 },
 "nbformat": 4,
 "nbformat_minor": 5
}
