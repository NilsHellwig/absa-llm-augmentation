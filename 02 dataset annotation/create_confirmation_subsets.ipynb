{
 "cells": [
  {
   "cell_type": "markdown",
   "metadata": {},
   "source": [
    "# Notebook: Create Confirmation Subsets"
   ]
  },
  {
   "cell_type": "markdown",
   "metadata": {},
   "source": [
    "## Packages"
   ]
  },
  {
   "cell_type": "code",
   "execution_count": 288,
   "metadata": {},
   "outputs": [],
   "source": [
    "import pandas as pd\n",
    "import json"
   ]
  },
  {
   "cell_type": "markdown",
   "metadata": {},
   "source": [
    "## Settings"
   ]
  },
  {
   "cell_type": "code",
   "execution_count": 289,
   "metadata": {},
   "outputs": [],
   "source": [
    "N_PARTS = 3"
   ]
  },
  {
   "cell_type": "markdown",
   "metadata": {},
   "source": [
    "## Code"
   ]
  },
  {
   "cell_type": "code",
   "execution_count": 290,
   "metadata": {},
   "outputs": [],
   "source": [
    "df = pd.read_csv(\"annotations_nils.csv\")\n",
    "df[\"annotation_confirmation\"] = None"
   ]
  },
  {
   "cell_type": "code",
   "execution_count": 291,
   "metadata": {},
   "outputs": [],
   "source": [
    "def merge_labels_implicit_to_explicit(dataframe):\n",
    "    # Benutzerdefinierte Funktion, um label-implicit zu label-explicit hinzuzufügen und 'type' hinzufügen\n",
    "    def merge_labels(row):\n",
    "        labels_explicit = row[\"label-explicit\"]\n",
    "        labels_implicit = row[\"label-implicit\"]\n",
    "\n",
    "        if isinstance(labels_explicit, str) == False:\n",
    "            labels_explicit = []\n",
    "        else:\n",
    "            labels_explicit = json.loads(labels_explicit)\n",
    "\n",
    "        if isinstance(labels_implicit, str) == False:\n",
    "            labels_implicit = []\n",
    "        else:\n",
    "            labels_implicit = json.loads(labels_implicit)\n",
    "\n",
    "        labels_total = []\n",
    "        for annotation in labels_implicit:\n",
    "            tuple = [annotation[\"text\"], annotation[\"labels\"], \"implicit\"]\n",
    "            labels_total.append(tuple)\n",
    "\n",
    "        for annotation in labels_explicit:\n",
    "            tuple = [annotation[\"text\"], annotation[\"labels\"], \"explicit\", \"start: \"+str(annotation[\"start\"]), \"end: \"+str(annotation[\"end\"])]\n",
    "            labels_total.append(tuple)\n",
    "\n",
    "\n",
    "        row[\"annotation\"] = labels_total\n",
    "        row[\"annotation_confirmation\"] = \"\"\n",
    "        return row\n",
    "\n",
    "    dataframe = dataframe.apply(merge_labels, axis=1)\n",
    "\n",
    "    return dataframe\n"
   ]
  },
  {
   "cell_type": "code",
   "execution_count": 292,
   "metadata": {},
   "outputs": [
    {
     "name": "stdout",
     "output_type": "stream",
     "text": [
      "Part 0 saved to 'annotation_confirmation/annotation_confirmation_0.csv'.\n",
      "Part 1 saved to 'annotation_confirmation/annotation_confirmation_1.csv'.\n",
      "Part 2 saved to 'annotation_confirmation/annotation_confirmation_2.csv'.\n"
     ]
    }
   ],
   "source": [
    "total_rows = len(df)\n",
    "rows_per_part = total_rows // N_PARTS\n",
    "\n",
    "for idx in range(N_PARTS):\n",
    "    start_idx = idx * rows_per_part\n",
    "    end_idx = (idx + 1) * rows_per_part if idx < N_PARTS - 1 else total_rows\n",
    "    part_df = df.iloc[start_idx:end_idx]\n",
    "\n",
    "    filename = f\"annotation_confirmation/annotation_confirmation_{idx}.csv\"\n",
    "\n",
    "    part_df = merge_labels_implicit_to_explicit(part_df)\n",
    "    part_df = part_df[[\"id\", \"annotation_confirmation\", \"annotation\", \"text\"]]\n",
    "\n",
    "    part_df.to_csv(filename, index=False)\n",
    "\n",
    "    print(f\"Part {idx} saved to '{filename}'.\")\n"
   ]
  },
  {
   "cell_type": "code",
   "execution_count": 293,
   "metadata": {},
   "outputs": [
    {
     "data": {
      "text/html": [
       "<div>\n",
       "<style scoped>\n",
       "    .dataframe tbody tr th:only-of-type {\n",
       "        vertical-align: middle;\n",
       "    }\n",
       "\n",
       "    .dataframe tbody tr th {\n",
       "        vertical-align: top;\n",
       "    }\n",
       "\n",
       "    .dataframe thead th {\n",
       "        text-align: right;\n",
       "    }\n",
       "</style>\n",
       "<table border=\"1\" class=\"dataframe\">\n",
       "  <thead>\n",
       "    <tr style=\"text-align: right;\">\n",
       "      <th></th>\n",
       "      <th>label-explicit</th>\n",
       "    </tr>\n",
       "  </thead>\n",
       "  <tbody>\n",
       "    <tr>\n",
       "      <th>0</th>\n",
       "      <td>[{\"end\":42,\"text\":\"Service\",\"start\":35,\"labels...</td>\n",
       "    </tr>\n",
       "    <tr>\n",
       "      <th>1</th>\n",
       "      <td>[{\"end\":86,\"text\":\"Kellner\",\"start\":79,\"labels...</td>\n",
       "    </tr>\n",
       "    <tr>\n",
       "      <th>2</th>\n",
       "      <td>[{\"end\":25,\"text\":\"Personal\",\"start\":17,\"label...</td>\n",
       "    </tr>\n",
       "    <tr>\n",
       "      <th>3</th>\n",
       "      <td>NaN</td>\n",
       "    </tr>\n",
       "    <tr>\n",
       "      <th>4</th>\n",
       "      <td>[{\"end\":31,\"text\":\"Kuchen\",\"start\":25,\"labels\"...</td>\n",
       "    </tr>\n",
       "    <tr>\n",
       "      <th>5</th>\n",
       "      <td>NaN</td>\n",
       "    </tr>\n",
       "    <tr>\n",
       "      <th>6</th>\n",
       "      <td>NaN</td>\n",
       "    </tr>\n",
       "    <tr>\n",
       "      <th>7</th>\n",
       "      <td>NaN</td>\n",
       "    </tr>\n",
       "    <tr>\n",
       "      <th>8</th>\n",
       "      <td>NaN</td>\n",
       "    </tr>\n",
       "    <tr>\n",
       "      <th>9</th>\n",
       "      <td>NaN</td>\n",
       "    </tr>\n",
       "  </tbody>\n",
       "</table>\n",
       "</div>"
      ],
      "text/plain": [
       "                                      label-explicit\n",
       "0  [{\"end\":42,\"text\":\"Service\",\"start\":35,\"labels...\n",
       "1  [{\"end\":86,\"text\":\"Kellner\",\"start\":79,\"labels...\n",
       "2  [{\"end\":25,\"text\":\"Personal\",\"start\":17,\"label...\n",
       "3                                                NaN\n",
       "4  [{\"end\":31,\"text\":\"Kuchen\",\"start\":25,\"labels\"...\n",
       "5                                                NaN\n",
       "6                                                NaN\n",
       "7                                                NaN\n",
       "8                                                NaN\n",
       "9                                                NaN"
      ]
     },
     "execution_count": 293,
     "metadata": {},
     "output_type": "execute_result"
    }
   ],
   "source": [
    "df[0:10][[\"label-explicit\"]]"
   ]
  },
  {
   "cell_type": "code",
   "execution_count": 294,
   "metadata": {},
   "outputs": [],
   "source": [
    "# Settings > Annotations > Show the Data Manager to annotators"
   ]
  }
 ],
 "metadata": {
  "kernelspec": {
   "display_name": "tensorflow_m1",
   "language": "python",
   "name": "python3"
  },
  "language_info": {
   "codemirror_mode": {
    "name": "ipython",
    "version": 3
   },
   "file_extension": ".py",
   "mimetype": "text/x-python",
   "name": "python",
   "nbconvert_exporter": "python",
   "pygments_lexer": "ipython3",
   "version": "3.11.3"
  }
 },
 "nbformat": 4,
 "nbformat_minor": 2
}
