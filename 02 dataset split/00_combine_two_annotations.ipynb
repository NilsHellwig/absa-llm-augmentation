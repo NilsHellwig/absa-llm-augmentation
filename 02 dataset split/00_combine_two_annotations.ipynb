{
 "cells": [
  {
   "cell_type": "code",
   "execution_count": 1,
   "metadata": {},
   "outputs": [],
   "source": [
    "import json\n",
    "\n",
    "annoation_4000 = \"dataset_total/raw_annotations_4000.json\"\n",
    "annoation_1000 = \"dataset_total/raw_annotations_1000.json\"\n",
    "output_file_path = \"dataset_total/raw_annotations.json\"\n",
    "\n",
    "\n",
    "def load_json(file_path):\n",
    "    with open(file_path, \"r\", encoding=\"utf-8\") as file:\n",
    "        data = json.load(file)\n",
    "    return data\n",
    "\n",
    "def save_json(data, file_path):\n",
    "    with open(file_path, \"w\", encoding=\"utf-8\") as file:\n",
    "        json.dump(data, file, indent=2)\n",
    "\n",
    "json_data_1 = load_json(annoation_4000)\n",
    "json_data_2 = load_json(annoation_1000)\n",
    "\n",
    "\n",
    "combined_data = json_data_1 + json_data_2\n",
    "save_json(combined_data, output_file_path)"
   ]
  }
 ],
 "metadata": {
  "kernelspec": {
   "display_name": "tensorflow_m1",
   "language": "python",
   "name": "python3"
  },
  "language_info": {
   "codemirror_mode": {
    "name": "ipython",
    "version": 3
   },
   "file_extension": ".py",
   "mimetype": "text/x-python",
   "name": "python",
   "nbconvert_exporter": "python",
   "pygments_lexer": "ipython3",
   "version": "3.11.3"
  }
 },
 "nbformat": 4,
 "nbformat_minor": 2
}
