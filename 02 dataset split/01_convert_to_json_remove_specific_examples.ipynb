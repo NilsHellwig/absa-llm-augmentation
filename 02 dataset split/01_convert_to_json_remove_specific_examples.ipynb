{
 "cells": [
  {
   "cell_type": "markdown",
   "id": "13644518-4e5a-48c9-a01b-d0f66a271d11",
   "metadata": {},
   "source": [
    "# Notebook: Convert Annotation from LabelStudio to .json"
   ]
  },
  {
   "cell_type": "markdown",
   "id": "a7194b09-9ce1-4d21-85ab-b266335a1759",
   "metadata": {},
   "source": [
    "## Packages"
   ]
  },
  {
   "cell_type": "code",
   "execution_count": 1,
   "id": "347b92cd-fecf-4ccc-896f-24f5766a4e10",
   "metadata": {
    "tags": []
   },
   "outputs": [],
   "source": [
    "from format_labelstudio_json import format_json\n",
    "import json"
   ]
  },
  {
   "cell_type": "markdown",
   "id": "7d8e533c-5baa-4148-aff4-a1645f799e47",
   "metadata": {},
   "source": [
    "## Parameters"
   ]
  },
  {
   "cell_type": "code",
   "execution_count": 2,
   "id": "0e622763-e4e2-4e8f-bcee-2b0ad24a6216",
   "metadata": {
    "tags": []
   },
   "outputs": [],
   "source": [
    "ANNOTATIONS_PATH = \"dataset_total/raw_annotations.json\""
   ]
  },
  {
   "cell_type": "markdown",
   "id": "7fe8ee5c-9c58-423d-b356-9b15032bcece",
   "metadata": {},
   "source": [
    "## Code"
   ]
  },
  {
   "cell_type": "markdown",
   "id": "b592ff11-67c5-42c9-9d24-7319c3956701",
   "metadata": {
    "tags": []
   },
   "source": [
    "### Convert to json"
   ]
  },
  {
   "cell_type": "code",
   "execution_count": 3,
   "id": "0a7a0aca-7a1c-45aa-aad1-a3dc8eee8c6d",
   "metadata": {
    "tags": []
   },
   "outputs": [],
   "source": [
    "with open(ANNOTATIONS_PATH, 'r', encoding='utf-8') as json_datei:\n",
    "    data = json.load(json_datei)"
   ]
  },
  {
   "cell_type": "code",
   "execution_count": 4,
   "id": "a948883d-f4e4-4ef1-970c-2dd34b846604",
   "metadata": {
    "tags": []
   },
   "outputs": [],
   "source": [
    "formatted_json = format_json(data)"
   ]
  },
  {
   "cell_type": "code",
   "execution_count": 5,
   "id": "f5d6517b",
   "metadata": {},
   "outputs": [
    {
     "data": {
      "text/plain": [
       "5000"
      ]
     },
     "execution_count": 5,
     "metadata": {},
     "output_type": "execute_result"
    }
   ],
   "source": [
    "len(formatted_json)"
   ]
  },
  {
   "cell_type": "markdown",
   "id": "e87a1c21-a340-4f68-8ac5-e917de24800e",
   "metadata": {},
   "source": [
    "### Save Raw Annotations"
   ]
  },
  {
   "cell_type": "code",
   "execution_count": 6,
   "id": "d7e66d99-235b-4915-ac48-e42576cf0373",
   "metadata": {},
   "outputs": [],
   "source": [
    "with open('dataset_total/raw_dataset.json', 'w', encoding='utf-8') as json_file:\n",
    "    json.dump(formatted_json, json_file, ensure_ascii=False)"
   ]
  },
  {
   "cell_type": "markdown",
   "id": "12f650c5-a91d-4a2d-981d-12bd5591df52",
   "metadata": {},
   "source": [
    "### Remove Samples with #Sentences > 2"
   ]
  },
  {
   "cell_type": "code",
   "execution_count": 7,
   "id": "82d160be-2f19-4872-9aa5-4d10d7e70a26",
   "metadata": {
    "tags": []
   },
   "outputs": [
    {
     "data": {
      "text/plain": [
       "589"
      ]
     },
     "execution_count": 7,
     "metadata": {},
     "output_type": "execute_result"
    }
   ],
   "source": [
    "entries_with_two_or_more_sentences = [entry for entry in formatted_json if entry['two_or_more_sentences']]\n",
    "len(entries_with_two_or_more_sentences)"
   ]
  },
  {
   "cell_type": "code",
   "execution_count": 8,
   "id": "57558c81-7a3f-4daf-a8a9-0f89df0a03a6",
   "metadata": {
    "tags": []
   },
   "outputs": [
    {
     "data": {
      "text/plain": [
       "4411"
      ]
     },
     "execution_count": 8,
     "metadata": {},
     "output_type": "execute_result"
    }
   ],
   "source": [
    "formatted_json = [entry for entry in formatted_json if not entry['two_or_more_sentences']]\n",
    "len(formatted_json)"
   ]
  },
  {
   "cell_type": "markdown",
   "id": "40d00282-8c50-4975-b933-9a5fc28e7023",
   "metadata": {},
   "source": [
    "### Remove Samples without Aspects"
   ]
  },
  {
   "cell_type": "code",
   "execution_count": 9,
   "id": "6cf7c3f9-f0fd-4ae6-b457-71bf4e86288f",
   "metadata": {
    "tags": []
   },
   "outputs": [
    {
     "data": {
      "text/plain": [
       "(1291, 'von', 4411)"
      ]
     },
     "execution_count": 9,
     "metadata": {},
     "output_type": "execute_result"
    }
   ],
   "source": [
    "entries_with_empty_tags = [entry for entry in formatted_json if not entry['tags']]\n",
    "len(entries_with_empty_tags), \"von\", len(formatted_json)"
   ]
  },
  {
   "cell_type": "code",
   "execution_count": 10,
   "id": "fdba32dd-7e32-4f2b-9d6e-e988e69322b4",
   "metadata": {
    "tags": []
   },
   "outputs": [
    {
     "data": {
      "text/plain": [
       "3120"
      ]
     },
     "execution_count": 10,
     "metadata": {},
     "output_type": "execute_result"
    }
   ],
   "source": [
    "formatted_json = [entry for entry in formatted_json if entry['tags']]\n",
    "len(formatted_json)"
   ]
  },
  {
   "cell_type": "markdown",
   "id": "cd1bbc86-b036-45cc-9043-73c02002785d",
   "metadata": {},
   "source": [
    "### Remove Samples with Conflict"
   ]
  },
  {
   "cell_type": "code",
   "execution_count": 11,
   "id": "88fb7434-0998-4de7-994f-21188cf04b47",
   "metadata": {
    "tags": []
   },
   "outputs": [
    {
     "data": {
      "text/plain": [
       "42"
      ]
     },
     "execution_count": 11,
     "metadata": {},
     "output_type": "execute_result"
    }
   ],
   "source": [
    "entries_with_polarity_conflict = [entry for entry in formatted_json if any(tag.get('polarity') == 'CONFLICT' for tag in entry['tags'])]\n",
    "\n",
    "len(entries_with_polarity_conflict)"
   ]
  },
  {
   "cell_type": "code",
   "execution_count": 12,
   "id": "ae7d71a5-867d-412a-98c8-f3523b074699",
   "metadata": {
    "tags": []
   },
   "outputs": [
    {
     "data": {
      "text/plain": [
       "3078"
      ]
     },
     "execution_count": 12,
     "metadata": {},
     "output_type": "execute_result"
    }
   ],
   "source": [
    "formatted_json = [entry for entry in formatted_json if not any(tag.get('polarity') == 'CONFLICT' for tag in entry['tags'])]\n",
    "len(formatted_json)"
   ]
  },
  {
   "cell_type": "code",
   "execution_count": 13,
   "metadata": {},
   "outputs": [],
   "source": [
    "with open('dataset_total/dataset_filtered.json', 'w', encoding='utf-8') as json_file:\n",
    "    json.dump(formatted_json, json_file, ensure_ascii=False)"
   ]
  },
  {
   "cell_type": "markdown",
   "id": "c13271e9",
   "metadata": {},
   "source": [
    "### Limit to a maximum of 3000 Examples"
   ]
  },
  {
   "cell_type": "code",
   "execution_count": 14,
   "id": "9ea2ab72",
   "metadata": {},
   "outputs": [
    {
     "data": {
      "text/plain": [
       "3000"
      ]
     },
     "execution_count": 14,
     "metadata": {},
     "output_type": "execute_result"
    }
   ],
   "source": [
    "formatted_json = formatted_json[:3000]\n",
    "len(formatted_json)"
   ]
  },
  {
   "cell_type": "markdown",
   "id": "b15889b2-f798-48ff-bb3d-246726f0f331",
   "metadata": {},
   "source": [
    "### Save Formatted Dataset"
   ]
  },
  {
   "cell_type": "code",
   "execution_count": 15,
   "id": "fe383eb9-a5ce-423f-9b65-4e23dacc3ed3",
   "metadata": {
    "tags": []
   },
   "outputs": [],
   "source": [
    "with open('dataset_total/dataset_filtered_3000.json', 'w', encoding='utf-8') as json_file:\n",
    "    json.dump(formatted_json, json_file, ensure_ascii=False)"
   ]
  }
 ],
 "metadata": {
  "kernelspec": {
   "display_name": "Python 3 (ipykernel)",
   "language": "python",
   "name": "python3"
  },
  "language_info": {
   "codemirror_mode": {
    "name": "ipython",
    "version": 3
   },
   "file_extension": ".py",
   "mimetype": "text/x-python",
   "name": "python",
   "nbconvert_exporter": "python",
   "pygments_lexer": "ipython3",
   "version": "3.11.3"
  }
 },
 "nbformat": 4,
 "nbformat_minor": 5
}
