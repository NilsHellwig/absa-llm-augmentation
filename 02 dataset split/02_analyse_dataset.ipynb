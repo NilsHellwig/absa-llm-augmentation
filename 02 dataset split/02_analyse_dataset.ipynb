{
 "cells": [
  {
   "cell_type": "markdown",
   "id": "3bb99927-a103-43f1-83a3-a945c547b342",
   "metadata": {},
   "source": [
    "# Notebook: Analyse Total Dataset"
   ]
  },
  {
   "cell_type": "markdown",
   "id": "4e32d2bd-049d-4bf6-9da7-3ef4bf665fef",
   "metadata": {
    "tags": []
   },
   "source": [
    "## Packages"
   ]
  },
  {
   "cell_type": "code",
   "execution_count": 1,
   "id": "399c6d6b-93d8-43c6-bc92-b4777c79d699",
   "metadata": {},
   "outputs": [
    {
     "name": "stderr",
     "output_type": "stream",
     "text": [
      "[nltk_data] Downloading package punkt to\n",
      "[nltk_data]     /Users/nils_hellwig/nltk_data...\n",
      "[nltk_data]   Package punkt is already up-to-date!\n"
     ]
    }
   ],
   "source": [
    "from dataset_statistics import df_statistics\n",
    "import json"
   ]
  },
  {
   "cell_type": "markdown",
   "id": "6ac519d5-7c23-4fd8-8bac-93b4f1b1f17f",
   "metadata": {
    "tags": []
   },
   "source": [
    "## Parameters"
   ]
  },
  {
   "cell_type": "code",
   "execution_count": 2,
   "id": "54dca12b-2965-4441-b1ce-48a1008a129d",
   "metadata": {},
   "outputs": [],
   "source": [
    "DATASET_PATH = \"dataset_total/dataset_filtered_3000.json\""
   ]
  },
  {
   "cell_type": "markdown",
   "id": "7d2231fc-6972-4230-ac87-32530d8a1418",
   "metadata": {},
   "source": [
    "## Code"
   ]
  },
  {
   "cell_type": "markdown",
   "id": "f2394f55-517d-4273-a201-1b71141b98c5",
   "metadata": {
    "tags": []
   },
   "source": [
    "### Create Statistics"
   ]
  },
  {
   "cell_type": "code",
   "execution_count": 3,
   "id": "0d989130-326a-412a-8745-b93622dd6244",
   "metadata": {
    "tags": []
   },
   "outputs": [
    {
     "data": {
      "text/plain": [
       "{'most_frequent_aspect_terms_FOOD': [('Essen', 303),\n",
       "  ('Bier', 46),\n",
       "  ('Speisen', 40),\n",
       "  ('Fleisch', 30),\n",
       "  ('Küche', 29),\n",
       "  ('Gerichte', 24),\n",
       "  ('Schnitzel', 22),\n",
       "  ('Bratkartoffeln', 19),\n",
       "  ('Portionen', 18),\n",
       "  ('LOC', 16)],\n",
       " 'unique_aspect_terms_FOOD': 586,\n",
       " 'number_of_implicit_aspects_FOOD': 186,\n",
       " 'number_of_explicit_aspects_FOOD': 1499,\n",
       " 'number_of_aspects_FOOD': 1685,\n",
       " 'most_frequent_aspect_terms_SERVICE': [('Service', 204),\n",
       "  ('Bedienung', 124),\n",
       "  ('Personal', 88),\n",
       "  ('Kellner', 58),\n",
       "  ('Kellnerin', 17),\n",
       "  ('Bedienungen', 10),\n",
       "  ('Mitarbeiter', 8),\n",
       "  ('Empfang', 8),\n",
       "  ('Chef', 7),\n",
       "  ('Servicepersonal', 7)],\n",
       " 'unique_aspect_terms_SERVICE': 188,\n",
       " 'number_of_implicit_aspects_SERVICE': 231,\n",
       " 'number_of_explicit_aspects_SERVICE': 816,\n",
       " 'number_of_aspects_SERVICE': 1047,\n",
       " 'most_frequent_aspect_terms_PRICE': [('Preise', 30),\n",
       "  ('Preis', 25),\n",
       "  ('Essen', 12),\n",
       "  ('Preisen', 12),\n",
       "  ('Preis-Leistungsverhältnis', 9),\n",
       "  ('Geld', 7),\n",
       "  ('Getränke', 5),\n",
       "  ('Wein', 5),\n",
       "  ('Preis Leistung', 4),\n",
       "  ('Bier', 3)],\n",
       " 'unique_aspect_terms_PRICE': 93,\n",
       " 'number_of_implicit_aspects_PRICE': 47,\n",
       " 'number_of_explicit_aspects_PRICE': 207,\n",
       " 'number_of_aspects_PRICE': 254,\n",
       " 'most_frequent_aspect_terms_AMBIENCE': [('Ambiente', 99),\n",
       "  ('Atmosphäre', 50),\n",
       "  ('Lage', 13),\n",
       "  ('Lokal', 12),\n",
       "  ('Restaurant', 9),\n",
       "  ('Location', 9),\n",
       "  ('Einrichtung', 7),\n",
       "  ('Tisch', 6),\n",
       "  ('Toiletten', 5),\n",
       "  ('Musik', 5)],\n",
       " 'unique_aspect_terms_AMBIENCE': 165,\n",
       " 'number_of_implicit_aspects_AMBIENCE': 64,\n",
       " 'number_of_explicit_aspects_AMBIENCE': 410,\n",
       " 'number_of_aspects_AMBIENCE': 474,\n",
       " 'most_frequent_aspect_terms_GENERAL-IMPRESSION': [('Restaurant', 41),\n",
       "  ('RESTAURANT_NAME', 23),\n",
       "  ('LOC', 23),\n",
       "  ('Lokal', 11),\n",
       "  ('Laden', 6),\n",
       "  ('Brauhaus', 5),\n",
       "  ('Wagner', 3),\n",
       "  ('Tuscolo', 2),\n",
       "  ('Erlebnis', 2),\n",
       "  ('Besuch', 2)],\n",
       " 'unique_aspect_terms_GENERAL-IMPRESSION': 52,\n",
       " 'number_of_implicit_aspects_GENERAL-IMPRESSION': 591,\n",
       " 'number_of_explicit_aspects_GENERAL-IMPRESSION': 163,\n",
       " 'number_of_aspects_GENERAL-IMPRESSION': 754,\n",
       " 'most_frequent_tokens_in_text': [('Essen', 319),\n",
       "  ('Service', 205),\n",
       "  ('Bedienung', 124),\n",
       "  ('Ambiente', 99),\n",
       "  ('Personal', 88),\n",
       "  ('Kellner', 58),\n",
       "  ('Restaurant', 52),\n",
       "  ('Bier', 50),\n",
       "  ('Atmosphäre', 50),\n",
       "  ('LOC', 46)],\n",
       " 'most_frequent_aspect_terms': [('Essen', 319),\n",
       "  ('Service', 205),\n",
       "  ('Bedienung', 124),\n",
       "  ('Ambiente', 99),\n",
       "  ('Personal', 88),\n",
       "  ('Kellner', 58),\n",
       "  ('Restaurant', 52),\n",
       "  ('Bier', 50),\n",
       "  ('Atmosphäre', 50),\n",
       "  ('LOC', 46)],\n",
       " 'unique_aspect_terms': 1014,\n",
       " 'number_of_implicit_aspects': 1119,\n",
       " 'number_of_explicit_aspects': 3095,\n",
       " 'number_of_aspects': 4214,\n",
       " 'avg_number_of_explicit_aspects': 1.0316666666666667,\n",
       " 'avg_number_of_implicit_aspects': 0.373,\n",
       " 'avg_number_of_aspects': 1.4046666666666667,\n",
       " 'statistics_frequency_of_n_aspects_for_an_example': {1: 2172,\n",
       "  2: 585,\n",
       "  7: 3,\n",
       "  3: 159,\n",
       "  5: 15,\n",
       "  4: 56,\n",
       "  6: 7,\n",
       "  9: 1,\n",
       "  16: 1,\n",
       "  8: 1},\n",
       " 'ac_count_SERVICE': 1047,\n",
       " 'ac_count_FOOD': 1685,\n",
       " 'ac_count_GENERAL-IMPRESSION': 754,\n",
       " 'ac_count_AMBIENCE': 474,\n",
       " 'ac_count_PRICE': 254,\n",
       " 'polarity_count_NEGATIVE': 1754,\n",
       " 'polarity_count_NEUTRAL': 169,\n",
       " 'polarity_count_POSITIVE': 2291,\n",
       " 'FOOD-POSITIVE-frequency': 951,\n",
       " 'FOOD-NEGATIVE-frequency': 621,\n",
       " 'FOOD-NEUTRAL-frequency': 113,\n",
       " 'SERVICE-POSITIVE-frequency': 564,\n",
       " 'SERVICE-NEGATIVE-frequency': 472,\n",
       " 'SERVICE-NEUTRAL-frequency': 11,\n",
       " 'PRICE-POSITIVE-frequency': 47,\n",
       " 'PRICE-NEGATIVE-frequency': 190,\n",
       " 'PRICE-NEUTRAL-frequency': 17,\n",
       " 'AMBIENCE-POSITIVE-frequency': 327,\n",
       " 'AMBIENCE-NEGATIVE-frequency': 143,\n",
       " 'AMBIENCE-NEUTRAL-frequency': 4,\n",
       " 'GENERAL-IMPRESSION-POSITIVE-frequency': 402,\n",
       " 'GENERAL-IMPRESSION-NEGATIVE-frequency': 328,\n",
       " 'GENERAL-IMPRESSION-NEUTRAL-frequency': 24,\n",
       " 'FOOD-POSITIVE-label-explicit-frequency': 866,\n",
       " 'FOOD-POSITIVE-label-implicit-frequency': 85,\n",
       " 'FOOD-NEGATIVE-label-explicit-frequency': 530,\n",
       " 'FOOD-NEGATIVE-label-implicit-frequency': 91,\n",
       " 'FOOD-NEUTRAL-label-explicit-frequency': 103,\n",
       " 'FOOD-NEUTRAL-label-implicit-frequency': 10,\n",
       " 'SERVICE-POSITIVE-label-explicit-frequency': 499,\n",
       " 'SERVICE-POSITIVE-label-implicit-frequency': 65,\n",
       " 'SERVICE-NEGATIVE-label-explicit-frequency': 307,\n",
       " 'SERVICE-NEGATIVE-label-implicit-frequency': 165,\n",
       " 'SERVICE-NEUTRAL-label-explicit-frequency': 10,\n",
       " 'SERVICE-NEUTRAL-label-implicit-frequency': 1,\n",
       " 'PRICE-POSITIVE-label-explicit-frequency': 46,\n",
       " 'PRICE-POSITIVE-label-implicit-frequency': 1,\n",
       " 'PRICE-NEGATIVE-label-explicit-frequency': 150,\n",
       " 'PRICE-NEGATIVE-label-implicit-frequency': 40,\n",
       " 'PRICE-NEUTRAL-label-explicit-frequency': 11,\n",
       " 'PRICE-NEUTRAL-label-implicit-frequency': 6,\n",
       " 'AMBIENCE-POSITIVE-label-explicit-frequency': 304,\n",
       " 'AMBIENCE-POSITIVE-label-implicit-frequency': 23,\n",
       " 'AMBIENCE-NEGATIVE-label-explicit-frequency': 102,\n",
       " 'AMBIENCE-NEGATIVE-label-implicit-frequency': 41,\n",
       " 'AMBIENCE-NEUTRAL-label-explicit-frequency': 4,\n",
       " 'AMBIENCE-NEUTRAL-label-implicit-frequency': 0,\n",
       " 'GENERAL-IMPRESSION-POSITIVE-label-explicit-frequency': 104,\n",
       " 'GENERAL-IMPRESSION-POSITIVE-label-implicit-frequency': 298,\n",
       " 'GENERAL-IMPRESSION-NEGATIVE-label-explicit-frequency': 54,\n",
       " 'GENERAL-IMPRESSION-NEGATIVE-label-implicit-frequency': 274,\n",
       " 'GENERAL-IMPRESSION-NEUTRAL-label-explicit-frequency': 5,\n",
       " 'GENERAL-IMPRESSION-NEUTRAL-label-implicit-frequency': 19,\n",
       " 'avg_words_in_text': 13.065,\n",
       " 'std_words_in_text': 8.436158782289485,\n",
       " 'max_words_in_text': 71,\n",
       " 'min_words_in_text': 1}"
      ]
     },
     "execution_count": 3,
     "metadata": {},
     "output_type": "execute_result"
    }
   ],
   "source": [
    "with open(DATASET_PATH, 'r', encoding='utf-8') as json_file:\n",
    "    dataset = json.load(json_file)\n",
    "\n",
    "df_statistics(dataset, False)"
   ]
  }
 ],
 "metadata": {
  "kernelspec": {
   "display_name": "Python 3 (ipykernel)",
   "language": "python",
   "name": "python3"
  },
  "language_info": {
   "codemirror_mode": {
    "name": "ipython",
    "version": 3
   },
   "file_extension": ".py",
   "mimetype": "text/x-python",
   "name": "python",
   "nbconvert_exporter": "python",
   "pygments_lexer": "ipython3",
   "version": "3.11.3"
  }
 },
 "nbformat": 4,
 "nbformat_minor": 5
}
