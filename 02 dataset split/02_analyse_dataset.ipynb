{
 "cells": [
  {
   "cell_type": "markdown",
   "id": "3bb99927-a103-43f1-83a3-a945c547b342",
   "metadata": {},
   "source": [
    "# Notebook: Analyse Total Dataset"
   ]
  },
  {
   "cell_type": "markdown",
   "id": "4e32d2bd-049d-4bf6-9da7-3ef4bf665fef",
   "metadata": {
    "tags": []
   },
   "source": [
    "## Packages"
   ]
  },
  {
   "cell_type": "code",
   "execution_count": 43,
   "id": "399c6d6b-93d8-43c6-bc92-b4777c79d699",
   "metadata": {},
   "outputs": [],
   "source": [
    "from dataset_statistics import df_statistics\n",
    "import json"
   ]
  },
  {
   "cell_type": "markdown",
   "id": "6ac519d5-7c23-4fd8-8bac-93b4f1b1f17f",
   "metadata": {
    "tags": []
   },
   "source": [
    "## Parameters"
   ]
  },
  {
   "cell_type": "code",
   "execution_count": 44,
   "id": "54dca12b-2965-4441-b1ce-48a1008a129d",
   "metadata": {},
   "outputs": [],
   "source": [
    "DATASET_PATH = \"dataset_total/dataset_filtered_3000.json\""
   ]
  },
  {
   "cell_type": "markdown",
   "id": "7d2231fc-6972-4230-ac87-32530d8a1418",
   "metadata": {},
   "source": [
    "## Code"
   ]
  },
  {
   "cell_type": "markdown",
   "id": "f2394f55-517d-4273-a201-1b71141b98c5",
   "metadata": {
    "tags": []
   },
   "source": [
    "### Create Statistics"
   ]
  },
  {
   "cell_type": "code",
   "execution_count": 45,
   "id": "0d989130-326a-412a-8745-b93622dd6244",
   "metadata": {
    "tags": []
   },
   "outputs": [],
   "source": [
    "with open(DATASET_PATH, 'r', encoding='utf-8') as json_file:\n",
    "    dataset = json.load(json_file)\n",
    "\n",
    "statistics = df_statistics(dataset, False)"
   ]
  },
  {
   "cell_type": "code",
   "execution_count": 46,
   "metadata": {},
   "outputs": [
    {
     "data": {
      "text/plain": [
       "{1: 2177, 2: 576, 7: 3, 3: 164, 5: 14, 4: 56, 6: 7, 9: 1, 16: 1, 8: 1}"
      ]
     },
     "execution_count": 46,
     "metadata": {},
     "output_type": "execute_result"
    }
   ],
   "source": [
    "statistics[\"statistics_frequency_of_n_aspects_for_an_example\"]"
   ]
  },
  {
   "cell_type": "code",
   "execution_count": 47,
   "metadata": {},
   "outputs": [
    {
     "data": {
      "text/plain": [
       "{'most_frequent_aspect_terms_FOOD': [('Essen', 302),\n",
       "  ('Bier', 46),\n",
       "  ('Speisen', 40),\n",
       "  ('Fleisch', 30),\n",
       "  ('Küche', 28),\n",
       "  ('Gerichte', 24),\n",
       "  ('Schnitzel', 20),\n",
       "  ('Bratkartoffeln', 19),\n",
       "  ('Portionen', 18),\n",
       "  ('LOC', 17)],\n",
       " 'unique_aspect_terms_FOOD': 580,\n",
       " 'number_of_implicit_aspects_FOOD': 187,\n",
       " 'number_of_explicit_aspects_FOOD': 1489,\n",
       " 'number_of_aspects_FOOD': 1676,\n",
       " 'most_frequent_aspect_terms_SERVICE': [('Service', 202),\n",
       "  ('Bedienung', 123),\n",
       "  ('Personal', 88),\n",
       "  ('Kellner', 58),\n",
       "  ('Kellnerin', 17),\n",
       "  ('Bedienungen', 10),\n",
       "  ('Mitarbeiter', 8),\n",
       "  ('Empfang', 8),\n",
       "  ('Reservierung', 8),\n",
       "  ('Chef', 7)],\n",
       " 'unique_aspect_terms_SERVICE': 188,\n",
       " 'number_of_implicit_aspects_SERVICE': 235,\n",
       " 'number_of_explicit_aspects_SERVICE': 818,\n",
       " 'number_of_aspects_SERVICE': 1053,\n",
       " 'most_frequent_aspect_terms_PRICE': [('Preise', 30),\n",
       "  ('Preis', 25),\n",
       "  ('Essen', 12),\n",
       "  ('Preisen', 11),\n",
       "  ('Preis-Leistungsverhältnis', 9),\n",
       "  ('Geld', 7),\n",
       "  ('Getränke', 5),\n",
       "  ('Wein', 4),\n",
       "  ('Preis Leistung', 4),\n",
       "  ('Bier', 3)],\n",
       " 'unique_aspect_terms_PRICE': 92,\n",
       " 'number_of_implicit_aspects_PRICE': 47,\n",
       " 'number_of_explicit_aspects_PRICE': 204,\n",
       " 'number_of_aspects_PRICE': 251,\n",
       " 'most_frequent_aspect_terms_AMBIENCE': [('Ambiente', 101),\n",
       "  ('Atmosphäre', 50),\n",
       "  ('Lage', 13),\n",
       "  ('Lokal', 12),\n",
       "  ('Location', 9),\n",
       "  ('Restaurant', 8),\n",
       "  ('Einrichtung', 7),\n",
       "  ('Tisch', 6),\n",
       "  ('Toiletten', 5),\n",
       "  ('Musik', 5)],\n",
       " 'unique_aspect_terms_AMBIENCE': 164,\n",
       " 'number_of_implicit_aspects_AMBIENCE': 67,\n",
       " 'number_of_explicit_aspects_AMBIENCE': 407,\n",
       " 'number_of_aspects_AMBIENCE': 474,\n",
       " 'most_frequent_aspect_terms_GENERAL-IMPRESSION': [('Restaurant', 42),\n",
       "  ('RESTAURANT_NAME', 22),\n",
       "  ('LOC', 22),\n",
       "  ('Lokal', 12),\n",
       "  ('Brauhaus', 5),\n",
       "  ('Laden', 5),\n",
       "  ('Wagner', 3),\n",
       "  ('Tuscolo', 2),\n",
       "  ('Erlebnis', 2),\n",
       "  ('Besuch', 2)],\n",
       " 'unique_aspect_terms_GENERAL-IMPRESSION': 52,\n",
       " 'number_of_implicit_aspects_GENERAL-IMPRESSION': 594,\n",
       " 'number_of_explicit_aspects_GENERAL-IMPRESSION': 163,\n",
       " 'number_of_aspects_GENERAL-IMPRESSION': 757,\n",
       " 'most_frequent_tokens_in_text': [('Essen', 317),\n",
       "  ('Service', 202),\n",
       "  ('Bedienung', 123),\n",
       "  ('Ambiente', 101),\n",
       "  ('Personal', 88),\n",
       "  ('Kellner', 58),\n",
       "  ('Restaurant', 52),\n",
       "  ('Bier', 50),\n",
       "  ('Atmosphäre', 50),\n",
       "  ('LOC', 46)],\n",
       " 'most_frequent_aspect_terms': [('Essen', 317),\n",
       "  ('Service', 202),\n",
       "  ('Bedienung', 123),\n",
       "  ('Ambiente', 101),\n",
       "  ('Personal', 88),\n",
       "  ('Kellner', 58),\n",
       "  ('Restaurant', 52),\n",
       "  ('Bier', 50),\n",
       "  ('Atmosphäre', 50),\n",
       "  ('LOC', 46)],\n",
       " 'unique_aspect_terms': 1005,\n",
       " 'number_of_implicit_aspects': 1130,\n",
       " 'number_of_explicit_aspects': 3081,\n",
       " 'number_of_aspects': 4211,\n",
       " 'avg_number_of_explicit_aspects': 1.027,\n",
       " 'avg_number_of_implicit_aspects': 0.37666666666666665,\n",
       " 'avg_number_of_aspects': 1.4036666666666666,\n",
       " 'statistics_frequency_of_n_aspects_for_an_example': {1: 2177,\n",
       "  2: 576,\n",
       "  7: 3,\n",
       "  3: 164,\n",
       "  5: 14,\n",
       "  4: 56,\n",
       "  6: 7,\n",
       "  9: 1,\n",
       "  16: 1,\n",
       "  8: 1},\n",
       " 'ac_count_SERVICE': 1053,\n",
       " 'ac_count_FOOD': 1676,\n",
       " 'ac_count_GENERAL-IMPRESSION': 757,\n",
       " 'ac_count_AMBIENCE': 474,\n",
       " 'ac_count_PRICE': 251,\n",
       " 'polarity_count_NEGATIVE': 1753,\n",
       " 'polarity_count_NEUTRAL': 175,\n",
       " 'polarity_count_POSITIVE': 2283,\n",
       " 'FOOD-POSITIVE-frequency': 941,\n",
       " 'FOOD-NEGATIVE-frequency': 619,\n",
       " 'FOOD-NEUTRAL-frequency': 116,\n",
       " 'SERVICE-POSITIVE-frequency': 568,\n",
       " 'SERVICE-NEGATIVE-frequency': 475,\n",
       " 'SERVICE-NEUTRAL-frequency': 10,\n",
       " 'PRICE-POSITIVE-frequency': 45,\n",
       " 'PRICE-NEGATIVE-frequency': 187,\n",
       " 'PRICE-NEUTRAL-frequency': 19,\n",
       " 'AMBIENCE-POSITIVE-frequency': 329,\n",
       " 'AMBIENCE-NEGATIVE-frequency': 140,\n",
       " 'AMBIENCE-NEUTRAL-frequency': 5,\n",
       " 'GENERAL-IMPRESSION-POSITIVE-frequency': 400,\n",
       " 'GENERAL-IMPRESSION-NEGATIVE-frequency': 332,\n",
       " 'GENERAL-IMPRESSION-NEUTRAL-frequency': 25,\n",
       " 'FOOD-POSITIVE-label-explicit-frequency': 860,\n",
       " 'FOOD-POSITIVE-label-implicit-frequency': 81,\n",
       " 'FOOD-NEGATIVE-label-explicit-frequency': 523,\n",
       " 'FOOD-NEGATIVE-label-implicit-frequency': 96,\n",
       " 'FOOD-NEUTRAL-label-explicit-frequency': 106,\n",
       " 'FOOD-NEUTRAL-label-implicit-frequency': 10,\n",
       " 'SERVICE-POSITIVE-label-explicit-frequency': 501,\n",
       " 'SERVICE-POSITIVE-label-implicit-frequency': 67,\n",
       " 'SERVICE-NEGATIVE-label-explicit-frequency': 307,\n",
       " 'SERVICE-NEGATIVE-label-implicit-frequency': 168,\n",
       " 'SERVICE-NEUTRAL-label-explicit-frequency': 10,\n",
       " 'SERVICE-NEUTRAL-label-implicit-frequency': 0,\n",
       " 'PRICE-POSITIVE-label-explicit-frequency': 44,\n",
       " 'PRICE-POSITIVE-label-implicit-frequency': 1,\n",
       " 'PRICE-NEGATIVE-label-explicit-frequency': 147,\n",
       " 'PRICE-NEGATIVE-label-implicit-frequency': 40,\n",
       " 'PRICE-NEUTRAL-label-explicit-frequency': 13,\n",
       " 'PRICE-NEUTRAL-label-implicit-frequency': 6,\n",
       " 'AMBIENCE-POSITIVE-label-explicit-frequency': 304,\n",
       " 'AMBIENCE-POSITIVE-label-implicit-frequency': 25,\n",
       " 'AMBIENCE-NEGATIVE-label-explicit-frequency': 98,\n",
       " 'AMBIENCE-NEGATIVE-label-implicit-frequency': 42,\n",
       " 'AMBIENCE-NEUTRAL-label-explicit-frequency': 5,\n",
       " 'AMBIENCE-NEUTRAL-label-implicit-frequency': 0,\n",
       " 'GENERAL-IMPRESSION-POSITIVE-label-explicit-frequency': 103,\n",
       " 'GENERAL-IMPRESSION-POSITIVE-label-implicit-frequency': 297,\n",
       " 'GENERAL-IMPRESSION-NEGATIVE-label-explicit-frequency': 55,\n",
       " 'GENERAL-IMPRESSION-NEGATIVE-label-implicit-frequency': 277,\n",
       " 'GENERAL-IMPRESSION-NEUTRAL-label-explicit-frequency': 5,\n",
       " 'GENERAL-IMPRESSION-NEUTRAL-label-implicit-frequency': 20,\n",
       " 'avg_words_in_text': 13.084,\n",
       " 'std_words_in_text': 8.434034858832396,\n",
       " 'max_words_in_text': 71,\n",
       " 'min_words_in_text': 1}"
      ]
     },
     "execution_count": 47,
     "metadata": {},
     "output_type": "execute_result"
    }
   ],
   "source": [
    "statistics"
   ]
  }
 ],
 "metadata": {
  "kernelspec": {
   "display_name": "Python 3 (ipykernel)",
   "language": "python",
   "name": "python3"
  },
  "language_info": {
   "codemirror_mode": {
    "name": "ipython",
    "version": 3
   },
   "file_extension": ".py",
   "mimetype": "text/x-python",
   "name": "python",
   "nbconvert_exporter": "python",
   "pygments_lexer": "ipython3",
   "version": "3.11.3"
  }
 },
 "nbformat": 4,
 "nbformat_minor": 5
}
