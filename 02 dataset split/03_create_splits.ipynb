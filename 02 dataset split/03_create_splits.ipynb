{
 "cells": [
  {
   "cell_type": "markdown",
   "id": "3bb99927-a103-43f1-83a3-a945c547b342",
   "metadata": {},
   "source": [
    "# Notebook: Create 5 Splits"
   ]
  },
  {
   "cell_type": "markdown",
   "id": "4e32d2bd-049d-4bf6-9da7-3ef4bf665fef",
   "metadata": {
    "tags": []
   },
   "source": [
    "## Packages"
   ]
  },
  {
   "cell_type": "code",
   "execution_count": null,
   "id": "399c6d6b-93d8-43c6-bc92-b4777c79d699",
   "metadata": {},
   "outputs": [],
   "source": [
    "from iterstrat.ml_stratifiers import MultilabelStratifiedKFold\n",
    "from collections import Counter\n",
    "import numpy as np\n",
    "import random\n",
    "import json"
   ]
  },
  {
   "cell_type": "markdown",
   "id": "6ac519d5-7c23-4fd8-8bac-93b4f1b1f17f",
   "metadata": {
    "tags": []
   },
   "source": [
    "## Parameters"
   ]
  },
  {
   "cell_type": "code",
   "execution_count": null,
   "id": "54dca12b-2965-4441-b1ce-48a1008a129d",
   "metadata": {},
   "outputs": [],
   "source": [
    "DATASET_PATH = \"dataset_total/dataset_filtered_3000.json\"\n",
    "N_FOLDS = 6"
   ]
  },
  {
   "cell_type": "code",
   "execution_count": null,
   "id": "7879681c-8f07-4d13-9630-4637bf46e4ae",
   "metadata": {
    "tags": []
   },
   "outputs": [],
   "source": [
    "CRITERIA_RS = \"tag_with_polarity\"\n",
    "ASPECTS = [\"SERVICE\", \"FOOD\", \"GENERAL-IMPRESSION\", \"AMBIENCE\", \"PRICE\"]\n",
    "POLARITIES = [\"POSITIVE\", \"NEGATIVE\", \"NEUTRAL\"]\n",
    "MENTIONING_TYPE = [\"implicit\", \"explicit\"]\n",
    "COMBINATIONS = [f\"{aspect}-{polarity}\" for aspect in ASPECTS for polarity in POLARITIES]\n",
    "COMBINATIONS"
   ]
  },
  {
   "cell_type": "markdown",
   "id": "7d2231fc-6972-4230-ac87-32530d8a1418",
   "metadata": {},
   "source": [
    "## Code"
   ]
  },
  {
   "cell_type": "markdown",
   "id": "ca339cbf-8ebe-4b0f-a0a0-e15a6625ef1d",
   "metadata": {},
   "source": [
    "### Load Data"
   ]
  },
  {
   "cell_type": "code",
   "execution_count": null,
   "id": "1f7bf898-935f-4957-b6cf-5d80842273ad",
   "metadata": {},
   "outputs": [],
   "source": [
    "with open(DATASET_PATH, 'r', encoding='utf-8') as json_file:\n",
    "    dataset = json.load(json_file)\n",
    "len(dataset)"
   ]
  },
  {
   "cell_type": "code",
   "execution_count": null,
   "id": "236acb23",
   "metadata": {},
   "outputs": [],
   "source": [
    "[tag[CRITERIA_RS] for tag in dataset[1][\"tags\"]]"
   ]
  },
  {
   "cell_type": "code",
   "execution_count": null,
   "id": "e7c310b6-e028-4e56-b3dc-7f0be647584d",
   "metadata": {
    "tags": []
   },
   "outputs": [],
   "source": [
    "labels_one_hot = []\n",
    "for i in range(len(dataset)):\n",
    "    tags_in_example = list(set([tag[CRITERIA_RS] for tag in dataset[i][\"tags\"]]))\n",
    "    #print(tags_in_example)\n",
    "    one_hot_encoded_combination = np.array([1 if tag in tags_in_example else 0 for tag in COMBINATIONS])\n",
    "    #print(one_hot_encoded_combination)\n",
    "    labels_one_hot.append(one_hot_encoded_combination)"
   ]
  },
  {
   "cell_type": "markdown",
   "id": "66b7ee3b-6436-4fa4-8418-2d89b4c393c8",
   "metadata": {},
   "source": [
    "### Split"
   ]
  },
  {
   "cell_type": "code",
   "execution_count": null,
   "id": "68c4a35b",
   "metadata": {},
   "outputs": [],
   "source": [
    "random_state = 0\n",
    "found_balanced_split = False\n",
    "\n",
    "while found_balanced_split == False:\n",
    "    mskf = MultilabelStratifiedKFold(n_splits=N_FOLDS, shuffle=True, random_state=random_state)\n",
    "\n",
    "    split_sizes = []\n",
    "    idx = 0\n",
    "    for train_index, test_index in mskf.split(dataset, labels_one_hot):\n",
    "        test_dataset = [dataset[i] for i in test_index]\n",
    "        print(len(test_dataset), Counter(\n",
    "            [tag[\"label\"] for example in test_dataset for tag in example[\"tags\"]]))\n",
    "        split_sizes.append(len(test_dataset))\n",
    "        with open(f\"../07 train models/real/split_{idx}.json\", 'w', encoding='utf-8') as split_file:\n",
    "            json.dump(test_dataset, split_file, ensure_ascii=False)\n",
    "        idx += 1\n",
    "\n",
    "    if any(item != 500 for item in split_sizes) == False:\n",
    "        print(split_sizes, random_state)\n",
    "        found_balanced_split = True\n",
    "    random_state += 1"
   ]
  }
 ],
 "metadata": {
  "kernelspec": {
   "display_name": "Python 3 (ipykernel)",
   "language": "python",
   "name": "python3"
  },
  "language_info": {
   "codemirror_mode": {
    "name": "ipython",
    "version": 3
   },
   "file_extension": ".py",
   "mimetype": "text/x-python",
   "name": "python",
   "nbconvert_exporter": "python",
   "pygments_lexer": "ipython3",
   "version": "3.11.3"
  }
 },
 "nbformat": 4,
 "nbformat_minor": 5
}
