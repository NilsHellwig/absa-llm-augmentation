{
 "cells": [
  {
   "cell_type": "markdown",
   "id": "13644518-4e5a-48c9-a01b-d0f66a271d11",
   "metadata": {},
   "source": [
    "# Notebook: Convert Annotation from LabelStudio to .json"
   ]
  },
  {
   "cell_type": "markdown",
   "id": "a7194b09-9ce1-4d21-85ab-b266335a1759",
   "metadata": {},
   "source": [
    "## Packages"
   ]
  },
  {
   "cell_type": "code",
   "execution_count": 56,
   "id": "347b92cd-fecf-4ccc-896f-24f5766a4e10",
   "metadata": {
    "tags": []
   },
   "outputs": [],
   "source": [
    "from format_labelstudio_json import format_json\n",
    "import json"
   ]
  },
  {
   "cell_type": "markdown",
   "id": "7d8e533c-5baa-4148-aff4-a1645f799e47",
   "metadata": {},
   "source": [
    "## Parameters"
   ]
  },
  {
   "cell_type": "code",
   "execution_count": 57,
   "id": "0e622763-e4e2-4e8f-bcee-2b0ad24a6216",
   "metadata": {
    "tags": []
   },
   "outputs": [],
   "source": [
    "ANNOTATIONS_PATH = \"dataset_total/raw_annotations.json\""
   ]
  },
  {
   "cell_type": "markdown",
   "id": "7fe8ee5c-9c58-423d-b356-9b15032bcece",
   "metadata": {},
   "source": [
    "## Code"
   ]
  },
  {
   "cell_type": "markdown",
   "id": "b592ff11-67c5-42c9-9d24-7319c3956701",
   "metadata": {
    "tags": []
   },
   "source": [
    "### Convert to json"
   ]
  },
  {
   "cell_type": "code",
   "execution_count": 58,
   "id": "0a7a0aca-7a1c-45aa-aad1-a3dc8eee8c6d",
   "metadata": {
    "tags": []
   },
   "outputs": [],
   "source": [
    "with open(ANNOTATIONS_PATH, 'r', encoding='utf-8') as json_datei:\n",
    "    data = json.load(json_datei)"
   ]
  },
  {
   "cell_type": "code",
   "execution_count": 59,
   "id": "a948883d-f4e4-4ef1-970c-2dd34b846604",
   "metadata": {
    "tags": []
   },
   "outputs": [],
   "source": [
    "formatted_json = format_json(data)"
   ]
  },
  {
   "cell_type": "markdown",
   "id": "e87a1c21-a340-4f68-8ac5-e917de24800e",
   "metadata": {},
   "source": [
    "### Save Raw Annotations"
   ]
  },
  {
   "cell_type": "code",
   "execution_count": 60,
   "id": "d7e66d99-235b-4915-ac48-e42576cf0373",
   "metadata": {},
   "outputs": [],
   "source": [
    "with open('dataset_total/raw_dataset.json', 'w', encoding='utf-8') as json_file:\n",
    "    json.dump(formatted_json, json_file, ensure_ascii=False)"
   ]
  },
  {
   "cell_type": "markdown",
   "id": "12f650c5-a91d-4a2d-981d-12bd5591df52",
   "metadata": {},
   "source": [
    "### Remove Samples with #Sentences > 2"
   ]
  },
  {
   "cell_type": "code",
   "execution_count": 61,
   "id": "82d160be-2f19-4872-9aa5-4d10d7e70a26",
   "metadata": {
    "tags": []
   },
   "outputs": [
    {
     "data": {
      "text/plain": [
       "97"
      ]
     },
     "execution_count": 61,
     "metadata": {},
     "output_type": "execute_result"
    }
   ],
   "source": [
    "entries_with_two_or_more_sentences = [entry for entry in formatted_json if entry['two_or_more_sentences']]\n",
    "len(entries_with_two_or_more_sentences)"
   ]
  },
  {
   "cell_type": "code",
   "execution_count": 62,
   "id": "57558c81-7a3f-4daf-a8a9-0f89df0a03a6",
   "metadata": {
    "tags": []
   },
   "outputs": [
    {
     "data": {
      "text/plain": [
       "3903"
      ]
     },
     "execution_count": 62,
     "metadata": {},
     "output_type": "execute_result"
    }
   ],
   "source": [
    "formatted_json = [entry for entry in formatted_json if not entry['two_or_more_sentences']]\n",
    "len(formatted_json)"
   ]
  },
  {
   "cell_type": "markdown",
   "id": "40d00282-8c50-4975-b933-9a5fc28e7023",
   "metadata": {},
   "source": [
    "### Remove Samples without Aspects"
   ]
  },
  {
   "cell_type": "code",
   "execution_count": 63,
   "id": "6cf7c3f9-f0fd-4ae6-b457-71bf4e86288f",
   "metadata": {
    "tags": []
   },
   "outputs": [
    {
     "data": {
      "text/plain": [
       "(3374, 'von', 3903)"
      ]
     },
     "execution_count": 63,
     "metadata": {},
     "output_type": "execute_result"
    }
   ],
   "source": [
    "entries_with_empty_tags = [entry for entry in formatted_json if not entry['tags']]\n",
    "len(entries_with_empty_tags), \"von\", len(formatted_json)"
   ]
  },
  {
   "cell_type": "code",
   "execution_count": 64,
   "id": "fdba32dd-7e32-4f2b-9d6e-e988e69322b4",
   "metadata": {
    "tags": []
   },
   "outputs": [
    {
     "data": {
      "text/plain": [
       "529"
      ]
     },
     "execution_count": 64,
     "metadata": {},
     "output_type": "execute_result"
    }
   ],
   "source": [
    "formatted_json = [entry for entry in formatted_json if entry['tags']]\n",
    "len(formatted_json)"
   ]
  },
  {
   "cell_type": "markdown",
   "id": "cd1bbc86-b036-45cc-9043-73c02002785d",
   "metadata": {},
   "source": [
    "### Remove Samples with Conflict"
   ]
  },
  {
   "cell_type": "code",
   "execution_count": 65,
   "id": "88fb7434-0998-4de7-994f-21188cf04b47",
   "metadata": {
    "tags": []
   },
   "outputs": [
    {
     "data": {
      "text/plain": [
       "7"
      ]
     },
     "execution_count": 65,
     "metadata": {},
     "output_type": "execute_result"
    }
   ],
   "source": [
    "entries_with_polarity_conflict = [entry for entry in formatted_json if any(tag.get('polarity') == 'CONFLICT' for tag in entry['tags'])]\n",
    "\n",
    "len(entries_with_polarity_conflict)"
   ]
  },
  {
   "cell_type": "code",
   "execution_count": 66,
   "id": "ae7d71a5-867d-412a-98c8-f3523b074699",
   "metadata": {
    "tags": []
   },
   "outputs": [
    {
     "data": {
      "text/plain": [
       "522"
      ]
     },
     "execution_count": 66,
     "metadata": {},
     "output_type": "execute_result"
    }
   ],
   "source": [
    "formatted_json = [entry for entry in formatted_json if not any(tag.get('polarity') == 'CONFLICT' for tag in entry['tags'])]\n",
    "len(formatted_json)"
   ]
  },
  {
   "cell_type": "markdown",
   "id": "85514aa0-9bce-4a9a-8b09-a722f805d799",
   "metadata": {},
   "source": [
    "### --> !!!!!!!!!Delete Later: Enlarge Dataset"
   ]
  },
  {
   "cell_type": "code",
   "execution_count": 12,
   "id": "913ae910-4bfd-43c8-ae7e-e97084103915",
   "metadata": {
    "tags": []
   },
   "outputs": [
    {
     "data": {
      "text/plain": [
       "['29201856-9893-4eec-a44a-82174cbd867c',\n",
       " '5ed24454-faec-4944-b968-b84b9fa5cb6e',\n",
       " '294fe7a8-c829-4706-89f7-cf88341c4828',\n",
       " '81343575-4711-4a44-bcb1-932dc3c2e0c0',\n",
       " 'b654d8c6-c609-48d6-9bbb-cac33caeff87',\n",
       " 'a573f6a9-6567-4d77-8e6d-c5cfdf78dc74',\n",
       " '1972c356-75bc-4bbc-9932-495d713c6b51',\n",
       " '2d528a49-8af5-42a5-80d1-20c3a4e1cf2d',\n",
       " 'cde1e8fb-a4f8-49a6-bc3e-34ddadb670d7',\n",
       " '23c4c4af-0b35-4256-8c05-fac8dff02e2b',\n",
       " 'fa1c9d79-d4db-4aed-a549-9f349d466620',\n",
       " '8e0f1396-e617-4cc9-b53b-1928f11590e1',\n",
       " '30520dd4-df42-488a-bfe8-9dd184564053',\n",
       " '3eb34534-c9e0-4586-92bd-cb727eb4087c',\n",
       " '10066923-8b41-4ea5-9693-6ac859cbe6dd']"
      ]
     },
     "execution_count": 12,
     "metadata": {},
     "output_type": "execute_result"
    }
   ],
   "source": [
    "[etr[\"id\"] for etr in formatted_json]"
   ]
  },
  {
   "cell_type": "code",
   "execution_count": 13,
   "id": "1c08251b-e7fd-45ba-8ad8-3dbf35dc6527",
   "metadata": {},
   "outputs": [],
   "source": [
    "desired_length = 2500\n",
    "copies_needed = desired_length // len(formatted_json)\n",
    "duplicated_list = formatted_json * copies_needed\n",
    "remaining_length = desired_length - len(duplicated_list)\n",
    "if remaining_length > 0:\n",
    "    duplicated_list += formatted_json[:remaining_length]"
   ]
  },
  {
   "cell_type": "code",
   "execution_count": 14,
   "id": "1693d6fa-6922-4222-87b9-ce82352b8aa5",
   "metadata": {},
   "outputs": [],
   "source": [
    "import uuid\n",
    "\n",
    "formatted_json = []\n",
    "\n",
    "for i in range(len(duplicated_list)):\n",
    "    new_obj = duplicated_list[i].copy()\n",
    "    new_obj[\"id\"] = str(uuid.uuid4())\n",
    "    formatted_json.append(new_obj)"
   ]
  },
  {
   "cell_type": "code",
   "execution_count": 15,
   "id": "2b930372-5e21-4208-9b53-d83246ed148d",
   "metadata": {},
   "outputs": [
    {
     "data": {
      "text/plain": [
       "2500"
      ]
     },
     "execution_count": 15,
     "metadata": {},
     "output_type": "execute_result"
    }
   ],
   "source": [
    "len(formatted_json)"
   ]
  },
  {
   "cell_type": "markdown",
   "id": "b15889b2-f798-48ff-bb3d-246726f0f331",
   "metadata": {},
   "source": [
    "### Save Formatted Dataset"
   ]
  },
  {
   "cell_type": "code",
   "execution_count": 16,
   "id": "fe383eb9-a5ce-423f-9b65-4e23dacc3ed3",
   "metadata": {
    "tags": []
   },
   "outputs": [],
   "source": [
    "with open('dataset_total/filtered_dataset.json', 'w', encoding='utf-8') as json_file:\n",
    "    json.dump(formatted_json, json_file, ensure_ascii=False)"
   ]
  }
 ],
 "metadata": {
  "kernelspec": {
   "display_name": "Python 3 (ipykernel)",
   "language": "python",
   "name": "python3"
  },
  "language_info": {
   "codemirror_mode": {
    "name": "ipython",
    "version": 3
   },
   "file_extension": ".py",
   "mimetype": "text/x-python",
   "name": "python",
   "nbconvert_exporter": "python",
   "pygments_lexer": "ipython3",
   "version": "3.11.3"
  }
 },
 "nbformat": 4,
 "nbformat_minor": 5
}
