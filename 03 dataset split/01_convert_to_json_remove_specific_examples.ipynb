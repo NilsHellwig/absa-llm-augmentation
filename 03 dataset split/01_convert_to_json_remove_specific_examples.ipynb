{
 "cells": [
  {
   "cell_type": "markdown",
   "id": "13644518-4e5a-48c9-a01b-d0f66a271d11",
   "metadata": {},
   "source": [
    "# Notebook: Convert Annotation from LabelStudio to .json"
   ]
  },
  {
   "cell_type": "markdown",
   "id": "a7194b09-9ce1-4d21-85ab-b266335a1759",
   "metadata": {},
   "source": [
    "## Packages"
   ]
  },
  {
   "cell_type": "code",
   "execution_count": 1,
   "id": "347b92cd-fecf-4ccc-896f-24f5766a4e10",
   "metadata": {
    "tags": []
   },
   "outputs": [],
   "source": [
    "import json"
   ]
  },
  {
   "cell_type": "markdown",
   "id": "7d8e533c-5baa-4148-aff4-a1645f799e47",
   "metadata": {},
   "source": [
    "## Parameters"
   ]
  },
  {
   "cell_type": "code",
   "execution_count": 2,
   "id": "0e622763-e4e2-4e8f-bcee-2b0ad24a6216",
   "metadata": {
    "tags": []
   },
   "outputs": [],
   "source": [
    "ANNOTATIONS_PATH = \"dataset_total/raw_annotations.json\""
   ]
  },
  {
   "cell_type": "markdown",
   "id": "7fe8ee5c-9c58-423d-b356-9b15032bcece",
   "metadata": {},
   "source": [
    "## Code"
   ]
  },
  {
   "cell_type": "markdown",
   "id": "b592ff11-67c5-42c9-9d24-7319c3956701",
   "metadata": {
    "tags": []
   },
   "source": [
    "### Convert to json"
   ]
  },
  {
   "cell_type": "code",
   "execution_count": 3,
   "id": "0a7a0aca-7a1c-45aa-aad1-a3dc8eee8c6d",
   "metadata": {
    "tags": []
   },
   "outputs": [],
   "source": [
    "with open(ANNOTATIONS_PATH, 'r', encoding='utf-8') as json_datei:\n",
    "    data = json.load(json_datei)"
   ]
  },
  {
   "cell_type": "code",
   "execution_count": 4,
   "id": "a948883d-f4e4-4ef1-970c-2dd34b846604",
   "metadata": {
    "tags": []
   },
   "outputs": [],
   "source": [
    "def format_json(data):\n",
    "    formatted_data = []\n",
    "\n",
    "    for raw_entry in data:\n",
    "        tags = []\n",
    "        \n",
    "        aspect_available_without_judgement = False\n",
    "        two_or_more_sentences = False\n",
    "        \n",
    "        for annotation in raw_entry[\"annotations\"]:\n",
    "            for result in annotation[\"result\"]:\n",
    "                if \"labels\" in result[\"value\"]:\n",
    "                    tag = {\n",
    "                        \"end\": result[\"value\"][\"end\"],\n",
    "                        \"start\": result[\"value\"][\"start\"],\n",
    "                        \"tag_with_polarity\": result[\"value\"][\"labels\"][0],\n",
    "                        \"tag_with_polarity_and_type\": result[\"value\"][\"labels\"][0] + result.get(\"from_name\", \"\")[5:],\n",
    "                        \"text\": result[\"value\"][\"text\"],\n",
    "                        \"type\": result.get(\"from_name\", \"\")\n",
    "                    }\n",
    "\n",
    "                    if tag[\"type\"] == \"label-implicit\":\n",
    "                        tag[\"end\"] = 0\n",
    "                        tag[\"start\"] = 0\n",
    "                        tag[\"text\"] = \"NULL\"\n",
    "                        tag[\"tag_with_polarity\"] = tag[\"tag_with_polarity\"][:-10]\n",
    "                    else:\n",
    "                        tag[\"text\"] = result[\"value\"][\"text\"]\n",
    "\n",
    "                    # Splitte den Tag\n",
    "                    tag_parts = tag[\"tag_with_polarity\"].rsplit(\"-\", 1)\n",
    "                    if len(tag_parts) == 2:\n",
    "                        tag[\"label\"], tag[\"polarity\"] = tag_parts\n",
    "                    else:\n",
    "                        tag[\"label\"] = tag_parts[0]\n",
    "                        tag[\"polarity\"] = \"\"\n",
    "\n",
    "                    tags.append(tag)\n",
    "                    \n",
    "                if \"choices\" in result[\"value\"]:\n",
    "                    if result[\"from_name\"] == \"aspect_available_without_judgement\":\n",
    "                        aspect_available_without_judgement = True\n",
    "                    if result[\"from_name\"] == \"two_or_more_sentences\":\n",
    "                        two_or_more_sentences = True\n",
    "                        \n",
    "        text = raw_entry[\"data\"][\"text\"]         \n",
    "        entry = {\"tags\": tags, \"text\": text, \"aspect_available_without_judgement\": aspect_available_without_judgement, \"two_or_more_sentences\":two_or_more_sentences}\n",
    "\n",
    "        raw_entry[\"data\"] = {key: value for key, value in raw_entry[\"data\"].items() if not key.startswith(\"Unnamed\")}\n",
    "\n",
    "        for key, value in raw_entry[\"data\"].items():\n",
    "            entry[key] = value\n",
    "            \n",
    "        formatted_data.append(entry)\n",
    "\n",
    "    return formatted_data\n",
    "\n",
    "formatted_json = format_json(data)"
   ]
  },
  {
   "cell_type": "markdown",
   "id": "e87a1c21-a340-4f68-8ac5-e917de24800e",
   "metadata": {},
   "source": [
    "### Save Raw Annotations"
   ]
  },
  {
   "cell_type": "code",
   "execution_count": 5,
   "id": "d7e66d99-235b-4915-ac48-e42576cf0373",
   "metadata": {},
   "outputs": [],
   "source": [
    "with open('dataset_total/raw_dataset.json', 'w', encoding='utf-8') as json_file:\n",
    "    json.dump(formatted_json, json_file, ensure_ascii=False)"
   ]
  },
  {
   "cell_type": "markdown",
   "id": "40d00282-8c50-4975-b933-9a5fc28e7023",
   "metadata": {},
   "source": [
    "### Remove Samples without Aspects"
   ]
  },
  {
   "cell_type": "code",
   "execution_count": 6,
   "id": "6cf7c3f9-f0fd-4ae6-b457-71bf4e86288f",
   "metadata": {
    "tags": []
   },
   "outputs": [
    {
     "data": {
      "text/plain": [
       "(4, 'von', 17)"
      ]
     },
     "execution_count": 6,
     "metadata": {},
     "output_type": "execute_result"
    }
   ],
   "source": [
    "entries_with_empty_tags = [entry for entry in formatted_json if not entry['tags']]\n",
    "len(entries_with_empty_tags), \"von\", len(formatted_json)"
   ]
  },
  {
   "cell_type": "code",
   "execution_count": 7,
   "id": "fdba32dd-7e32-4f2b-9d6e-e988e69322b4",
   "metadata": {
    "tags": []
   },
   "outputs": [
    {
     "data": {
      "text/plain": [
       "13"
      ]
     },
     "execution_count": 7,
     "metadata": {},
     "output_type": "execute_result"
    }
   ],
   "source": [
    "formatted_json = [entry for entry in formatted_json if entry['tags']]\n",
    "len(formatted_json)"
   ]
  },
  {
   "cell_type": "markdown",
   "id": "cd1bbc86-b036-45cc-9043-73c02002785d",
   "metadata": {},
   "source": [
    "### Remove Samples with Conflict"
   ]
  },
  {
   "cell_type": "code",
   "execution_count": 8,
   "id": "88fb7434-0998-4de7-994f-21188cf04b47",
   "metadata": {
    "tags": []
   },
   "outputs": [
    {
     "data": {
      "text/plain": [
       "0"
      ]
     },
     "execution_count": 8,
     "metadata": {},
     "output_type": "execute_result"
    }
   ],
   "source": [
    "entries_with_polarity_conflict = [entry for entry in formatted_json if any(tag.get('polarity') == 'CONFLICT' for tag in entry['tags'])]\n",
    "\n",
    "len(entries_with_polarity_conflict)"
   ]
  },
  {
   "cell_type": "code",
   "execution_count": 9,
   "id": "ae7d71a5-867d-412a-98c8-f3523b074699",
   "metadata": {
    "tags": []
   },
   "outputs": [
    {
     "data": {
      "text/plain": [
       "13"
      ]
     },
     "execution_count": 9,
     "metadata": {},
     "output_type": "execute_result"
    }
   ],
   "source": [
    "formatted_json = [entry for entry in formatted_json if not any(tag.get('polarity') == 'CONFLICT' for tag in entry['tags'])]\n",
    "len(formatted_json)"
   ]
  },
  {
   "cell_type": "markdown",
   "id": "12f650c5-a91d-4a2d-981d-12bd5591df52",
   "metadata": {},
   "source": [
    "### Remove Samples with #Sentences > 2"
   ]
  },
  {
   "cell_type": "code",
   "execution_count": 10,
   "id": "82d160be-2f19-4872-9aa5-4d10d7e70a26",
   "metadata": {
    "tags": []
   },
   "outputs": [
    {
     "data": {
      "text/plain": [
       "[{'tags': [{'end': 0,\n",
       "    'start': 0,\n",
       "    'tag_with_polarity': 'SERVICE-POSITIVE',\n",
       "    'tag_with_polarity_and_type': 'SERVICE-POSITIVE-no-phrase-implicit',\n",
       "    'text': 'NULL',\n",
       "    'type': 'label-implicit',\n",
       "    'label': 'SERVICE',\n",
       "    'polarity': 'POSITIVE'},\n",
       "   {'end': 0,\n",
       "    'start': 0,\n",
       "    'tag_with_polarity': 'GENERAL-IMPRESSION-POSITIVE',\n",
       "    'tag_with_polarity_and_type': 'GENERAL-IMPRESSION-POSITIVE-no-phrase-implicit',\n",
       "    'text': 'NULL',\n",
       "    'type': 'label-implicit',\n",
       "    'label': 'GENERAL-IMPRESSION',\n",
       "    'polarity': 'POSITIVE'},\n",
       "   {'end': 80,\n",
       "    'start': 75,\n",
       "    'tag_with_polarity': 'AMBIENCE-NEGATIVE',\n",
       "    'tag_with_polarity_and_type': 'AMBIENCE-NEGATIVE-explicit',\n",
       "    'text': 'Lokal',\n",
       "    'type': 'label-explicit',\n",
       "    'label': 'AMBIENCE',\n",
       "    'polarity': 'NEGATIVE'}],\n",
       "  'text': 'Freundlichkeit und Qualität.Aber wenn Sie als 2 Personen in das halb volle Lokal mit mehreren unbesetzten Tischen kommen, werden nur „Notplätze“ angeboten.',\n",
       "  'aspect_available_without_judgement': False,\n",
       "  'two_or_more_sentences': True,\n",
       "  'id': '57313614-0f5e-4855-80eb-f1fa735cdbb5',\n",
       "  'city': 'nürnberg',\n",
       "  'date': '2023-02-09',\n",
       "  'title': 'Nicht für nur 2 Personen geeignet',\n",
       "  'rating': 2.0,\n",
       "  'review_id': 877994419,\n",
       "  'page_index': 1,\n",
       "  'author_name': 'N_G_4000',\n",
       "  'sentence_idx': 1,\n",
       "  'language_code': 'de',\n",
       "  'restaurant_id': 1390048,\n",
       "  'author_location': 'Fürth, Deutschland',\n",
       "  'restaurant_name': 'Bratwursthäusle',\n",
       "  'detected_language': 'de',\n",
       "  'text_noanonymization': 'Im Garten bisher alles ok. Freundlichkeit und Qualität.Aber wenn Sie als 2 Personen in das halb volle Lokal mit mehreren unbesetzten Tischen kommen, werden nur „Notplätze“ angeboten. Bei Hinweis auf einen kleinen 4er Tisch, wird abgelehnt „nicht für 2“. Man will anscheinend abwarten und die Gäste optimal schlichten.'}]"
      ]
     },
     "execution_count": 10,
     "metadata": {},
     "output_type": "execute_result"
    }
   ],
   "source": [
    "entries_with_two_or_more_sentences = [entry for entry in formatted_json if entry['two_or_more_sentences']]\n",
    "entries_with_two_or_more_sentences"
   ]
  },
  {
   "cell_type": "code",
   "execution_count": 11,
   "id": "57558c81-7a3f-4daf-a8a9-0f89df0a03a6",
   "metadata": {
    "tags": []
   },
   "outputs": [
    {
     "data": {
      "text/plain": [
       "12"
      ]
     },
     "execution_count": 11,
     "metadata": {},
     "output_type": "execute_result"
    }
   ],
   "source": [
    "formatted_json = [entry for entry in formatted_json if not entry['two_or_more_sentences']]\n",
    "len(formatted_json)"
   ]
  },
  {
   "cell_type": "markdown",
   "id": "85514aa0-9bce-4a9a-8b09-a722f805d799",
   "metadata": {},
   "source": [
    "### --> !!!!!!!!!Delete Later: Enlarge Dataset"
   ]
  },
  {
   "cell_type": "code",
   "execution_count": 12,
   "id": "913ae910-4bfd-43c8-ae7e-e97084103915",
   "metadata": {
    "tags": []
   },
   "outputs": [
    {
     "data": {
      "text/plain": [
       "['8f5a5889-8cce-40c4-a9d4-ec68c9ad3447',\n",
       " 'dfa4a582-b715-4fe5-ba4a-f143441b97bb',\n",
       " '69f59b51-d6f8-497e-a1da-b78bb5ca1236',\n",
       " '58ac65fd-3680-4c27-9a7d-edec844c8a95',\n",
       " '6175b364-b0b9-4c9c-8630-74ff8b77ddb2',\n",
       " 'a56c16ea-da9b-40cf-b3f4-d4aecd9a6a66',\n",
       " '19ebfe0f-3cac-46cf-b9cb-a2939cba656c',\n",
       " '83a022dd-ce94-4e2e-82c4-eb793ea8407d',\n",
       " 'b6e3dc4e-40fb-435a-94c1-b971e702ca3e',\n",
       " '91b66d74-8997-479a-b3d7-30ce2c96cfa4',\n",
       " '91b3b176-0e70-43c1-ac5c-206e973e77da',\n",
       " '3cbfda42-767f-4370-83de-d703f66e0e16']"
      ]
     },
     "execution_count": 12,
     "metadata": {},
     "output_type": "execute_result"
    }
   ],
   "source": [
    "[etr[\"id\"] for etr in formatted_json]"
   ]
  },
  {
   "cell_type": "code",
   "execution_count": 13,
   "id": "1c08251b-e7fd-45ba-8ad8-3dbf35dc6527",
   "metadata": {},
   "outputs": [],
   "source": [
    "desired_length = 2500\n",
    "copies_needed = desired_length // len(formatted_json)\n",
    "duplicated_list = formatted_json * copies_needed\n",
    "remaining_length = desired_length - len(duplicated_list)\n",
    "if remaining_length > 0:\n",
    "    duplicated_list += formatted_json[:remaining_length]"
   ]
  },
  {
   "cell_type": "code",
   "execution_count": 14,
   "id": "1693d6fa-6922-4222-87b9-ce82352b8aa5",
   "metadata": {},
   "outputs": [],
   "source": [
    "import uuid\n",
    "\n",
    "formatted_json = []\n",
    "\n",
    "for i in range(len(duplicated_list)):\n",
    "    new_obj = duplicated_list[i].copy()\n",
    "    new_obj[\"id\"] = str(uuid.uuid4())\n",
    "    formatted_json.append(new_obj)"
   ]
  },
  {
   "cell_type": "code",
   "execution_count": 15,
   "id": "2b930372-5e21-4208-9b53-d83246ed148d",
   "metadata": {},
   "outputs": [
    {
     "data": {
      "text/plain": [
       "2500"
      ]
     },
     "execution_count": 15,
     "metadata": {},
     "output_type": "execute_result"
    }
   ],
   "source": [
    "len(formatted_json)"
   ]
  },
  {
   "cell_type": "markdown",
   "id": "b15889b2-f798-48ff-bb3d-246726f0f331",
   "metadata": {},
   "source": [
    "### Save Formatted Dataset"
   ]
  },
  {
   "cell_type": "code",
   "execution_count": 16,
   "id": "fe383eb9-a5ce-423f-9b65-4e23dacc3ed3",
   "metadata": {
    "tags": []
   },
   "outputs": [],
   "source": [
    "with open('dataset_total/filtered_dataset.json', 'w', encoding='utf-8') as json_file:\n",
    "    json.dump(formatted_json, json_file, ensure_ascii=False)"
   ]
  }
 ],
 "metadata": {
  "kernelspec": {
   "display_name": "Python 3 (ipykernel)",
   "language": "python",
   "name": "python3"
  },
  "language_info": {
   "codemirror_mode": {
    "name": "ipython",
    "version": 3
   },
   "file_extension": ".py",
   "mimetype": "text/x-python",
   "name": "python",
   "nbconvert_exporter": "python",
   "pygments_lexer": "ipython3",
   "version": "3.11.3"
  }
 },
 "nbformat": 4,
 "nbformat_minor": 5
}
