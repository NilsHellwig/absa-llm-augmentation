{
 "cells": [
  {
   "cell_type": "markdown",
   "id": "3bb99927-a103-43f1-83a3-a945c547b342",
   "metadata": {},
   "source": [
    "# Notebook: Split Dataset in folds"
   ]
  },
  {
   "cell_type": "markdown",
   "id": "4e32d2bd-049d-4bf6-9da7-3ef4bf665fef",
   "metadata": {
    "tags": []
   },
   "source": [
    "## Packages"
   ]
  },
  {
   "cell_type": "code",
   "execution_count": 1,
   "id": "399c6d6b-93d8-43c6-bc92-b4777c79d699",
   "metadata": {},
   "outputs": [
    {
     "name": "stderr",
     "output_type": "stream",
     "text": [
      "[nltk_data] Downloading package punkt to\n",
      "[nltk_data]     /Users/nils_hellwig/nltk_data...\n",
      "[nltk_data]   Package punkt is already up-to-date!\n"
     ]
    }
   ],
   "source": [
    "from dataset_statistics import df_statistics\n",
    "import json"
   ]
  },
  {
   "cell_type": "markdown",
   "id": "6ac519d5-7c23-4fd8-8bac-93b4f1b1f17f",
   "metadata": {
    "tags": []
   },
   "source": [
    "## Parameters"
   ]
  },
  {
   "cell_type": "code",
   "execution_count": 2,
   "id": "54dca12b-2965-4441-b1ce-48a1008a129d",
   "metadata": {},
   "outputs": [],
   "source": [
    "DATASET_PATH = \"dataset_total/filtered_dataset.json\""
   ]
  },
  {
   "cell_type": "markdown",
   "id": "7d2231fc-6972-4230-ac87-32530d8a1418",
   "metadata": {},
   "source": [
    "## Code"
   ]
  },
  {
   "cell_type": "markdown",
   "id": "f2394f55-517d-4273-a201-1b71141b98c5",
   "metadata": {
    "tags": []
   },
   "source": [
    "### Create Statistics"
   ]
  },
  {
   "cell_type": "code",
   "execution_count": 3,
   "id": "0d989130-326a-412a-8745-b93622dd6244",
   "metadata": {
    "tags": []
   },
   "outputs": [
    {
     "data": {
      "text/plain": [
       "{'most_frequent_aspect_terms_FOOD': [('Suppe', 167),\n",
       "  ('Kuchen', 167),\n",
       "  ('Getränke', 167),\n",
       "  ('Käsespätzle', 167),\n",
       "  ('Essen', 166)],\n",
       " 'most_frequent_tokens_in_text_FOOD': [('Suppe', 167),\n",
       "  ('Kuchen', 167),\n",
       "  ('Getränke', 167),\n",
       "  ('Käsespätzle', 167),\n",
       "  ('Essen', 166)],\n",
       " 'unique_aspect_terms_FOOD': 5,\n",
       " 'number_of_implicit_aspects_FOOD': 0,\n",
       " 'number_of_explicit_aspects_FOOD': 834,\n",
       " 'number_of_aspects_FOOD': 834,\n",
       " 'most_frequent_aspect_terms_SERVICE': [('Kellner', 334),\n",
       "  ('Personal', 333),\n",
       "  ('Service', 167)],\n",
       " 'most_frequent_tokens_in_text_SERVICE': [('Kellner', 334),\n",
       "  ('Personal', 333),\n",
       "  ('Service', 167)],\n",
       " 'unique_aspect_terms_SERVICE': 3,\n",
       " 'number_of_implicit_aspects_SERVICE': 167,\n",
       " 'number_of_explicit_aspects_SERVICE': 834,\n",
       " 'number_of_aspects_SERVICE': 1001,\n",
       " 'most_frequent_aspect_terms_PRICE': [('Geld', 166)],\n",
       " 'most_frequent_tokens_in_text_PRICE': [('Geld', 166)],\n",
       " 'unique_aspect_terms_PRICE': 1,\n",
       " 'number_of_implicit_aspects_PRICE': 0,\n",
       " 'number_of_explicit_aspects_PRICE': 166,\n",
       " 'number_of_aspects_PRICE': 166,\n",
       " 'most_frequent_aspect_terms_AMBIENCE': [('Uerige', 167),\n",
       "  ('Tortenauswahl', 167),\n",
       "  ('Interior Design', 167),\n",
       "  ('Ambiente', 167)],\n",
       " 'most_frequent_tokens_in_text_AMBIENCE': [('Uerige', 167),\n",
       "  ('Tortenauswahl', 167),\n",
       "  ('Interior Design', 167),\n",
       "  ('Ambiente', 167)],\n",
       " 'unique_aspect_terms_AMBIENCE': 4,\n",
       " 'number_of_implicit_aspects_AMBIENCE': 0,\n",
       " 'number_of_explicit_aspects_AMBIENCE': 668,\n",
       " 'number_of_aspects_AMBIENCE': 668,\n",
       " 'most_frequent_aspect_terms_GENERAL-IMPRESSION': [('war wunderbar', 166)],\n",
       " 'most_frequent_tokens_in_text_GENERAL-IMPRESSION': [('war wunderbar', 166)],\n",
       " 'unique_aspect_terms_GENERAL-IMPRESSION': 1,\n",
       " 'number_of_implicit_aspects_GENERAL-IMPRESSION': 666,\n",
       " 'number_of_explicit_aspects_GENERAL-IMPRESSION': 166,\n",
       " 'number_of_aspects_GENERAL-IMPRESSION': 832,\n",
       " 'most_frequent_tokens_in_text': [('Kellner', 334),\n",
       "  ('Personal', 333),\n",
       "  ('Service', 167),\n",
       "  ('Suppe', 167),\n",
       "  ('Uerige', 167),\n",
       "  ('Kuchen', 167),\n",
       "  ('Tortenauswahl', 167),\n",
       "  ('Interior Design', 167),\n",
       "  ('Ambiente', 167),\n",
       "  ('Getränke', 167)],\n",
       " 'most_frequent_aspect_terms': [('Kellner', 334),\n",
       "  ('Personal', 333),\n",
       "  ('Service', 167),\n",
       "  ('Suppe', 167),\n",
       "  ('Uerige', 167),\n",
       "  ('Kuchen', 167),\n",
       "  ('Tortenauswahl', 167),\n",
       "  ('Interior Design', 167),\n",
       "  ('Ambiente', 167),\n",
       "  ('Getränke', 167)],\n",
       " 'unique_aspect_terms': 14,\n",
       " 'number_of_implicit_aspects': 833,\n",
       " 'number_of_explicit_aspects': 2668,\n",
       " 'number_of_aspects': 3501,\n",
       " 'avg_number_of_explicit_aspects': 1.0672,\n",
       " 'avg_number_of_implicit_aspects': 0.3332,\n",
       " 'avg_number_of_aspects': 1.4004,\n",
       " 'statistics_frequency_of_n_aspects_for_an_example': {2: 667, 1: 1666, 3: 167},\n",
       " 'ac_count_SERVICE': 1001,\n",
       " 'ac_count_FOOD': 834,\n",
       " 'ac_count_AMBIENCE': 668,\n",
       " 'ac_count_GENERAL-IMPRESSION': 832,\n",
       " 'ac_count_PRICE': 166,\n",
       " 'polarity_count_NEGATIVE': 1501,\n",
       " 'polarity_count_POSITIVE': 1666,\n",
       " 'polarity_count_NEUTRAL': 334,\n",
       " 'FOOD-POSITIVE-frequency': 500,\n",
       " 'FOOD-NEGATIVE-frequency': 167,\n",
       " 'FOOD-NEUTRAL-frequency': 167,\n",
       " 'SERVICE-POSITIVE-frequency': 166,\n",
       " 'SERVICE-NEGATIVE-frequency': 668,\n",
       " 'SERVICE-NEUTRAL-frequency': 167,\n",
       " 'PRICE-POSITIVE-frequency': 0,\n",
       " 'PRICE-NEGATIVE-frequency': 166,\n",
       " 'PRICE-NEUTRAL-frequency': 0,\n",
       " 'AMBIENCE-POSITIVE-frequency': 501,\n",
       " 'AMBIENCE-NEGATIVE-frequency': 167,\n",
       " 'AMBIENCE-NEUTRAL-frequency': 0,\n",
       " 'GENERAL-IMPRESSION-POSITIVE-frequency': 499,\n",
       " 'GENERAL-IMPRESSION-NEGATIVE-frequency': 333,\n",
       " 'GENERAL-IMPRESSION-NEUTRAL-frequency': 0,\n",
       " 'avg_words_in_text': 13.4792,\n",
       " 'std_words_in_text': 8.870353282705262,\n",
       " 'max_words_in_text': 33,\n",
       " 'min_words_in_text': 3}"
      ]
     },
     "execution_count": 3,
     "metadata": {},
     "output_type": "execute_result"
    }
   ],
   "source": [
    "with open(DATASET_PATH, 'r', encoding='utf-8') as json_file:\n",
    "    dataset = json.load(json_file)\n",
    "\n",
    "df_statistics(dataset, False)"
   ]
  }
 ],
 "metadata": {
  "kernelspec": {
   "display_name": "Python 3 (ipykernel)",
   "language": "python",
   "name": "python3"
  },
  "language_info": {
   "codemirror_mode": {
    "name": "ipython",
    "version": 3
   },
   "file_extension": ".py",
   "mimetype": "text/x-python",
   "name": "python",
   "nbconvert_exporter": "python",
   "pygments_lexer": "ipython3",
   "version": "3.11.3"
  }
 },
 "nbformat": 4,
 "nbformat_minor": 5
}
