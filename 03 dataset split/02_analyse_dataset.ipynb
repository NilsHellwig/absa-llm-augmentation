{
 "cells": [
  {
   "cell_type": "markdown",
   "id": "3bb99927-a103-43f1-83a3-a945c547b342",
   "metadata": {},
   "source": [
    "# Notebook: Split Dataset in folds"
   ]
  },
  {
   "cell_type": "markdown",
   "id": "4e32d2bd-049d-4bf6-9da7-3ef4bf665fef",
   "metadata": {
    "tags": []
   },
   "source": [
    "## Packages"
   ]
  },
  {
   "cell_type": "code",
   "execution_count": 49,
   "id": "399c6d6b-93d8-43c6-bc92-b4777c79d699",
   "metadata": {},
   "outputs": [],
   "source": [
    "import nltk\n",
    "from collections import defaultdict, Counter\n",
    "from nltk.tokenize import word_tokenize\n",
    "from collections import Counter\n",
    "import numpy as np\n",
    "import pandas as pd\n",
    "import json"
   ]
  },
  {
   "cell_type": "code",
   "execution_count": 50,
   "id": "a265ba1c-b0ed-4a4f-a641-ac853b887c47",
   "metadata": {},
   "outputs": [
    {
     "name": "stderr",
     "output_type": "stream",
     "text": [
      "[nltk_data] Downloading package punkt to\n",
      "[nltk_data]     /Users/nils_hellwig/nltk_data...\n",
      "[nltk_data]   Package punkt is already up-to-date!\n"
     ]
    }
   ],
   "source": [
    "%%capture\n",
    "nltk.download('punkt')"
   ]
  },
  {
   "cell_type": "markdown",
   "id": "6ac519d5-7c23-4fd8-8bac-93b4f1b1f17f",
   "metadata": {
    "tags": []
   },
   "source": [
    "## Parameters"
   ]
  },
  {
   "cell_type": "code",
   "execution_count": 51,
   "id": "54dca12b-2965-4441-b1ce-48a1008a129d",
   "metadata": {},
   "outputs": [],
   "source": [
    "RANDOM_STATE = 43\n",
    "DATASET_PATH = \"dataset_total/filtered_dataset.json\"\n",
    "N_FOLDS = 5"
   ]
  },
  {
   "cell_type": "markdown",
   "id": "7d2231fc-6972-4230-ac87-32530d8a1418",
   "metadata": {},
   "source": [
    "## Code"
   ]
  },
  {
   "cell_type": "markdown",
   "id": "ca339cbf-8ebe-4b0f-a0a0-e15a6625ef1d",
   "metadata": {},
   "source": [
    "### Load Data"
   ]
  },
  {
   "cell_type": "code",
   "execution_count": 52,
   "id": "1f7bf898-935f-4957-b6cf-5d80842273ad",
   "metadata": {},
   "outputs": [],
   "source": [
    "with open(DATASET_PATH, 'r', encoding='utf-8') as json_file:\n",
    "    dataset = json.load(json_file)"
   ]
  },
  {
   "cell_type": "markdown",
   "id": "f2394f55-517d-4273-a201-1b71141b98c5",
   "metadata": {
    "tags": []
   },
   "source": [
    "### Show most frequent Terms"
   ]
  },
  {
   "cell_type": "code",
   "execution_count": 53,
   "id": "1afc098c-1d4f-420b-b3fc-d5851bc8b7b0",
   "metadata": {
    "tags": []
   },
   "outputs": [
    {
     "data": {
      "text/plain": [
       "{'Fleisch': 416,\n",
       " 'Sauce': 209,\n",
       " 'Steinpilze': 209,\n",
       " 'Service': 209,\n",
       " 'Speisen': 209,\n",
       " 'Preis-Leistungsverhältnis': 209,\n",
       " 'Verkauf': 209,\n",
       " 'Preis': 208,\n",
       " 'Fisch': 208,\n",
       " 'Meeresfrüchten': 208}"
      ]
     },
     "execution_count": 53,
     "metadata": {},
     "output_type": "execute_result"
    }
   ],
   "source": [
    "tag_count = Counter(tag['text'] for entry in dataset for tag in entry['tags'] if tag['type'] == 'label-explicit')\n",
    "dict(tag_count.most_common(10))"
   ]
  },
  {
   "cell_type": "code",
   "execution_count": 54,
   "id": "e0676665-25f2-4e71-8b61-29b5bbdaac87",
   "metadata": {
    "tags": []
   },
   "outputs": [
    {
     "data": {
      "text/html": [
       "<div>\n",
       "<style scoped>\n",
       "    .dataframe tbody tr th:only-of-type {\n",
       "        vertical-align: middle;\n",
       "    }\n",
       "\n",
       "    .dataframe tbody tr th {\n",
       "        vertical-align: top;\n",
       "    }\n",
       "\n",
       "    .dataframe thead th {\n",
       "        text-align: right;\n",
       "    }\n",
       "</style>\n",
       "<table border=\"1\" class=\"dataframe\">\n",
       "  <thead>\n",
       "    <tr style=\"text-align: right;\">\n",
       "      <th></th>\n",
       "      <th>Aspect</th>\n",
       "      <th>Term</th>\n",
       "      <th>Frequency</th>\n",
       "    </tr>\n",
       "  </thead>\n",
       "  <tbody>\n",
       "    <tr>\n",
       "      <th>0</th>\n",
       "      <td>FOOD-NEGATIVE</td>\n",
       "      <td>Sauce</td>\n",
       "      <td>209</td>\n",
       "    </tr>\n",
       "    <tr>\n",
       "      <th>1</th>\n",
       "      <td>FOOD-NEGATIVE</td>\n",
       "      <td>Fleisch</td>\n",
       "      <td>208</td>\n",
       "    </tr>\n",
       "    <tr>\n",
       "      <th>2</th>\n",
       "      <td>FOOD-NEGATIVE</td>\n",
       "      <td>Nudeln</td>\n",
       "      <td>208</td>\n",
       "    </tr>\n",
       "    <tr>\n",
       "      <th>3</th>\n",
       "      <td>FOOD-NEUTRAL</td>\n",
       "      <td>Steinpilze</td>\n",
       "      <td>209</td>\n",
       "    </tr>\n",
       "    <tr>\n",
       "      <th>4</th>\n",
       "      <td>FOOD-NEUTRAL</td>\n",
       "      <td>Kaffee</td>\n",
       "      <td>208</td>\n",
       "    </tr>\n",
       "    <tr>\n",
       "      <th>5</th>\n",
       "      <td>FOOD-NEUTRAL</td>\n",
       "      <td>Dessert</td>\n",
       "      <td>208</td>\n",
       "    </tr>\n",
       "    <tr>\n",
       "      <th>6</th>\n",
       "      <td>FOOD-NEUTRAL</td>\n",
       "      <td>Essen</td>\n",
       "      <td>208</td>\n",
       "    </tr>\n",
       "    <tr>\n",
       "      <th>7</th>\n",
       "      <td>FOOD-NEUTRAL</td>\n",
       "      <td>Pizza</td>\n",
       "      <td>208</td>\n",
       "    </tr>\n",
       "    <tr>\n",
       "      <th>8</th>\n",
       "      <td>SERVICE-POSITIVE</td>\n",
       "      <td>Service</td>\n",
       "      <td>209</td>\n",
       "    </tr>\n",
       "    <tr>\n",
       "      <th>9</th>\n",
       "      <td>FOOD-POSITIVE</td>\n",
       "      <td>Speisen</td>\n",
       "      <td>209</td>\n",
       "    </tr>\n",
       "    <tr>\n",
       "      <th>10</th>\n",
       "      <td>FOOD-POSITIVE</td>\n",
       "      <td>Fleisch</td>\n",
       "      <td>208</td>\n",
       "    </tr>\n",
       "    <tr>\n",
       "      <th>11</th>\n",
       "      <td>FOOD-POSITIVE</td>\n",
       "      <td>Fisch</td>\n",
       "      <td>208</td>\n",
       "    </tr>\n",
       "    <tr>\n",
       "      <th>12</th>\n",
       "      <td>FOOD-POSITIVE</td>\n",
       "      <td>Meeresfrüchten</td>\n",
       "      <td>208</td>\n",
       "    </tr>\n",
       "    <tr>\n",
       "      <th>13</th>\n",
       "      <td>FOOD-POSITIVE</td>\n",
       "      <td>Küche</td>\n",
       "      <td>208</td>\n",
       "    </tr>\n",
       "    <tr>\n",
       "      <th>14</th>\n",
       "      <td>PRICE-NEGATIVE</td>\n",
       "      <td>Preis-Leistungsverhältnis</td>\n",
       "      <td>209</td>\n",
       "    </tr>\n",
       "    <tr>\n",
       "      <th>15</th>\n",
       "      <td>PRICE-NEGATIVE</td>\n",
       "      <td>Verkauf</td>\n",
       "      <td>209</td>\n",
       "    </tr>\n",
       "    <tr>\n",
       "      <th>16</th>\n",
       "      <td>PRICE-NEGATIVE</td>\n",
       "      <td>Preis</td>\n",
       "      <td>208</td>\n",
       "    </tr>\n",
       "    <tr>\n",
       "      <th>17</th>\n",
       "      <td>PRICE-NEGATIVE</td>\n",
       "      <td>15 Euro</td>\n",
       "      <td>208</td>\n",
       "    </tr>\n",
       "    <tr>\n",
       "      <th>18</th>\n",
       "      <td>GENERAL-IMPRESSION-POSITIVE</td>\n",
       "      <td>Lokal</td>\n",
       "      <td>208</td>\n",
       "    </tr>\n",
       "    <tr>\n",
       "      <th>19</th>\n",
       "      <td>AMBIENCE-NEGATIVE</td>\n",
       "      <td>Atmosphäre</td>\n",
       "      <td>208</td>\n",
       "    </tr>\n",
       "  </tbody>\n",
       "</table>\n",
       "</div>"
      ],
      "text/plain": [
       "                         Aspect                       Term  Frequency\n",
       "0                 FOOD-NEGATIVE                      Sauce        209\n",
       "1                 FOOD-NEGATIVE                    Fleisch        208\n",
       "2                 FOOD-NEGATIVE                     Nudeln        208\n",
       "3                  FOOD-NEUTRAL                 Steinpilze        209\n",
       "4                  FOOD-NEUTRAL                     Kaffee        208\n",
       "5                  FOOD-NEUTRAL                    Dessert        208\n",
       "6                  FOOD-NEUTRAL                      Essen        208\n",
       "7                  FOOD-NEUTRAL                      Pizza        208\n",
       "8              SERVICE-POSITIVE                    Service        209\n",
       "9                 FOOD-POSITIVE                    Speisen        209\n",
       "10                FOOD-POSITIVE                    Fleisch        208\n",
       "11                FOOD-POSITIVE                      Fisch        208\n",
       "12                FOOD-POSITIVE             Meeresfrüchten        208\n",
       "13                FOOD-POSITIVE                      Küche        208\n",
       "14               PRICE-NEGATIVE  Preis-Leistungsverhältnis        209\n",
       "15               PRICE-NEGATIVE                    Verkauf        209\n",
       "16               PRICE-NEGATIVE                      Preis        208\n",
       "17               PRICE-NEGATIVE                    15 Euro        208\n",
       "18  GENERAL-IMPRESSION-POSITIVE                      Lokal        208\n",
       "19            AMBIENCE-NEGATIVE                 Atmosphäre        208"
      ]
     },
     "execution_count": 54,
     "metadata": {},
     "output_type": "execute_result"
    }
   ],
   "source": [
    "tag_most_common_terms = defaultdict(Counter)\n",
    "\n",
    "for entry in dataset:\n",
    "    for tag in entry['tags']:\n",
    "        if tag['type'] == 'label-explicit':\n",
    "            term = tag['text']\n",
    "            tag_in_polarity = tag['tag_with_polarity']\n",
    "            tag_most_common_terms[tag_in_polarity][term] += 1\n",
    "\n",
    "top_terms_data = [{'Aspect': tag, 'Term': term, 'Frequency': count}\n",
    "                  for tag, term_counts in tag_most_common_terms.items()\n",
    "                  for term, count in term_counts.most_common(5)]\n",
    "\n",
    "pd.DataFrame(top_terms_data)"
   ]
  },
  {
   "cell_type": "markdown",
   "id": "265369e8-47ea-42df-b74b-25d06d3678ef",
   "metadata": {},
   "source": [
    "### Show most frequent Classes"
   ]
  },
  {
   "cell_type": "code",
   "execution_count": 55,
   "id": "fab91e0e-2828-4360-bebe-1ba4e57815dd",
   "metadata": {
    "tags": []
   },
   "outputs": [
    {
     "data": {
      "text/plain": [
       "{'AMBIENCE': 208,\n",
       " 'FOOD': 2707,\n",
       " 'GENERAL-IMPRESSION': 416,\n",
       " 'PRICE': 1042,\n",
       " 'SERVICE': 209}"
      ]
     },
     "execution_count": 55,
     "metadata": {},
     "output_type": "execute_result"
    }
   ],
   "source": [
    "tag_count = Counter(tag['label'] for entry in dataset for tag in entry['tags'])\n",
    "dict(sorted(tag_count.items()))"
   ]
  },
  {
   "cell_type": "code",
   "execution_count": 56,
   "id": "b5e8add8-fc49-4721-8202-6df1bcac4cc0",
   "metadata": {
    "tags": []
   },
   "outputs": [
    {
     "data": {
      "text/plain": [
       "{'AMBIENCE-NEGATIVE': 208,\n",
       " 'FOOD-NEGATIVE': 625,\n",
       " 'FOOD-NEUTRAL': 1041,\n",
       " 'FOOD-POSITIVE': 1041,\n",
       " 'GENERAL-IMPRESSION-NEGATIVE': 208,\n",
       " 'GENERAL-IMPRESSION-POSITIVE': 208,\n",
       " 'PRICE-NEGATIVE': 834,\n",
       " 'PRICE-NEUTRAL': 208,\n",
       " 'SERVICE-POSITIVE': 209}"
      ]
     },
     "execution_count": 56,
     "metadata": {},
     "output_type": "execute_result"
    }
   ],
   "source": [
    "tag_count = Counter(tag['tag_with_polarity'] for entry in dataset for tag in entry['tags'])\n",
    "dict(sorted(tag_count.items()))"
   ]
  },
  {
   "cell_type": "code",
   "execution_count": 57,
   "id": "c5034b8b-400f-4cda-8aff-90de7924a411",
   "metadata": {
    "tags": []
   },
   "outputs": [
    {
     "data": {
      "text/plain": [
       "{'AMBIENCE-NEGATIVE-explicit': 208,\n",
       " 'FOOD-NEGATIVE-explicit': 625,\n",
       " 'FOOD-NEUTRAL-explicit': 1041,\n",
       " 'FOOD-POSITIVE-explicit': 1041,\n",
       " 'GENERAL-IMPRESSION-NEGATIVE-no-phrase-implicit': 208,\n",
       " 'GENERAL-IMPRESSION-POSITIVE-explicit': 208,\n",
       " 'PRICE-NEGATIVE-explicit': 834,\n",
       " 'PRICE-NEUTRAL-no-phrase-implicit': 208,\n",
       " 'SERVICE-POSITIVE-explicit': 209}"
      ]
     },
     "execution_count": 57,
     "metadata": {},
     "output_type": "execute_result"
    }
   ],
   "source": [
    "tag_count = Counter(tag['tag_with_polarity_and_type'] for entry in dataset for tag in entry['tags'])\n",
    "dict(sorted(tag_count.items()))"
   ]
  },
  {
   "cell_type": "markdown",
   "id": "e3cc6b98-1e31-42cf-bd20-c5908063ab27",
   "metadata": {},
   "source": [
    "### Most frequent polarity"
   ]
  },
  {
   "cell_type": "code",
   "execution_count": 58,
   "id": "cbff45b4-8040-4a67-92c0-de0866e560ca",
   "metadata": {
    "tags": []
   },
   "outputs": [
    {
     "data": {
      "text/plain": [
       "{'NEGATIVE': 1875, 'NEUTRAL': 1249, 'POSITIVE': 1458}"
      ]
     },
     "execution_count": 58,
     "metadata": {},
     "output_type": "execute_result"
    }
   ],
   "source": [
    "tag_count = Counter(tag['polarity'] for entry in dataset for tag in entry['tags'])\n",
    "dict(sorted(tag_count.items()))"
   ]
  },
  {
   "cell_type": "markdown",
   "id": "049c1e6f-5ec3-48ef-8ee8-3fc6d1792b23",
   "metadata": {},
   "source": [
    "### Durchschnittliche Anzahl an Tags"
   ]
  },
  {
   "cell_type": "code",
   "execution_count": 59,
   "id": "ace1fe2d-033c-4992-91d9-8ba82d3e1dc0",
   "metadata": {
    "tags": []
   },
   "outputs": [
    {
     "data": {
      "text/plain": [
       "1.8328"
      ]
     },
     "execution_count": 59,
     "metadata": {},
     "output_type": "execute_result"
    }
   ],
   "source": [
    "sum(len(entry['tags']) for entry in dataset) / len(dataset)"
   ]
  },
  {
   "cell_type": "code",
   "execution_count": 60,
   "id": "3a3d1017-d162-441c-bab6-eb4319bdce92",
   "metadata": {
    "tags": []
   },
   "outputs": [
    {
     "name": "stdout",
     "output_type": "stream",
     "text": [
      "AVG label-explicit: 1.6664\n",
      "AVG label-implicit: 0.1664\n"
     ]
    }
   ],
   "source": [
    "average_explicit_tags = sum(1 for entry in dataset for tag in entry['tags'] if tag['type'] == 'label-explicit') / len(dataset)\n",
    "average_implicit_tags = sum(1 for entry in dataset for tag in entry['tags'] if tag['type'] == 'label-implicit') / len(dataset)\n",
    "\n",
    "print(f\"AVG label-explicit: {average_explicit_tags}\")\n",
    "print(f\"AVG label-implicit: {average_implicit_tags}\")"
   ]
  },
  {
   "cell_type": "markdown",
   "id": "5a74cab0-a342-4e06-820f-8664b230cd85",
   "metadata": {},
   "source": [
    "### AVG words"
   ]
  },
  {
   "cell_type": "code",
   "execution_count": 61,
   "id": "0d989130-326a-412a-8745-b93622dd6244",
   "metadata": {
    "tags": []
   },
   "outputs": [
    {
     "name": "stdout",
     "output_type": "stream",
     "text": [
      "MEAN: 14.25\n",
      "SD: 7.24\n"
     ]
    }
   ],
   "source": [
    "word_counts = [len(word_tokenize(entry['text'], language='german')) for entry in dataset]\n",
    "average_word_count = np.mean(word_counts)\n",
    "std_word_count = np.std(word_counts)\n",
    "\n",
    "print(f\"MEAN: {average_word_count:.2f}\")\n",
    "print(f\"SD: {std_word_count:.2f}\")"
   ]
  }
 ],
 "metadata": {
  "kernelspec": {
   "display_name": "Python 3 (ipykernel)",
   "language": "python",
   "name": "python3"
  },
  "language_info": {
   "codemirror_mode": {
    "name": "ipython",
    "version": 3
   },
   "file_extension": ".py",
   "mimetype": "text/x-python",
   "name": "python",
   "nbconvert_exporter": "python",
   "pygments_lexer": "ipython3",
   "version": "3.11.3"
  }
 },
 "nbformat": 4,
 "nbformat_minor": 5
}
