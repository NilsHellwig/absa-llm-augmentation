{
 "cells": [
  {
   "cell_type": "markdown",
   "id": "3bb99927-a103-43f1-83a3-a945c547b342",
   "metadata": {},
   "source": [
    "# Notebook: Split Dataset in folds"
   ]
  },
  {
   "cell_type": "markdown",
   "id": "4e32d2bd-049d-4bf6-9da7-3ef4bf665fef",
   "metadata": {
    "tags": []
   },
   "source": [
    "## Packages"
   ]
  },
  {
   "cell_type": "code",
   "execution_count": 37,
   "id": "399c6d6b-93d8-43c6-bc92-b4777c79d699",
   "metadata": {},
   "outputs": [],
   "source": [
    "import nltk\n",
    "from collections import defaultdict, Counter\n",
    "from nltk.tokenize import word_tokenize\n",
    "from collections import Counter\n",
    "import numpy as np\n",
    "import pandas as pd\n",
    "import json"
   ]
  },
  {
   "cell_type": "code",
   "execution_count": 38,
   "id": "a265ba1c-b0ed-4a4f-a641-ac853b887c47",
   "metadata": {},
   "outputs": [
    {
     "name": "stderr",
     "output_type": "stream",
     "text": [
      "[nltk_data] Downloading package punkt to\n",
      "[nltk_data]     /Users/nils_hellwig/nltk_data...\n",
      "[nltk_data]   Package punkt is already up-to-date!\n"
     ]
    }
   ],
   "source": [
    "%%capture\n",
    "nltk.download('punkt')"
   ]
  },
  {
   "cell_type": "markdown",
   "id": "6ac519d5-7c23-4fd8-8bac-93b4f1b1f17f",
   "metadata": {
    "tags": []
   },
   "source": [
    "## Parameters"
   ]
  },
  {
   "cell_type": "code",
   "execution_count": 39,
   "id": "54dca12b-2965-4441-b1ce-48a1008a129d",
   "metadata": {},
   "outputs": [],
   "source": [
    "RANDOM_STATE = 43\n",
    "DATASET_PATH = \"dataset_total/filtered_dataset.json\"\n",
    "N_FOLDS = 5"
   ]
  },
  {
   "cell_type": "markdown",
   "id": "7d2231fc-6972-4230-ac87-32530d8a1418",
   "metadata": {},
   "source": [
    "## Code"
   ]
  },
  {
   "cell_type": "markdown",
   "id": "ca339cbf-8ebe-4b0f-a0a0-e15a6625ef1d",
   "metadata": {},
   "source": [
    "### Load Data"
   ]
  },
  {
   "cell_type": "code",
   "execution_count": 40,
   "id": "1f7bf898-935f-4957-b6cf-5d80842273ad",
   "metadata": {},
   "outputs": [],
   "source": [
    "with open(DATASET_PATH, 'r', encoding='utf-8') as json_file:\n",
    "    dataset = json.load(json_file)"
   ]
  },
  {
   "cell_type": "code",
   "execution_count": 41,
   "id": "59272abf-38c4-4598-a2ff-8bb684eca9c2",
   "metadata": {
    "tags": []
   },
   "outputs": [
    {
     "data": {
      "text/plain": [
       "[{'tags': [{'end': 12,\n",
       "    'start': 4,\n",
       "    'tag_with_polarity': 'SERVICE-POSITIVE',\n",
       "    'tag_with_polarity_and_type': 'SERVICE-POSITIVE-explicit',\n",
       "    'text': 'Personal',\n",
       "    'type': 'label-explicit',\n",
       "    'label': 'SERVICE',\n",
       "    'polarity': 'POSITIVE'}],\n",
       "  'text': 'Das Personal freundlich.',\n",
       "  'aspect_available_without_judgement': False,\n",
       "  'two_or_more_sentences': False,\n",
       "  'city': 'leipzig',\n",
       "  'date': '2022-11-07',\n",
       "  'title': 'Schönes Ambiente',\n",
       "  'rating': 4.0,\n",
       "  'review_id': 867609212,\n",
       "  'page_index': 1,\n",
       "  'author_name': 'schneiderrebecca',\n",
       "  'sentence_idx': 4,\n",
       "  'language_code': 'de',\n",
       "  'restaurant_id': 743219,\n",
       "  'author_location': 'Würzburg, Deutschland',\n",
       "  'restaurant_name': 'Cafe Riquet',\n",
       "  'detected_language': 'de',\n",
       "  'text_noanonymization': 'Ich war gegen 17:30 Uhr in dem Kaffeehaus. Die Auswahl der Kuchen & Torten war dementsprechend nicht mehr sehr groß. Dennoch waren der Amerikano und der Stachelbeere-Baiser Kuchen gut. Die Räumlichkeit ist sehr schön. Das Personal freundlich.'}]"
      ]
     },
     "execution_count": 41,
     "metadata": {},
     "output_type": "execute_result"
    }
   ],
   "source": [
    "dataset[:1]"
   ]
  },
  {
   "cell_type": "markdown",
   "id": "f2394f55-517d-4273-a201-1b71141b98c5",
   "metadata": {
    "tags": []
   },
   "source": [
    "### Show most frequent Terms"
   ]
  },
  {
   "cell_type": "code",
   "execution_count": 42,
   "id": "1afc098c-1d4f-420b-b3fc-d5851bc8b7b0",
   "metadata": {
    "tags": []
   },
   "outputs": [
    {
     "data": {
      "text/plain": [
       "{'Service': 294,\n",
       " 'Essen': 294,\n",
       " 'Personal': 148,\n",
       " 'Speisen': 147,\n",
       " 'Bier': 147,\n",
       " 'Gang': 147,\n",
       " 'Restaurant': 147,\n",
       " 'Ausblick auf der Terrasse': 147,\n",
       " 'Küche': 147,\n",
       " 'Preis': 147}"
      ]
     },
     "execution_count": 42,
     "metadata": {},
     "output_type": "execute_result"
    }
   ],
   "source": [
    "tag_count = Counter(tag['text'] for entry in dataset for tag in entry['tags'])\n",
    "dict(tag_count.most_common(10))"
   ]
  },
  {
   "cell_type": "code",
   "execution_count": 43,
   "id": "e0676665-25f2-4e71-8b61-29b5bbdaac87",
   "metadata": {
    "tags": []
   },
   "outputs": [
    {
     "data": {
      "text/html": [
       "<div>\n",
       "<style scoped>\n",
       "    .dataframe tbody tr th:only-of-type {\n",
       "        vertical-align: middle;\n",
       "    }\n",
       "\n",
       "    .dataframe tbody tr th {\n",
       "        vertical-align: top;\n",
       "    }\n",
       "\n",
       "    .dataframe thead th {\n",
       "        text-align: right;\n",
       "    }\n",
       "</style>\n",
       "<table border=\"1\" class=\"dataframe\">\n",
       "  <thead>\n",
       "    <tr style=\"text-align: right;\">\n",
       "      <th></th>\n",
       "      <th>Aspect</th>\n",
       "      <th>Term</th>\n",
       "      <th>Frequency</th>\n",
       "    </tr>\n",
       "  </thead>\n",
       "  <tbody>\n",
       "    <tr>\n",
       "      <th>0</th>\n",
       "      <td>SERVICE-POSITIVE</td>\n",
       "      <td>Service</td>\n",
       "      <td>294</td>\n",
       "    </tr>\n",
       "    <tr>\n",
       "      <th>1</th>\n",
       "      <td>SERVICE-POSITIVE</td>\n",
       "      <td>Personal</td>\n",
       "      <td>148</td>\n",
       "    </tr>\n",
       "    <tr>\n",
       "      <th>2</th>\n",
       "      <td>FOOD-POSITIVE</td>\n",
       "      <td>Speisen</td>\n",
       "      <td>147</td>\n",
       "    </tr>\n",
       "    <tr>\n",
       "      <th>3</th>\n",
       "      <td>FOOD-POSITIVE</td>\n",
       "      <td>Bier</td>\n",
       "      <td>147</td>\n",
       "    </tr>\n",
       "    <tr>\n",
       "      <th>4</th>\n",
       "      <td>FOOD-POSITIVE</td>\n",
       "      <td>Gang</td>\n",
       "      <td>147</td>\n",
       "    </tr>\n",
       "    <tr>\n",
       "      <th>5</th>\n",
       "      <td>FOOD-POSITIVE</td>\n",
       "      <td>Küche</td>\n",
       "      <td>147</td>\n",
       "    </tr>\n",
       "    <tr>\n",
       "      <th>6</th>\n",
       "      <td>FOOD-POSITIVE</td>\n",
       "      <td>Rose</td>\n",
       "      <td>147</td>\n",
       "    </tr>\n",
       "    <tr>\n",
       "      <th>7</th>\n",
       "      <td>GENERAL-IMPRESSION-POSITIVE</td>\n",
       "      <td>Restaurant</td>\n",
       "      <td>147</td>\n",
       "    </tr>\n",
       "    <tr>\n",
       "      <th>8</th>\n",
       "      <td>AMBIENT-INTERIOR-POSITIVE</td>\n",
       "      <td>Ausblick auf der Terrasse</td>\n",
       "      <td>147</td>\n",
       "    </tr>\n",
       "    <tr>\n",
       "      <th>9</th>\n",
       "      <td>AMBIENT-INTERIOR-POSITIVE</td>\n",
       "      <td>&lt;LOC&gt;</td>\n",
       "      <td>147</td>\n",
       "    </tr>\n",
       "    <tr>\n",
       "      <th>10</th>\n",
       "      <td>PRICE-NEGATIVE</td>\n",
       "      <td>Preis</td>\n",
       "      <td>147</td>\n",
       "    </tr>\n",
       "    <tr>\n",
       "      <th>11</th>\n",
       "      <td>FOOD-NEGATIVE</td>\n",
       "      <td>Essen</td>\n",
       "      <td>294</td>\n",
       "    </tr>\n",
       "    <tr>\n",
       "      <th>12</th>\n",
       "      <td>FOOD-NEGATIVE</td>\n",
       "      <td>Pommes</td>\n",
       "      <td>147</td>\n",
       "    </tr>\n",
       "    <tr>\n",
       "      <th>13</th>\n",
       "      <td>FOOD-NEGATIVE</td>\n",
       "      <td>Ramen</td>\n",
       "      <td>147</td>\n",
       "    </tr>\n",
       "    <tr>\n",
       "      <th>14</th>\n",
       "      <td>FOOD-NEGATIVE</td>\n",
       "      <td>Spaghetti</td>\n",
       "      <td>147</td>\n",
       "    </tr>\n",
       "    <tr>\n",
       "      <th>15</th>\n",
       "      <td>FOOD-NEGATIVE</td>\n",
       "      <td>Tapas</td>\n",
       "      <td>147</td>\n",
       "    </tr>\n",
       "    <tr>\n",
       "      <th>16</th>\n",
       "      <td>AMBIENT-INTERIOR-NEGATIVE</td>\n",
       "      <td>&lt;RESTAURANT_NAME&gt;</td>\n",
       "      <td>147</td>\n",
       "    </tr>\n",
       "    <tr>\n",
       "      <th>17</th>\n",
       "      <td>GENERAL-IMPRESSION-NEUTRAL</td>\n",
       "      <td>Brauerreigasthaus</td>\n",
       "      <td>147</td>\n",
       "    </tr>\n",
       "    <tr>\n",
       "      <th>18</th>\n",
       "      <td>AMBIENT-INTERIOR-NEUTRAL</td>\n",
       "      <td>Ambiente</td>\n",
       "      <td>147</td>\n",
       "    </tr>\n",
       "    <tr>\n",
       "      <th>19</th>\n",
       "      <td>GENERAL-IMPRESSION-NEGATIVE</td>\n",
       "      <td>NULL</td>\n",
       "      <td>147</td>\n",
       "    </tr>\n",
       "  </tbody>\n",
       "</table>\n",
       "</div>"
      ],
      "text/plain": [
       "                         Aspect                       Term  Frequency\n",
       "0              SERVICE-POSITIVE                    Service        294\n",
       "1              SERVICE-POSITIVE                   Personal        148\n",
       "2                 FOOD-POSITIVE                    Speisen        147\n",
       "3                 FOOD-POSITIVE                       Bier        147\n",
       "4                 FOOD-POSITIVE                       Gang        147\n",
       "5                 FOOD-POSITIVE                      Küche        147\n",
       "6                 FOOD-POSITIVE                       Rose        147\n",
       "7   GENERAL-IMPRESSION-POSITIVE                 Restaurant        147\n",
       "8     AMBIENT-INTERIOR-POSITIVE  Ausblick auf der Terrasse        147\n",
       "9     AMBIENT-INTERIOR-POSITIVE                      <LOC>        147\n",
       "10               PRICE-NEGATIVE                      Preis        147\n",
       "11                FOOD-NEGATIVE                      Essen        294\n",
       "12                FOOD-NEGATIVE                     Pommes        147\n",
       "13                FOOD-NEGATIVE                      Ramen        147\n",
       "14                FOOD-NEGATIVE                  Spaghetti        147\n",
       "15                FOOD-NEGATIVE                      Tapas        147\n",
       "16    AMBIENT-INTERIOR-NEGATIVE         <RESTAURANT_NAME>         147\n",
       "17   GENERAL-IMPRESSION-NEUTRAL          Brauerreigasthaus        147\n",
       "18     AMBIENT-INTERIOR-NEUTRAL                   Ambiente        147\n",
       "19  GENERAL-IMPRESSION-NEGATIVE                       NULL        147"
      ]
     },
     "execution_count": 43,
     "metadata": {},
     "output_type": "execute_result"
    }
   ],
   "source": [
    "tag_most_common_terms = defaultdict(Counter)\n",
    "\n",
    "for entry in dataset:\n",
    "    for tag in entry['tags']:\n",
    "        term = tag['text']\n",
    "        tag_in_polarity = tag['tag_with_polarity']\n",
    "        tag_most_common_terms[tag_in_polarity][term] += 1\n",
    "\n",
    "top_terms_data = [{'Aspect': tag, 'Term': term, 'Frequency': count}\n",
    "                  for tag, term_counts in tag_most_common_terms.items()\n",
    "                  for term, count in term_counts.most_common(5)]\n",
    "\n",
    "pd.DataFrame(top_terms_data)"
   ]
  },
  {
   "cell_type": "markdown",
   "id": "265369e8-47ea-42df-b74b-25d06d3678ef",
   "metadata": {},
   "source": [
    "### Show most frequent Classes"
   ]
  },
  {
   "cell_type": "code",
   "execution_count": 44,
   "id": "fab91e0e-2828-4360-bebe-1ba4e57815dd",
   "metadata": {
    "tags": []
   },
   "outputs": [
    {
     "data": {
      "text/plain": [
       "{'AMBIENT-INTERIOR': 588,\n",
       " 'FOOD': 1764,\n",
       " 'GENERAL-IMPRESSION': 441,\n",
       " 'PRICE': 147,\n",
       " 'SERVICE': 442}"
      ]
     },
     "execution_count": 44,
     "metadata": {},
     "output_type": "execute_result"
    }
   ],
   "source": [
    "tag_count = Counter(tag['label'] for entry in dataset for tag in entry['tags'])\n",
    "dict(sorted(tag_count.items()))"
   ]
  },
  {
   "cell_type": "code",
   "execution_count": 45,
   "id": "b5e8add8-fc49-4721-8202-6df1bcac4cc0",
   "metadata": {
    "tags": []
   },
   "outputs": [
    {
     "data": {
      "text/plain": [
       "{'AMBIENT-INTERIOR-NEGATIVE': 147,\n",
       " 'AMBIENT-INTERIOR-NEUTRAL': 147,\n",
       " 'AMBIENT-INTERIOR-POSITIVE': 294,\n",
       " 'FOOD-NEGATIVE': 882,\n",
       " 'FOOD-POSITIVE': 882,\n",
       " 'GENERAL-IMPRESSION-NEGATIVE': 147,\n",
       " 'GENERAL-IMPRESSION-NEUTRAL': 147,\n",
       " 'GENERAL-IMPRESSION-POSITIVE': 147,\n",
       " 'PRICE-NEGATIVE': 147,\n",
       " 'SERVICE-POSITIVE': 442}"
      ]
     },
     "execution_count": 45,
     "metadata": {},
     "output_type": "execute_result"
    }
   ],
   "source": [
    "tag_count = Counter(tag['tag_with_polarity'] for entry in dataset for tag in entry['tags'])\n",
    "dict(sorted(tag_count.items()))"
   ]
  },
  {
   "cell_type": "code",
   "execution_count": 46,
   "id": "c5034b8b-400f-4cda-8aff-90de7924a411",
   "metadata": {
    "tags": []
   },
   "outputs": [
    {
     "data": {
      "text/plain": [
       "{'AMBIENT-INTERIOR-NEGATIVE-explicit': 147,\n",
       " 'AMBIENT-INTERIOR-NEUTRAL-explicit': 147,\n",
       " 'AMBIENT-INTERIOR-POSITIVE-explicit': 294,\n",
       " 'FOOD-NEGATIVE-explicit': 882,\n",
       " 'FOOD-POSITIVE-explicit': 882,\n",
       " 'GENERAL-IMPRESSION-NEGATIVE-no-phrase-implicit': 147,\n",
       " 'GENERAL-IMPRESSION-NEUTRAL-explicit': 147,\n",
       " 'GENERAL-IMPRESSION-POSITIVE-explicit': 147,\n",
       " 'PRICE-NEGATIVE-explicit': 147,\n",
       " 'SERVICE-POSITIVE-explicit': 442}"
      ]
     },
     "execution_count": 46,
     "metadata": {},
     "output_type": "execute_result"
    }
   ],
   "source": [
    "tag_count = Counter(tag['tag_with_polarity_and_type'] for entry in dataset for tag in entry['tags'])\n",
    "dict(sorted(tag_count.items()))"
   ]
  },
  {
   "cell_type": "markdown",
   "id": "e3cc6b98-1e31-42cf-bd20-c5908063ab27",
   "metadata": {},
   "source": [
    "### Most frequent polarity"
   ]
  },
  {
   "cell_type": "code",
   "execution_count": 47,
   "id": "cbff45b4-8040-4a67-92c0-de0866e560ca",
   "metadata": {
    "tags": []
   },
   "outputs": [
    {
     "data": {
      "text/plain": [
       "{'NEGATIVE': 1323, 'NEUTRAL': 294, 'POSITIVE': 1765}"
      ]
     },
     "execution_count": 47,
     "metadata": {},
     "output_type": "execute_result"
    }
   ],
   "source": [
    "tag_count = Counter(tag['polarity'] for entry in dataset for tag in entry['tags'])\n",
    "dict(sorted(tag_count.items()))"
   ]
  },
  {
   "cell_type": "markdown",
   "id": "049c1e6f-5ec3-48ef-8ee8-3fc6d1792b23",
   "metadata": {},
   "source": [
    "### Durchschnittliche Anzahl an Tags"
   ]
  },
  {
   "cell_type": "code",
   "execution_count": 48,
   "id": "ace1fe2d-033c-4992-91d9-8ba82d3e1dc0",
   "metadata": {
    "tags": []
   },
   "outputs": [
    {
     "data": {
      "text/plain": [
       "1.3528"
      ]
     },
     "execution_count": 48,
     "metadata": {},
     "output_type": "execute_result"
    }
   ],
   "source": [
    "sum(len(entry['tags']) for entry in dataset) / len(dataset)"
   ]
  },
  {
   "cell_type": "code",
   "execution_count": 49,
   "id": "3a3d1017-d162-441c-bab6-eb4319bdce92",
   "metadata": {
    "tags": []
   },
   "outputs": [
    {
     "name": "stdout",
     "output_type": "stream",
     "text": [
      "AVG label-explicit: 1.294\n",
      "AVG label-implicit: 0.0588\n"
     ]
    }
   ],
   "source": [
    "average_explicit_tags = sum(1 for entry in dataset for tag in entry['tags'] if tag['type'] == 'label-explicit') / len(dataset)\n",
    "average_implicit_tags = sum(1 for entry in dataset for tag in entry['tags'] if tag['type'] == 'label-implicit') / len(dataset)\n",
    "\n",
    "print(f\"AVG label-explicit: {average_explicit_tags}\")\n",
    "print(f\"AVG label-implicit: {average_implicit_tags}\")"
   ]
  },
  {
   "cell_type": "markdown",
   "id": "5a74cab0-a342-4e06-820f-8664b230cd85",
   "metadata": {},
   "source": [
    "### AVG words"
   ]
  },
  {
   "cell_type": "code",
   "execution_count": 50,
   "id": "0d989130-326a-412a-8745-b93622dd6244",
   "metadata": {
    "tags": []
   },
   "outputs": [
    {
     "name": "stdout",
     "output_type": "stream",
     "text": [
      "MEAN: 11.06\n",
      "SD: 8.53\n"
     ]
    }
   ],
   "source": [
    "word_counts = [len(word_tokenize(entry['text'], language='german')) for entry in dataset]\n",
    "average_word_count = np.mean(word_counts)\n",
    "std_word_count = np.std(word_counts)\n",
    "\n",
    "print(f\"MEAN: {average_word_count:.2f}\")\n",
    "print(f\"SD: {std_word_count:.2f}\")"
   ]
  },
  {
   "cell_type": "code",
   "execution_count": null,
   "id": "dc491373-cbe5-41f2-ae7f-47daf80f691c",
   "metadata": {},
   "outputs": [],
   "source": []
  }
 ],
 "metadata": {
  "kernelspec": {
   "display_name": "Python 3 (ipykernel)",
   "language": "python",
   "name": "python3"
  },
  "language_info": {
   "codemirror_mode": {
    "name": "ipython",
    "version": 3
   },
   "file_extension": ".py",
   "mimetype": "text/x-python",
   "name": "python",
   "nbconvert_exporter": "python",
   "pygments_lexer": "ipython3",
   "version": "3.11.3"
  }
 },
 "nbformat": 4,
 "nbformat_minor": 5
}
