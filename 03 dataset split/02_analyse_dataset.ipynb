{
 "cells": [
  {
   "cell_type": "markdown",
   "id": "3bb99927-a103-43f1-83a3-a945c547b342",
   "metadata": {},
   "source": [
    "# Notebook: Split Dataset in folds"
   ]
  },
  {
   "cell_type": "markdown",
   "id": "4e32d2bd-049d-4bf6-9da7-3ef4bf665fef",
   "metadata": {
    "tags": []
   },
   "source": [
    "## Packages"
   ]
  },
  {
   "cell_type": "code",
   "execution_count": 7,
   "id": "399c6d6b-93d8-43c6-bc92-b4777c79d699",
   "metadata": {},
   "outputs": [],
   "source": [
    "from dataset_statistics import df_statistics\n",
    "import json"
   ]
  },
  {
   "cell_type": "markdown",
   "id": "6ac519d5-7c23-4fd8-8bac-93b4f1b1f17f",
   "metadata": {
    "tags": []
   },
   "source": [
    "## Parameters"
   ]
  },
  {
   "cell_type": "code",
   "execution_count": 8,
   "id": "54dca12b-2965-4441-b1ce-48a1008a129d",
   "metadata": {},
   "outputs": [],
   "source": [
    "DATASET_PATH = \"dataset_total/total_dataset.json\""
   ]
  },
  {
   "cell_type": "markdown",
   "id": "7d2231fc-6972-4230-ac87-32530d8a1418",
   "metadata": {},
   "source": [
    "## Code"
   ]
  },
  {
   "cell_type": "markdown",
   "id": "f2394f55-517d-4273-a201-1b71141b98c5",
   "metadata": {
    "tags": []
   },
   "source": [
    "### Create Statistics"
   ]
  },
  {
   "cell_type": "code",
   "execution_count": 9,
   "id": "0d989130-326a-412a-8745-b93622dd6244",
   "metadata": {
    "tags": []
   },
   "outputs": [
    {
     "data": {
      "text/plain": [
       "{'most_frequent_aspect_terms_FOOD': [('Essen', 258),\n",
       "  ('Bier', 39),\n",
       "  ('Speisen', 32),\n",
       "  ('Fleisch', 28),\n",
       "  ('Küche', 25),\n",
       "  ('Gerichte', 20),\n",
       "  ('Bratkartoffeln', 19),\n",
       "  ('Portionen', 17),\n",
       "  ('Schnitzel', 17),\n",
       "  ('Tapas', 13)],\n",
       " 'unique_aspect_terms_FOOD': 520,\n",
       " 'number_of_implicit_aspects_FOOD': 152,\n",
       " 'number_of_explicit_aspects_FOOD': 1282,\n",
       " 'number_of_aspects_FOOD': 1434,\n",
       " 'most_frequent_aspect_terms_SERVICE': [('Service', 169),\n",
       "  ('Bedienung', 106),\n",
       "  ('Personal', 75),\n",
       "  ('Kellner', 47),\n",
       "  ('Kellnerin', 13),\n",
       "  ('Bedienungen', 8),\n",
       "  ('Mitarbeiter', 7),\n",
       "  ('Empfang', 7),\n",
       "  ('Reservierung', 7),\n",
       "  ('Servicepersonal', 6)],\n",
       " 'unique_aspect_terms_SERVICE': 169,\n",
       " 'number_of_implicit_aspects_SERVICE': 181,\n",
       " 'number_of_explicit_aspects_SERVICE': 674,\n",
       " 'number_of_aspects_SERVICE': 855,\n",
       " 'most_frequent_aspect_terms_PRICE': [('Preise', 26),\n",
       "  ('Preis', 20),\n",
       "  ('Preisen', 10),\n",
       "  ('Essen', 9),\n",
       "  ('Preis-Leistungsverhältnis', 8),\n",
       "  ('Getränke', 5),\n",
       "  ('Wein', 5),\n",
       "  ('Geld', 5),\n",
       "  ('Preis Leistung', 3),\n",
       "  ('Preis-Leistungs-Verhältnis', 2)],\n",
       " 'unique_aspect_terms_PRICE': 81,\n",
       " 'number_of_implicit_aspects_PRICE': 42,\n",
       " 'number_of_explicit_aspects_PRICE': 173,\n",
       " 'number_of_aspects_PRICE': 215,\n",
       " 'most_frequent_aspect_terms_AMBIENCE': [('Ambiente', 74),\n",
       "  ('Atmosphäre', 39),\n",
       "  ('Lage', 12),\n",
       "  ('Lokal', 10),\n",
       "  ('Restaurant', 8),\n",
       "  ('Location', 8),\n",
       "  ('Einrichtung', 7),\n",
       "  ('Tisch', 6),\n",
       "  ('Musik', 5),\n",
       "  ('Tische', 4)],\n",
       " 'unique_aspect_terms_AMBIENCE': 150,\n",
       " 'number_of_implicit_aspects_AMBIENCE': 50,\n",
       " 'number_of_explicit_aspects_AMBIENCE': 344,\n",
       " 'number_of_aspects_AMBIENCE': 394,\n",
       " 'most_frequent_aspect_terms_GENERAL-IMPRESSION': [('Restaurant', 38),\n",
       "  ('RESTAURANT_NAME', 21),\n",
       "  ('LOC', 17),\n",
       "  ('Lokal', 8),\n",
       "  ('Laden', 6),\n",
       "  ('Brauhaus', 5),\n",
       "  ('Erlebnis', 2),\n",
       "  ('Abend', 2),\n",
       "  ('Besuch', 2),\n",
       "  ('Restaurants', 2)],\n",
       " 'unique_aspect_terms_GENERAL-IMPRESSION': 48,\n",
       " 'number_of_implicit_aspects_GENERAL-IMPRESSION': 484,\n",
       " 'number_of_explicit_aspects_GENERAL-IMPRESSION': 144,\n",
       " 'number_of_aspects_GENERAL-IMPRESSION': 628,\n",
       " 'most_frequent_tokens_in_text': [('Essen', 271),\n",
       "  ('Service', 170),\n",
       "  ('Bedienung', 106),\n",
       "  ('Personal', 75),\n",
       "  ('Ambiente', 74),\n",
       "  ('Restaurant', 48),\n",
       "  ('Kellner', 47),\n",
       "  ('Bier', 42),\n",
       "  ('Atmosphäre', 39),\n",
       "  ('Speisen', 34)],\n",
       " 'most_frequent_aspect_terms': [('Essen', 271),\n",
       "  ('Service', 170),\n",
       "  ('Bedienung', 106),\n",
       "  ('Personal', 75),\n",
       "  ('Ambiente', 74),\n",
       "  ('Restaurant', 48),\n",
       "  ('Kellner', 47),\n",
       "  ('Bier', 42),\n",
       "  ('Atmosphäre', 39),\n",
       "  ('Speisen', 34)],\n",
       " 'unique_aspect_terms': 907,\n",
       " 'number_of_implicit_aspects': 909,\n",
       " 'number_of_explicit_aspects': 2617,\n",
       " 'number_of_aspects': 3526,\n",
       " 'avg_number_of_explicit_aspects': 1.0468,\n",
       " 'avg_number_of_implicit_aspects': 0.3636,\n",
       " 'avg_number_of_aspects': 1.4104,\n",
       " 'statistics_frequency_of_n_aspects_for_an_example': {1: 1802,\n",
       "  2: 500,\n",
       "  7: 3,\n",
       "  3: 126,\n",
       "  5: 14,\n",
       "  4: 45,\n",
       "  6: 7,\n",
       "  9: 1,\n",
       "  16: 1,\n",
       "  8: 1},\n",
       " 'ac_count_SERVICE': 855,\n",
       " 'ac_count_FOOD': 1434,\n",
       " 'ac_count_GENERAL-IMPRESSION': 628,\n",
       " 'ac_count_AMBIENCE': 394,\n",
       " 'ac_count_PRICE': 215,\n",
       " 'polarity_count_NEGATIVE': 1480,\n",
       " 'polarity_count_NEUTRAL': 140,\n",
       " 'polarity_count_POSITIVE': 1906,\n",
       " 'FOOD-POSITIVE-frequency': 801,\n",
       " 'FOOD-NEGATIVE-frequency': 538,\n",
       " 'FOOD-NEUTRAL-frequency': 95,\n",
       " 'SERVICE-POSITIVE-frequency': 453,\n",
       " 'SERVICE-NEGATIVE-frequency': 391,\n",
       " 'SERVICE-NEUTRAL-frequency': 11,\n",
       " 'PRICE-POSITIVE-frequency': 43,\n",
       " 'PRICE-NEGATIVE-frequency': 158,\n",
       " 'PRICE-NEUTRAL-frequency': 14,\n",
       " 'AMBIENCE-POSITIVE-frequency': 270,\n",
       " 'AMBIENCE-NEGATIVE-frequency': 121,\n",
       " 'AMBIENCE-NEUTRAL-frequency': 3,\n",
       " 'GENERAL-IMPRESSION-POSITIVE-frequency': 339,\n",
       " 'GENERAL-IMPRESSION-NEGATIVE-frequency': 272,\n",
       " 'GENERAL-IMPRESSION-NEUTRAL-frequency': 17,\n",
       " 'avg_words_in_text': 13.0792,\n",
       " 'std_words_in_text': 8.473448374776352,\n",
       " 'max_words_in_text': 71,\n",
       " 'min_words_in_text': 1}"
      ]
     },
     "execution_count": 9,
     "metadata": {},
     "output_type": "execute_result"
    }
   ],
   "source": [
    "with open(DATASET_PATH, 'r', encoding='utf-8') as json_file:\n",
    "    dataset = json.load(json_file)\n",
    "\n",
    "df_statistics(dataset, False)"
   ]
  }
 ],
 "metadata": {
  "kernelspec": {
   "display_name": "Python 3 (ipykernel)",
   "language": "python",
   "name": "python3"
  },
  "language_info": {
   "codemirror_mode": {
    "name": "ipython",
    "version": 3
   },
   "file_extension": ".py",
   "mimetype": "text/x-python",
   "name": "python",
   "nbconvert_exporter": "python",
   "pygments_lexer": "ipython3",
   "version": "3.11.3"
  }
 },
 "nbformat": 4,
 "nbformat_minor": 5
}
