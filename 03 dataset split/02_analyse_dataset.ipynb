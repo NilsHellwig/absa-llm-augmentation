{
 "cells": [
  {
   "cell_type": "markdown",
   "id": "3bb99927-a103-43f1-83a3-a945c547b342",
   "metadata": {},
   "source": [
    "# Notebook: Split Dataset in folds"
   ]
  },
  {
   "cell_type": "markdown",
   "id": "4e32d2bd-049d-4bf6-9da7-3ef4bf665fef",
   "metadata": {
    "tags": []
   },
   "source": [
    "## Packages"
   ]
  },
  {
   "cell_type": "code",
   "execution_count": 1,
   "id": "399c6d6b-93d8-43c6-bc92-b4777c79d699",
   "metadata": {},
   "outputs": [],
   "source": [
    "import nltk\n",
    "from collections import defaultdict, Counter\n",
    "from nltk.tokenize import word_tokenize\n",
    "from collections import Counter\n",
    "import numpy as np\n",
    "import pandas as pd\n",
    "import json"
   ]
  },
  {
   "cell_type": "code",
   "execution_count": 2,
   "id": "a265ba1c-b0ed-4a4f-a641-ac853b887c47",
   "metadata": {},
   "outputs": [
    {
     "name": "stderr",
     "output_type": "stream",
     "text": [
      "[nltk_data] Downloading package punkt to\n",
      "[nltk_data]     /Users/nils_hellwig/nltk_data...\n",
      "[nltk_data]   Package punkt is already up-to-date!\n"
     ]
    }
   ],
   "source": [
    "%%capture\n",
    "nltk.download('punkt')"
   ]
  },
  {
   "cell_type": "markdown",
   "id": "6ac519d5-7c23-4fd8-8bac-93b4f1b1f17f",
   "metadata": {
    "tags": []
   },
   "source": [
    "## Parameters"
   ]
  },
  {
   "cell_type": "code",
   "execution_count": 3,
   "id": "54dca12b-2965-4441-b1ce-48a1008a129d",
   "metadata": {},
   "outputs": [],
   "source": [
    "RANDOM_STATE = 43\n",
    "DATASET_PATH = \"dataset_total/filtered_dataset.json\"\n",
    "N_FOLDS = 5"
   ]
  },
  {
   "cell_type": "markdown",
   "id": "7d2231fc-6972-4230-ac87-32530d8a1418",
   "metadata": {},
   "source": [
    "## Code"
   ]
  },
  {
   "cell_type": "markdown",
   "id": "ca339cbf-8ebe-4b0f-a0a0-e15a6625ef1d",
   "metadata": {},
   "source": [
    "### Load Data"
   ]
  },
  {
   "cell_type": "code",
   "execution_count": 4,
   "id": "1f7bf898-935f-4957-b6cf-5d80842273ad",
   "metadata": {},
   "outputs": [],
   "source": [
    "with open(DATASET_PATH, 'r', encoding='utf-8') as json_file:\n",
    "    dataset = json.load(json_file)"
   ]
  },
  {
   "cell_type": "markdown",
   "id": "f2394f55-517d-4273-a201-1b71141b98c5",
   "metadata": {
    "tags": []
   },
   "source": [
    "### Show most frequent Aspect Terms"
   ]
  },
  {
   "cell_type": "code",
   "execution_count": 5,
   "id": "1afc098c-1d4f-420b-b3fc-d5851bc8b7b0",
   "metadata": {
    "tags": []
   },
   "outputs": [
    {
     "data": {
      "text/plain": [
       "{'Kellner': 334,\n",
       " 'Personal': 333,\n",
       " 'Service': 167,\n",
       " 'Suppe': 167,\n",
       " 'Uerige': 167,\n",
       " 'Kuchen': 167,\n",
       " 'Tortenauswahl': 167,\n",
       " 'Interior Design': 167,\n",
       " 'Ambiente': 167,\n",
       " 'Getränke': 167}"
      ]
     },
     "execution_count": 5,
     "metadata": {},
     "output_type": "execute_result"
    }
   ],
   "source": [
    "tag_count = Counter(tag['text'] for entry in dataset for tag in entry['tags'] if tag['type'] == 'label-explicit')\n",
    "dict(tag_count.most_common(10))"
   ]
  },
  {
   "cell_type": "code",
   "execution_count": 6,
   "id": "e0676665-25f2-4e71-8b61-29b5bbdaac87",
   "metadata": {
    "tags": []
   },
   "outputs": [
    {
     "data": {
      "text/html": [
       "<div>\n",
       "<style scoped>\n",
       "    .dataframe tbody tr th:only-of-type {\n",
       "        vertical-align: middle;\n",
       "    }\n",
       "\n",
       "    .dataframe tbody tr th {\n",
       "        vertical-align: top;\n",
       "    }\n",
       "\n",
       "    .dataframe thead th {\n",
       "        text-align: right;\n",
       "    }\n",
       "</style>\n",
       "<table border=\"1\" class=\"dataframe\">\n",
       "  <thead>\n",
       "    <tr style=\"text-align: right;\">\n",
       "      <th></th>\n",
       "      <th>Aspect</th>\n",
       "      <th>Term</th>\n",
       "      <th>Frequency</th>\n",
       "    </tr>\n",
       "  </thead>\n",
       "  <tbody>\n",
       "    <tr>\n",
       "      <th>0</th>\n",
       "      <td>SERVICE-NEGATIVE</td>\n",
       "      <td>Kellner</td>\n",
       "      <td>334</td>\n",
       "    </tr>\n",
       "    <tr>\n",
       "      <th>1</th>\n",
       "      <td>SERVICE-NEGATIVE</td>\n",
       "      <td>Service</td>\n",
       "      <td>167</td>\n",
       "    </tr>\n",
       "    <tr>\n",
       "      <th>2</th>\n",
       "      <td>FOOD-POSITIVE</td>\n",
       "      <td>Suppe</td>\n",
       "      <td>167</td>\n",
       "    </tr>\n",
       "    <tr>\n",
       "      <th>3</th>\n",
       "      <td>FOOD-POSITIVE</td>\n",
       "      <td>Kuchen</td>\n",
       "      <td>167</td>\n",
       "    </tr>\n",
       "    <tr>\n",
       "      <th>4</th>\n",
       "      <td>FOOD-POSITIVE</td>\n",
       "      <td>Essen</td>\n",
       "      <td>166</td>\n",
       "    </tr>\n",
       "    <tr>\n",
       "      <th>5</th>\n",
       "      <td>SERVICE-NEUTRAL</td>\n",
       "      <td>Personal</td>\n",
       "      <td>167</td>\n",
       "    </tr>\n",
       "    <tr>\n",
       "      <th>6</th>\n",
       "      <td>AMBIENCE-NEGATIVE</td>\n",
       "      <td>Uerige</td>\n",
       "      <td>167</td>\n",
       "    </tr>\n",
       "    <tr>\n",
       "      <th>7</th>\n",
       "      <td>AMBIENCE-POSITIVE</td>\n",
       "      <td>Tortenauswahl</td>\n",
       "      <td>167</td>\n",
       "    </tr>\n",
       "    <tr>\n",
       "      <th>8</th>\n",
       "      <td>AMBIENCE-POSITIVE</td>\n",
       "      <td>Interior Design</td>\n",
       "      <td>167</td>\n",
       "    </tr>\n",
       "    <tr>\n",
       "      <th>9</th>\n",
       "      <td>AMBIENCE-POSITIVE</td>\n",
       "      <td>Ambiente</td>\n",
       "      <td>167</td>\n",
       "    </tr>\n",
       "    <tr>\n",
       "      <th>10</th>\n",
       "      <td>FOOD-NEUTRAL</td>\n",
       "      <td>Getränke</td>\n",
       "      <td>167</td>\n",
       "    </tr>\n",
       "    <tr>\n",
       "      <th>11</th>\n",
       "      <td>FOOD-NEGATIVE</td>\n",
       "      <td>Käsespätzle</td>\n",
       "      <td>167</td>\n",
       "    </tr>\n",
       "    <tr>\n",
       "      <th>12</th>\n",
       "      <td>GENERAL-IMPRESSION-POSITIVE</td>\n",
       "      <td>war wunderbar</td>\n",
       "      <td>166</td>\n",
       "    </tr>\n",
       "    <tr>\n",
       "      <th>13</th>\n",
       "      <td>PRICE-NEGATIVE</td>\n",
       "      <td>Geld</td>\n",
       "      <td>166</td>\n",
       "    </tr>\n",
       "    <tr>\n",
       "      <th>14</th>\n",
       "      <td>SERVICE-POSITIVE</td>\n",
       "      <td>Personal</td>\n",
       "      <td>166</td>\n",
       "    </tr>\n",
       "  </tbody>\n",
       "</table>\n",
       "</div>"
      ],
      "text/plain": [
       "                         Aspect             Term  Frequency\n",
       "0              SERVICE-NEGATIVE          Kellner        334\n",
       "1              SERVICE-NEGATIVE          Service        167\n",
       "2                 FOOD-POSITIVE            Suppe        167\n",
       "3                 FOOD-POSITIVE           Kuchen        167\n",
       "4                 FOOD-POSITIVE            Essen        166\n",
       "5               SERVICE-NEUTRAL         Personal        167\n",
       "6             AMBIENCE-NEGATIVE           Uerige        167\n",
       "7             AMBIENCE-POSITIVE    Tortenauswahl        167\n",
       "8             AMBIENCE-POSITIVE  Interior Design        167\n",
       "9             AMBIENCE-POSITIVE         Ambiente        167\n",
       "10                 FOOD-NEUTRAL         Getränke        167\n",
       "11                FOOD-NEGATIVE      Käsespätzle        167\n",
       "12  GENERAL-IMPRESSION-POSITIVE    war wunderbar        166\n",
       "13               PRICE-NEGATIVE             Geld        166\n",
       "14             SERVICE-POSITIVE         Personal        166"
      ]
     },
     "execution_count": 6,
     "metadata": {},
     "output_type": "execute_result"
    }
   ],
   "source": [
    "tag_most_common_terms = defaultdict(Counter)\n",
    "\n",
    "for entry in dataset:\n",
    "    for tag in entry['tags']:\n",
    "        if tag['type'] == 'label-explicit':\n",
    "            term = tag['text']\n",
    "            tag_in_polarity = tag['tag_with_polarity']\n",
    "            tag_most_common_terms[tag_in_polarity][term] += 1\n",
    "\n",
    "top_terms_data = [{'Aspect': tag, 'Term': term, 'Frequency': count}\n",
    "                  for tag, term_counts in tag_most_common_terms.items()\n",
    "                  for term, count in term_counts.most_common(5)]\n",
    "\n",
    "pd.DataFrame(top_terms_data)"
   ]
  },
  {
   "cell_type": "markdown",
   "id": "265369e8-47ea-42df-b74b-25d06d3678ef",
   "metadata": {},
   "source": [
    "### Show most frequent Classes"
   ]
  },
  {
   "cell_type": "code",
   "execution_count": 19,
   "id": "c5034b8b-400f-4cda-8aff-90de7924a411",
   "metadata": {
    "tags": []
   },
   "outputs": [
    {
     "data": {
      "text/plain": [
       "{'AMBIENCE': 668,\n",
       " 'FOOD': 834,\n",
       " 'GENERAL-IMPRESSION': 832,\n",
       " 'PRICE': 166,\n",
       " 'SERVICE': 1001}"
      ]
     },
     "execution_count": 19,
     "metadata": {},
     "output_type": "execute_result"
    }
   ],
   "source": [
    "tag_count = Counter(tag['label'] for entry in dataset for tag in entry['tags'])\n",
    "dict(sorted(tag_count.items()))"
   ]
  },
  {
   "cell_type": "code",
   "execution_count": 18,
   "id": "e0fe9708-e5e8-43b7-9939-9d3a12300cbe",
   "metadata": {
    "tags": []
   },
   "outputs": [
    {
     "data": {
      "text/plain": [
       "{'AMBIENCE-NEGATIVE': 167,\n",
       " 'AMBIENCE-POSITIVE': 501,\n",
       " 'FOOD-NEGATIVE': 167,\n",
       " 'FOOD-NEUTRAL': 167,\n",
       " 'FOOD-POSITIVE': 500,\n",
       " 'GENERAL-IMPRESSION-NEGATIVE': 333,\n",
       " 'GENERAL-IMPRESSION-POSITIVE': 499,\n",
       " 'PRICE-NEGATIVE': 166,\n",
       " 'SERVICE-NEGATIVE': 668,\n",
       " 'SERVICE-NEUTRAL': 167,\n",
       " 'SERVICE-POSITIVE': 166}"
      ]
     },
     "execution_count": 18,
     "metadata": {},
     "output_type": "execute_result"
    }
   ],
   "source": [
    "tag_count = Counter(tag['tag_with_polarity'] for entry in dataset for tag in entry['tags'])\n",
    "dict(sorted(tag_count.items()))   "
   ]
  },
  {
   "cell_type": "code",
   "execution_count": 17,
   "id": "d772bd7e-a3a7-49e3-b0d0-4b960161d76b",
   "metadata": {
    "tags": []
   },
   "outputs": [
    {
     "data": {
      "text/plain": [
       "{'AMBIENCE-NEGATIVE-explicit': 167,\n",
       " 'AMBIENCE-POSITIVE-explicit': 501,\n",
       " 'FOOD-NEGATIVE-explicit': 167,\n",
       " 'FOOD-NEUTRAL-explicit': 167,\n",
       " 'FOOD-POSITIVE-explicit': 500,\n",
       " 'GENERAL-IMPRESSION-NEGATIVE-no-phrase-implicit': 333,\n",
       " 'GENERAL-IMPRESSION-POSITIVE-explicit': 166,\n",
       " 'GENERAL-IMPRESSION-POSITIVE-no-phrase-implicit': 333,\n",
       " 'PRICE-NEGATIVE-explicit': 166,\n",
       " 'SERVICE-NEGATIVE-explicit': 501,\n",
       " 'SERVICE-NEGATIVE-no-phrase-implicit': 167,\n",
       " 'SERVICE-NEUTRAL-explicit': 167,\n",
       " 'SERVICE-POSITIVE-explicit': 166}"
      ]
     },
     "execution_count": 17,
     "metadata": {},
     "output_type": "execute_result"
    }
   ],
   "source": [
    "tag_count = Counter(tag['tag_with_polarity_and_type'] for entry in dataset for tag in entry['tags'])\n",
    "dict(sorted(tag_count.items()))"
   ]
  },
  {
   "cell_type": "markdown",
   "id": "e3cc6b98-1e31-42cf-bd20-c5908063ab27",
   "metadata": {},
   "source": [
    "### Most frequent polarity"
   ]
  },
  {
   "cell_type": "code",
   "execution_count": 10,
   "id": "cbff45b4-8040-4a67-92c0-de0866e560ca",
   "metadata": {
    "tags": []
   },
   "outputs": [
    {
     "data": {
      "text/plain": [
       "{'NEGATIVE': 1501, 'NEUTRAL': 334, 'POSITIVE': 1666}"
      ]
     },
     "execution_count": 10,
     "metadata": {},
     "output_type": "execute_result"
    }
   ],
   "source": [
    "tag_count = Counter(tag['polarity'] for entry in dataset for tag in entry['tags'])\n",
    "dict(sorted(tag_count.items()))"
   ]
  },
  {
   "cell_type": "code",
   "execution_count": 21,
   "id": "5eb193ab-beca-4e71-9abe-f9d1a57b9942",
   "metadata": {
    "tags": []
   },
   "outputs": [
    {
     "data": {
      "text/plain": [
       "{'NEGATIVE': 1001, 'NEUTRAL': 334, 'POSITIVE': 1333}"
      ]
     },
     "execution_count": 21,
     "metadata": {},
     "output_type": "execute_result"
    }
   ],
   "source": [
    "tag_count = Counter(tag['polarity'] for entry in dataset for tag in entry['tags'] if tag['type'] == 'label-explicit')\n",
    "dict(sorted(tag_count.items()))"
   ]
  },
  {
   "cell_type": "code",
   "execution_count": 23,
   "id": "2096a9b8-e0b2-4006-9b23-77b917f3ed7e",
   "metadata": {
    "tags": []
   },
   "outputs": [
    {
     "data": {
      "text/plain": [
       "{'NEGATIVE': 500, 'POSITIVE': 333}"
      ]
     },
     "execution_count": 23,
     "metadata": {},
     "output_type": "execute_result"
    }
   ],
   "source": [
    "tag_count = Counter(tag['polarity'] for entry in dataset for tag in entry['tags'] if tag['type'] == 'label-implicit')\n",
    "dict(sorted(tag_count.items()))"
   ]
  },
  {
   "cell_type": "markdown",
   "id": "049c1e6f-5ec3-48ef-8ee8-3fc6d1792b23",
   "metadata": {},
   "source": [
    "### Durchschnittliche Anzahl an Tags pro Beispiel"
   ]
  },
  {
   "cell_type": "code",
   "execution_count": 24,
   "id": "ace1fe2d-033c-4992-91d9-8ba82d3e1dc0",
   "metadata": {
    "tags": []
   },
   "outputs": [
    {
     "data": {
      "text/plain": [
       "1.4004"
      ]
     },
     "execution_count": 24,
     "metadata": {},
     "output_type": "execute_result"
    }
   ],
   "source": [
    "sum(len(entry['tags']) for entry in dataset) / len(dataset)"
   ]
  },
  {
   "cell_type": "code",
   "execution_count": 25,
   "id": "3a3d1017-d162-441c-bab6-eb4319bdce92",
   "metadata": {
    "tags": []
   },
   "outputs": [
    {
     "name": "stdout",
     "output_type": "stream",
     "text": [
      "AVG label-explicit: 1.0672\n",
      "AVG label-implicit: 0.3332\n"
     ]
    }
   ],
   "source": [
    "average_explicit_tags = sum(1 for entry in dataset for tag in entry['tags'] if tag['type'] == 'label-explicit') / len(dataset)\n",
    "average_implicit_tags = sum(1 for entry in dataset for tag in entry['tags'] if tag['type'] == 'label-implicit') / len(dataset)\n",
    "\n",
    "print(f\"AVG label-explicit: {average_explicit_tags}\")\n",
    "print(f\"AVG label-implicit: {average_implicit_tags}\")"
   ]
  },
  {
   "cell_type": "markdown",
   "id": "5a74cab0-a342-4e06-820f-8664b230cd85",
   "metadata": {},
   "source": [
    "### AVG words"
   ]
  },
  {
   "cell_type": "code",
   "execution_count": 26,
   "id": "0d989130-326a-412a-8745-b93622dd6244",
   "metadata": {
    "tags": []
   },
   "outputs": [
    {
     "name": "stdout",
     "output_type": "stream",
     "text": [
      "MEAN: 13.48\n",
      "SD: 8.87\n"
     ]
    }
   ],
   "source": [
    "word_counts = [len(word_tokenize(entry['text'], language='german')) for entry in dataset]\n",
    "average_word_count = np.mean(word_counts)\n",
    "std_word_count = np.std(word_counts)\n",
    "\n",
    "print(f\"MEAN: {average_word_count:.2f}\")\n",
    "print(f\"SD: {std_word_count:.2f}\")"
   ]
  }
 ],
 "metadata": {
  "kernelspec": {
   "display_name": "Python 3 (ipykernel)",
   "language": "python",
   "name": "python3"
  },
  "language_info": {
   "codemirror_mode": {
    "name": "ipython",
    "version": 3
   },
   "file_extension": ".py",
   "mimetype": "text/x-python",
   "name": "python",
   "nbconvert_exporter": "python",
   "pygments_lexer": "ipython3",
   "version": "3.11.3"
  }
 },
 "nbformat": 4,
 "nbformat_minor": 5
}
