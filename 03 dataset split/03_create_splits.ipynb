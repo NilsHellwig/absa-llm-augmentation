{
 "cells": [
  {
   "cell_type": "markdown",
   "id": "3bb99927-a103-43f1-83a3-a945c547b342",
   "metadata": {},
   "source": [
    "# Notebook: Split Dataset in folds"
   ]
  },
  {
   "cell_type": "markdown",
   "id": "4e32d2bd-049d-4bf6-9da7-3ef4bf665fef",
   "metadata": {
    "tags": []
   },
   "source": [
    "## Packages"
   ]
  },
  {
   "cell_type": "code",
   "execution_count": 1,
   "id": "399c6d6b-93d8-43c6-bc92-b4777c79d699",
   "metadata": {},
   "outputs": [],
   "source": [
    "from sklearn.model_selection import StratifiedKFold\n",
    "from collections import Counter\n",
    "import numpy as np\n",
    "import random\n",
    "import json"
   ]
  },
  {
   "cell_type": "markdown",
   "id": "6ac519d5-7c23-4fd8-8bac-93b4f1b1f17f",
   "metadata": {
    "tags": []
   },
   "source": [
    "## Parameters"
   ]
  },
  {
   "cell_type": "code",
   "execution_count": 2,
   "id": "54dca12b-2965-4441-b1ce-48a1008a129d",
   "metadata": {},
   "outputs": [],
   "source": [
    "RANDOM_STATE = 43\n",
    "DATASET_PATH = \"dataset_total/filtered_dataset.json\"\n",
    "N_FOLDS = 5"
   ]
  },
  {
   "cell_type": "code",
   "execution_count": 3,
   "id": "44c8a3ab-abd9-4d89-80de-bf16f567c80f",
   "metadata": {},
   "outputs": [],
   "source": [
    "random.seed(RANDOM_STATE)"
   ]
  },
  {
   "cell_type": "code",
   "execution_count": 4,
   "id": "7879681c-8f07-4d13-9630-4637bf46e4ae",
   "metadata": {
    "tags": []
   },
   "outputs": [
    {
     "data": {
      "text/plain": [
       "['SERVICE', 'FOOD', 'GENERAL-IMPRESSION', 'AMBIENCE', 'PRICE']"
      ]
     },
     "execution_count": 4,
     "metadata": {},
     "output_type": "execute_result"
    }
   ],
   "source": [
    "ASPECTS = [\"SERVICE\", \"FOOD\", \"GENERAL-IMPRESSION\", \"AMBIENCE\", \"PRICE\"]\n",
    "POLARITIES = [\"POSITIVE\", \"NEGATIVE\", \"NEUTRAL\"]\n",
    "COMBINATIONS = [aspect for aspect in ASPECTS]\n",
    "COMBINATIONS"
   ]
  },
  {
   "cell_type": "markdown",
   "id": "7d2231fc-6972-4230-ac87-32530d8a1418",
   "metadata": {},
   "source": [
    "## Code"
   ]
  },
  {
   "cell_type": "markdown",
   "id": "ca339cbf-8ebe-4b0f-a0a0-e15a6625ef1d",
   "metadata": {},
   "source": [
    "### Load Data"
   ]
  },
  {
   "cell_type": "code",
   "execution_count": 5,
   "id": "1f7bf898-935f-4957-b6cf-5d80842273ad",
   "metadata": {},
   "outputs": [],
   "source": [
    "with open(DATASET_PATH, 'r', encoding='utf-8') as json_file:\n",
    "    dataset = json.load(json_file)"
   ]
  },
  {
   "cell_type": "code",
   "execution_count": 6,
   "id": "e7c310b6-e028-4e56-b3dc-7f0be647584d",
   "metadata": {
    "tags": []
   },
   "outputs": [],
   "source": [
    "labels_one_hot = []\n",
    "for i in range(len(dataset)):\n",
    "    tags_in_example = list(set([tag[\"label\"] for tag in dataset[i][\"tags\"]]))\n",
    "    #print(tags_in_example)\n",
    "    one_hot_encoded_combination = np.array([1 if tag in tags_in_example else 0 for tag in COMBINATIONS])\n",
    "    #print(one_hot_encoded_combination)\n",
    "    labels_one_hot.append(one_hot_encoded_combination)"
   ]
  },
  {
   "cell_type": "code",
   "execution_count": 7,
   "id": "cda03176-c1fa-45d3-8555-ede7165a934e",
   "metadata": {
    "tags": []
   },
   "outputs": [
    {
     "data": {
      "text/plain": [
       "[array([1, 1, 0, 0, 0]),\n",
       " array([1, 0, 0, 0, 0]),\n",
       " array([1, 0, 0, 1, 0]),\n",
       " array([0, 0, 1, 0, 0]),\n",
       " array([0, 1, 0, 1, 0]),\n",
       " array([0, 0, 1, 0, 0]),\n",
       " array([1, 0, 0, 0, 0]),\n",
       " array([0, 0, 0, 1, 0]),\n",
       " array([1, 1, 0, 0, 0]),\n",
       " array([0, 1, 0, 0, 0]),\n",
       " array([0, 0, 1, 0, 0]),\n",
       " array([0, 0, 0, 0, 1]),\n",
       " array([1, 0, 0, 0, 0]),\n",
       " array([0, 1, 0, 0, 0]),\n",
       " array([0, 0, 1, 0, 0]),\n",
       " array([1, 1, 0, 0, 0]),\n",
       " array([1, 0, 0, 0, 0]),\n",
       " array([1, 0, 0, 1, 0]),\n",
       " array([0, 0, 1, 0, 0]),\n",
       " array([0, 1, 0, 1, 0]),\n",
       " array([0, 0, 1, 0, 0]),\n",
       " array([1, 0, 0, 0, 0]),\n",
       " array([0, 0, 0, 1, 0]),\n",
       " array([1, 1, 0, 0, 0]),\n",
       " array([0, 1, 0, 0, 0]),\n",
       " array([0, 0, 1, 0, 0]),\n",
       " array([0, 0, 0, 0, 1]),\n",
       " array([1, 0, 0, 0, 0]),\n",
       " array([0, 1, 0, 0, 0]),\n",
       " array([0, 0, 1, 0, 0]),\n",
       " array([1, 1, 0, 0, 0]),\n",
       " array([1, 0, 0, 0, 0]),\n",
       " array([1, 0, 0, 1, 0]),\n",
       " array([0, 0, 1, 0, 0]),\n",
       " array([0, 1, 0, 1, 0]),\n",
       " array([0, 0, 1, 0, 0]),\n",
       " array([1, 0, 0, 0, 0]),\n",
       " array([0, 0, 0, 1, 0]),\n",
       " array([1, 1, 0, 0, 0]),\n",
       " array([0, 1, 0, 0, 0])]"
      ]
     },
     "execution_count": 7,
     "metadata": {},
     "output_type": "execute_result"
    }
   ],
   "source": [
    "labels_one_hot[:40]"
   ]
  },
  {
   "cell_type": "code",
   "execution_count": 7,
   "id": "84fed7d7-b4ec-4ea1-a731-4c51edd5c163",
   "metadata": {
    "tags": []
   },
   "outputs": [],
   "source": [
    "unique_combinations = [''.join(map(str, row)) for row in labels_one_hot]\n",
    "string_to_number = {string: i for i, string in enumerate(set(unique_combinations))}\n",
    "labels_as_numbers = [string_to_number[string] for string in unique_combinations]"
   ]
  },
  {
   "cell_type": "code",
   "execution_count": 9,
   "id": "24f11c2b-298f-4687-b4c9-9a34da46cc0f",
   "metadata": {
    "tags": []
   },
   "outputs": [
    {
     "data": {
      "text/plain": [
       "[5, 7, 4, 3, 0, 3, 7, 1, 5, 6, 3, 2, 7, 6, 3, 5, 7, 4, 3, 0]"
      ]
     },
     "execution_count": 9,
     "metadata": {},
     "output_type": "execute_result"
    }
   ],
   "source": [
    "labels_as_numbers[:20]"
   ]
  },
  {
   "cell_type": "markdown",
   "id": "66b7ee3b-6436-4fa4-8418-2d89b4c393c8",
   "metadata": {},
   "source": [
    "### Split"
   ]
  },
  {
   "cell_type": "code",
   "execution_count": 18,
   "id": "353845e6-719a-4a5a-953c-110240a43749",
   "metadata": {
    "tags": []
   },
   "outputs": [],
   "source": [
    "skf = StratifiedKFold(n_splits=N_FOLDS, shuffle=True, random_state=RANDOM_STATE)"
   ]
  },
  {
   "cell_type": "code",
   "execution_count": 19,
   "id": "2b1d81a4-9c8f-4574-8398-d1f2696572ca",
   "metadata": {
    "tags": []
   },
   "outputs": [
    {
     "name": "stdout",
     "output_type": "stream",
     "text": [
      "500 Counter({'SERVICE': 201, 'FOOD': 166, 'GENERAL-IMPRESSION': 164, 'AMBIENCE': 134, 'PRICE': 33})\n",
      "500 Counter({'SERVICE': 200, 'GENERAL-IMPRESSION': 171, 'FOOD': 167, 'AMBIENCE': 132, 'PRICE': 33})\n",
      "500 Counter({'SERVICE': 200, 'FOOD': 168, 'GENERAL-IMPRESSION': 157, 'AMBIENCE': 134, 'PRICE': 33})\n",
      "500 Counter({'SERVICE': 200, 'FOOD': 168, 'GENERAL-IMPRESSION': 165, 'AMBIENCE': 134, 'PRICE': 33})\n",
      "500 Counter({'SERVICE': 200, 'GENERAL-IMPRESSION': 175, 'FOOD': 165, 'AMBIENCE': 134, 'PRICE': 34})\n"
     ]
    }
   ],
   "source": [
    "idx = 0\n",
    "for train_index, test_index in skf.split(dataset, labels_as_numbers):\n",
    "    test_dataset = [dataset[i] for i in test_index]\n",
    "\n",
    "    print(len(test_dataset), Counter([tag[\"label\"] for example in test_dataset for tag in example[\"tags\"]]))\n",
    "    \n",
    "    with open(f\"../07 train classifier/real/split_{idx}.json\", 'w', encoding='utf-8') as split_file:\n",
    "        json.dump(test_dataset, split_file, ensure_ascii=False)\n",
    "        \n",
    "    idx+=1"
   ]
  }
 ],
 "metadata": {
  "kernelspec": {
   "display_name": "Python 3 (ipykernel)",
   "language": "python",
   "name": "python3"
  },
  "language_info": {
   "codemirror_mode": {
    "name": "ipython",
    "version": 3
   },
   "file_extension": ".py",
   "mimetype": "text/x-python",
   "name": "python",
   "nbconvert_exporter": "python",
   "pygments_lexer": "ipython3",
   "version": "3.11.3"
  }
 },
 "nbformat": 4,
 "nbformat_minor": 5
}
