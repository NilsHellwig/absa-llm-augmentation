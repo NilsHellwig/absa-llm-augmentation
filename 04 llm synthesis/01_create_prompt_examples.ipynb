{
 "cells": [
  {
   "cell_type": "markdown",
   "id": "3bb99927-a103-43f1-83a3-a945c547b342",
   "metadata": {},
   "source": [
    "# Notebook: Create Examples for Prompts"
   ]
  },
  {
   "cell_type": "markdown",
   "id": "4e32d2bd-049d-4bf6-9da7-3ef4bf665fef",
   "metadata": {
    "tags": []
   },
   "source": [
    "## Packages"
   ]
  },
  {
   "cell_type": "code",
   "execution_count": 1,
   "id": "399c6d6b-93d8-43c6-bc92-b4777c79d699",
   "metadata": {},
   "outputs": [
    {
     "name": "stderr",
     "output_type": "stream",
     "text": [
      "[nltk_data] Downloading package punkt to\n",
      "[nltk_data]     /Users/nils_hellwig/nltk_data...\n",
      "[nltk_data]   Package punkt is already up-to-date!\n"
     ]
    }
   ],
   "source": [
    "from helper_few_shot_generation import get_examples_for_classes, get_label_ratio_fixed, get_label_ratio_random\n",
    "from helper_synthesis import get_examples_as_text\n",
    "from itertools import cycle, islice\n",
    "import numpy as np\n",
    "import tiktoken\n",
    "import random\n",
    "import json"
   ]
  },
  {
   "cell_type": "markdown",
   "id": "6ac519d5-7c23-4fd8-8bac-93b4f1b1f17f",
   "metadata": {
    "tags": []
   },
   "source": [
    "## Parameters"
   ]
  },
  {
   "cell_type": "code",
   "execution_count": 2,
   "id": "162de018",
   "metadata": {},
   "outputs": [],
   "source": [
    "SEED = 43\n",
    "random.seed(SEED)\n",
    "N_RETRY_SETS = 25"
   ]
  },
  {
   "cell_type": "code",
   "execution_count": 3,
   "id": "7eaae3a2-87e7-4008-b715-f548b8312ea8",
   "metadata": {
    "tags": []
   },
   "outputs": [],
   "source": [
    "# Setup Classes/Polarities for Synthesis\n",
    "CLASSES  = [\"GENERAL-IMPRESSION\", \"FOOD\", \"SERVICE\", \"AMBIENCE\", \"PRICE\"]\n",
    "POLARITIES = [\"POSITIVE\", \"NEUTRAL\", \"NEGATIVE\"]\n",
    "COMBINATIONS = [(aspect, polarity) for polarity in POLARITIES for aspect in CLASSES]"
   ]
  },
  {
   "cell_type": "markdown",
   "id": "7d2231fc-6972-4230-ac87-32530d8a1418",
   "metadata": {},
   "source": [
    "## Code"
   ]
  },
  {
   "cell_type": "markdown",
   "id": "7b6c613c-b693-4072-b1da-a79fc80f3e2b",
   "metadata": {},
   "source": [
    "### Create Function to get Labels"
   ]
  },
  {
   "cell_type": "code",
   "execution_count": 4,
   "id": "23111433-11b5-416e-b16e-2d28f0174428",
   "metadata": {
    "tags": []
   },
   "outputs": [],
   "source": [
    "def get_n_labels(n_labels, label_ratio):\n",
    "    if n_labels != sum(label_ratio.values()):\n",
    "        raise Exception(\"n_labels != sum(label_ratio.values())\")\n",
    "\n",
    "    n_tuples = 0\n",
    "    for key, value in label_ratio.items():\n",
    "        n_tuples += int(key) * value\n",
    "\n",
    "    aspect_polarity_tuples_list = list(islice(cycle(COMBINATIONS), n_tuples))\n",
    "    random.shuffle(aspect_polarity_tuples_list)\n",
    "    tuples_list = []\n",
    "    idx_start = 0\n",
    "    for key, value in label_ratio.items():\n",
    "        tuple_list_n_aspect = aspect_polarity_tuples_list[idx_start: idx_start + value*int(\n",
    "            key)]\n",
    "\n",
    "        k = 0\n",
    "        for i in range(int(len(tuple_list_n_aspect)/int(key))):\n",
    "            tuples_list.append(tuple_list_n_aspect[k:k+int(key)])\n",
    "            k += int(key)\n",
    "\n",
    "        idx_start += int(key) * int(value)\n",
    "    random.shuffle(tuples_list)\n",
    "    return tuples_list"
   ]
  },
  {
   "cell_type": "markdown",
   "id": "8a51dee5",
   "metadata": {},
   "source": [
    "### Code to Count Prompt Size"
   ]
  },
  {
   "cell_type": "code",
   "execution_count": 5,
   "id": "cbca62c2",
   "metadata": {},
   "outputs": [],
   "source": [
    "with open('../prompt_template.txt', 'r') as file:\n",
    "    PROMPT_TEMPLATE = file.read()\n",
    "\n",
    "def num_tokens_from_string(string: str) -> int:\n",
    "    # I will use the gpt tokenizer\n",
    "    encoding = tiktoken.encoding_for_model(\"gpt-3.5-turbo\")\n",
    "    num_tokens = len(encoding.encode(string))\n",
    "    return num_tokens\n",
    "\n",
    "def check_prompt_size(dataset, examples, label):\n",
    "    few_shot_examples = [entry for entry in dataset if entry['id'] in examples]\n",
    "\n",
    "    # Build Prompt\n",
    "    examples_text = get_examples_as_text(few_shot_examples)\n",
    "    prompt_footer = f'\\nLabel:{str(label)}\\nPrediction:'\n",
    "    prompt = PROMPT_TEMPLATE + examples_text + prompt_footer\n",
    "    return num_tokens_from_string(prompt)"
   ]
  },
  {
   "cell_type": "markdown",
   "id": "452f0b6d-bf56-494b-b6ca-bc5d101b7b30",
   "metadata": {},
   "source": [
    "### Create Fixed Examples"
   ]
  },
  {
   "cell_type": "markdown",
   "id": "aa2f78a6-6b38-484b-81d2-9f1dd6c73d0e",
   "metadata": {},
   "source": [
    "For the condition where I always use the same 25 Few-Shot Examples I will select random Examples"
   ]
  },
  {
   "cell_type": "code",
   "execution_count": 6,
   "id": "413072e9",
   "metadata": {},
   "outputs": [],
   "source": [
    "prompt_sizes = []"
   ]
  },
  {
   "cell_type": "code",
   "execution_count": 7,
   "id": "a96b864e-630d-44b8-869c-acae7c6287b1",
   "metadata": {
    "tags": []
   },
   "outputs": [],
   "source": [
    "condition_size = [490, 500, 1000]\n",
    "few_shot_examples_fixed = {}\n",
    "\n",
    "for split_id in range(5):\n",
    "    # Add index for split\n",
    "    few_shot_examples_fixed[f\"split_{split_id}\"] = {}\n",
    "\n",
    "    # Load real examples\n",
    "    with open(f\"../07 train classifier/real/split_{split_id}.json\", 'r', encoding='utf-8') as json_file:\n",
    "        dataset = json.load(json_file)\n",
    "\n",
    "    # Define fixed labels for split\n",
    "    labels = []\n",
    "    for size in condition_size:\n",
    "        label_ratio = get_label_ratio_fixed(size)\n",
    "        labels += get_n_labels(size, label_ratio)\n",
    "\n",
    "    few_shot_examples_fixed[f\"split_{split_id}\"][\"labels_for_prediction\"] = labels\n",
    "\n",
    "    # Get 25 random examples\n",
    "    fixed_examples = get_examples_for_classes(CLASSES, dataset, random, 5)\n",
    "\n",
    "    # Save 25 random examples\n",
    "    with open(f\"../07 train classifier/real_fixed/split_{split_id}.json\", 'w') as json_file:\n",
    "        json.dump([example for example in dataset if example[\"id\"] in fixed_examples], json_file)\n",
    "\n",
    "    few_shot_examples_fixed[f\"split_{split_id}\"][\"few_shot_ids\"] = {}\n",
    "    for i in range(sum(condition_size)):\n",
    "        few_shot_examples_fixed[f\"split_{split_id}\"][\"few_shot_ids\"][i] = {}\n",
    "\n",
    "        for k in range(N_RETRY_SETS):\n",
    "            shuffled_fixed_examples = fixed_examples.copy()\n",
    "            random.shuffle(shuffled_fixed_examples)\n",
    "            few_shot_examples_fixed[f\"split_{split_id}\"][\"few_shot_ids\"][i][k] = shuffled_fixed_examples\n",
    "\n",
    "            # Calculate prompt size\n",
    "            prompt_sizes.append(check_prompt_size(\n",
    "                dataset, shuffled_fixed_examples, labels[i]))"
   ]
  },
  {
   "cell_type": "code",
   "execution_count": 8,
   "id": "f6160dea",
   "metadata": {},
   "outputs": [
    {
     "name": "stdout",
     "output_type": "stream",
     "text": [
      "Average Fixed Examples Prompt Size | avg: 1765.3859296482412 | 1956\n"
     ]
    }
   ],
   "source": [
    "print(\"Average Fixed Examples Prompt Size | avg: \" + str(np.mean(prompt_sizes)) + \" | \" + str(str(np.max(prompt_sizes))))"
   ]
  },
  {
   "cell_type": "code",
   "execution_count": 9,
   "id": "fbaaa582",
   "metadata": {},
   "outputs": [
    {
     "data": {
      "text/plain": [
       "(1990, 1990)"
      ]
     },
     "execution_count": 9,
     "metadata": {},
     "output_type": "execute_result"
    }
   ],
   "source": [
    "len(few_shot_examples_fixed[\"split_0\"][\"few_shot_ids\"]), len(few_shot_examples_fixed[\"split_0\"][\"labels_for_prediction\"])"
   ]
  },
  {
   "cell_type": "code",
   "execution_count": 10,
   "id": "b3d76b8a",
   "metadata": {},
   "outputs": [],
   "source": [
    "with open(\"few_shot_examples/few_shot_examples_fixed.json\", 'w') as json_file:\n",
    "    json.dump(few_shot_examples_fixed, json_file)"
   ]
  },
  {
   "cell_type": "markdown",
   "id": "dea6f942-107e-4f86-b15f-b62413d94f7c",
   "metadata": {
    "tags": []
   },
   "source": [
    "### Create Random Examples"
   ]
  },
  {
   "cell_type": "code",
   "execution_count": 11,
   "id": "842e620c",
   "metadata": {},
   "outputs": [],
   "source": [
    "prompt_sizes = []"
   ]
  },
  {
   "cell_type": "code",
   "execution_count": 12,
   "id": "87caf6a2-c02f-41b4-898e-49e44925dea2",
   "metadata": {
    "tags": []
   },
   "outputs": [
    {
     "name": "stdout",
     "output_type": "stream",
     "text": [
      "0 0\n",
      "0 500\n",
      "0 1000\n",
      "1 0\n",
      "1 500\n",
      "1 1000\n",
      "2 0\n",
      "2 500\n",
      "2 1000\n",
      "3 0\n",
      "3 500\n",
      "3 1000\n",
      "4 0\n",
      "4 500\n",
      "4 1000\n"
     ]
    }
   ],
   "source": [
    "condition_size = [500, 500, 500]\n",
    "few_shot_examples_random = {}\n",
    "\n",
    "for split_id in range(5):\n",
    "    # Add index for split\n",
    "    few_shot_examples_random[f\"split_{split_id}\"] = {}\n",
    "\n",
    "    # Load real examples\n",
    "    with open(f\"../07 train classifier/real/split_{split_id}.json\", 'r', encoding='utf-8') as json_file:\n",
    "        dataset = json.load(json_file)\n",
    "\n",
    "    # Define fixed labels for split\n",
    "    labels = []\n",
    "    for size in condition_size:\n",
    "        label_ratio = get_label_ratio_random(size, dataset)\n",
    "        labels += get_n_labels(size, label_ratio)\n",
    "    few_shot_examples_random[f\"split_{split_id}\"][\"labels_for_prediction\"] = labels\n",
    "\n",
    "    # Add Shuffles of fixed examples x 25 -> In case synthesis doesn't work\n",
    "    few_shot_examples_random[f\"split_{split_id}\"][\"few_shot_ids\"] = {}\n",
    "    for i in range(sum(condition_size)):\n",
    "        if i % 500 == 0:\n",
    "            print(split_id, i)\n",
    "        few_shot_examples_random[f\"split_{split_id}\"][\"few_shot_ids\"][i] = {}\n",
    "        for k in range(N_RETRY_SETS):\n",
    "            random_examples = get_examples_for_classes(CLASSES, dataset, random, 5)\n",
    "            few_shot_examples_random[f\"split_{split_id}\"][\"few_shot_ids\"][i][k] = random_examples\n",
    "            # Calculate prompt size\n",
    "            prompt_sizes.append(check_prompt_size(\n",
    "                dataset, random_examples, labels[i]))"
   ]
  },
  {
   "cell_type": "code",
   "execution_count": 13,
   "id": "586961ca",
   "metadata": {},
   "outputs": [
    {
     "name": "stdout",
     "output_type": "stream",
     "text": [
      "Average Fixed Examples Prompt Size | avg: 1808.934544 | 2709\n"
     ]
    }
   ],
   "source": [
    "print(\"Average Fixed Examples Prompt Size | avg: \" + str(np.mean(prompt_sizes)) + \" | \" + str(str(np.max(prompt_sizes))))"
   ]
  },
  {
   "cell_type": "code",
   "execution_count": 14,
   "id": "13f7dd67",
   "metadata": {},
   "outputs": [
    {
     "data": {
      "text/plain": [
       "(1500, 1500)"
      ]
     },
     "execution_count": 14,
     "metadata": {},
     "output_type": "execute_result"
    }
   ],
   "source": [
    "len(few_shot_examples_random[\"split_0\"][\"few_shot_ids\"]), len(few_shot_examples_random[\"split_0\"][\"labels_for_prediction\"])"
   ]
  },
  {
   "cell_type": "code",
   "execution_count": 15,
   "id": "b4a21830",
   "metadata": {},
   "outputs": [],
   "source": [
    "with open(\"few_shot_examples/few_shot_examples_random.json\", 'w') as json_file:\n",
    "    json.dump(few_shot_examples_random, json_file)"
   ]
  },
  {
   "cell_type": "code",
   "execution_count": 16,
   "id": "39007d68",
   "metadata": {},
   "outputs": [
    {
     "data": {
      "text/plain": [
       "[('GENERAL-IMPRESSION', 'POSITIVE')]"
      ]
     },
     "execution_count": 16,
     "metadata": {},
     "output_type": "execute_result"
    }
   ],
   "source": [
    "few_shot_examples_random[\"split_0\"][\"labels_for_prediction\"][0]"
   ]
  }
 ],
 "metadata": {
  "kernelspec": {
   "display_name": "Python 3 (ipykernel)",
   "language": "python",
   "name": "python3"
  },
  "language_info": {
   "codemirror_mode": {
    "name": "ipython",
    "version": 3
   },
   "file_extension": ".py",
   "mimetype": "text/x-python",
   "name": "python",
   "nbconvert_exporter": "python",
   "pygments_lexer": "ipython3",
   "version": "3.11.3"
  }
 },
 "nbformat": 4,
 "nbformat_minor": 5
}
