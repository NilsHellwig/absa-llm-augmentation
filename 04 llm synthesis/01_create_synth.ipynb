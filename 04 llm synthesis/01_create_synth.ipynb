{
 "cells": [
  {
   "cell_type": "markdown",
   "id": "3bb99927-a103-43f1-83a3-a945c547b342",
   "metadata": {},
   "source": [
    "# Notebook: Split Dataset in folds"
   ]
  },
  {
   "cell_type": "markdown",
   "id": "4e32d2bd-049d-4bf6-9da7-3ef4bf665fef",
   "metadata": {
    "tags": []
   },
   "source": [
    "## Packages"
   ]
  },
  {
   "cell_type": "code",
   "execution_count": 1,
   "id": "399c6d6b-93d8-43c6-bc92-b4777c79d699",
   "metadata": {},
   "outputs": [
    {
     "name": "stderr",
     "output_type": "stream",
     "text": [
      "[nltk_data] Downloading package punkt to\n",
      "[nltk_data]     /Users/nils_hellwig/nltk_data...\n",
      "[nltk_data]   Package punkt is already up-to-date!\n"
     ]
    }
   ],
   "source": [
    "from helper import divide_equally, get_examples_for_aspects_in_label, get_examples_as_text, xml_to_json, is_valid_xml, check_valid_aspect_xml, count_sentences_in_text, german_language_detected\n",
    "from IPython.display import clear_output\n",
    "from itertools import cycle, islice\n",
    "from dotenv import load_dotenv\n",
    "from llama_cpp import Llama\n",
    "import numpy as np\n",
    "import itertools\n",
    "import warnings\n",
    "import random\n",
    "import openai\n",
    "import json\n",
    "import uuid\n",
    "import os"
   ]
  },
  {
   "cell_type": "code",
   "execution_count": 2,
   "id": "ba178e1d-cb71-4592-bc13-4117f199da2e",
   "metadata": {
    "tags": []
   },
   "outputs": [
    {
     "data": {
      "text/plain": [
       "True"
      ]
     },
     "execution_count": 2,
     "metadata": {},
     "output_type": "execute_result"
    }
   ],
   "source": [
    "load_dotenv()"
   ]
  },
  {
   "cell_type": "markdown",
   "id": "00fcaa69-41c0-4e90-a522-f4d3915d16fe",
   "metadata": {},
   "source": [
    "## Settings"
   ]
  },
  {
   "cell_type": "code",
   "execution_count": 3,
   "id": "83965861-d5ac-4d59-a373-a26ca8743c57",
   "metadata": {
    "tags": []
   },
   "outputs": [],
   "source": [
    "SPLIT = 4\n",
    "MODEL_ID = 0\n",
    "FEW_SHOTS = \"fixed\" # \"fixed\" or \"random\""
   ]
  },
  {
   "cell_type": "markdown",
   "id": "6ac519d5-7c23-4fd8-8bac-93b4f1b1f17f",
   "metadata": {
    "tags": []
   },
   "source": [
    "## Parameters"
   ]
  },
  {
   "cell_type": "code",
   "execution_count": 4,
   "id": "54dca12b-2965-4441-b1ce-48a1008a129d",
   "metadata": {},
   "outputs": [],
   "source": [
    "DATASET_PATH = f'../03 dataset split/real/real_{SPLIT}.json'\n",
    "MAX_TOKENS = 250\n",
    "CONTEXT_SIZE = 4096\n",
    "TEMPERATURE = 0.7\n",
    "SEED = int(str(43) + str(SPLIT) + str(MODEL_ID))"
   ]
  },
  {
   "cell_type": "code",
   "execution_count": 5,
   "id": "7eaae3a2-87e7-4008-b715-f548b8312ea8",
   "metadata": {
    "tags": []
   },
   "outputs": [],
   "source": [
    "# Setup Classes/Polarities for Synthesis\n",
    "CLASSES  = [\"GENERAL-IMPRESSION\", \"FOOD\", \"SERVICE\", \"AMBIENCE\", \"PRICE\"]\n",
    "POLARITIES = [\"POSITIVE\", \"NEUTRAL\", \"NEGATIVE\"]\n",
    "COMBINATIONS = [(aspect, polarity) for polarity in POLARITIES for aspect in CLASSES]"
   ]
  },
  {
   "cell_type": "code",
   "execution_count": 6,
   "id": "9aef1ca2-4279-4d15-9157-54fa7093b95b",
   "metadata": {
    "tags": []
   },
   "outputs": [],
   "source": [
    "STOP_CRITERIA = [\"Label:\", \"\\n\"]"
   ]
  },
  {
   "cell_type": "code",
   "execution_count": 7,
   "id": "2bbf5c9b-7f77-4466-99b8-fa1bc7fa51aa",
   "metadata": {
    "tags": []
   },
   "outputs": [],
   "source": [
    "random.seed(SEED)"
   ]
  },
  {
   "cell_type": "code",
   "execution_count": 8,
   "id": "243bd623-87d1-4448-9a42-600c9158dbeb",
   "metadata": {},
   "outputs": [],
   "source": [
    "MODELS = [\"Llama13B\", \"Llama70B\", \"Falcon40B\", \"GPT-3\"]\n",
    "# 175B, 70B und 40B\n",
    "MODEL_PATHS = {\"Llama13B\": \"llama-2-13b.Q4_0.gguf\", \"Llama70B\": \"llama-2-70b.Q4_0.gguf\", \"Falcon40B\": \"falcon-40b-Q4_K_S.gguf\"}\n",
    "MODEL_NAME = MODELS[MODEL_ID]"
   ]
  },
  {
   "cell_type": "code",
   "execution_count": 9,
   "id": "a2424728-2345-46c6-b27b-116d203f869d",
   "metadata": {},
   "outputs": [],
   "source": [
    "SYNTH_PATH = f\"synth/{MODEL_NAME}/{FEW_SHOTS}/split_{SPLIT}.json\""
   ]
  },
  {
   "cell_type": "markdown",
   "id": "7d2231fc-6972-4230-ac87-32530d8a1418",
   "metadata": {},
   "source": [
    "## Code"
   ]
  },
  {
   "cell_type": "markdown",
   "id": "2ee9da56-2f69-40ec-8bb2-d493f2c50f84",
   "metadata": {
    "tags": []
   },
   "source": [
    "### Create Labels for Synthesis"
   ]
  },
  {
   "cell_type": "code",
   "execution_count": 10,
   "id": "7ad1cb2f-cdd2-40f3-9f1a-2d8c4ccf86ff",
   "metadata": {
    "tags": []
   },
   "outputs": [],
   "source": [
    "label_ratio = {\"1\": int(0.1 * 500), \"2\": int(0.4 * 500), \"3\": int(0.5 * 500)}"
   ]
  },
  {
   "cell_type": "code",
   "execution_count": 11,
   "id": "d45ce04f-2381-4f19-8b56-6a084fb275d7",
   "metadata": {
    "tags": []
   },
   "outputs": [
    {
     "data": {
      "text/plain": [
       "{'1': 50, '2': 200, '3': 250}"
      ]
     },
     "execution_count": 11,
     "metadata": {},
     "output_type": "execute_result"
    }
   ],
   "source": [
    "label_ratio"
   ]
  },
  {
   "cell_type": "markdown",
   "id": "fba0699e-353b-4c0f-a8e2-719b510da291",
   "metadata": {},
   "source": [
    "### Calculate how many Aspect-Polarity Pairs should be used"
   ]
  },
  {
   "cell_type": "code",
   "execution_count": 12,
   "id": "b43ab0b6-a2bd-447f-9fbc-d3feefa89855",
   "metadata": {
    "tags": []
   },
   "outputs": [
    {
     "data": {
      "text/plain": [
       "1200"
      ]
     },
     "execution_count": 12,
     "metadata": {},
     "output_type": "execute_result"
    }
   ],
   "source": [
    "n_tuples = 0\n",
    "for key, value in label_ratio.items():\n",
    "    n_tuples += int(key) * value\n",
    "n_tuples"
   ]
  },
  {
   "cell_type": "markdown",
   "id": "7b6c613c-b693-4072-b1da-a79fc80f3e2b",
   "metadata": {},
   "source": [
    "### Create List of balanced aspect-polarity tuples"
   ]
  },
  {
   "cell_type": "code",
   "execution_count": 13,
   "id": "23111433-11b5-416e-b16e-2d28f0174428",
   "metadata": {
    "tags": []
   },
   "outputs": [
    {
     "data": {
      "text/plain": [
       "2000"
      ]
     },
     "execution_count": 13,
     "metadata": {},
     "output_type": "execute_result"
    }
   ],
   "source": [
    "def get_500_labels():\n",
    "    aspect_polarity_tuples_list = list(islice(cycle(COMBINATIONS), n_tuples))\n",
    "    random.shuffle(aspect_polarity_tuples_list)\n",
    "    tuples_list = []\n",
    "    idx_start = 0\n",
    "    for key, value in label_ratio.items():\n",
    "        tuple_list_n_aspect = aspect_polarity_tuples_list[idx_start: idx_start + value*int(key)]\n",
    "\n",
    "        k = 0\n",
    "        for i in range(int(len(tuple_list_n_aspect)/int(key))):\n",
    "            tuples_list.append(tuple_list_n_aspect[k:k+int(key)])\n",
    "            k += int(key)\n",
    "            \n",
    "        idx_start += int(key) * int(value)\n",
    "    random.shuffle(tuples_list)\n",
    "    return tuples_list\n",
    "\n",
    "labels = get_500_labels() + get_500_labels() + get_500_labels() + get_500_labels()\n",
    "len(labels)"
   ]
  },
  {
   "cell_type": "markdown",
   "id": "4b7c44e0-b2ad-4e98-b48a-5c821b68b842",
   "metadata": {
    "tags": []
   },
   "source": [
    "### Setup Prompt Template"
   ]
  },
  {
   "cell_type": "code",
   "execution_count": 14,
   "id": "ff2483b2-621a-4f0e-86f3-a0d2ce921ea0",
   "metadata": {
    "tags": []
   },
   "outputs": [],
   "source": [
    "with open('../prompt_template.txt', 'r') as file:\n",
    "    PROMPT_TEMPLATE = file.read()"
   ]
  },
  {
   "cell_type": "markdown",
   "id": "d27e2452-ebd5-47e4-8b9a-bdd011ea139c",
   "metadata": {},
   "source": [
    "### Load Split"
   ]
  },
  {
   "cell_type": "code",
   "execution_count": 15,
   "id": "817d57c6-f670-446f-9014-706bf10ec4d3",
   "metadata": {
    "tags": []
   },
   "outputs": [],
   "source": [
    "with open(DATASET_PATH, 'r', encoding='utf-8') as json_file:\n",
    "    dataset = json.load(json_file)"
   ]
  },
  {
   "cell_type": "markdown",
   "id": "040660c9-c758-4f82-82bc-17883d92f7f3",
   "metadata": {},
   "source": [
    "### Setup Model"
   ]
  },
  {
   "cell_type": "code",
   "execution_count": 16,
   "id": "194f288c-533a-4776-aee8-91556516cd81",
   "metadata": {
    "tags": []
   },
   "outputs": [],
   "source": [
    "if MODEL_NAME == \"Llama70B\":\n",
    "    llm = Llama(model_path=MODEL_PATHS[MODEL_NAME], seed=SEED, n_gpu_layers=1, n_ctx=CONTEXT_SIZE, verbose=False, n_gqa=8)\n",
    "    clear_output(wait=False)\n",
    "    def llm_model(text):\n",
    "        return llm(prompt, max_tokens=MAX_TOKENS, stop=STOP_CRITERIA, echo=True, top_p=1, temperature=TEMPERATURE)[\"choices\"][0][\"text\"][len(text):]\n",
    "    \n",
    "if MODEL_NAME == \"Llama13B\" or MODEL_NAME == \"Falcon40B\":\n",
    "    llm = Llama(model_path=MODEL_PATHS[MODEL_NAME], seed=SEED, n_gpu_layers=1, n_ctx=CONTEXT_SIZE, verbose=False)\n",
    "    clear_output(wait=False)\n",
    "    def llm_model(text):\n",
    "        return llm(prompt, max_tokens=MAX_TOKENS, stop=STOP_CRITERIA, echo=True, top_p=1, temperature=TEMPERATURE)[\"choices\"][0][\"text\"][len(text):]"
   ]
  },
  {
   "cell_type": "code",
   "execution_count": 17,
   "id": "34d4e54d-0533-4d64-8a69-7383169293e3",
   "metadata": {
    "tags": []
   },
   "outputs": [],
   "source": [
    "if MODEL_NAME == \"GPT-3\":\n",
    "    openai.api_key = os.getenv(\"OPENAI_API_KEY\")\n",
    "    def llm_model(text):\n",
    "        response = openai.ChatCompletion.create(\n",
    "           model=\"gpt-3.5-turbo\",\n",
    "           messages=[\n",
    "              {\"role\": \"user\", \"content\": text}\n",
    "           ],\n",
    "           max_tokens=MAX_TOKENS,  \n",
    "           temperature=TEMPERATURE, \n",
    "           stop=STOP_CRITERIA\n",
    "        )\n",
    "        return response.choices[0].message.content.strip()"
   ]
  },
  {
   "cell_type": "markdown",
   "id": "452f0b6d-bf56-494b-b6ca-bc5d101b7b30",
   "metadata": {},
   "source": [
    "### Create Fixed Examples"
   ]
  },
  {
   "cell_type": "markdown",
   "id": "aa2f78a6-6b38-484b-81d2-9f1dd6c73d0e",
   "metadata": {},
   "source": [
    "For the condition where I always use the same 10 Few-Shot Examples I will select random Examples"
   ]
  },
  {
   "cell_type": "code",
   "execution_count": 18,
   "id": "a96b864e-630d-44b8-869c-acae7c6287b1",
   "metadata": {
    "tags": []
   },
   "outputs": [],
   "source": [
    "if FEW_SHOTS == \"fixed\":\n",
    "    fixed_examples = get_examples_for_aspects_in_label(CLASSES, dataset, random, 2)"
   ]
  },
  {
   "cell_type": "markdown",
   "id": "dea6f942-107e-4f86-b15f-b62413d94f7c",
   "metadata": {
    "tags": []
   },
   "source": [
    "### Create Synthetic Samples"
   ]
  },
  {
   "cell_type": "code",
   "execution_count": 19,
   "id": "6cf3ee06-3bfa-4366-b8ba-6fdfec400a44",
   "metadata": {},
   "outputs": [],
   "source": [
    "synth_dataset = []"
   ]
  },
  {
   "cell_type": "code",
   "execution_count": 20,
   "id": "aeac34c6-4db4-4224-be37-7fe193d4797d",
   "metadata": {},
   "outputs": [],
   "source": [
    "idx = 0"
   ]
  },
  {
   "cell_type": "code",
   "execution_count": 21,
   "id": "b6fa3658-fbe2-4856-bce1-38d3dea48295",
   "metadata": {
    "tags": []
   },
   "outputs": [
    {
     "name": "stdout",
     "output_type": "stream",
     "text": [
      "current index: 0, n_retry: 0, text: Viel zu teuer für die Mahlzeiten!<aspect-term aspect=\"GENERAL-IMPRESSION\" polarity=\"NEGATIVE\">Schönes Umfeld</aspect-term> und <aspect-term aspect=\"GENERAL-IMPRESSION\" polarity=\"POSITIVE\">Freundliches Personal</aspect-term>.\n",
      "current index: 1, n_retry: 0, text: Nun ja, wer dafür bezahlt, kann auch so was haben.\n",
      "current index: 2, n_retry: 0, text: <aspect-term aspect=\"FOOD\" polarity=\"POSITIVE\">Burger</aspect-term> gut, <aspect-term aspect=\"PRISE\" polarity=\"NEGATIVE\">Preis</aspect-term> teuer, <aspect-term aspect=\"FOOD\" polarity=\"NEUTRAL\">Sauce</aspect-term> auch nicht so fantastisch.\n",
      "current index: 2, n_retry: 1, text: Mit <aspect-term aspect=\"FOOD\" polarity=\"POSITIVE\">Sepp</aspect-term> und dem <aspect-term aspect=\"PRICE\" polarity=\"NEGATIVE\">Preis</aspect-term> habe ich mich nicht beeindruckt, sondern eher enttäuscht gefühlt.\n",
      "current index: 3, n_retry: 0, text: Das Essen war sehr sauber und frisch.\n",
      "current index: 4, n_retry: 0, text: Kurze Wartezeit, aber wertvolle <aspect-term aspect=\"PRICE\" polarity=\"POSITIVE\">Tischreservierung</aspect-term> mit einem <aspect-term aspect=\"AMBIENCE\" polarity=\"POSITIVE\">Lokal</aspect-term>-Einblick im Tageslauf.\n"
     ]
    }
   ],
   "source": [
    "for label in labels[:5]:\n",
    "    \n",
    "    valid_example = False\n",
    "    invalid_xml_schema = 0\n",
    "    invalid_xml_tags = 0\n",
    "    aspect_polarity_in_text_but_not_in_label = 0\n",
    "    more_than_one_sentences = 0\n",
    "    no_german_language = 0\n",
    "    \n",
    "    n_retry = 0\n",
    "    while valid_example == False:\n",
    "        unique_aspects = [aspect for aspect, _ in label if label.count((aspect, _)) == 1]\n",
    "    \n",
    "        # get 2 random examples for each aspect category. for \n",
    "        if FEW_SHOTS == \"fixed\":\n",
    "            ids_examples_for_aspects = fixed_examples\n",
    "            additional_examples = []\n",
    "        else:\n",
    "            ids_examples_for_aspects = get_examples_for_aspects_in_label(unique_aspects, dataset, random, 2)\n",
    "            additional_examples = [entry for entry in dataset if entry['id'] not in ids_examples_for_aspects]\n",
    "            additional_examples = random.sample(additional_examples, 10-len(ids_examples_for_aspects))\n",
    "\n",
    "        examples = additional_examples + [entry for entry in dataset if entry['id'] in ids_examples_for_aspects]\n",
    "        random.shuffle(examples)\n",
    "        examples_text = get_examples_as_text(examples)\n",
    "    \n",
    "        prompt_footer = f'\\nLabel:{str(label)}\\nPrediction:'\n",
    "        prompt = PROMPT_TEMPLATE + examples_text + prompt_footer\n",
    "    \n",
    "        prediction = llm_model(prompt)\n",
    "        \n",
    "        if is_valid_xml(f'<input>{prediction}</input>') == False:\n",
    "            invalid_xml_schema += 1\n",
    "        else:\n",
    "            if check_valid_aspect_xml(f'<input>{prediction}</input>') == False:\n",
    "                invalid_xml_tags += 1\n",
    "            else: \n",
    "                prediction_as_json = xml_to_json(prediction, label, MODEL_NAME, SPLIT)\n",
    "                if prediction_as_json == \"not-in-label\":\n",
    "                    aspect_polarity_in_text_but_not_in_label += 1\n",
    "                else: \n",
    "                    if count_sentences_in_text(prediction_as_json[\"text\"]) > 1:\n",
    "                        more_than_one_sentences += 1\n",
    "                    else:\n",
    "                        if german_language_detected(prediction_as_json[\"text\"]) == False:\n",
    "                            no_german_language += 1\n",
    "                        else:\n",
    "                            valid_example = True\n",
    "        print(f\"current index: {idx}, n_retry: {n_retry}, text: {prediction}\")\n",
    "        n_retry += 1\n",
    "    \n",
    "    prediction_as_json[\"llm_label\"] = label\n",
    "    prediction_as_json[\"llm_examples\"] = examples\n",
    "    prediction_as_json[\"llm_invalid_xml_schema\"] = invalid_xml_schema\n",
    "    prediction_as_json[\"llm_invalid_xml_tags\"] = invalid_xml_tags\n",
    "    prediction_as_json[\"llm_aspect_polarity_in_text_but_not_in_label\"] = aspect_polarity_in_text_but_not_in_label\n",
    "    prediction_as_json[\"llm_more_than_one_sentences\"] = more_than_one_sentences\n",
    "    prediction_as_json[\"llm_no_german_language\"] = no_german_language\n",
    "    \n",
    "    synth_dataset.append(prediction_as_json)\n",
    "    idx+= 1"
   ]
  },
  {
   "cell_type": "code",
   "execution_count": 22,
   "id": "bbb55592-4e15-4e4e-98b0-ed3346ec21af",
   "metadata": {
    "tags": []
   },
   "outputs": [],
   "source": [
    "os.makedirs(os.path.dirname(SYNTH_PATH), exist_ok=True)"
   ]
  },
  {
   "cell_type": "code",
   "execution_count": 23,
   "id": "87caf6a2-c02f-41b4-898e-49e44925dea2",
   "metadata": {
    "tags": []
   },
   "outputs": [],
   "source": [
    "with open(SYNTH_PATH, \"w\") as outfile:\n",
    "    json.dump(synth_dataset, outfile)"
   ]
  }
 ],
 "metadata": {
  "kernelspec": {
   "display_name": "Python 3 (ipykernel)",
   "language": "python",
   "name": "python3"
  },
  "language_info": {
   "codemirror_mode": {
    "name": "ipython",
    "version": 3
   },
   "file_extension": ".py",
   "mimetype": "text/x-python",
   "name": "python",
   "nbconvert_exporter": "python",
   "pygments_lexer": "ipython3",
   "version": "3.11.3"
  }
 },
 "nbformat": 4,
 "nbformat_minor": 5
}
