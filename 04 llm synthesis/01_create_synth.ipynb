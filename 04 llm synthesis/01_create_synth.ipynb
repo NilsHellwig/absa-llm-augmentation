{
 "cells": [
  {
   "cell_type": "markdown",
   "id": "3bb99927-a103-43f1-83a3-a945c547b342",
   "metadata": {},
   "source": [
    "# Notebook: Split Dataset in folds"
   ]
  },
  {
   "cell_type": "markdown",
   "id": "4e32d2bd-049d-4bf6-9da7-3ef4bf665fef",
   "metadata": {
    "tags": []
   },
   "source": [
    "## Packages"
   ]
  },
  {
   "cell_type": "code",
   "execution_count": 1,
   "id": "399c6d6b-93d8-43c6-bc92-b4777c79d699",
   "metadata": {},
   "outputs": [
    {
     "name": "stderr",
     "output_type": "stream",
     "text": [
      "[nltk_data] Downloading package punkt to\n",
      "[nltk_data]     /Users/nils_hellwig/nltk_data...\n",
      "[nltk_data]   Package punkt is already up-to-date!\n"
     ]
    }
   ],
   "source": [
    "from helper import divide_equally, get_examples_for_aspects_in_label, get_examples_as_text, xml_to_json, is_valid_xml, check_valid_aspect_xml, count_sentences_in_text\n",
    "from IPython.display import clear_output\n",
    "from llama_cpp import Llama\n",
    "import numpy as np\n",
    "import itertools\n",
    "import warnings\n",
    "import random\n",
    "import json\n",
    "import uuid\n",
    "import os"
   ]
  },
  {
   "cell_type": "markdown",
   "id": "00fcaa69-41c0-4e90-a522-f4d3915d16fe",
   "metadata": {},
   "source": [
    "## Settings"
   ]
  },
  {
   "cell_type": "code",
   "execution_count": 2,
   "id": "60e590fd-2eaa-426a-a79f-30d148fb71d3",
   "metadata": {
    "tags": []
   },
   "outputs": [],
   "source": [
    "SPLIT = 0\n",
    "\n",
    "# Select Model for Synthesis\n",
    "MODEL_ID = 0\n",
    "\n",
    "# Number of Examples to be generated with the LLM\n",
    "N_SYNTH = 500\n",
    "\n",
    "# Setup Classes/Polarities for Synthesis\n",
    "CLASSES  = [\"GENERAL-IMPRESSION\", \"FOOD\", \"SERVICE\", \"AMBIENCE\", \"PRICE\"]\n",
    "POLARITY = [\"POSITIVE\", \"NEUTRAL\", \"NEGATIVE\"]"
   ]
  },
  {
   "cell_type": "markdown",
   "id": "6ac519d5-7c23-4fd8-8bac-93b4f1b1f17f",
   "metadata": {
    "tags": []
   },
   "source": [
    "## Parameters"
   ]
  },
  {
   "cell_type": "code",
   "execution_count": 3,
   "id": "54dca12b-2965-4441-b1ce-48a1008a129d",
   "metadata": {},
   "outputs": [],
   "source": [
    "DATASET_PATH = f'../03 dataset split/real/real_{SPLIT}.json'\n",
    "MAX_TOKENS = 200\n",
    "CONTEXT_SIZE = 2048\n",
    "SEED = 43"
   ]
  },
  {
   "cell_type": "code",
   "execution_count": 4,
   "id": "2bbf5c9b-7f77-4466-99b8-fa1bc7fa51aa",
   "metadata": {
    "tags": []
   },
   "outputs": [],
   "source": [
    "random.seed(SEED)"
   ]
  },
  {
   "cell_type": "code",
   "execution_count": 5,
   "id": "243bd623-87d1-4448-9a42-600c9158dbeb",
   "metadata": {},
   "outputs": [],
   "source": [
    "MODELS = [\"Llama70B\", \"GPT-3\"]\n",
    "MODEL_PATHS = {\"Llama70B\": \"llama-2-13b.Q4_0.gguf\"}\n",
    "MODEL_NAME = MODELS[MODEL_ID]"
   ]
  },
  {
   "cell_type": "markdown",
   "id": "7d2231fc-6972-4230-ac87-32530d8a1418",
   "metadata": {},
   "source": [
    "## Code"
   ]
  },
  {
   "cell_type": "markdown",
   "id": "2ee9da56-2f69-40ec-8bb2-d493f2c50f84",
   "metadata": {
    "tags": []
   },
   "source": [
    "### Create Labels for Synthesis"
   ]
  },
  {
   "cell_type": "markdown",
   "id": "fd81d00a-d24a-4932-93a6-3f437cf073fa",
   "metadata": {},
   "source": [
    "#### Calculate Number Examples with 1, 2 or 3 Aspects and total number of Aspects"
   ]
  },
  {
   "cell_type": "code",
   "execution_count": 6,
   "id": "5cf41a92-36ca-489a-aafb-6c63179d424d",
   "metadata": {
    "tags": []
   },
   "outputs": [],
   "source": [
    "n_for_n_aspects = divide_equally(500, random)\n",
    "n_aspects_synth = sum([n_for_n_aspects[0], n_for_n_aspects[1] * 2, n_for_n_aspects[2] * 3])"
   ]
  },
  {
   "cell_type": "code",
   "execution_count": 7,
   "id": "8dba1f0f-3f75-4f0a-88d8-ec3d00199a14",
   "metadata": {
    "tags": []
   },
   "outputs": [
    {
     "data": {
      "text/plain": [
       "(1001, [166, 167, 167])"
      ]
     },
     "execution_count": 7,
     "metadata": {},
     "output_type": "execute_result"
    }
   ],
   "source": [
    "n_aspects_synth, n_for_n_aspects"
   ]
  },
  {
   "cell_type": "markdown",
   "id": "ed52861c-698b-42b4-a246-34a87ef9b3d3",
   "metadata": {},
   "source": [
    "#### Generate Random Tuples\n",
    "\n",
    "Each combination of aspect-category + polarity is equally frequent"
   ]
  },
  {
   "cell_type": "code",
   "execution_count": 8,
   "id": "6811ae90-6017-44d3-8a16-b689f72c5003",
   "metadata": {
    "tags": []
   },
   "outputs": [],
   "source": [
    "combinations = list(itertools.product(CLASSES, POLARITY))\n",
    "total_combinations = len(combinations)\n",
    "desired_count_per_combination = n_aspects_synth // total_combinations\n",
    "remaining_tuples = n_aspects_synth % total_combinations\n",
    "tuples = []\n",
    "for combination in combinations:\n",
    "    for _ in range(desired_count_per_combination):\n",
    "        tuples.append(combination)\n",
    "\n",
    "if remaining_tuples > 0:\n",
    "    tuples.extend(combinations[:remaining_tuples])\n",
    "    \n",
    "random.shuffle(tuples)"
   ]
  },
  {
   "cell_type": "code",
   "execution_count": 9,
   "id": "9abaf453-07b8-4e6d-b200-377921d82f10",
   "metadata": {
    "tags": []
   },
   "outputs": [
    {
     "data": {
      "text/plain": [
       "(1001,\n",
       " [('GENERAL-IMPRESSION', 'POSITIVE'),\n",
       "  ('SERVICE', 'POSITIVE'),\n",
       "  ('SERVICE', 'POSITIVE'),\n",
       "  ('FOOD', 'POSITIVE'),\n",
       "  ('SERVICE', 'NEGATIVE'),\n",
       "  ('SERVICE', 'NEGATIVE'),\n",
       "  ('PRICE', 'NEGATIVE'),\n",
       "  ('SERVICE', 'POSITIVE'),\n",
       "  ('GENERAL-IMPRESSION', 'NEGATIVE'),\n",
       "  ('SERVICE', 'NEUTRAL')])"
      ]
     },
     "execution_count": 9,
     "metadata": {},
     "output_type": "execute_result"
    }
   ],
   "source": [
    "len(tuples), tuples[:10]"
   ]
  },
  {
   "cell_type": "code",
   "execution_count": 14,
   "id": "f58f06ae-78bc-434f-ba87-6a7a1557d94a",
   "metadata": {
    "tags": []
   },
   "outputs": [
    {
     "name": "stdout",
     "output_type": "stream",
     "text": [
      "Kombination: Aspekt=\"GENERAL-IMPRESSION\", Polarität=\"POSITIVE\", Häufigkeit=67\n",
      "Kombination: Aspekt=\"SERVICE\", Polarität=\"POSITIVE\", Häufigkeit=67\n",
      "Kombination: Aspekt=\"FOOD\", Polarität=\"POSITIVE\", Häufigkeit=67\n",
      "Kombination: Aspekt=\"SERVICE\", Polarität=\"NEGATIVE\", Häufigkeit=67\n",
      "Kombination: Aspekt=\"PRICE\", Polarität=\"NEGATIVE\", Häufigkeit=66\n",
      "Kombination: Aspekt=\"GENERAL-IMPRESSION\", Polarität=\"NEGATIVE\", Häufigkeit=67\n",
      "Kombination: Aspekt=\"SERVICE\", Polarität=\"NEUTRAL\", Häufigkeit=67\n",
      "Kombination: Aspekt=\"FOOD\", Polarität=\"NEGATIVE\", Häufigkeit=67\n",
      "Kombination: Aspekt=\"AMBIENCE\", Polarität=\"NEUTRAL\", Häufigkeit=67\n",
      "Kombination: Aspekt=\"FOOD\", Polarität=\"NEUTRAL\", Häufigkeit=67\n",
      "Kombination: Aspekt=\"PRICE\", Polarität=\"POSITIVE\", Häufigkeit=66\n",
      "Kombination: Aspekt=\"GENERAL-IMPRESSION\", Polarität=\"NEUTRAL\", Häufigkeit=67\n",
      "Kombination: Aspekt=\"AMBIENCE\", Polarität=\"POSITIVE\", Häufigkeit=67\n",
      "Kombination: Aspekt=\"AMBIENCE\", Polarität=\"NEGATIVE\", Häufigkeit=66\n",
      "Kombination: Aspekt=\"PRICE\", Polarität=\"NEUTRAL\", Häufigkeit=66\n"
     ]
    }
   ],
   "source": [
    "from collections import Counter\n",
    "counter = Counter(tuples)\n",
    "\n",
    "for key, value in counter.items():\n",
    "    print(f'Kombination: Aspekt=\"{key[0]}\", Polarität=\"{key[1]}\", Häufigkeit={value}')"
   ]
  },
  {
   "cell_type": "markdown",
   "id": "c732309d-4325-4887-b58f-3e72a8b94f94",
   "metadata": {},
   "source": [
    "#### Generate Labels"
   ]
  },
  {
   "cell_type": "code",
   "execution_count": 10,
   "id": "9cb62677-1fb9-47cf-9063-90db0a3b482d",
   "metadata": {
    "tags": []
   },
   "outputs": [],
   "source": [
    "n_aspects = 1\n",
    "labels = []\n",
    "idx_aspects = 0\n",
    "\n",
    "for k in n_for_n_aspects:\n",
    "    for n in range(k):\n",
    "        label = []\n",
    "        for aspect_idx in range(n_aspects):\n",
    "            label.append(tuples[idx_aspects])\n",
    "            idx_aspects += 1\n",
    "        labels.append(label)\n",
    "    n_aspects += 1"
   ]
  },
  {
   "cell_type": "code",
   "execution_count": 11,
   "id": "305b6298-d8dc-4ffc-9294-22404143b689",
   "metadata": {
    "tags": []
   },
   "outputs": [],
   "source": [
    "random.shuffle(labels)"
   ]
  },
  {
   "cell_type": "code",
   "execution_count": 12,
   "id": "16d2abed-443f-48dd-95c6-feed0d27f639",
   "metadata": {
    "tags": []
   },
   "outputs": [
    {
     "data": {
      "text/plain": [
       "[[('FOOD', 'NEGATIVE'), ('SERVICE', 'NEUTRAL'), ('PRICE', 'NEGATIVE')],\n",
       " [('GENERAL-IMPRESSION', 'NEGATIVE'), ('PRICE', 'POSITIVE')],\n",
       " [('GENERAL-IMPRESSION', 'NEGATIVE')],\n",
       " [('PRICE', 'NEUTRAL'), ('PRICE', 'NEUTRAL')],\n",
       " [('FOOD', 'NEUTRAL'), ('SERVICE', 'NEUTRAL')],\n",
       " [('PRICE', 'NEUTRAL'), ('FOOD', 'POSITIVE'), ('FOOD', 'NEUTRAL')],\n",
       " [('AMBIENCE', 'NEUTRAL'), ('SERVICE', 'NEUTRAL')],\n",
       " [('GENERAL-IMPRESSION', 'NEGATIVE'),\n",
       "  ('AMBIENCE', 'NEGATIVE'),\n",
       "  ('FOOD', 'NEUTRAL')],\n",
       " [('GENERAL-IMPRESSION', 'NEGATIVE')],\n",
       " [('AMBIENCE', 'NEGATIVE'),\n",
       "  ('GENERAL-IMPRESSION', 'NEUTRAL'),\n",
       "  ('FOOD', 'NEGATIVE')],\n",
       " [('GENERAL-IMPRESSION', 'POSITIVE'),\n",
       "  ('FOOD', 'POSITIVE'),\n",
       "  ('PRICE', 'NEUTRAL')],\n",
       " [('PRICE', 'NEGATIVE')],\n",
       " [('SERVICE', 'NEUTRAL'), ('SERVICE', 'NEGATIVE')],\n",
       " [('AMBIENCE', 'NEGATIVE'), ('GENERAL-IMPRESSION', 'NEUTRAL')],\n",
       " [('FOOD', 'NEGATIVE'), ('PRICE', 'NEUTRAL')],\n",
       " [('PRICE', 'NEGATIVE')],\n",
       " [('AMBIENCE', 'NEGATIVE'), ('AMBIENCE', 'NEGATIVE')],\n",
       " [('SERVICE', 'POSITIVE'), ('AMBIENCE', 'POSITIVE')],\n",
       " [('SERVICE', 'NEGATIVE'), ('SERVICE', 'NEUTRAL'), ('SERVICE', 'NEGATIVE')],\n",
       " [('GENERAL-IMPRESSION', 'POSITIVE')],\n",
       " [('FOOD', 'POSITIVE'), ('PRICE', 'POSITIVE'), ('FOOD', 'NEUTRAL')],\n",
       " [('SERVICE', 'POSITIVE'), ('PRICE', 'NEGATIVE'), ('AMBIENCE', 'NEGATIVE')],\n",
       " [('GENERAL-IMPRESSION', 'POSITIVE'), ('PRICE', 'POSITIVE')],\n",
       " [('PRICE', 'NEUTRAL'), ('FOOD', 'NEUTRAL')],\n",
       " [('SERVICE', 'NEGATIVE')],\n",
       " [('GENERAL-IMPRESSION', 'POSITIVE'),\n",
       "  ('PRICE', 'NEGATIVE'),\n",
       "  ('PRICE', 'POSITIVE')],\n",
       " [('GENERAL-IMPRESSION', 'POSITIVE'), ('PRICE', 'NEUTRAL')],\n",
       " [('FOOD', 'NEUTRAL'), ('SERVICE', 'POSITIVE'), ('AMBIENCE', 'NEUTRAL')],\n",
       " [('SERVICE', 'NEGATIVE'), ('PRICE', 'NEGATIVE'), ('AMBIENCE', 'NEGATIVE')],\n",
       " [('FOOD', 'POSITIVE')],\n",
       " [('SERVICE', 'POSITIVE'), ('AMBIENCE', 'NEGATIVE')],\n",
       " [('AMBIENCE', 'NEUTRAL'), ('SERVICE', 'POSITIVE')],\n",
       " [('PRICE', 'NEUTRAL'), ('FOOD', 'NEGATIVE')],\n",
       " [('FOOD', 'NEUTRAL')],\n",
       " [('GENERAL-IMPRESSION', 'NEGATIVE'),\n",
       "  ('AMBIENCE', 'NEGATIVE'),\n",
       "  ('FOOD', 'NEGATIVE')],\n",
       " [('SERVICE', 'NEUTRAL'),\n",
       "  ('PRICE', 'NEUTRAL'),\n",
       "  ('GENERAL-IMPRESSION', 'NEUTRAL')],\n",
       " [('PRICE', 'NEUTRAL'), ('PRICE', 'POSITIVE'), ('FOOD', 'NEGATIVE')],\n",
       " [('FOOD', 'NEGATIVE')],\n",
       " [('GENERAL-IMPRESSION', 'NEUTRAL')],\n",
       " [('PRICE', 'POSITIVE'), ('FOOD', 'POSITIVE')],\n",
       " [('SERVICE', 'POSITIVE')],\n",
       " [('SERVICE', 'NEGATIVE'), ('GENERAL-IMPRESSION', 'NEUTRAL')],\n",
       " [('SERVICE', 'POSITIVE'), ('GENERAL-IMPRESSION', 'NEGATIVE')],\n",
       " [('AMBIENCE', 'POSITIVE'), ('AMBIENCE', 'NEGATIVE')],\n",
       " [('FOOD', 'NEUTRAL'), ('SERVICE', 'NEUTRAL')],\n",
       " [('PRICE', 'NEUTRAL'), ('SERVICE', 'NEGATIVE')],\n",
       " [('GENERAL-IMPRESSION', 'POSITIVE'),\n",
       "  ('FOOD', 'NEUTRAL'),\n",
       "  ('GENERAL-IMPRESSION', 'POSITIVE')],\n",
       " [('SERVICE', 'NEGATIVE'),\n",
       "  ('GENERAL-IMPRESSION', 'NEUTRAL'),\n",
       "  ('PRICE', 'NEUTRAL')],\n",
       " [('SERVICE', 'NEGATIVE'), ('PRICE', 'POSITIVE'), ('PRICE', 'NEGATIVE')],\n",
       " [('PRICE', 'NEUTRAL'), ('PRICE', 'NEGATIVE'), ('SERVICE', 'NEGATIVE')],\n",
       " [('PRICE', 'POSITIVE'),\n",
       "  ('GENERAL-IMPRESSION', 'NEGATIVE'),\n",
       "  ('SERVICE', 'NEGATIVE')],\n",
       " [('GENERAL-IMPRESSION', 'NEUTRAL')],\n",
       " [('SERVICE', 'POSITIVE')],\n",
       " [('PRICE', 'NEUTRAL'), ('AMBIENCE', 'POSITIVE')],\n",
       " [('FOOD', 'NEUTRAL'), ('PRICE', 'NEGATIVE'), ('SERVICE', 'NEGATIVE')],\n",
       " [('AMBIENCE', 'NEUTRAL')],\n",
       " [('FOOD', 'POSITIVE')],\n",
       " [('PRICE', 'POSITIVE'), ('SERVICE', 'NEUTRAL'), ('FOOD', 'NEUTRAL')],\n",
       " [('GENERAL-IMPRESSION', 'NEUTRAL'),\n",
       "  ('AMBIENCE', 'NEGATIVE'),\n",
       "  ('PRICE', 'NEGATIVE')],\n",
       " [('PRICE', 'NEGATIVE'), ('PRICE', 'POSITIVE')],\n",
       " [('FOOD', 'POSITIVE')],\n",
       " [('AMBIENCE', 'NEGATIVE'), ('FOOD', 'POSITIVE'), ('SERVICE', 'NEGATIVE')],\n",
       " [('PRICE', 'NEUTRAL'), ('PRICE', 'NEUTRAL')],\n",
       " [('SERVICE', 'NEGATIVE')],\n",
       " [('AMBIENCE', 'NEGATIVE'), ('FOOD', 'NEUTRAL')],\n",
       " [('AMBIENCE', 'NEUTRAL'), ('GENERAL-IMPRESSION', 'NEUTRAL')],\n",
       " [('FOOD', 'POSITIVE')],\n",
       " [('PRICE', 'POSITIVE'), ('AMBIENCE', 'POSITIVE')],\n",
       " [('SERVICE', 'NEGATIVE')],\n",
       " [('FOOD', 'NEGATIVE'), ('FOOD', 'POSITIVE'), ('FOOD', 'NEUTRAL')],\n",
       " [('SERVICE', 'POSITIVE')],\n",
       " [('SERVICE', 'POSITIVE')],\n",
       " [('SERVICE', 'NEGATIVE'),\n",
       "  ('AMBIENCE', 'NEUTRAL'),\n",
       "  ('GENERAL-IMPRESSION', 'NEUTRAL')],\n",
       " [('FOOD', 'NEUTRAL')],\n",
       " [('FOOD', 'NEGATIVE')],\n",
       " [('PRICE', 'NEGATIVE'), ('PRICE', 'POSITIVE'), ('AMBIENCE', 'NEGATIVE')],\n",
       " [('SERVICE', 'POSITIVE'), ('AMBIENCE', 'NEGATIVE')],\n",
       " [('GENERAL-IMPRESSION', 'NEGATIVE'), ('FOOD', 'NEGATIVE')],\n",
       " [('PRICE', 'NEGATIVE')],\n",
       " [('PRICE', 'NEGATIVE'), ('PRICE', 'NEUTRAL'), ('SERVICE', 'NEGATIVE')],\n",
       " [('PRICE', 'NEUTRAL'), ('PRICE', 'NEGATIVE')],\n",
       " [('PRICE', 'POSITIVE'), ('AMBIENCE', 'NEUTRAL')],\n",
       " [('PRICE', 'NEUTRAL'), ('SERVICE', 'NEUTRAL')],\n",
       " [('GENERAL-IMPRESSION', 'POSITIVE'), ('SERVICE', 'POSITIVE')],\n",
       " [('FOOD', 'POSITIVE'),\n",
       "  ('PRICE', 'NEGATIVE'),\n",
       "  ('GENERAL-IMPRESSION', 'NEUTRAL')],\n",
       " [('FOOD', 'NEUTRAL')],\n",
       " [('GENERAL-IMPRESSION', 'NEUTRAL')],\n",
       " [('SERVICE', 'NEUTRAL'), ('AMBIENCE', 'NEUTRAL'), ('AMBIENCE', 'NEGATIVE')],\n",
       " [('FOOD', 'NEUTRAL'), ('SERVICE', 'POSITIVE')],\n",
       " [('PRICE', 'NEGATIVE')],\n",
       " [('FOOD', 'NEUTRAL'), ('SERVICE', 'POSITIVE'), ('SERVICE', 'NEGATIVE')],\n",
       " [('AMBIENCE', 'NEGATIVE'), ('GENERAL-IMPRESSION', 'NEGATIVE')],\n",
       " [('FOOD', 'NEUTRAL')],\n",
       " [('SERVICE', 'NEGATIVE'), ('SERVICE', 'NEGATIVE')],\n",
       " [('AMBIENCE', 'POSITIVE'), ('PRICE', 'POSITIVE'), ('AMBIENCE', 'NEUTRAL')],\n",
       " [('GENERAL-IMPRESSION', 'NEUTRAL'),\n",
       "  ('GENERAL-IMPRESSION', 'POSITIVE'),\n",
       "  ('AMBIENCE', 'NEGATIVE')],\n",
       " [('AMBIENCE', 'NEGATIVE'), ('GENERAL-IMPRESSION', 'POSITIVE')],\n",
       " [('GENERAL-IMPRESSION', 'POSITIVE'),\n",
       "  ('PRICE', 'NEUTRAL'),\n",
       "  ('SERVICE', 'POSITIVE')],\n",
       " [('GENERAL-IMPRESSION', 'POSITIVE'), ('FOOD', 'NEUTRAL')],\n",
       " [('AMBIENCE', 'NEGATIVE'), ('SERVICE', 'NEUTRAL')],\n",
       " [('GENERAL-IMPRESSION', 'POSITIVE'), ('FOOD', 'NEGATIVE')],\n",
       " [('PRICE', 'POSITIVE'),\n",
       "  ('GENERAL-IMPRESSION', 'NEUTRAL'),\n",
       "  ('PRICE', 'NEUTRAL')],\n",
       " [('SERVICE', 'POSITIVE')],\n",
       " [('SERVICE', 'NEUTRAL')],\n",
       " [('PRICE', 'NEUTRAL'), ('FOOD', 'NEGATIVE')],\n",
       " [('FOOD', 'POSITIVE'), ('GENERAL-IMPRESSION', 'POSITIVE')],\n",
       " [('GENERAL-IMPRESSION', 'NEGATIVE'), ('AMBIENCE', 'NEUTRAL')],\n",
       " [('AMBIENCE', 'POSITIVE')],\n",
       " [('FOOD', 'NEGATIVE'), ('SERVICE', 'NEUTRAL')],\n",
       " [('GENERAL-IMPRESSION', 'POSITIVE'),\n",
       "  ('AMBIENCE', 'NEGATIVE'),\n",
       "  ('PRICE', 'NEUTRAL')],\n",
       " [('SERVICE', 'POSITIVE'), ('FOOD', 'NEGATIVE')],\n",
       " [('AMBIENCE', 'NEGATIVE'), ('FOOD', 'NEUTRAL'), ('AMBIENCE', 'NEUTRAL')],\n",
       " [('GENERAL-IMPRESSION', 'POSITIVE'),\n",
       "  ('AMBIENCE', 'POSITIVE'),\n",
       "  ('SERVICE', 'POSITIVE')],\n",
       " [('GENERAL-IMPRESSION', 'NEGATIVE'),\n",
       "  ('FOOD', 'NEGATIVE'),\n",
       "  ('GENERAL-IMPRESSION', 'NEUTRAL')],\n",
       " [('GENERAL-IMPRESSION', 'NEUTRAL')],\n",
       " [('GENERAL-IMPRESSION', 'NEGATIVE'), ('SERVICE', 'POSITIVE')],\n",
       " [('FOOD', 'NEGATIVE'), ('AMBIENCE', 'NEGATIVE')],\n",
       " [('GENERAL-IMPRESSION', 'NEUTRAL')],\n",
       " [('AMBIENCE', 'NEUTRAL'), ('AMBIENCE', 'NEUTRAL')],\n",
       " [('GENERAL-IMPRESSION', 'NEUTRAL'), ('SERVICE', 'NEUTRAL')],\n",
       " [('FOOD', 'POSITIVE')],\n",
       " [('GENERAL-IMPRESSION', 'NEGATIVE'), ('SERVICE', 'NEUTRAL')],\n",
       " [('SERVICE', 'POSITIVE'), ('SERVICE', 'NEGATIVE'), ('AMBIENCE', 'NEUTRAL')],\n",
       " [('GENERAL-IMPRESSION', 'NEGATIVE'),\n",
       "  ('FOOD', 'POSITIVE'),\n",
       "  ('FOOD', 'NEUTRAL')],\n",
       " [('AMBIENCE', 'POSITIVE')],\n",
       " [('AMBIENCE', 'POSITIVE'), ('GENERAL-IMPRESSION', 'NEGATIVE')],\n",
       " [('GENERAL-IMPRESSION', 'NEGATIVE'), ('SERVICE', 'NEUTRAL')],\n",
       " [('SERVICE', 'NEUTRAL'),\n",
       "  ('GENERAL-IMPRESSION', 'NEGATIVE'),\n",
       "  ('GENERAL-IMPRESSION', 'NEUTRAL')],\n",
       " [('SERVICE', 'NEGATIVE'),\n",
       "  ('FOOD', 'NEUTRAL'),\n",
       "  ('GENERAL-IMPRESSION', 'NEGATIVE')],\n",
       " [('FOOD', 'NEGATIVE'), ('SERVICE', 'NEGATIVE')],\n",
       " [('SERVICE', 'NEGATIVE')],\n",
       " [('AMBIENCE', 'NEUTRAL'), ('SERVICE', 'POSITIVE')],\n",
       " [('PRICE', 'NEGATIVE'), ('AMBIENCE', 'NEGATIVE'), ('PRICE', 'POSITIVE')],\n",
       " [('PRICE', 'POSITIVE')],\n",
       " [('AMBIENCE', 'NEGATIVE'),\n",
       "  ('GENERAL-IMPRESSION', 'NEUTRAL'),\n",
       "  ('AMBIENCE', 'NEGATIVE')],\n",
       " [('SERVICE', 'POSITIVE')],\n",
       " [('FOOD', 'NEUTRAL')],\n",
       " [('PRICE', 'NEGATIVE'), ('PRICE', 'POSITIVE'), ('PRICE', 'POSITIVE')],\n",
       " [('SERVICE', 'NEGATIVE'), ('SERVICE', 'NEGATIVE')],\n",
       " [('AMBIENCE', 'NEGATIVE'), ('AMBIENCE', 'NEUTRAL'), ('PRICE', 'NEGATIVE')],\n",
       " [('FOOD', 'POSITIVE'), ('AMBIENCE', 'NEUTRAL'), ('FOOD', 'NEUTRAL')],\n",
       " [('FOOD', 'POSITIVE'), ('FOOD', 'NEGATIVE')],\n",
       " [('GENERAL-IMPRESSION', 'NEGATIVE'),\n",
       "  ('SERVICE', 'POSITIVE'),\n",
       "  ('AMBIENCE', 'NEUTRAL')],\n",
       " [('PRICE', 'POSITIVE')],\n",
       " [('GENERAL-IMPRESSION', 'POSITIVE'),\n",
       "  ('AMBIENCE', 'POSITIVE'),\n",
       "  ('PRICE', 'NEGATIVE')],\n",
       " [('AMBIENCE', 'POSITIVE'), ('SERVICE', 'NEUTRAL'), ('FOOD', 'POSITIVE')],\n",
       " [('FOOD', 'POSITIVE'), ('PRICE', 'POSITIVE'), ('PRICE', 'POSITIVE')],\n",
       " [('PRICE', 'NEGATIVE'), ('AMBIENCE', 'NEUTRAL'), ('AMBIENCE', 'NEUTRAL')],\n",
       " [('GENERAL-IMPRESSION', 'POSITIVE')],\n",
       " [('GENERAL-IMPRESSION', 'NEUTRAL'),\n",
       "  ('SERVICE', 'NEUTRAL'),\n",
       "  ('PRICE', 'POSITIVE')],\n",
       " [('PRICE', 'NEGATIVE'), ('AMBIENCE', 'NEGATIVE')],\n",
       " [('PRICE', 'NEUTRAL'), ('GENERAL-IMPRESSION', 'NEGATIVE')],\n",
       " [('SERVICE', 'NEGATIVE'), ('PRICE', 'POSITIVE'), ('SERVICE', 'NEUTRAL')],\n",
       " [('PRICE', 'NEUTRAL'), ('GENERAL-IMPRESSION', 'POSITIVE')],\n",
       " [('AMBIENCE', 'NEUTRAL')],\n",
       " [('AMBIENCE', 'NEUTRAL')],\n",
       " [('PRICE', 'NEUTRAL'), ('SERVICE', 'POSITIVE'), ('AMBIENCE', 'POSITIVE')],\n",
       " [('SERVICE', 'NEUTRAL'), ('SERVICE', 'POSITIVE'), ('AMBIENCE', 'POSITIVE')],\n",
       " [('FOOD', 'NEGATIVE')],\n",
       " [('SERVICE', 'NEGATIVE'), ('PRICE', 'NEGATIVE')],\n",
       " [('GENERAL-IMPRESSION', 'POSITIVE')],\n",
       " [('GENERAL-IMPRESSION', 'NEUTRAL')],\n",
       " [('SERVICE', 'POSITIVE'),\n",
       "  ('PRICE', 'NEGATIVE'),\n",
       "  ('GENERAL-IMPRESSION', 'NEGATIVE')],\n",
       " [('GENERAL-IMPRESSION', 'NEUTRAL'), ('SERVICE', 'NEGATIVE')],\n",
       " [('FOOD', 'NEGATIVE')],\n",
       " [('SERVICE', 'POSITIVE')],\n",
       " [('AMBIENCE', 'NEGATIVE')],\n",
       " [('GENERAL-IMPRESSION', 'NEGATIVE'), ('FOOD', 'POSITIVE')],\n",
       " [('FOOD', 'NEGATIVE')],\n",
       " [('GENERAL-IMPRESSION', 'NEGATIVE'), ('PRICE', 'POSITIVE')],\n",
       " [('FOOD', 'NEUTRAL'), ('AMBIENCE', 'NEGATIVE'), ('SERVICE', 'NEUTRAL')],\n",
       " [('AMBIENCE', 'NEUTRAL'), ('PRICE', 'POSITIVE'), ('SERVICE', 'NEUTRAL')],\n",
       " [('PRICE', 'NEGATIVE'), ('GENERAL-IMPRESSION', 'NEGATIVE')],\n",
       " [('FOOD', 'POSITIVE'),\n",
       "  ('GENERAL-IMPRESSION', 'POSITIVE'),\n",
       "  ('SERVICE', 'NEGATIVE')],\n",
       " [('SERVICE', 'POSITIVE'), ('SERVICE', 'POSITIVE'), ('SERVICE', 'NEUTRAL')],\n",
       " [('AMBIENCE', 'NEGATIVE')],\n",
       " [('GENERAL-IMPRESSION', 'POSITIVE')],\n",
       " [('PRICE', 'NEUTRAL'),\n",
       "  ('GENERAL-IMPRESSION', 'NEUTRAL'),\n",
       "  ('GENERAL-IMPRESSION', 'POSITIVE')],\n",
       " [('FOOD', 'NEUTRAL')],\n",
       " [('GENERAL-IMPRESSION', 'NEUTRAL'),\n",
       "  ('PRICE', 'NEUTRAL'),\n",
       "  ('GENERAL-IMPRESSION', 'NEUTRAL')],\n",
       " [('FOOD', 'NEUTRAL'), ('PRICE', 'NEUTRAL')],\n",
       " [('GENERAL-IMPRESSION', 'NEGATIVE'),\n",
       "  ('GENERAL-IMPRESSION', 'POSITIVE'),\n",
       "  ('AMBIENCE', 'POSITIVE')],\n",
       " [('PRICE', 'NEGATIVE'), ('FOOD', 'POSITIVE')],\n",
       " [('SERVICE', 'NEGATIVE')],\n",
       " [('AMBIENCE', 'POSITIVE'), ('PRICE', 'NEGATIVE')],\n",
       " [('GENERAL-IMPRESSION', 'POSITIVE'),\n",
       "  ('SERVICE', 'NEGATIVE'),\n",
       "  ('GENERAL-IMPRESSION', 'POSITIVE')],\n",
       " [('PRICE', 'NEGATIVE'), ('AMBIENCE', 'NEGATIVE')],\n",
       " [('GENERAL-IMPRESSION', 'NEUTRAL')],\n",
       " [('PRICE', 'NEUTRAL')],\n",
       " [('PRICE', 'POSITIVE'), ('AMBIENCE', 'NEGATIVE')],\n",
       " [('GENERAL-IMPRESSION', 'POSITIVE'),\n",
       "  ('FOOD', 'POSITIVE'),\n",
       "  ('GENERAL-IMPRESSION', 'NEGATIVE')],\n",
       " [('GENERAL-IMPRESSION', 'NEGATIVE'), ('GENERAL-IMPRESSION', 'NEUTRAL')],\n",
       " [('GENERAL-IMPRESSION', 'POSITIVE')],\n",
       " [('PRICE', 'NEUTRAL'), ('AMBIENCE', 'NEGATIVE'), ('AMBIENCE', 'NEGATIVE')],\n",
       " [('PRICE', 'NEUTRAL'),\n",
       "  ('GENERAL-IMPRESSION', 'POSITIVE'),\n",
       "  ('FOOD', 'NEGATIVE')],\n",
       " [('FOOD', 'NEUTRAL')],\n",
       " [('FOOD', 'NEUTRAL'), ('PRICE', 'POSITIVE'), ('SERVICE', 'NEUTRAL')],\n",
       " [('PRICE', 'NEUTRAL'),\n",
       "  ('GENERAL-IMPRESSION', 'NEGATIVE'),\n",
       "  ('FOOD', 'POSITIVE')],\n",
       " [('SERVICE', 'NEGATIVE')],\n",
       " [('SERVICE', 'NEUTRAL')],\n",
       " [('SERVICE', 'NEUTRAL')],\n",
       " [('PRICE', 'NEGATIVE'), ('PRICE', 'NEUTRAL'), ('SERVICE', 'POSITIVE')],\n",
       " [('PRICE', 'NEGATIVE'), ('SERVICE', 'NEGATIVE'), ('PRICE', 'NEUTRAL')],\n",
       " [('SERVICE', 'NEGATIVE'),\n",
       "  ('GENERAL-IMPRESSION', 'NEGATIVE'),\n",
       "  ('PRICE', 'NEUTRAL')],\n",
       " [('SERVICE', 'NEUTRAL'), ('GENERAL-IMPRESSION', 'NEGATIVE')],\n",
       " [('AMBIENCE', 'NEUTRAL')],\n",
       " [('GENERAL-IMPRESSION', 'POSITIVE'), ('FOOD', 'POSITIVE')],\n",
       " [('FOOD', 'NEGATIVE'), ('SERVICE', 'POSITIVE'), ('PRICE', 'NEGATIVE')],\n",
       " [('GENERAL-IMPRESSION', 'NEUTRAL')],\n",
       " [('SERVICE', 'NEGATIVE'),\n",
       "  ('GENERAL-IMPRESSION', 'NEGATIVE'),\n",
       "  ('SERVICE', 'NEGATIVE')],\n",
       " [('PRICE', 'POSITIVE'), ('FOOD', 'NEUTRAL'), ('PRICE', 'POSITIVE')],\n",
       " [('FOOD', 'NEGATIVE'), ('FOOD', 'POSITIVE'), ('FOOD', 'NEGATIVE')],\n",
       " [('FOOD', 'POSITIVE')],\n",
       " [('FOOD', 'POSITIVE')],\n",
       " [('PRICE', 'NEUTRAL'), ('FOOD', 'POSITIVE')],\n",
       " [('SERVICE', 'POSITIVE'),\n",
       "  ('SERVICE', 'NEUTRAL'),\n",
       "  ('GENERAL-IMPRESSION', 'NEGATIVE')],\n",
       " [('FOOD', 'NEUTRAL')],\n",
       " [('SERVICE', 'NEUTRAL')],\n",
       " [('GENERAL-IMPRESSION', 'POSITIVE'),\n",
       "  ('FOOD', 'NEGATIVE'),\n",
       "  ('GENERAL-IMPRESSION', 'NEGATIVE')],\n",
       " [('PRICE', 'NEUTRAL')],\n",
       " [('FOOD', 'POSITIVE'), ('AMBIENCE', 'NEUTRAL'), ('PRICE', 'NEUTRAL')],\n",
       " [('SERVICE', 'NEUTRAL')],\n",
       " [('SERVICE', 'NEUTRAL'), ('AMBIENCE', 'NEUTRAL'), ('AMBIENCE', 'NEGATIVE')],\n",
       " [('SERVICE', 'POSITIVE')],\n",
       " [('GENERAL-IMPRESSION', 'NEUTRAL')],\n",
       " [('GENERAL-IMPRESSION', 'NEUTRAL')],\n",
       " [('PRICE', 'NEGATIVE')],\n",
       " [('PRICE', 'POSITIVE'), ('SERVICE', 'POSITIVE'), ('AMBIENCE', 'NEUTRAL')],\n",
       " [('PRICE', 'NEUTRAL')],\n",
       " [('FOOD', 'NEUTRAL')],\n",
       " [('FOOD', 'NEUTRAL'), ('FOOD', 'NEGATIVE')],\n",
       " [('AMBIENCE', 'POSITIVE'),\n",
       "  ('SERVICE', 'NEUTRAL'),\n",
       "  ('GENERAL-IMPRESSION', 'NEUTRAL')],\n",
       " [('GENERAL-IMPRESSION', 'POSITIVE'), ('PRICE', 'POSITIVE')],\n",
       " [('PRICE', 'NEGATIVE')],\n",
       " [('FOOD', 'POSITIVE'),\n",
       "  ('AMBIENCE', 'NEUTRAL'),\n",
       "  ('GENERAL-IMPRESSION', 'POSITIVE')],\n",
       " [('SERVICE', 'NEUTRAL'), ('AMBIENCE', 'NEUTRAL'), ('PRICE', 'NEGATIVE')],\n",
       " [('AMBIENCE', 'POSITIVE')],\n",
       " [('PRICE', 'POSITIVE'), ('FOOD', 'POSITIVE')],\n",
       " [('PRICE', 'POSITIVE'), ('AMBIENCE', 'NEUTRAL')],\n",
       " [('AMBIENCE', 'NEUTRAL')],\n",
       " [('GENERAL-IMPRESSION', 'NEGATIVE')],\n",
       " [('PRICE', 'NEUTRAL'), ('SERVICE', 'NEGATIVE'), ('PRICE', 'NEGATIVE')],\n",
       " [('AMBIENCE', 'POSITIVE'), ('PRICE', 'POSITIVE')],\n",
       " [('SERVICE', 'NEGATIVE'), ('GENERAL-IMPRESSION', 'NEGATIVE')],\n",
       " [('AMBIENCE', 'POSITIVE')],\n",
       " [('GENERAL-IMPRESSION', 'NEGATIVE'),\n",
       "  ('FOOD', 'NEUTRAL'),\n",
       "  ('SERVICE', 'NEUTRAL')],\n",
       " [('GENERAL-IMPRESSION', 'NEUTRAL'),\n",
       "  ('AMBIENCE', 'NEUTRAL'),\n",
       "  ('SERVICE', 'NEGATIVE')],\n",
       " [('GENERAL-IMPRESSION', 'NEUTRAL')],\n",
       " [('AMBIENCE', 'POSITIVE'),\n",
       "  ('SERVICE', 'NEGATIVE'),\n",
       "  ('GENERAL-IMPRESSION', 'POSITIVE')],\n",
       " [('SERVICE', 'NEUTRAL')],\n",
       " [('PRICE', 'NEUTRAL'),\n",
       "  ('FOOD', 'NEUTRAL'),\n",
       "  ('GENERAL-IMPRESSION', 'NEUTRAL')],\n",
       " [('SERVICE', 'POSITIVE'), ('AMBIENCE', 'NEUTRAL')],\n",
       " [('SERVICE', 'NEGATIVE'), ('AMBIENCE', 'NEGATIVE')],\n",
       " [('SERVICE', 'NEGATIVE'), ('AMBIENCE', 'NEGATIVE')],\n",
       " [('AMBIENCE', 'NEUTRAL'), ('SERVICE', 'NEGATIVE'), ('FOOD', 'NEGATIVE')],\n",
       " [('GENERAL-IMPRESSION', 'POSITIVE')],\n",
       " [('PRICE', 'NEGATIVE')],\n",
       " [('FOOD', 'NEUTRAL'), ('FOOD', 'NEUTRAL'), ('FOOD', 'NEGATIVE')],\n",
       " [('SERVICE', 'NEGATIVE'), ('AMBIENCE', 'NEUTRAL')],\n",
       " [('FOOD', 'POSITIVE'), ('PRICE', 'POSITIVE'), ('SERVICE', 'NEGATIVE')],\n",
       " [('SERVICE', 'POSITIVE')],\n",
       " [('AMBIENCE', 'NEUTRAL'), ('FOOD', 'POSITIVE'), ('SERVICE', 'POSITIVE')],\n",
       " [('SERVICE', 'NEGATIVE'), ('PRICE', 'NEGATIVE')],\n",
       " [('AMBIENCE', 'NEGATIVE'),\n",
       "  ('AMBIENCE', 'NEUTRAL'),\n",
       "  ('GENERAL-IMPRESSION', 'NEGATIVE')],\n",
       " [('SERVICE', 'NEUTRAL'), ('PRICE', 'NEUTRAL')],\n",
       " [('PRICE', 'NEUTRAL'), ('SERVICE', 'NEUTRAL')],\n",
       " [('GENERAL-IMPRESSION', 'NEGATIVE')],\n",
       " [('GENERAL-IMPRESSION', 'NEUTRAL'),\n",
       "  ('FOOD', 'NEGATIVE'),\n",
       "  ('FOOD', 'NEGATIVE')],\n",
       " [('AMBIENCE', 'POSITIVE'),\n",
       "  ('PRICE', 'NEUTRAL'),\n",
       "  ('GENERAL-IMPRESSION', 'NEUTRAL')],\n",
       " [('SERVICE', 'POSITIVE')],\n",
       " [('AMBIENCE', 'POSITIVE'), ('SERVICE', 'POSITIVE'), ('AMBIENCE', 'POSITIVE')],\n",
       " [('GENERAL-IMPRESSION', 'NEUTRAL'),\n",
       "  ('FOOD', 'NEGATIVE'),\n",
       "  ('FOOD', 'NEGATIVE')],\n",
       " [('PRICE', 'NEUTRAL'),\n",
       "  ('GENERAL-IMPRESSION', 'NEUTRAL'),\n",
       "  ('AMBIENCE', 'NEUTRAL')],\n",
       " [('SERVICE', 'POSITIVE')],\n",
       " [('GENERAL-IMPRESSION', 'NEUTRAL'), ('AMBIENCE', 'NEUTRAL')],\n",
       " [('GENERAL-IMPRESSION', 'NEUTRAL'), ('SERVICE', 'NEGATIVE')],\n",
       " [('SERVICE', 'POSITIVE'),\n",
       "  ('PRICE', 'NEGATIVE'),\n",
       "  ('GENERAL-IMPRESSION', 'NEGATIVE')],\n",
       " [('AMBIENCE', 'NEUTRAL'), ('AMBIENCE', 'POSITIVE'), ('PRICE', 'POSITIVE')],\n",
       " [('FOOD', 'NEUTRAL'), ('AMBIENCE', 'POSITIVE'), ('PRICE', 'NEUTRAL')],\n",
       " [('AMBIENCE', 'POSITIVE')],\n",
       " [('AMBIENCE', 'NEUTRAL'),\n",
       "  ('GENERAL-IMPRESSION', 'NEGATIVE'),\n",
       "  ('PRICE', 'POSITIVE')],\n",
       " [('GENERAL-IMPRESSION', 'NEUTRAL')],\n",
       " [('SERVICE', 'POSITIVE'), ('FOOD', 'NEGATIVE'), ('PRICE', 'POSITIVE')],\n",
       " [('AMBIENCE', 'POSITIVE'), ('SERVICE', 'NEUTRAL')],\n",
       " [('AMBIENCE', 'NEUTRAL')],\n",
       " [('AMBIENCE', 'NEGATIVE'), ('FOOD', 'NEGATIVE'), ('AMBIENCE', 'NEGATIVE')],\n",
       " [('AMBIENCE', 'NEGATIVE'),\n",
       "  ('GENERAL-IMPRESSION', 'NEUTRAL'),\n",
       "  ('FOOD', 'NEGATIVE')],\n",
       " [('GENERAL-IMPRESSION', 'NEGATIVE'), ('GENERAL-IMPRESSION', 'POSITIVE')],\n",
       " [('SERVICE', 'POSITIVE'), ('AMBIENCE', 'POSITIVE'), ('AMBIENCE', 'POSITIVE')],\n",
       " [('FOOD', 'NEGATIVE'), ('FOOD', 'NEGATIVE')],\n",
       " [('SERVICE', 'NEGATIVE')],\n",
       " [('SERVICE', 'NEUTRAL'), ('SERVICE', 'NEGATIVE'), ('SERVICE', 'NEUTRAL')],\n",
       " [('GENERAL-IMPRESSION', 'NEUTRAL'),\n",
       "  ('FOOD', 'NEUTRAL'),\n",
       "  ('PRICE', 'POSITIVE')],\n",
       " [('AMBIENCE', 'NEGATIVE'), ('PRICE', 'POSITIVE')],\n",
       " [('PRICE', 'NEUTRAL'),\n",
       "  ('FOOD', 'NEUTRAL'),\n",
       "  ('GENERAL-IMPRESSION', 'NEUTRAL')],\n",
       " [('FOOD', 'NEGATIVE'), ('AMBIENCE', 'NEGATIVE')],\n",
       " [('PRICE', 'POSITIVE'), ('GENERAL-IMPRESSION', 'NEGATIVE')],\n",
       " [('AMBIENCE', 'NEUTRAL'), ('GENERAL-IMPRESSION', 'NEUTRAL')],\n",
       " [('PRICE', 'POSITIVE'), ('FOOD', 'POSITIVE')],\n",
       " [('GENERAL-IMPRESSION', 'NEUTRAL')],\n",
       " [('FOOD', 'NEGATIVE'), ('GENERAL-IMPRESSION', 'POSITIVE')],\n",
       " [('PRICE', 'NEUTRAL'),\n",
       "  ('PRICE', 'NEGATIVE'),\n",
       "  ('GENERAL-IMPRESSION', 'NEGATIVE')],\n",
       " [('SERVICE', 'NEUTRAL'), ('FOOD', 'NEUTRAL')],\n",
       " [('PRICE', 'NEGATIVE')],\n",
       " [('FOOD', 'NEGATIVE'), ('PRICE', 'NEGATIVE')],\n",
       " [('GENERAL-IMPRESSION', 'NEGATIVE')],\n",
       " [('FOOD', 'NEGATIVE')],\n",
       " [('SERVICE', 'NEUTRAL'),\n",
       "  ('GENERAL-IMPRESSION', 'POSITIVE'),\n",
       "  ('PRICE', 'NEGATIVE')],\n",
       " [('PRICE', 'NEUTRAL'),\n",
       "  ('GENERAL-IMPRESSION', 'NEUTRAL'),\n",
       "  ('AMBIENCE', 'POSITIVE')],\n",
       " [('GENERAL-IMPRESSION', 'NEGATIVE')],\n",
       " [('GENERAL-IMPRESSION', 'POSITIVE'),\n",
       "  ('AMBIENCE', 'POSITIVE'),\n",
       "  ('SERVICE', 'NEUTRAL')],\n",
       " [('FOOD', 'POSITIVE'),\n",
       "  ('AMBIENCE', 'NEUTRAL'),\n",
       "  ('GENERAL-IMPRESSION', 'NEUTRAL')],\n",
       " [('AMBIENCE', 'POSITIVE'), ('SERVICE', 'POSITIVE'), ('AMBIENCE', 'NEGATIVE')],\n",
       " [('FOOD', 'NEGATIVE')],\n",
       " [('SERVICE', 'POSITIVE'), ('AMBIENCE', 'NEUTRAL'), ('FOOD', 'POSITIVE')],\n",
       " [('PRICE', 'POSITIVE'), ('GENERAL-IMPRESSION', 'POSITIVE')],\n",
       " [('GENERAL-IMPRESSION', 'NEGATIVE'), ('FOOD', 'POSITIVE')],\n",
       " [('PRICE', 'POSITIVE'), ('PRICE', 'POSITIVE')],\n",
       " [('PRICE', 'NEUTRAL')],\n",
       " [('AMBIENCE', 'POSITIVE'), ('FOOD', 'NEGATIVE')],\n",
       " [('AMBIENCE', 'NEGATIVE'), ('FOOD', 'POSITIVE')],\n",
       " [('PRICE', 'NEGATIVE')],\n",
       " [('GENERAL-IMPRESSION', 'NEUTRAL'),\n",
       "  ('FOOD', 'NEGATIVE'),\n",
       "  ('GENERAL-IMPRESSION', 'NEUTRAL')],\n",
       " [('PRICE', 'POSITIVE')],\n",
       " [('GENERAL-IMPRESSION', 'NEUTRAL'), ('FOOD', 'NEUTRAL')],\n",
       " [('FOOD', 'NEUTRAL'), ('AMBIENCE', 'NEUTRAL')],\n",
       " [('FOOD', 'NEGATIVE')],\n",
       " [('PRICE', 'NEGATIVE'), ('SERVICE', 'NEGATIVE')],\n",
       " [('SERVICE', 'NEUTRAL'), ('SERVICE', 'NEUTRAL'), ('PRICE', 'NEGATIVE')],\n",
       " [('AMBIENCE', 'POSITIVE'), ('FOOD', 'POSITIVE'), ('FOOD', 'POSITIVE')],\n",
       " [('PRICE', 'NEGATIVE'), ('GENERAL-IMPRESSION', 'POSITIVE')],\n",
       " [('PRICE', 'POSITIVE'), ('AMBIENCE', 'NEGATIVE')],\n",
       " [('PRICE', 'POSITIVE')],\n",
       " [('PRICE', 'POSITIVE'),\n",
       "  ('FOOD', 'NEGATIVE'),\n",
       "  ('GENERAL-IMPRESSION', 'POSITIVE')],\n",
       " [('AMBIENCE', 'NEGATIVE')],\n",
       " [('AMBIENCE', 'POSITIVE'), ('FOOD', 'POSITIVE')],\n",
       " [('PRICE', 'NEUTRAL')],\n",
       " [('SERVICE', 'NEUTRAL'), ('SERVICE', 'NEUTRAL'), ('SERVICE', 'NEUTRAL')],\n",
       " [('SERVICE', 'POSITIVE'), ('AMBIENCE', 'POSITIVE')],\n",
       " [('PRICE', 'NEGATIVE'), ('FOOD', 'POSITIVE'), ('SERVICE', 'POSITIVE')],\n",
       " [('SERVICE', 'NEGATIVE'), ('FOOD', 'NEUTRAL'), ('AMBIENCE', 'POSITIVE')],\n",
       " [('PRICE', 'POSITIVE')],\n",
       " [('SERVICE', 'POSITIVE')],\n",
       " [('GENERAL-IMPRESSION', 'POSITIVE'), ('GENERAL-IMPRESSION', 'POSITIVE')],\n",
       " [('PRICE', 'NEUTRAL')],\n",
       " [('AMBIENCE', 'POSITIVE')],\n",
       " [('GENERAL-IMPRESSION', 'POSITIVE')],\n",
       " [('GENERAL-IMPRESSION', 'NEGATIVE'), ('GENERAL-IMPRESSION', 'NEGATIVE')],\n",
       " [('FOOD', 'POSITIVE'), ('SERVICE', 'NEUTRAL')],\n",
       " [('PRICE', 'NEGATIVE')],\n",
       " [('PRICE', 'POSITIVE')],\n",
       " [('GENERAL-IMPRESSION', 'POSITIVE')],\n",
       " [('PRICE', 'NEGATIVE')],\n",
       " [('SERVICE', 'NEGATIVE'), ('AMBIENCE', 'POSITIVE')],\n",
       " [('FOOD', 'NEUTRAL')],\n",
       " [('PRICE', 'NEUTRAL'), ('FOOD', 'POSITIVE')],\n",
       " [('PRICE', 'POSITIVE')],\n",
       " [('FOOD', 'NEUTRAL'), ('FOOD', 'NEGATIVE')],\n",
       " [('GENERAL-IMPRESSION', 'NEGATIVE'),\n",
       "  ('PRICE', 'POSITIVE'),\n",
       "  ('FOOD', 'NEUTRAL')],\n",
       " [('SERVICE', 'NEGATIVE'), ('FOOD', 'POSITIVE')],\n",
       " [('SERVICE', 'POSITIVE')],\n",
       " [('GENERAL-IMPRESSION', 'NEGATIVE'),\n",
       "  ('FOOD', 'NEGATIVE'),\n",
       "  ('AMBIENCE', 'NEUTRAL')],\n",
       " [('GENERAL-IMPRESSION', 'NEUTRAL'),\n",
       "  ('AMBIENCE', 'POSITIVE'),\n",
       "  ('AMBIENCE', 'NEUTRAL')],\n",
       " [('AMBIENCE', 'NEUTRAL')],\n",
       " [('FOOD', 'NEUTRAL'), ('PRICE', 'NEGATIVE')],\n",
       " [('GENERAL-IMPRESSION', 'NEGATIVE')],\n",
       " [('FOOD', 'POSITIVE')],\n",
       " [('GENERAL-IMPRESSION', 'POSITIVE')],\n",
       " [('PRICE', 'NEUTRAL'), ('AMBIENCE', 'POSITIVE'), ('FOOD', 'NEGATIVE')],\n",
       " [('AMBIENCE', 'NEUTRAL'), ('PRICE', 'NEUTRAL')],\n",
       " [('FOOD', 'NEUTRAL'), ('SERVICE', 'NEGATIVE')],\n",
       " [('FOOD', 'NEUTRAL')],\n",
       " [('SERVICE', 'NEGATIVE'), ('GENERAL-IMPRESSION', 'POSITIVE')],\n",
       " [('FOOD', 'NEUTRAL')],\n",
       " [('GENERAL-IMPRESSION', 'POSITIVE'),\n",
       "  ('SERVICE', 'POSITIVE'),\n",
       "  ('AMBIENCE', 'NEGATIVE')],\n",
       " [('GENERAL-IMPRESSION', 'NEGATIVE'), ('AMBIENCE', 'NEGATIVE')],\n",
       " [('FOOD', 'POSITIVE')],\n",
       " [('PRICE', 'NEGATIVE')],\n",
       " [('AMBIENCE', 'NEGATIVE')],\n",
       " [('FOOD', 'NEUTRAL'), ('GENERAL-IMPRESSION', 'NEGATIVE')],\n",
       " [('GENERAL-IMPRESSION', 'NEGATIVE'), ('FOOD', 'NEGATIVE')],\n",
       " [('GENERAL-IMPRESSION', 'POSITIVE'), ('PRICE', 'POSITIVE')],\n",
       " [('SERVICE', 'POSITIVE'), ('GENERAL-IMPRESSION', 'NEGATIVE')],\n",
       " [('AMBIENCE', 'POSITIVE'),\n",
       "  ('GENERAL-IMPRESSION', 'NEUTRAL'),\n",
       "  ('AMBIENCE', 'NEUTRAL')],\n",
       " [('FOOD', 'POSITIVE')],\n",
       " [('FOOD', 'NEUTRAL'),\n",
       "  ('GENERAL-IMPRESSION', 'NEGATIVE'),\n",
       "  ('AMBIENCE', 'POSITIVE')],\n",
       " [('FOOD', 'NEUTRAL'), ('GENERAL-IMPRESSION', 'NEGATIVE')],\n",
       " [('FOOD', 'POSITIVE')],\n",
       " [('FOOD', 'NEUTRAL'), ('FOOD', 'NEGATIVE')],\n",
       " [('GENERAL-IMPRESSION', 'POSITIVE'),\n",
       "  ('GENERAL-IMPRESSION', 'NEGATIVE'),\n",
       "  ('AMBIENCE', 'NEGATIVE')],\n",
       " [('AMBIENCE', 'NEUTRAL')],\n",
       " [('AMBIENCE', 'POSITIVE'), ('AMBIENCE', 'NEUTRAL')],\n",
       " [('AMBIENCE', 'POSITIVE')],\n",
       " [('FOOD', 'NEUTRAL')],\n",
       " [('PRICE', 'POSITIVE'), ('AMBIENCE', 'POSITIVE'), ('SERVICE', 'POSITIVE')],\n",
       " [('PRICE', 'NEGATIVE')],\n",
       " [('PRICE', 'POSITIVE'), ('SERVICE', 'POSITIVE')],\n",
       " [('GENERAL-IMPRESSION', 'NEGATIVE'), ('FOOD', 'NEGATIVE')],\n",
       " [('PRICE', 'NEGATIVE'), ('SERVICE', 'NEUTRAL')],\n",
       " [('GENERAL-IMPRESSION', 'NEUTRAL'),\n",
       "  ('GENERAL-IMPRESSION', 'POSITIVE'),\n",
       "  ('SERVICE', 'POSITIVE')],\n",
       " [('SERVICE', 'NEGATIVE')],\n",
       " [('SERVICE', 'POSITIVE')],\n",
       " [('PRICE', 'NEGATIVE')],\n",
       " [('AMBIENCE', 'POSITIVE')],\n",
       " [('AMBIENCE', 'NEUTRAL')],\n",
       " [('FOOD', 'NEUTRAL')],\n",
       " [('SERVICE', 'NEUTRAL'),\n",
       "  ('GENERAL-IMPRESSION', 'NEUTRAL'),\n",
       "  ('AMBIENCE', 'NEGATIVE')],\n",
       " [('PRICE', 'NEUTRAL'), ('FOOD', 'POSITIVE'), ('PRICE', 'POSITIVE')],\n",
       " [('SERVICE', 'POSITIVE'), ('AMBIENCE', 'NEGATIVE'), ('SERVICE', 'POSITIVE')],\n",
       " [('AMBIENCE', 'NEUTRAL')],\n",
       " [('GENERAL-IMPRESSION', 'NEUTRAL'),\n",
       "  ('GENERAL-IMPRESSION', 'NEUTRAL'),\n",
       "  ('AMBIENCE', 'POSITIVE')],\n",
       " [('PRICE', 'NEGATIVE'), ('AMBIENCE', 'POSITIVE')],\n",
       " [('AMBIENCE', 'POSITIVE'), ('FOOD', 'POSITIVE'), ('PRICE', 'POSITIVE')],\n",
       " [('FOOD', 'POSITIVE')],\n",
       " [('PRICE', 'NEGATIVE'), ('PRICE', 'NEUTRAL')],\n",
       " [('FOOD', 'NEUTRAL'), ('FOOD', 'NEGATIVE')],\n",
       " [('FOOD', 'NEUTRAL'), ('AMBIENCE', 'POSITIVE')],\n",
       " [('FOOD', 'POSITIVE')],\n",
       " [('FOOD', 'NEGATIVE'), ('AMBIENCE', 'NEGATIVE'), ('PRICE', 'NEUTRAL')],\n",
       " [('PRICE', 'POSITIVE'), ('AMBIENCE', 'NEUTRAL'), ('AMBIENCE', 'NEUTRAL')],\n",
       " [('GENERAL-IMPRESSION', 'NEGATIVE')],\n",
       " [('SERVICE', 'NEUTRAL'),\n",
       "  ('GENERAL-IMPRESSION', 'NEUTRAL'),\n",
       "  ('AMBIENCE', 'NEUTRAL')],\n",
       " [('FOOD', 'POSITIVE'), ('PRICE', 'NEGATIVE')],\n",
       " [('GENERAL-IMPRESSION', 'POSITIVE'),\n",
       "  ('AMBIENCE', 'POSITIVE'),\n",
       "  ('GENERAL-IMPRESSION', 'NEUTRAL')],\n",
       " [('SERVICE', 'NEUTRAL')],\n",
       " [('AMBIENCE', 'NEGATIVE')],\n",
       " [('FOOD', 'NEUTRAL'), ('AMBIENCE', 'NEUTRAL')],\n",
       " [('FOOD', 'NEGATIVE'), ('PRICE', 'NEGATIVE'), ('SERVICE', 'NEUTRAL')],\n",
       " [('SERVICE', 'NEGATIVE'), ('SERVICE', 'POSITIVE'), ('SERVICE', 'NEUTRAL')],\n",
       " [('GENERAL-IMPRESSION', 'NEUTRAL')],\n",
       " [('SERVICE', 'NEUTRAL')],\n",
       " [('AMBIENCE', 'POSITIVE')],\n",
       " [('AMBIENCE', 'NEGATIVE'), ('AMBIENCE', 'NEGATIVE')],\n",
       " [('PRICE', 'NEGATIVE'), ('FOOD', 'POSITIVE')],\n",
       " [('GENERAL-IMPRESSION', 'NEGATIVE'), ('FOOD', 'POSITIVE')],\n",
       " [('GENERAL-IMPRESSION', 'NEGATIVE'), ('PRICE', 'NEUTRAL')],\n",
       " [('GENERAL-IMPRESSION', 'POSITIVE'),\n",
       "  ('GENERAL-IMPRESSION', 'NEGATIVE'),\n",
       "  ('SERVICE', 'POSITIVE')],\n",
       " [('AMBIENCE', 'NEUTRAL')],\n",
       " [('GENERAL-IMPRESSION', 'POSITIVE')],\n",
       " [('SERVICE', 'NEGATIVE')],\n",
       " [('GENERAL-IMPRESSION', 'NEUTRAL')],\n",
       " [('FOOD', 'NEUTRAL'), ('AMBIENCE', 'POSITIVE')],\n",
       " [('SERVICE', 'NEGATIVE'), ('FOOD', 'NEUTRAL'), ('SERVICE', 'NEUTRAL')],\n",
       " [('PRICE', 'POSITIVE'), ('PRICE', 'NEGATIVE')],\n",
       " [('PRICE', 'NEUTRAL'), ('AMBIENCE', 'NEUTRAL')],\n",
       " [('PRICE', 'NEGATIVE'), ('PRICE', 'NEUTRAL'), ('SERVICE', 'POSITIVE')],\n",
       " [('SERVICE', 'POSITIVE'), ('SERVICE', 'POSITIVE')],\n",
       " [('FOOD', 'NEGATIVE')],\n",
       " [('GENERAL-IMPRESSION', 'POSITIVE'),\n",
       "  ('FOOD', 'NEGATIVE'),\n",
       "  ('AMBIENCE', 'POSITIVE')],\n",
       " [('GENERAL-IMPRESSION', 'POSITIVE'),\n",
       "  ('PRICE', 'NEGATIVE'),\n",
       "  ('SERVICE', 'NEGATIVE')],\n",
       " [('AMBIENCE', 'POSITIVE'),\n",
       "  ('AMBIENCE', 'NEGATIVE'),\n",
       "  ('GENERAL-IMPRESSION', 'POSITIVE')],\n",
       " [('PRICE', 'POSITIVE'),\n",
       "  ('SERVICE', 'NEGATIVE'),\n",
       "  ('GENERAL-IMPRESSION', 'NEUTRAL')],\n",
       " [('FOOD', 'NEGATIVE'), ('FOOD', 'NEGATIVE')],\n",
       " [('PRICE', 'NEGATIVE'), ('AMBIENCE', 'POSITIVE')],\n",
       " [('FOOD', 'POSITIVE')],\n",
       " [('PRICE', 'NEGATIVE')],\n",
       " [('GENERAL-IMPRESSION', 'NEUTRAL'), ('FOOD', 'POSITIVE')],\n",
       " [('SERVICE', 'NEUTRAL'), ('SERVICE', 'NEGATIVE')],\n",
       " [('AMBIENCE', 'NEGATIVE'), ('AMBIENCE', 'POSITIVE')],\n",
       " [('AMBIENCE', 'NEUTRAL'), ('AMBIENCE', 'POSITIVE')],\n",
       " [('FOOD', 'POSITIVE'), ('SERVICE', 'POSITIVE'), ('FOOD', 'NEGATIVE')],\n",
       " [('GENERAL-IMPRESSION', 'NEGATIVE'),\n",
       "  ('SERVICE', 'NEUTRAL'),\n",
       "  ('AMBIENCE', 'POSITIVE')],\n",
       " [('FOOD', 'NEUTRAL'),\n",
       "  ('FOOD', 'NEUTRAL'),\n",
       "  ('GENERAL-IMPRESSION', 'NEGATIVE')],\n",
       " [('FOOD', 'NEGATIVE'), ('SERVICE', 'NEUTRAL'), ('AMBIENCE', 'NEGATIVE')],\n",
       " [('GENERAL-IMPRESSION', 'NEGATIVE'),\n",
       "  ('AMBIENCE', 'NEGATIVE'),\n",
       "  ('AMBIENCE', 'NEUTRAL')],\n",
       " [('FOOD', 'POSITIVE')],\n",
       " [('AMBIENCE', 'NEUTRAL'), ('SERVICE', 'NEUTRAL')],\n",
       " [('FOOD', 'POSITIVE'), ('SERVICE', 'POSITIVE')],\n",
       " [('PRICE', 'NEUTRAL')],\n",
       " [('SERVICE', 'NEGATIVE'), ('SERVICE', 'NEUTRAL'), ('FOOD', 'POSITIVE')],\n",
       " [('SERVICE', 'NEGATIVE')],\n",
       " [('AMBIENCE', 'POSITIVE'), ('FOOD', 'NEGATIVE')],\n",
       " [('PRICE', 'NEUTRAL'),\n",
       "  ('FOOD', 'NEUTRAL'),\n",
       "  ('GENERAL-IMPRESSION', 'NEUTRAL')],\n",
       " [('GENERAL-IMPRESSION', 'POSITIVE')],\n",
       " [('SERVICE', 'NEGATIVE'), ('AMBIENCE', 'POSITIVE')],\n",
       " [('AMBIENCE', 'NEGATIVE')],\n",
       " [('GENERAL-IMPRESSION', 'NEUTRAL'), ('PRICE', 'POSITIVE')],\n",
       " [('AMBIENCE', 'POSITIVE'), ('AMBIENCE', 'POSITIVE'), ('FOOD', 'POSITIVE')],\n",
       " [('SERVICE', 'POSITIVE'), ('SERVICE', 'POSITIVE')],\n",
       " [('AMBIENCE', 'POSITIVE'), ('FOOD', 'NEUTRAL')],\n",
       " [('AMBIENCE', 'NEGATIVE'), ('AMBIENCE', 'NEUTRAL')],\n",
       " [('GENERAL-IMPRESSION', 'NEUTRAL'),\n",
       "  ('GENERAL-IMPRESSION', 'POSITIVE'),\n",
       "  ('GENERAL-IMPRESSION', 'NEGATIVE')],\n",
       " [('FOOD', 'NEGATIVE')],\n",
       " [('FOOD', 'NEGATIVE')],\n",
       " [('FOOD', 'POSITIVE'), ('FOOD', 'POSITIVE'), ('FOOD', 'POSITIVE')],\n",
       " [('AMBIENCE', 'POSITIVE')],\n",
       " [('SERVICE', 'POSITIVE'), ('SERVICE', 'NEUTRAL'), ('AMBIENCE', 'NEGATIVE')],\n",
       " [('GENERAL-IMPRESSION', 'POSITIVE'),\n",
       "  ('FOOD', 'NEUTRAL'),\n",
       "  ('PRICE', 'POSITIVE')],\n",
       " [('SERVICE', 'NEUTRAL')],\n",
       " [('FOOD', 'NEGATIVE'), ('AMBIENCE', 'NEGATIVE')],\n",
       " [('GENERAL-IMPRESSION', 'POSITIVE')],\n",
       " [('GENERAL-IMPRESSION', 'POSITIVE'), ('PRICE', 'NEUTRAL')],\n",
       " [('SERVICE', 'NEGATIVE'),\n",
       "  ('PRICE', 'NEGATIVE'),\n",
       "  ('GENERAL-IMPRESSION', 'POSITIVE')],\n",
       " [('AMBIENCE', 'POSITIVE'), ('FOOD', 'POSITIVE')],\n",
       " [('FOOD', 'NEGATIVE'), ('PRICE', 'POSITIVE')],\n",
       " [('GENERAL-IMPRESSION', 'POSITIVE')],\n",
       " [('SERVICE', 'NEUTRAL'), ('PRICE', 'POSITIVE')],\n",
       " [('PRICE', 'NEUTRAL'),\n",
       "  ('GENERAL-IMPRESSION', 'POSITIVE'),\n",
       "  ('GENERAL-IMPRESSION', 'POSITIVE')],\n",
       " [('AMBIENCE', 'NEUTRAL')],\n",
       " [('SERVICE', 'NEUTRAL'), ('AMBIENCE', 'NEUTRAL')]]"
      ]
     },
     "execution_count": 12,
     "metadata": {},
     "output_type": "execute_result"
    }
   ],
   "source": [
    "labels"
   ]
  },
  {
   "cell_type": "markdown",
   "id": "4b7c44e0-b2ad-4e98-b48a-5c821b68b842",
   "metadata": {
    "tags": []
   },
   "source": [
    "### Setup Prompt Template"
   ]
  },
  {
   "cell_type": "code",
   "execution_count": 12,
   "id": "ff2483b2-621a-4f0e-86f3-a0d2ce921ea0",
   "metadata": {
    "tags": []
   },
   "outputs": [],
   "source": [
    "with open('../prompt_template.txt', 'r') as file:\n",
    "    PROMPT_TEMPLATE = file.read()"
   ]
  },
  {
   "cell_type": "markdown",
   "id": "d27e2452-ebd5-47e4-8b9a-bdd011ea139c",
   "metadata": {},
   "source": [
    "### Load Split"
   ]
  },
  {
   "cell_type": "code",
   "execution_count": 13,
   "id": "817d57c6-f670-446f-9014-706bf10ec4d3",
   "metadata": {
    "tags": []
   },
   "outputs": [],
   "source": [
    "with open(DATASET_PATH, 'r', encoding='utf-8') as json_file:\n",
    "    dataset = json.load(json_file)"
   ]
  },
  {
   "cell_type": "markdown",
   "id": "040660c9-c758-4f82-82bc-17883d92f7f3",
   "metadata": {},
   "source": [
    "### Setup Model"
   ]
  },
  {
   "cell_type": "code",
   "execution_count": 14,
   "id": "194f288c-533a-4776-aee8-91556516cd81",
   "metadata": {
    "tags": []
   },
   "outputs": [],
   "source": [
    "if MODEL_NAME == \"Llama70B\":\n",
    "    llm = Llama(model_path=MODEL_PATHS[MODEL_NAME], seed=SEED, n_gpu_layers=1, n_ctx=CONTEXT_SIZE, verbose=False)\n",
    "    clear_output(wait=False)\n",
    "    def llm_model(text):\n",
    "        return llm(prompt, max_tokens=MAX_TOKENS, stop=[\"Label:\", \"\\n\"], echo=True, top_p=1)[\"choices\"][0][\"text\"][len(text):]"
   ]
  },
  {
   "cell_type": "code",
   "execution_count": null,
   "id": "b12f37f5-2b59-4db2-8150-79c0a7506e9d",
   "metadata": {},
   "outputs": [],
   "source": []
  },
  {
   "cell_type": "markdown",
   "id": "dea6f942-107e-4f86-b15f-b62413d94f7c",
   "metadata": {
    "tags": []
   },
   "source": [
    "### Create Synthetic Samples"
   ]
  },
  {
   "cell_type": "code",
   "execution_count": 15,
   "id": "6cf3ee06-3bfa-4366-b8ba-6fdfec400a44",
   "metadata": {},
   "outputs": [],
   "source": [
    "synth_dataset = []"
   ]
  },
  {
   "cell_type": "code",
   "execution_count": 16,
   "id": "b6fa3658-fbe2-4856-bce1-38d3dea48295",
   "metadata": {
    "tags": []
   },
   "outputs": [],
   "source": [
    "for label in labels[:3]:\n",
    "    \n",
    "    valid_example = False\n",
    "    invalid_xml_schema = 0\n",
    "    invalid_xml_tags = 0\n",
    "    aspect_polarity_in_text_but_not_in_label = 0\n",
    "    more_than_one_sentences = 0\n",
    "    \n",
    "    while valid_example == False:\n",
    "        unique_aspects = [aspect for aspect, _ in label if label.count((aspect, _)) == 1]\n",
    "    \n",
    "        ids_examples_for_aspects = get_examples_for_aspects_in_label(unique_aspects, dataset, random)\n",
    "        additional_examples = [entry for entry in dataset if entry['id'] not in ids_examples_for_aspects]\n",
    "        additional_examples = random.sample(additional_examples, 10-len(ids_examples_for_aspects))\n",
    "\n",
    "        examples = additional_examples + [entry for entry in dataset if entry['id'] in ids_examples_for_aspects]\n",
    "        examples_text = get_examples_as_text(examples)\n",
    "    \n",
    "        prompt_footer = f'\\nLabel:{str(label)}\\nPrediction:'\n",
    "        prompt = PROMPT_TEMPLATE + examples_text + prompt_footer\n",
    "    \n",
    "        prediction = llm_model(prompt)\n",
    "        \n",
    "        if is_valid_xml(f'<input>{prediction}</input>') == False:\n",
    "            invalid_xml_schema += 1\n",
    "        else:\n",
    "            if check_valid_aspect_xml(f'<input>{prediction}</input>') == False:\n",
    "                invalid_xml_tags += 1\n",
    "            else: \n",
    "                prediction_as_json = xml_to_json(prediction, label, MODEL_NAME, SPLIT)\n",
    "                if prediction_as_json == \"not-in-label\":\n",
    "                    aspect_polarity_in_text_but_not_in_label += 1\n",
    "                else: \n",
    "                    if count_sentences_in_text(prediction_as_json[\"text\"]) > 1:\n",
    "                        more_than_one_sentences += 1\n",
    "                    else:\n",
    "                        valid_example = True\n",
    "    \n",
    "    prediction_as_json[\"llm_label\"] = label\n",
    "    prediction_as_json[\"llm_examples\"] = examples\n",
    "    prediction_as_json[\"llm_invalid_xml_schema\"] = invalid_xml_schema\n",
    "    prediction_as_json[\"llm_invalid_xml_tags\"] = invalid_xml_tags\n",
    "    prediction_as_json[\"llm_aspect_polarity_in_text_but_not_in_label\"] = aspect_polarity_in_text_but_not_in_label\n",
    "    prediction_as_json[\"llm_more_than_one_sentences\"] = more_than_one_sentences\n",
    "    \n",
    "    synth_dataset.append(prediction_as_json)"
   ]
  },
  {
   "cell_type": "code",
   "execution_count": 17,
   "id": "7d924859-6b66-4406-a0e3-86c643840c97",
   "metadata": {
    "tags": []
   },
   "outputs": [],
   "source": [
    "# To-Do: Prüfen, ob tags valides xml :white_check_mark: \n",
    "# To-Do: Prüfen, welche Tag-Namen vorkommen :white_check_mark: \n",
    "# To-Do: Was, wenn es keinen Aspekt im Text gibt \n",
    "# To-Do: Validieren, dass Aspekt Tag valide ist \" statt ', nur definierte tags\n",
    "# To-Do: Prüfen, ob Polarität/Label valide :white_check_mark: \n",
    "# To-Do: Prüfen, ob es sich um einen ganzen Satz handelt white_check_mark: "
   ]
  },
  {
   "cell_type": "code",
   "execution_count": 18,
   "id": "909e5caf-0af8-4d46-a608-7bb9e0c6388e",
   "metadata": {
    "tags": []
   },
   "outputs": [
    {
     "data": {
      "text/plain": [
       "['Wir haben uns vorher über Service informiert und der hieß, alles sei Muff.',\n",
       " 'Leider habe das Essen keine gute Dauer hineingebracht und es waren zu wenig Einzelstücke im Angebot.',\n",
       " 'Wir waren 4 Personen die im November letzten Jahres dort gegessen haben und alle von uns fanden das Essen total schlecht und ein Lokal im schlechtesten Sinne.']"
      ]
     },
     "execution_count": 18,
     "metadata": {},
     "output_type": "execute_result"
    }
   ],
   "source": [
    "[ex[\"text\"] for ex in synth_dataset]"
   ]
  },
  {
   "cell_type": "code",
   "execution_count": 19,
   "id": "bbb55592-4e15-4e4e-98b0-ed3346ec21af",
   "metadata": {
    "tags": []
   },
   "outputs": [],
   "source": [
    "json_file_path = f\"synth/{MODEL_NAME}/split_{SPLIT}.json\"\n",
    "os.makedirs(os.path.dirname(json_file_path), exist_ok=True)"
   ]
  },
  {
   "cell_type": "code",
   "execution_count": 20,
   "id": "87caf6a2-c02f-41b4-898e-49e44925dea2",
   "metadata": {
    "tags": []
   },
   "outputs": [],
   "source": [
    "with open(json_file_path, \"w\") as outfile:\n",
    "    json.dump(synth_dataset, outfile)"
   ]
  },
  {
   "cell_type": "code",
   "execution_count": 23,
   "id": "b7866ae4-f53c-4b87-b001-71c9261feeaf",
   "metadata": {
    "tags": []
   },
   "outputs": [],
   "source": [
    "example = {'tags': [\n",
    "  {'end': 34,\n",
    "   'start': 27,\n",
    "   'tag_with_polarity': 'PRICE-NEGATIVE',\n",
    "   'tag_with_polarity_and_type': 'PRICE-NEGATIVE-explicit',\n",
    "   'text': 'Verkauf',\n",
    "   'type': 'label-explicit',\n",
    "   'label': 'PRICE',\n",
    "   'polarity': 'NEGATIVE'\n",
    "  }\n",
    "  ],\n",
    " 'text': 'Wie überall geht es nur um Verkauf!'\n",
    "}"
   ]
  },
  {
   "cell_type": "code",
   "execution_count": 30,
   "id": "493dd5c4-ac3b-4cd0-b2ed-252f34e7e285",
   "metadata": {
    "tags": []
   },
   "outputs": [
    {
     "data": {
      "text/plain": [
       "'\\nLabel:[(\\'PRICE\\', \\'NEGATIVE\\')]\\nPrediction:Wie überall geht es nur um <aspect-term aspect=\"PRICE\" polarity=\"NEGATIVE\">Verkauf</aspect-term>'"
      ]
     },
     "execution_count": 30,
     "metadata": {},
     "output_type": "execute_result"
    }
   ],
   "source": [
    "# get_examples_as_text, xml_to_json\n",
    "# xml_to_json(get_examples_as_text([example]), [(\"PRICE\", \"NEGATIVE\")], MODEL_NAME, SPLIT)\n",
    "\n",
    "get_examples_as_text([example])"
   ]
  },
  {
   "cell_type": "code",
   "execution_count": 34,
   "id": "ecddd116-686a-4a82-9612-c91689b825e1",
   "metadata": {
    "tags": []
   },
   "outputs": [
    {
     "data": {
      "text/plain": [
       "{'tags': [{'text': 'omg',\n",
       "   'start': 6,\n",
       "   'end': 9,\n",
       "   'tag_with_polarity': 'PRICE-POSITIVE',\n",
       "   'tag_with_polarity_and_type': 'PRICE-POSITIVE-explicit',\n",
       "   'type': 'label-explicit',\n",
       "   'label': 'PRICE',\n",
       "   'polarity': 'POSITIVE'},\n",
       "  {'text': 'Preis omg',\n",
       "   'start': 0,\n",
       "   'end': 9,\n",
       "   'tag_with_polarity': 'PRICE-POSITIVE',\n",
       "   'tag_with_polarity_and_type': 'PRICE-POSITIVE-explicit',\n",
       "   'type': 'label-explicit',\n",
       "   'label': 'PRICE',\n",
       "   'polarity': 'POSITIVE'}],\n",
       " 'text': 'Preis omg',\n",
       " 'id': '973eb340-f7f1-436e-849a-b52ebc4517da',\n",
       " 'model': 'Llama70B',\n",
       " 'split': 0}"
      ]
     },
     "execution_count": 34,
     "metadata": {},
     "output_type": "execute_result"
    }
   ],
   "source": [
    "#xml_to_json('Der <aspect-term aspect=\"PRICE\" polarity=\"POSITIVE\">Preis <aspect-term aspect=\"PRICE\" polarity=\"POSITIVE\">omg</aspect-term></aspect-term>', [(\"PRICE\", \"POSITIVE\"), (\"PRICE\", \"POSITIVE\")], MODEL_NAME, SPLIT)\n",
    "xml_to_json('<aspect-term aspect=\"PRICE\" polarity=\"POSITIVE\">Preis <aspect-term aspect=\"PRICE\" polarity=\"POSITIVE\">omg</aspect-term></aspect-term>', [(\"PRICE\", \"POSITIVE\"), (\"PRICE\", \"POSITIVE\")], MODEL_NAME, SPLIT)"
   ]
  },
  {
   "cell_type": "code",
   "execution_count": 21,
   "id": "1f75aa8a-d8cf-413e-a76b-0f49274f6666",
   "metadata": {
    "tags": []
   },
   "outputs": [
    {
     "data": {
      "text/plain": [
       "{'tags': [{'end': 34,\n",
       "   'start': 27,\n",
       "   'tag_with_polarity': 'PRICE-NEGATIVE',\n",
       "   'tag_with_polarity_and_type': 'PRICE-NEGATIVE-explicit',\n",
       "   'text': 'Verkauf',\n",
       "   'type': 'label-explicit',\n",
       "   'label': 'PRICE',\n",
       "   'polarity': 'NEGATIVE'}],\n",
       " 'text': 'Wie überall geht es nur um Verkauf!',\n",
       " 'aspect_available_without_judgement': False,\n",
       " 'two_or_more_sentences': False,\n",
       " 'id': '39945e4d-9eb3-4de3-a37a-ffb1a9917c96',\n",
       " 'city': 'hamburg',\n",
       " 'date': '2023-07-07',\n",
       " 'title': 'Lokaiton ist toll ansonsten enttäuscht !!',\n",
       " 'rating': 2.0,\n",
       " 'review_id': 901244877,\n",
       " 'page_index': 2,\n",
       " 'author_name': 'christina k',\n",
       " 'sentence_idx': 2,\n",
       " 'language_code': 'de',\n",
       " 'restaurant_id': 1483463,\n",
       " 'author_location': '',\n",
       " 'restaurant_name': 'Bullerei',\n",
       " 'detected_language': 'de',\n",
       " 'text_noanonymization': 'Meine Tochter , Ihr Vater und \"Stiefmutter \" sind nach der Abizeugnisvergabe in der Bullerei zu Essen gewesen . Ambiente toll , Essen überpreist und das man der Stiefmutter gratuliert ohne was zu hinterfragen ist schon sehr schmerzhaft .. brauch ich nicht nochmal . Wie überall geht es nur um Verkauf! Das Rindertartar war ok , die dazu angepriesene spezial Majo 2 Cent groß.. schade !!! Man zahlt den Namen mit .. Kartoffelstampf für 6,- mit großen Stücken und 3 Happen .. wer den Hype mitmachen möchte .. Viel Spass und guten Hunger beim Döner danach ! '}"
      ]
     },
     "execution_count": 21,
     "metadata": {},
     "output_type": "execute_result"
    }
   ],
   "source": [
    "dataset[0]"
   ]
  },
  {
   "cell_type": "code",
   "execution_count": null,
   "id": "c305d217-a149-4ab7-a2ec-5aac2a5ae946",
   "metadata": {},
   "outputs": [],
   "source": []
  }
 ],
 "metadata": {
  "kernelspec": {
   "display_name": "Python 3 (ipykernel)",
   "language": "python",
   "name": "python3"
  },
  "language_info": {
   "codemirror_mode": {
    "name": "ipython",
    "version": 3
   },
   "file_extension": ".py",
   "mimetype": "text/x-python",
   "name": "python",
   "nbconvert_exporter": "python",
   "pygments_lexer": "ipython3",
   "version": "3.11.3"
  }
 },
 "nbformat": 4,
 "nbformat_minor": 5
}
