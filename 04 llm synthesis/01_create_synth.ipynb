{
 "cells": [
  {
   "cell_type": "markdown",
   "id": "3bb99927-a103-43f1-83a3-a945c547b342",
   "metadata": {},
   "source": [
    "# Notebook: Split Dataset in folds"
   ]
  },
  {
   "cell_type": "markdown",
   "id": "4e32d2bd-049d-4bf6-9da7-3ef4bf665fef",
   "metadata": {
    "tags": []
   },
   "source": [
    "## Packages"
   ]
  },
  {
   "cell_type": "code",
   "execution_count": 1,
   "id": "399c6d6b-93d8-43c6-bc92-b4777c79d699",
   "metadata": {},
   "outputs": [
    {
     "name": "stderr",
     "output_type": "stream",
     "text": [
      "[nltk_data] Downloading package punkt to\n",
      "[nltk_data]     /Users/nils_hellwig/nltk_data...\n",
      "[nltk_data]   Package punkt is already up-to-date!\n"
     ]
    }
   ],
   "source": [
    "from helper import divide_equally, get_examples_for_aspects_in_label, get_examples_as_text, xml_to_json, is_valid_xml, check_valid_aspect_xml, count_sentences_in_text\n",
    "from IPython.display import clear_output\n",
    "from llama_cpp import Llama\n",
    "import numpy as np\n",
    "import itertools\n",
    "import warnings\n",
    "import random\n",
    "import json\n",
    "import uuid\n",
    "import os"
   ]
  },
  {
   "cell_type": "markdown",
   "id": "00fcaa69-41c0-4e90-a522-f4d3915d16fe",
   "metadata": {},
   "source": [
    "## Settings"
   ]
  },
  {
   "cell_type": "code",
   "execution_count": 2,
   "id": "60e590fd-2eaa-426a-a79f-30d148fb71d3",
   "metadata": {
    "tags": []
   },
   "outputs": [],
   "source": [
    "SPLIT = 0\n",
    "\n",
    "# Select Model for Synthesis\n",
    "MODEL_ID = 0\n",
    "\n",
    "# Number of Examples to be generated with the LLM\n",
    "N_SYNTH = 500\n",
    "\n",
    "# Setup Classes/Polarities for Synthesis\n",
    "CLASSES  = [\"GENERAL-IMPRESSION\", \"FOOD\", \"SERVICE\", \"AMBIENCE\", \"PRICE\"]\n",
    "POLARITY = [\"POSITIVE\", \"NEUTRAL\", \"NEGATIVE\"]"
   ]
  },
  {
   "cell_type": "markdown",
   "id": "6ac519d5-7c23-4fd8-8bac-93b4f1b1f17f",
   "metadata": {
    "tags": []
   },
   "source": [
    "## Parameters"
   ]
  },
  {
   "cell_type": "code",
   "execution_count": 3,
   "id": "54dca12b-2965-4441-b1ce-48a1008a129d",
   "metadata": {},
   "outputs": [],
   "source": [
    "DATASET_PATH = f'../03 dataset split/real/real_{SPLIT}.json'\n",
    "MAX_TOKENS = 200\n",
    "CONTEXT_SIZE = 2048\n",
    "SEED = 43"
   ]
  },
  {
   "cell_type": "code",
   "execution_count": 4,
   "id": "2bbf5c9b-7f77-4466-99b8-fa1bc7fa51aa",
   "metadata": {
    "tags": []
   },
   "outputs": [],
   "source": [
    "random.seed(SEED)"
   ]
  },
  {
   "cell_type": "code",
   "execution_count": 5,
   "id": "243bd623-87d1-4448-9a42-600c9158dbeb",
   "metadata": {},
   "outputs": [],
   "source": [
    "MODELS = [\"Llama70B\", \"GPT-3\"]\n",
    "MODEL_PATHS = {\"Llama70B\": \"llama-2-13b.Q4_0.gguf\"}\n",
    "MODEL_NAME = MODELS[MODEL_ID]"
   ]
  },
  {
   "cell_type": "markdown",
   "id": "7d2231fc-6972-4230-ac87-32530d8a1418",
   "metadata": {},
   "source": [
    "## Code"
   ]
  },
  {
   "cell_type": "markdown",
   "id": "2ee9da56-2f69-40ec-8bb2-d493f2c50f84",
   "metadata": {
    "tags": []
   },
   "source": [
    "### Create Labels for Synthesis"
   ]
  },
  {
   "cell_type": "markdown",
   "id": "fd81d00a-d24a-4932-93a6-3f437cf073fa",
   "metadata": {},
   "source": [
    "#### Calculate Number Examples with 1, 2 or 3 Aspects and total number of Aspects"
   ]
  },
  {
   "cell_type": "code",
   "execution_count": 6,
   "id": "5cf41a92-36ca-489a-aafb-6c63179d424d",
   "metadata": {
    "tags": []
   },
   "outputs": [],
   "source": [
    "n_for_n_aspects = divide_equally(500, random)\n",
    "n_aspects_synth = sum([n_for_n_aspects[0], n_for_n_aspects[1] * 2, n_for_n_aspects[2] * 3])"
   ]
  },
  {
   "cell_type": "code",
   "execution_count": 7,
   "id": "8dba1f0f-3f75-4f0a-88d8-ec3d00199a14",
   "metadata": {
    "tags": []
   },
   "outputs": [
    {
     "data": {
      "text/plain": [
       "(1001, [166, 167, 167])"
      ]
     },
     "execution_count": 7,
     "metadata": {},
     "output_type": "execute_result"
    }
   ],
   "source": [
    "n_aspects_synth, n_for_n_aspects"
   ]
  },
  {
   "cell_type": "markdown",
   "id": "ed52861c-698b-42b4-a246-34a87ef9b3d3",
   "metadata": {},
   "source": [
    "#### Generate Random Tuples\n",
    "\n",
    "Each combination of aspect-category + polarity is equally frequent"
   ]
  },
  {
   "cell_type": "code",
   "execution_count": 8,
   "id": "6811ae90-6017-44d3-8a16-b689f72c5003",
   "metadata": {
    "tags": []
   },
   "outputs": [],
   "source": [
    "combinations = list(itertools.product(CLASSES, POLARITY))\n",
    "total_combinations = len(combinations)\n",
    "desired_count_per_combination = n_aspects_synth // total_combinations\n",
    "remaining_tuples = n_aspects_synth % total_combinations\n",
    "tuples = []\n",
    "for combination in combinations:\n",
    "    for _ in range(desired_count_per_combination):\n",
    "        tuples.append(combination)\n",
    "\n",
    "if remaining_tuples > 0:\n",
    "    tuples.extend(combinations[:remaining_tuples])\n",
    "    \n",
    "random.shuffle(tuples)"
   ]
  },
  {
   "cell_type": "code",
   "execution_count": 9,
   "id": "9abaf453-07b8-4e6d-b200-377921d82f10",
   "metadata": {
    "tags": []
   },
   "outputs": [
    {
     "data": {
      "text/plain": [
       "(1001,\n",
       " [('GENERAL-IMPRESSION', 'POSITIVE'),\n",
       "  ('SERVICE', 'POSITIVE'),\n",
       "  ('SERVICE', 'POSITIVE'),\n",
       "  ('FOOD', 'POSITIVE'),\n",
       "  ('SERVICE', 'NEGATIVE'),\n",
       "  ('SERVICE', 'NEGATIVE'),\n",
       "  ('PRICE', 'NEGATIVE'),\n",
       "  ('SERVICE', 'POSITIVE'),\n",
       "  ('GENERAL-IMPRESSION', 'NEGATIVE'),\n",
       "  ('SERVICE', 'NEUTRAL')])"
      ]
     },
     "execution_count": 9,
     "metadata": {},
     "output_type": "execute_result"
    }
   ],
   "source": [
    "len(tuples), tuples[:10]"
   ]
  },
  {
   "cell_type": "markdown",
   "id": "c732309d-4325-4887-b58f-3e72a8b94f94",
   "metadata": {},
   "source": [
    "#### Generate Labels"
   ]
  },
  {
   "cell_type": "code",
   "execution_count": 10,
   "id": "9cb62677-1fb9-47cf-9063-90db0a3b482d",
   "metadata": {
    "tags": []
   },
   "outputs": [],
   "source": [
    "n_aspects = 1\n",
    "labels = []\n",
    "idx_aspects = 0\n",
    "\n",
    "for k in n_for_n_aspects:\n",
    "    for n in range(k):\n",
    "        label = []\n",
    "        for aspect_idx in range(n_aspects):\n",
    "            label.append(tuples[idx_aspects])\n",
    "            idx_aspects += 1\n",
    "        labels.append(label)\n",
    "    n_aspects += 1"
   ]
  },
  {
   "cell_type": "code",
   "execution_count": 11,
   "id": "305b6298-d8dc-4ffc-9294-22404143b689",
   "metadata": {
    "tags": []
   },
   "outputs": [],
   "source": [
    "random.shuffle(labels)"
   ]
  },
  {
   "cell_type": "markdown",
   "id": "4b7c44e0-b2ad-4e98-b48a-5c821b68b842",
   "metadata": {
    "tags": []
   },
   "source": [
    "### Setup Prompt Template"
   ]
  },
  {
   "cell_type": "code",
   "execution_count": 12,
   "id": "ff2483b2-621a-4f0e-86f3-a0d2ce921ea0",
   "metadata": {
    "tags": []
   },
   "outputs": [],
   "source": [
    "with open('../prompt_template.txt', 'r') as file:\n",
    "    PROMPT_TEMPLATE = file.read()"
   ]
  },
  {
   "cell_type": "markdown",
   "id": "d27e2452-ebd5-47e4-8b9a-bdd011ea139c",
   "metadata": {},
   "source": [
    "### Load Split"
   ]
  },
  {
   "cell_type": "code",
   "execution_count": 13,
   "id": "817d57c6-f670-446f-9014-706bf10ec4d3",
   "metadata": {
    "tags": []
   },
   "outputs": [],
   "source": [
    "with open(DATASET_PATH, 'r', encoding='utf-8') as json_file:\n",
    "    dataset = json.load(json_file)"
   ]
  },
  {
   "cell_type": "markdown",
   "id": "040660c9-c758-4f82-82bc-17883d92f7f3",
   "metadata": {},
   "source": [
    "### Setup Model"
   ]
  },
  {
   "cell_type": "code",
   "execution_count": 14,
   "id": "194f288c-533a-4776-aee8-91556516cd81",
   "metadata": {
    "tags": []
   },
   "outputs": [],
   "source": [
    "if MODEL_NAME == \"Llama70B\":\n",
    "    llm = Llama(model_path=MODEL_PATHS[MODEL_NAME], seed=SEED, n_gpu_layers=1, n_ctx=CONTEXT_SIZE, verbose=False)\n",
    "    clear_output(wait=False)\n",
    "    def llm_model(text):\n",
    "        return llm(prompt, max_tokens=MAX_TOKENS, stop=[\"Label:\", \"\\n\"], echo=True, top_p=1)[\"choices\"][0][\"text\"][len(text):]"
   ]
  },
  {
   "cell_type": "code",
   "execution_count": null,
   "id": "b12f37f5-2b59-4db2-8150-79c0a7506e9d",
   "metadata": {},
   "outputs": [],
   "source": []
  },
  {
   "cell_type": "markdown",
   "id": "dea6f942-107e-4f86-b15f-b62413d94f7c",
   "metadata": {
    "tags": []
   },
   "source": [
    "### Create Synthetic Samples"
   ]
  },
  {
   "cell_type": "code",
   "execution_count": 15,
   "id": "6cf3ee06-3bfa-4366-b8ba-6fdfec400a44",
   "metadata": {},
   "outputs": [],
   "source": [
    "synth_dataset = []"
   ]
  },
  {
   "cell_type": "code",
   "execution_count": 16,
   "id": "b6fa3658-fbe2-4856-bce1-38d3dea48295",
   "metadata": {
    "tags": []
   },
   "outputs": [],
   "source": [
    "for label in labels[:3]:\n",
    "    \n",
    "    valid_example = False\n",
    "    invalid_xml_schema = 0\n",
    "    invalid_xml_tags = 0\n",
    "    aspect_polarity_in_text_but_not_in_label = 0\n",
    "    more_than_one_sentences = 0\n",
    "    \n",
    "    while valid_example == False:\n",
    "        unique_aspects = [aspect for aspect, _ in label if label.count((aspect, _)) == 1]\n",
    "    \n",
    "        ids_examples_for_aspects = get_examples_for_aspects_in_label(unique_aspects, dataset, random)\n",
    "        additional_examples = [entry for entry in dataset if entry['id'] not in ids_examples_for_aspects]\n",
    "        additional_examples = random.sample(additional_examples, 10-len(ids_examples_for_aspects))\n",
    "\n",
    "        examples = additional_examples + [entry for entry in dataset if entry['id'] in ids_examples_for_aspects]\n",
    "        examples_text = get_examples_as_text(examples)\n",
    "    \n",
    "        prompt_footer = f'\\nLabel:{str(label)}\\nPrediction:'\n",
    "        prompt = PROMPT_TEMPLATE + examples_text + prompt_footer\n",
    "    \n",
    "        prediction = llm_model(prompt)\n",
    "        \n",
    "        if is_valid_xml(f'<input>{prediction}</input>') == False:\n",
    "            invalid_xml_schema += 1\n",
    "        else:\n",
    "            if check_valid_aspect_xml(f'<input>{prediction}</input>') == False:\n",
    "                invalid_xml_tags += 1\n",
    "            else: \n",
    "                prediction_as_json = xml_to_json(prediction, label, MODEL_NAME, SPLIT)\n",
    "                if prediction_as_json == \"not-in-label\":\n",
    "                    aspect_polarity_in_text_but_not_in_label += 1\n",
    "                else: \n",
    "                    if count_sentences_in_text(prediction_as_json[\"text\"]) > 1:\n",
    "                        more_than_one_sentences += 1\n",
    "                    else:\n",
    "                        valid_example = True\n",
    "    \n",
    "    prediction_as_json[\"llm_label\"] = label\n",
    "    prediction_as_json[\"llm_examples\"] = examples\n",
    "    prediction_as_json[\"llm_invalid_xml_schema\"] = invalid_xml_schema\n",
    "    prediction_as_json[\"llm_invalid_xml_tags\"] = invalid_xml_tags\n",
    "    prediction_as_json[\"llm_aspect_polarity_in_text_but_not_in_label\"] = aspect_polarity_in_text_but_not_in_label\n",
    "    prediction_as_json[\"llm_more_than_one_sentences\"] = more_than_one_sentences\n",
    "    \n",
    "    synth_dataset.append(prediction_as_json)"
   ]
  },
  {
   "cell_type": "code",
   "execution_count": 17,
   "id": "7d924859-6b66-4406-a0e3-86c643840c97",
   "metadata": {
    "tags": []
   },
   "outputs": [],
   "source": [
    "# To-Do: Prüfen, ob tags valides xml :white_check_mark: \n",
    "# To-Do: Prüfen, welche Tag-Namen vorkommen :white_check_mark: \n",
    "# To-Do: Was, wenn es keinen Aspekt im Text gibt \n",
    "# To-Do: Validieren, dass Aspekt Tag valide ist \" statt ', nur definierte tags\n",
    "# To-Do: Prüfen, ob Polarität/Label valide :white_check_mark: \n",
    "# To-Do: Prüfen, ob es sich um einen ganzen Satz handelt white_check_mark: "
   ]
  },
  {
   "cell_type": "code",
   "execution_count": 18,
   "id": "909e5caf-0af8-4d46-a608-7bb9e0c6388e",
   "metadata": {
    "tags": []
   },
   "outputs": [
    {
     "data": {
      "text/plain": [
       "['Wir haben uns vorher über Service informiert und der hieß, alles sei Muff.',\n",
       " 'Leider habe das Essen keine gute Dauer hineingebracht und es waren zu wenig Einzelstücke im Angebot.',\n",
       " 'Wir waren 4 Personen die im November letzten Jahres dort gegessen haben und alle von uns fanden das Essen total schlecht und ein Lokal im schlechtesten Sinne.']"
      ]
     },
     "execution_count": 18,
     "metadata": {},
     "output_type": "execute_result"
    }
   ],
   "source": [
    "[ex[\"text\"] for ex in synth_dataset]"
   ]
  },
  {
   "cell_type": "code",
   "execution_count": 19,
   "id": "bbb55592-4e15-4e4e-98b0-ed3346ec21af",
   "metadata": {
    "tags": []
   },
   "outputs": [],
   "source": [
    "json_file_path = f\"synth/{MODEL_NAME}/split_{SPLIT}.json\"\n",
    "os.makedirs(os.path.dirname(json_file_path), exist_ok=True)"
   ]
  },
  {
   "cell_type": "code",
   "execution_count": 20,
   "id": "87caf6a2-c02f-41b4-898e-49e44925dea2",
   "metadata": {
    "tags": []
   },
   "outputs": [],
   "source": [
    "with open(json_file_path, \"w\") as outfile:\n",
    "    json.dump(synth_dataset, outfile)"
   ]
  },
  {
   "cell_type": "code",
   "execution_count": 23,
   "id": "b7866ae4-f53c-4b87-b001-71c9261feeaf",
   "metadata": {
    "tags": []
   },
   "outputs": [],
   "source": [
    "example = {'tags': [\n",
    "  {'end': 34,\n",
    "   'start': 27,\n",
    "   'tag_with_polarity': 'PRICE-NEGATIVE',\n",
    "   'tag_with_polarity_and_type': 'PRICE-NEGATIVE-explicit',\n",
    "   'text': 'Verkauf',\n",
    "   'type': 'label-explicit',\n",
    "   'label': 'PRICE',\n",
    "   'polarity': 'NEGATIVE'\n",
    "  }\n",
    "  ],\n",
    " 'text': 'Wie überall geht es nur um Verkauf!'\n",
    "}"
   ]
  },
  {
   "cell_type": "code",
   "execution_count": 30,
   "id": "493dd5c4-ac3b-4cd0-b2ed-252f34e7e285",
   "metadata": {
    "tags": []
   },
   "outputs": [
    {
     "data": {
      "text/plain": [
       "'\\nLabel:[(\\'PRICE\\', \\'NEGATIVE\\')]\\nPrediction:Wie überall geht es nur um <aspect-term aspect=\"PRICE\" polarity=\"NEGATIVE\">Verkauf</aspect-term>'"
      ]
     },
     "execution_count": 30,
     "metadata": {},
     "output_type": "execute_result"
    }
   ],
   "source": [
    "# get_examples_as_text, xml_to_json\n",
    "# xml_to_json(get_examples_as_text([example]), [(\"PRICE\", \"NEGATIVE\")], MODEL_NAME, SPLIT)\n",
    "\n",
    "get_examples_as_text([example])"
   ]
  },
  {
   "cell_type": "code",
   "execution_count": 34,
   "id": "ecddd116-686a-4a82-9612-c91689b825e1",
   "metadata": {
    "tags": []
   },
   "outputs": [
    {
     "data": {
      "text/plain": [
       "{'tags': [{'text': 'omg',\n",
       "   'start': 6,\n",
       "   'end': 9,\n",
       "   'tag_with_polarity': 'PRICE-POSITIVE',\n",
       "   'tag_with_polarity_and_type': 'PRICE-POSITIVE-explicit',\n",
       "   'type': 'label-explicit',\n",
       "   'label': 'PRICE',\n",
       "   'polarity': 'POSITIVE'},\n",
       "  {'text': 'Preis omg',\n",
       "   'start': 0,\n",
       "   'end': 9,\n",
       "   'tag_with_polarity': 'PRICE-POSITIVE',\n",
       "   'tag_with_polarity_and_type': 'PRICE-POSITIVE-explicit',\n",
       "   'type': 'label-explicit',\n",
       "   'label': 'PRICE',\n",
       "   'polarity': 'POSITIVE'}],\n",
       " 'text': 'Preis omg',\n",
       " 'id': '973eb340-f7f1-436e-849a-b52ebc4517da',\n",
       " 'model': 'Llama70B',\n",
       " 'split': 0}"
      ]
     },
     "execution_count": 34,
     "metadata": {},
     "output_type": "execute_result"
    }
   ],
   "source": [
    "#xml_to_json('Der <aspect-term aspect=\"PRICE\" polarity=\"POSITIVE\">Preis <aspect-term aspect=\"PRICE\" polarity=\"POSITIVE\">omg</aspect-term></aspect-term>', [(\"PRICE\", \"POSITIVE\"), (\"PRICE\", \"POSITIVE\")], MODEL_NAME, SPLIT)\n",
    "xml_to_json('<aspect-term aspect=\"PRICE\" polarity=\"POSITIVE\">Preis <aspect-term aspect=\"PRICE\" polarity=\"POSITIVE\">omg</aspect-term></aspect-term>', [(\"PRICE\", \"POSITIVE\"), (\"PRICE\", \"POSITIVE\")], MODEL_NAME, SPLIT)"
   ]
  },
  {
   "cell_type": "code",
   "execution_count": 21,
   "id": "1f75aa8a-d8cf-413e-a76b-0f49274f6666",
   "metadata": {
    "tags": []
   },
   "outputs": [
    {
     "data": {
      "text/plain": [
       "{'tags': [{'end': 34,\n",
       "   'start': 27,\n",
       "   'tag_with_polarity': 'PRICE-NEGATIVE',\n",
       "   'tag_with_polarity_and_type': 'PRICE-NEGATIVE-explicit',\n",
       "   'text': 'Verkauf',\n",
       "   'type': 'label-explicit',\n",
       "   'label': 'PRICE',\n",
       "   'polarity': 'NEGATIVE'}],\n",
       " 'text': 'Wie überall geht es nur um Verkauf!',\n",
       " 'aspect_available_without_judgement': False,\n",
       " 'two_or_more_sentences': False,\n",
       " 'id': '39945e4d-9eb3-4de3-a37a-ffb1a9917c96',\n",
       " 'city': 'hamburg',\n",
       " 'date': '2023-07-07',\n",
       " 'title': 'Lokaiton ist toll ansonsten enttäuscht !!',\n",
       " 'rating': 2.0,\n",
       " 'review_id': 901244877,\n",
       " 'page_index': 2,\n",
       " 'author_name': 'christina k',\n",
       " 'sentence_idx': 2,\n",
       " 'language_code': 'de',\n",
       " 'restaurant_id': 1483463,\n",
       " 'author_location': '',\n",
       " 'restaurant_name': 'Bullerei',\n",
       " 'detected_language': 'de',\n",
       " 'text_noanonymization': 'Meine Tochter , Ihr Vater und \"Stiefmutter \" sind nach der Abizeugnisvergabe in der Bullerei zu Essen gewesen . Ambiente toll , Essen überpreist und das man der Stiefmutter gratuliert ohne was zu hinterfragen ist schon sehr schmerzhaft .. brauch ich nicht nochmal . Wie überall geht es nur um Verkauf! Das Rindertartar war ok , die dazu angepriesene spezial Majo 2 Cent groß.. schade !!! Man zahlt den Namen mit .. Kartoffelstampf für 6,- mit großen Stücken und 3 Happen .. wer den Hype mitmachen möchte .. Viel Spass und guten Hunger beim Döner danach ! '}"
      ]
     },
     "execution_count": 21,
     "metadata": {},
     "output_type": "execute_result"
    }
   ],
   "source": [
    "dataset[0]"
   ]
  },
  {
   "cell_type": "code",
   "execution_count": null,
   "id": "c305d217-a149-4ab7-a2ec-5aac2a5ae946",
   "metadata": {},
   "outputs": [],
   "source": []
  }
 ],
 "metadata": {
  "kernelspec": {
   "display_name": "Python 3 (ipykernel)",
   "language": "python",
   "name": "python3"
  },
  "language_info": {
   "codemirror_mode": {
    "name": "ipython",
    "version": 3
   },
   "file_extension": ".py",
   "mimetype": "text/x-python",
   "name": "python",
   "nbconvert_exporter": "python",
   "pygments_lexer": "ipython3",
   "version": "3.11.3"
  }
 },
 "nbformat": 4,
 "nbformat_minor": 5
}
