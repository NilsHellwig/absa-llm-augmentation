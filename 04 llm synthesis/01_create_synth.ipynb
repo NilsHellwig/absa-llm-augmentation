{
 "cells": [
  {
   "cell_type": "markdown",
   "id": "3bb99927-a103-43f1-83a3-a945c547b342",
   "metadata": {},
   "source": [
    "# Notebook: Split Dataset in folds"
   ]
  },
  {
   "cell_type": "markdown",
   "id": "4e32d2bd-049d-4bf6-9da7-3ef4bf665fef",
   "metadata": {
    "tags": []
   },
   "source": [
    "## Packages"
   ]
  },
  {
   "cell_type": "code",
   "execution_count": 1,
   "id": "399c6d6b-93d8-43c6-bc92-b4777c79d699",
   "metadata": {},
   "outputs": [],
   "source": [
    "from helper import divide_equally, get_examples_for_aspects_in_label, get_examples_as_text\n",
    "from IPython.display import clear_output\n",
    "from llama_cpp import Llama\n",
    "import numpy as np\n",
    "import itertools\n",
    "import warnings\n",
    "import random\n",
    "import json"
   ]
  },
  {
   "cell_type": "markdown",
   "id": "00fcaa69-41c0-4e90-a522-f4d3915d16fe",
   "metadata": {},
   "source": [
    "## Settings"
   ]
  },
  {
   "cell_type": "code",
   "execution_count": 2,
   "id": "60e590fd-2eaa-426a-a79f-30d148fb71d3",
   "metadata": {
    "tags": []
   },
   "outputs": [],
   "source": [
    "SPLIT = 0\n",
    "\n",
    "# Select Model for Synthesis\n",
    "MODELS = [\"Llama70B\"]\n",
    "MODEL = MODELS[0]\n",
    "\n",
    "# Number of Examples to be generated with the LLM\n",
    "N_SYNTH = 500\n",
    "\n",
    "# Setup Classes/Polarities for Synthesis\n",
    "CLASSES  = [\"GENERAL-IMPRESSION\", \"FOOD\", \"SERVICE\", \"AMBIENCE\", \"PRICE\"]\n",
    "POLARITY = [\"POSITIVE\", \"NEUTRAL\", \"NEGATIVE\"]"
   ]
  },
  {
   "cell_type": "markdown",
   "id": "6ac519d5-7c23-4fd8-8bac-93b4f1b1f17f",
   "metadata": {
    "tags": []
   },
   "source": [
    "## Parameters"
   ]
  },
  {
   "cell_type": "code",
   "execution_count": 3,
   "id": "54dca12b-2965-4441-b1ce-48a1008a129d",
   "metadata": {},
   "outputs": [],
   "source": [
    "DATASET_PATH = f'../03 dataset split/real/real_{SPLIT}.json'\n",
    "MAX_TOKENS = 200\n",
    "CONTEXT_SIZE = 2048\n",
    "SEED = 43"
   ]
  },
  {
   "cell_type": "code",
   "execution_count": 4,
   "id": "2bbf5c9b-7f77-4466-99b8-fa1bc7fa51aa",
   "metadata": {
    "tags": []
   },
   "outputs": [],
   "source": [
    "random.seed(SEED)"
   ]
  },
  {
   "cell_type": "markdown",
   "id": "7d2231fc-6972-4230-ac87-32530d8a1418",
   "metadata": {},
   "source": [
    "## Code"
   ]
  },
  {
   "cell_type": "markdown",
   "id": "2ee9da56-2f69-40ec-8bb2-d493f2c50f84",
   "metadata": {
    "tags": []
   },
   "source": [
    "### Create Labels for Synthesis"
   ]
  },
  {
   "cell_type": "markdown",
   "id": "fd81d00a-d24a-4932-93a6-3f437cf073fa",
   "metadata": {},
   "source": [
    "#### Calculate Number Examples with 1, 2 or 3 Aspects and total number of Aspects"
   ]
  },
  {
   "cell_type": "code",
   "execution_count": 5,
   "id": "5cf41a92-36ca-489a-aafb-6c63179d424d",
   "metadata": {
    "tags": []
   },
   "outputs": [],
   "source": [
    "n_for_n_aspects = divide_equally(500, random)\n",
    "n_aspects_synth = sum([n_for_n_aspects[0], n_for_n_aspects[1] * 2, n_for_n_aspects[2] * 3])"
   ]
  },
  {
   "cell_type": "code",
   "execution_count": 6,
   "id": "8dba1f0f-3f75-4f0a-88d8-ec3d00199a14",
   "metadata": {
    "tags": []
   },
   "outputs": [
    {
     "data": {
      "text/plain": [
       "(1001, [166, 167, 167])"
      ]
     },
     "execution_count": 6,
     "metadata": {},
     "output_type": "execute_result"
    }
   ],
   "source": [
    "n_aspects_synth, n_for_n_aspects"
   ]
  },
  {
   "cell_type": "markdown",
   "id": "ed52861c-698b-42b4-a246-34a87ef9b3d3",
   "metadata": {},
   "source": [
    "#### Generate Random Tuples\n",
    "\n",
    "Each combination of aspect-category + polarity is equally frequent"
   ]
  },
  {
   "cell_type": "code",
   "execution_count": 7,
   "id": "6811ae90-6017-44d3-8a16-b689f72c5003",
   "metadata": {
    "tags": []
   },
   "outputs": [],
   "source": [
    "combinations = list(itertools.product(CLASSES, POLARITY))\n",
    "total_combinations = len(combinations)\n",
    "desired_count_per_combination = n_aspects_synth // total_combinations\n",
    "remaining_tuples = n_aspects_synth % total_combinations\n",
    "tuples = []\n",
    "for combination in combinations:\n",
    "    for _ in range(desired_count_per_combination):\n",
    "        tuples.append(combination)\n",
    "\n",
    "if remaining_tuples > 0:\n",
    "    tuples.extend(combinations[:remaining_tuples])\n",
    "    \n",
    "random.shuffle(tuples)"
   ]
  },
  {
   "cell_type": "code",
   "execution_count": 8,
   "id": "9abaf453-07b8-4e6d-b200-377921d82f10",
   "metadata": {
    "tags": []
   },
   "outputs": [
    {
     "data": {
      "text/plain": [
       "(1001,\n",
       " [('GENERAL-IMPRESSION', 'POSITIVE'),\n",
       "  ('SERVICE', 'POSITIVE'),\n",
       "  ('SERVICE', 'POSITIVE'),\n",
       "  ('FOOD', 'POSITIVE'),\n",
       "  ('SERVICE', 'NEGATIVE'),\n",
       "  ('SERVICE', 'NEGATIVE'),\n",
       "  ('PRICE', 'NEGATIVE'),\n",
       "  ('SERVICE', 'POSITIVE'),\n",
       "  ('GENERAL-IMPRESSION', 'NEGATIVE'),\n",
       "  ('SERVICE', 'NEUTRAL')])"
      ]
     },
     "execution_count": 8,
     "metadata": {},
     "output_type": "execute_result"
    }
   ],
   "source": [
    "len(tuples), tuples[:10]"
   ]
  },
  {
   "cell_type": "markdown",
   "id": "c732309d-4325-4887-b58f-3e72a8b94f94",
   "metadata": {},
   "source": [
    "#### Generate Labels"
   ]
  },
  {
   "cell_type": "code",
   "execution_count": 9,
   "id": "9cb62677-1fb9-47cf-9063-90db0a3b482d",
   "metadata": {
    "tags": []
   },
   "outputs": [],
   "source": [
    "n_aspects = 1\n",
    "labels = []\n",
    "idx_aspects = 0\n",
    "\n",
    "for k in n_for_n_aspects:\n",
    "    for n in range(k):\n",
    "        label = []\n",
    "        for aspect_idx in range(n_aspects):\n",
    "            label.append(tuples[idx_aspects])\n",
    "            idx_aspects += 1\n",
    "        labels.append(label)\n",
    "    n_aspects += 1"
   ]
  },
  {
   "cell_type": "code",
   "execution_count": 10,
   "id": "305b6298-d8dc-4ffc-9294-22404143b689",
   "metadata": {
    "tags": []
   },
   "outputs": [],
   "source": [
    "random.shuffle(labels)"
   ]
  },
  {
   "cell_type": "markdown",
   "id": "4b7c44e0-b2ad-4e98-b48a-5c821b68b842",
   "metadata": {
    "tags": []
   },
   "source": [
    "### Setup Prompt Template"
   ]
  },
  {
   "cell_type": "code",
   "execution_count": 11,
   "id": "ff2483b2-621a-4f0e-86f3-a0d2ce921ea0",
   "metadata": {
    "tags": []
   },
   "outputs": [],
   "source": [
    "with open('../prompt_template.txt', 'r') as file:\n",
    "    PROMPT_TEMPLATE = file.read()"
   ]
  },
  {
   "cell_type": "markdown",
   "id": "d27e2452-ebd5-47e4-8b9a-bdd011ea139c",
   "metadata": {},
   "source": [
    "### Load Split"
   ]
  },
  {
   "cell_type": "code",
   "execution_count": 12,
   "id": "817d57c6-f670-446f-9014-706bf10ec4d3",
   "metadata": {
    "tags": []
   },
   "outputs": [],
   "source": [
    "with open(DATASET_PATH, 'r', encoding='utf-8') as json_file:\n",
    "    dataset = json.load(json_file)"
   ]
  },
  {
   "cell_type": "markdown",
   "id": "040660c9-c758-4f82-82bc-17883d92f7f3",
   "metadata": {},
   "source": [
    "### Setup Model"
   ]
  },
  {
   "cell_type": "code",
   "execution_count": 13,
   "id": "194f288c-533a-4776-aee8-91556516cd81",
   "metadata": {
    "tags": []
   },
   "outputs": [],
   "source": [
    "llm = Llama(model_path=\"llama-2-13b.Q4_0.gguf\", seed=SEED, n_gpu_layers=1, n_ctx=CONTEXT_SIZE, verbose=False)\n",
    "clear_output(wait=False)"
   ]
  },
  {
   "cell_type": "markdown",
   "id": "dea6f942-107e-4f86-b15f-b62413d94f7c",
   "metadata": {
    "tags": []
   },
   "source": [
    "### Create Synthetic Samples"
   ]
  },
  {
   "cell_type": "code",
   "execution_count": 14,
   "id": "b6fa3658-fbe2-4856-bce1-38d3dea48295",
   "metadata": {
    "tags": []
   },
   "outputs": [
    {
     "name": "stdout",
     "output_type": "stream",
     "text": [
      "Bitte erzeuge genau einen Satz einer Restaurantbewertung, die für das Training eines Modells für die Aspekt-basierte Sentiment Analyse verwendet werden kann.\n",
      "Gegeben ist ein Label in Form eines Arrays, wobei für jedes Sentiment, mit dem eine Aspekt-Kategorie im Satz adressiert wird, ein Tuple (Aspekt-Kategorie, Aspekt-Sentiment) vorhanden ist.\n",
      "Eine Aspekt-Kategorie kann mehrfach im Satz adressiert werden, auch mit verschiedenen Sentiment-Polaritäten.\n",
      "\n",
      "* Aspekt-Kategorien hat nur diese Werte: [\"GENERAL-IMPRESSION\", \"FOOD\", \"SERVICE\", \"PRICE\", \"AMBIENCE\"]\n",
      "* Sentiment nur diese Polaritäten: [\"negative\", \"neutral\", \"positive\"]\n",
      "\n",
      "Auf Basis des Arrays soll genau ein deutscher Satz erzeugt werden, der die in den Tuple definierten Aspekte enthält.\n",
      "Zusätzlich kann für ein im Label vorgegebenes Tuple (Aspekt-Kategorie, Aspekt-Sentiment) ein Aspekte-Term im Text vorliegen.\n",
      "Der Aspekt-Term wird mithilfe eines xml-Tags markiert.\n",
      "\n",
      "Gebe nur die Prediction zurück, ohne Kommentare oder zusätzlichen Text.\n",
      "\n",
      "Label:[('FOOD', 'POSITIVE'), ('FOOD', 'POSITIVE')]\n",
      "Prediction:Viel Auswahl an <aspect-term aspect=\"FOOD\" polarity=\"POSITIVE\">Fisch</aspect-term> und <aspect-term aspect=\"FOOD\" polarity=\"POSITIVE\">Meeresfrüchten</aspect-term>.\n",
      "Label:[('FOOD', 'POSITIVE'), ('PRICE', 'NEGATIVE')]\n",
      "Prediction:Und gerade in der aktuellen Zeit kostet gutes <aspect-term aspect=\"FOOD\" polarity=\"POSITIVE\">Fleisch</aspect-term> eben seinen <aspect-term aspect=\"PRICE\" polarity=\"NEGATIVE\">Preis</aspect-term>, der sich auch auf der Karte spiegelt.\n",
      "Label:[('AMBIENCE', 'NEGATIVE'), ('FOOD', 'NEUTRAL'), ('FOOD', 'NEUTRAL'), ('PRICE', 'NEUTRAL')]\n",
      "Prediction:Aufgrund der ungemütlichen <aspect-term aspect=\"AMBIENCE\" polarity=\"NEGATIVE\">Atmosphäre</aspect-term> haben wir kein <aspect-term aspect=\"FOOD\" polarity=\"NEUTRAL\">Dessert</aspect-term> oder <aspect-term aspect=\"FOOD\" polarity=\"NEUTRAL\">Kaffee</aspect-term> gewählt und haben sofort gezahlt.\n",
      "Label:[('FOOD', 'POSITIVE'), ('FOOD', 'POSITIVE')]\n",
      "Prediction:Viel Auswahl an <aspect-term aspect=\"FOOD\" polarity=\"POSITIVE\">Fisch</aspect-term> und <aspect-term aspect=\"FOOD\" polarity=\"POSITIVE\">Meeresfrüchten</aspect-term>.\n",
      "Label:[('FOOD', 'NEGATIVE'), ('FOOD', 'NEUTRAL')]\n",
      "Prediction:Damit war die <aspect-term aspect=\"FOOD\" polarity=\"NEGATIVE\">Sauce</aspect-term> in Summe ein wenig zu salzig und hat die <aspect-term aspect=\"FOOD\" polarity=\"NEUTRAL\">Steinpilze</aspect-term> komplett überdeckt.\n",
      "Label:[('FOOD', 'POSITIVE'), ('FOOD', 'POSITIVE')]\n",
      "Prediction:Viel Auswahl an <aspect-term aspect=\"FOOD\" polarity=\"POSITIVE\">Fisch</aspect-term> und <aspect-term aspect=\"FOOD\" polarity=\"POSITIVE\">Meeresfrüchten</aspect-term>.\n",
      "Label:[('FOOD', 'POSITIVE'), ('GENERAL-IMPRESSION', 'POSITIVE')]\n",
      "Prediction:Schönes <aspect-term aspect=\"GENERAL-IMPRESSION\" polarity=\"POSITIVE\">Lokal</aspect-term> mit gutbürgerlicher <aspect-term aspect=\"FOOD\" polarity=\"POSITIVE\">Küche</aspect-term> und regionalen Produkten.\n",
      "Label:[('FOOD', 'POSITIVE'), ('PRICE', 'NEGATIVE')]\n",
      "Prediction:Und gerade in der aktuellen Zeit kostet gutes <aspect-term aspect=\"FOOD\" polarity=\"POSITIVE\">Fleisch</aspect-term> eben seinen <aspect-term aspect=\"PRICE\" polarity=\"NEGATIVE\">Preis</aspect-term>, der sich auch auf der Karte spiegelt.\n",
      "Label:[('SERVICE', 'POSITIVE'), ('FOOD', 'POSITIVE')]\n",
      "Prediction:Überragender <aspect-term aspect=\"SERVICE\" polarity=\"POSITIVE\">Service</aspect-term>, köstliche <aspect-term aspect=\"FOOD\" polarity=\"POSITIVE\">Speisen</aspect-term>!Wir kommen immer wieder, Reservieren angeraten!\n",
      "Label:[('PRICE', 'NEGATIVE')]\n",
      "Prediction:Wie überall geht es nur um <aspect-term aspect=\"PRICE\" polarity=\"NEGATIVE\">Verkauf</aspect-term>\n",
      "Label:[('FOOD', 'NEGATIVE'), ('SERVICE', 'NEUTRAL'), ('PRICE', 'NEGATIVE')]\n",
      "Prediction:\n",
      "Die <aspect-term aspect=\"FOOD\" polarity=\"NEGATIVE\">Qualität</aspect-term> war unbefriedigend, der Service konnte aber nicht mit der <aspect-term aspect=\"SERVICE\" polarity=\"NEUTRAL\">Personalbeschäftigung</aspect-term> bezüglich ihrer <aspect-term aspect=\"PRICE\" polarity=\"NEGATIVE\">Löhne</aspect-term> mithalten.\n"
     ]
    }
   ],
   "source": [
    "for label in labels[:1]:\n",
    "    unique_aspects = list(set(aspect for aspect, _ in label))\n",
    "    ids_examples_for_aspects = get_examples_for_aspects_in_label(unique_aspects, random, dataset)\n",
    "    \n",
    "    additional_examples = [entry for entry in dataset if entry['id'] not in ids_examples_for_aspects]\n",
    "    additional_examples = random.sample(additional_examples, 10-len(ids_examples_for_aspects))\n",
    "\n",
    "    examples = additional_examples + [entry for entry in dataset if entry['id'] in ids_examples_for_aspects]\n",
    "    examples_text = get_examples_as_text(examples)\n",
    "    \n",
    "    prompt_footer = f'\\nLabel:{str(label)}\\nPrediction:'\n",
    "    prompt = PROMPT_TEMPLATE + examples_text + prompt_footer\n",
    "    \n",
    "    print(prompt)\n",
    "    prediction = llm(prompt, max_tokens=MAX_TOKENS, stop=[\"Label:\", \"\\n\"], echo=True, top_p=1)[\"choices\"][0][\"text\"][len(prompt):]\n",
    "    print(prediction)"
   ]
  },
  {
   "cell_type": "code",
   "execution_count": 80,
   "id": "a57d6e01-4a56-41ae-b33c-2a549f8b4783",
   "metadata": {
    "tags": []
   },
   "outputs": [
    {
     "name": "stdout",
     "output_type": "stream",
     "text": [
      "Match gefunden bei Position 12-245: '<aspect-term aspect=\"AMBIENCE\" polarity=\"NEUTRAL\"><aspect-term aspect=\"AMBIENCE\" polarity=\"NEUTRAL\">Brauerreigasthaus</aspect-term></aspect-term> mit typischen <aspect-term aspect=\"AMBIENCE\" polarity=\"NEUTRAL\">Schnitzel</aspect-term>'\n",
      "Match gefunden bei Position 62-245: '<aspect-term aspect=\"AMBIENCE\" polarity=\"NEUTRAL\">Brauerreigasthaus</aspect-term></aspect-term> mit typischen <aspect-term aspect=\"AMBIENCE\" polarity=\"NEUTRAL\">Schnitzel</aspect-term>'\n",
      "Match gefunden bei Position 172-245: '<aspect-term aspect=\"AMBIENCE\" polarity=\"NEUTRAL\">Schnitzel</aspect-term>'\n"
     ]
    }
   ],
   "source": [
    "import regex as re\n",
    "\n",
    "s = 'Klassisches <aspect-term aspect=\"AMBIENCE\" polarity=\"NEUTRAL\"><aspect-term aspect=\"AMBIENCE\" polarity=\"NEUTRAL\">Brauerreigasthaus</aspect-term></aspect-term> mit typischen <aspect-term aspect=\"AMBIENCE\" polarity=\"NEUTRAL\">Schnitzel</aspect-term>.'\n",
    "\n",
    "pattern = r'<aspect-term.+<\\/aspect-term>'\n",
    "matches = list(re.finditer(pattern, s, overlapped=True))\n",
    "\n",
    "for match in matches:\n",
    "    start = match.start()\n",
    "    end = match.end()\n",
    "    print(f\"Match gefunden bei Position {start}-{end}: '{s[start:end]}'\")\n",
    "\n"
   ]
  },
  {
   "cell_type": "code",
   "execution_count": null,
   "id": "14191e29-a829-4cfb-8128-23f0ceda1f83",
   "metadata": {},
   "outputs": [],
   "source": []
  }
 ],
 "metadata": {
  "kernelspec": {
   "display_name": "Python 3 (ipykernel)",
   "language": "python",
   "name": "python3"
  },
  "language_info": {
   "codemirror_mode": {
    "name": "ipython",
    "version": 3
   },
   "file_extension": ".py",
   "mimetype": "text/x-python",
   "name": "python",
   "nbconvert_exporter": "python",
   "pygments_lexer": "ipython3",
   "version": "3.11.3"
  }
 },
 "nbformat": 4,
 "nbformat_minor": 5
}
