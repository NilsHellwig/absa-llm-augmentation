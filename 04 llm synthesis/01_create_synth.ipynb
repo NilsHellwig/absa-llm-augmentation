{
 "cells": [
  {
   "cell_type": "markdown",
   "id": "3bb99927-a103-43f1-83a3-a945c547b342",
   "metadata": {},
   "source": [
    "# Notebook: Split Dataset in folds"
   ]
  },
  {
   "cell_type": "markdown",
   "id": "4e32d2bd-049d-4bf6-9da7-3ef4bf665fef",
   "metadata": {
    "tags": []
   },
   "source": [
    "## Packages"
   ]
  },
  {
   "cell_type": "code",
   "execution_count": 1,
   "id": "399c6d6b-93d8-43c6-bc92-b4777c79d699",
   "metadata": {},
   "outputs": [],
   "source": [
    "from helper import divide_equally, get_examples_for_aspects_in_label, get_examples_as_text, xml_to_json, is_valid_xml, check_valid_aspect_xml\n",
    "from IPython.display import clear_output\n",
    "from llama_cpp import Llama\n",
    "import numpy as np\n",
    "import itertools\n",
    "import warnings\n",
    "import random\n",
    "import json\n",
    "import uuid"
   ]
  },
  {
   "cell_type": "markdown",
   "id": "00fcaa69-41c0-4e90-a522-f4d3915d16fe",
   "metadata": {},
   "source": [
    "## Settings"
   ]
  },
  {
   "cell_type": "code",
   "execution_count": 2,
   "id": "60e590fd-2eaa-426a-a79f-30d148fb71d3",
   "metadata": {
    "tags": []
   },
   "outputs": [],
   "source": [
    "SPLIT = 0\n",
    "\n",
    "# Select Model for Synthesis\n",
    "MODELS = [\"Llama70B\"]\n",
    "MODEL = MODELS[0]\n",
    "\n",
    "# Number of Examples to be generated with the LLM\n",
    "N_SYNTH = 500\n",
    "\n",
    "# Setup Classes/Polarities for Synthesis\n",
    "CLASSES  = [\"GENERAL-IMPRESSION\", \"FOOD\", \"SERVICE\", \"AMBIENCE\", \"PRICE\"]\n",
    "POLARITY = [\"POSITIVE\", \"NEUTRAL\", \"NEGATIVE\"]"
   ]
  },
  {
   "cell_type": "markdown",
   "id": "6ac519d5-7c23-4fd8-8bac-93b4f1b1f17f",
   "metadata": {
    "tags": []
   },
   "source": [
    "## Parameters"
   ]
  },
  {
   "cell_type": "code",
   "execution_count": 3,
   "id": "54dca12b-2965-4441-b1ce-48a1008a129d",
   "metadata": {},
   "outputs": [],
   "source": [
    "DATASET_PATH = f'../03 dataset split/real/real_{SPLIT}.json'\n",
    "MAX_TOKENS = 200\n",
    "CONTEXT_SIZE = 2048\n",
    "SEED = 43"
   ]
  },
  {
   "cell_type": "code",
   "execution_count": 4,
   "id": "2bbf5c9b-7f77-4466-99b8-fa1bc7fa51aa",
   "metadata": {
    "tags": []
   },
   "outputs": [],
   "source": [
    "random.seed(SEED)"
   ]
  },
  {
   "cell_type": "markdown",
   "id": "7d2231fc-6972-4230-ac87-32530d8a1418",
   "metadata": {},
   "source": [
    "## Code"
   ]
  },
  {
   "cell_type": "markdown",
   "id": "2ee9da56-2f69-40ec-8bb2-d493f2c50f84",
   "metadata": {
    "tags": []
   },
   "source": [
    "### Create Labels for Synthesis"
   ]
  },
  {
   "cell_type": "markdown",
   "id": "fd81d00a-d24a-4932-93a6-3f437cf073fa",
   "metadata": {},
   "source": [
    "#### Calculate Number Examples with 1, 2 or 3 Aspects and total number of Aspects"
   ]
  },
  {
   "cell_type": "code",
   "execution_count": 5,
   "id": "5cf41a92-36ca-489a-aafb-6c63179d424d",
   "metadata": {
    "tags": []
   },
   "outputs": [],
   "source": [
    "n_for_n_aspects = divide_equally(500, random)\n",
    "n_aspects_synth = sum([n_for_n_aspects[0], n_for_n_aspects[1] * 2, n_for_n_aspects[2] * 3])"
   ]
  },
  {
   "cell_type": "code",
   "execution_count": 6,
   "id": "8dba1f0f-3f75-4f0a-88d8-ec3d00199a14",
   "metadata": {
    "tags": []
   },
   "outputs": [
    {
     "data": {
      "text/plain": [
       "(1001, [166, 167, 167])"
      ]
     },
     "execution_count": 6,
     "metadata": {},
     "output_type": "execute_result"
    }
   ],
   "source": [
    "n_aspects_synth, n_for_n_aspects"
   ]
  },
  {
   "cell_type": "markdown",
   "id": "ed52861c-698b-42b4-a246-34a87ef9b3d3",
   "metadata": {},
   "source": [
    "#### Generate Random Tuples\n",
    "\n",
    "Each combination of aspect-category + polarity is equally frequent"
   ]
  },
  {
   "cell_type": "code",
   "execution_count": 7,
   "id": "6811ae90-6017-44d3-8a16-b689f72c5003",
   "metadata": {
    "tags": []
   },
   "outputs": [],
   "source": [
    "combinations = list(itertools.product(CLASSES, POLARITY))\n",
    "total_combinations = len(combinations)\n",
    "desired_count_per_combination = n_aspects_synth // total_combinations\n",
    "remaining_tuples = n_aspects_synth % total_combinations\n",
    "tuples = []\n",
    "for combination in combinations:\n",
    "    for _ in range(desired_count_per_combination):\n",
    "        tuples.append(combination)\n",
    "\n",
    "if remaining_tuples > 0:\n",
    "    tuples.extend(combinations[:remaining_tuples])\n",
    "    \n",
    "random.shuffle(tuples)"
   ]
  },
  {
   "cell_type": "code",
   "execution_count": 8,
   "id": "9abaf453-07b8-4e6d-b200-377921d82f10",
   "metadata": {
    "tags": []
   },
   "outputs": [
    {
     "data": {
      "text/plain": [
       "(1001,\n",
       " [('GENERAL-IMPRESSION', 'POSITIVE'),\n",
       "  ('SERVICE', 'POSITIVE'),\n",
       "  ('SERVICE', 'POSITIVE'),\n",
       "  ('FOOD', 'POSITIVE'),\n",
       "  ('SERVICE', 'NEGATIVE'),\n",
       "  ('SERVICE', 'NEGATIVE'),\n",
       "  ('PRICE', 'NEGATIVE'),\n",
       "  ('SERVICE', 'POSITIVE'),\n",
       "  ('GENERAL-IMPRESSION', 'NEGATIVE'),\n",
       "  ('SERVICE', 'NEUTRAL')])"
      ]
     },
     "execution_count": 8,
     "metadata": {},
     "output_type": "execute_result"
    }
   ],
   "source": [
    "len(tuples), tuples[:10]"
   ]
  },
  {
   "cell_type": "markdown",
   "id": "c732309d-4325-4887-b58f-3e72a8b94f94",
   "metadata": {},
   "source": [
    "#### Generate Labels"
   ]
  },
  {
   "cell_type": "code",
   "execution_count": 9,
   "id": "9cb62677-1fb9-47cf-9063-90db0a3b482d",
   "metadata": {
    "tags": []
   },
   "outputs": [],
   "source": [
    "n_aspects = 1\n",
    "labels = []\n",
    "idx_aspects = 0\n",
    "\n",
    "for k in n_for_n_aspects:\n",
    "    for n in range(k):\n",
    "        label = []\n",
    "        for aspect_idx in range(n_aspects):\n",
    "            label.append(tuples[idx_aspects])\n",
    "            idx_aspects += 1\n",
    "        labels.append(label)\n",
    "    n_aspects += 1"
   ]
  },
  {
   "cell_type": "code",
   "execution_count": 10,
   "id": "305b6298-d8dc-4ffc-9294-22404143b689",
   "metadata": {
    "tags": []
   },
   "outputs": [],
   "source": [
    "random.shuffle(labels)"
   ]
  },
  {
   "cell_type": "markdown",
   "id": "4b7c44e0-b2ad-4e98-b48a-5c821b68b842",
   "metadata": {
    "tags": []
   },
   "source": [
    "### Setup Prompt Template"
   ]
  },
  {
   "cell_type": "code",
   "execution_count": 11,
   "id": "ff2483b2-621a-4f0e-86f3-a0d2ce921ea0",
   "metadata": {
    "tags": []
   },
   "outputs": [],
   "source": [
    "with open('../prompt_template.txt', 'r') as file:\n",
    "    PROMPT_TEMPLATE = file.read()"
   ]
  },
  {
   "cell_type": "markdown",
   "id": "d27e2452-ebd5-47e4-8b9a-bdd011ea139c",
   "metadata": {},
   "source": [
    "### Load Split"
   ]
  },
  {
   "cell_type": "code",
   "execution_count": 12,
   "id": "817d57c6-f670-446f-9014-706bf10ec4d3",
   "metadata": {
    "tags": []
   },
   "outputs": [],
   "source": [
    "with open(DATASET_PATH, 'r', encoding='utf-8') as json_file:\n",
    "    dataset = json.load(json_file)"
   ]
  },
  {
   "cell_type": "markdown",
   "id": "040660c9-c758-4f82-82bc-17883d92f7f3",
   "metadata": {},
   "source": [
    "### Setup Model"
   ]
  },
  {
   "cell_type": "code",
   "execution_count": 13,
   "id": "194f288c-533a-4776-aee8-91556516cd81",
   "metadata": {
    "tags": []
   },
   "outputs": [],
   "source": [
    "llm = Llama(model_path=\"llama-2-13b.Q4_0.gguf\", seed=SEED, n_gpu_layers=1, n_ctx=CONTEXT_SIZE, verbose=False)\n",
    "clear_output(wait=False)"
   ]
  },
  {
   "cell_type": "markdown",
   "id": "dea6f942-107e-4f86-b15f-b62413d94f7c",
   "metadata": {
    "tags": []
   },
   "source": [
    "### Create Synthetic Samples"
   ]
  },
  {
   "cell_type": "code",
   "execution_count": 14,
   "id": "b6fa3658-fbe2-4856-bce1-38d3dea48295",
   "metadata": {
    "tags": []
   },
   "outputs": [
    {
     "name": "stdout",
     "output_type": "stream",
     "text": [
      "---------\n",
      " [('FOOD', 'NEGATIVE'), ('SERVICE', 'NEUTRAL'), ('PRICE', 'NEGATIVE')] \n",
      "\n",
      "Wir haben uns vorher über <aspect-term aspect=\"SERVICE\" polarity=\"NEUTRAL\">Service</aspect-term> informiert und mögen es ganz gut, auch wenn ein Stück gebrannte Kartoffeln zu viel sind. Es hat einfach <aspect-term aspect=\"PRICE\" polarity=\"NEGATIVE\">Verkauf</aspect-term> und <aspect-term aspect=\"FOOD\" polarity=\"NEGATIVE\">Preis-Leistungsverhältnis</aspect-term> gemacht. \n",
      "\n",
      "0 0 0\n",
      "{'tags': [{'text': 'Preis-Leistungsverhältnis', 'start': 150, 'end': 175, 'tag_with_polarity': 'FOOD-NEGATIVE', 'tag_with_polarity_and_type': 'FOOD-NEGATIVE-explicit', 'type': 'label-explicit', 'label': 'FOOD', 'polarity': 'NEGATIVE'}, {'text': 'Verkauf', 'start': 138, 'end': 145, 'tag_with_polarity': 'PRICE-NEGATIVE', 'tag_with_polarity_and_type': 'PRICE-NEGATIVE-explicit', 'type': 'label-explicit', 'label': 'PRICE', 'polarity': 'NEGATIVE'}, {'text': 'Service', 'start': 26, 'end': 33, 'tag_with_polarity': 'SERVICE-NEUTRAL', 'tag_with_polarity_and_type': 'SERVICE-NEUTRAL-explicit', 'type': 'label-explicit', 'label': 'SERVICE', 'polarity': 'NEUTRAL'}], 'text': 'Wir haben uns vorher über Service informiert und mögen es ganz gut, auch wenn ein Stück gebrannte Kartoffeln zu viel sind. Es hat einfach Verkauf und Preis-Leistungsverhältnis gemacht.', 'id': UUID('5905fd0a-a97f-412c-ba72-9eef145eddf8'), 'model': 'Llama70B', 'split': 0}\n",
      "---------\n",
      " [('GENERAL-IMPRESSION', 'NEGATIVE'), ('PRICE', 'POSITIVE')] \n",
      "\n",
      "Es kommt darauf an, was man für die <aspect-term aspect=\"PRICE\" polarity=\"POSITIVE\">Fragebögen</aspect-term> zahlt. \n",
      "\n",
      "0 0 0\n",
      "{'tags': [{'text': 'Fragebögen', 'start': 36, 'end': 46, 'tag_with_polarity': 'PRICE-POSITIVE', 'tag_with_polarity_and_type': 'PRICE-POSITIVE-explicit', 'type': 'label-explicit', 'label': 'PRICE', 'polarity': 'POSITIVE'}, {'text': None, 'start': 0, 'end': 0, 'tag_with_polarity': 'GENERAL-IMPRESSION-NEGATIVE', 'tag_with_polarity_and_type': 'GENERAL-IMPRESSION-NEGATIVE-implicit', 'type': 'label-implicit', 'label': 'GENERAL-IMPRESSION', 'polarity': 'NEGATIVE'}], 'text': 'Es kommt darauf an, was man für die Fragebögen zahlt.', 'id': UUID('b8fa2826-38cc-4470-a68f-027fa1a55be9'), 'model': 'Llama70B', 'split': 0}\n",
      "---------\n",
      " [('GENERAL-IMPRESSION', 'NEGATIVE')] \n",
      "\n",
      "Die bisherige Bewertung als erstes (1) Restaurant in <LOC> verstehe ich gar nicht, und auch die <aspect-term aspect=\"GENERAL-IMPRESSION\" polarity=\"NEGATIVE\">Eindrücke</aspect-term>, wenn man vorher im Ort <LOC> war. \n",
      "\n",
      "1 0 0\n",
      "---------\n",
      " [('GENERAL-IMPRESSION', 'NEGATIVE')] \n",
      "\n",
      "Die bisherige Bewertung als erstes (1) Restaurant in <LOC> verstehe ich gar nicht \n",
      "\n",
      "2 0 0\n",
      "---------\n",
      " [('GENERAL-IMPRESSION', 'NEGATIVE')] \n",
      "\n",
      "Die bisherige Bewertung als erstes (1) Restaurant in <LOC> verstehe ich gar nicht \n",
      "\n",
      "3 0 0\n",
      "---------\n",
      " [('GENERAL-IMPRESSION', 'NEGATIVE')] \n",
      "\n",
      "Ganz schön <aspect-term aspect=\"GENERAL-IMPRESSION\" polarity=\"NEGATIVE\">schäbig</aspect-term> und auch in der <LOC>. \n",
      "\n",
      "4 0 0\n",
      "---------\n",
      " [('GENERAL-IMPRESSION', 'NEGATIVE')] \n",
      "\n",
      "Die bisherige Bewertung als erstes (1) Restaurant in <LOC> verstehe ich gar nicht. \n",
      "\n",
      "5 0 0\n",
      "---------\n",
      " [('GENERAL-IMPRESSION', 'NEGATIVE')] \n",
      "\n",
      "Der Service war unfreundlich, die Küche im 2-Sterne-Standard! Nur ein sehr kurzes Essen! \n",
      "\n",
      "5 0 0\n",
      "---------\n",
      " [('GENERAL-IMPRESSION', 'NEGATIVE')] \n",
      "\n",
      "Die bisherige Bewertung als erstes (1) Restaurant in <LOC> verstehe ich gar nicht. \n",
      "\n",
      "6 0 0\n",
      "---------\n",
      " [('GENERAL-IMPRESSION', 'NEGATIVE')] \n",
      "\n",
      "Besseres Essen und besserer Service für den Preis! \n",
      "\n",
      "6 0 0\n"
     ]
    },
    {
     "name": "stderr",
     "output_type": "stream",
     "text": [
      "\n",
      "KeyboardInterrupt\n",
      "\n"
     ]
    }
   ],
   "source": [
    "for label in labels[:3]:\n",
    "    \n",
    "    valid_example = False\n",
    "    invalid_xml_schema = 0\n",
    "    invalid_xml_tags = 0\n",
    "    aspect_polarity_in_text_but_not_in_label = 0\n",
    "    \n",
    "    while valid_example == False:\n",
    "        unique_aspects = [aspect for aspect, _ in label if label.count((aspect, _)) == 1]\n",
    "    \n",
    "        ids_examples_for_aspects = get_examples_for_aspects_in_label(unique_aspects, dataset, random)\n",
    "        additional_examples = [entry for entry in dataset if entry['id'] not in ids_examples_for_aspects]\n",
    "        additional_examples = random.sample(additional_examples, 10-len(ids_examples_for_aspects))\n",
    "\n",
    "        examples = additional_examples + [entry for entry in dataset if entry['id'] in ids_examples_for_aspects]\n",
    "        examples_text = get_examples_as_text(examples)\n",
    "    \n",
    "        prompt_footer = f'\\nLabel:{str(label)}\\nPrediction:'\n",
    "        prompt = PROMPT_TEMPLATE + examples_text + prompt_footer\n",
    "    \n",
    "        prediction = llm(prompt, max_tokens=MAX_TOKENS, stop=[\"Label:\", \"\\n\"], echo=True, top_p=1)[\"choices\"][0][\"text\"][len(prompt):]\n",
    "        print(\"---------\\nGiven Label:\", label, \"\\n\")\n",
    "        print(\"Prediction:\", prediction, \"\\n\")\n",
    "        \n",
    "        if is_valid_xml(f'<input>{prediction}</input>') == False:\n",
    "            invalid_xml_schema += 1\n",
    "        else:\n",
    "            if check_valid_aspect_xml(f'<input>{prediction}</input>') == False:\n",
    "                invalid_xml_tags += 1\n",
    "            else: \n",
    "                prediction_as_json = xml_to_json(prediction, label, MODEL, SPLIT)\n",
    "                if prediction_as_json == \"not-in-label\":\n",
    "                     aspect_polarity_in_text_but_not_in_label += 1\n",
    "                else:\n",
    "                    if invalid_xml_schema == 0 and invalid_xml_tags == 0 and aspect_polarity_in_text_but_not_in_label == 0:\n",
    "                         valid_example = True\n",
    "        \n",
    "        print(invalid_xml_schema, invalid_xml_tags, aspect_polarity_in_text_but_not_in_label)\n",
    "    \n",
    "    print(prediction_as_json)"
   ]
  },
  {
   "cell_type": "code",
   "execution_count": null,
   "id": "b63c7ca6-e4f5-40dd-9734-cf157197d4d9",
   "metadata": {
    "tags": []
   },
   "outputs": [],
   "source": [
    "prediction"
   ]
  },
  {
   "cell_type": "code",
   "execution_count": null,
   "id": "7d924859-6b66-4406-a0e3-86c643840c97",
   "metadata": {
    "tags": []
   },
   "outputs": [],
   "source": [
    "# To-Do: Prüfen, ob tags valides xml :white_check_mark: \n",
    "# To-Do: Prüfen, welche Tag-Namen vorkommen\n",
    "# To-Do: Was, wenn es keinen Aspekt im Text gibt\n",
    "# To-Do: Validieren, dass Aspekt Tag valide ist \" statt ', nur definierte tags\n",
    "# To-Do: Prüfen, ob Polarität/Label valide\n",
    "# To-Do: Prüfen, ob es sich um einen ganzen Satz handelt"
   ]
  },
  {
   "cell_type": "code",
   "execution_count": null,
   "id": "6e19ee24-bf07-4dc5-86ef-32649e56c141",
   "metadata": {
    "tags": []
   },
   "outputs": [],
   "source": [
    "\n",
    "\n",
    "test_string = '<input>Damit war die <aspect-term aspect=\"FOOD\" polarity=\"NEGATIVE\"><aspect-term aspect=\"FOOD\" polarity=\"NEGATIVE\">Sauce</aspect-term></aspect-term> in Summe ein wenig zu salzig und hat die <aspect-term aspect=\"FOOD\" polarity=\"NEUTRAL\">Steinpilze</aspect-term> komplett überdeckt.</input>'\n",
    "print(is_valid_aspect_xml(test_string))\n"
   ]
  },
  {
   "cell_type": "markdown",
   "id": "caf3a416-7b21-481a-a2a6-31e45e37c582",
   "metadata": {},
   "source": [
    "{'tags': [{'text': 'Preis-Leistungsverhältnis', 'start': 150, 'end': 175, 'tag_with_polarity': 'FOOD-NEGATIVE', 'tag_with_polarity_and_type': 'FOOD-NEGATIVE-explicit', 'type': 'label-explicit', 'label': 'FOOD', 'polarity': 'NEGATIVE'}, {'text': 'Verkauf', 'start': 138, 'end': 145, 'tag_with_polarity': 'PRICE-NEGATIVE', 'tag_with_polarity_and_type': 'PRICE-NEGATIVE-explicit', 'type': 'label-explicit', 'label': 'PRICE', 'polarity': 'NEGATIVE'}, {'text': 'Service', 'start': 26, 'end': 33, 'tag_with_polarity': 'SERVICE-NEUTRAL', 'tag_with_polarity_and_type': 'SERVICE-NEUTRAL-explicit', 'type': 'label-explicit', 'label': 'SERVICE', 'polarity': 'NEUTRAL'}], 'text': 'Wir haben uns vorher über Service informiert und mögen es ganz gut, auch wenn ein Stück gebrannte Kartoffeln zu viel sind. Es hat einfach Verkauf und Preis-Leistungsverhältnis gemacht.', 'id': UUID('ae0e71f6-6c79-481a-b035-eaecd3853563'), 'model': 'Llama70B', 'split': 0}\n",
    "{'tags': [{'text': 'Fragebögen', 'start': 36, 'end': 46, 'tag_with_polarity': 'PRICE-POSITIVE', 'tag_with_polarity_and_type': 'PRICE-POSITIVE-explicit', 'type': 'label-explicit', 'label': 'PRICE', 'polarity': 'POSITIVE'}, {'text': None, 'start': 0, 'end': 0, 'tag_with_polarity': 'GENERAL-IMPRESSION-NEGATIVE', 'tag_with_polarity_and_type': 'GENERAL-IMPRESSION-NEGATIVE-implicit', 'type': 'label-implicit', 'label': 'GENERAL-IMPRESSION', 'polarity': 'NEGATIVE'}], 'text': 'Es kommt darauf an, was man für die Fragebögen zahlt.', 'id': UUID('8b031c07-0fa9-4af5-bb37-671dd635d890'), 'model': 'Llama70B', 'split': 0}"
   ]
  },
  {
   "cell_type": "code",
   "execution_count": null,
   "id": "0b1c0bd1-256a-4600-a7c3-70ce0ff7510a",
   "metadata": {},
   "outputs": [],
   "source": []
  }
 ],
 "metadata": {
  "kernelspec": {
   "display_name": "Python 3 (ipykernel)",
   "language": "python",
   "name": "python3"
  },
  "language_info": {
   "codemirror_mode": {
    "name": "ipython",
    "version": 3
   },
   "file_extension": ".py",
   "mimetype": "text/x-python",
   "name": "python",
   "nbconvert_exporter": "python",
   "pygments_lexer": "ipython3",
   "version": "3.11.3"
  }
 },
 "nbformat": 4,
 "nbformat_minor": 5
}
