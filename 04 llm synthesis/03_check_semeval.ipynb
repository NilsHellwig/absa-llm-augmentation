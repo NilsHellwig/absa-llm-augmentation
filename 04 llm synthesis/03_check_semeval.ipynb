{
 "cells": [
  {
   "cell_type": "code",
   "execution_count": 1,
   "metadata": {},
   "outputs": [],
   "source": [
    "n_tuples_index = [1, 2, 3, 4, 5, 6, 7, 8, 9, 16]"
   ]
  },
  {
   "cell_type": "code",
   "execution_count": 8,
   "metadata": {},
   "outputs": [],
   "source": [
    "def print_ratio(ratio):\n",
    "    table_text = \"\"\n",
    "    for i in n_tuples_index:\n",
    "        try:\n",
    "          if ratio[i] != 0:\n",
    "             table_text += f\" & {ratio[i]/5}\\%\"\n",
    "          else:\n",
    "             table_text += f\" & -\" \n",
    "        except:\n",
    "           table_text += f\" & -\"\n",
    "    print(table_text[1:])"
   ]
  },
  {
   "cell_type": "code",
   "execution_count": 9,
   "metadata": {},
   "outputs": [
    {
     "name": "stdout",
     "output_type": "stream",
     "text": [
      "& 64.8\\% & 21.0\\% & 8.2\\% & 3.6\\% & 1.4\\% & 0.6\\% & 0.2\\% & 0.2\\% & - & -\n"
     ]
    }
   ],
   "source": [
    "from helper_few_shot_generation import get_label_ratio_fixed, get_label_ratio_random\n",
    "import json\n",
    "\n",
    "ratio = get_label_ratio_fixed(500)\n",
    "print_ratio(ratio)"
   ]
  },
  {
   "cell_type": "code",
   "execution_count": 10,
   "metadata": {},
   "outputs": [
    {
     "name": "stdout",
     "output_type": "stream",
     "text": [
      "Split 0:\n",
      "& 72.6\\% & 18.8\\% & 5.2\\% & 2.2\\% & 0.4\\% & 0.6\\% & 0.2\\% & - & - & -\n",
      "None\n",
      "Split 1:\n",
      "& 73.8\\% & 18.2\\% & 5.0\\% & 2.4\\% & 0.2\\% & 0.2\\% & - & - & 0.2\\% & -\n",
      "None\n",
      "Split 2:\n",
      "& 73.6\\% & 18.6\\% & 5.4\\% & 1.0\\% & 0.8\\% & 0.2\\% & 0.4\\% & - & - & -\n",
      "None\n",
      "Split 3:\n",
      "& 73.8\\% & 20.0\\% & 4.4\\% & 1.6\\% & 0.2\\% & - & - & - & - & -\n",
      "None\n",
      "Split 4:\n",
      "& 69.6\\% & 20.0\\% & 6.4\\% & 2.6\\% & 0.6\\% & 0.4\\% & - & 0.2\\% & - & 0.2\\%\n",
      "None\n",
      "Split 5:\n",
      "& 72.0\\% & 19.6\\% & 6.4\\% & 1.4\\% & 0.6\\% & - & - & - & - & -\n",
      "None\n"
     ]
    }
   ],
   "source": [
    "for split_id in range(6):\n",
    "    with open(f\"../07 train models/real/split_{split_id}.json\", 'r', encoding='utf-8') as json_file:\n",
    "        dataset = json.load(json_file)\n",
    "\n",
    "    # Define fixed labels for split\n",
    "    labels = []\n",
    "    label_ratio = get_label_ratio_random(500, dataset)\n",
    "    print(f\"Split {split_id}:\")\n",
    "    print(print_ratio(label_ratio))"
   ]
  },
  {
   "cell_type": "code",
   "execution_count": null,
   "metadata": {},
   "outputs": [],
   "source": []
  }
 ],
 "metadata": {
  "kernelspec": {
   "display_name": "tensorflow_m1",
   "language": "python",
   "name": "python3"
  },
  "language_info": {
   "codemirror_mode": {
    "name": "ipython",
    "version": 3
   },
   "file_extension": ".py",
   "mimetype": "text/x-python",
   "name": "python",
   "nbconvert_exporter": "python",
   "pygments_lexer": "ipython3",
   "version": "3.11.3"
  }
 },
 "nbformat": 4,
 "nbformat_minor": 2
}
