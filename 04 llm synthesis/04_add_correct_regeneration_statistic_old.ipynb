{
 "cells": [
  {
   "cell_type": "code",
   "execution_count": 181,
   "metadata": {},
   "outputs": [],
   "source": [
    "import json\n",
    "from helper_synthesis import count_sentences_in_text, xml_to_json\n",
    "\n",
    "path_examples = '../07 train models/synth/Llama70B/fixed/split_4.json'\n",
    "\n",
    "with open(path_examples, 'r', encoding=\"utf-8\") as file:\n",
    "    data_dictionary = json.load(file)"
   ]
  },
  {
   "cell_type": "code",
   "execution_count": 182,
   "metadata": {},
   "outputs": [],
   "source": [
    "# original = [data_dictionary[d] for d in range(len(data_dictionary)) if data_dictionary[d][\"llm_aspect_polarity_in_text_but_not_in_label\"] > 0]\n",
    "# with open(\"example_original.json\", 'w') as file:\n",
    "#     json.dump(original, file)\n",
    "\n",
    "# data_dictionary = original.copy()\n"
   ]
  },
  {
   "cell_type": "code",
   "execution_count": 183,
   "metadata": {},
   "outputs": [],
   "source": [
    "change_dictionary = data_dictionary.copy()"
   ]
  },
  {
   "cell_type": "code",
   "execution_count": 184,
   "metadata": {},
   "outputs": [
    {
     "name": "stdout",
     "output_type": "stream",
     "text": [
      "i 1238 incrementor 1 n_retries 1 k 0\n"
     ]
    }
   ],
   "source": [
    "for i in range(len(data_dictionary)):\n",
    "    if data_dictionary[i][\"llm_aspect_polarity_in_text_but_not_in_label\"] > 0:\n",
    "        incrementFreqSentences = 0\n",
    "        change = 0\n",
    "        for k in range(len(data_dictionary[i][\"llm_retry_statistic\"])):    \n",
    "            # schauen, ob bei diesem durchgang aspect_polarity_in_text_but_not_in_label grund war\n",
    "            if data_dictionary[i][\"llm_retry_statistic\"][k][\"llm_aspect_polarity_in_text_but_not_in_label\"] > change:\n",
    "                # schauen, ob auch > 2 sätze\n",
    "                label = data_dictionary[i][\"llm_retry_statistic\"][k][\"llm_label\"]\n",
    "                text = xml_to_json(data_dictionary[i][\"llm_retry_statistic\"][k][\"llm_prediction_raw\"], [tuple(l) for l in label], \"\", 0, False)[\"text\"]\n",
    "                if count_sentences_in_text(text) > 1:\n",
    "                    incrementFreqSentences+=1\n",
    "                    print(\"i\", i, \"incrementor\", incrementFreqSentences, \"n_retries\", len(data_dictionary[i][\"llm_retry_statistic\"]), \"k\", k)\n",
    "                    \n",
    "                change += 1\n",
    "            \n",
    "            change_dictionary[i][\"llm_retry_statistic\"][k][\"llm_more_than_one_sentences\"] += incrementFreqSentences\n",
    "        \n",
    "        change_dictionary[i][\"llm_more_than_one_sentences\"] += incrementFreqSentences"
   ]
  },
  {
   "cell_type": "code",
   "execution_count": 185,
   "metadata": {},
   "outputs": [],
   "source": [
    "with open(path_examples, \"w\", encoding=\"utf-8\") as outfile:\n",
    "    json.dump(change_dictionary, outfile, ensure_ascii=False)"
   ]
  }
 ],
 "metadata": {
  "kernelspec": {
   "display_name": "tensorflow_m1",
   "language": "python",
   "name": "python3"
  },
  "language_info": {
   "codemirror_mode": {
    "name": "ipython",
    "version": 3
   },
   "file_extension": ".py",
   "mimetype": "text/x-python",
   "name": "python",
   "nbconvert_exporter": "python",
   "pygments_lexer": "ipython3",
   "version": "3.11.3"
  }
 },
 "nbformat": 4,
 "nbformat_minor": 2
}
