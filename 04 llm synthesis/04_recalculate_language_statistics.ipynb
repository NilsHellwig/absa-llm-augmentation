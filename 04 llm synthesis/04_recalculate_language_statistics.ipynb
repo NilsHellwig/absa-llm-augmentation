{
 "cells": [
  {
   "cell_type": "code",
   "execution_count": 148,
   "metadata": {},
   "outputs": [],
   "source": [
    "import json\n",
    "from helper_synthesis import xml_to_json, check_valid_aspect_xml, count_sentences_in_text, has_empty_tag, has_aspect_term_of_invalid_pos_tags, remove_xml_tags_from_string\n",
    "\n",
    "idx = 4\n",
    "path_examples = f'../07 train models/synth/GPT-3/random/split_{idx}.json'\n",
    "path_examples_out = f'../07 train models/synth/GPT-3/random/split_{idx}.json'\n",
    "\n",
    "with open(path_examples, 'r', encoding=\"utf-8\") as file:\n",
    "    data_dictionary = json.load(file)"
   ]
  },
  {
   "cell_type": "code",
   "execution_count": 149,
   "metadata": {},
   "outputs": [],
   "source": [
    "change_dictionary = data_dictionary.copy()"
   ]
  },
  {
   "cell_type": "markdown",
   "metadata": {},
   "source": [
    "## Optimize Past Statistic"
   ]
  },
  {
   "cell_type": "code",
   "execution_count": 150,
   "metadata": {},
   "outputs": [],
   "source": [
    "for i in range(0, len(data_dictionary)):\n",
    "    invalid_xml_tags = 0\n",
    "    aspect_polarity_in_text_but_not_in_label = 0\n",
    "    no_token_in_sentence = 0\n",
    "    more_than_one_sentences = 0\n",
    "    empty_aspect_term = 0\n",
    "    invalid_single_word_aspect_term_pos_tag = 0\n",
    "\n",
    "    change = 0\n",
    "    for k in range(0, len(data_dictionary[i][\"llm_retry_statistic\"])):\n",
    "        if data_dictionary[i][\"llm_retry_statistic\"][k][\"llm_invalid_xml_schema\"] > change:\n",
    "            change += 1\n",
    "        else:\n",
    "\n",
    "            prediction = data_dictionary[i][\"llm_retry_statistic\"][k][\"llm_prediction_raw\"]\n",
    "            label = [tuple(l) for l in data_dictionary[i]\n",
    "                     [\"llm_retry_statistic\"][k][\"llm_label\"]]\n",
    "\n",
    "            # 00 check if valid aspect term names / attributes\n",
    "            invalid_xml_names = False\n",
    "            if check_valid_aspect_xml(f'<input>{prediction}</input>') == False:\n",
    "                invalid_xml_names = True\n",
    "                invalid_xml_tags += 1\n",
    "\n",
    "            if invalid_xml_names:\n",
    "                prediction_as_json = xml_to_json(\n",
    "                    remove_xml_tags_from_string(prediction), label, \"\", 0)\n",
    "            else:\n",
    "                prediction_as_json = xml_to_json(prediction, label, \"\", 0)\n",
    "\n",
    "            # 01 check if aspects are present in label\n",
    "            if prediction_as_json == \"not-in-label\":\n",
    "                prediction_as_json = xml_to_json(\n",
    "                    prediction, label, \"\", 0, check_label=False)\n",
    "                aspect_polarity_in_text_but_not_in_label += 1\n",
    "\n",
    "            # 02 check if text is empty\n",
    "            if len(prediction_as_json[\"text\"]) == 0:\n",
    "                valid_language_check = False\n",
    "                no_token_in_sentence += 1\n",
    "\n",
    "            # 03 count number of sentences\n",
    "            if count_sentences_in_text(prediction_as_json[\"text\"]) > 1:\n",
    "                more_than_one_sentences += 1\n",
    "\n",
    "            # 04 check if empty aspect term exists\n",
    "            if has_empty_tag(prediction_as_json):\n",
    "                empty_aspect_term += 1\n",
    "\n",
    "            # 05 check for single word of type ADJ, ADV, AUX, CONJ, CCONJ, DET, INTJ, PART, PRON, SCONJ, VERB\n",
    "            if has_aspect_term_of_invalid_pos_tags(prediction_as_json):\n",
    "                invalid_single_word_aspect_term_pos_tag += 1\n",
    "\n",
    "        change_dictionary[i][\"llm_retry_statistic\"][k][\"llm_invalid_xml_tags\"] = invalid_xml_tags\n",
    "        change_dictionary[i][\"llm_retry_statistic\"][k][\"llm_aspect_polarity_in_text_but_not_in_label\"] = aspect_polarity_in_text_but_not_in_label\n",
    "        change_dictionary[i][\"llm_retry_statistic\"][k][\"llm_no_token_in_sentence\"] = no_token_in_sentence\n",
    "        change_dictionary[i][\"llm_retry_statistic\"][k][\"llm_more_than_one_sentences\"] = more_than_one_sentences\n",
    "        change_dictionary[i][\"llm_retry_statistic\"][k][\"llm_empty_aspect_term\"] = empty_aspect_term\n",
    "        change_dictionary[i][\"llm_retry_statistic\"][k][\"llm_invalid_single_word_aspect_term_pos_tag\"] = invalid_single_word_aspect_term_pos_tag\n",
    "\n",
    "    change_dictionary[i][\"llm_invalid_xml_tags\"] = invalid_xml_tags\n",
    "    change_dictionary[i][\"llm_aspect_polarity_in_text_but_not_in_label\"] = aspect_polarity_in_text_but_not_in_label\n",
    "    change_dictionary[i][\"llm_no_token_in_sentence\"] = no_token_in_sentence\n",
    "    change_dictionary[i][\"llm_more_than_one_sentences\"] = more_than_one_sentences\n",
    "    change_dictionary[i][\"llm_empty_aspect_term\"] = empty_aspect_term\n",
    "    change_dictionary[i][\"llm_invalid_single_word_aspect_term_pos_tag\"] = invalid_single_word_aspect_term_pos_tag"
   ]
  },
  {
   "cell_type": "markdown",
   "metadata": {},
   "source": [
    "## Check Final Prediction\n",
    "\n",
    "Nun schaue ich noch, ob bei der aktuellen validen prediction "
   ]
  },
  {
   "cell_type": "code",
   "execution_count": 151,
   "metadata": {},
   "outputs": [],
   "source": [
    "for i in range(len(data_dictionary)):\n",
    "    if len(data_dictionary[i][\"text\"]) == 0:\n",
    "        print(i)\n",
    "        change_dictionary[i][\"retry_no_token\"] = True"
   ]
  },
  {
   "cell_type": "code",
   "execution_count": 152,
   "metadata": {},
   "outputs": [],
   "source": [
    "with open(path_examples_out, \"w\", encoding=\"utf-8\") as outfile:\n",
    "    json.dump(change_dictionary, outfile, ensure_ascii=False)"
   ]
  }
 ],
 "metadata": {
  "kernelspec": {
   "display_name": "tensorflow_m1",
   "language": "python",
   "name": "python3"
  },
  "language_info": {
   "codemirror_mode": {
    "name": "ipython",
    "version": 3
   },
   "file_extension": ".py",
   "mimetype": "text/x-python",
   "name": "python",
   "nbconvert_exporter": "python",
   "pygments_lexer": "ipython3",
   "version": "3.11.3"
  }
 },
 "nbformat": 4,
 "nbformat_minor": 2
}
