{
 "cells": [
  {
   "cell_type": "markdown",
   "id": "3bb99927-a103-43f1-83a3-a945c547b342",
   "metadata": {},
   "source": [
    "# Notebook: Create Examples for Prompts"
   ]
  },
  {
   "cell_type": "markdown",
   "id": "4e32d2bd-049d-4bf6-9da7-3ef4bf665fef",
   "metadata": {
    "tags": []
   },
   "source": [
    "## Packages"
   ]
  },
  {
   "cell_type": "code",
   "execution_count": 34,
   "id": "399c6d6b-93d8-43c6-bc92-b4777c79d699",
   "metadata": {},
   "outputs": [],
   "source": [
    "from helper_synthesis import get_examples_as_text\n",
    "from itertools import cycle, islice\n",
    "import numpy as np\n",
    "import tiktoken\n",
    "import random\n",
    "import json"
   ]
  },
  {
   "cell_type": "markdown",
   "id": "6ac519d5-7c23-4fd8-8bac-93b4f1b1f17f",
   "metadata": {
    "tags": []
   },
   "source": [
    "## Parameters"
   ]
  },
  {
   "cell_type": "code",
   "execution_count": 35,
   "id": "162de018",
   "metadata": {},
   "outputs": [],
   "source": [
    "SEED = 42\n",
    "random.seed(SEED)\n",
    "N_RETRY_SETS = 25"
   ]
  },
  {
   "cell_type": "code",
   "execution_count": 36,
   "id": "7eaae3a2-87e7-4008-b715-f548b8312ea8",
   "metadata": {
    "tags": []
   },
   "outputs": [],
   "source": [
    "# Setup Classes/Polarities for Synthesis\n",
    "CLASSES  = [\"GENERAL-IMPRESSION\", \"FOOD\", \"SERVICE\", \"AMBIENCE\", \"PRICE\"]\n",
    "POLARITIES = [\"POSITIVE\", \"NEUTRAL\", \"NEGATIVE\"]\n",
    "COMBINATIONS = [(aspect, polarity) for polarity in POLARITIES for aspect in CLASSES]"
   ]
  },
  {
   "cell_type": "markdown",
   "id": "7d2231fc-6972-4230-ac87-32530d8a1418",
   "metadata": {},
   "source": [
    "## Code"
   ]
  },
  {
   "cell_type": "markdown",
   "id": "8a51dee5",
   "metadata": {},
   "source": [
    "### Code to Count Prompt Size"
   ]
  },
  {
   "cell_type": "code",
   "execution_count": 37,
   "id": "cbca62c2",
   "metadata": {},
   "outputs": [],
   "source": [
    "with open('../prompt_template.txt', 'r') as file:\n",
    "    PROMPT_TEMPLATE = file.read()"
   ]
  },
  {
   "cell_type": "code",
   "execution_count": 38,
   "id": "a96b864e-630d-44b8-869c-acae7c6287b1",
   "metadata": {
    "tags": []
   },
   "outputs": [],
   "source": [
    "with open(f\"../07 train models/real/split_4.json\", 'r', encoding='utf-8') as json_file:\n",
    "    dataset = json.load(json_file)"
   ]
  },
  {
   "cell_type": "code",
   "execution_count": 39,
   "metadata": {},
   "outputs": [],
   "source": [
    "label = [('GENERAL-IMPRESSION', 'POSITIVE')]"
   ]
  },
  {
   "cell_type": "code",
   "execution_count": 40,
   "metadata": {},
   "outputs": [],
   "source": [
    "examples = [example[\"id\"] for example in dataset[:40]]"
   ]
  },
  {
   "cell_type": "code",
   "execution_count": 41,
   "metadata": {},
   "outputs": [],
   "source": [
    "random.shuffle(dataset)"
   ]
  },
  {
   "cell_type": "code",
   "execution_count": 42,
   "metadata": {},
   "outputs": [],
   "source": [
    "def get_n_examples_for_class(n_examples=5, aspect_category=\"FOOD\", examples=[]):\n",
    "    found_examples = []\n",
    "    i = 0\n",
    "    while len(found_examples) < n_examples:\n",
    "        if aspect_category in [tag[\"label\"] for tag in dataset[i][\"tags\"]] and dataset[i][\"id\"] not in examples:\n",
    "            found_examples.append(dataset[i])\n",
    "        i += 1\n",
    "    return examples + [example[\"id\"] for example in found_examples]\n"
   ]
  },
  {
   "cell_type": "code",
   "execution_count": 43,
   "metadata": {},
   "outputs": [],
   "source": [
    "examples = []\n",
    "for ac in CLASSES:\n",
    "    n_examples = 5\n",
    "    examples = get_n_examples_for_class(n_examples=n_examples, aspect_category=ac, examples=examples)\n",
    "random.shuffle(examples)\n",
    "        "
   ]
  },
  {
   "cell_type": "code",
   "execution_count": 44,
   "metadata": {},
   "outputs": [
    {
     "name": "stdout",
     "output_type": "stream",
     "text": [
      "Erzeuge genau einen Satz einer deutschsprachigen Restaurant-Bewertung, der für das Training eines Modells für die Aspekt-basierte Sentiment Analyse verwendet werden kann.\n",
      "Gegeben ist ein Label in Form eines Arrays, wobei ein oder mehrere Tupel (Aspekt-Kategorie, Sentiment-Polarität) gegeben sind.\n",
      "Für ein Label wird eine Prediction erzeugt, wobei die Prediction ausschließlich die in dem Label definierten Kombinationen aus Aspekt-Kategorie und Aspekt-Polarität adressiert.\n",
      "\n",
      "Folgende Aspekt-Kategorien werden betrachtet: \n",
      "\n",
      "* \"FOOD\" - Aspekte in Bezug auf das Essen im allgemeinen oder bestimmte Speisen und Getränke\n",
      "* \"SERVICE\" - Aspekte in Bezug auf den Service im allgemeinen oder Einstellung und Professionalität des Personals, die Wartezeiten oder Service-Dienstleistungen wie Speisenmitnahme\n",
      "* \"PRICE\" - Aspekte in Bezug auf den Preis im allgemeinen oder Speisen, Getränke oder andere Leistungen des Restaurants, deren Preis bewertet wird.\n",
      "* \"AMBIENCE\" - Aspekte in Bezug auf das Ambiente und Atmosphäre im allgemeinen oder die Umgebung des Innen- und Außenbereichs des Restaurants, dessen Ausstattung und Unterhaltungsmöglichkeiten\n",
      "* \"GENERAL-IMPRESSION\" - Aspekte in Bezug auf das Restaurant als Ganzes ohne Fokus auf die oben genannten Aspekt-Kategorien\n",
      "\n",
      "Gegenüber einem Aspekt können folgende Stimmungen geäußert werden: \n",
      "\n",
      "* \"POSITIVE\"\n",
      "* \"NEUTRAL\"\n",
      "* \"NEGATIVE\"\n",
      "\n",
      "Zusätzlich kann für ein im Label vorgegebenes Tupel (Aspekt-Kategorie, Aspekt-Polarität) ein Aspekt-Begriff im Text vorliegen.\n",
      "Ein Aspekt-Begriff ist eine Entität oder Eigenschaft innerhalb eines Textes, die auf eine der betrachteten Aspekt-Kategorien hinweist.\n",
      "Indikatoren für Subjektivität (d.h. Wörter oder Phrasen, die Meinungen, Bewertungen usw. ausdrücken) gelten nicht als Aspekt-Begriffe oder Bestandteile von Aspekt-Begriffen.\n",
      "Wichtig: Aspekt-Begriffe werden immer im Text mit einem XML-Tag markiert!\n",
      "Ein im Tupel vorgegebener Aspekt kann im Text auch implizit adressiert werden, wobei für einen solchen Aspekt kein Aspekt-Begriff im Text mit einem XML-Tag markiert wird.\n",
      "\n",
      "Gebe nur die Prediction zurück, ohne Kommentare und ohne zusätzlichen Text.\n",
      "\n",
      "Label:[('GENERAL-IMPRESSION', 'NEGATIVE')]\n",
      "Prediction:Kennen wir so sonst nicht, schade!\n",
      "Label:[('SERVICE', 'NEGATIVE')]\n",
      "Prediction:Da sollte sich das <aspect-term aspect=\"SERVICE\" polarity=\"NEGATIVE\">Management</aspect-term> vom LOC schämen sowas haben wir nie erlebt.\n",
      "Label:[('GENERAL-IMPRESSION', 'POSITIVE')]\n",
      "Prediction:Wir kommen auf jeden Fall wieder!\n",
      "Label:[('FOOD', 'NEGATIVE')]\n",
      "Prediction:Leider hat das <aspect-term aspect=\"FOOD\" polarity=\"NEGATIVE\">Essen</aspect-term> nicht unseren Erwartungen entsprochen.\n",
      "Label:[('GENERAL-IMPRESSION', 'POSITIVE')]\n",
      "Prediction:Die <aspect-term aspect=\"GENERAL-IMPRESSION\" polarity=\"POSITIVE\">Erfahrung</aspect-term> hat uns sehr gefallen!\n",
      "Label:[('SERVICE', 'NEGATIVE')]\n",
      "Prediction:Essen konnte erst nach 1,5 Stunden bestellt werden!\n",
      "Label:[('FOOD', 'POSITIVE'), ('FOOD', 'POSITIVE'), ('FOOD', 'POSITIVE')]\n",
      "Prediction:Leckeres <aspect-term aspect=\"FOOD\" polarity=\"POSITIVE\">Essen</aspect-term> mit <aspect-term aspect=\"FOOD\" polarity=\"POSITIVE\">Steak</aspect-term> auf den Punkt gebraten - und auch die Vegetarier kommen auf ihre Kosten.\n",
      "Label:[('AMBIENCE', 'POSITIVE')]\n",
      "Prediction:Gemütlich.\n",
      "Label:[('SERVICE', 'NEGATIVE')]\n",
      "Prediction:<aspect-term aspect=\"SERVICE\" polarity=\"NEGATIVE\">Speise- und Getränkekarten</aspect-term> waren heute Mangelware.\n",
      "Label:[('SERVICE', 'NEGATIVE')]\n",
      "Prediction:Die <aspect-term aspect=\"SERVICE\" polarity=\"NEGATIVE\">Kellnerin</aspect-term>, eine ältere, stattliche Frau, war stets bemüht, keine Freundlichkeit aufkommen zu lassen.\n",
      "Label:[('FOOD', 'POSITIVE')]\n",
      "Prediction:Wo gibt es die beste <aspect-term aspect=\"FOOD\" polarity=\"POSITIVE\">Currywurst</aspect-term> LOC, natürlich nur hier mitten im LOC.\n",
      "Label:[('PRICE', 'NEGATIVE'), ('PRICE', 'NEGATIVE')]\n",
      "Prediction:Im Ergebnis haben weder die <aspect-term aspect=\"PRICE\" polarity=\"NEGATIVE\">Speisen</aspect-term> noch der <aspect-term aspect=\"PRICE\" polarity=\"NEGATIVE\">Wein</aspect-term> ihren Preis gerechtfertigt.\n",
      "Label:[('GENERAL-IMPRESSION', 'POSITIVE')]\n",
      "Prediction:War an 3 Abenden nacheinander während eines Kongresses hier Abends zum Essen und hatte das Glück hier einzukehren.\n",
      "Label:[('GENERAL-IMPRESSION', 'NEGATIVE')]\n",
      "Prediction:Das geht gar nicht, wenn man zu zweit essen geht!!\n",
      "Label:[('AMBIENCE', 'POSITIVE')]\n",
      "Prediction:Mitten in der LOC umgeben von einer bunten Sammlung internationaler Speiselokale sticht eine große, gepflegte <aspect-term aspect=\"AMBIENCE\" polarity=\"POSITIVE\">Terrasse</aspect-term> hervor.\n",
      "Label:[('PRICE', 'NEGATIVE'), ('PRICE', 'NEGATIVE')]\n",
      "Prediction:Das <aspect-term aspect=\"PRICE\" polarity=\"NEGATIVE\">Bier</aspect-term> ist, wie man es in der Münchner Innenstadt erwarten kann teuer, gilt auch für alle anderen <aspect-term aspect=\"PRICE\" polarity=\"NEGATIVE\">Getränke</aspect-term> (Obwohl ich glaube die stehen nur pro Forma auf der Karte.\n",
      "Label:[('SERVICE', 'POSITIVE')]\n",
      "Prediction:Egal was für Extrawünsche man hat, <aspect-term aspect=\"SERVICE\" polarity=\"POSITIVE\">Andrea</aspect-term> findet eine Lösung.\n",
      "Label:[('FOOD', 'POSITIVE'), ('AMBIENCE', 'POSITIVE')]\n",
      "Prediction:Ich habe hier einen wirklich leckeren <aspect-term aspect=\"FOOD\" polarity=\"POSITIVE\">Burger</aspect-term> gegessen und die <aspect-term aspect=\"AMBIENCE\" polarity=\"POSITIVE\">Atmosphäre</aspect-term> war einfach toll!\n",
      "Label:[('AMBIENCE', 'NEGATIVE'), ('FOOD', 'NEGATIVE')]\n",
      "Prediction:Da gibt es in LOC diverse Restaurants, wo es besser schmeckt und sich als Gast auch wohlfühlen kann.\n",
      "Label:[('FOOD', 'NEGATIVE'), ('SERVICE', 'NEGATIVE'), ('PRICE', 'NEGATIVE')]\n",
      "Prediction:Genau am Martinstag haben wir hier zum zweiten Mal (nach 2021) Gans gegessen - ein riesiger Unterschied: geradezu winzige <aspect-term aspect=\"FOOD\" polarity=\"NEGATIVE\">Portionen</aspect-term> und ungeschultes <aspect-term aspect=\"SERVICE\" polarity=\"NEGATIVE\">Personal</aspect-term>, dafür aber gesalzene <aspect-term aspect=\"PRICE\" polarity=\"NEGATIVE\">Preise</aspect-term> [2021 ca.\n",
      "Label:[('AMBIENCE', 'NEGATIVE')]\n",
      "Prediction:Unterhaltung zwischen 4 Leuten an einem Tisch schwierig, man muss sehr laut sprechen, um sich zu verständigen.\n",
      "Label:[('PRICE', 'NEGATIVE'), ('FOOD', 'NEGATIVE'), ('FOOD', 'NEGATIVE')]\n",
      "Prediction:Abgesehen von den überhöhten <aspect-term aspect=\"PRICE\" polarity=\"NEGATIVE\">Preisen</aspect-term> ist z.b. der <aspect-term aspect=\"FOOD\" polarity=\"NEGATIVE\">Kartoffelsalat</aspect-term> zu den Bratwürsten viel weniger geworden und schmeckt auch nicht mehr.\n",
      "Label:[('AMBIENCE', 'POSITIVE'), ('GENERAL-IMPRESSION', 'NEGATIVE')]\n",
      "Prediction:Dieser <aspect-term aspect=\"GENERAL-IMPRESSION\" polarity=\"NEGATIVE\">Laden</aspect-term> sieht uns nie wieder, auch wenn uns das <aspect-term aspect=\"AMBIENCE\" polarity=\"POSITIVE\">Ambiente</aspect-term> sehr gut gefallen hat.\n",
      "Label:[('AMBIENCE', 'NEGATIVE'), ('AMBIENCE', 'NEGATIVE')]\n",
      "Prediction:LOC mir wenig <aspect-term aspect=\"AMBIENCE\" polarity=\"NEGATIVE\">Atmosphäre</aspect-term> und sehr viel <aspect-term aspect=\"AMBIENCE\" polarity=\"NEGATIVE\">Gewusel</aspect-term>.\n",
      "Label:[('PRICE', 'POSITIVE'), ('GENERAL-IMPRESSION', 'POSITIVE')]\n",
      "Prediction:Da auch der <aspect-term aspect=\"PRICE\" polarity=\"POSITIVE\">Preis</aspect-term> weiterhin absolut fair und angemessen ist, können wir das <aspect-term aspect=\"GENERAL-IMPRESSION\" polarity=\"POSITIVE\">RESTAURANT_NAME</aspect-term> absolut empfehlen\n",
      "Label:[('GENERAL-IMPRESSION', 'POSITIVE')]\n",
      "Prediction:\n"
     ]
    }
   ],
   "source": [
    "few_shot_examples = [entry for entry in dataset if entry['id'] in examples]\n",
    "\n",
    "examples_text = get_examples_as_text(few_shot_examples)\n",
    "prompt_footer = f'\\nLabel:{str(label)}\\nPrediction:'\n",
    "prompt = PROMPT_TEMPLATE + examples_text + prompt_footer\n",
    "print(prompt)"
   ]
  }
 ],
 "metadata": {
  "kernelspec": {
   "display_name": "Python 3 (ipykernel)",
   "language": "python",
   "name": "python3"
  },
  "language_info": {
   "codemirror_mode": {
    "name": "ipython",
    "version": 3
   },
   "file_extension": ".py",
   "mimetype": "text/x-python",
   "name": "python",
   "nbconvert_exporter": "python",
   "pygments_lexer": "ipython3",
   "version": "3.11.3"
  }
 },
 "nbformat": 4,
 "nbformat_minor": 5
}
