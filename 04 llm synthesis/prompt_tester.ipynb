{
 "cells": [
  {
   "cell_type": "markdown",
   "id": "3bb99927-a103-43f1-83a3-a945c547b342",
   "metadata": {},
   "source": [
    "# Notebook: Create Examples for Prompts"
   ]
  },
  {
   "cell_type": "markdown",
   "id": "4e32d2bd-049d-4bf6-9da7-3ef4bf665fef",
   "metadata": {
    "tags": []
   },
   "source": [
    "## Packages"
   ]
  },
  {
   "cell_type": "code",
   "execution_count": 2,
   "id": "399c6d6b-93d8-43c6-bc92-b4777c79d699",
   "metadata": {},
   "outputs": [
    {
     "name": "stderr",
     "output_type": "stream",
     "text": [
      "[nltk_data] Downloading package punkt to\n",
      "[nltk_data]     /Users/nils_hellwig/nltk_data...\n",
      "[nltk_data]   Package punkt is already up-to-date!\n"
     ]
    }
   ],
   "source": [
    "from helper_synthesis import get_examples_as_text\n",
    "from itertools import cycle, islice\n",
    "import numpy as np\n",
    "import tiktoken\n",
    "import random\n",
    "import json"
   ]
  },
  {
   "cell_type": "markdown",
   "id": "6ac519d5-7c23-4fd8-8bac-93b4f1b1f17f",
   "metadata": {
    "tags": []
   },
   "source": [
    "## Parameters"
   ]
  },
  {
   "cell_type": "code",
   "execution_count": 3,
   "id": "162de018",
   "metadata": {},
   "outputs": [],
   "source": [
    "SEED = 42\n",
    "random.seed(SEED)\n",
    "N_RETRY_SETS = 25"
   ]
  },
  {
   "cell_type": "code",
   "execution_count": 4,
   "id": "7eaae3a2-87e7-4008-b715-f548b8312ea8",
   "metadata": {
    "tags": []
   },
   "outputs": [],
   "source": [
    "# Setup Classes/Polarities for Synthesis\n",
    "CLASSES  = [\"GENERAL-IMPRESSION\", \"FOOD\", \"SERVICE\", \"AMBIENCE\", \"PRICE\"]\n",
    "POLARITIES = [\"POSITIVE\", \"NEUTRAL\", \"NEGATIVE\"]\n",
    "COMBINATIONS = [(aspect, polarity) for polarity in POLARITIES for aspect in CLASSES]"
   ]
  },
  {
   "cell_type": "markdown",
   "id": "7d2231fc-6972-4230-ac87-32530d8a1418",
   "metadata": {},
   "source": [
    "## Code"
   ]
  },
  {
   "cell_type": "markdown",
   "id": "8a51dee5",
   "metadata": {},
   "source": [
    "### Code to Count Prompt Size"
   ]
  },
  {
   "cell_type": "code",
   "execution_count": 7,
   "id": "cbca62c2",
   "metadata": {},
   "outputs": [],
   "source": [
    "with open('../prompt_template.txt', 'r') as file:\n",
    "    PROMPT_TEMPLATE = file.read()"
   ]
  },
  {
   "cell_type": "code",
   "execution_count": 8,
   "id": "a96b864e-630d-44b8-869c-acae7c6287b1",
   "metadata": {
    "tags": []
   },
   "outputs": [],
   "source": [
    "with open(f\"../07 train models/real/split_4.json\", 'r', encoding='utf-8') as json_file:\n",
    "    dataset = json.load(json_file)"
   ]
  },
  {
   "cell_type": "code",
   "execution_count": 9,
   "metadata": {},
   "outputs": [],
   "source": [
    "label = [('GENERAL-IMPRESSION', 'POSITIVE')]"
   ]
  },
  {
   "cell_type": "code",
   "execution_count": 10,
   "metadata": {},
   "outputs": [],
   "source": [
    "examples = [example[\"id\"] for example in dataset[:40]]"
   ]
  },
  {
   "cell_type": "code",
   "execution_count": 11,
   "metadata": {},
   "outputs": [],
   "source": [
    "random.shuffle(dataset)"
   ]
  },
  {
   "cell_type": "code",
   "execution_count": 12,
   "metadata": {},
   "outputs": [],
   "source": [
    "def get_n_examples_for_class(n_examples=5, aspect_category=\"FOOD\", examples=[]):\n",
    "    found_examples = []\n",
    "    i = 0\n",
    "    while len(found_examples) < n_examples:\n",
    "        if aspect_category in [tag[\"label\"] for tag in dataset[i][\"tags\"]] and dataset[i][\"id\"] not in examples:\n",
    "            found_examples.append(dataset[i])\n",
    "        i += 1\n",
    "    return examples + [example[\"id\"] for example in found_examples]\n"
   ]
  },
  {
   "cell_type": "code",
   "execution_count": 13,
   "metadata": {},
   "outputs": [],
   "source": [
    "examples = []\n",
    "for ac in CLASSES:\n",
    "    examples = get_n_examples_for_class(n_examples=5, aspect_category=ac, examples=examples)\n",
    "random.shuffle(examples)\n",
    "        "
   ]
  },
  {
   "cell_type": "code",
   "execution_count": 14,
   "metadata": {},
   "outputs": [
    {
     "name": "stdout",
     "output_type": "stream",
     "text": [
      "Erzeuge genau einen Satz einer Restaurant-Bewertung, die für das Training eines Modells für die Aspekt-basierte Sentiment Analyse verwendet werden kann.\n",
      "Gegeben ist ein Label in Form eines Arrays, wobei ein oder mehrere Tupel (Aspekt-Kategorie, Sentiment-Polarität) gegeben sind.\n",
      "Für ein Label wird dann eine deutschsprachige Prediction erzeugt, wobei die Prediction ausschließlich die in dem Label definierten Kombinationen aus Aspekt-Kategorie und Aspekt-Polarität adressiert.\n",
      "\n",
      "Folgende Aspekt-Kategorien werden betrachtet: \n",
      "\n",
      "* \"FOOD\" - Aspekte in Bezug auf das Essen im allgemeinen oder bestimmte Speisen und Getränke\n",
      "* \"SERVICE\" - Aspekte in Bezug auf den Service im allgemeinen oder Einstellung und Professionalität des Personals, die Wartezeiten oder Service-Dienstleistungen wie Speisenmitnahme\n",
      "* \"PRICE\" - Aspekte in Bezug auf den Preis im allgemeinen oder Speisen, Getränke oder andere Leistungen des Restaurants, deren Preis bewertet wird.\n",
      "* \"AMBIENCE\" - Aspekte in Bezug auf das Ambiente im allgemeinen oder die Umgebung des Innen- und Außenbereichs des Restaurants, dessen Ausstattung und Unterhaltungsmöglichkeiten\n",
      "* \"GENERAL-IMPRESSION\" - Aspekte in Bezug auf das Restaurant als Ganzes ohne Fokus auf die oben genannten Aspekt-Kategorien\n",
      "\n",
      "Gegenüber einem Aspekt können folgende Stimmungen geäußert werden: \n",
      "\n",
      "* \"POSITIVE\"\n",
      "* \"NEUTRAL\"\n",
      "* \"NEGATIVE\"\n",
      "\n",
      "Zusätzlich kann für ein im Label vorgegebenes Tupel (Aspekt-Kategorie, Aspekt-Polrität) ein Aspekt-Begriff im Text vorliegen.\n",
      "Ein Aspekt-Begriff ist eine Entität oder Eigenschaft innerhalb eines Textes, die auf eine der betrachteten Aspekt-Kategorien hinweist.\n",
      "Indikatoren für Subjektivität (d.h. Wörter oder Phrasen, die Meinungen, Bewertungen usw. ausdrücken) gelten nicht als Aspekt-Begriffe oder Bestandteile von Aspekt-Begriffen.\n",
      "Ein im Tupel vorgegebener Aspekt kann im Text auch implizit adressiert werden, wobei für einen solchen Aspekt kein Aspekt-Begriff im Text mit einem XML-Tag markiert wird.\n",
      "\n",
      "Wichtig: Solche Aspekt-Begriffe werden immer markiert!\n",
      "\n",
      "Gebe nur die Prediction zurück, ohne Kommentare und ohne zusätzlichen Text.\n",
      "\n",
      "Label:[('AMBIENCE', 'NEGATIVE'), ('SERVICE', 'POSITIVE')]\n",
      "Prediction:Trotz Rush-Hour (es fand eine Vorstellung im Theater statt) und das <aspect-term aspect=\"AMBIENCE\" polarity=\"NEGATIVE\">Restaurant</aspect-term> war sehr voll, war der <aspect-term aspect=\"SERVICE\" polarity=\"POSITIVE\">Service</aspect-term> 1a ohne lange Wartezeiten.\n",
      "Label:[('SERVICE', 'NEGATIVE')]\n",
      "Prediction:Keinen Platz im Obergeschoss trotz mehrerer freier Tische zu bekommen, weil wir das winzige Schild übersehen haben, dass man platziert wird, hat uns nicht gefreut.\n",
      "Label:[('PRICE', 'NEGATIVE'), ('GENERAL-IMPRESSION', 'NEGATIVE')]\n",
      "Prediction:<aspect-term aspect=\"PRICE\" polarity=\"NEGATIVE\">Preis- Leistung</aspect-term> stand in keinem Verhältnis… wir kommen nicht LOC, LOC\n",
      "Label:[('FOOD', 'POSITIVE'), ('FOOD', 'POSITIVE')]\n",
      "Prediction:Das <aspect-term aspect=\"FOOD\" polarity=\"POSITIVE\">Bier</aspect-term> war sehr gut, das <aspect-term aspect=\"FOOD\" polarity=\"POSITIVE\">Essen</aspect-term> auch.\n",
      "Label:[('SERVICE', 'NEGATIVE')]\n",
      "Prediction:Obwohl Monate vorher reserviert wollte man uns im 1.OG an einen \"LOC\" mitten im Durchgang setzen.\n",
      "Label:[('SERVICE', 'NEGATIVE')]\n",
      "Prediction:Der <aspect-term aspect=\"SERVICE\" polarity=\"NEGATIVE\">Chef</aspect-term> konnte nicht gefunden werden.\n",
      "Label:[('FOOD', 'NEGATIVE')]\n",
      "Prediction:Enttäuschend war für uns alle die Essensqualität.\n",
      "Label:[('GENERAL-IMPRESSION', 'NEGATIVE')]\n",
      "Prediction:Heute haben wir leider eine sehr schlechte Erfahrung gemacht, weshalb das auch unser letzter Besuch bei <aspect-term aspect=\"GENERAL-IMPRESSION\" polarity=\"NEGATIVE\">RESTAURANT_NAME</aspect-term> war.\n",
      "Label:[('SERVICE', 'NEGATIVE')]\n",
      "Prediction:<aspect-term aspect=\"SERVICE\" polarity=\"NEGATIVE\">Essen</aspect-term> konnte erst nach 1,5 Stunden bestellt werden!\n",
      "Label:[('AMBIENCE', 'POSITIVE')]\n",
      "Prediction:Wir haben uns von der ersten Minute an sehr wohl gefühlt.\n",
      "Label:[('GENERAL-IMPRESSION', 'NEGATIVE')]\n",
      "Prediction:Schade!\n",
      "Label:[('GENERAL-IMPRESSION', 'POSITIVE')]\n",
      "Prediction:Wir freuen uns schon auf das nächste Mal.\n",
      "Label:[('AMBIENCE', 'POSITIVE')]\n",
      "Prediction:<aspect-term aspect=\"AMBIENCE\" polarity=\"POSITIVE\">Parkplätze</aspect-term> sind ausreichend vorhanden.\n",
      "Label:[('FOOD', 'POSITIVE')]\n",
      "Prediction:Und kein deutsches, denkt man schon das man hier auch sehr gut essen kann.\n",
      "Label:[('GENERAL-IMPRESSION', 'POSITIVE')]\n",
      "Prediction:Wirklich, alles hat hier für uns gepasst.\n",
      "Label:[('AMBIENCE', 'NEGATIVE')]\n",
      "Prediction:Man sollte auf festes Schuhwerk achten, da einen ansonsten bei dem klebenden <aspect-term aspect=\"AMBIENCE\" polarity=\"NEGATIVE\">Boden</aspect-term> die selbigen ausgezogen werden.\n",
      "Label:[('FOOD', 'POSITIVE'), ('FOOD', 'POSITIVE'), ('GENERAL-IMPRESSION', 'POSITIVE'), ('SERVICE', 'POSITIVE')]\n",
      "Prediction:<aspect-term aspect=\"FOOD\" polarity=\"POSITIVE\">Schnitzel</aspect-term> und <aspect-term aspect=\"FOOD\" polarity=\"POSITIVE\">Heringsfilet</aspect-term> waren sehr lecker und der weibliche <aspect-term aspect=\"SERVICE\" polarity=\"POSITIVE\">Köbes</aspect-term> wie man sie kennt ...JA, wir kommen wieder!\n",
      "Label:[('AMBIENCE', 'POSITIVE')]\n",
      "Prediction:Wir sind natürlich sofort gegangen und konnten von unserer schönen <aspect-term aspect=\"AMBIENCE\" polarity=\"POSITIVE\">Hotelterrasse</aspect-term> gut sehen, dass der Ansturm ausblieb.\n",
      "Label:[('FOOD', 'POSITIVE')]\n",
      "Prediction:Lecker gegessen, beste Qualität!\n",
      "Label:[('SERVICE', 'POSITIVE'), ('AMBIENCE', 'NEGATIVE')]\n",
      "Prediction:Die <aspect-term aspect=\"SERVICE\" polarity=\"POSITIVE\">Bedienung</aspect-term> war nett, auf den verschmutzen <aspect-term aspect=\"AMBIENCE\" polarity=\"NEGATIVE\">Tisch</aspect-term> musste ich hinweisen.\n",
      "Label:[('PRICE', 'POSITIVE'), ('FOOD', 'POSITIVE')]\n",
      "Prediction:Leckerer <aspect-term aspect=\"PRICE\" polarity=\"POSITIVE\">Wein</aspect-term>, super <aspect-term aspect=\"FOOD\" polarity=\"POSITIVE\">Tapas</aspect-term>!\n",
      "Label:[('FOOD', 'POSITIVE'), ('PRICE', 'POSITIVE')]\n",
      "Prediction:Klares Empfehlung, wer gutes <aspect-term aspect=\"PRICE\" polarity=\"POSITIVE\"><aspect-term aspect=\"FOOD\" polarity=\"POSITIVE\">Essen</aspect-term></aspect-term> zum fairen Preis haben möchte.\n",
      "Label:[('PRICE', 'POSITIVE')]\n",
      "Prediction:Hier stimmte <aspect-term aspect=\"PRICE\" polarity=\"POSITIVE\">Preis/Leistung</aspect-term>.\n",
      "Label:[('PRICE', 'NEGATIVE')]\n",
      "Prediction:Für mich war das leider rausgeworfenes <aspect-term aspect=\"PRICE\" polarity=\"NEGATIVE\">Geld</aspect-term>.\n",
      "Label:[('PRICE', 'NEGATIVE'), ('FOOD', 'POSITIVE')]\n",
      "Prediction:Ein stolzer <aspect-term aspect=\"PRICE\" polarity=\"NEGATIVE\">Preis</aspect-term> sollte sich mit einem Stolzen <aspect-term aspect=\"FOOD\" polarity=\"POSITIVE\">Essen</aspect-term> decken\n",
      "Label:[('GENERAL-IMPRESSION', 'POSITIVE')]\n",
      "Prediction:\n"
     ]
    }
   ],
   "source": [
    "few_shot_examples = [entry for entry in dataset if entry['id'] in examples]\n",
    "\n",
    "examples_text = get_examples_as_text(few_shot_examples)\n",
    "prompt_footer = f'\\nLabel:{str(label)}\\nPrediction:'\n",
    "prompt = PROMPT_TEMPLATE + examples_text + prompt_footer\n",
    "print(prompt)"
   ]
  },
  {
   "cell_type": "markdown",
   "metadata": {},
   "source": [
    "### See Examples"
   ]
  },
  {
   "cell_type": "code",
   "execution_count": 213,
   "metadata": {},
   "outputs": [
    {
     "data": {
      "text/plain": [
       "('4dad8de4-9f51-40bf-aeb8-998a8df599b6',\n",
       " 'Da passt das unverschämte Servicepersonal ideal dazu.',\n",
       " [{'end': 41,\n",
       "   'start': 26,\n",
       "   'tag_with_polarity': 'SERVICE-NEGATIVE',\n",
       "   'tag_with_polarity_and_type': 'SERVICE-NEGATIVE-explicit',\n",
       "   'text': 'Servicepersonal',\n",
       "   'type': 'label-explicit',\n",
       "   'label': 'SERVICE',\n",
       "   'polarity': 'NEGATIVE'}])"
      ]
     },
     "execution_count": 213,
     "metadata": {},
     "output_type": "execute_result"
    }
   ],
   "source": [
    "# TWO ASPECTS EXAMPLE: 0d6a451c-e730-4bee-82bf-906bbf552b10\n",
    "idx = 12\n",
    "dataset[idx][\"id\"], dataset[idx][\"text\"], dataset[idx][\"tags\"]"
   ]
  },
  {
   "cell_type": "code",
   "execution_count": 214,
   "metadata": {},
   "outputs": [
    {
     "name": "stdout",
     "output_type": "stream",
     "text": [
      "('7942cf45-690f-4100-98f6-f26b5b9177af', 'Sehr schönes Restaurant.', [{'end': 23, 'start': 13, 'tag_with_polarity': 'GENERAL-IMPRESSION-POSITIVE', 'tag_with_polarity_and_type': 'GENERAL-IMPRESSION-POSITIVE-explicit', 'text': 'Restaurant', 'type': 'label-explicit', 'label': 'GENERAL-IMPRESSION', 'polarity': 'POSITIVE'}])\n"
     ]
    }
   ],
   "source": [
    "# GENERAL-IMPRESSION:: 7942cf45-690f-4100-98f6-f26b5b9177af\n",
    "print([(example[\"id\"], example[\"text\"], example[\"tags\"])\n",
    "      for example in dataset if example[\"id\"] == \"7942cf45-690f-4100-98f6-f26b5b9177af\"][0])"
   ]
  },
  {
   "cell_type": "code",
   "execution_count": 215,
   "metadata": {},
   "outputs": [
    {
     "name": "stdout",
     "output_type": "stream",
     "text": [
      "('a05d0240-9c5d-4ba4-9059-7108a6f1c5a9', 'Die Bratwurst war unglaublich lecker und perfekt gewürzt.', [{'end': 13, 'start': 4, 'tag_with_polarity': 'FOOD-POSITIVE', 'tag_with_polarity_and_type': 'FOOD-POSITIVE-explicit', 'text': 'Bratwurst', 'type': 'label-explicit', 'label': 'FOOD', 'polarity': 'POSITIVE'}])\n"
     ]
    }
   ],
   "source": [
    "# FOOD:: a05d0240-9c5d-4ba4-9059-7108a6f1c5a9\n",
    "print([(example[\"id\"], example[\"text\"], example[\"tags\"])\n",
    "      for example in dataset if example[\"id\"] == \"a05d0240-9c5d-4ba4-9059-7108a6f1c5a9\"][0])"
   ]
  },
  {
   "cell_type": "code",
   "execution_count": 216,
   "metadata": {},
   "outputs": [
    {
     "name": "stdout",
     "output_type": "stream",
     "text": [
      "('0428a331-ebcf-4410-87ee-a140c0364d38', 'Bedienung leider nicht aufmerksam.', [{'end': 9, 'start': 0, 'tag_with_polarity': 'SERVICE-NEGATIVE', 'tag_with_polarity_and_type': 'SERVICE-NEGATIVE-explicit', 'text': 'Bedienung', 'type': 'label-explicit', 'label': 'SERVICE', 'polarity': 'NEGATIVE'}])\n"
     ]
    }
   ],
   "source": [
    "# SERVICE:: 0428a331-ebcf-4410-87ee-a140c0364d38 \n",
    "print([(example[\"id\"], example[\"text\"], example[\"tags\"])\n",
    "      for example in dataset if example[\"id\"] == \"0428a331-ebcf-4410-87ee-a140c0364d38\"][0])"
   ]
  },
  {
   "cell_type": "code",
   "execution_count": 217,
   "metadata": {},
   "outputs": [
    {
     "name": "stdout",
     "output_type": "stream",
     "text": [
      "('30526068-ebb3-4640-b4a7-6b303620af81', 'Die Preise sind unangemessen hoch, da lässt sich wohl der Chef seinen Namen bezahlen.', [{'end': 10, 'start': 4, 'tag_with_polarity': 'PRICE-NEGATIVE', 'tag_with_polarity_and_type': 'PRICE-NEGATIVE-explicit', 'text': 'Preise', 'type': 'label-explicit', 'label': 'PRICE', 'polarity': 'NEGATIVE'}])\n"
     ]
    }
   ],
   "source": [
    "# PRICE:: 30526068-ebb3-4640-b4a7-6b303620af81\n",
    "print([(example[\"id\"], example[\"text\"], example[\"tags\"])\n",
    "      for example in dataset if example[\"id\"] == \"30526068-ebb3-4640-b4a7-6b303620af81\"][0])"
   ]
  },
  {
   "cell_type": "code",
   "execution_count": 218,
   "metadata": {},
   "outputs": [
    {
     "name": "stdout",
     "output_type": "stream",
     "text": [
      "('15764c1d-9397-4cae-81a0-7e911ba2150d', 'Es war viel zu laut, wie im Club.', [{'end': 0, 'start': 0, 'tag_with_polarity': 'AMBIENCE-NEGATIVE', 'tag_with_polarity_and_type': 'AMBIENCE-NEGATIVE-no-phrase-implicit', 'text': 'NULL', 'type': 'label-implicit', 'label': 'AMBIENCE', 'polarity': 'NEGATIVE'}])\n"
     ]
    }
   ],
   "source": [
    "# AMBIENCE:: 15764c1d-9397-4cae-81a0-7e911ba2150d\n",
    "print([(example[\"id\"], example[\"text\"], example[\"tags\"])\n",
    "      for example in dataset if example[\"id\"] == \"15764c1d-9397-4cae-81a0-7e911ba2150d\"][0])"
   ]
  },
  {
   "cell_type": "code",
   "execution_count": 219,
   "metadata": {},
   "outputs": [
    {
     "name": "stdout",
     "output_type": "stream",
     "text": [
      "('0d6a451c-e730-4bee-82bf-906bbf552b10', 'Essen lecker, jedoch überteuert.', [{'end': 5, 'start': 0, 'tag_with_polarity': 'FOOD-POSITIVE', 'tag_with_polarity_and_type': 'FOOD-POSITIVE-explicit', 'text': 'Essen', 'type': 'label-explicit', 'label': 'FOOD', 'polarity': 'POSITIVE'}, {'end': 0, 'start': 0, 'tag_with_polarity': 'PRICE-NEGATIVE', 'tag_with_polarity_and_type': 'PRICE-NEGATIVE-no-phrase-implicit', 'text': 'NULL', 'type': 'label-implicit', 'label': 'PRICE', 'polarity': 'NEGATIVE'}])\n"
     ]
    }
   ],
   "source": [
    "# FOOD/PRICE:: 0d6a451c-e730-4bee-82bf-906bbf552b10\n",
    "print([(example[\"id\"], example[\"text\"], example[\"tags\"])\n",
    "      for example in dataset if example[\"id\"] == \"0d6a451c-e730-4bee-82bf-906bbf552b10\"][0])"
   ]
  },
  {
   "cell_type": "code",
   "execution_count": 220,
   "metadata": {},
   "outputs": [
    {
     "name": "stdout",
     "output_type": "stream",
     "text": [
      "('40bbda81-2d31-446f-b48f-b0c4a09a9334', 'Tolles Essen, tolle Atmosphäre und ganz netter und aufmerksamer Service!', [{'end': 12, 'start': 7, 'tag_with_polarity': 'FOOD-POSITIVE', 'tag_with_polarity_and_type': 'FOOD-POSITIVE-explicit', 'text': 'Essen', 'type': 'label-explicit', 'label': 'FOOD', 'polarity': 'POSITIVE'}, {'end': 30, 'start': 20, 'tag_with_polarity': 'AMBIENCE-POSITIVE', 'tag_with_polarity_and_type': 'AMBIENCE-POSITIVE-explicit', 'text': 'Atmosphäre', 'type': 'label-explicit', 'label': 'AMBIENCE', 'polarity': 'POSITIVE'}, {'end': 71, 'start': 64, 'tag_with_polarity': 'SERVICE-POSITIVE', 'tag_with_polarity_and_type': 'SERVICE-POSITIVE-explicit', 'text': 'Service', 'type': 'label-explicit', 'label': 'SERVICE', 'polarity': 'POSITIVE'}])\n"
     ]
    }
   ],
   "source": [
    "# SERVICE/AMBIENCE/FOOD:: 40bbda81-2d31-446f-b48f-b0c4a09a9334\n",
    "print([(example[\"id\"], example[\"text\"], example[\"tags\"])\n",
    "      for example in dataset if example[\"id\"] == \"40bbda81-2d31-446f-b48f-b0c4a09a9334\"][0])"
   ]
  },
  {
   "cell_type": "code",
   "execution_count": 221,
   "metadata": {},
   "outputs": [
    {
     "name": "stdout",
     "output_type": "stream",
     "text": [
      "7354bf60-4628-4464-8c4b-46724ca9601c \n",
      " Qualität des Essens Durchschnitt. \n",
      " [{'end': 19, 'start': 13, 'tag_with_polarity': 'FOOD-NEUTRAL', 'tag_with_polarity_and_type': 'FOOD-NEUTRAL-explicit', 'text': 'Essens', 'type': 'label-explicit', 'label': 'FOOD', 'polarity': 'NEUTRAL'}] \n",
      "\n",
      "eaa23be2-0512-41d5-91c1-5c576b14cb39 \n",
      " Die Qualität der Speisen war ordentlich mit ein paar kleinen Abstrichen. \n",
      " [{'end': 24, 'start': 17, 'tag_with_polarity': 'FOOD-NEUTRAL', 'tag_with_polarity_and_type': 'FOOD-NEUTRAL-explicit', 'text': 'Speisen', 'type': 'label-explicit', 'label': 'FOOD', 'polarity': 'NEUTRAL'}] \n",
      "\n",
      "b2eff795-49e7-49f3-96b2-dc5099855143 \n",
      " Gestresste überhebliche Kellner und das Essen nur noch Mittelmass. \n",
      " [{'end': 31, 'start': 24, 'tag_with_polarity': 'SERVICE-NEGATIVE', 'tag_with_polarity_and_type': 'SERVICE-NEGATIVE-explicit', 'text': 'Kellner', 'type': 'label-explicit', 'label': 'SERVICE', 'polarity': 'NEGATIVE'}, {'end': 45, 'start': 40, 'tag_with_polarity': 'FOOD-NEUTRAL', 'tag_with_polarity_and_type': 'FOOD-NEUTRAL-explicit', 'text': 'Essen', 'type': 'label-explicit', 'label': 'FOOD', 'polarity': 'NEUTRAL'}] \n",
      "\n",
      "9b55c48b-bbb1-4966-bdba-aad52e72155b \n",
      " Das Essen war sonst allenfalls ok. \n",
      " [{'end': 9, 'start': 4, 'tag_with_polarity': 'FOOD-NEUTRAL', 'tag_with_polarity_and_type': 'FOOD-NEUTRAL-explicit', 'text': 'Essen', 'type': 'label-explicit', 'label': 'FOOD', 'polarity': 'NEUTRAL'}] \n",
      "\n",
      "f33e047e-fd2b-4613-8766-e648e4e16f3f \n",
      " Von der Preisstruktur her gehoben, kann die Qualität des Essens nicht mithalten: teilweise gut (Spargel), teilweise grottig (stark versalzene Beilagen , Gemüse nicht frisch, sondern an Tiefkühlgemüse erinnernd, sehr durchwachsenes Fleisch). \n",
      " [{'end': 21, 'start': 8, 'tag_with_polarity': 'FOOD-NEGATIVE', 'tag_with_polarity_and_type': 'FOOD-NEGATIVE-explicit', 'text': 'Preisstruktur', 'type': 'label-explicit', 'label': 'FOOD', 'polarity': 'NEGATIVE'}, {'end': 63, 'start': 57, 'tag_with_polarity': 'FOOD-NEGATIVE', 'tag_with_polarity_and_type': 'FOOD-NEGATIVE-explicit', 'text': 'Essens', 'type': 'label-explicit', 'label': 'FOOD', 'polarity': 'NEGATIVE'}, {'end': 103, 'start': 96, 'tag_with_polarity': 'FOOD-POSITIVE', 'tag_with_polarity_and_type': 'FOOD-POSITIVE-explicit', 'text': 'Spargel', 'type': 'label-explicit', 'label': 'FOOD', 'polarity': 'POSITIVE'}, {'end': 150, 'start': 142, 'tag_with_polarity': 'FOOD-NEGATIVE', 'tag_with_polarity_and_type': 'FOOD-NEGATIVE-explicit', 'text': 'Beilagen', 'type': 'label-explicit', 'label': 'FOOD', 'polarity': 'NEGATIVE'}, {'end': 159, 'start': 153, 'tag_with_polarity': 'FOOD-NEGATIVE', 'tag_with_polarity_and_type': 'FOOD-NEGATIVE-explicit', 'text': 'Gemüse', 'type': 'label-explicit', 'label': 'FOOD', 'polarity': 'NEGATIVE'}, {'end': 238, 'start': 231, 'tag_with_polarity': 'FOOD-NEUTRAL', 'tag_with_polarity_and_type': 'FOOD-NEUTRAL-explicit', 'text': 'Fleisch', 'type': 'label-explicit', 'label': 'FOOD', 'polarity': 'NEUTRAL'}] \n",
      "\n",
      "fbe35763-367d-4b17-9f46-bd2751e443c6 \n",
      " Nicht schlecht, aber auch nix besonderes. \n",
      " [{'end': 0, 'start': 0, 'tag_with_polarity': 'GENERAL-IMPRESSION-NEUTRAL', 'tag_with_polarity_and_type': 'GENERAL-IMPRESSION-NEUTRAL-no-phrase-implicit', 'text': 'NULL', 'type': 'label-implicit', 'label': 'GENERAL-IMPRESSION', 'polarity': 'NEUTRAL'}] \n",
      "\n",
      "24f70876-e05a-4a6a-8800-805913021afb \n",
      " Die Sushi schmeckt nur noch durchschnittlich. \n",
      " [{'end': 9, 'start': 4, 'tag_with_polarity': 'FOOD-NEUTRAL', 'tag_with_polarity_and_type': 'FOOD-NEUTRAL-explicit', 'text': 'Sushi', 'type': 'label-explicit', 'label': 'FOOD', 'polarity': 'NEUTRAL'}] \n",
      "\n",
      "35701c23-98c3-4fa6-8948-197e03b2c3aa \n",
      " Essen war okay, die Bratkartoffeln sogar richtig gut. \n",
      " [{'end': 34, 'start': 20, 'tag_with_polarity': 'FOOD-POSITIVE', 'tag_with_polarity_and_type': 'FOOD-POSITIVE-explicit', 'text': 'Bratkartoffeln', 'type': 'label-explicit', 'label': 'FOOD', 'polarity': 'POSITIVE'}, {'end': 5, 'start': 0, 'tag_with_polarity': 'FOOD-NEUTRAL', 'tag_with_polarity_and_type': 'FOOD-NEUTRAL-explicit', 'text': 'Essen', 'type': 'label-explicit', 'label': 'FOOD', 'polarity': 'NEUTRAL'}] \n",
      "\n",
      "2615f014-5e00-4525-b518-6ad1b75d02ff \n",
      " Essen war absolut in Ordnung. \n",
      " [{'end': 5, 'start': 0, 'tag_with_polarity': 'FOOD-NEUTRAL', 'tag_with_polarity_and_type': 'FOOD-NEUTRAL-explicit', 'text': 'Essen', 'type': 'label-explicit', 'label': 'FOOD', 'polarity': 'NEUTRAL'}] \n",
      "\n",
      "6835d987-b021-4918-a158-8adf901f91d9 \n",
      " Da war dann immer noch ordentlich Salz drin, aber es war essbar. \n",
      " [{'end': 56, 'start': 39, 'tag_with_polarity': 'FOOD-NEUTRAL', 'tag_with_polarity_and_type': 'FOOD-NEUTRAL-explicit', 'text': 'drin, aber es war', 'type': 'label-explicit', 'label': 'FOOD', 'polarity': 'NEUTRAL'}, {'end': 0, 'start': 0, 'tag_with_polarity': 'FOOD-NEUTRAL', 'tag_with_polarity_and_type': 'FOOD-NEUTRAL-no-phrase-implicit', 'text': 'NULL', 'type': 'label-implicit', 'label': 'FOOD', 'polarity': 'NEUTRAL'}] \n",
      "\n",
      "b33c8585-290e-4f24-a36c-75c9ee78c977 \n",
      " Das Essen war in Ordnung, der Service Durchschnitt, der Preis mittel. \n",
      " [{'end': 9, 'start': 4, 'tag_with_polarity': 'FOOD-NEUTRAL', 'tag_with_polarity_and_type': 'FOOD-NEUTRAL-explicit', 'text': 'Essen', 'type': 'label-explicit', 'label': 'FOOD', 'polarity': 'NEUTRAL'}, {'end': 37, 'start': 30, 'tag_with_polarity': 'SERVICE-NEUTRAL', 'tag_with_polarity_and_type': 'SERVICE-NEUTRAL-explicit', 'text': 'Service', 'type': 'label-explicit', 'label': 'SERVICE', 'polarity': 'NEUTRAL'}, {'end': 61, 'start': 56, 'tag_with_polarity': 'PRICE-NEUTRAL', 'tag_with_polarity_and_type': 'PRICE-NEUTRAL-explicit', 'text': 'Preis', 'type': 'label-explicit', 'label': 'PRICE', 'polarity': 'NEUTRAL'}] \n",
      "\n",
      "9217e092-a08c-4a59-a538-999f03fddf7e \n",
      " Das Fleisch war in Ordnung, die Bratkartoffeln waren jedoch nicht knusprig, sondern trieften vor Fett. \n",
      " [{'end': 11, 'start': 4, 'tag_with_polarity': 'FOOD-NEUTRAL', 'tag_with_polarity_and_type': 'FOOD-NEUTRAL-explicit', 'text': 'Fleisch', 'type': 'label-explicit', 'label': 'FOOD', 'polarity': 'NEUTRAL'}, {'end': 46, 'start': 32, 'tag_with_polarity': 'FOOD-NEGATIVE', 'tag_with_polarity_and_type': 'FOOD-NEGATIVE-explicit', 'text': 'Bratkartoffeln', 'type': 'label-explicit', 'label': 'FOOD', 'polarity': 'NEGATIVE'}] \n",
      "\n",
      "392c8203-1ce2-4876-87b6-1f15b467d506 \n",
      " In LOC based, bin ich schlechten Service zwar gewohnt aber was die hier in diesem Laden abliefern ist hostil, menschenfeindlich und dazu bei exorbitanten Preisen und einer sehr mittelmäßigen Qualität des Essens. \n",
      " [{'end': 40, 'start': 33, 'tag_with_polarity': 'SERVICE-NEGATIVE', 'tag_with_polarity_and_type': 'SERVICE-NEGATIVE-explicit', 'text': 'Service', 'type': 'label-explicit', 'label': 'SERVICE', 'polarity': 'NEGATIVE'}, {'end': 161, 'start': 154, 'tag_with_polarity': 'PRICE-NEGATIVE', 'tag_with_polarity_and_type': 'PRICE-NEGATIVE-explicit', 'text': 'Preisen', 'type': 'label-explicit', 'label': 'PRICE', 'polarity': 'NEGATIVE'}, {'end': 210, 'start': 204, 'tag_with_polarity': 'FOOD-NEUTRAL', 'tag_with_polarity_and_type': 'FOOD-NEUTRAL-explicit', 'text': 'Essens', 'type': 'label-explicit', 'label': 'FOOD', 'polarity': 'NEUTRAL'}] \n",
      "\n",
      "47b73295-a9e1-41ae-8ae1-9543bbab5b52 \n",
      " Das RESTAURANT_NAME ist ein durchschnittlicher LOC, den man ab und zu einmal für ein Essen aufsuchen kann ohne etwas Besonders zu erwarten. \n",
      " [{'end': 19, 'start': 4, 'tag_with_polarity': 'GENERAL-IMPRESSION-NEUTRAL', 'tag_with_polarity_and_type': 'GENERAL-IMPRESSION-NEUTRAL-explicit', 'text': 'RESTAURANT_NAME', 'type': 'label-explicit', 'label': 'GENERAL-IMPRESSION', 'polarity': 'NEUTRAL'}, {'end': 90, 'start': 85, 'tag_with_polarity': 'FOOD-NEUTRAL', 'tag_with_polarity_and_type': 'FOOD-NEUTRAL-explicit', 'text': 'Essen', 'type': 'label-explicit', 'label': 'FOOD', 'polarity': 'NEUTRAL'}] \n",
      "\n",
      "338843b5-f2e2-4afb-8d59-860e2b027430 \n",
      " Das Essen ist mittelmäßig, geschmacklich kein Highlight, kein Unterschied zu einem normalen Asia Imbiss. \n",
      " [{'end': 9, 'start': 4, 'tag_with_polarity': 'FOOD-NEUTRAL', 'tag_with_polarity_and_type': 'FOOD-NEUTRAL-explicit', 'text': 'Essen', 'type': 'label-explicit', 'label': 'FOOD', 'polarity': 'NEUTRAL'}] \n",
      "\n",
      "01ba15b5-10b6-418a-b242-3be5b0c4640d \n",
      " Preislich ist das ok gewesen. \n",
      " [{'end': 0, 'start': 0, 'tag_with_polarity': 'PRICE-NEUTRAL', 'tag_with_polarity_and_type': 'PRICE-NEUTRAL-no-phrase-implicit', 'text': 'NULL', 'type': 'label-implicit', 'label': 'PRICE', 'polarity': 'NEUTRAL'}] \n",
      "\n",
      "540a1033-f48c-4aab-b51f-7054dc1eec94 \n",
      " Klassische LOC Essen aber das war’s dann auch. \n",
      " [{'end': 20, 'start': 15, 'tag_with_polarity': 'FOOD-NEUTRAL', 'tag_with_polarity_and_type': 'FOOD-NEUTRAL-explicit', 'text': 'Essen', 'type': 'label-explicit', 'label': 'FOOD', 'polarity': 'NEUTRAL'}] \n",
      "\n",
      "48a971a0-66e8-4587-b231-0128f255f6db \n",
      " Einzig die Portionen beim Essen sind mittel. \n",
      " [{'end': 31, 'start': 11, 'tag_with_polarity': 'FOOD-NEUTRAL', 'tag_with_polarity_and_type': 'FOOD-NEUTRAL-explicit', 'text': 'Portionen beim Essen', 'type': 'label-explicit', 'label': 'FOOD', 'polarity': 'NEUTRAL'}] \n",
      "\n",
      "0b668f9e-1f74-4581-b042-2505dc2d9c23 \n",
      " Aufgrund des LOC war leider das Essen auch nur mittelmäßig. \n",
      " [{'end': 37, 'start': 32, 'tag_with_polarity': 'FOOD-NEUTRAL', 'tag_with_polarity_and_type': 'FOOD-NEUTRAL-explicit', 'text': 'Essen', 'type': 'label-explicit', 'label': 'FOOD', 'polarity': 'NEUTRAL'}] \n",
      "\n",
      "32351127-da92-40ff-974a-a1332a965891 \n",
      " Das Rindertartar war ok , die dazu angepriesene spezial Majo 2 Cent groß.. schade ! \n",
      " [{'end': 16, 'start': 4, 'tag_with_polarity': 'FOOD-NEUTRAL', 'tag_with_polarity_and_type': 'FOOD-NEUTRAL-explicit', 'text': 'Rindertartar', 'type': 'label-explicit', 'label': 'FOOD', 'polarity': 'NEUTRAL'}, {'end': 60, 'start': 56, 'tag_with_polarity': 'PRICE-NEGATIVE', 'tag_with_polarity_and_type': 'PRICE-NEGATIVE-explicit', 'text': 'Majo', 'type': 'label-explicit', 'label': 'PRICE', 'polarity': 'NEGATIVE'}] \n",
      "\n",
      "4e1ebf90-5699-4903-ad39-88408a821196 \n",
      " Das Restaurant ist laut, der Kellner hatte schlechte Laune und das Essen war mittelmässig. \n",
      " [{'end': 14, 'start': 4, 'tag_with_polarity': 'AMBIENCE-NEGATIVE', 'tag_with_polarity_and_type': 'AMBIENCE-NEGATIVE-explicit', 'text': 'Restaurant', 'type': 'label-explicit', 'label': 'AMBIENCE', 'polarity': 'NEGATIVE'}, {'end': 36, 'start': 29, 'tag_with_polarity': 'SERVICE-NEGATIVE', 'tag_with_polarity_and_type': 'SERVICE-NEGATIVE-explicit', 'text': 'Kellner', 'type': 'label-explicit', 'label': 'SERVICE', 'polarity': 'NEGATIVE'}, {'end': 72, 'start': 67, 'tag_with_polarity': 'FOOD-NEUTRAL', 'tag_with_polarity_and_type': 'FOOD-NEUTRAL-explicit', 'text': 'Essen', 'type': 'label-explicit', 'label': 'FOOD', 'polarity': 'NEUTRAL'}] \n",
      "\n",
      "3a72b371-a3f9-4ba4-ba22-212a23961d7e \n",
      " Das Essen ist okay mehr aber auch nicht. \n",
      " [{'end': 9, 'start': 4, 'tag_with_polarity': 'FOOD-NEUTRAL', 'tag_with_polarity_and_type': 'FOOD-NEUTRAL-explicit', 'text': 'Essen', 'type': 'label-explicit', 'label': 'FOOD', 'polarity': 'NEUTRAL'}] \n",
      "\n",
      "5f530419-aa01-44f0-804e-6b24c9552cee \n",
      " Wir waren mittags hier, das Ambiente ist top und auch das Bier ist super, leider sind die Speisen \"nur\" Ok. \n",
      " [{'end': 36, 'start': 28, 'tag_with_polarity': 'AMBIENCE-POSITIVE', 'tag_with_polarity_and_type': 'AMBIENCE-POSITIVE-explicit', 'text': 'Ambiente', 'type': 'label-explicit', 'label': 'AMBIENCE', 'polarity': 'POSITIVE'}, {'end': 62, 'start': 58, 'tag_with_polarity': 'FOOD-POSITIVE', 'tag_with_polarity_and_type': 'FOOD-POSITIVE-explicit', 'text': 'Bier', 'type': 'label-explicit', 'label': 'FOOD', 'polarity': 'POSITIVE'}, {'end': 97, 'start': 90, 'tag_with_polarity': 'FOOD-NEUTRAL', 'tag_with_polarity_and_type': 'FOOD-NEUTRAL-explicit', 'text': 'Speisen', 'type': 'label-explicit', 'label': 'FOOD', 'polarity': 'NEUTRAL'}] \n",
      "\n",
      "fe8153c8-28ce-447a-8680-26ec9851b037 \n",
      " Das Essen war auch nur ok, für den Preis eine Frechheit. \n",
      " [{'end': 9, 'start': 4, 'tag_with_polarity': 'FOOD-NEUTRAL', 'tag_with_polarity_and_type': 'FOOD-NEUTRAL-explicit', 'text': 'Essen', 'type': 'label-explicit', 'label': 'FOOD', 'polarity': 'NEUTRAL'}, {'end': 9, 'start': 4, 'tag_with_polarity': 'PRICE-NEGATIVE', 'tag_with_polarity_and_type': 'PRICE-NEGATIVE-explicit', 'text': 'Essen', 'type': 'label-explicit', 'label': 'PRICE', 'polarity': 'NEGATIVE'}] \n",
      "\n",
      "48f9c295-f1a5-488f-8b98-e950bc0dd26b \n",
      " Essen war ok, aber sowas verdirbt einem nur die Laune. \n",
      " [{'end': 5, 'start': 0, 'tag_with_polarity': 'FOOD-NEUTRAL', 'tag_with_polarity_and_type': 'FOOD-NEUTRAL-explicit', 'text': 'Essen', 'type': 'label-explicit', 'label': 'FOOD', 'polarity': 'NEUTRAL'}] \n",
      "\n",
      "71aff6a4-0feb-4bcd-923e-7678eb88e278 \n",
      " Allein der Rotwein war nichts Besonderes. \n",
      " [{'end': 18, 'start': 11, 'tag_with_polarity': 'FOOD-NEUTRAL', 'tag_with_polarity_and_type': 'FOOD-NEUTRAL-explicit', 'text': 'Rotwein', 'type': 'label-explicit', 'label': 'FOOD', 'polarity': 'NEUTRAL'}] \n",
      "\n",
      "e44f30e5-3431-4b23-b787-6debc29d9278 \n",
      " Preislich mittlerweile etwas angezogen, gleichwohl ok. \n",
      " [{'end': 9, 'start': 0, 'tag_with_polarity': 'PRICE-NEUTRAL', 'tag_with_polarity_and_type': 'PRICE-NEUTRAL-explicit', 'text': 'Preislich', 'type': 'label-explicit', 'label': 'PRICE', 'polarity': 'NEUTRAL'}] \n",
      "\n",
      "bac5eb67-d9ae-4e77-a1af-7c9f05cba567 \n",
      " Aber das Essen ist einfach nichts besonderes. \n",
      " [{'end': 14, 'start': 9, 'tag_with_polarity': 'FOOD-NEUTRAL', 'tag_with_polarity_and_type': 'FOOD-NEUTRAL-explicit', 'text': 'Essen', 'type': 'label-explicit', 'label': 'FOOD', 'polarity': 'NEUTRAL'}] \n",
      "\n",
      "0fd2f2d0-c3b6-4dab-8413-55d484eebb91 \n",
      " Das Essen ist ok soweit, nothing special und dafür ist es mindestens 30% zu teuer. \n",
      " [{'end': 9, 'start': 4, 'tag_with_polarity': 'FOOD-NEUTRAL', 'tag_with_polarity_and_type': 'FOOD-NEUTRAL-explicit', 'text': 'Essen', 'type': 'label-explicit', 'label': 'FOOD', 'polarity': 'NEUTRAL'}, {'end': 0, 'start': 0, 'tag_with_polarity': 'PRICE-NEGATIVE', 'tag_with_polarity_and_type': 'PRICE-NEGATIVE-no-phrase-implicit', 'text': 'NULL', 'type': 'label-implicit', 'label': 'PRICE', 'polarity': 'NEGATIVE'}] \n",
      "\n",
      "3de820d9-26ea-4b74-afb8-502373df5aaa \n",
      " Die Speisen waren ausreichend, das Salatbuffet gut. \n",
      " [{'end': 11, 'start': 4, 'tag_with_polarity': 'FOOD-NEUTRAL', 'tag_with_polarity_and_type': 'FOOD-NEUTRAL-explicit', 'text': 'Speisen', 'type': 'label-explicit', 'label': 'FOOD', 'polarity': 'NEUTRAL'}, {'end': 46, 'start': 35, 'tag_with_polarity': 'FOOD-POSITIVE', 'tag_with_polarity_and_type': 'FOOD-POSITIVE-explicit', 'text': 'Salatbuffet', 'type': 'label-explicit', 'label': 'FOOD', 'polarity': 'POSITIVE'}] \n",
      "\n",
      "d6844048-9f07-41df-a452-733c6081dcb3 \n",
      " Der (offene) Primitivo war ordentlich, wenn auch kein Spitzenwein (kann man bei 8 Euro fürs Glas auch nicht verlangen). \n",
      " [{'end': 22, 'start': 13, 'tag_with_polarity': 'FOOD-NEUTRAL', 'tag_with_polarity_and_type': 'FOOD-NEUTRAL-explicit', 'text': 'Primitivo', 'type': 'label-explicit', 'label': 'FOOD', 'polarity': 'NEUTRAL'}] \n",
      "\n"
     ]
    },
    {
     "ename": "IndexError",
     "evalue": "list index out of range",
     "output_type": "error",
     "traceback": [
      "\u001b[0;31m---------------------------------------------------------------------------\u001b[0m",
      "\u001b[0;31mIndexError\u001b[0m                                Traceback (most recent call last)",
      "\u001b[1;32m/Users/nils_hellwig/Desktop/Studium/Masterstudium WS 2023:24/Masterarbeit/absa-llm-augmentation/04 llm synthesis/prompt_tester.ipynb Zelle 26\u001b[0m line \u001b[0;36m6\n\u001b[1;32m      <a href='vscode-notebook-cell:/Users/nils_hellwig/Desktop/Studium/Masterstudium%20WS%202023%3A24/Masterarbeit/absa-llm-augmentation/04%20llm%20synthesis/prompt_tester.ipynb#X34sZmlsZQ%3D%3D?line=3'>4</a>\u001b[0m i \u001b[39m=\u001b[39m \u001b[39m0\u001b[39m\n\u001b[1;32m      <a href='vscode-notebook-cell:/Users/nils_hellwig/Desktop/Studium/Masterstudium%20WS%202023%3A24/Masterarbeit/absa-llm-augmentation/04%20llm%20synthesis/prompt_tester.ipynb#X34sZmlsZQ%3D%3D?line=4'>5</a>\u001b[0m \u001b[39mwhile\u001b[39;00m end \u001b[39m==\u001b[39m \u001b[39mFalse\u001b[39;00m:\n\u001b[0;32m----> <a href='vscode-notebook-cell:/Users/nils_hellwig/Desktop/Studium/Masterstudium%20WS%202023%3A24/Masterarbeit/absa-llm-augmentation/04%20llm%20synthesis/prompt_tester.ipynb#X34sZmlsZQ%3D%3D?line=5'>6</a>\u001b[0m     \u001b[39mif\u001b[39;00m \u001b[39m\"\u001b[39m\u001b[39mNEUTRAL\u001b[39m\u001b[39m\"\u001b[39m \u001b[39min\u001b[39;00m [tag[\u001b[39m\"\u001b[39m\u001b[39mpolarity\u001b[39m\u001b[39m\"\u001b[39m] \u001b[39mfor\u001b[39;00m tag \u001b[39min\u001b[39;00m dataset[k][\u001b[39m\"\u001b[39m\u001b[39mtags\u001b[39m\u001b[39m\"\u001b[39m]]:\n\u001b[1;32m      <a href='vscode-notebook-cell:/Users/nils_hellwig/Desktop/Studium/Masterstudium%20WS%202023%3A24/Masterarbeit/absa-llm-augmentation/04%20llm%20synthesis/prompt_tester.ipynb#X34sZmlsZQ%3D%3D?line=6'>7</a>\u001b[0m         \u001b[39mprint\u001b[39m(dataset[k][\u001b[39m\"\u001b[39m\u001b[39mid\u001b[39m\u001b[39m\"\u001b[39m], \u001b[39m\"\u001b[39m\u001b[39m\\n\u001b[39;00m\u001b[39m\"\u001b[39m, dataset[k]\n\u001b[1;32m      <a href='vscode-notebook-cell:/Users/nils_hellwig/Desktop/Studium/Masterstudium%20WS%202023%3A24/Masterarbeit/absa-llm-augmentation/04%20llm%20synthesis/prompt_tester.ipynb#X34sZmlsZQ%3D%3D?line=7'>8</a>\u001b[0m               [\u001b[39m\"\u001b[39m\u001b[39mtext\u001b[39m\u001b[39m\"\u001b[39m], \u001b[39m\"\u001b[39m\u001b[39m\\n\u001b[39;00m\u001b[39m\"\u001b[39m, dataset[k][\u001b[39m\"\u001b[39m\u001b[39mtags\u001b[39m\u001b[39m\"\u001b[39m], \u001b[39m\"\u001b[39m\u001b[39m\\n\u001b[39;00m\u001b[39m\"\u001b[39m)\n\u001b[1;32m      <a href='vscode-notebook-cell:/Users/nils_hellwig/Desktop/Studium/Masterstudium%20WS%202023%3A24/Masterarbeit/absa-llm-augmentation/04%20llm%20synthesis/prompt_tester.ipynb#X34sZmlsZQ%3D%3D?line=8'>9</a>\u001b[0m         i \u001b[39m+\u001b[39m\u001b[39m=\u001b[39m \u001b[39m1\u001b[39m\n",
      "\u001b[0;31mIndexError\u001b[0m: list index out of range"
     ]
    }
   ],
   "source": [
    "# Get Examples\n",
    "end = False\n",
    "k = 0\n",
    "i = 0\n",
    "while end == False:\n",
    "    if \"NEUTRAL\" in [tag[\"polarity\"] for tag in dataset[k][\"tags\"]]:\n",
    "        print(dataset[k][\"id\"], \"\\n\", dataset[k]\n",
    "              [\"text\"], \"\\n\", dataset[k][\"tags\"], \"\\n\")\n",
    "        i += 1\n",
    "    if i == 100:\n",
    "        end = True\n",
    "    k += 1"
   ]
  },
  {
   "cell_type": "code",
   "execution_count": null,
   "metadata": {},
   "outputs": [],
   "source": []
  }
 ],
 "metadata": {
  "kernelspec": {
   "display_name": "Python 3 (ipykernel)",
   "language": "python",
   "name": "python3"
  },
  "language_info": {
   "codemirror_mode": {
    "name": "ipython",
    "version": 3
   },
   "file_extension": ".py",
   "mimetype": "text/x-python",
   "name": "python",
   "nbconvert_exporter": "python",
   "pygments_lexer": "ipython3",
   "version": "3.11.3"
  }
 },
 "nbformat": 4,
 "nbformat_minor": 5
}
