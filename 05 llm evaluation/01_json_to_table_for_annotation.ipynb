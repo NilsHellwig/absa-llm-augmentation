{
 "cells": [
  {
   "cell_type": "markdown",
   "id": "c0d22bba-6bd8-4cf5-a82d-8902e533973c",
   "metadata": {},
   "source": [
    "# Notebook: Convert Synth Examples into .csv for Annotation"
   ]
  },
  {
   "cell_type": "markdown",
   "id": "caa234d8-c34b-4aa5-a156-a7faf6555811",
   "metadata": {
    "tags": []
   },
   "source": [
    "## Packages"
   ]
  },
  {
   "cell_type": "code",
   "execution_count": 1,
   "id": "e001435c-ddc2-4522-9c2f-5cb7ec941aac",
   "metadata": {
    "tags": []
   },
   "outputs": [],
   "source": [
    "import pandas as pd\n",
    "import json"
   ]
  },
  {
   "cell_type": "markdown",
   "id": "dbaad2de-f0ef-47f6-88bf-2570077f48a2",
   "metadata": {
    "tags": []
   },
   "source": [
    "## Parameters"
   ]
  },
  {
   "cell_type": "code",
   "execution_count": 2,
   "id": "739e0c47-8f1b-45bc-ab9c-a3c996e2cd1e",
   "metadata": {
    "tags": []
   },
   "outputs": [],
   "source": [
    "PATH_DATASET = \"evaluation_json/evaluation_Llama70B.json\"\n",
    "PATH_DATASET_CSV = \"evaluation_csv/evaluation_Llama70B.csv\""
   ]
  },
  {
   "cell_type": "markdown",
   "id": "4cba7e45-2617-4526-8bd4-f479848f628f",
   "metadata": {
    "tags": []
   },
   "source": [
    "## Code"
   ]
  },
  {
   "cell_type": "code",
   "execution_count": 3,
   "id": "5bb98440-b76e-49f6-afbd-ec00af5b825f",
   "metadata": {
    "tags": []
   },
   "outputs": [],
   "source": [
    "with open(PATH_DATASET, \"r\") as infile:\n",
    "    dataset_json = json.load(infile)"
   ]
  },
  {
   "cell_type": "code",
   "execution_count": 4,
   "id": "2ebb1120-089b-463e-b1db-9fc1f92ee8a3",
   "metadata": {
    "tags": []
   },
   "outputs": [],
   "source": [
    "selected_columns = [\"text\", \"id\", \"model\"]\n",
    "dataset = [{key: entry[key] for key in selected_columns} for entry in dataset_json]\n",
    "df = pd.DataFrame(dataset)\n",
    "df.to_csv(PATH_DATASET_CSV, index=False)"
   ]
  }
 ],
 "metadata": {
  "kernelspec": {
   "display_name": "Python 3 (ipykernel)",
   "language": "python",
   "name": "python3"
  },
  "language_info": {
   "codemirror_mode": {
    "name": "ipython",
    "version": 3
   },
   "file_extension": ".py",
   "mimetype": "text/x-python",
   "name": "python",
   "nbconvert_exporter": "python",
   "pygments_lexer": "ipython3",
   "version": "3.11.3"
  }
 },
 "nbformat": 4,
 "nbformat_minor": 5
}
