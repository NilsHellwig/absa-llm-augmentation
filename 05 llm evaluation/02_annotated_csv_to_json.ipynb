{
 "cells": [
  {
   "cell_type": "markdown",
   "id": "c0d22bba-6bd8-4cf5-a82d-8902e533973c",
   "metadata": {},
   "source": [
    "# Notebook: Convert Annotated Synth Sample to JSON"
   ]
  },
  {
   "cell_type": "markdown",
   "id": "caa234d8-c34b-4aa5-a156-a7faf6555811",
   "metadata": {
    "tags": []
   },
   "source": [
    "## Packages"
   ]
  },
  {
   "cell_type": "code",
   "execution_count": 10,
   "id": "e001435c-ddc2-4522-9c2f-5cb7ec941aac",
   "metadata": {
    "tags": []
   },
   "outputs": [],
   "source": [
    "import pandas as pd\n",
    "import json"
   ]
  },
  {
   "cell_type": "code",
   "execution_count": 11,
   "id": "04610528-4d6f-49c4-9d88-1af702ad1bb9",
   "metadata": {
    "tags": []
   },
   "outputs": [],
   "source": [
    "import sys\n",
    "sys.path.append('../03 dataset split')  \n",
    "from format_labelstudio_json import format_json"
   ]
  },
  {
   "cell_type": "markdown",
   "id": "dbaad2de-f0ef-47f6-88bf-2570077f48a2",
   "metadata": {
    "tags": []
   },
   "source": [
    "## Parameters"
   ]
  },
  {
   "cell_type": "code",
   "execution_count": 12,
   "id": "739e0c47-8f1b-45bc-ab9c-a3c996e2cd1e",
   "metadata": {
    "tags": []
   },
   "outputs": [],
   "source": [
    "PATH_DATASET_ANNOTATED_JSON = \"evaluation_json_annotated/evaluation_Llama70B.json\"\n",
    "PATH_DATASET_ANNOTATED_JSON_FORMATTED = \"evaluation_json_annotated_formatted/evaluation_Llama70B.json\""
   ]
  },
  {
   "cell_type": "markdown",
   "id": "4cba7e45-2617-4526-8bd4-f479848f628f",
   "metadata": {
    "tags": []
   },
   "source": [
    "## Code"
   ]
  },
  {
   "cell_type": "code",
   "execution_count": 13,
   "id": "5bb98440-b76e-49f6-afbd-ec00af5b825f",
   "metadata": {
    "tags": []
   },
   "outputs": [],
   "source": [
    "with open(PATH_DATASET_ANNOTATED_JSON, \"r\") as infile:\n",
    "    dataset_json = json.load(infile)\n",
    "    \n",
    "formatted_json = format_json(dataset_json)"
   ]
  },
  {
   "cell_type": "code",
   "execution_count": 14,
   "id": "f8bffd3d-477a-4dc1-94c0-bd22adaead1d",
   "metadata": {},
   "outputs": [],
   "source": [
    "with open(PATH_DATASET_ANNOTATED_JSON_FORMATTED, 'w', encoding='utf-8') as json_file:\n",
    "    json.dump(formatted_json, json_file, ensure_ascii=False)"
   ]
  }
 ],
 "metadata": {
  "kernelspec": {
   "display_name": "Python 3 (ipykernel)",
   "language": "python",
   "name": "python3"
  },
  "language_info": {
   "codemirror_mode": {
    "name": "ipython",
    "version": 3
   },
   "file_extension": ".py",
   "mimetype": "text/x-python",
   "name": "python",
   "nbconvert_exporter": "python",
   "pygments_lexer": "ipython3",
   "version": "3.11.3"
  }
 },
 "nbformat": 4,
 "nbformat_minor": 5
}
