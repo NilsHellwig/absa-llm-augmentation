{
 "cells": [
  {
   "cell_type": "markdown",
   "id": "c0d22bba-6bd8-4cf5-a82d-8902e533973c",
   "metadata": {},
   "source": [
    "# Notebook: Convert Annotated Synth Sample to JSON"
   ]
  },
  {
   "cell_type": "markdown",
   "id": "caa234d8-c34b-4aa5-a156-a7faf6555811",
   "metadata": {
    "tags": []
   },
   "source": [
    "## Packages"
   ]
  },
  {
   "cell_type": "code",
   "execution_count": 1,
   "id": "e001435c-ddc2-4522-9c2f-5cb7ec941aac",
   "metadata": {
    "tags": []
   },
   "outputs": [],
   "source": [
    "import pandas as pd\n",
    "import json"
   ]
  },
  {
   "cell_type": "code",
   "execution_count": 2,
   "id": "04610528-4d6f-49c4-9d88-1af702ad1bb9",
   "metadata": {
    "tags": []
   },
   "outputs": [],
   "source": [
    "import sys\n",
    "sys.path.append('../03 dataset split')  \n",
    "from format_labelstudio_json import format_json"
   ]
  },
  {
   "cell_type": "markdown",
   "id": "dbaad2de-f0ef-47f6-88bf-2570077f48a2",
   "metadata": {
    "tags": []
   },
   "source": [
    "## Parameters"
   ]
  },
  {
   "cell_type": "code",
   "execution_count": 3,
   "id": "739e0c47-8f1b-45bc-ab9c-a3c996e2cd1e",
   "metadata": {
    "tags": []
   },
   "outputs": [],
   "source": [
    "PATH_DATASET_ANNOTATED_JSON = \"evaluation_json_annotated/evaluation_Llama70B.json\""
   ]
  },
  {
   "cell_type": "markdown",
   "id": "4cba7e45-2617-4526-8bd4-f479848f628f",
   "metadata": {
    "tags": []
   },
   "source": [
    "## Code"
   ]
  },
  {
   "cell_type": "code",
   "execution_count": 4,
   "id": "5bb98440-b76e-49f6-afbd-ec00af5b825f",
   "metadata": {
    "tags": []
   },
   "outputs": [
    {
     "data": {
      "text/plain": [
       "[{'tags': [{'end': 33,\n",
       "    'start': 26,\n",
       "    'tag_with_polarity': 'SERVICE-NEGATIVE',\n",
       "    'tag_with_polarity_and_type': 'SERVICE-NEGATIVE-explicit',\n",
       "    'text': 'Service',\n",
       "    'type': 'label-explicit',\n",
       "    'label': 'SERVICE',\n",
       "    'polarity': 'NEGATIVE'}],\n",
       "  'text': 'Wir haben uns vorher über Service informiert und der hieß, alles sei Muff.',\n",
       "  'aspect_available_without_judgement': False,\n",
       "  'two_or_more_sentences': False,\n",
       "  'id': '523d49fd-4255-4e64-8fc5-cf57f635239b',\n",
       "  'model': 'Llama70B'},\n",
       " {'tags': [{'end': 21,\n",
       "    'start': 16,\n",
       "    'tag_with_polarity': 'FOOD-NEGATIVE',\n",
       "    'tag_with_polarity_and_type': 'FOOD-NEGATIVE-explicit',\n",
       "    'text': 'Essen',\n",
       "    'type': 'label-explicit',\n",
       "    'label': 'FOOD',\n",
       "    'polarity': 'NEGATIVE'},\n",
       "   {'end': 88,\n",
       "    'start': 76,\n",
       "    'tag_with_polarity': 'FOOD-NEGATIVE',\n",
       "    'tag_with_polarity_and_type': 'FOOD-NEGATIVE-explicit',\n",
       "    'text': 'Einzelstücke',\n",
       "    'type': 'label-explicit',\n",
       "    'label': 'FOOD',\n",
       "    'polarity': 'NEGATIVE'}],\n",
       "  'text': 'Leider habe das Essen keine gute Dauer hineingebracht und es waren zu wenig Einzelstücke im Angebot.',\n",
       "  'aspect_available_without_judgement': False,\n",
       "  'two_or_more_sentences': False,\n",
       "  'id': '3157c140-c9f0-4033-b220-2be5071964a7',\n",
       "  'model': 'Llama70B'},\n",
       " {'tags': [{'end': 105,\n",
       "    'start': 100,\n",
       "    'tag_with_polarity': 'FOOD-NEGATIVE',\n",
       "    'tag_with_polarity_and_type': 'FOOD-NEGATIVE-explicit',\n",
       "    'text': 'Essen',\n",
       "    'type': 'label-explicit',\n",
       "    'label': 'FOOD',\n",
       "    'polarity': 'NEGATIVE'},\n",
       "   {'end': 134,\n",
       "    'start': 129,\n",
       "    'tag_with_polarity': 'GENERAL-IMPRESSION-NEGATIVE',\n",
       "    'tag_with_polarity_and_type': 'GENERAL-IMPRESSION-NEGATIVE-explicit',\n",
       "    'text': 'Lokal',\n",
       "    'type': 'label-explicit',\n",
       "    'label': 'GENERAL-IMPRESSION',\n",
       "    'polarity': 'NEGATIVE'}],\n",
       "  'text': 'Wir waren 4 Personen die im November letzten Jahres dort gegessen haben und alle von uns fanden das Essen total schlecht und ein Lokal im schlechtesten Sinne.',\n",
       "  'aspect_available_without_judgement': False,\n",
       "  'two_or_more_sentences': False,\n",
       "  'id': '5bdc5109-e2d3-458a-889c-2f4c02405e60',\n",
       "  'model': 'Llama70B'}]"
      ]
     },
     "execution_count": 4,
     "metadata": {},
     "output_type": "execute_result"
    }
   ],
   "source": [
    "with open(PATH_DATASET_ANNOTATED_JSON, \"r\") as infile:\n",
    "    dataset_json = json.load(infile)\n",
    "    \n",
    "format_json(dataset_json)"
   ]
  },
  {
   "cell_type": "code",
   "execution_count": null,
   "id": "f8bffd3d-477a-4dc1-94c0-bd22adaead1d",
   "metadata": {},
   "outputs": [],
   "source": []
  }
 ],
 "metadata": {
  "kernelspec": {
   "display_name": "Python 3 (ipykernel)",
   "language": "python",
   "name": "python3"
  },
  "language_info": {
   "codemirror_mode": {
    "name": "ipython",
    "version": 3
   },
   "file_extension": ".py",
   "mimetype": "text/x-python",
   "name": "python",
   "nbconvert_exporter": "python",
   "pygments_lexer": "ipython3",
   "version": "3.11.3"
  }
 },
 "nbformat": 4,
 "nbformat_minor": 5
}
