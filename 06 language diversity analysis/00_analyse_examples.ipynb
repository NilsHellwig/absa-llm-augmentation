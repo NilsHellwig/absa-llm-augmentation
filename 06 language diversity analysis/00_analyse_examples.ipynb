{
 "cells": [
  {
   "cell_type": "markdown",
   "metadata": {},
   "source": [
    "# Notebook: Simple Analysis of Examples"
   ]
  },
  {
   "cell_type": "markdown",
   "metadata": {},
   "source": [
    "## Packages"
   ]
  },
  {
   "cell_type": "code",
   "execution_count": 30,
   "metadata": {},
   "outputs": [],
   "source": [
    "from random import randrange\n",
    "import random\n",
    "import json"
   ]
  },
  {
   "cell_type": "markdown",
   "metadata": {},
   "source": [
    "## Code"
   ]
  },
  {
   "cell_type": "code",
   "execution_count": 31,
   "metadata": {},
   "outputs": [
    {
     "name": "stdout",
     "output_type": "stream",
     "text": [
      "0\n"
     ]
    }
   ],
   "source": [
    "print(randrange(0,5))"
   ]
  },
  {
   "cell_type": "code",
   "execution_count": 48,
   "metadata": {},
   "outputs": [
    {
     "name": "stdout",
     "output_type": "stream",
     "text": [
      "Llama70B random 3 :\n",
      "Label: [('FOOD', 'NEUTRAL'), ('GENERAL-IMPRESSION', 'POSITIVE')]\n",
      "Prediction: Ein gutes <aspect-term aspect=\"FOOD\" polarity=\"NEUTRAL\">Essen</aspect-term>, aber das <aspect-term aspect=\"GENERAL-IMPRESSION\" polarity=\"POSITIVE\">Ambiente</aspect-term> könnte besser sein.\n",
      "Llama70B random 3 :\n",
      "Label: [('AMBIENCE', 'NEUTRAL'), ('PRICE', 'NEGATIVE')]\n",
      "Prediction: Die <aspect-term aspect=\"AMBIENCE\" polarity=\"NEUTRAL\">Atmosphäre</aspect-term> ist nicht so toll, die <aspect-term aspect=\"PRICE\" polarity=\"NEGATIVE\">Preise</aspect-term> sind hoch.\n",
      "Llama70B fixed 3 :\n",
      "Label: [('GENERAL-IMPRESSION', 'POSITIVE'), ('GENERAL-IMPRESSION', 'POSITIVE'), ('PRICE', 'NEUTRAL')]\n",
      "Prediction: Ein <aspect-term aspect=\"GENERAL-IMPRESSION\" polarity=\"POSITIVE\">Gemütliches Lokal</aspect-term> mit <aspect-term aspect=\"GENERAL-IMPRESSION\" polarity=\"POSITIVE\">Super Personal</aspect-term>, das Essen ist auch gut, aber nichts Besonderes.\n",
      "Llama70B fixed 1 :\n",
      "Label: [('SERVICE', 'NEUTRAL')]\n",
      "Prediction: Das <aspect-term aspect=\"SERVICE\" polarity=\"NEUTRAL\">Personal</aspect-term> war sehr freundlich und unkompliziert.\n"
     ]
    },
    {
     "ename": "FileNotFoundError",
     "evalue": "[Errno 2] No such file or directory: '../07 train models/synth/GPT-3/random/split_3.json'",
     "output_type": "error",
     "traceback": [
      "\u001b[0;31m---------------------------------------------------------------------------\u001b[0m",
      "\u001b[0;31mFileNotFoundError\u001b[0m                         Traceback (most recent call last)",
      "Cell \u001b[0;32mIn[48], line 6\u001b[0m\n\u001b[1;32m      4\u001b[0m random_index \u001b[38;5;241m=\u001b[39m randrange(\u001b[38;5;241m0\u001b[39m, \u001b[38;5;241m5\u001b[39m)\n\u001b[1;32m      5\u001b[0m path_examples \u001b[38;5;241m=\u001b[39m \u001b[38;5;124mf\u001b[39m\u001b[38;5;124m'\u001b[39m\u001b[38;5;124m../07 train models/synth/\u001b[39m\u001b[38;5;132;01m{\u001b[39;00mllm\u001b[38;5;132;01m}\u001b[39;00m\u001b[38;5;124m/\u001b[39m\u001b[38;5;132;01m{\u001b[39;00mcondition\u001b[38;5;132;01m}\u001b[39;00m\u001b[38;5;124m/split_\u001b[39m\u001b[38;5;132;01m{\u001b[39;00mrandom_index\u001b[38;5;132;01m}\u001b[39;00m\u001b[38;5;124m.json\u001b[39m\u001b[38;5;124m'\u001b[39m\n\u001b[0;32m----> 6\u001b[0m \u001b[38;5;28;01mwith\u001b[39;00m \u001b[38;5;28;43mopen\u001b[39;49m\u001b[43m(\u001b[49m\u001b[43mpath_examples\u001b[49m\u001b[43m,\u001b[49m\u001b[43m \u001b[49m\u001b[38;5;124;43m'\u001b[39;49m\u001b[38;5;124;43mr\u001b[39;49m\u001b[38;5;124;43m'\u001b[39;49m\u001b[43m,\u001b[49m\u001b[43m \u001b[49m\u001b[43mencoding\u001b[49m\u001b[38;5;241;43m=\u001b[39;49m\u001b[38;5;124;43m\"\u001b[39;49m\u001b[38;5;124;43mutf-8\u001b[39;49m\u001b[38;5;124;43m\"\u001b[39;49m\u001b[43m)\u001b[49m \u001b[38;5;28;01mas\u001b[39;00m file:\n\u001b[1;32m      7\u001b[0m     data_dictionary \u001b[38;5;241m=\u001b[39m json\u001b[38;5;241m.\u001b[39mload(file)\n\u001b[1;32m      9\u001b[0m example \u001b[38;5;241m=\u001b[39m random\u001b[38;5;241m.\u001b[39mchoice(data_dictionary)\n",
      "File \u001b[0;32m/opt/homebrew/Caskroom/miniforge/base/envs/tensorflow_m1/lib/python3.11/site-packages/IPython/core/interactiveshell.py:284\u001b[0m, in \u001b[0;36m_modified_open\u001b[0;34m(file, *args, **kwargs)\u001b[0m\n\u001b[1;32m    277\u001b[0m \u001b[38;5;28;01mif\u001b[39;00m file \u001b[38;5;129;01min\u001b[39;00m {\u001b[38;5;241m0\u001b[39m, \u001b[38;5;241m1\u001b[39m, \u001b[38;5;241m2\u001b[39m}:\n\u001b[1;32m    278\u001b[0m     \u001b[38;5;28;01mraise\u001b[39;00m \u001b[38;5;167;01mValueError\u001b[39;00m(\n\u001b[1;32m    279\u001b[0m         \u001b[38;5;124mf\u001b[39m\u001b[38;5;124m\"\u001b[39m\u001b[38;5;124mIPython won\u001b[39m\u001b[38;5;124m'\u001b[39m\u001b[38;5;124mt let you open fd=\u001b[39m\u001b[38;5;132;01m{\u001b[39;00mfile\u001b[38;5;132;01m}\u001b[39;00m\u001b[38;5;124m by default \u001b[39m\u001b[38;5;124m\"\u001b[39m\n\u001b[1;32m    280\u001b[0m         \u001b[38;5;124m\"\u001b[39m\u001b[38;5;124mas it is likely to crash IPython. If you know what you are doing, \u001b[39m\u001b[38;5;124m\"\u001b[39m\n\u001b[1;32m    281\u001b[0m         \u001b[38;5;124m\"\u001b[39m\u001b[38;5;124myou can use builtins\u001b[39m\u001b[38;5;124m'\u001b[39m\u001b[38;5;124m open.\u001b[39m\u001b[38;5;124m\"\u001b[39m\n\u001b[1;32m    282\u001b[0m     )\n\u001b[0;32m--> 284\u001b[0m \u001b[38;5;28;01mreturn\u001b[39;00m \u001b[43mio_open\u001b[49m\u001b[43m(\u001b[49m\u001b[43mfile\u001b[49m\u001b[43m,\u001b[49m\u001b[43m \u001b[49m\u001b[38;5;241;43m*\u001b[39;49m\u001b[43margs\u001b[49m\u001b[43m,\u001b[49m\u001b[43m \u001b[49m\u001b[38;5;241;43m*\u001b[39;49m\u001b[38;5;241;43m*\u001b[39;49m\u001b[43mkwargs\u001b[49m\u001b[43m)\u001b[49m\n",
      "\u001b[0;31mFileNotFoundError\u001b[0m: [Errno 2] No such file or directory: '../07 train models/synth/GPT-3/random/split_3.json'"
     ]
    }
   ],
   "source": [
    "for llm in [\"Llama70B\", \"GPT-3\"]:\n",
    "    for condition in [\"random\", \"fixed\"]:\n",
    "        for i in range(2):\n",
    "            random_index = randrange(0, 5)\n",
    "            path_examples = f'../07 train models/synth/{llm}/{condition}/split_{random_index}.json'\n",
    "            with open(path_examples, 'r', encoding=\"utf-8\") as file:\n",
    "                data_dictionary = json.load(file)\n",
    "\n",
    "            example = random.choice(data_dictionary)\n",
    "            print(llm, condition, random_index, \":\")\n",
    "            print(\"Label:\", [tuple(l) for l in example[\"llm_label\"]])\n",
    "            print(\"Prediction:\", example[\"llm_prediction_raw\"])"
   ]
  },
  {
   "cell_type": "code",
   "execution_count": null,
   "metadata": {},
   "outputs": [],
   "source": [
    "path_examples = '../07 train models/synth/Llama70B/fixed/split_1.json'\n",
    "\n",
    "with open(path_examples, 'r', encoding=\"utf-8\") as file:\n",
    "    data_dictionary = json.load(file)"
   ]
  },
  {
   "cell_type": "code",
   "execution_count": null,
   "metadata": {},
   "outputs": [
    {
     "name": "stdout",
     "output_type": "stream",
     "text": [
      "Example: 0\n",
      "Label: [('AMBIENCE', 'NEGATIVE')]\n",
      "Prediction: Bekommt zwar eine 4, aber wenn es noch etwas lauter wäre, gäbe es nur 3 Sterne.\n",
      "Example: 1\n",
      "Label: [('PRICE', 'NEGATIVE')]\n",
      "Prediction: Nur der <aspect-term aspect=\"PRICE\" polarity=\"NEGATIVE\">Preis</aspect-term> ist etwas hoch.\n",
      "Example: 2\n",
      "Label: [('PRICE', 'NEGATIVE'), ('PRICE', 'NEGATIVE')]\n",
      "Prediction: Für den Preis gibt es aber besseres Essen.\n",
      "Example: 3\n",
      "Label: [('GENERAL-IMPRESSION', 'POSITIVE')]\n",
      "Prediction: Wir waren in dem <aspect-term aspect=\"GENERAL-IMPRESSION\" polarity=\"POSITIVE\">Restaurant</aspect-term> zum ersten Mal und wir kommen gerne wieder.\n",
      "Example: 4\n",
      "Label: [('GENERAL-IMPRESSION', 'NEGATIVE')]\n",
      "Prediction: Wir waren in diesem <aspect-term aspect=\"GENERAL-IMPRESSION\" polarity=\"NEGATIVE\">Restaurant</aspect-term> sehr enttäuscht.\n",
      "Example: 5\n",
      "Label: [('AMBIENCE', 'NEGATIVE'), ('PRICE', 'NEUTRAL')]\n",
      "Prediction: Ein wenig überteuert, aber dafür ein tolles <aspect-term aspect=\"AMBIENCE\" polarity=\"NEGATIVE\">Flair</aspect-term>.\n",
      "Example: 6\n",
      "Label: [('PRICE', 'NEUTRAL'), ('GENERAL-IMPRESSION', 'POSITIVE')]\n",
      "Prediction: Wir waren mit dem <aspect-term aspect=\"PRICE\" polarity=\"NEUTRAL\">Preis</aspect-term> und der <aspect-term aspect=\"GENERAL-IMPRESSION\" polarity=\"POSITIVE\">Qualität</aspect-term> sehr zufrieden.\n",
      "Example: 7\n",
      "Label: [('GENERAL-IMPRESSION', 'NEGATIVE'), ('SERVICE', 'POSITIVE')]\n",
      "Prediction: Nicht nur das Essen war lecker, sondern auch die <aspect-term aspect=\"SERVICE\" polarity=\"POSITIVE\">Service</aspect-term> und die <aspect-term aspect=\"GENERAL-IMPRESSION\" polarity=\"NEGATIVE\">Atmosphäre</aspect-term>.\n",
      "Example: 8\n",
      "Label: [('PRICE', 'POSITIVE')]\n",
      "Prediction: Der <aspect-term aspect=\"PRICE\" polarity=\"POSITIVE\">Preis</aspect-term> ist sehr günstig.\n",
      "Example: 9\n",
      "Label: [('GENERAL-IMPRESSION', 'POSITIVE')]\n",
      "Prediction: Das <aspect-term aspect=\"GENERAL-IMPRESSION\" polarity=\"POSITIVE\">Restaurant</aspect-term> ist sehr schön und die Speisen auch gut.\n",
      "Example: 10\n",
      "Label: [('SERVICE', 'NEGATIVE')]\n",
      "Prediction: Das <aspect-term aspect=\"SERVICE\" polarity=\"NEGATIVE\">Personal</aspect-term> war überfordert und die Bedienung sehr langsam.\n",
      "Example: 11\n",
      "Label: [('GENERAL-IMPRESSION', 'NEGATIVE'), ('FOOD', 'NEUTRAL')]\n",
      "Prediction: Wenn man bedenkt, dass man sich hier mit der <aspect-term aspect=\"GENERAL-IMPRESSION\" polarity=\"NEGATIVE\">Karte</aspect-term> über 100 € den Magen vollschaufelt, dann ist das einfach nicht zu verstehen.\n",
      "Example: 12\n",
      "Label: [('FOOD', 'POSITIVE')]\n",
      "Prediction: Das <aspect-term aspect=\"FOOD\" polarity=\"POSITIVE\">Essen</aspect-term> war sehr gut.\n",
      "Example: 13\n",
      "Label: [('PRICE', 'NEGATIVE')]\n",
      "Prediction: Sieht gut aus und ist auch sehr sauber, aber für so viel Geld kann man da noch etwas mehr erwarten.\n",
      "Example: 14\n",
      "Label: [('GENERAL-IMPRESSION', 'NEUTRAL')]\n",
      "Prediction: Nicht schlecht, aber auch nichts Besonderes.\n",
      "Example: 15\n",
      "Label: [('AMBIENCE', 'NEUTRAL')]\n",
      "Prediction: Die <aspect-term aspect=\"AMBIENCE\" polarity=\"NEUTRAL\">Atmosphäre</aspect-term> war sehr nett und die Bedienung sehr freundlich.\n",
      "Example: 16\n",
      "Label: [('GENERAL-IMPRESSION', 'POSITIVE')]\n",
      "Prediction: Super <aspect-term aspect=\"GENERAL-IMPRESSION\" polarity=\"POSITIVE\">Restaurant</aspect-term>!\n",
      "Example: 17\n",
      "Label: [('AMBIENCE', 'POSITIVE'), ('PRICE', 'NEUTRAL')]\n",
      "Prediction: Wir waren in der Frühstückszeit dort und die <aspect-term aspect=\"AMBIENCE\" polarity=\"POSITIVE\">Atmosphäre</aspect-term> war sehr gemütlich.\n",
      "Example: 18\n",
      "Label: [('FOOD', 'POSITIVE'), ('PRICE', 'NEUTRAL'), ('SERVICE', 'NEUTRAL')]\n",
      "Prediction: <aspect-term aspect=\"FOOD\" polarity=\"POSITIVE\">Essen</aspect-term> war sehr gut.\n",
      "Example: 19\n",
      "Label: [('SERVICE', 'POSITIVE'), ('FOOD', 'POSITIVE'), ('SERVICE', 'NEUTRAL')]\n",
      "Prediction: Wir waren zum ersten Mal im <aspect-term aspect=\"SERVICE\" polarity=\"POSITIVE\">Mamma Mia</aspect-term>, wir wurden sehr freundlich empfangen, das <aspect-term aspect=\"FOOD\" polarity=\"POSITIVE\">Essen</aspect-term> war sehr lecker.\n"
     ]
    }
   ],
   "source": [
    "\n",
    "for idx in range(20):\n",
    "    print(\"Example:\", idx)\n",
    "    print(\"Label:\", [tuple(l) for l in data_dictionary[idx][\"llm_label\"]])\n",
    "    print(\"Prediction:\", data_dictionary[idx][\"llm_prediction_raw\"])"
   ]
  },
  {
   "cell_type": "code",
   "execution_count": null,
   "metadata": {},
   "outputs": [],
   "source": []
  }
 ],
 "metadata": {
  "kernelspec": {
   "display_name": "tensorflow_m1",
   "language": "python",
   "name": "python3"
  },
  "language_info": {
   "codemirror_mode": {
    "name": "ipython",
    "version": 3
   },
   "file_extension": ".py",
   "mimetype": "text/x-python",
   "name": "python",
   "nbconvert_exporter": "python",
   "pygments_lexer": "ipython3",
   "version": "3.11.3"
  }
 },
 "nbformat": 4,
 "nbformat_minor": 2
}
