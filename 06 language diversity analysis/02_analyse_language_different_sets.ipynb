{
 "cells": [
  {
   "cell_type": "markdown",
   "metadata": {},
   "source": [
    "# Notebook: Analyse Language\n"
   ]
  },
  {
   "cell_type": "markdown",
   "metadata": {},
   "source": [
    "## Packages\n"
   ]
  },
  {
   "cell_type": "code",
   "execution_count": 1,
   "metadata": {},
   "outputs": [],
   "source": [
    "from iterstrat.ml_stratifiers import MultilabelStratifiedKFold\n",
    "from spacy.lang.de.stop_words import STOP_WORDS\n",
    "from collections import Counter\n",
    "import Levenshtein\n",
    "import numpy as np\n",
    "import random\n",
    "import string\n",
    "import spacy\n",
    "import nltk\n",
    "import json"
   ]
  },
  {
   "cell_type": "markdown",
   "metadata": {},
   "source": [
    "## Constants\n"
   ]
  },
  {
   "cell_type": "code",
   "execution_count": 2,
   "metadata": {},
   "outputs": [],
   "source": [
    "ASPECT_CATEGORIES = [\"GENERAL-IMPRESSION\",\n",
    "                     \"FOOD\", \"SERVICE\", \"AMBIENCE\", \"PRICE\"]\n",
    "LLMS = [\"Llama70B\", \"GPT-3\"]\n",
    "FS_CONDITIONS = [\"fixed\", \"random\"]\n",
    "N_FOLDS = 3\n",
    "CRITERIA_RS = \"tag_with_polarity\"\n",
    "POLARITIES = [\"POSITIVE\", \"NEGATIVE\", \"NEUTRAL\"]\n",
    "MENTIONING_TYPE = [\"implicit\", \"explicit\"]\n",
    "COMBINATIONS = [f\"{aspect}-{polarity}\" for aspect in [\"SERVICE\", \"FOOD\",\n",
    "                                                      \"GENERAL-IMPRESSION\", \"AMBIENCE\", \"PRICE\"] for polarity in POLARITIES]\n",
    "RANDOM_STATE = 43"
   ]
  },
  {
   "cell_type": "code",
   "execution_count": 59,
   "metadata": {},
   "outputs": [],
   "source": [
    "LLMS_ENCODED = {\"GPT-3\": \"GPT-3.5-turbo\", \"Llama70B\": \"Llama-2-70B\"}\n",
    "ENCODE_CONDITION = {\"fixed\": \"LRS\\\\textsubscript{25}\",\n",
    "                    \"random\": \"LRS\\\\textsubscript{500}\"}"
   ]
  },
  {
   "cell_type": "markdown",
   "metadata": {},
   "source": [
    "## Settings\n"
   ]
  },
  {
   "cell_type": "code",
   "execution_count": 4,
   "metadata": {},
   "outputs": [
    {
     "name": "stderr",
     "output_type": "stream",
     "text": [
      "[nltk_data] Downloading package punkt to\n",
      "[nltk_data]     /Users/nils_hellwig/nltk_data...\n",
      "[nltk_data]   Package punkt is already up-to-date!\n"
     ]
    }
   ],
   "source": [
    "nlp = spacy.load(\"de_core_news_lg\")\n",
    "nltk.download('punkt')\n",
    "random.seed(RANDOM_STATE)"
   ]
  },
  {
   "cell_type": "markdown",
   "metadata": {},
   "source": [
    "## Code\n"
   ]
  },
  {
   "cell_type": "markdown",
   "metadata": {},
   "source": [
    "### Helper\n"
   ]
  },
  {
   "cell_type": "code",
   "execution_count": 5,
   "metadata": {},
   "outputs": [],
   "source": [
    "def count_unique_sentences(sentences):\n",
    "    unique_sentences = set(sentences)\n",
    "    return len(unique_sentences)\n",
    "\n",
    "\n",
    "def count_unique_tokens(tokens):\n",
    "    unique_tokens = set(token.text for token in tokens)\n",
    "    return len(unique_tokens)\n",
    "\n",
    "\n",
    "def count_unique_lemmas(tokens):\n",
    "    unique_lemmas = set(token.lemma_ for token in tokens)\n",
    "    return len(unique_lemmas)\n",
    "\n",
    "\n",
    "def get_avg_unique_words_in_k_words(tokens, n_selection=100, n_repetitions=1000):\n",
    "    iterations_n_unique_words = []\n",
    "    for i in range(n_repetitions):\n",
    "        random_indices = random.sample(range(len(tokens)), n_selection)\n",
    "        random_words = [tokens[index] for index in random_indices]\n",
    "        n_unique_words = len(set(random_words))\n",
    "        iterations_n_unique_words.append(n_unique_words)\n",
    "    return np.mean(iterations_n_unique_words)\n",
    "\n",
    "\n",
    "def average_word_level_levenshtein_distance(docs, norm=False):\n",
    "    tokenized_texts = [\n",
    "        [token.text for token in doc[\"tokenized_text\"]] for doc in docs]\n",
    "\n",
    "    total_distance = 0\n",
    "    pair_count = 0\n",
    "\n",
    "    for i in range(len(tokenized_texts)):\n",
    "        for j in range(i + 1, len(tokenized_texts)):\n",
    "            tokens1 = tokenized_texts[i]\n",
    "            tokens2 = tokenized_texts[j]\n",
    "\n",
    "            if len(tokens1) >= len(tokens2):\n",
    "                max_tokens = len(tokens1)\n",
    "            else:\n",
    "                max_tokens = len(tokens2)\n",
    "\n",
    "            distance = Levenshtein.distance(tokens1, tokens2)\n",
    "            if norm:\n",
    "                distance = distance / max_tokens\n",
    "            total_distance += distance\n",
    "            pair_count += 1\n",
    "\n",
    "    average_distance = total_distance / pair_count if pair_count > 0 else 0\n",
    "    return average_distance"
   ]
  },
  {
   "cell_type": "code",
   "execution_count": 6,
   "metadata": {},
   "outputs": [],
   "source": [
    "def add_thousand_dots(n_sample):\n",
    "    return f\"{n_sample:,}\""
   ]
  },
  {
   "cell_type": "markdown",
   "metadata": {},
   "source": [
    "### Load Datasets\n"
   ]
  },
  {
   "cell_type": "code",
   "execution_count": 7,
   "metadata": {},
   "outputs": [],
   "source": [
    "dataset = {\"synth\": {}, \"real\": []}\n",
    "\n",
    "# Load Synth\n",
    "for llm in LLMS:\n",
    "    dataset[\"synth\"][llm] = {}\n",
    "    for prompting in FS_CONDITIONS:\n",
    "        dataset[\"synth\"][llm][prompting] = []\n",
    "        for split in range(5):\n",
    "            with open(f\"../07 train models/synth/{llm}/{prompting}/split_{split}.json\", 'r', encoding='utf-8') as json_file:\n",
    "                split_data = json.load(json_file)\n",
    "            for example in split_data:\n",
    "                example[\"tokenized_text\"] = nlp(example[\"text\"])\n",
    "            dataset[\"synth\"][llm][prompting].append(split_data)\n",
    "\n",
    "# Load Real\n",
    "for split in range(6):\n",
    "    with open(f\"../07 train models/real/split_{split}.json\", 'r', encoding='utf-8') as json_file:\n",
    "        split_data = json.load(json_file)\n",
    "    for example in split_data:\n",
    "        example[\"tokenized_text\"] = nlp(example[\"text\"])\n",
    "    dataset[\"real\"].append(split_data)"
   ]
  },
  {
   "cell_type": "code",
   "execution_count": 8,
   "metadata": {},
   "outputs": [],
   "source": [
    "def get_one_hot(subset):\n",
    "    labels_one_hot = []\n",
    "    for i in range(len(subset)):\n",
    "        tags_in_example = list(set([tag[CRITERIA_RS]\n",
    "                               for tag in subset[i][\"tags\"]]))\n",
    "        one_hot_encoded_combination = np.array(\n",
    "            [1 if tag in tags_in_example else 0 for tag in COMBINATIONS])\n",
    "        labels_one_hot.append(one_hot_encoded_combination)\n",
    "    return labels_one_hot"
   ]
  },
  {
   "cell_type": "code",
   "execution_count": 9,
   "metadata": {},
   "outputs": [],
   "source": [
    "for llm in LLMS:\n",
    "    for few_shot_condition in FS_CONDITIONS:\n",
    "        for iteration in range(5):\n",
    "            if few_shot_condition == \"random\":\n",
    "                subset = dataset[\"synth\"][llm][few_shot_condition][iteration]\n",
    "            else:\n",
    "                subset = dataset[\"synth\"][llm][few_shot_condition][iteration][475:]\n",
    "\n",
    "            found_5_split = False\n",
    "            restart_idx = 0\n",
    "            while found_5_split == False:\n",
    "                mskf = MultilabelStratifiedKFold(\n",
    "                    n_splits=N_FOLDS, shuffle=True, random_state=RANDOM_STATE+restart_idx)\n",
    "                section = []\n",
    "                for train_index, test_index in mskf.split(subset, get_one_hot(subset)):\n",
    "                    split_500 = [subset[i] for i in test_index]\n",
    "                    section.append(split_500)\n",
    "\n",
    "                if len(section[0]) == 500 and len(section[1]) == 500 and len(section[2]) == 500:\n",
    "                    found_5_split = True\n",
    "\n",
    "                restart_idx += 1\n",
    "\n",
    "            dataset[\"synth\"][llm][few_shot_condition][iteration] = section"
   ]
  },
  {
   "cell_type": "code",
   "execution_count": 10,
   "metadata": {},
   "outputs": [],
   "source": [
    "real_examples = []\n",
    "for i in [0, 1, 2, 3, 4, 5]:\n",
    "    real_examples.append([])\n",
    "    for k in [0, 1, 2]:\n",
    "        if (i+k) < 6:\n",
    "            t = i+k\n",
    "        else:\n",
    "            t = i+k - 6\n",
    "        real_examples[i].append(dataset[\"real\"][t])\n",
    "dataset[\"real\"] = real_examples"
   ]
  },
  {
   "cell_type": "markdown",
   "metadata": {},
   "source": [
    "### Document Analysis\n"
   ]
  },
  {
   "cell_type": "markdown",
   "metadata": {},
   "source": [
    "#### Synthetic Data\n"
   ]
  },
  {
   "cell_type": "code",
   "execution_count": 60,
   "metadata": {},
   "outputs": [
    {
     "name": "stdout",
     "output_type": "stream",
     "text": [
      "\\multirow{6}{*}{\\textbf{Llama-2-70B}} & \\multirow{3}{*}{LRS\\textsubscript{25}} & 500 & 480.0 & 694.4 & 536.6 \\\\\n",
      " &  & 1,000 & 934.0 & 1,023.8 & 787.0 \\\\\n",
      " &  & 1,500 & 1,383.2 & 1,269.2 & 973.0 \\\\\n",
      "\\arrayrulecolor{gray}\\cline{2-6}\\arrayrulecolor{black}\n",
      " & \\multirow{3}{*}{LRS\\textsubscript{500}} & 500 & 485.4 & 751.8 & 580.2 \\\\\n",
      " &  & 1,000 & 949.4 & 1,103.0 & 846.8 \\\\\n",
      " &  & 1,500 & 1,400.0 & 1,380.4 & 1,054.0 \\\\\n",
      "\\hline\n",
      "\\multirow{6}{*}{\\textbf{GPT-3.5-turbo}} & \\multirow{3}{*}{LRS\\textsubscript{25}} & 500 & 307.6 & 289.6 & 208.2 \\\\\n",
      " &  & 1,000 & 549.0 & 369.6 & 264.4 \\\\\n",
      " &  & 1,500 & 769.8 & 428.4 & 307.0 \\\\\n",
      "\\arrayrulecolor{gray}\\cline{2-6}\\arrayrulecolor{black}\n",
      " & \\multirow{3}{*}{LRS\\textsubscript{500}} & 500 & 317.0 & 295.4 & 217.0 \\\\\n",
      " &  & 1,000 & 561.2 & 389.4 & 281.2 \\\\\n",
      " &  & 1,500 & 782.2 & 456.6 & 328.4 \\\\\n",
      "\\hline\n"
     ]
    }
   ],
   "source": [
    "for idx_llm, llm in enumerate(LLMS):\n",
    "    for idx_fsc, few_shot_condition in enumerate(FS_CONDITIONS):\n",
    "        for idx_sample, n_sample in enumerate([500, 1000, 1500]):\n",
    "            iterations_n_unique_tokens = []\n",
    "            iterations_n_lemmas = []\n",
    "            iterations_avg_unique_sentences = []\n",
    "            for it in range(5):\n",
    "                samples = [item for k in range(\n",
    "                    int(n_sample / 500)) for item in dataset[\"synth\"][llm][few_shot_condition][it][k]]\n",
    "                n_unique_tokens = count_unique_tokens(\n",
    "                    [token for example in samples for token in example[\"tokenized_text\"]])\n",
    "                n_unique_lemmas = count_unique_lemmas(\n",
    "                    [token for example in samples for token in example[\"tokenized_text\"]])\n",
    "                n_unique_sentences = count_unique_sentences(\n",
    "                    [example[\"text\"] for example in samples])\n",
    "\n",
    "                iterations_n_unique_tokens.append(n_unique_tokens)\n",
    "                iterations_n_lemmas.append(n_unique_lemmas)\n",
    "                iterations_avg_unique_sentences.append(n_unique_sentences)\n",
    "\n",
    "            llm_print = \"\\multirow{6}{*}{\\\\textbf{\" + \\\n",
    "                LLMS_ENCODED[llm] + \\\n",
    "                \"}}\" if idx_sample == 0 and idx_fsc == 0 else \"\"\n",
    "            fs_condition_print = \"\\multirow{3}{*}{\" + \\\n",
    "                ENCODE_CONDITION[few_shot_condition] + \\\n",
    "                \"}\" if idx_sample == 0 else \"\"\n",
    "\n",
    "            print(llm_print, \"&\", fs_condition_print, \"&\", add_thousand_dots(n_sample), \"&\",\n",
    "                  add_thousand_dots(\n",
    "                      round(np.mean(iterations_avg_unique_sentences), 2)), \"&\",\n",
    "                  add_thousand_dots(\n",
    "                      round(np.mean(iterations_n_unique_tokens), 2)), \"&\",\n",
    "                  add_thousand_dots(round(np.mean(iterations_n_lemmas), 2)), \"\\\\\\\\\")\n",
    "        if idx_fsc == 0:\n",
    "            print(\"\\\\arrayrulecolor{gray}\\cline{2-6}\\\\arrayrulecolor{black}\")\n",
    "        else:\n",
    "            print(\"\\\\hline\")"
   ]
  },
  {
   "cell_type": "code",
   "execution_count": 61,
   "metadata": {},
   "outputs": [
    {
     "name": "stdout",
     "output_type": "stream",
     "text": [
      "\\multirow{6}{*}{\\textbf{Llama-2-70B}} & \\multirow{3}{*}{LRS\\textsubscript{25}} & 500 & 59.16 & 11.08 & 0.85\n",
      " &  & 1,000 & 59.68 & 11.09 & 0.85\n",
      " &  & 1,500 & 59.66 & 11.06 & 0.85\n",
      "\\arrayrulecolor{gray}\\cline{2-6}\\arrayrulecolor{black}\n",
      " & \\multirow{3}{*}{LRS\\textsubscript{500}} & 500 & 61.61 & 11.06 & 0.86\n",
      " &  & 1,000 & 61.36 & 11.04 & 0.86\n",
      " &  & 1,500 & 61.16 & 10.98 & 0.86\n",
      "\\hline\n",
      "\\multirow{6}{*}{\\textbf{GPT-3.5-turbo}} & \\multirow{3}{*}{LRS\\textsubscript{25}} & 500 & 47.94 & 9.79 & 0.79\n",
      " &  & 1,000 & 47.84 & 9.79 & 0.79\n",
      " &  & 1,500 & 48.02 & 9.8 & 0.79\n",
      "\\arrayrulecolor{gray}\\cline{2-6}\\arrayrulecolor{black}\n",
      " & \\multirow{3}{*}{LRS\\textsubscript{500}} & 500 & 48.15 & 8.81 & 0.77\n",
      " &  & 1,000 & 48.34 & 8.84 & 0.77\n",
      " &  & 1,500 & 48.38 & 8.85 & 0.77\n",
      "\\hline\n"
     ]
    }
   ],
   "source": [
    "for idx_llm, llm in enumerate(LLMS):\n",
    "    for idx_fsc, few_shot_condition in enumerate(FS_CONDITIONS):\n",
    "        for idx_sample, n_sample in enumerate([500, 1000, 1500]):\n",
    "            iterations_avg_unique_words_in_k_words = []\n",
    "            iterations_avg_levenshtein_distance = []\n",
    "            iterations_avg_levenshtein_distance_norm = []\n",
    "            for it in range(5):\n",
    "                samples = [item for k in range(\n",
    "                    int(n_sample / 500)) for item in dataset[\"synth\"][llm][few_shot_condition][it][k]]\n",
    "                n_unique_words_in_k_words = get_avg_unique_words_in_k_words(\n",
    "                    [token.text for example in samples for token in example[\"tokenized_text\"]])\n",
    "                avg_levenshtein_distance = average_word_level_levenshtein_distance(\n",
    "                    samples)\n",
    "                avg_levenshtein_distance_norm = average_word_level_levenshtein_distance(\n",
    "                    samples, norm=True)\n",
    "\n",
    "                iterations_avg_unique_words_in_k_words.append(\n",
    "                    n_unique_words_in_k_words)\n",
    "                iterations_avg_levenshtein_distance.append(\n",
    "                    avg_levenshtein_distance)\n",
    "                iterations_avg_levenshtein_distance_norm.append(\n",
    "                    avg_levenshtein_distance_norm)\n",
    "                \n",
    "            llm_print = \"\\multirow{6}{*}{\\\\textbf{\" + \\\n",
    "                LLMS_ENCODED[llm] + \\\n",
    "                \"}}\" if idx_sample == 0 and idx_fsc == 0 else \"\"\n",
    "            fs_condition_print = \"\\multirow{3}{*}{\" + \\\n",
    "                ENCODE_CONDITION[few_shot_condition] + \\\n",
    "                \"}\" if idx_sample == 0 else \"\"\n",
    "\n",
    "            print(llm_print, \"&\", fs_condition_print, \"&\", add_thousand_dots(n_sample), \"&\",\n",
    "                  add_thousand_dots(round(np.mean(iterations_avg_unique_words_in_k_words), 2)), \"&\",\n",
    "                  add_thousand_dots(round(np.mean(iterations_avg_levenshtein_distance), 2)), \"&\",\n",
    "                  add_thousand_dots(round(np.mean(iterations_avg_levenshtein_distance_norm), 2)))\n",
    "        \n",
    "        if idx_fsc == 0:\n",
    "            print(\"\\\\arrayrulecolor{gray}\\cline{2-6}\\\\arrayrulecolor{black}\")\n",
    "        else:\n",
    "            print(\"\\\\hline\")"
   ]
  },
  {
   "cell_type": "markdown",
   "metadata": {},
   "source": [
    "#### Real Data\n"
   ]
  },
  {
   "cell_type": "code",
   "execution_count": 62,
   "metadata": {},
   "outputs": [
    {
     "name": "stdout",
     "output_type": "stream",
     "text": [
      "\\multirow{3}{*}{\\textbf{Real Examples}} & \\multirow{3}{*}{-} & 500 & 496.4 & 1,914.8 & 1,492.8 \\\\\n",
      " &  & 1,000 & 988.8 & 3,064.2 & 2,352.4 \\\\\n",
      " &  & 1,500 & 1,480.8 & 3,998.6 & 3,041.0 \\\\\n",
      "\\hline\n"
     ]
    }
   ],
   "source": [
    "for idx_sample, n_sample in enumerate([500, 1000, 1500]):\n",
    "    iterations_n_unique_tokens = []\n",
    "    iterations_n_lemmas = []\n",
    "    iterations_avg_unique_sentences = []\n",
    "\n",
    "    for it in range(5):\n",
    "        samples = [item for k in range(\n",
    "            int(n_sample / 500)) for item in dataset[\"real\"][it][k]]\n",
    "        n_unique_tokens = count_unique_tokens(\n",
    "            [token for example in samples for token in example[\"tokenized_text\"]])\n",
    "        n_unique_lemmas = count_unique_lemmas(\n",
    "            [token for example in samples for token in example[\"tokenized_text\"]])\n",
    "        n_unique_sentences = count_unique_sentences(\n",
    "            [example[\"text\"] for example in samples])\n",
    "\n",
    "        iterations_n_unique_tokens.append(n_unique_tokens)\n",
    "        iterations_n_lemmas.append(n_unique_lemmas)\n",
    "        iterations_avg_unique_sentences.append(n_unique_sentences)\n",
    "\n",
    "    data_source_print = \"\\multirow{3}{*}{\\\\textbf{Real Examples}}\" if idx_sample == 0 else \"\"\n",
    "\n",
    "    fs_condition_print = \"\\multirow{3}{*}{-}\" if idx_sample == 0 else \"\"\n",
    "\n",
    "    print(data_source_print, \"&\", fs_condition_print, \"&\", add_thousand_dots(n_sample), \"&\",\n",
    "          add_thousand_dots(round(np.mean(iterations_avg_unique_sentences), 2)), \"&\",\n",
    "          add_thousand_dots(round(np.mean(iterations_n_unique_tokens), 2)), \"&\",\n",
    "          add_thousand_dots(round(np.mean(iterations_n_lemmas), 2)), \"\\\\\\\\\")\n",
    "print(\"\\\\hline\")"
   ]
  },
  {
   "cell_type": "code",
   "execution_count": 63,
   "metadata": {},
   "outputs": [
    {
     "name": "stdout",
     "output_type": "stream",
     "text": [
      "\\multirow{3}{*}{\\textbf{Real Examples}} & \\multirow{3}{*}{-} & 500 & 78.18 & 16.37 & 0.93 \\\\\n",
      " &  & 1,000 & 78.25 & 16.42 & 0.93 \\\\\n",
      " &  & 1,500 & 78.34 & 16.39 & 0.93 \\\\\n",
      "\\hline\n"
     ]
    }
   ],
   "source": [
    "for idx_sample, n_sample in enumerate([500, 1000, 1500]):\n",
    "    iterations_avg_unique_words_in_k_words = []\n",
    "    iterations_avg_levenshtein_distance = []\n",
    "    iterations_avg_levenshtein_distance_norm = []\n",
    "    for it in range(5):\n",
    "        samples = [item for k in range(\n",
    "            int(n_sample / 500)) for item in dataset[\"real\"][it][k]]\n",
    "\n",
    "        n_unique_words_in_k_words = get_avg_unique_words_in_k_words(\n",
    "            [token.text for example in samples for token in example[\"tokenized_text\"]])\n",
    "        avg_levenshtein_distance = average_word_level_levenshtein_distance(\n",
    "            samples)\n",
    "        avg_levenshtein_distance_norm = average_word_level_levenshtein_distance(\n",
    "            samples, norm=True)\n",
    "\n",
    "        iterations_avg_unique_words_in_k_words.append(\n",
    "            n_unique_words_in_k_words)\n",
    "        iterations_avg_levenshtein_distance.append(\n",
    "            avg_levenshtein_distance)\n",
    "        iterations_avg_levenshtein_distance_norm.append(\n",
    "            avg_levenshtein_distance_norm)\n",
    "        \n",
    "    data_source_print = \"\\multirow{3}{*}{\\\\textbf{Real Examples}}\" if idx_sample == 0 else \"\"\n",
    "    fs_condition_print = \"\\multirow{3}{*}{-}\" if idx_sample == 0 else \"\"\n",
    "\n",
    "    print(data_source_print, \"&\", fs_condition_print, \"&\", add_thousand_dots(n_sample), \"&\",\n",
    "          add_thousand_dots(\n",
    "              round(np.mean(iterations_avg_unique_words_in_k_words), 2)), \"&\",\n",
    "          add_thousand_dots(\n",
    "              round(np.mean(iterations_avg_levenshtein_distance), 2)), \"&\",\n",
    "          add_thousand_dots(round(np.mean(iterations_avg_levenshtein_distance_norm), 2)), \"\\\\\\\\\")\n",
    "print(\"\\\\hline\")"
   ]
  },
  {
   "cell_type": "markdown",
   "metadata": {},
   "source": [
    "### Aspect Term Analysis"
   ]
  },
  {
   "cell_type": "markdown",
   "metadata": {},
   "source": [
    "#### Synthetic Data"
   ]
  },
  {
   "cell_type": "code",
   "execution_count": 64,
   "metadata": {},
   "outputs": [
    {
     "name": "stdout",
     "output_type": "stream",
     "text": [
      "\\multirow{6}{*}{\\textbf{Llama-2-70B}} & \\multirow{3}{*}{LRS\\textsubscript{25}} & 500 & 795.6 & 27.2 \\% \\textit{(SD = 4.25)} & 578.8 & 104.8 & 34.1 & 52.7 & 68.3 \\\\\n",
      " &  & 1,000 & 1,591.4 & 27.8 \\% \\textit{(SD = 4.24)} & 1,149.4 & 170.0 & 34.0 & 52.6 & 68.5 \\\\\n",
      " &  & 1,500 & 2,388.0 & 28.0 \\% \\textit{(SD = 4.22)} & 1,720.4 & 220.0 & 33.4 & 51.5 & 66.9 \\\\\n",
      "\\arrayrulecolor{gray}\\cline{2-10}\\arrayrulecolor{black}\n",
      " & \\multirow{3}{*}{LRS\\textsubscript{500}} & 500 & 704.6 & 26.6 \\% \\textit{(SD = 1.99)} & 517.2 & 116.8 & 38.0 & 60.7 & 80.2 \\\\\n",
      " &  & 1,000 & 1,407.8 & 26.3 \\% \\textit{(SD = 1.77)} & 1,037.4 & 194.4 & 39.0 & 62.4 & 82.5 \\\\\n",
      " &  & 1,500 & 2,109.6 & 26.5 \\% \\textit{(SD = 1.14)} & 1,550.0 & 256.6 & 38.8 & 62.1 & 82.1 \\\\\n",
      "\\hline\n",
      "\\multirow{6}{*}{\\textbf{GPT-3.5-turbo}} & \\multirow{3}{*}{LRS\\textsubscript{25}} & 500 & 795.6 & 35.1 \\% \\textit{(SD = 9.18)} & 516.2 & 38.8 & 17.9 & 24.7 & 29.9 \\\\\n",
      " &  & 1,000 & 1,591.4 & 35.1 \\% \\textit{(SD = 9.28)} & 1,032.4 & 50.6 & 17.6 & 24.0 & 28.7 \\\\\n",
      " &  & 1,500 & 2,388.0 & 35.1 \\% \\textit{(SD = 8.77)} & 1,550.4 & 61.8 & 17.5 & 23.9 & 28.8 \\\\\n",
      "\\arrayrulecolor{gray}\\cline{2-10}\\arrayrulecolor{black}\n",
      " & \\multirow{3}{*}{LRS\\textsubscript{500}} & 500 & 704.6 & 44.6 \\% \\textit{(SD = 3.91)} & 390.2 & 33.0 & 18.1 & 24.4 & 29.1 \\\\\n",
      " &  & 1,000 & 1,407.8 & 44.5 \\% \\textit{(SD = 2.91)} & 781.0 & 43.8 & 17.6 & 23.6 & 28.0 \\\\\n",
      " &  & 1,500 & 2,109.6 & 44.1 \\% \\textit{(SD = 2.6)} & 1,180.2 & 54.2 & 17.6 & 23.8 & 28.3 \\\\\n",
      "\\hline\n"
     ]
    }
   ],
   "source": [
    "for idx_llm, llm in enumerate(LLMS):\n",
    "    for idx_fsc, few_shot_condition in enumerate(FS_CONDITIONS):\n",
    "        for idx_sample, n_sample in enumerate([500, 1000, 1500]):\n",
    "            tags_from_splits_count = []\n",
    "            tags_from_splits_count_implicit = []\n",
    "            tags_from_splits_count_explicit = []\n",
    "            count_unique_aspect_terms_in_split = []\n",
    "            count_unique_aspect_terms_in_100_aspect_terms = []\n",
    "            count_unique_aspect_terms_in_200_aspect_terms = []\n",
    "            count_unique_aspect_terms_in_300_aspect_terms = []\n",
    "\n",
    "            for it in range(5):\n",
    "                tags = [tag for k in range(\n",
    "                    int(n_sample / 500)) for example in dataset[\"synth\"][llm][few_shot_condition][it][k] for tag in example[\"tags\"]]\n",
    "                tags_explicit = [tag[\"text\"]\n",
    "                                 for tag in tags if tag[\"type\"] == \"label-explicit\"]\n",
    "                tags_from_splits_count.append(len(tags))\n",
    "                tags_from_splits_count_explicit.append(\n",
    "                    len([tag for tag in tags if tag[\"type\"] == \"label-explicit\"]))\n",
    "                tags_from_splits_count_implicit.append(\n",
    "                    len([tag for tag in tags if tag[\"type\"] == \"label-implicit\"]))\n",
    "\n",
    "                unique_tags = len(set(tags_explicit))\n",
    "\n",
    "                # Calculate number of unique tokens in k aspect terms\n",
    "                count_unique_aspect_terms_in_100_aspect_terms.append(\n",
    "                    get_avg_unique_words_in_k_words(tags_explicit, n_selection=100))\n",
    "                count_unique_aspect_terms_in_200_aspect_terms.append(\n",
    "                    get_avg_unique_words_in_k_words(tags_explicit, n_selection=200))\n",
    "                count_unique_aspect_terms_in_300_aspect_terms.append(\n",
    "                    get_avg_unique_words_in_k_words(tags_explicit, n_selection=300))\n",
    "\n",
    "                count_unique_aspect_terms_in_split.append(unique_tags)\n",
    "\n",
    "            llm_print = \"\\multirow{6}{*}{\\\\textbf{\" + \\\n",
    "                LLMS_ENCODED[llm] + \\\n",
    "                \"}}\" if idx_sample == 0 and idx_fsc == 0 else \"\"\n",
    "            fs_condition_print = \"\\multirow{3}{*}{\" + \\\n",
    "                ENCODE_CONDITION[few_shot_condition] + \\\n",
    "                \"}\" if idx_sample == 0 else \"\"\n",
    "\n",
    "            print(llm_print, \"&\", fs_condition_print,\n",
    "                  \"&\", add_thousand_dots(n_sample),  # n samples\n",
    "                  \"&\", add_thousand_dots(\n",
    "                      round(np.mean(tags_from_splits_count), 2)),  # n aspects\n",
    "                  \"&\", add_thousand_dots(\n",
    "                      round(np.mean(tags_from_splits_count_implicit) / np.mean(tags_from_splits_count) * 100, 1)) + \" \\\\%\",  # % implicit\n",
    "                  \"\\\\textit{(SD = \" + add_thousand_dots(round(np.std([a / b * 100 for a, b in zip(\n",
    "                      tags_from_splits_count_implicit, tags_from_splits_count)]), 2)) + \")}\",\n",
    "                  \"&\", add_thousand_dots(\n",
    "                      round(np.mean(tags_from_splits_count_explicit), 2)),  # n aspects\n",
    "                  \"&\", add_thousand_dots(\n",
    "                      round(np.mean(count_unique_aspect_terms_in_split), 2)),  # n unique\n",
    "                  \"&\", add_thousand_dots(\n",
    "                      round(np.mean(count_unique_aspect_terms_in_100_aspect_terms), 1)),\n",
    "                  \"&\", add_thousand_dots(\n",
    "                      round(np.mean(count_unique_aspect_terms_in_200_aspect_terms), 1)),\n",
    "                  \"&\", add_thousand_dots(\n",
    "                      round(np.mean(count_unique_aspect_terms_in_300_aspect_terms), 1)),\n",
    "                  \"\\\\\\\\\")\n",
    "\n",
    "        if idx_fsc == 0:\n",
    "            print(\"\\\\arrayrulecolor{gray}\\cline{2-10}\\\\arrayrulecolor{black}\")\n",
    "        else:\n",
    "            print(\"\\\\hline\")"
   ]
  },
  {
   "cell_type": "markdown",
   "metadata": {},
   "source": [
    "### Real Data"
   ]
  },
  {
   "cell_type": "code",
   "execution_count": 65,
   "metadata": {},
   "outputs": [
    {
     "name": "stdout",
     "output_type": "stream",
     "text": [
      "\\multirow{3}{*}{\\textbf{Real Examples}} & \\multirow{3}{*}{-} & 500 & 703.2 & 26.5 \\% \\textit{(SD = 1.06)} & 517.2 & 256.4 & 68.2 & 120.4 & 166.4 \\\\\n",
      " &  & 1,000 & 1,403.8 & 26.6 \\% \\textit{(SD = 0.56)} & 1,029.8 & 438.4 & 68.2 & 120.4 & 166.7 \\\\\n",
      " &  & 1,500 & 2,107.2 & 26.8 \\% \\textit{(SD = 0.19)} & 1,542.4 & 595.6 & 68.1 & 120.0 & 166.3 \\\\\n",
      "\\hline\n"
     ]
    }
   ],
   "source": [
    "for idx_sample, n_sample in enumerate([500, 1000, 1500]):\n",
    "    tags_from_splits_count = []\n",
    "    tags_from_splits_count_implicit = []\n",
    "    tags_from_splits_count_explicit = []\n",
    "    count_unique_aspect_terms_in_split = []\n",
    "    count_unique_aspect_terms_in_100_aspect_terms = []\n",
    "    count_unique_aspect_terms_in_200_aspect_terms = []\n",
    "    count_unique_aspect_terms_in_300_aspect_terms = []\n",
    "\n",
    "    for it in range(5):\n",
    "        tags = [tag for k in range(int(n_sample / 500))\n",
    "                for example in dataset[\"real\"][it][k] for tag in example[\"tags\"]]\n",
    "        tags_explicit = [tag[\"text\"]\n",
    "                         for tag in tags if tag[\"type\"] == \"label-explicit\"]\n",
    "        tags_from_splits_count.append(len(tags))\n",
    "        tags_from_splits_count_explicit.append(\n",
    "            len([tag for tag in tags if tag[\"type\"] == \"label-explicit\"]))\n",
    "        tags_from_splits_count_implicit.append(\n",
    "            len([tag for tag in tags if tag[\"type\"] == \"label-implicit\"]))\n",
    "\n",
    "        unique_tags = len(set(tags_explicit))\n",
    "\n",
    "        # Calculate number of unique tokens in k aspect terms\n",
    "        count_unique_aspect_terms_in_100_aspect_terms.append(\n",
    "            get_avg_unique_words_in_k_words(tags_explicit, n_selection=100))\n",
    "        count_unique_aspect_terms_in_200_aspect_terms.append(\n",
    "            get_avg_unique_words_in_k_words(tags_explicit, n_selection=200))\n",
    "        count_unique_aspect_terms_in_300_aspect_terms.append(\n",
    "            get_avg_unique_words_in_k_words(tags_explicit, n_selection=300))\n",
    "\n",
    "        count_unique_aspect_terms_in_split.append(unique_tags)\n",
    "\n",
    "    data_source_print = \"\\multirow{3}{*}{\\\\textbf{Real Examples}}\" if idx_sample == 0 else \"\"\n",
    "    fs_condition_print = \"\\multirow{3}{*}{-}\" if idx_sample == 0 else \"\"\n",
    "\n",
    "    print(data_source_print, \"&\", fs_condition_print,\n",
    "          \"&\", add_thousand_dots(n_sample),  # n samples\n",
    "          \"&\", add_thousand_dots(\n",
    "              round(np.mean(tags_from_splits_count), 2)),  # n aspects\n",
    "          \"&\", add_thousand_dots(\n",
    "              round(np.mean(tags_from_splits_count_implicit) / np.mean(tags_from_splits_count) * 100, 1)) + \" \\\\%\",  # % implicit\n",
    "          \"\\\\textit{(SD = \" + add_thousand_dots(round(np.std([a / b * 100 for a, b in zip(\n",
    "              tags_from_splits_count_implicit, tags_from_splits_count)]), 2)) + \")}\",\n",
    "          \"&\", add_thousand_dots(\n",
    "              round(np.mean(tags_from_splits_count_explicit), 2)),  # n aspects explicit\n",
    "          \"&\", add_thousand_dots(\n",
    "              round(np.mean(count_unique_aspect_terms_in_split), 2)),  # n unique\n",
    "          \"&\", add_thousand_dots(\n",
    "              round(np.mean(count_unique_aspect_terms_in_100_aspect_terms), 1)),\n",
    "          \"&\", add_thousand_dots(\n",
    "              round(np.mean(count_unique_aspect_terms_in_200_aspect_terms), 1)),\n",
    "          \"&\", add_thousand_dots(\n",
    "              round(np.mean(count_unique_aspect_terms_in_300_aspect_terms), 1)), \"\\\\\\\\\")\n",
    "print(\"\\\\hline\")"
   ]
  },
  {
   "cell_type": "markdown",
   "metadata": {},
   "source": [
    "### Aspect Term Analysis (With Aspect Category)"
   ]
  },
  {
   "cell_type": "markdown",
   "metadata": {},
   "source": [
    "### Synth Examples"
   ]
  },
  {
   "cell_type": "code",
   "execution_count": 66,
   "metadata": {},
   "outputs": [
    {
     "name": "stdout",
     "output_type": "stream",
     "text": [
      "\\multirow{30}{*}{\\textbf{Llama-2-70B}} & \\multirow{15}{*}{LRS\\textsubscript{25}} & \\multirow{3}{*}{\\texttt{GENERAL-IMPRESSION}} & 500 & 159.4 & 44.4 \\% \\textit{(SD = 4.79)} & 88.6 & 34.6 & 7.53 \\\\\n",
      " &  &  & 1,000 & 319.8 & 45.5 \\% \\textit{(SD = 5.05)} & 174.4 & 57.0 & 7.49 \\\\\n",
      " &  &  & 1,500 & 479.0 & 44.0 \\% \\textit{(SD = 6.19)} & 268.4 & 78.4 & 7.49 \\\\\n",
      "\\arrayrulecolor{gray}\\cline{3-9}\\arrayrulecolor{black}\n",
      " &  & \\multirow{3}{*}{\\texttt{FOOD}} & 500 & 158.6 & 21.7 \\% \\textit{(SD = 5.21)} & 124.2 & 33.6 & 5.3 \\\\\n",
      " &  &  & 1,000 & 318.0 & 22.8 \\% \\textit{(SD = 5.75)} & 245.4 & 56.0 & 5.26 \\\\\n",
      " &  &  & 1,500 & 478.0 & 23.5 \\% \\textit{(SD = 5.24)} & 365.6 & 71.0 & 5.15 \\\\\n",
      "\\arrayrulecolor{gray}\\cline{3-9}\\arrayrulecolor{black}\n",
      " &  & \\multirow{3}{*}{\\texttt{SERVICE}} & 500 & 160.0 & 18.1 \\% \\textit{(SD = 3.8)} & 131.0 & 18.4 & 4.59 \\\\\n",
      " &  &  & 1,000 & 318.4 & 18.9 \\% \\textit{(SD = 4.68)} & 258.2 & 26.4 & 4.54 \\\\\n",
      " &  &  & 1,500 & 477.0 & 19.5 \\% \\textit{(SD = 4.03)} & 384.2 & 32.6 & 4.51 \\\\\n",
      "\\arrayrulecolor{gray}\\cline{3-9}\\arrayrulecolor{black}\n",
      " &  & \\multirow{3}{*}{\\texttt{AMBIENCE}} & 500 & 159.2 & 21.5 \\% \\textit{(SD = 4.55)} & 125.0 & 24.8 & 4.55 \\\\\n",
      " &  &  & 1,000 & 317.0 & 20.9 \\% \\textit{(SD = 5.29)} & 250.8 & 40.4 & 4.56 \\\\\n",
      " &  &  & 1,500 & 477.0 & 22.3 \\% \\textit{(SD = 5.02)} & 370.4 & 52.8 & 4.5 \\\\\n",
      "\\arrayrulecolor{gray}\\cline{3-9}\\arrayrulecolor{black}\n",
      " &  & \\multirow{3}{*}{\\texttt{PRICE}} & 500 & 158.4 & 30.6 \\% \\textit{(SD = 9.99)} & 110.0 & 21.0 & 5.5 \\\\\n",
      " &  &  & 1,000 & 318.2 & 30.7 \\% \\textit{(SD = 8.05)} & 220.6 & 32.8 & 5.36 \\\\\n",
      " &  &  & 1,500 & 477.0 & 30.4 \\% \\textit{(SD = 7.53)} & 331.8 & 41.0 & 5.28 \\\\\n",
      "\\cline{2-9}\n",
      " & \\multirow{15}{*}{LRS\\textsubscript{500}} & \\multirow{3}{*}{\\texttt{GENERAL-IMPRESSION}} & 500 & 142.2 & 48.7 \\% \\textit{(SD = 3.09)} & 73.0 & 35.4 & 8.18 \\\\\n",
      " &  &  & 1,000 & 282.2 & 48.1 \\% \\textit{(SD = 1.8)} & 146.6 & 56.4 & 8.03 \\\\\n",
      " &  &  & 1,500 & 423.0 & 48.9 \\% \\textit{(SD = 1.45)} & 216.2 & 75.8 & 8.12 \\\\\n",
      "\\arrayrulecolor{gray}\\cline{3-9}\\arrayrulecolor{black}\n",
      " &  & \\multirow{3}{*}{\\texttt{FOOD}} & 500 & 139.6 & 19.5 \\% \\textit{(SD = 1.78)} & 112.4 & 33.6 & 5.63 \\\\\n",
      " &  &  & 1,000 & 282.6 & 20.8 \\% \\textit{(SD = 2.39)} & 223.8 & 54.8 & 5.57 \\\\\n",
      " &  &  & 1,500 & 423.0 & 21.0 \\% \\textit{(SD = 1.72)} & 334.2 & 76.2 & 5.57 \\\\\n",
      "\\arrayrulecolor{gray}\\cline{3-9}\\arrayrulecolor{black}\n",
      " &  & \\multirow{3}{*}{\\texttt{SERVICE}} & 500 & 141.2 & 19.1 \\% \\textit{(SD = 4.78)} & 114.2 & 19.2 & 4.98 \\\\\n",
      " &  &  & 1,000 & 281.2 & 18.1 \\% \\textit{(SD = 2.56)} & 230.4 & 30.6 & 5.03 \\\\\n",
      " &  &  & 1,500 & 421.8 & 18.6 \\% \\textit{(SD = 1.45)} & 343.2 & 41.0 & 5.11 \\\\\n",
      "\\arrayrulecolor{gray}\\cline{3-9}\\arrayrulecolor{black}\n",
      " &  & \\multirow{3}{*}{\\texttt{AMBIENCE}} & 500 & 140.6 & 18.5 \\% \\textit{(SD = 3.95)} & 114.6 & 26.8 & 4.71 \\\\\n",
      " &  &  & 1,000 & 280.6 & 17.7 \\% \\textit{(SD = 2.87)} & 230.8 & 47.8 & 4.97 \\\\\n",
      " &  &  & 1,500 & 421.2 & 17.7 \\% \\textit{(SD = 2.46)} & 346.6 & 62.8 & 4.89 \\\\\n",
      "\\arrayrulecolor{gray}\\cline{3-9}\\arrayrulecolor{black}\n",
      " &  & \\multirow{3}{*}{\\texttt{PRICE}} & 500 & 141.0 & 27.0 \\% \\textit{(SD = 4.93)} & 103.0 & 22.8 & 5.34 \\\\\n",
      " &  &  & 1,000 & 281.2 & 26.8 \\% \\textit{(SD = 4.31)} & 205.8 & 38.8 & 5.71 \\\\\n",
      " &  &  & 1,500 & 420.6 & 26.3 \\% \\textit{(SD = 3.82)} & 309.8 & 47.6 & 5.62 \\\\\n",
      "\\hline\n",
      "\\multirow{30}{*}{\\textbf{GPT-3.5-turbo}} & \\multirow{15}{*}{LRS\\textsubscript{25}} & \\multirow{3}{*}{\\texttt{GENERAL-IMPRESSION}} & 500 & 159.4 & 72.4 \\% \\textit{(SD = 13.06)} & 44.0 & 12.0 & 5.17 \\\\\n",
      " &  &  & 1,000 & 319.8 & 73.0 \\% \\textit{(SD = 12.82)} & 86.2 & 17.2 & 5.19 \\\\\n",
      " &  &  & 1,500 & 479.0 & 73.6 \\% \\textit{(SD = 13.05)} & 126.6 & 20.4 & 5.18 \\\\\n",
      "\\arrayrulecolor{gray}\\cline{3-9}\\arrayrulecolor{black}\n",
      " &  & \\multirow{3}{*}{\\texttt{FOOD}} & 500 & 158.6 & 24.5 \\% \\textit{(SD = 10.1)} & 119.8 & 12.2 & 2.63 \\\\\n",
      " &  &  & 1,000 & 318.0 & 24.2 \\% \\textit{(SD = 8.97)} & 241.0 & 16.2 & 2.43 \\\\\n",
      " &  &  & 1,500 & 478.0 & 23.5 \\% \\textit{(SD = 8.01)} & 365.6 & 20.4 & 2.44 \\\\\n",
      "\\arrayrulecolor{gray}\\cline{3-9}\\arrayrulecolor{black}\n",
      " &  & \\multirow{3}{*}{\\texttt{SERVICE}} & 500 & 160.0 & 20.8 \\% \\textit{(SD = 8.85)} & 126.8 & 4.6 & 2.02 \\\\\n",
      " &  &  & 1,000 & 318.4 & 19.9 \\% \\textit{(SD = 8.03)} & 255.0 & 6.2 & 2.18 \\\\\n",
      " &  &  & 1,500 & 477.0 & 19.3 \\% \\textit{(SD = 7.21)} & 384.8 & 7.8 & 2.2 \\\\\n",
      "\\arrayrulecolor{gray}\\cline{3-9}\\arrayrulecolor{black}\n",
      " &  & \\multirow{3}{*}{\\texttt{AMBIENCE}} & 500 & 159.2 & 22.5 \\% \\textit{(SD = 9.78)} & 123.4 & 10.2 & 3.48 \\\\\n",
      " &  &  & 1,000 & 317.0 & 23.3 \\% \\textit{(SD = 10.38)} & 243.2 & 12.8 & 3.32 \\\\\n",
      " &  &  & 1,500 & 477.0 & 23.3 \\% \\textit{(SD = 9.44)} & 366.0 & 16.2 & 3.29 \\\\\n",
      "\\arrayrulecolor{gray}\\cline{3-9}\\arrayrulecolor{black}\n",
      " &  & \\multirow{3}{*}{\\texttt{PRICE}} & 500 & 158.4 & 35.5 \\% \\textit{(SD = 15.59)} & 102.2 & 6.2 & 2.73 \\\\\n",
      " &  &  & 1,000 & 318.2 & 34.9 \\% \\textit{(SD = 15.22)} & 207.0 & 8.2 & 2.75 \\\\\n",
      " &  &  & 1,500 & 477.0 & 35.6 \\% \\textit{(SD = 14.87)} & 307.4 & 9.8 & 2.73 \\\\\n",
      "\\cline{2-9}\n",
      " & \\multirow{15}{*}{LRS\\textsubscript{500}} & \\multirow{3}{*}{\\texttt{GENERAL-IMPRESSION}} & 500 & 142.2 & 82.1 \\% \\textit{(SD = 4.36)} & 25.4 & 6.8 & 3.93 \\\\\n",
      " &  &  & 1,000 & 282.2 & 82.2 \\% \\textit{(SD = 3.31)} & 50.2 & 9.8 & 3.72 \\\\\n",
      " &  &  & 1,500 & 423.0 & 81.6 \\% \\textit{(SD = 3.33)} & 77.8 & 13.0 & 3.78 \\\\\n",
      "\\arrayrulecolor{gray}\\cline{3-9}\\arrayrulecolor{black}\n",
      " &  & \\multirow{3}{*}{\\texttt{FOOD}} & 500 & 139.6 & 38.0 \\% \\textit{(SD = 2.78)} & 86.6 & 8.4 & 2.5 \\\\\n",
      " &  &  & 1,000 & 282.6 & 36.0 \\% \\textit{(SD = 2.13)} & 180.8 & 14.6 & 2.51 \\\\\n",
      " &  &  & 1,500 & 423.0 & 34.8 \\% \\textit{(SD = 2.14)} & 275.8 & 18.6 & 2.56 \\\\\n",
      "\\arrayrulecolor{gray}\\cline{3-9}\\arrayrulecolor{black}\n",
      " &  & \\multirow{3}{*}{\\texttt{SERVICE}} & 500 & 141.2 & 26.8 \\% \\textit{(SD = 3.73)} & 103.4 & 4.8 & 2.3 \\\\\n",
      " &  &  & 1,000 & 281.2 & 27.0 \\% \\textit{(SD = 2.07)} & 205.4 & 5.4 & 2.31 \\\\\n",
      " &  &  & 1,500 & 421.8 & 26.7 \\% \\textit{(SD = 1.72)} & 309.0 & 7.4 & 2.27 \\\\\n",
      "\\arrayrulecolor{gray}\\cline{3-9}\\arrayrulecolor{black}\n",
      " &  & \\multirow{3}{*}{\\texttt{AMBIENCE}} & 500 & 140.6 & 23.8 \\% \\textit{(SD = 6.79)} & 107.2 & 8.2 & 3.52 \\\\\n",
      " &  &  & 1,000 & 280.6 & 24.9 \\% \\textit{(SD = 4.07)} & 210.6 & 9.6 & 3.46 \\\\\n",
      " &  &  & 1,500 & 421.2 & 25.3 \\% \\textit{(SD = 3.29)} & 314.8 & 11.6 & 3.47 \\\\\n",
      "\\arrayrulecolor{gray}\\cline{3-9}\\arrayrulecolor{black}\n",
      " &  & \\multirow{3}{*}{\\texttt{PRICE}} & 500 & 141.0 & 52.1 \\% \\textit{(SD = 9.0)} & 67.6 & 8.2 & 3.68 \\\\\n",
      " &  &  & 1,000 & 281.2 & 52.3 \\% \\textit{(SD = 8.19)} & 134.0 & 10.0 & 3.55 \\\\\n",
      " &  &  & 1,500 & 420.6 & 51.8 \\% \\textit{(SD = 7.75)} & 202.8 & 12.2 & 3.57 \\\\\n",
      "\\hline\n"
     ]
    }
   ],
   "source": [
    "for idx_llm, llm in enumerate(LLMS):\n",
    "    for idx_fsc, few_shot_condition in enumerate(FS_CONDITIONS):\n",
    "        for idx_ac, aspect_category in enumerate(ASPECT_CATEGORIES):\n",
    "            for idx_sample, n_sample in enumerate([500, 1000, 1500]):\n",
    "                tags_from_splits_count = []\n",
    "                tags_from_splits_count_implicit = []\n",
    "                tags_from_splits_count_explicit = []\n",
    "                count_unique_aspect_terms_in_split = []\n",
    "                count_unique_aspect_terms_in_k_aspect_terms = []\n",
    "                for it in range(5):\n",
    "                    tags = [tag for k in range(\n",
    "                        int(n_sample / 500)) for example in dataset[\"synth\"][llm][few_shot_condition][it][k] for tag in example[\"tags\"] if tag[\"label\"] == aspect_category]\n",
    "                    tags_explicit = [tag[\"text\"]\n",
    "                                     for tag in tags if tag[\"type\"] == \"label-explicit\"]\n",
    "                    tags_from_splits_count.append(len(tags))\n",
    "                    tags_from_splits_count_explicit.append(\n",
    "                        len([tag for tag in tags if tag[\"type\"] == \"label-explicit\"]))\n",
    "                    tags_from_splits_count_implicit.append(\n",
    "                        len([tag for tag in tags if tag[\"type\"] == \"label-implicit\"]))\n",
    "\n",
    "                    unique_tags = len(set(tags_explicit))\n",
    "\n",
    "                    # Calculate number of unique tokens in 100 aspect terms\n",
    "                    count_unique_aspect_terms_in_k_aspect_terms.append(\n",
    "                        get_avg_unique_words_in_k_words(tags_explicit, n_selection=10))\n",
    "\n",
    "                    count_unique_aspect_terms_in_split.append(unique_tags)\n",
    "\n",
    "                llm_print = \"\\multirow{30}{*}{\\\\textbf{\" + \\\n",
    "                    LLMS_ENCODED[llm] + \\\n",
    "                    \"}}\" if idx_sample == 0 and idx_fsc == 0 and idx_ac == 0 else \"\"\n",
    "                fs_condition_print = \"\\multirow{15}{*}{\" + \\\n",
    "                    ENCODE_CONDITION[few_shot_condition] + \\\n",
    "                    \"}\" if idx_sample == 0 and idx_ac == 0 else \"\"\n",
    "                ac_print = \"\\multirow{3}{*}{\\\\texttt{\" + aspect_category + \"}}\" if idx_sample == 0 else \"\"\n",
    "\n",
    "                # print(idx_llm, idx_fsc, idx_ac, idx_sample)\n",
    "\n",
    "                print(llm_print, \"&\", fs_condition_print, \"&\", ac_print,\n",
    "                      \"&\", add_thousand_dots(n_sample),\n",
    "                      \"&\", add_thousand_dots(\n",
    "                          round(np.mean(tags_from_splits_count), 2)),\n",
    "                      \"&\", add_thousand_dots(\n",
    "                          round(np.mean(tags_from_splits_count_implicit) / np.mean(tags_from_splits_count) * 100, 1)) + \" \\\\%\",  # % implicit\n",
    "                      \"\\\\textit{(SD = \" + add_thousand_dots(round(np.std([a / b * 100 for a, b in zip(\n",
    "                          tags_from_splits_count_implicit, tags_from_splits_count)]), 2)) + \")}\",\n",
    "                      \"&\", add_thousand_dots(\n",
    "                          round(np.mean(tags_from_splits_count_explicit), 2)),\n",
    "                      \"&\", add_thousand_dots(round(\n",
    "                          np.mean(count_unique_aspect_terms_in_split), 2)),\n",
    "                      \"&\", add_thousand_dots(round(np.mean(count_unique_aspect_terms_in_k_aspect_terms), 2)), \"\\\\\\\\\")\n",
    "            #print(idx_llm, idx_fsc, idx_ac)\n",
    "            if idx_fsc == 1 and idx_ac == 4:\n",
    "                print(\"\\\\hline\")\n",
    "            elif idx_ac == 4:\n",
    "                print(\"\\\\cline{2-9}\")\n",
    "            else:\n",
    "                print(\"\\\\arrayrulecolor{gray}\\cline{3-9}\\\\arrayrulecolor{black}\")"
   ]
  },
  {
   "cell_type": "markdown",
   "metadata": {},
   "source": [
    "### Real Examples"
   ]
  },
  {
   "cell_type": "code",
   "execution_count": 68,
   "metadata": {},
   "outputs": [
    {
     "name": "stdout",
     "output_type": "stream",
     "text": [
      "\\multirow{15}{*}{\\textbf{Real Examples}} & \\multirow{15}{*}{-} & \\multirow{3}{*}{\\texttt{GENERAL-IMPRESSION}} & 500 & 124.6 & 77.7 \\% \\textit{(SD = 2.23)} & 27.8 & 14.0 & 6.92 \\\\\n",
      " &  &  & 1,000 & 249.2 & 77.8 \\% \\textit{(SD = 1.03)} & 55.2 & 24.0 & 7.07 \\\\\n",
      " &  &  & 1,500 & 376.8 & 78.2 \\% \\textit{(SD = 0.8)} & 82.0 & 32.4 & 7.04 \\\\\n",
      "\\arrayrulecolor{gray}\\cline{3-9}\\arrayrulecolor{black}\n",
      " &  & \\multirow{3}{*}{\\texttt{FOOD}} & 500 & 281.2 & 11.0 \\% \\textit{(SD = 0.97)} & 250.4 & 144.8 & 8.73 \\\\\n",
      " &  &  & 1,000 & 561.2 & 11.2 \\% \\textit{(SD = 0.86)} & 498.6 & 249.6 & 8.71 \\\\\n",
      " &  &  & 1,500 & 839.4 & 11.3 \\% \\textit{(SD = 0.58)} & 744.8 & 339.8 & 8.7 \\\\\n",
      "\\arrayrulecolor{gray}\\cline{3-9}\\arrayrulecolor{black}\n",
      " &  & \\multirow{3}{*}{\\texttt{SERVICE}} & 500 & 174.8 & 22.7 \\% \\textit{(SD = 2.62)} & 135.2 & 51.4 & 7.21 \\\\\n",
      " &  &  & 1,000 & 349.8 & 22.8 \\% \\textit{(SD = 0.96)} & 270.2 & 87.2 & 7.13 \\\\\n",
      " &  &  & 1,500 & 525.8 & 22.6 \\% \\textit{(SD = 0.56)} & 407.0 & 116.8 & 7.12 \\\\\n",
      "\\arrayrulecolor{gray}\\cline{3-9}\\arrayrulecolor{black}\n",
      " &  & \\multirow{3}{*}{\\texttt{AMBIENCE}} & 500 & 80.0 & 15.0 \\% \\textit{(SD = 1.31)} & 68.0 & 38.0 & 7.81 \\\\\n",
      " &  &  & 1,000 & 159.0 & 14.7 \\% \\textit{(SD = 1.02)} & 135.6 & 66.4 & 7.82 \\\\\n",
      " &  &  & 1,500 & 238.8 & 14.4 \\% \\textit{(SD = 0.98)} & 204.4 & 93.2 & 7.82 \\\\\n",
      "\\arrayrulecolor{gray}\\cline{3-9}\\arrayrulecolor{black}\n",
      " &  & \\multirow{3}{*}{\\texttt{PRICE}} & 500 & 42.6 & 16.0 \\% \\textit{(SD = 4.34)} & 35.8 & 24.6 & 8.46 \\\\\n",
      " &  &  & 1,000 & 84.6 & 17.0 \\% \\textit{(SD = 4.41)} & 70.2 & 41.4 & 8.46 \\\\\n",
      " &  &  & 1,500 & 126.4 & 17.6 \\% \\textit{(SD = 3.88)} & 104.2 & 55.2 & 8.43 \\\\\n",
      "\\arrayrulecolor{gray}\\cline{3-9}\\arrayrulecolor{black}\n",
      "\\hline\n"
     ]
    }
   ],
   "source": [
    "for idx_ac, aspect_category in enumerate(ASPECT_CATEGORIES):\n",
    "    for idx_sample, n_sample in enumerate([500, 1000, 1500]):\n",
    "        tags_from_splits_count = []\n",
    "        tags_from_splits_count_implicit = []\n",
    "        tags_from_splits_count_explicit = []\n",
    "        count_unique_aspect_terms_in_split = []\n",
    "        count_unique_aspect_terms_in_k_aspect_terms = []\n",
    "        for it in range(5):\n",
    "            tags = [tag for k in range(int(n_sample / 500))\n",
    "                    for example in dataset[\"real\"][it][k] for tag in example[\"tags\"] if tag[\"label\"] == aspect_category]\n",
    "            tags_explicit = [tag[\"text\"]\n",
    "                             for tag in tags if tag[\"type\"] == \"label-explicit\"]\n",
    "            tags_from_splits_count.append(len(tags))\n",
    "            tags_from_splits_count_explicit.append(\n",
    "                len([tag for tag in tags if tag[\"type\"] == \"label-explicit\"]))\n",
    "            tags_from_splits_count_implicit.append(\n",
    "                len([tag for tag in tags if tag[\"type\"] == \"label-implicit\"]))\n",
    "\n",
    "            unique_tags = len(set(tags_explicit))\n",
    "\n",
    "            # Calculate number of unique tokens in 100 aspect terms\n",
    "            count_unique_aspect_terms_in_k_aspect_terms.append(\n",
    "                get_avg_unique_words_in_k_words(tags_explicit, n_selection=10))\n",
    "\n",
    "            count_unique_aspect_terms_in_split.append(unique_tags)\n",
    "\n",
    "        # print(idx_ac, idx_sample)\n",
    "        data_source_print = \"\\multirow{15}{*}{\\\\textbf{Real Examples}}\" if idx_sample == 0 and idx_ac == 0 else \"\"\n",
    "        fs_condition_print = \"\\multirow{15}{*}{-}\" if idx_sample == 0 and idx_ac == 0 else \"\"\n",
    "        ac_print = \"\\multirow{3}{*}{\\\\texttt{\" + aspect_category + \"}}\" if idx_sample == 0 else \"\"\n",
    "\n",
    "        print(data_source_print, \"&\", fs_condition_print, \"&\", ac_print,\n",
    "              \"&\", add_thousand_dots(n_sample),\n",
    "              \"&\", add_thousand_dots(\n",
    "                  round(np.mean(tags_from_splits_count), 2)),\n",
    "              \"&\", add_thousand_dots(\n",
    "                  round(np.mean(tags_from_splits_count_implicit) / np.mean(tags_from_splits_count) * 100, 1)) + \" \\\\%\",  # % implicit\n",
    "              \"\\\\textit{(SD = \" + add_thousand_dots(round(np.std([a / b * 100 for a, b in zip(\n",
    "                  tags_from_splits_count_implicit, tags_from_splits_count)]), 2)) + \")}\",\n",
    "              \"&\", add_thousand_dots(\n",
    "                  round(np.mean(tags_from_splits_count_explicit), 2)),\n",
    "              \"&\", add_thousand_dots(round(\n",
    "                  np.mean(count_unique_aspect_terms_in_split), 2)),\n",
    "              \"&\", add_thousand_dots(round(np.mean(count_unique_aspect_terms_in_k_aspect_terms), 2)), \"\\\\\\\\\")\n",
    "    print(\"\\\\arrayrulecolor{gray}\\cline{3-9}\\\\arrayrulecolor{black}\")\n",
    "print(\"\\\\hline\")"
   ]
  }
 ],
 "metadata": {
  "kernelspec": {
   "display_name": "tensorflow_m1",
   "language": "python",
   "name": "python3"
  },
  "language_info": {
   "codemirror_mode": {
    "name": "ipython",
    "version": 3
   },
   "file_extension": ".py",
   "mimetype": "text/x-python",
   "name": "python",
   "nbconvert_exporter": "python",
   "pygments_lexer": "ipython3",
   "version": "3.11.3"
  }
 },
 "nbformat": 4,
 "nbformat_minor": 2
}
