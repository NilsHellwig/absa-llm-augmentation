{
 "cells": [
  {
   "cell_type": "markdown",
   "metadata": {},
   "source": [
    "## Notebook: Create Subset for Annotation of Synthetic Examples"
   ]
  },
  {
   "cell_type": "markdown",
   "metadata": {},
   "source": [
    "## Packages"
   ]
  },
  {
   "cell_type": "code",
   "execution_count": 62,
   "metadata": {},
   "outputs": [],
   "source": [
    "import pandas as pd\n",
    "import random\n",
    "import json"
   ]
  },
  {
   "cell_type": "markdown",
   "metadata": {},
   "source": [
    "## Settings"
   ]
  },
  {
   "cell_type": "code",
   "execution_count": 63,
   "metadata": {},
   "outputs": [],
   "source": [
    "N_FOLDS = 5\n",
    "MODEL = \"Llama13B\"\n",
    "FEW_SHOT = \"fixed\"\n",
    "SAMPLES_FROM_SPLIT = 5\n",
    "SEED = 43"
   ]
  },
  {
   "cell_type": "code",
   "execution_count": 64,
   "metadata": {},
   "outputs": [],
   "source": [
    "random.seed(SEED)"
   ]
  },
  {
   "cell_type": "markdown",
   "metadata": {},
   "source": [
    "## Code"
   ]
  },
  {
   "cell_type": "code",
   "execution_count": 65,
   "metadata": {},
   "outputs": [],
   "source": [
    "annotation_examples = []\n",
    "for fold_id in range(N_FOLDS):\n",
    "    with open(f\"../07 train classifier/synth/{MODEL}/random/split_{fold_id}.json\", 'r') as json_file:\n",
    "        synthetic_data = random.sample(json.load(json_file), SAMPLES_FROM_SPLIT)\n",
    "        for example in synthetic_data:\n",
    "            annotation_examples.append(example)"
   ]
  },
  {
   "cell_type": "code",
   "execution_count": 66,
   "metadata": {},
   "outputs": [],
   "source": [
    "df = pd.DataFrame(annotation_examples, columns=['id', 'text', 'model', 'split'])\n",
    "df.to_csv(f\"annotation_datasets/synth_annotation_labelstudio_input/annotation_{MODEL}_{FEW_SHOT}_{SAMPLES_FROM_SPLIT*N_FOLDS}.csv\")"
   ]
  }
 ],
 "metadata": {
  "kernelspec": {
   "display_name": "tensorflow_m1",
   "language": "python",
   "name": "python3"
  },
  "language_info": {
   "codemirror_mode": {
    "name": "ipython",
    "version": 3
   },
   "file_extension": ".py",
   "mimetype": "text/x-python",
   "name": "python",
   "nbconvert_exporter": "python",
   "pygments_lexer": "ipython3",
   "version": "3.11.3"
  }
 },
 "nbformat": 4,
 "nbformat_minor": 2
}
