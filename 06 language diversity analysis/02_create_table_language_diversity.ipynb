{
 "cells": [
  {
   "cell_type": "markdown",
   "metadata": {},
   "source": [
    "# Notebook: Create Latex Table for Language Analysis\n",
    "\n",
    "This notebook is used to create a table to present the language analysis\n",
    "\n",
    "Todo: Kommazahl korrekt"
   ]
  },
  {
   "cell_type": "markdown",
   "metadata": {},
   "source": [
    "## Packages"
   ]
  },
  {
   "cell_type": "code",
   "execution_count": 1,
   "metadata": {},
   "outputs": [],
   "source": [
    "import json"
   ]
  },
  {
   "cell_type": "markdown",
   "metadata": {},
   "source": [
    "## Code"
   ]
  },
  {
   "cell_type": "code",
   "execution_count": 2,
   "metadata": {},
   "outputs": [],
   "source": [
    "with open(\"language_statistics.json\", 'r') as json_file:\n",
    "    statistics = json.load(json_file)"
   ]
  },
  {
   "cell_type": "code",
   "execution_count": 3,
   "metadata": {},
   "outputs": [],
   "source": [
    "def round_number(number, decimal_places=1):\n",
    "    rounded_number = round(number, decimal_places)\n",
    "    return rounded_number"
   ]
  },
  {
   "cell_type": "markdown",
   "metadata": {},
   "source": [
    "### Real Examples"
   ]
  },
  {
   "cell_type": "code",
   "execution_count": 4,
   "metadata": {},
   "outputs": [
    {
     "name": "stdout",
     "output_type": "stream",
     "text": [
      "500 & 1514.4 & 13.1 & 15.0 & 141.6 & 56.2 & 37.2 & 18.6 & 255.0\\\\1000 & 2417.0 & 13.1 & 21.6 & 246.4 & 93.6 & 66.0 & 37.8 & 438.8\\\\1500 & 3130.6 & 13.1 & 32.0 & 333.8 & 119.8 & 94.0 & 52.8 & 593.6\\\\\n"
     ]
    }
   ],
   "source": [
    "rows = \"\"\n",
    "for n_real in [500, 1000, 1500]:\n",
    "    st = statistics[f\"{n_real}_0_only_real\"]\n",
    "    rows += f\"{n_real} & {round_number(st['unique_lemmas_avg'])} & {round_number(st['avg_number_of_tokens_in_example_text'])}\"\n",
    "    for label in [\"GENERAL-IMPRESSION\", \"FOOD\", \"SERVICE\", \"AMBIENCE\", \"PRICE\"]:\n",
    "        rows += f\" & {st[f'n_unique_aspect_terms_{label}']}\"\n",
    "    rows += f' & {st[\"n_unique_explicit_aspects_total\"]}'\n",
    "    rows += \"\\\\\\\\\"\n",
    "print(rows)\n"
   ]
  },
  {
   "cell_type": "markdown",
   "metadata": {},
   "source": [
    "### Llama-2-70B"
   ]
  },
  {
   "cell_type": "code",
   "execution_count": 5,
   "metadata": {},
   "outputs": [
    {
     "name": "stdout",
     "output_type": "stream",
     "text": [
      "fixed :\n",
      "500 & 537.4 & 10.2 & 36.0 & 29.4 & 19.8 & 28.0 & 25.2 & 112.6\\\\1000 & 792.2 & 10.2 & 62.2 & 55.6 & 31.4 & 46.2 & 39.2 & 192.0\\\\1500 & 997.4 & 10.3 & 88.4 & 74.2 & 39.0 & 63.0 & 51.2 & 256.6\\\\\n",
      "random :\n",
      "500 & 596.4 & 10.1 & 38.8 & 34.4 & 23.0 & 29.8 & 27.6 & 131.6\\\\1000 & 876.2 & 10.1 & 64.2 & 60.6 & 38.6 & 52.0 & 41.8 & 220.8\\\\1500 & 1084.6 & 10.1 & 86.8 & 80.8 & 48.4 & 69.8 & 55.4 & 291.6\\\\\n"
     ]
    }
   ],
   "source": [
    "for few_shot_condition in [\"fixed\", \"random\"]:\n",
    "    print(few_shot_condition, \":\")\n",
    "    rows = \"\"\n",
    "    for n_synth in [500, 1000, 1500]:\n",
    "        st = statistics[f\"0_{n_synth}_Llama70B_{few_shot_condition}\"]\n",
    "        rows += f\"{n_synth} & {round_number(st['unique_lemmas_avg'])} & {round_number(st['avg_number_of_tokens_in_example_text'])}\"\n",
    "        for label in [\"GENERAL-IMPRESSION\", \"FOOD\", \"SERVICE\", \"AMBIENCE\", \"PRICE\"]:\n",
    "            rows += f\" & {st[f'n_unique_aspect_terms_{label}']}\"\n",
    "        rows += f' & {st[\"n_unique_explicit_aspects_total\"]}'\n",
    "        rows += \"\\\\\\\\\"\n",
    "    print(rows)"
   ]
  },
  {
   "cell_type": "markdown",
   "metadata": {},
   "source": [
    "### GPT-3"
   ]
  },
  {
   "cell_type": "code",
   "execution_count": 6,
   "metadata": {},
   "outputs": [
    {
     "name": "stdout",
     "output_type": "stream",
     "text": [
      "random :\n"
     ]
    },
    {
     "ename": "KeyError",
     "evalue": "'0_500_GPT-3_random'",
     "output_type": "error",
     "traceback": [
      "\u001b[0;31m---------------------------------------------------------------------------\u001b[0m",
      "\u001b[0;31mKeyError\u001b[0m                                  Traceback (most recent call last)",
      "Cell \u001b[0;32mIn[6], line 5\u001b[0m\n\u001b[1;32m      3\u001b[0m rows \u001b[38;5;241m=\u001b[39m \u001b[38;5;124m\"\u001b[39m\u001b[38;5;124m\"\u001b[39m\n\u001b[1;32m      4\u001b[0m \u001b[38;5;28;01mfor\u001b[39;00m n_synth \u001b[38;5;129;01min\u001b[39;00m [\u001b[38;5;241m500\u001b[39m, \u001b[38;5;241m1000\u001b[39m, \u001b[38;5;241m1500\u001b[39m]:\n\u001b[0;32m----> 5\u001b[0m     st \u001b[38;5;241m=\u001b[39m \u001b[43mstatistics\u001b[49m\u001b[43m[\u001b[49m\u001b[38;5;124;43mf\u001b[39;49m\u001b[38;5;124;43m\"\u001b[39;49m\u001b[38;5;124;43m0_\u001b[39;49m\u001b[38;5;132;43;01m{\u001b[39;49;00m\u001b[43mn_synth\u001b[49m\u001b[38;5;132;43;01m}\u001b[39;49;00m\u001b[38;5;124;43m_GPT-3_\u001b[39;49m\u001b[38;5;132;43;01m{\u001b[39;49;00m\u001b[43mfew_shot_condition\u001b[49m\u001b[38;5;132;43;01m}\u001b[39;49;00m\u001b[38;5;124;43m\"\u001b[39;49m\u001b[43m]\u001b[49m\n\u001b[1;32m      6\u001b[0m     rows \u001b[38;5;241m+\u001b[39m\u001b[38;5;241m=\u001b[39m \u001b[38;5;124mf\u001b[39m\u001b[38;5;124m\"\u001b[39m\u001b[38;5;132;01m{\u001b[39;00mn_synth\u001b[38;5;132;01m}\u001b[39;00m\u001b[38;5;124m & \u001b[39m\u001b[38;5;132;01m{\u001b[39;00mround_number(st[\u001b[38;5;124m'\u001b[39m\u001b[38;5;124munique_lemmas_avg\u001b[39m\u001b[38;5;124m'\u001b[39m])\u001b[38;5;132;01m}\u001b[39;00m\u001b[38;5;124m & \u001b[39m\u001b[38;5;132;01m{\u001b[39;00mround_number(st[\u001b[38;5;124m'\u001b[39m\u001b[38;5;124mavg_number_of_tokens_in_example_text\u001b[39m\u001b[38;5;124m'\u001b[39m])\u001b[38;5;132;01m}\u001b[39;00m\u001b[38;5;124m\"\u001b[39m\n\u001b[1;32m      7\u001b[0m     \u001b[38;5;28;01mfor\u001b[39;00m label \u001b[38;5;129;01min\u001b[39;00m [\u001b[38;5;124m\"\u001b[39m\u001b[38;5;124mGENERAL-IMPRESSION\u001b[39m\u001b[38;5;124m\"\u001b[39m, \u001b[38;5;124m\"\u001b[39m\u001b[38;5;124mFOOD\u001b[39m\u001b[38;5;124m\"\u001b[39m, \u001b[38;5;124m\"\u001b[39m\u001b[38;5;124mSERVICE\u001b[39m\u001b[38;5;124m\"\u001b[39m, \u001b[38;5;124m\"\u001b[39m\u001b[38;5;124mAMBIENCE\u001b[39m\u001b[38;5;124m\"\u001b[39m, \u001b[38;5;124m\"\u001b[39m\u001b[38;5;124mPRICE\u001b[39m\u001b[38;5;124m\"\u001b[39m]:\n",
      "\u001b[0;31mKeyError\u001b[0m: '0_500_GPT-3_random'"
     ]
    }
   ],
   "source": [
    "for few_shot_condition in [\"random\", \"fixed\"]:\n",
    "    print(few_shot_condition, \":\")\n",
    "    rows = \"\"\n",
    "    for n_synth in [500, 1000, 1500]:\n",
    "        st = statistics[f\"0_{n_synth}_GPT-3_{few_shot_condition}\"]\n",
    "        rows += f\"{n_synth} & {round_number(st['unique_lemmas_avg'])} & {round_number(st['avg_number_of_tokens_in_example_text'])}\"\n",
    "        for label in [\"GENERAL-IMPRESSION\", \"FOOD\", \"SERVICE\", \"AMBIENCE\", \"PRICE\"]:\n",
    "            rows += f\" & {st[f'n_unique_aspect_terms_{label}']}\"\n",
    "        rows += f' & {st[\"n_unique_explicit_aspects_total\"]}'\n",
    "        rows += \"\\\\\\\\\"\n",
    "    print(rows)"
   ]
  },
  {
   "cell_type": "code",
   "execution_count": 7,
   "metadata": {},
   "outputs": [
    {
     "data": {
      "text/plain": [
       "{'500_0_only_real': {'n_real': 500,\n",
       "  'n_synth': 0,\n",
       "  'llm': None,\n",
       "  'few-shot examples': 'random',\n",
       "  'top_n_lemmas': 'essen, LOC, Service, freundlich, Bedienung',\n",
       "  'unique_lemmas_avg': 1514.4,\n",
       "  'avg_number_of_tokens_in_example_text': 13.082,\n",
       "  'sd_number_of_tokens_in_example_text': 8.604700808279159,\n",
       "  'n_unique_explicit_aspects_total': 255.0,\n",
       "  'total_llm_invalid_xml_schema': 0,\n",
       "  'total_llm_invalid_xml_tags': 0,\n",
       "  'total_llm_aspect_polarity_in_text_but_not_in_label': 0,\n",
       "  'total_llm_more_than_one_sentences': 0,\n",
       "  'total_llm_retries': 0,\n",
       "  'n_unique_aspect_terms_FOOD': 141.6,\n",
       "  'n_unique_aspect_terms_SERVICE': 56.2,\n",
       "  'n_unique_aspect_terms_PRICE': 18.6,\n",
       "  'n_unique_aspect_terms_GENERAL-IMPRESSION': 15.0,\n",
       "  'n_unique_aspect_terms_AMBIENCE': 37.2},\n",
       " '1000_0_only_real': {'n_real': 1000,\n",
       "  'n_synth': 0,\n",
       "  'llm': None,\n",
       "  'few-shot examples': 'random',\n",
       "  'top_n_lemmas': 'essen, LOC, Service, freundlich, Bedienung',\n",
       "  'unique_lemmas_avg': 2417.0,\n",
       "  'avg_number_of_tokens_in_example_text': 13.127,\n",
       "  'sd_number_of_tokens_in_example_text': 8.540355437568158,\n",
       "  'n_unique_explicit_aspects_total': 438.8,\n",
       "  'total_llm_invalid_xml_schema': 0,\n",
       "  'total_llm_invalid_xml_tags': 0,\n",
       "  'total_llm_aspect_polarity_in_text_but_not_in_label': 0,\n",
       "  'total_llm_more_than_one_sentences': 0,\n",
       "  'total_llm_retries': 0,\n",
       "  'n_unique_aspect_terms_FOOD': 246.4,\n",
       "  'n_unique_aspect_terms_SERVICE': 93.6,\n",
       "  'n_unique_aspect_terms_PRICE': 37.8,\n",
       "  'n_unique_aspect_terms_GENERAL-IMPRESSION': 21.6,\n",
       "  'n_unique_aspect_terms_AMBIENCE': 66.0},\n",
       " '1500_0_only_real': {'n_real': 1500,\n",
       "  'n_synth': 0,\n",
       "  'llm': None,\n",
       "  'few-shot examples': 'random',\n",
       "  'top_n_lemmas': 'essen, LOC, Service, freundlich, Bedienung',\n",
       "  'unique_lemmas_avg': 3130.6,\n",
       "  'avg_number_of_tokens_in_example_text': 13.099866666666667,\n",
       "  'sd_number_of_tokens_in_example_text': 8.43921165249193,\n",
       "  'n_unique_explicit_aspects_total': 593.6,\n",
       "  'total_llm_invalid_xml_schema': 0,\n",
       "  'total_llm_invalid_xml_tags': 0,\n",
       "  'total_llm_aspect_polarity_in_text_but_not_in_label': 0,\n",
       "  'total_llm_more_than_one_sentences': 0,\n",
       "  'total_llm_retries': 0,\n",
       "  'n_unique_aspect_terms_FOOD': 333.8,\n",
       "  'n_unique_aspect_terms_SERVICE': 119.8,\n",
       "  'n_unique_aspect_terms_PRICE': 52.8,\n",
       "  'n_unique_aspect_terms_GENERAL-IMPRESSION': 32.0,\n",
       "  'n_unique_aspect_terms_AMBIENCE': 94.0},\n",
       " '0_500_Llama70B_random': {'n_real': 0,\n",
       "  'n_synth': 500,\n",
       "  'llm': 'Llama70B',\n",
       "  'few-shot examples': 'random',\n",
       "  'top_n_lemmas': 'essen, Preis, Ambiente, freundlich, Service',\n",
       "  'unique_lemmas_avg': 596.4,\n",
       "  'avg_number_of_tokens_in_example_text': 10.1276,\n",
       "  'sd_number_of_tokens_in_example_text': 4.704308476280016,\n",
       "  'n_unique_explicit_aspects_total': 131.6,\n",
       "  'total_llm_invalid_xml_schema': 0,\n",
       "  'total_llm_invalid_xml_tags': 0,\n",
       "  'total_llm_aspect_polarity_in_text_but_not_in_label': 276,\n",
       "  'total_llm_more_than_one_sentences': 26,\n",
       "  'total_llm_retries': 302,\n",
       "  'n_unique_aspect_terms_FOOD': 34.4,\n",
       "  'n_unique_aspect_terms_SERVICE': 23.0,\n",
       "  'n_unique_aspect_terms_PRICE': 27.6,\n",
       "  'n_unique_aspect_terms_GENERAL-IMPRESSION': 38.8,\n",
       "  'n_unique_aspect_terms_AMBIENCE': 29.8},\n",
       " '0_1000_Llama70B_random': {'n_real': 0,\n",
       "  'n_synth': 1000,\n",
       "  'llm': 'Llama70B',\n",
       "  'few-shot examples': 'random',\n",
       "  'top_n_lemmas': 'essen, Preis, Ambiente, freundlich, Service',\n",
       "  'unique_lemmas_avg': 876.2,\n",
       "  'avg_number_of_tokens_in_example_text': 10.1296,\n",
       "  'sd_number_of_tokens_in_example_text': 4.615582719440742,\n",
       "  'n_unique_explicit_aspects_total': 220.8,\n",
       "  'total_llm_invalid_xml_schema': 2,\n",
       "  'total_llm_invalid_xml_tags': 0,\n",
       "  'total_llm_aspect_polarity_in_text_but_not_in_label': 549,\n",
       "  'total_llm_more_than_one_sentences': 51,\n",
       "  'total_llm_retries': 602,\n",
       "  'n_unique_aspect_terms_FOOD': 60.6,\n",
       "  'n_unique_aspect_terms_SERVICE': 38.6,\n",
       "  'n_unique_aspect_terms_PRICE': 41.8,\n",
       "  'n_unique_aspect_terms_GENERAL-IMPRESSION': 64.2,\n",
       "  'n_unique_aspect_terms_AMBIENCE': 52.0},\n",
       " '0_1500_Llama70B_random': {'n_real': 0,\n",
       "  'n_synth': 1500,\n",
       "  'llm': 'Llama70B',\n",
       "  'few-shot examples': 'random',\n",
       "  'top_n_lemmas': 'essen, Preis, Ambiente, freundlich, Service',\n",
       "  'unique_lemmas_avg': 1084.6,\n",
       "  'avg_number_of_tokens_in_example_text': 10.145733333333334,\n",
       "  'sd_number_of_tokens_in_example_text': 4.561223716893917,\n",
       "  'n_unique_explicit_aspects_total': 291.6,\n",
       "  'total_llm_invalid_xml_schema': 3,\n",
       "  'total_llm_invalid_xml_tags': 1,\n",
       "  'total_llm_aspect_polarity_in_text_but_not_in_label': 816,\n",
       "  'total_llm_more_than_one_sentences': 74,\n",
       "  'total_llm_retries': 894,\n",
       "  'n_unique_aspect_terms_FOOD': 80.8,\n",
       "  'n_unique_aspect_terms_SERVICE': 48.4,\n",
       "  'n_unique_aspect_terms_PRICE': 55.4,\n",
       "  'n_unique_aspect_terms_GENERAL-IMPRESSION': 86.8,\n",
       "  'n_unique_aspect_terms_AMBIENCE': 69.8},\n",
       " '0_500_Llama70B_fixed': {'n_real': 0,\n",
       "  'n_synth': 500,\n",
       "  'llm': 'Llama70B',\n",
       "  'few-shot examples': 'fixed',\n",
       "  'top_n_lemmas': 'essen, Preis, Ambiente, freundlich, Service',\n",
       "  'unique_lemmas_avg': 537.4,\n",
       "  'avg_number_of_tokens_in_example_text': 10.1752,\n",
       "  'sd_number_of_tokens_in_example_text': 4.48612360061557,\n",
       "  'n_unique_explicit_aspects_total': 112.6,\n",
       "  'total_llm_invalid_xml_schema': 1,\n",
       "  'total_llm_invalid_xml_tags': 2,\n",
       "  'total_llm_aspect_polarity_in_text_but_not_in_label': 259,\n",
       "  'total_llm_more_than_one_sentences': 42,\n",
       "  'total_llm_retries': 304,\n",
       "  'n_unique_aspect_terms_FOOD': 29.4,\n",
       "  'n_unique_aspect_terms_SERVICE': 19.8,\n",
       "  'n_unique_aspect_terms_PRICE': 25.2,\n",
       "  'n_unique_aspect_terms_GENERAL-IMPRESSION': 36.0,\n",
       "  'n_unique_aspect_terms_AMBIENCE': 28.0},\n",
       " '0_1000_Llama70B_fixed': {'n_real': 0,\n",
       "  'n_synth': 1000,\n",
       "  'llm': 'Llama70B',\n",
       "  'few-shot examples': 'fixed',\n",
       "  'top_n_lemmas': 'essen, Preis, freundlich, Ambiente, schön',\n",
       "  'unique_lemmas_avg': 792.2,\n",
       "  'avg_number_of_tokens_in_example_text': 10.195,\n",
       "  'sd_number_of_tokens_in_example_text': 4.520152099210821,\n",
       "  'n_unique_explicit_aspects_total': 192.0,\n",
       "  'total_llm_invalid_xml_schema': 4,\n",
       "  'total_llm_invalid_xml_tags': 5,\n",
       "  'total_llm_aspect_polarity_in_text_but_not_in_label': 493,\n",
       "  'total_llm_more_than_one_sentences': 69,\n",
       "  'total_llm_retries': 571,\n",
       "  'n_unique_aspect_terms_FOOD': 55.6,\n",
       "  'n_unique_aspect_terms_SERVICE': 31.4,\n",
       "  'n_unique_aspect_terms_PRICE': 39.2,\n",
       "  'n_unique_aspect_terms_GENERAL-IMPRESSION': 62.2,\n",
       "  'n_unique_aspect_terms_AMBIENCE': 46.2},\n",
       " '0_1500_Llama70B_fixed': {'n_real': 0,\n",
       "  'n_synth': 1500,\n",
       "  'llm': 'Llama70B',\n",
       "  'few-shot examples': 'fixed',\n",
       "  'top_n_lemmas': 'essen, Preis, freundlich, Ambiente, schön',\n",
       "  'unique_lemmas_avg': 997.4,\n",
       "  'avg_number_of_tokens_in_example_text': 10.253866666666667,\n",
       "  'sd_number_of_tokens_in_example_text': 4.58395226657327,\n",
       "  'n_unique_explicit_aspects_total': 256.6,\n",
       "  'total_llm_invalid_xml_schema': 5,\n",
       "  'total_llm_invalid_xml_tags': 9,\n",
       "  'total_llm_aspect_polarity_in_text_but_not_in_label': 759,\n",
       "  'total_llm_more_than_one_sentences': 109,\n",
       "  'total_llm_retries': 882,\n",
       "  'n_unique_aspect_terms_FOOD': 74.2,\n",
       "  'n_unique_aspect_terms_SERVICE': 39.0,\n",
       "  'n_unique_aspect_terms_PRICE': 51.2,\n",
       "  'n_unique_aspect_terms_GENERAL-IMPRESSION': 88.4,\n",
       "  'n_unique_aspect_terms_AMBIENCE': 63.0}}"
      ]
     },
     "execution_count": 7,
     "metadata": {},
     "output_type": "execute_result"
    }
   ],
   "source": [
    "statistics"
   ]
  },
  {
   "cell_type": "code",
   "execution_count": null,
   "metadata": {},
   "outputs": [],
   "source": []
  }
 ],
 "metadata": {
  "kernelspec": {
   "display_name": "tensorflow_m1",
   "language": "python",
   "name": "python3"
  },
  "language_info": {
   "codemirror_mode": {
    "name": "ipython",
    "version": 3
   },
   "file_extension": ".py",
   "mimetype": "text/x-python",
   "name": "python",
   "nbconvert_exporter": "python",
   "pygments_lexer": "ipython3",
   "version": "3.11.3"
  }
 },
 "nbformat": 4,
 "nbformat_minor": 2
}
