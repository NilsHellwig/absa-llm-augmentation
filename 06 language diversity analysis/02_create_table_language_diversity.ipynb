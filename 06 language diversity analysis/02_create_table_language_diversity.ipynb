{
 "cells": [
  {
   "cell_type": "markdown",
   "metadata": {},
   "source": [
    "# Notebook: Create Latex Table for Language Analysis\n",
    "\n",
    "This notebook is used to create a table to present the language analysis\n",
    "\n",
    "Todo: Kommazahl korrekt"
   ]
  },
  {
   "cell_type": "markdown",
   "metadata": {},
   "source": [
    "## Packages"
   ]
  },
  {
   "cell_type": "code",
   "execution_count": 97,
   "metadata": {},
   "outputs": [],
   "source": [
    "import json"
   ]
  },
  {
   "cell_type": "markdown",
   "metadata": {},
   "source": [
    "## Code"
   ]
  },
  {
   "cell_type": "code",
   "execution_count": 98,
   "metadata": {},
   "outputs": [],
   "source": [
    "with open(\"language_statistics.json\", 'r') as json_file:\n",
    "    statistics = json.load(json_file)"
   ]
  },
  {
   "cell_type": "markdown",
   "metadata": {},
   "source": [
    "### Real Examples"
   ]
  },
  {
   "cell_type": "code",
   "execution_count": 99,
   "metadata": {},
   "outputs": [
    {
     "data": {
      "text/plain": [
       "'500 & 1518.2 & 13.0072 & 14.4 & 149.6 & 44.0 & 40.6 & 26.6 & 258.2\\\\\\\\1000 & 2412.4 & 13.1106 & 24.6 & 251.6 & 83.6 & 72.2 & 42.0 & 444.0\\\\\\\\1500 & 3114.2 & 12.998 & 32.0 & 342.0 & 112.8 & 99.4 & 54.6 & 600.0\\\\\\\\'"
      ]
     },
     "execution_count": 99,
     "metadata": {},
     "output_type": "execute_result"
    }
   ],
   "source": [
    "rows = \"\"\n",
    "for n_real in [500, 1000, 1500]:\n",
    "    st = statistics[f\"{n_real}_0_only_real\"]\n",
    "    rows += f\"{n_real} & {st['unique_lemmas_avg']} & {st['avg_number_of_tokens_in_example_text']}\"\n",
    "    for label in [\"GENERAL-IMPRESSION\", \"FOOD\", \"SERVICE\", \"AMBIENCE\", \"PRICE\"]:\n",
    "        rows += f\" & {st[f'n_unique_aspect_terms_{label}']}\"\n",
    "    rows += f' & {st[\"n_unique_explicit_aspects_total\"]}'\n",
    "    rows += \"\\\\\\\\\"\n",
    "rows\n"
   ]
  },
  {
   "cell_type": "markdown",
   "metadata": {},
   "source": [
    "### Llama-2-70B"
   ]
  },
  {
   "cell_type": "code",
   "execution_count": null,
   "metadata": {},
   "outputs": [],
   "source": [
    "rows = \"\"\n",
    "for n_synth in [500, 1000, 1500]:\n",
    "    st = statistics[f\"0_{n_synth}_Llama70B\"]\n",
    "    rows += f\"{n_synth} & {st['unique_lemmas_avg']} & {st['avg_number_of_tokens_in_example_text']}\"\n",
    "    for label in [\"GENERAL-IMPRESSION\", \"FOOD\", \"SERVICE\", \"AMBIENCE\", \"PRICE\"]:\n",
    "        rows += f\" & {st[f'n_unique_aspect_terms_{label}']}\"\n",
    "    rows += f' & {st[\"n_unique_explicit_aspects_total\"]}'\n",
    "    rows += \"\\\\\\\\\"\n",
    "rows"
   ]
  },
  {
   "cell_type": "markdown",
   "metadata": {},
   "source": [
    "### GPT-3"
   ]
  },
  {
   "cell_type": "code",
   "execution_count": null,
   "metadata": {},
   "outputs": [],
   "source": [
    "rows = \"\"\n",
    "for n_synth in [500, 1000, 1500]:\n",
    "    st = statistics[f\"0_{n_synth}_GPT-3\"]\n",
    "    rows += f\"{n_synth} & {st['unique_lemmas_avg']} & {st['avg_number_of_tokens_in_example_text']}\"\n",
    "    for label in [\"GENERAL-IMPRESSION\", \"FOOD\", \"SERVICE\", \"AMBIENCE\", \"PRICE\"]:\n",
    "        rows += f\" & {st[f'n_unique_aspect_terms_{label}']}\"\n",
    "    rows += f' & {st[\"n_unique_explicit_aspects_total\"]}'\n",
    "    rows += \"\\\\\\\\\"\n",
    "rows"
   ]
  }
 ],
 "metadata": {
  "kernelspec": {
   "display_name": "tensorflow_m1",
   "language": "python",
   "name": "python3"
  },
  "language_info": {
   "codemirror_mode": {
    "name": "ipython",
    "version": 3
   },
   "file_extension": ".py",
   "mimetype": "text/x-python",
   "name": "python",
   "nbconvert_exporter": "python",
   "pygments_lexer": "ipython3",
   "version": "3.11.3"
  }
 },
 "nbformat": 4,
 "nbformat_minor": 2
}
