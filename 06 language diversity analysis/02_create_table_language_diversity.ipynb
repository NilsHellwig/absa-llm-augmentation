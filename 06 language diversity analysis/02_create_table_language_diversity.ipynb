{
 "cells": [
  {
   "cell_type": "markdown",
   "metadata": {},
   "source": [
    "# Notebook: Create Latex Table for Language Analysis\n",
    "\n",
    "This notebook is used to create a table to present the language analysis"
   ]
  },
  {
   "cell_type": "markdown",
   "metadata": {},
   "source": [
    "## Packages"
   ]
  },
  {
   "cell_type": "code",
   "execution_count": 1,
   "metadata": {},
   "outputs": [],
   "source": [
    "import json"
   ]
  },
  {
   "cell_type": "markdown",
   "metadata": {},
   "source": [
    "## Settings"
   ]
  },
  {
   "cell_type": "code",
   "execution_count": null,
   "metadata": {},
   "outputs": [],
   "source": []
  },
  {
   "cell_type": "markdown",
   "metadata": {},
   "source": [
    "## Code"
   ]
  },
  {
   "cell_type": "code",
   "execution_count": 2,
   "metadata": {},
   "outputs": [
    {
     "data": {
      "text/plain": [
       "[{'n_real': 500,\n",
       "  'n_synth': 0,\n",
       "  'llm': None,\n",
       "  'few-shot examples': 'random',\n",
       "  'top_n_lemmas': 'essen, LOC, Service, freundlich, toll',\n",
       "  'unique_lemmas_avg': 1488.0,\n",
       "  'avg_number_of_tokens_in_example_text': 12.978,\n",
       "  'sd_number_of_tokens_in_example_text': 8.901545708471085,\n",
       "  'n_unique_explicit_aspects_total': 0.0,\n",
       "  'total_llm_invalid_xml_schema': 0,\n",
       "  'total_llm_invalid_xml_tags': 0,\n",
       "  'total_llm_aspect_polarity_in_text_but_not_in_label': 0,\n",
       "  'total_llm_more_than_one_sentences': 0,\n",
       "  'total_llm_no_german_language': 0,\n",
       "  'total_llm_retries': 0,\n",
       "  'n_unique_aspect_terms_FOOD': 0.0,\n",
       "  'n_unique_aspect_terms_SERVICE': 0.0,\n",
       "  'n_unique_aspect_terms_PRICE': 0.0,\n",
       "  'n_unique_aspect_terms_GENERAL-IMPRESSION': 0.0,\n",
       "  'n_unique_aspect_terms_AMBIENCE': 0.0},\n",
       " {'n_real': 1000,\n",
       "  'n_synth': 0,\n",
       "  'llm': None,\n",
       "  'few-shot examples': 'random',\n",
       "  'top_n_lemmas': 'essen, LOC, Service, freundlich, Bedienung',\n",
       "  'unique_lemmas_avg': 2459.0,\n",
       "  'avg_number_of_tokens_in_example_text': 13.397,\n",
       "  'sd_number_of_tokens_in_example_text': 8.752222060711212,\n",
       "  'n_unique_explicit_aspects_total': 0.0,\n",
       "  'total_llm_invalid_xml_schema': 0,\n",
       "  'total_llm_invalid_xml_tags': 0,\n",
       "  'total_llm_aspect_polarity_in_text_but_not_in_label': 0,\n",
       "  'total_llm_more_than_one_sentences': 0,\n",
       "  'total_llm_no_german_language': 0,\n",
       "  'total_llm_retries': 0,\n",
       "  'n_unique_aspect_terms_FOOD': 0.0,\n",
       "  'n_unique_aspect_terms_SERVICE': 0.0,\n",
       "  'n_unique_aspect_terms_PRICE': 0.0,\n",
       "  'n_unique_aspect_terms_GENERAL-IMPRESSION': 0.0,\n",
       "  'n_unique_aspect_terms_AMBIENCE': 0.0},\n",
       " {'n_real': 1500,\n",
       "  'n_synth': 0,\n",
       "  'llm': None,\n",
       "  'few-shot examples': 'random',\n",
       "  'top_n_lemmas': 'essen, LOC, Service, freundlich, Bedienung',\n",
       "  'unique_lemmas_avg': 3124.0,\n",
       "  'avg_number_of_tokens_in_example_text': 13.213333333333333,\n",
       "  'sd_number_of_tokens_in_example_text': 8.768874246763694,\n",
       "  'n_unique_explicit_aspects_total': 0.0,\n",
       "  'total_llm_invalid_xml_schema': 0,\n",
       "  'total_llm_invalid_xml_tags': 0,\n",
       "  'total_llm_aspect_polarity_in_text_but_not_in_label': 0,\n",
       "  'total_llm_more_than_one_sentences': 0,\n",
       "  'total_llm_no_german_language': 0,\n",
       "  'total_llm_retries': 0,\n",
       "  'n_unique_aspect_terms_FOOD': 0.0,\n",
       "  'n_unique_aspect_terms_SERVICE': 0.0,\n",
       "  'n_unique_aspect_terms_PRICE': 0.0,\n",
       "  'n_unique_aspect_terms_GENERAL-IMPRESSION': 0.0,\n",
       "  'n_unique_aspect_terms_AMBIENCE': 0.0}]"
      ]
     },
     "execution_count": 2,
     "metadata": {},
     "output_type": "execute_result"
    }
   ],
   "source": [
    "with open(\"language_statistics.json\", 'r') as json_file:\n",
    "    statistics = json.load(json_file)\n",
    "\n",
    "statistics"
   ]
  },
  {
   "cell_type": "code",
   "execution_count": null,
   "metadata": {},
   "outputs": [],
   "source": []
  }
 ],
 "metadata": {
  "kernelspec": {
   "display_name": "tensorflow_m1",
   "language": "python",
   "name": "python3"
  },
  "language_info": {
   "codemirror_mode": {
    "name": "ipython",
    "version": 3
   },
   "file_extension": ".py",
   "mimetype": "text/x-python",
   "name": "python",
   "nbconvert_exporter": "python",
   "pygments_lexer": "ipython3",
   "version": "3.11.3"
  }
 },
 "nbformat": 4,
 "nbformat_minor": 2
}
