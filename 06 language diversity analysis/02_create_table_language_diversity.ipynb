{
 "cells": [
  {
   "cell_type": "markdown",
   "metadata": {},
   "source": [
    "# Notebook: Create Latex Table for Language Analysis\n",
    "\n",
    "This notebook is used to create a table to present the language analysis\n",
    "\n",
    "Todo: Kommazahl korrekt"
   ]
  },
  {
   "cell_type": "markdown",
   "metadata": {},
   "source": [
    "## Packages"
   ]
  },
  {
   "cell_type": "code",
   "execution_count": 16,
   "metadata": {},
   "outputs": [],
   "source": [
    "import json"
   ]
  },
  {
   "cell_type": "markdown",
   "metadata": {},
   "source": [
    "## Code"
   ]
  },
  {
   "cell_type": "code",
   "execution_count": 17,
   "metadata": {},
   "outputs": [],
   "source": [
    "with open(\"language_statistics.json\", 'r') as json_file:\n",
    "    statistics = json.load(json_file)"
   ]
  },
  {
   "cell_type": "code",
   "execution_count": 18,
   "metadata": {},
   "outputs": [],
   "source": [
    "def round_number(number, decimal_places=1):\n",
    "    rounded_number = round(number, decimal_places)\n",
    "    return rounded_number"
   ]
  },
  {
   "cell_type": "markdown",
   "metadata": {},
   "source": [
    "### Real Examples"
   ]
  },
  {
   "cell_type": "code",
   "execution_count": 19,
   "metadata": {},
   "outputs": [
    {
     "name": "stdout",
     "output_type": "stream",
     "text": [
      "500 & 1518.4 & 13.0 & 14.6 & 144.4 & 52.0 & 37.8 & 24.2 & 258.4\\\\1000 & 2411.8 & 13.1 & 23.4 & 252.8 & 88.2 & 68.6 & 42.4 & 446.4\\\\1500 & 3155.0 & 13.2 & 32.2 & 347.0 & 121.4 & 96.0 & 56.6 & 612.8\\\\\n"
     ]
    }
   ],
   "source": [
    "rows = \"\"\n",
    "for n_real in [500, 1000, 1500]:\n",
    "    st = statistics[f\"{n_real}_0_only_real\"]\n",
    "    rows += f\"{n_real} & {round_number(st['unique_lemmas_avg'])} & {round_number(st['avg_number_of_tokens_in_example_text'])}\"\n",
    "    for label in [\"GENERAL-IMPRESSION\", \"FOOD\", \"SERVICE\", \"AMBIENCE\", \"PRICE\"]:\n",
    "        rows += f\" & {st[f'n_unique_aspect_terms_{label}']}\"\n",
    "    rows += f' & {st[\"n_unique_explicit_aspects_total\"]}'\n",
    "    rows += \"\\\\\\\\\"\n",
    "print(rows)\n"
   ]
  },
  {
   "cell_type": "markdown",
   "metadata": {},
   "source": [
    "### Llama-2-70B"
   ]
  },
  {
   "cell_type": "code",
   "execution_count": 20,
   "metadata": {},
   "outputs": [
    {
     "name": "stdout",
     "output_type": "stream",
     "text": [
      "500 & 568.8 & 10.3 & 39.0 & 34.6 & 21.2 & 26.4 & 24.2 & 118.8\\\\1000 & 813.8 & 10.3 & 64.8 & 55.2 & 32.4 & 43.2 & 38.6 & 190.6\\\\1500 & 1017.8 & 10.3 & 88.6 & 77.0 & 39.8 & 60.2 & 48.8 & 257.6\\\\\n"
     ]
    }
   ],
   "source": [
    "rows = \"\"\n",
    "for n_synth in [500, 1000, 1500]:\n",
    "    st = statistics[f\"0_{n_synth}_Llama70B\"]\n",
    "    rows += f\"{n_synth} & {round_number(st['unique_lemmas_avg'])} & {round_number(st['avg_number_of_tokens_in_example_text'])}\"\n",
    "    for label in [\"GENERAL-IMPRESSION\", \"FOOD\", \"SERVICE\", \"AMBIENCE\", \"PRICE\"]:\n",
    "        rows += f\" & {st[f'n_unique_aspect_terms_{label}']}\"\n",
    "    rows += f' & {st[\"n_unique_explicit_aspects_total\"]}'\n",
    "    rows += \"\\\\\\\\\"\n",
    "print(rows)"
   ]
  },
  {
   "cell_type": "markdown",
   "metadata": {},
   "source": [
    "### GPT-3"
   ]
  },
  {
   "cell_type": "code",
   "execution_count": 21,
   "metadata": {},
   "outputs": [
    {
     "ename": "KeyError",
     "evalue": "'0_500_GPT-3'",
     "output_type": "error",
     "traceback": [
      "\u001b[0;31m---------------------------------------------------------------------------\u001b[0m",
      "\u001b[0;31mKeyError\u001b[0m                                  Traceback (most recent call last)",
      "Cell \u001b[0;32mIn[21], line 3\u001b[0m\n\u001b[1;32m      1\u001b[0m rows \u001b[38;5;241m=\u001b[39m \u001b[38;5;124m\"\u001b[39m\u001b[38;5;124m\"\u001b[39m\n\u001b[1;32m      2\u001b[0m \u001b[38;5;28;01mfor\u001b[39;00m n_synth \u001b[38;5;129;01min\u001b[39;00m [\u001b[38;5;241m500\u001b[39m, \u001b[38;5;241m1000\u001b[39m, \u001b[38;5;241m1500\u001b[39m]:\n\u001b[0;32m----> 3\u001b[0m     st \u001b[38;5;241m=\u001b[39m \u001b[43mstatistics\u001b[49m\u001b[43m[\u001b[49m\u001b[38;5;124;43mf\u001b[39;49m\u001b[38;5;124;43m\"\u001b[39;49m\u001b[38;5;124;43m0_\u001b[39;49m\u001b[38;5;132;43;01m{\u001b[39;49;00m\u001b[43mn_synth\u001b[49m\u001b[38;5;132;43;01m}\u001b[39;49;00m\u001b[38;5;124;43m_GPT-3\u001b[39;49m\u001b[38;5;124;43m\"\u001b[39;49m\u001b[43m]\u001b[49m\n\u001b[1;32m      4\u001b[0m     rows \u001b[38;5;241m+\u001b[39m\u001b[38;5;241m=\u001b[39m \u001b[38;5;124mf\u001b[39m\u001b[38;5;124m\"\u001b[39m\u001b[38;5;132;01m{\u001b[39;00mn_synth\u001b[38;5;132;01m}\u001b[39;00m\u001b[38;5;124m & \u001b[39m\u001b[38;5;132;01m{\u001b[39;00mround_number(st[\u001b[38;5;124m'\u001b[39m\u001b[38;5;124munique_lemmas_avg\u001b[39m\u001b[38;5;124m'\u001b[39m])\u001b[38;5;132;01m}\u001b[39;00m\u001b[38;5;124m & \u001b[39m\u001b[38;5;132;01m{\u001b[39;00mround_number(st[\u001b[38;5;124m'\u001b[39m\u001b[38;5;124mavg_number_of_tokens_in_example_text\u001b[39m\u001b[38;5;124m'\u001b[39m])\u001b[38;5;132;01m}\u001b[39;00m\u001b[38;5;124m\"\u001b[39m\n\u001b[1;32m      5\u001b[0m     \u001b[38;5;28;01mfor\u001b[39;00m label \u001b[38;5;129;01min\u001b[39;00m [\u001b[38;5;124m\"\u001b[39m\u001b[38;5;124mGENERAL-IMPRESSION\u001b[39m\u001b[38;5;124m\"\u001b[39m, \u001b[38;5;124m\"\u001b[39m\u001b[38;5;124mFOOD\u001b[39m\u001b[38;5;124m\"\u001b[39m, \u001b[38;5;124m\"\u001b[39m\u001b[38;5;124mSERVICE\u001b[39m\u001b[38;5;124m\"\u001b[39m, \u001b[38;5;124m\"\u001b[39m\u001b[38;5;124mAMBIENCE\u001b[39m\u001b[38;5;124m\"\u001b[39m, \u001b[38;5;124m\"\u001b[39m\u001b[38;5;124mPRICE\u001b[39m\u001b[38;5;124m\"\u001b[39m]:\n",
      "\u001b[0;31mKeyError\u001b[0m: '0_500_GPT-3'"
     ]
    }
   ],
   "source": [
    "rows = \"\"\n",
    "for n_synth in [500, 1000, 1500]:\n",
    "    st = statistics[f\"0_{n_synth}_GPT-3\"]\n",
    "    rows += f\"{n_synth} & {round_number(st['unique_lemmas_avg'])} & {round_number(st['avg_number_of_tokens_in_example_text'])}\"\n",
    "    for label in [\"GENERAL-IMPRESSION\", \"FOOD\", \"SERVICE\", \"AMBIENCE\", \"PRICE\"]:\n",
    "        rows += f\" & {st[f'n_unique_aspect_terms_{label}']}\"\n",
    "    rows += f' & {st[\"n_unique_explicit_aspects_total\"]}'\n",
    "    rows += \"\\\\\\\\\"\n",
    "print(rows)"
   ]
  }
 ],
 "metadata": {
  "kernelspec": {
   "display_name": "tensorflow_m1",
   "language": "python",
   "name": "python3"
  },
  "language_info": {
   "codemirror_mode": {
    "name": "ipython",
    "version": 3
   },
   "file_extension": ".py",
   "mimetype": "text/x-python",
   "name": "python",
   "nbconvert_exporter": "python",
   "pygments_lexer": "ipython3",
   "version": "3.11.3"
  }
 },
 "nbformat": 4,
 "nbformat_minor": 2
}
