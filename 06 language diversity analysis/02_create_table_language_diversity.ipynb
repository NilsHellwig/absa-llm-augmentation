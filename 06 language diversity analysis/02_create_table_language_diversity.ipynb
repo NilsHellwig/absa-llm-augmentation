{
 "cells": [
  {
   "cell_type": "markdown",
   "metadata": {},
   "source": [
    "# Notebook: Create Latex Table for Language Analysis\n",
    "\n",
    "This notebook is used to create a table to present the language analysis\n",
    "\n",
    "Todo: Kommazahl korrekt"
   ]
  },
  {
   "cell_type": "markdown",
   "metadata": {},
   "source": [
    "## Packages"
   ]
  },
  {
   "cell_type": "code",
   "execution_count": 32,
   "metadata": {},
   "outputs": [],
   "source": [
    "import json"
   ]
  },
  {
   "cell_type": "markdown",
   "metadata": {},
   "source": [
    "## Code"
   ]
  },
  {
   "cell_type": "code",
   "execution_count": 33,
   "metadata": {},
   "outputs": [],
   "source": [
    "with open(\"language_statistics.json\", 'r') as json_file:\n",
    "    statistics = json.load(json_file)"
   ]
  },
  {
   "cell_type": "code",
   "execution_count": 34,
   "metadata": {},
   "outputs": [],
   "source": [
    "def round_number(number, decimal_places=1):\n",
    "    rounded_number = round(number, decimal_places)\n",
    "    return rounded_number"
   ]
  },
  {
   "cell_type": "markdown",
   "metadata": {},
   "source": [
    "### Real Examples"
   ]
  },
  {
   "cell_type": "code",
   "execution_count": 35,
   "metadata": {},
   "outputs": [
    {
     "name": "stdout",
     "output_type": "stream",
     "text": [
      "500 & 1514.4 & 13.1 & 15.0 & 141.6 & 56.2 & 37.2 & 18.6 & 255.0\\\\1000 & 2417.0 & 13.1 & 21.6 & 246.4 & 93.6 & 66.0 & 37.8 & 438.8\\\\1500 & 3130.6 & 13.1 & 32.0 & 333.8 & 119.8 & 94.0 & 52.8 & 593.6\\\\\n"
     ]
    }
   ],
   "source": [
    "rows = \"\"\n",
    "for n_real in [500, 1000, 1500]:\n",
    "    st = statistics[f\"{n_real}_0_only_real\"]\n",
    "    rows += f\"{n_real} & {round_number(st['unique_lemmas_avg'])} & {round_number(st['avg_number_of_tokens_in_example_text'])}\"\n",
    "    for label in [\"GENERAL-IMPRESSION\", \"FOOD\", \"SERVICE\", \"AMBIENCE\", \"PRICE\"]:\n",
    "        rows += f\" & {st[f'n_unique_aspect_terms_{label}']}\"\n",
    "    rows += f' & {st[\"n_unique_explicit_aspects_total\"]}'\n",
    "    rows += \"\\\\\\\\\"\n",
    "print(rows)\n"
   ]
  },
  {
   "cell_type": "markdown",
   "metadata": {},
   "source": [
    "### Llama-2-70B"
   ]
  },
  {
   "cell_type": "code",
   "execution_count": 36,
   "metadata": {},
   "outputs": [
    {
     "name": "stdout",
     "output_type": "stream",
     "text": [
      "random :\n",
      "500 & 596.4 & 10.1 & 38.8 & 34.4 & 23.0 & 29.8 & 27.6 & 131.6\\\\1000 & 876.2 & 10.1 & 64.2 & 60.6 & 38.6 & 52.0 & 41.8 & 220.8\\\\1500 & 1084.6 & 10.1 & 86.8 & 80.8 & 48.4 & 69.8 & 55.4 & 291.6\\\\\n",
      "fixed :\n",
      "500 & 537.4 & 10.2 & 36.0 & 29.4 & 19.8 & 28.0 & 25.2 & 112.6\\\\1000 & 792.2 & 10.2 & 62.2 & 55.6 & 31.4 & 46.2 & 39.2 & 192.0\\\\1500 & 997.4 & 10.3 & 88.4 & 74.2 & 39.0 & 63.0 & 51.2 & 256.6\\\\\n"
     ]
    }
   ],
   "source": [
    "for few_shot_condition in [\"random\", \"fixed\"]:\n",
    "    print(few_shot_condition, \":\")\n",
    "    rows = \"\"\n",
    "    for n_synth in [500, 1000, 1500]:\n",
    "        st = statistics[f\"0_{n_synth}_Llama70B_{few_shot_condition}\"]\n",
    "        rows += f\"{n_synth} & {round_number(st['unique_lemmas_avg'])} & {round_number(st['avg_number_of_tokens_in_example_text'])}\"\n",
    "        for label in [\"GENERAL-IMPRESSION\", \"FOOD\", \"SERVICE\", \"AMBIENCE\", \"PRICE\"]:\n",
    "            rows += f\" & {st[f'n_unique_aspect_terms_{label}']}\"\n",
    "        rows += f' & {st[\"n_unique_explicit_aspects_total\"]}'\n",
    "        rows += \"\\\\\\\\\"\n",
    "    print(rows)"
   ]
  },
  {
   "cell_type": "markdown",
   "metadata": {},
   "source": [
    "### GPT-3"
   ]
  },
  {
   "cell_type": "code",
   "execution_count": 37,
   "metadata": {},
   "outputs": [
    {
     "name": "stdout",
     "output_type": "stream",
     "text": [
      "random :\n"
     ]
    },
    {
     "ename": "KeyError",
     "evalue": "'0_500_GPT-3_random'",
     "output_type": "error",
     "traceback": [
      "\u001b[0;31m---------------------------------------------------------------------------\u001b[0m",
      "\u001b[0;31mKeyError\u001b[0m                                  Traceback (most recent call last)",
      "Cell \u001b[0;32mIn[37], line 5\u001b[0m\n\u001b[1;32m      3\u001b[0m rows \u001b[38;5;241m=\u001b[39m \u001b[38;5;124m\"\u001b[39m\u001b[38;5;124m\"\u001b[39m\n\u001b[1;32m      4\u001b[0m \u001b[38;5;28;01mfor\u001b[39;00m n_synth \u001b[38;5;129;01min\u001b[39;00m [\u001b[38;5;241m500\u001b[39m, \u001b[38;5;241m1000\u001b[39m, \u001b[38;5;241m1500\u001b[39m]:\n\u001b[0;32m----> 5\u001b[0m     st \u001b[38;5;241m=\u001b[39m \u001b[43mstatistics\u001b[49m\u001b[43m[\u001b[49m\u001b[38;5;124;43mf\u001b[39;49m\u001b[38;5;124;43m\"\u001b[39;49m\u001b[38;5;124;43m0_\u001b[39;49m\u001b[38;5;132;43;01m{\u001b[39;49;00m\u001b[43mn_synth\u001b[49m\u001b[38;5;132;43;01m}\u001b[39;49;00m\u001b[38;5;124;43m_GPT-3_\u001b[39;49m\u001b[38;5;132;43;01m{\u001b[39;49;00m\u001b[43mfew_shot_condition\u001b[49m\u001b[38;5;132;43;01m}\u001b[39;49;00m\u001b[38;5;124;43m\"\u001b[39;49m\u001b[43m]\u001b[49m\n\u001b[1;32m      6\u001b[0m     rows \u001b[38;5;241m+\u001b[39m\u001b[38;5;241m=\u001b[39m \u001b[38;5;124mf\u001b[39m\u001b[38;5;124m\"\u001b[39m\u001b[38;5;132;01m{\u001b[39;00mn_synth\u001b[38;5;132;01m}\u001b[39;00m\u001b[38;5;124m & \u001b[39m\u001b[38;5;132;01m{\u001b[39;00mround_number(st[\u001b[38;5;124m'\u001b[39m\u001b[38;5;124munique_lemmas_avg\u001b[39m\u001b[38;5;124m'\u001b[39m])\u001b[38;5;132;01m}\u001b[39;00m\u001b[38;5;124m & \u001b[39m\u001b[38;5;132;01m{\u001b[39;00mround_number(st[\u001b[38;5;124m'\u001b[39m\u001b[38;5;124mavg_number_of_tokens_in_example_text\u001b[39m\u001b[38;5;124m'\u001b[39m])\u001b[38;5;132;01m}\u001b[39;00m\u001b[38;5;124m\"\u001b[39m\n\u001b[1;32m      7\u001b[0m     \u001b[38;5;28;01mfor\u001b[39;00m label \u001b[38;5;129;01min\u001b[39;00m [\u001b[38;5;124m\"\u001b[39m\u001b[38;5;124mGENERAL-IMPRESSION\u001b[39m\u001b[38;5;124m\"\u001b[39m, \u001b[38;5;124m\"\u001b[39m\u001b[38;5;124mFOOD\u001b[39m\u001b[38;5;124m\"\u001b[39m, \u001b[38;5;124m\"\u001b[39m\u001b[38;5;124mSERVICE\u001b[39m\u001b[38;5;124m\"\u001b[39m, \u001b[38;5;124m\"\u001b[39m\u001b[38;5;124mAMBIENCE\u001b[39m\u001b[38;5;124m\"\u001b[39m, \u001b[38;5;124m\"\u001b[39m\u001b[38;5;124mPRICE\u001b[39m\u001b[38;5;124m\"\u001b[39m]:\n",
      "\u001b[0;31mKeyError\u001b[0m: '0_500_GPT-3_random'"
     ]
    }
   ],
   "source": [
    "for few_shot_condition in [\"random\", \"fixed\"]:\n",
    "    print(few_shot_condition, \":\")\n",
    "    rows = \"\"\n",
    "    for n_synth in [500, 1000, 1500]:\n",
    "        st = statistics[f\"0_{n_synth}_GPT-3_{few_shot_condition}\"]\n",
    "        rows += f\"{n_synth} & {round_number(st['unique_lemmas_avg'])} & {round_number(st['avg_number_of_tokens_in_example_text'])}\"\n",
    "        for label in [\"GENERAL-IMPRESSION\", \"FOOD\", \"SERVICE\", \"AMBIENCE\", \"PRICE\"]:\n",
    "            rows += f\" & {st[f'n_unique_aspect_terms_{label}']}\"\n",
    "        rows += f' & {st[\"n_unique_explicit_aspects_total\"]}'\n",
    "        rows += \"\\\\\\\\\"\n",
    "    print(rows)"
   ]
  }
 ],
 "metadata": {
  "kernelspec": {
   "display_name": "tensorflow_m1",
   "language": "python",
   "name": "python3"
  },
  "language_info": {
   "codemirror_mode": {
    "name": "ipython",
    "version": 3
   },
   "file_extension": ".py",
   "mimetype": "text/x-python",
   "name": "python",
   "nbconvert_exporter": "python",
   "pygments_lexer": "ipython3",
   "version": "3.11.3"
  }
 },
 "nbformat": 4,
 "nbformat_minor": 2
}
