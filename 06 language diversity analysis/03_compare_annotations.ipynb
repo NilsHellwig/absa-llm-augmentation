{
 "cells": [
  {
   "cell_type": "markdown",
   "metadata": {},
   "source": [
    "# Notebook: Convert to Formatted JSON"
   ]
  },
  {
   "cell_type": "markdown",
   "metadata": {},
   "source": [
    "## Packages"
   ]
  },
  {
   "cell_type": "code",
   "execution_count": 92,
   "metadata": {},
   "outputs": [],
   "source": [
    "import sys\n",
    "import os\n",
    "sys.path.append(os.path.abspath('../03 dataset split/'))\n",
    "from format_labelstudio_json import format_json"
   ]
  },
  {
   "cell_type": "code",
   "execution_count": 93,
   "metadata": {},
   "outputs": [],
   "source": [
    "import pandas as pd\n",
    "import json"
   ]
  },
  {
   "cell_type": "markdown",
   "metadata": {},
   "source": [
    "## Settings"
   ]
  },
  {
   "cell_type": "code",
   "execution_count": 94,
   "metadata": {},
   "outputs": [],
   "source": [
    "MODEL = \"Llama13B\"\n",
    "FEW_SHOT = \"random\"\n",
    "N_EXAMPLES = 25"
   ]
  },
  {
   "cell_type": "markdown",
   "metadata": {},
   "source": [
    "## Code"
   ]
  },
  {
   "cell_type": "code",
   "execution_count": 95,
   "metadata": {},
   "outputs": [],
   "source": [
    "with open(f\"annotation_datasets/synth_annotation_labelstudio_output/annotation_{MODEL}_{FEW_SHOT}_{N_EXAMPLES}.json\", 'r') as json_file:\n",
    "    synthetic_data = json.load(json_file)    "
   ]
  },
  {
   "cell_type": "code",
   "execution_count": 96,
   "metadata": {},
   "outputs": [],
   "source": [
    "synth_llm_labels = []\n",
    "for split_id in range(5):\n",
    "    with open(f\"../07 train classifier/synth/{MODEL}/{FEW_SHOT}/split_{split_id}.json\", 'r') as json_file:\n",
    "       synthetic_data_split = json.load(json_file)\n",
    "       for example in  synthetic_data_split:\n",
    "           synth_llm_labels.append(example)    "
   ]
  },
  {
   "cell_type": "code",
   "execution_count": 97,
   "metadata": {},
   "outputs": [],
   "source": [
    "# ground truth - annotations\n",
    "synth_annotated = format_json(synthetic_data)\n",
    "synth_annotated_ids = [example[\"id\"] for example in synth_annotated]\n",
    "\n",
    "# label from llm\n",
    "synth_llm_labels = [example for example in synth_llm_labels if example[\"id\"] in synth_annotated_ids]\n",
    "def get_index(example):\n",
    "    return synth_annotated_ids.index(example[\"id\"])\n",
    "synth_llm_labels = sorted(synth_llm_labels, key=get_index)"
   ]
  },
  {
   "cell_type": "code",
   "execution_count": 98,
   "metadata": {},
   "outputs": [
    {
     "data": {
      "text/plain": [
       "25"
      ]
     },
     "execution_count": 98,
     "metadata": {},
     "output_type": "execute_result"
    }
   ],
   "source": [
    "len(synth_llm_labels)"
   ]
  },
  {
   "cell_type": "code",
   "execution_count": 106,
   "metadata": {},
   "outputs": [
    {
     "data": {
      "text/plain": [
       "([], 'Wir würden wiederkommen.')"
      ]
     },
     "execution_count": 106,
     "metadata": {},
     "output_type": "execute_result"
    }
   ],
   "source": [
    "synth_annotated[1][\"tags\"], synth_annotated[1][\"text\"]"
   ]
  },
  {
   "cell_type": "code",
   "execution_count": 107,
   "metadata": {},
   "outputs": [
    {
     "data": {
      "text/plain": [
       "([{'text': None,\n",
       "   'start': 0,\n",
       "   'end': 0,\n",
       "   'tag_with_polarity': 'GENERAL-IMPRESSION-NEUTRAL',\n",
       "   'tag_with_polarity_and_type': 'GENERAL-IMPRESSION-NEUTRAL-implicit',\n",
       "   'type': 'label-implicit',\n",
       "   'label': 'GENERAL-IMPRESSION',\n",
       "   'polarity': 'NEUTRAL'}],\n",
       " 'Wir würden wiederkommen.')"
      ]
     },
     "execution_count": 107,
     "metadata": {},
     "output_type": "execute_result"
    }
   ],
   "source": [
    "synth_llm_labels[1][\"tags\"], synth_llm_labels[1][\"text\"]"
   ]
  },
  {
   "cell_type": "code",
   "execution_count": null,
   "metadata": {},
   "outputs": [],
   "source": []
  }
 ],
 "metadata": {
  "kernelspec": {
   "display_name": "tensorflow_m1",
   "language": "python",
   "name": "python3"
  },
  "language_info": {
   "codemirror_mode": {
    "name": "ipython",
    "version": 3
   },
   "file_extension": ".py",
   "mimetype": "text/x-python",
   "name": "python",
   "nbconvert_exporter": "python",
   "pygments_lexer": "ipython3",
   "version": "3.11.3"
  }
 },
 "nbformat": 4,
 "nbformat_minor": 2
}
