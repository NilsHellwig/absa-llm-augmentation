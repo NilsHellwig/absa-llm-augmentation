{
 "cells": [
  {
   "cell_type": "markdown",
   "metadata": {},
   "source": [
    "# Notebook: Analyse Language"
   ]
  },
  {
   "cell_type": "markdown",
   "metadata": {},
   "source": [
    "## Packages"
   ]
  },
  {
   "cell_type": "code",
   "execution_count": 75,
   "metadata": {},
   "outputs": [],
   "source": [
    "from spacy.lang.de.stop_words import STOP_WORDS\n",
    "from nltk.tokenize import word_tokenize\n",
    "from collections import Counter\n",
    "import random\n",
    "import numpy as np"
   ]
  },
  {
   "cell_type": "markdown",
   "metadata": {},
   "source": [
    "## Settings"
   ]
  },
  {
   "cell_type": "code",
   "execution_count": 76,
   "metadata": {},
   "outputs": [],
   "source": [
    "random.seed(42)"
   ]
  },
  {
   "cell_type": "markdown",
   "metadata": {},
   "source": [
    "## Constants"
   ]
  },
  {
   "cell_type": "code",
   "execution_count": 77,
   "metadata": {},
   "outputs": [],
   "source": [
    "ASPECT_CATEGORIES = [\"GENERAL-IMPRESSION\",\n",
    "                     \"FOOD\", \"SERVICE\", \"AMBIENCE\", \"PRICE\"]\n",
    "LLMS = [\"GPT-3\", \"Llama70B\"]\n",
    "FS_CONDITIONS = [\"fixed\", \"random\"]\n",
    "PROMPTING_ENCODING = {\"fixed\": \"LRS\\\\textsubscript{25}\",\n",
    "                      \"random\": \"LRS\\\\textsubscript{500}\"}"
   ]
  },
  {
   "cell_type": "markdown",
   "metadata": {},
   "source": [
    "## Code"
   ]
  },
  {
   "cell_type": "markdown",
   "metadata": {},
   "source": [
    "### Load Datasets"
   ]
  },
  {
   "cell_type": "code",
   "execution_count": 78,
   "metadata": {},
   "outputs": [],
   "source": [
    "dataset = {\"synth\": {}, \"real\": []}\n",
    "\n",
    "# Load Synth\n",
    "for llm in LLMS:\n",
    "    dataset[\"synth\"][llm] = {}\n",
    "    for prompting in FS_CONDITIONS:\n",
    "        dataset[\"synth\"][llm][prompting] = []\n",
    "        for split in range(5):\n",
    "            with open(f\"../07 train models/synth/{llm}/{prompting}/split_{split}.json\", 'r', encoding='utf-8') as json_file:\n",
    "                split_data = json.load(json_file)\n",
    "            dataset[\"synth\"][llm][prompting].append(split_data)\n",
    "\n",
    "# Load Real\n",
    "for split in range(5):\n",
    "    with open(f\"../07 train models/real/split_{split}.json\", 'r', encoding='utf-8') as json_file:\n",
    "        split_data = json.load(json_file)\n",
    "    dataset[\"real\"].append(split_data)\n"
   ]
  },
  {
   "cell_type": "markdown",
   "metadata": {},
   "source": [
    "### Count Avg Number of Words"
   ]
  },
  {
   "cell_type": "code",
   "execution_count": 79,
   "metadata": {},
   "outputs": [],
   "source": [
    "def convert_label_string(label):\n",
    "    return \"\\\\begin{tabular}[c]{@{}l@{}}{[}\" + \" \\\\\\\\ \".join([\"\\\\texttt{\"+str(tuple(t))+\"}\" for t in label]) + \"{]}\\\\end{tabular}\"\n",
    "    #return \"\\\\texttt{\" + str([str(tuple(t)) for t in label]).replace(\"[\", \"{[}\").replace(\"]\", \"{]}\") + \"}\""
   ]
  },
  {
   "cell_type": "code",
   "execution_count": 80,
   "metadata": {},
   "outputs": [],
   "source": [
    "def wrap_text(text, max_line_length=95):\n",
    "    words = text.split()\n",
    "    rows = []\n",
    "    current_line = \"\"\n",
    "\n",
    "    for word in words:\n",
    "        if len(current_line) + len(word) + 1 <= max_line_length:\n",
    "            current_line += word + \" \"\n",
    "        else:\n",
    "            rows.append(current_line.strip())\n",
    "            current_line = word + \" \"\n",
    "\n",
    "    if current_line:\n",
    "        rows.append(current_line.strip())\n",
    "\n",
    "    rows = [\"\\\\texttt{\" + row + \"}\" for row in rows]\n",
    "\n",
    "\n",
    "    return \"\\\\begin{tabular}[c]{@{}l@{}}\" + \" \\\\\\\\ \".join(rows).replace(\"<\", \"\\\\textless{}\").replace(\">\", \"\\\\textgreater{}\") + \"\\\\end{tabular}\""
   ]
  },
  {
   "cell_type": "code",
   "execution_count": 81,
   "metadata": {},
   "outputs": [
    {
     "name": "stdout",
     "output_type": "stream",
     "text": [
      "GPT-3 fixed \n",
      "\n",
      "\n",
      "\\textbf{\\texttt{GENERAL-IMPRESSION}} & \\\\ \\hline\n",
      "\\begin{tabular}[c]{@{}l@{}}{[}\\texttt{('AMBIENCE', 'POSITIVE')} \\\\ \\texttt{('GENERAL-IMPRESSION', 'POSITIVE')}{]}\\end{tabular} & \\begin{tabular}[c]{@{}l@{}}\\texttt{Eine schöne \\textless{}aspect-term aspect=\"AMBIENCE\" polarity=\"POSITIVE\"\\textgreater{}Atmosphäre\\textless{}/aspect-term\\textgreater{} und} \\\\ \\texttt{insgesamt ein tolles \\textless{}aspect-term aspect=\"GENERAL-IMPRESSION\"} \\\\ \\texttt{polarity=\"POSITIVE\"\\textgreater{}Erlebnis\\textless{}/aspect-term\\textgreater{}.}\\end{tabular} \\\\\n",
      "\\arrayrulecolor{gray}\\hline\n",
      "\\begin{tabular}[c]{@{}l@{}}{[}\\texttt{('GENERAL-IMPRESSION', 'POSITIVE')}{]}\\end{tabular} & \\begin{tabular}[c]{@{}l@{}}\\texttt{Das \\textless{}aspect-term aspect=\"GENERAL-IMPRESSION\" polarity=\"POSITIVE\"\\textgreater{}Restaurant\\textless{}/aspect-term\\textgreater{} hat} \\\\ \\texttt{einen positiven Gesamteindruck.}\\end{tabular} \\\\\n",
      "\\arrayrulecolor{gray}\\hline\n",
      "\\textbf{\\texttt{FOOD}} & \\\\ \\hline\n",
      "\\begin{tabular}[c]{@{}l@{}}{[}\\texttt{('AMBIENCE', 'NEGATIVE')} \\\\ \\texttt{('FOOD', 'NEUTRAL')}{]}\\end{tabular} & \\begin{tabular}[c]{@{}l@{}}\\texttt{Das \\textless{}aspect-term aspect=\"AMBIENCE\" polarity=\"NEGATIVE\"\\textgreater{}Ambiente\\textless{}/aspect-term\\textgreater{} war nicht} \\\\ \\texttt{besonders ansprechend, aber das \\textless{}aspect-term aspect=\"FOOD\"} \\\\ \\texttt{polarity=\"NEUTRAL\"\\textgreater{}Essen\\textless{}/aspect-term\\textgreater{} war in Ordnung.}\\end{tabular} \\\\\n",
      "\\arrayrulecolor{gray}\\hline\n",
      "\\begin{tabular}[c]{@{}l@{}}{[}\\texttt{('FOOD', 'POSITIVE')}{]}\\end{tabular} & \\begin{tabular}[c]{@{}l@{}}\\texttt{Das \\textless{}aspect-term aspect=\"FOOD\" polarity=\"POSITIVE\"\\textgreater{}Essen\\textless{}/aspect-term\\textgreater{} war köstlich.}\\end{tabular} \\\\\n",
      "\\arrayrulecolor{gray}\\hline\n",
      "\\textbf{\\texttt{SERVICE}} & \\\\ \\hline\n",
      "\\begin{tabular}[c]{@{}l@{}}{[}\\texttt{('SERVICE', 'POSITIVE')}{]}\\end{tabular} & \\begin{tabular}[c]{@{}l@{}}\\texttt{Das \\textless{}aspect-term aspect=\"SERVICE\" polarity=\"POSITIVE\"\\textgreater{}Personal\\textless{}/aspect-term\\textgreater{} war sehr} \\\\ \\texttt{freundlich und aufmerksam.}\\end{tabular} \\\\\n",
      "\\arrayrulecolor{gray}\\hline\n",
      "\\begin{tabular}[c]{@{}l@{}}{[}\\texttt{('SERVICE', 'POSITIVE')}{]}\\end{tabular} & \\begin{tabular}[c]{@{}l@{}}\\texttt{Der \\textless{}aspect-term aspect=\"SERVICE\" polarity=\"POSITIVE\"\\textgreater{}Service\\textless{}/aspect-term\\textgreater{} war sehr} \\\\ \\texttt{aufmerksam und freundlich.}\\end{tabular} \\\\\n",
      "\\arrayrulecolor{gray}\\hline\n",
      "\\textbf{\\texttt{AMBIENCE}} & \\\\ \\hline\n",
      "\\begin{tabular}[c]{@{}l@{}}{[}\\texttt{('AMBIENCE', 'POSITIVE')}{]}\\end{tabular} & \\begin{tabular}[c]{@{}l@{}}\\texttt{Das \\textless{}aspect-term aspect=\"AMBIENCE\" polarity=\"POSITIVE\"\\textgreater{}Ambiente\\textless{}/aspect-term\\textgreater{} ist sehr} \\\\ \\texttt{ansprechend.}\\end{tabular} \\\\\n",
      "\\arrayrulecolor{gray}\\hline\n",
      "\\begin{tabular}[c]{@{}l@{}}{[}\\texttt{('PRICE', 'POSITIVE')} \\\\ \\texttt{('AMBIENCE', 'POSITIVE')}{]}\\end{tabular} & \\begin{tabular}[c]{@{}l@{}}\\texttt{Das \\textless{}aspect-term aspect=\"PRICE\" polarity=\"POSITIVE\"\\textgreater{}Preis-Leistungsverhältnis\\textless{}/aspect-term\\textgreater{}} \\\\ \\texttt{ist angemessen und das \\textless{}aspect-term aspect=\"AMBIENCE\"} \\\\ \\texttt{polarity=\"POSITIVE\"\\textgreater{}Ambiente\\textless{}/aspect-term\\textgreater{} ist sehr ansprechend.}\\end{tabular} \\\\\n",
      "\\arrayrulecolor{gray}\\hline\n",
      "\\textbf{\\texttt{PRICE}} & \\\\ \\hline\n",
      "\\begin{tabular}[c]{@{}l@{}}{[}\\texttt{('FOOD', 'NEGATIVE')} \\\\ \\texttt{('PRICE', 'POSITIVE')}{]}\\end{tabular} & \\begin{tabular}[c]{@{}l@{}}\\texttt{Das \\textless{}aspect-term aspect=\"FOOD\" polarity=\"NEGATIVE\"\\textgreater{}Essen\\textless{}/aspect-term\\textgreater{} war enttäuschend, aber} \\\\ \\texttt{die \\textless{}aspect-term aspect=\"PRICE\" polarity=\"POSITIVE\"\\textgreater{}Preise\\textless{}/aspect-term\\textgreater{} waren angemessen.}\\end{tabular} \\\\\n",
      "\\arrayrulecolor{gray}\\hline\n",
      "\\begin{tabular}[c]{@{}l@{}}{[}\\texttt{('PRICE', 'NEUTRAL')} \\\\ \\texttt{('SERVICE', 'NEUTRAL')}{]}\\end{tabular} & \\begin{tabular}[c]{@{}l@{}}\\texttt{Das \\textless{}aspect-term aspect=\"PRICE\" polarity=\"NEUTRAL\"\\textgreater{}Preis-Leistungs-Verhältnis\\textless{}/aspect-term\\textgreater{}} \\\\ \\texttt{und der \\textless{}aspect-term aspect=\"SERVICE\" polarity=\"NEUTRAL\"\\textgreater{}Service\\textless{}/aspect-term\\textgreater{} waren in} \\\\ \\texttt{Ordnung.}\\end{tabular} \\\\\n",
      "\n",
      "\n",
      "\n",
      "GPT-3 random \n",
      "\n",
      "\n",
      "\\textbf{\\texttt{GENERAL-IMPRESSION}} & \\\\ \\hline\n",
      "\\begin{tabular}[c]{@{}l@{}}{[}\\texttt{('SERVICE', 'NEGATIVE')} \\\\ \\texttt{('FOOD', 'POSITIVE')} \\\\ \\texttt{('GENERAL-IMPRESSION', 'NEUTRAL')} \\\\ \\texttt{('GENERAL-IMPRESSION', 'POSITIVE')} \\\\ \\texttt{('SERVICE', 'POSITIVE')}{]}\\end{tabular} & \\begin{tabular}[c]{@{}l@{}}\\texttt{Der \\textless{}aspect-term aspect=\"SERVICE\" polarity=\"NEGATIVE\"\\textgreater{}Service\\textless{}/aspect-term\\textgreater{} war enttäuschend,} \\\\ \\texttt{aber das \\textless{}aspect-term aspect=\"FOOD\" polarity=\"POSITIVE\"\\textgreater{}Essen\\textless{}/aspect-term\\textgreater{} war gut und} \\\\ \\texttt{insgesamt hatte ich eine neutrale bis positive \\textless{}aspect-term aspect=\"GENERAL-IMPRESSION\"} \\\\ \\texttt{polarity=\"NEUTRAL\"\\textgreater{}Gesamteindruck\\textless{}/aspect-term\\textgreater{} vom Restaurant.}\\end{tabular} \\\\\n",
      "\\arrayrulecolor{gray}\\hline\n",
      "\\begin{tabular}[c]{@{}l@{}}{[}\\texttt{('PRICE', 'POSITIVE')} \\\\ \\texttt{('FOOD', 'POSITIVE')} \\\\ \\texttt{('GENERAL-IMPRESSION', 'NEGATIVE')} \\\\ \\texttt{('GENERAL-IMPRESSION', 'NEGATIVE')}{]}\\end{tabular} & \\begin{tabular}[c]{@{}l@{}}\\texttt{Das \\textless{}aspect-term aspect=\"PRICE\" polarity=\"POSITIVE\"\\textgreater{}Preis-Leistungs-Verhältnis\\textless{}/aspect-term\\textgreater{}} \\\\ \\texttt{war gut, das \\textless{}aspect-term aspect=\"FOOD\" polarity=\"POSITIVE\"\\textgreater{}Essen\\textless{}/aspect-term\\textgreater{} hat uns} \\\\ \\texttt{geschmeckt, aber insgesamt waren wir enttäuscht über das \\textless{}aspect-term} \\\\ \\texttt{aspect=\"GENERAL-IMPRESSION\" polarity=\"NEGATIVE\"\\textgreater{}Restaurant\\textless{}/aspect-term\\textgreater{}.}\\end{tabular} \\\\\n",
      "\\arrayrulecolor{gray}\\hline\n",
      "\\textbf{\\texttt{FOOD}} & \\\\ \\hline\n",
      "\\begin{tabular}[c]{@{}l@{}}{[}\\texttt{('GENERAL-IMPRESSION', 'NEGATIVE')} \\\\ \\texttt{('PRICE', 'POSITIVE')} \\\\ \\texttt{('FOOD', 'NEUTRAL')}{]}\\end{tabular} & \\begin{tabular}[c]{@{}l@{}}\\texttt{Das \\textless{}aspect-term aspect=\"GENERAL-IMPRESSION\" polarity=\"NEGATIVE\"\\textgreater{}Restaurant\\textless{}/aspect-term\\textgreater{} war} \\\\ \\texttt{enttäuschend, aber das \\textless{}aspect-term aspect=\"PRICE\"} \\\\ \\texttt{polarity=\"POSITIVE\"\\textgreater{}Preis-Leistungs-Verhältnis\\textless{}/aspect-term\\textgreater{} war in Ordnung und das} \\\\ \\texttt{\\textless{}aspect-term aspect=\"FOOD\" polarity=\"NEUTRAL\"\\textgreater{}Essen\\textless{}/aspect-term\\textgreater{} war okay.}\\end{tabular} \\\\\n",
      "\\arrayrulecolor{gray}\\hline\n",
      "\\begin{tabular}[c]{@{}l@{}}{[}\\texttt{('GENERAL-IMPRESSION', 'NEGATIVE')} \\\\ \\texttt{('SERVICE', 'NEGATIVE')} \\\\ \\texttt{('SERVICE', 'NEUTRAL')} \\\\ \\texttt{('FOOD', 'POSITIVE')}{]}\\end{tabular} & \\begin{tabular}[c]{@{}l@{}}\\texttt{Der \\textless{}aspect-term aspect=\"FOOD\" polarity=\"POSITIVE\"\\textgreater{}Geschmack\\textless{}/aspect-term\\textgreater{} des Essens war gut,} \\\\ \\texttt{aber der \\textless{}aspect-term aspect=\"SERVICE\" polarity=\"NEGATIVE\"\\textgreater{}Service\\textless{}/aspect-term\\textgreater{} ließ zu} \\\\ \\texttt{wünschen übrig.}\\end{tabular} \\\\\n",
      "\\arrayrulecolor{gray}\\hline\n",
      "\\textbf{\\texttt{SERVICE}} & \\\\ \\hline\n",
      "\\begin{tabular}[c]{@{}l@{}}{[}\\texttt{('SERVICE', 'POSITIVE')}{]}\\end{tabular} & \\begin{tabular}[c]{@{}l@{}}\\texttt{Der \\textless{}aspect-term aspect=\"SERVICE\" polarity=\"POSITIVE\"\\textgreater{}Service\\textless{}/aspect-term\\textgreater{} war ausgezeichnet.}\\end{tabular} \\\\\n",
      "\\arrayrulecolor{gray}\\hline\n",
      "\\begin{tabular}[c]{@{}l@{}}{[}\\texttt{('FOOD', 'POSITIVE')} \\\\ \\texttt{('FOOD', 'NEGATIVE')} \\\\ \\texttt{('SERVICE', 'NEUTRAL')}{]}\\end{tabular} & \\begin{tabular}[c]{@{}l@{}}\\texttt{Das \\textless{}aspect-term aspect=\"FOOD\" polarity=\"POSITIVE\"\\textgreater{}Essen\\textless{}/aspect-term\\textgreater{} war lecker, aber der} \\\\ \\texttt{\\textless{}aspect-term aspect=\"FOOD\" polarity=\"NEGATIVE\"\\textgreater{}Burger\\textless{}/aspect-term\\textgreater{} war enttäuschend und der} \\\\ \\texttt{\\textless{}aspect-term aspect=\"SERVICE\" polarity=\"NEUTRAL\"\\textgreater{}Service\\textless{}/aspect-term\\textgreater{} war in Ordnung.}\\end{tabular} \\\\\n",
      "\\arrayrulecolor{gray}\\hline\n",
      "\\textbf{\\texttt{AMBIENCE}} & \\\\ \\hline\n",
      "\\begin{tabular}[c]{@{}l@{}}{[}\\texttt{('AMBIENCE', 'POSITIVE')} \\\\ \\texttt{('AMBIENCE', 'NEGATIVE')}{]}\\end{tabular} & \\begin{tabular}[c]{@{}l@{}}\\texttt{Die \\textless{}aspect-term aspect=\"AMBIENCE\" polarity=\"POSITIVE\"\\textgreater{}Einrichtung\\textless{}/aspect-term\\textgreater{} war sehr} \\\\ \\texttt{schön, aber die \\textless{}aspect-term aspect=\"AMBIENCE\" polarity=\"NEGATIVE\"\\textgreater{}Musik\\textless{}/aspect-term\\textgreater{} war zu} \\\\ \\texttt{laut.}\\end{tabular} \\\\\n",
      "\\arrayrulecolor{gray}\\hline\n",
      "\\begin{tabular}[c]{@{}l@{}}{[}\\texttt{('AMBIENCE', 'NEGATIVE')}{]}\\end{tabular} & \\begin{tabular}[c]{@{}l@{}}\\texttt{Das \\textless{}aspect-term aspect=\"AMBIENCE\" polarity=\"NEGATIVE\"\\textgreater{}Restaurant\\textless{}/aspect-term\\textgreater{} war sehr laut} \\\\ \\texttt{und ungemütlich.}\\end{tabular} \\\\\n",
      "\\arrayrulecolor{gray}\\hline\n",
      "\\textbf{\\texttt{PRICE}} & \\\\ \\hline\n",
      "\\begin{tabular}[c]{@{}l@{}}{[}\\texttt{('PRICE', 'NEGATIVE')}{]}\\end{tabular} & \\begin{tabular}[c]{@{}l@{}}\\texttt{Die \\textless{}aspect-term aspect=\"PRICE\" polarity=\"NEGATIVE\"\\textgreater{}Preise\\textless{}/aspect-term\\textgreater{} sind viel zu hoch für} \\\\ \\texttt{das Gebotene.}\\end{tabular} \\\\\n",
      "\\arrayrulecolor{gray}\\hline\n",
      "\\begin{tabular}[c]{@{}l@{}}{[}\\texttt{('PRICE', 'NEUTRAL')}{]}\\end{tabular} & \\begin{tabular}[c]{@{}l@{}}\\texttt{Die \\textless{}aspect-term aspect=\"PRICE\" polarity=\"NEUTRAL\"\\textgreater{}Preise\\textless{}/aspect-term\\textgreater{} sind angemessen.}\\end{tabular} \\\\\n",
      "\n",
      "\n",
      "\n",
      "Llama70B fixed \n",
      "\n",
      "\n",
      "\\textbf{\\texttt{GENERAL-IMPRESSION}} & \\\\ \\hline\n",
      "\\begin{tabular}[c]{@{}l@{}}{[}\\texttt{('GENERAL-IMPRESSION', 'NEUTRAL')}{]}\\end{tabular} & \\begin{tabular}[c]{@{}l@{}}\\texttt{Ein schönes \\textless{}aspect-term aspect=\"GENERAL-IMPRESSION\"} \\\\ \\texttt{polarity=\"NEUTRAL\"\\textgreater{}Restaurant\\textless{}/aspect-term\\textgreater{}.}\\end{tabular} \\\\\n",
      "\\arrayrulecolor{gray}\\hline\n",
      "\\begin{tabular}[c]{@{}l@{}}{[}\\texttt{('GENERAL-IMPRESSION', 'NEGATIVE')}{]}\\end{tabular} & \\begin{tabular}[c]{@{}l@{}}\\texttt{Aber das \\textless{}aspect-term aspect=\"GENERAL-IMPRESSION\" polarity=\"NEGATIVE\"\\textgreater{}Lokal\\textless{}/aspect-term\\textgreater{} war} \\\\ \\texttt{wirklich nicht gut.}\\end{tabular} \\\\\n",
      "\\arrayrulecolor{gray}\\hline\n",
      "\\textbf{\\texttt{FOOD}} & \\\\ \\hline\n",
      "\\begin{tabular}[c]{@{}l@{}}{[}\\texttt{('GENERAL-IMPRESSION', 'NEUTRAL')} \\\\ \\texttt{('FOOD', 'POSITIVE')} \\\\ \\texttt{('FOOD', 'NEGATIVE')} \\\\ \\texttt{('PRICE', 'NEGATIVE')} \\\\ \\texttt{('FOOD', 'NEGATIVE')}{]}\\end{tabular} & \\begin{tabular}[c]{@{}l@{}}\\texttt{Der \\textless{}aspect-term aspect=\"GENERAL-IMPRESSION\" polarity=\"NEUTRAL\"\\textgreater{}Aufenthalt\\textless{}/aspect-term\\textgreater{} war} \\\\ \\texttt{sehr angenehm, das \\textless{}aspect-term aspect=\"FOOD\" polarity=\"POSITIVE\"\\textgreater{}Essen\\textless{}/aspect-term\\textgreater{} super} \\\\ \\texttt{lecker, aber auch teuer.}\\end{tabular} \\\\\n",
      "\\arrayrulecolor{gray}\\hline\n",
      "\\begin{tabular}[c]{@{}l@{}}{[}\\texttt{('GENERAL-IMPRESSION', 'NEUTRAL')} \\\\ \\texttt{('FOOD', 'NEGATIVE')} \\\\ \\texttt{('GENERAL-IMPRESSION', 'POSITIVE')}{]}\\end{tabular} & \\begin{tabular}[c]{@{}l@{}}\\texttt{\\textless{}aspect-term aspect=\"GENERAL-IMPRESSION\" polarity=\"NEUTRAL\"\\textgreater{}Alles in allem\\textless{}/aspect-term\\textgreater{} ein} \\\\ \\texttt{gutes \\textless{}aspect-term aspect=\"FOOD\" polarity=\"NEGATIVE\"\\textgreater{}Essen\\textless{}/aspect-term\\textgreater{}, aber nicht das} \\\\ \\texttt{Beste, was ich je hatte.}\\end{tabular} \\\\\n",
      "\\arrayrulecolor{gray}\\hline\n",
      "\\textbf{\\texttt{SERVICE}} & \\\\ \\hline\n",
      "\\begin{tabular}[c]{@{}l@{}}{[}\\texttt{('PRICE', 'NEUTRAL')} \\\\ \\texttt{('GENERAL-IMPRESSION', 'NEUTRAL')} \\\\ \\texttt{('SERVICE', 'NEUTRAL')}{]}\\end{tabular} & \\begin{tabular}[c]{@{}l@{}}\\texttt{Das \\textless{}aspect-term aspect=\"PRICE\" polarity=\"NEUTRAL\"\\textgreater{}Preisniveau\\textless{}/aspect-term\\textgreater{} ist in Ordnung,} \\\\ \\texttt{ebenso das \\textless{}aspect-term aspect=\"GENERAL-IMPRESSION\" polarity=\"NEUTRAL\"\\textgreater{}Ambiente\\textless{}/aspect-term\\textgreater{},} \\\\ \\texttt{wenn auch nicht ganz so gemütlich wie im \\textless{}aspect-term aspect=\"SERVICE\"} \\\\ \\texttt{polarity=\"NEUTRAL\"\\textgreater{}Zimmer\\textless{}/aspect-term\\textgreater{} oben.}\\end{tabular} \\\\\n",
      "\\arrayrulecolor{gray}\\hline\n",
      "\\begin{tabular}[c]{@{}l@{}}{[}\\texttt{('SERVICE', 'NEUTRAL')}{]}\\end{tabular} & \\begin{tabular}[c]{@{}l@{}}\\texttt{Der \\textless{}aspect-term aspect=\"SERVICE\" polarity=\"NEUTRAL\"\\textgreater{}Service\\textless{}/aspect-term\\textgreater{} war gut, aber nicht} \\\\ \\texttt{perfekt.}\\end{tabular} \\\\\n",
      "\\arrayrulecolor{gray}\\hline\n",
      "\\textbf{\\texttt{AMBIENCE}} & \\\\ \\hline\n",
      "\\begin{tabular}[c]{@{}l@{}}{[}\\texttt{('AMBIENCE', 'POSITIVE')}{]}\\end{tabular} & \\begin{tabular}[c]{@{}l@{}}\\texttt{Das \\textless{}aspect-term aspect=\"AMBIENCE\" polarity=\"POSITIVE\"\\textgreater{}Ambiente\\textless{}/aspect-term\\textgreater{} ist sehr schön.}\\end{tabular} \\\\\n",
      "\\arrayrulecolor{gray}\\hline\n",
      "\\begin{tabular}[c]{@{}l@{}}{[}\\texttt{('AMBIENCE', 'NEUTRAL')}{]}\\end{tabular} & \\begin{tabular}[c]{@{}l@{}}\\texttt{Das \\textless{}aspect-term aspect=\"AMBIENCE\" polarity=\"NEUTRAL\"\\textgreater{}Ambiente\\textless{}/aspect-term\\textgreater{} ist ein wenig} \\\\ \\texttt{überladen, aber in der Tat schön und das Essen war sehr lecker.}\\end{tabular} \\\\\n",
      "\\arrayrulecolor{gray}\\hline\n",
      "\\textbf{\\texttt{PRICE}} & \\\\ \\hline\n",
      "\\begin{tabular}[c]{@{}l@{}}{[}\\texttt{('PRICE', 'NEGATIVE')} \\\\ \\texttt{('AMBIENCE', 'POSITIVE')} \\\\ \\texttt{('FOOD', 'NEUTRAL')}{]}\\end{tabular} & \\begin{tabular}[c]{@{}l@{}}\\texttt{\\textless{}aspect-term aspect=\"PRICE\" polarity=\"NEGATIVE\"\\textgreater{}Preise\\textless{}/aspect-term\\textgreater{} sind sehr hoch,} \\\\ \\texttt{\\textless{}aspect-term aspect=\"AMBIENCE\" polarity=\"POSITIVE\"\\textgreater{}Ambiente\\textless{}/aspect-term\\textgreater{} ist gut,} \\\\ \\texttt{\\textless{}aspect-term aspect=\"FOOD\" polarity=\"NEUTRAL\"\\textgreater{}Essen\\textless{}/aspect-term\\textgreater{} ist solide.}\\end{tabular} \\\\\n",
      "\\arrayrulecolor{gray}\\hline\n",
      "\\begin{tabular}[c]{@{}l@{}}{[}\\texttt{('PRICE', 'NEGATIVE')} \\\\ \\texttt{('PRICE', 'NEUTRAL')} \\\\ \\texttt{('SERVICE', 'NEUTRAL')}{]}\\end{tabular} & \\begin{tabular}[c]{@{}l@{}}\\texttt{Die \\textless{}aspect-term aspect=\"PRICE\" polarity=\"NEGATIVE\"\\textgreater{}Preise\\textless{}/aspect-term\\textgreater{} sind eher hoch, aber} \\\\ \\texttt{das Essen ist wirklich lecker und die \\textless{}aspect-term aspect=\"SERVICE\"} \\\\ \\texttt{polarity=\"NEUTRAL\"\\textgreater{}Bedienung\\textless{}/aspect-term\\textgreater{} war auch sehr freundlich.}\\end{tabular} \\\\\n",
      "\n",
      "\n",
      "\n",
      "Llama70B random \n",
      "\n",
      "\n",
      "\\textbf{\\texttt{GENERAL-IMPRESSION}} & \\\\ \\hline\n",
      "\\begin{tabular}[c]{@{}l@{}}{[}\\texttt{('GENERAL-IMPRESSION', 'NEGATIVE')}{]}\\end{tabular} & \\begin{tabular}[c]{@{}l@{}}\\texttt{Dieses \\textless{}aspect-term aspect=\"GENERAL-IMPRESSION\" polarity=\"NEGATIVE\"\\textgreater{}Restaurant\\textless{}/aspect-term\\textgreater{}} \\\\ \\texttt{ist einfach nur schlecht.}\\end{tabular} \\\\\n",
      "\\arrayrulecolor{gray}\\hline\n",
      "\\begin{tabular}[c]{@{}l@{}}{[}\\texttt{('GENERAL-IMPRESSION', 'POSITIVE')}{]}\\end{tabular} & \\begin{tabular}[c]{@{}l@{}}\\texttt{Die \\textless{}aspect-term aspect=\"GENERAL-IMPRESSION\" polarity=\"POSITIVE\"\\textgreater{}Küche\\textless{}/aspect-term\\textgreater{} ist gut,} \\\\ \\texttt{das Essen schmeckt.}\\end{tabular} \\\\\n",
      "\\arrayrulecolor{gray}\\hline\n",
      "\\textbf{\\texttt{FOOD}} & \\\\ \\hline\n",
      "\\begin{tabular}[c]{@{}l@{}}{[}\\texttt{('FOOD', 'NEUTRAL')}{]}\\end{tabular} & \\begin{tabular}[c]{@{}l@{}}\\texttt{Das \\textless{}aspect-term aspect=\"FOOD\" polarity=\"NEUTRAL\"\\textgreater{}Essen\\textless{}/aspect-term\\textgreater{} war aber leider eher} \\\\ \\texttt{mittelmäßig.}\\end{tabular} \\\\\n",
      "\\arrayrulecolor{gray}\\hline\n",
      "\\begin{tabular}[c]{@{}l@{}}{[}\\texttt{('FOOD', 'NEUTRAL')}{]}\\end{tabular} & \\begin{tabular}[c]{@{}l@{}}\\texttt{Das \\textless{}aspect-term aspect=\"FOOD\" polarity=\"NEUTRAL\"\\textgreater{}Essen\\textless{}/aspect-term\\textgreater{} war lecker, aber die} \\\\ \\texttt{Portionen etwas klein.}\\end{tabular} \\\\\n",
      "\\arrayrulecolor{gray}\\hline\n",
      "\\textbf{\\texttt{SERVICE}} & \\\\ \\hline\n",
      "\\begin{tabular}[c]{@{}l@{}}{[}\\texttt{('SERVICE', 'NEUTRAL')}{]}\\end{tabular} & \\begin{tabular}[c]{@{}l@{}}\\texttt{Die \\textless{}aspect-term aspect=\"SERVICE\" polarity=\"NEUTRAL\"\\textgreater{}Bedienung\\textless{}/aspect-term\\textgreater{} war in Ordnung.}\\end{tabular} \\\\\n",
      "\\arrayrulecolor{gray}\\hline\n",
      "\\begin{tabular}[c]{@{}l@{}}{[}\\texttt{('SERVICE', 'POSITIVE')} \\\\ \\texttt{('PRICE', 'POSITIVE')}{]}\\end{tabular} & \\begin{tabular}[c]{@{}l@{}}\\texttt{Super nette und freundliche \\textless{}aspect-term aspect=\"SERVICE\"} \\\\ \\texttt{polarity=\"POSITIVE\"\\textgreater{}Bedienung\\textless{}/aspect-term\\textgreater{}, \\textless{}aspect-term aspect=\"PRICE\"} \\\\ \\texttt{polarity=\"POSITIVE\"\\textgreater{}Preis / Leistung\\textless{}/aspect-term\\textgreater{} stimmt.}\\end{tabular} \\\\\n",
      "\\arrayrulecolor{gray}\\hline\n",
      "\\textbf{\\texttt{AMBIENCE}} & \\\\ \\hline\n",
      "\\begin{tabular}[c]{@{}l@{}}{[}\\texttt{('AMBIENCE', 'NEUTRAL')}{]}\\end{tabular} & \\begin{tabular}[c]{@{}l@{}}\\texttt{Die \\textless{}aspect-term aspect=\"AMBIENCE\" polarity=\"NEUTRAL\"\\textgreater{}Atmosphäre\\textless{}/aspect-term\\textgreater{} ist eher} \\\\ \\texttt{bescheiden.}\\end{tabular} \\\\\n",
      "\\arrayrulecolor{gray}\\hline\n",
      "\\begin{tabular}[c]{@{}l@{}}{[}\\texttt{('FOOD', 'NEGATIVE')} \\\\ \\texttt{('AMBIENCE', 'POSITIVE')}{]}\\end{tabular} & \\begin{tabular}[c]{@{}l@{}}\\texttt{Das \\textless{}aspect-term aspect=\"FOOD\" polarity=\"NEGATIVE\"\\textgreater{}Essen\\textless{}/aspect-term\\textgreater{} war nicht gut, das} \\\\ \\texttt{\\textless{}aspect-term aspect=\"AMBIENCE\" polarity=\"POSITIVE\"\\textgreater{}Ambiente\\textless{}/aspect-term\\textgreater{} sehr schön.}\\end{tabular} \\\\\n",
      "\\arrayrulecolor{gray}\\hline\n",
      "\\textbf{\\texttt{PRICE}} & \\\\ \\hline\n",
      "\\begin{tabular}[c]{@{}l@{}}{[}\\texttt{('PRICE', 'NEUTRAL')}{]}\\end{tabular} & \\begin{tabular}[c]{@{}l@{}}\\texttt{Das \\textless{}aspect-term aspect=\"PRICE\" polarity=\"NEUTRAL\"\\textgreater{}Essen\\textless{}/aspect-term\\textgreater{} war gut, aber nicht der} \\\\ \\texttt{Hammer.}\\end{tabular} \\\\\n",
      "\\arrayrulecolor{gray}\\hline\n",
      "\\begin{tabular}[c]{@{}l@{}}{[}\\texttt{('PRICE', 'NEGATIVE')}{]}\\end{tabular} & \\begin{tabular}[c]{@{}l@{}}\\texttt{Wir kamen um 12 Uhr, wollten das \\textless{}aspect-term aspect=\"PRICE\"} \\\\ \\texttt{polarity=\"NEGATIVE\"\\textgreater{}Essen\\textless{}/aspect-term\\textgreater{} probieren.}\\end{tabular} \\\\\n",
      "\n",
      "\n",
      "\n"
     ]
    }
   ],
   "source": [
    "shown_ids = []\n",
    "k = 0\n",
    "for llm in LLMS:\n",
    "    for prompting in FS_CONDITIONS:\n",
    "        print(llm, prompting, \"\\n\\n\")\n",
    "        for ac_idx, aspect_category in enumerate(ASPECT_CATEGORIES):\n",
    "            print(\"\\\\textbf{\\\\texttt{\"+aspect_category+\"}} & \\\\\\\\ \\\\hline\")\n",
    "            for i in range(2):\n",
    "                random_split_idx = random.choice(range(0,5))\n",
    "                k+=1\n",
    "                examples = [example for example in dataset[\"synth\"][llm][prompting][random_split_idx] if aspect_category in [\n",
    "                    tag[\"label\"] for tag in example[\"tags\"] if tag[\"type\"] == \"label-explicit\"] if example[\"id\"] not in shown_ids]\n",
    "                \n",
    "                random_example = random.choice(examples)\n",
    "                print(convert_label_string(random_example[\"llm_label\"]), \"&\", wrap_text(random_example[\"llm_prediction_raw\"]), \"\\\\\\\\\")\n",
    "                if k % 10 != 0:\n",
    "                   print(\"\\\\arrayrulecolor{gray}\\\\hline\")\n",
    "        print(\"\\n\\n\")"
   ]
  },
  {
   "cell_type": "code",
   "execution_count": null,
   "metadata": {},
   "outputs": [],
   "source": []
  }
 ],
 "metadata": {
  "kernelspec": {
   "display_name": "tensorflow_m1",
   "language": "python",
   "name": "python3"
  },
  "language_info": {
   "codemirror_mode": {
    "name": "ipython",
    "version": 3
   },
   "file_extension": ".py",
   "mimetype": "text/x-python",
   "name": "python",
   "nbconvert_exporter": "python",
   "pygments_lexer": "ipython3",
   "version": "3.11.3"
  }
 },
 "nbformat": 4,
 "nbformat_minor": 2
}
