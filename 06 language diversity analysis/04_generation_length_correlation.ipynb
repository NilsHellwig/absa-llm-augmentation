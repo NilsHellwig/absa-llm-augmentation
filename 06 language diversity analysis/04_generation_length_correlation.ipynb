{
 "cells": [
  {
   "cell_type": "markdown",
   "metadata": {},
   "source": [
    "# Notebook: Correlation between Generation Length and Example Length"
   ]
  },
  {
   "cell_type": "markdown",
   "metadata": {},
   "source": [
    "## Packages"
   ]
  },
  {
   "cell_type": "code",
   "execution_count": 30,
   "metadata": {},
   "outputs": [],
   "source": [
    "import spacy\n",
    "import random\n",
    "import json\n",
    "import nltk\n",
    "from nltk.tokenize import word_tokenize\n",
    "from scipy.stats import pearsonr\n",
    "import numpy as np"
   ]
  },
  {
   "cell_type": "markdown",
   "metadata": {},
   "source": [
    "## Settings"
   ]
  },
  {
   "cell_type": "code",
   "execution_count": 8,
   "metadata": {},
   "outputs": [],
   "source": [
    "FS_CONDITIONS = [\"fixed\", \"random\"]\n",
    "LLMS = [\"Llama70B\", \"GPT-3\"]\n",
    "RANDOM_STATE = 43\n",
    "N_FOLDS = 6"
   ]
  },
  {
   "cell_type": "code",
   "execution_count": 9,
   "metadata": {},
   "outputs": [
    {
     "name": "stderr",
     "output_type": "stream",
     "text": [
      "[nltk_data] Downloading package punkt to\n",
      "[nltk_data]     /Users/nils_hellwig/nltk_data...\n",
      "[nltk_data]   Package punkt is already up-to-date!\n"
     ]
    }
   ],
   "source": [
    "nlp = spacy.load(\"de_core_news_lg\")\n",
    "nltk.download('punkt')\n",
    "random.seed(RANDOM_STATE)"
   ]
  },
  {
   "cell_type": "markdown",
   "metadata": {},
   "source": [
    "## Code"
   ]
  },
  {
   "cell_type": "code",
   "execution_count": 10,
   "metadata": {},
   "outputs": [],
   "source": [
    "def count_tokens(sentence):\n",
    "    tokens = word_tokenize(sentence, language='german')\n",
    "    return len(tokens)"
   ]
  },
  {
   "cell_type": "code",
   "execution_count": 11,
   "metadata": {},
   "outputs": [],
   "source": [
    "dataset_raw = {\"synth\": {}}\n",
    "\n",
    "# Load Synth\n",
    "for llm in LLMS:\n",
    "    dataset_raw[\"synth\"][llm] = {}\n",
    "    for prompting in FS_CONDITIONS:\n",
    "        dataset_raw[\"synth\"][llm][prompting] = []\n",
    "        for split in range(N_FOLDS):\n",
    "            with open(f\"../07 train models/synth/{llm}/{prompting}/split_{split}.json\", 'r', encoding='utf-8') as json_file:\n",
    "                split_data = json.load(json_file)\n",
    "            dataset_raw[\"synth\"][llm][prompting].append(split_data)"
   ]
  },
  {
   "cell_type": "code",
   "execution_count": 21,
   "metadata": {},
   "outputs": [],
   "source": [
    "def calculate_avg_len_fs_examples(llm_examples):\n",
    "    return np.mean([count_tokens(example[\"text\"]) for example in llm_examples])"
   ]
  },
  {
   "cell_type": "code",
   "execution_count": 24,
   "metadata": {},
   "outputs": [],
   "source": [
    "llm_prediction_size_vs_fs_length = {\"synth\": {}}"
   ]
  },
  {
   "cell_type": "code",
   "execution_count": 25,
   "metadata": {},
   "outputs": [],
   "source": [
    "for llm in LLMS:\n",
    "    llm_prediction_size_vs_fs_length[\"synth\"][llm] = {}\n",
    "    for prompting in FS_CONDITIONS:\n",
    "        llm_prediction_size_vs_fs_length[\"synth\"][llm][prompting] = {\n",
    "            \"output_length\": [], \"fs_length\": []}\n",
    "        for k in range(N_FOLDS):\n",
    "            examples = [example for example in dataset_raw[\"synth\"]\n",
    "                        [llm][prompting][k]]\n",
    "\n",
    "            # 1. Calculate Output Length\n",
    "            llm_prediction_size_vs_fs_length[\"synth\"][llm][prompting][\"output_length\"] += [count_tokens(example[\"text\"])\n",
    "                              for example in examples]\n",
    "\n",
    "            # 2. Calculate AVG Length of Examples in Prompt\n",
    "            llm_prediction_size_vs_fs_length[\"synth\"][llm][prompting][\"fs_length\"] += [calculate_avg_len_fs_examples(\n",
    "                example[\"llm_examples\"]) for example in examples]"
   ]
  },
  {
   "cell_type": "code",
   "execution_count": 33,
   "metadata": {},
   "outputs": [
    {
     "name": "stdout",
     "output_type": "stream",
     "text": [
      "Korrelationskoeffizient: 0.10757225908593293\n",
      "P-Wert: 1.40369409201301e-24\n"
     ]
    }
   ],
   "source": [
    "if len(llm_prediction_size_vs_fs_length[\"synth\"][\"Llama70B\"][\"random\"][\"fs_length\"]) == len(llm_prediction_size_vs_fs_length[\"synth\"][\"Llama70B\"][\"random\"][\"output_length\"]):\n",
    "    correlation_coefficient, p_value = pearsonr(llm_prediction_size_vs_fs_length[\"synth\"][\"Llama70B\"][\"random\"][\"fs_length\"], llm_prediction_size_vs_fs_length[\"synth\"][\"Llama70B\"][\"random\"][\"output_length\"])\n",
    "    \n",
    "    print(f\"Korrelationskoeffizient: {correlation_coefficient}\")\n",
    "    print(f\"P-Wert: {p_value}\")\n",
    "else:\n",
    "    print(\"Die Listen haben unterschiedliche Längen.\")\n"
   ]
  },
  {
   "cell_type": "code",
   "execution_count": 35,
   "metadata": {},
   "outputs": [
    {
     "name": "stdout",
     "output_type": "stream",
     "text": [
      "Llama70B fixed\n",
      "---------------\n",
      "Korrelationskoeffizient: 0.08928389554115965\n",
      "P-Wert: 2.0828235134130387e-22\n",
      "\n",
      "\n",
      "Llama70B random\n",
      "---------------\n",
      "Korrelationskoeffizient: 0.10757225908593293\n",
      "P-Wert: 1.40369409201301e-24\n",
      "\n",
      "\n",
      "GPT-3 fixed\n",
      "---------------\n",
      "Korrelationskoeffizient: 0.02265962642670147\n",
      "P-Wert: 0.013635258958982356\n",
      "\n",
      "\n",
      "GPT-3 random\n",
      "---------------\n",
      "Korrelationskoeffizient: 0.06803880820220079\n",
      "P-Wert: 1.0379387352151512e-10\n",
      "\n",
      "\n"
     ]
    }
   ],
   "source": [
    "for llm in LLMS:\n",
    "    for prompting in FS_CONDITIONS:\n",
    "        correlation_coefficient, p_value = pearsonr(llm_prediction_size_vs_fs_length[\"synth\"][llm][prompting][\"fs_length\"], llm_prediction_size_vs_fs_length[\"synth\"][llm][prompting][\"output_length\"])\n",
    "        print(llm, prompting)\n",
    "        print(\"---------------\")\n",
    "        print(f\"Korrelationskoeffizient: {correlation_coefficient}\")\n",
    "        print(f\"P-Wert: {p_value}\")\n",
    "        print(\"\\n\")\n",
    "   "
   ]
  }
 ],
 "metadata": {
  "kernelspec": {
   "display_name": "tensorflow_m1",
   "language": "python",
   "name": "python3"
  },
  "language_info": {
   "codemirror_mode": {
    "name": "ipython",
    "version": 3
   },
   "file_extension": ".py",
   "mimetype": "text/x-python",
   "name": "python",
   "nbconvert_exporter": "python",
   "pygments_lexer": "ipython3",
   "version": "3.11.3"
  }
 },
 "nbformat": 4,
 "nbformat_minor": 2
}
