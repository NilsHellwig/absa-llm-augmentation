{
 "cells": [
  {
   "cell_type": "markdown",
   "metadata": {},
   "source": [
    "# Notebook: Analyse Language"
   ]
  },
  {
   "cell_type": "markdown",
   "metadata": {},
   "source": [
    "## Packages"
   ]
  },
  {
   "cell_type": "code",
   "execution_count": 1,
   "metadata": {},
   "outputs": [],
   "source": [
    "from spacy.lang.de.stop_words import STOP_WORDS\n",
    "from nltk.tokenize import word_tokenize\n",
    "from collections import Counter\n",
    "import random\n",
    "import numpy as np\n",
    "import json"
   ]
  },
  {
   "cell_type": "markdown",
   "metadata": {},
   "source": [
    "## Settings"
   ]
  },
  {
   "cell_type": "code",
   "execution_count": 2,
   "metadata": {},
   "outputs": [],
   "source": [
    "random.seed(42)"
   ]
  },
  {
   "cell_type": "markdown",
   "metadata": {},
   "source": [
    "## Constants"
   ]
  },
  {
   "cell_type": "code",
   "execution_count": 3,
   "metadata": {},
   "outputs": [],
   "source": [
    "ASPECT_CATEGORIES = [\"GENERAL-IMPRESSION\",\n",
    "                     \"FOOD\", \"SERVICE\", \"AMBIENCE\", \"PRICE\"]\n",
    "LLMS = [\"GPT-3\", \"Llama3_70B\"]\n",
    "FS_CONDITIONS = [\"fixed\", \"random\"]\n",
    "PROMPTING_ENCODING = {\"fixed\": \"LRS\\\\textsubscript{25}\",\n",
    "                      \"random\": \"LRS\\\\textsubscript{500}\"}"
   ]
  },
  {
   "cell_type": "markdown",
   "metadata": {},
   "source": [
    "## Code"
   ]
  },
  {
   "cell_type": "markdown",
   "metadata": {},
   "source": [
    "### Load Datasets"
   ]
  },
  {
   "cell_type": "code",
   "execution_count": 4,
   "metadata": {},
   "outputs": [],
   "source": [
    "dataset = {\"synth\": {}, \"real\": []}\n",
    "\n",
    "# Load Synth\n",
    "for llm in LLMS:\n",
    "    dataset[\"synth\"][llm] = {}\n",
    "    for prompting in FS_CONDITIONS:\n",
    "        dataset[\"synth\"][llm][prompting] = []\n",
    "        for split in range(6):\n",
    "            with open(f\"../07 train models/synth/{llm}/{prompting}/split_{split}.json\", 'r', encoding='utf-8') as json_file:\n",
    "                split_data = json.load(json_file)\n",
    "            dataset[\"synth\"][llm][prompting].append(split_data)\n",
    "\n",
    "# Load Real\n",
    "for split in range(6):\n",
    "    with open(f\"../07 train models/real/split_{split}.json\", 'r', encoding='utf-8') as json_file:\n",
    "        split_data = json.load(json_file)\n",
    "    dataset[\"real\"].append(split_data)\n"
   ]
  },
  {
   "cell_type": "markdown",
   "metadata": {},
   "source": [
    "### Count Avg Number of Words"
   ]
  },
  {
   "cell_type": "code",
   "execution_count": 5,
   "metadata": {},
   "outputs": [],
   "source": [
    "def convert_label_string(label):\n",
    "    return \"\\\\begin{tabular}[c]{@{}l@{}}{[}\" + \" \\\\\\\\ \".join([\"\\\\texttt{\"+str(tuple(t))+\"}\" for t in label]) + \"{]}\\\\end{tabular}\"\n",
    "    #return \"\\\\texttt{\" + str([str(tuple(t)) for t in label]).replace(\"[\", \"{[}\").replace(\"]\", \"{]}\") + \"}\""
   ]
  },
  {
   "cell_type": "code",
   "execution_count": 6,
   "metadata": {},
   "outputs": [],
   "source": [
    "def wrap_text(text, max_line_length=95):\n",
    "    words = text.split()\n",
    "    rows = []\n",
    "    current_line = \"\"\n",
    "\n",
    "    for word in words:\n",
    "        if len(current_line) + len(word) + 1 <= max_line_length:\n",
    "            current_line += word + \" \"\n",
    "        else:\n",
    "            rows.append(current_line.strip())\n",
    "            current_line = word + \" \"\n",
    "\n",
    "    if current_line:\n",
    "        rows.append(current_line.strip())\n",
    "\n",
    "    rows = [\"\\\\texttt{\" + row + \"}\" for row in rows]\n",
    "\n",
    "\n",
    "    return \"\\\\begin{tabular}[c]{@{}l@{}}\" + \" \\\\\\\\ \".join(rows).replace(\"<\", \"\\\\textless{}\").replace(\">\", \"\\\\textgreater{}\") + \"\\\\end{tabular}\""
   ]
  },
  {
   "cell_type": "code",
   "execution_count": 7,
   "metadata": {},
   "outputs": [
    {
     "name": "stdout",
     "output_type": "stream",
     "text": [
      "GPT-3 fixed \n",
      "\n",
      "\n",
      "\\textbf{\\texttt{GENERAL-IMPRESSION}} & \\\\ \\hline\n",
      "\\begin{tabular}[c]{@{}l@{}}{[}\\texttt{('SERVICE', 'NEUTRAL')} \\\\ \\texttt{('PRICE', 'POSITIVE')} \\\\ \\texttt{('PRICE', 'NEGATIVE')} \\\\ \\texttt{('GENERAL-IMPRESSION', 'POSITIVE')} \\\\ \\texttt{('AMBIENCE', 'NEGATIVE')} \\\\ \\texttt{('PRICE', 'NEUTRAL')}{]}\\end{tabular} & \\begin{tabular}[c]{@{}l@{}}\\texttt{Der \\textless{}aspect-term aspect=\"SERVICE\" polarity=\"NEUTRAL\"\\textgreater{}Service\\textless{}/aspect-term\\textgreater{} war in Ordnung, die} \\\\ \\texttt{\\textless{}aspect-term aspect=\"PRICE\" polarity=\"POSITIVE\"\\textgreater{}Preise\\textless{}/aspect-term\\textgreater{} für einige Gerichte waren} \\\\ \\texttt{angemessen, für andere jedoch zu hoch, insgesamt war der \\textless{}aspect-term} \\\\ \\texttt{aspect=\"GENERAL-IMPRESSION\" polarity=\"POSITIVE\"\\textgreater{}Eindruck\\textless{}/aspect-term\\textgreater{} aber positiv, das} \\\\ \\texttt{\\textless{}aspect-term aspect=\"AMBIENCE\" polarity=\"NEGATIVE\"\\textgreater{}Ambiente\\textless{}/aspect-term\\textgreater{} war leider etwas} \\\\ \\texttt{ungemütlich und die \\textless{}aspect-term aspect=\"PRICE\"} \\\\ \\texttt{polarity=\"NEUTRAL\"\\textgreater{}Preis-Leistung\\textless{}/aspect-term\\textgreater{} stimmte nicht.}\\end{tabular} \\\\\n",
      "\\arrayrulecolor{gray}\\hline\n",
      "\\begin{tabular}[c]{@{}l@{}}{[}\\texttt{('FOOD', 'NEGATIVE')} \\\\ \\texttt{('GENERAL-IMPRESSION', 'NEGATIVE')} \\\\ \\texttt{('SERVICE', 'NEUTRAL')} \\\\ \\texttt{('GENERAL-IMPRESSION', 'POSITIVE')} \\\\ \\texttt{('FOOD', 'NEGATIVE')}{]}\\end{tabular} & \\begin{tabular}[c]{@{}l@{}}\\texttt{Das \\textless{}aspect-term aspect=\"FOOD\" polarity=\"NEGATIVE\"\\textgreater{}Essen\\textless{}/aspect-term\\textgreater{} war enttäuschend und} \\\\ \\texttt{insgesamt war der \\textless{}aspect-term aspect=\"GENERAL-IMPRESSION\"} \\\\ \\texttt{polarity=\"NEGATIVE\"\\textgreater{}Eindruck\\textless{}/aspect-term\\textgreater{} nicht gut, der \\textless{}aspect-term aspect=\"SERVICE\"} \\\\ \\texttt{polarity=\"NEUTRAL\"\\textgreater{}Service\\textless{}/aspect-term\\textgreater{} war in Ordnung, aber das \\textless{}aspect-term} \\\\ \\texttt{aspect=\"GENERAL-IMPRESSION\" polarity=\"POSITIVE\"\\textgreater{}Essen\\textless{}/aspect-term\\textgreater{} war wiederum nicht gut.}\\end{tabular} \\\\\n",
      "\\arrayrulecolor{gray}\\hline\n",
      "\\textbf{\\texttt{FOOD}} & \\\\ \\hline\n",
      "\\begin{tabular}[c]{@{}l@{}}{[}\\texttt{('SERVICE', 'NEUTRAL')} \\\\ \\texttt{('FOOD', 'NEGATIVE')}{]}\\end{tabular} & \\begin{tabular}[c]{@{}l@{}}\\texttt{Der \\textless{}aspect-term aspect=\"SERVICE\" polarity=\"NEUTRAL\"\\textgreater{}Service\\textless{}/aspect-term\\textgreater{} war okay, aber das} \\\\ \\texttt{\\textless{}aspect-term aspect=\"FOOD\" polarity=\"NEGATIVE\"\\textgreater{}Essen\\textless{}/aspect-term\\textgreater{} hat mir nicht geschmeckt.}\\end{tabular} \\\\\n",
      "\\arrayrulecolor{gray}\\hline\n",
      "\\begin{tabular}[c]{@{}l@{}}{[}\\texttt{('FOOD', 'NEUTRAL')}{]}\\end{tabular} & \\begin{tabular}[c]{@{}l@{}}\\texttt{Das \\textless{}aspect-term aspect=\"FOOD\" polarity=\"NEUTRAL\"\\textgreater{}Essen\\textless{}/aspect-term\\textgreater{} war okay.}\\end{tabular} \\\\\n",
      "\\arrayrulecolor{gray}\\hline\n",
      "\\textbf{\\texttt{SERVICE}} & \\\\ \\hline\n",
      "\\begin{tabular}[c]{@{}l@{}}{[}\\texttt{('FOOD', 'NEGATIVE')} \\\\ \\texttt{('SERVICE', 'NEUTRAL')} \\\\ \\texttt{('AMBIENCE', 'POSITIVE')}{]}\\end{tabular} & \\begin{tabular}[c]{@{}l@{}}\\texttt{Das \\textless{}aspect-term aspect=\"FOOD\" polarity=\"NEGATIVE\"\\textgreater{}Essen\\textless{}/aspect-term\\textgreater{} war enttäuschend, der} \\\\ \\texttt{\\textless{}aspect-term aspect=\"SERVICE\" polarity=\"NEUTRAL\"\\textgreater{}Service\\textless{}/aspect-term\\textgreater{} war in Ordnung und das} \\\\ \\texttt{\\textless{}aspect-term aspect=\"AMBIENCE\" polarity=\"POSITIVE\"\\textgreater{}Ambiente\\textless{}/aspect-term\\textgreater{} war schön.}\\end{tabular} \\\\\n",
      "\\arrayrulecolor{gray}\\hline\n",
      "\\begin{tabular}[c]{@{}l@{}}{[}\\texttt{('SERVICE', 'POSITIVE')} \\\\ \\texttt{('FOOD', 'POSITIVE')} \\\\ \\texttt{('SERVICE', 'POSITIVE')} \\\\ \\texttt{('GENERAL-IMPRESSION', 'NEGATIVE')}{]}\\end{tabular} & \\begin{tabular}[c]{@{}l@{}}\\texttt{Der \\textless{}aspect-term aspect=\"SERVICE\" polarity=\"POSITIVE\"\\textgreater{}Service\\textless{}/aspect-term\\textgreater{} und das} \\\\ \\texttt{\\textless{}aspect-term aspect=\"FOOD\" polarity=\"POSITIVE\"\\textgreater{}Essen\\textless{}/aspect-term\\textgreater{} waren ausgezeichnet, aber} \\\\ \\texttt{insgesamt waren wir von unserem Besuch enttäuscht.}\\end{tabular} \\\\\n",
      "\\arrayrulecolor{gray}\\hline\n",
      "\\textbf{\\texttt{AMBIENCE}} & \\\\ \\hline\n",
      "\\begin{tabular}[c]{@{}l@{}}{[}\\texttt{('AMBIENCE', 'NEGATIVE')}{]}\\end{tabular} & \\begin{tabular}[c]{@{}l@{}}\\texttt{Das \\textless{}aspect-term aspect=\"AMBIENCE\" polarity=\"NEGATIVE\"\\textgreater{}Ambiente\\textless{}/aspect-term\\textgreater{} war} \\\\ \\texttt{enttäuschend.}\\end{tabular} \\\\\n",
      "\\arrayrulecolor{gray}\\hline\n",
      "\\begin{tabular}[c]{@{}l@{}}{[}\\texttt{('AMBIENCE', 'NEGATIVE')}{]}\\end{tabular} & \\begin{tabular}[c]{@{}l@{}}\\texttt{Die \\textless{}aspect-term aspect=\"AMBIENCE\" polarity=\"NEGATIVE\"\\textgreater{}Musik\\textless{}/aspect-term\\textgreater{} war viel zu laut} \\\\ \\texttt{und störend.}\\end{tabular} \\\\\n",
      "\\arrayrulecolor{gray}\\hline\n",
      "\\textbf{\\texttt{PRICE}} & \\\\ \\hline\n",
      "\\begin{tabular}[c]{@{}l@{}}{[}\\texttt{('PRICE', 'POSITIVE')} \\\\ \\texttt{('PRICE', 'POSITIVE')}{]}\\end{tabular} & \\begin{tabular}[c]{@{}l@{}}\\texttt{Die \\textless{}aspect-term aspect=\"PRICE\" polarity=\"POSITIVE\"\\textgreater{}Preise\\textless{}/aspect-term\\textgreater{} sind angemessen und} \\\\ \\texttt{das \\textless{}aspect-term aspect=\"PRICE\" polarity=\"POSITIVE\"\\textgreater{}Preis-Leistungs-Verhältnis\\textless{}/aspect-term\\textgreater{}} \\\\ \\texttt{stimmt.}\\end{tabular} \\\\\n",
      "\\arrayrulecolor{gray}\\hline\n",
      "\\begin{tabular}[c]{@{}l@{}}{[}\\texttt{('PRICE', 'POSITIVE')}{]}\\end{tabular} & \\begin{tabular}[c]{@{}l@{}}\\texttt{Die \\textless{}aspect-term aspect=\"PRICE\" polarity=\"POSITIVE\"\\textgreater{}Preise\\textless{}/aspect-term\\textgreater{} waren angemessen.}\\end{tabular} \\\\\n",
      "\n",
      "\n",
      "\n",
      "GPT-3 random \n",
      "\n",
      "\n",
      "\\textbf{\\texttt{GENERAL-IMPRESSION}} & \\\\ \\hline\n",
      "\\begin{tabular}[c]{@{}l@{}}{[}\\texttt{('GENERAL-IMPRESSION', 'POSITIVE')} \\\\ \\texttt{('SERVICE', 'POSITIVE')} \\\\ \\texttt{('SERVICE', 'POSITIVE')}{]}\\end{tabular} & \\begin{tabular}[c]{@{}l@{}}\\texttt{Das \\textless{}aspect-term aspect=\"SERVICE\" polarity=\"POSITIVE\"\\textgreater{}Personal\\textless{}/aspect-term\\textgreater{} war sehr} \\\\ \\texttt{freundlich und aufmerksam und insgesamt hatten wir einen positiven Eindruck vom \\textless{}aspect-term} \\\\ \\texttt{aspect=\"GENERAL-IMPRESSION\" polarity=\"POSITIVE\"\\textgreater{}Restaurant\\textless{}/aspect-term\\textgreater{}.}\\end{tabular} \\\\\n",
      "\\arrayrulecolor{gray}\\hline\n",
      "\\begin{tabular}[c]{@{}l@{}}{[}\\texttt{('GENERAL-IMPRESSION', 'NEGATIVE')} \\\\ \\texttt{('FOOD', 'NEGATIVE')}{]}\\end{tabular} & \\begin{tabular}[c]{@{}l@{}}\\texttt{Das \\textless{}aspect-term aspect=\"GENERAL-IMPRESSION\" polarity=\"NEGATIVE\"\\textgreater{}Restaurant\\textless{}/aspect-term\\textgreater{} war} \\\\ \\texttt{enttäuschend und das \\textless{}aspect-term aspect=\"FOOD\" polarity=\"NEGATIVE\"\\textgreater{}Essen\\textless{}/aspect-term\\textgreater{} war} \\\\ \\texttt{nicht gut.}\\end{tabular} \\\\\n",
      "\\arrayrulecolor{gray}\\hline\n",
      "\\textbf{\\texttt{FOOD}} & \\\\ \\hline\n",
      "\\begin{tabular}[c]{@{}l@{}}{[}\\texttt{('FOOD', 'NEGATIVE')}{]}\\end{tabular} & \\begin{tabular}[c]{@{}l@{}}\\texttt{Das \\textless{}aspect-term aspect=\"FOOD\" polarity=\"NEGATIVE\"\\textgreater{}Essen\\textless{}/aspect-term\\textgreater{} war leider} \\\\ \\texttt{enttäuschend.}\\end{tabular} \\\\\n",
      "\\arrayrulecolor{gray}\\hline\n",
      "\\begin{tabular}[c]{@{}l@{}}{[}\\texttt{('GENERAL-IMPRESSION', 'NEGATIVE')} \\\\ \\texttt{('PRICE', 'POSITIVE')} \\\\ \\texttt{('FOOD', 'NEUTRAL')}{]}\\end{tabular} & \\begin{tabular}[c]{@{}l@{}}\\texttt{Das \\textless{}aspect-term aspect=\"GENERAL-IMPRESSION\" polarity=\"NEGATIVE\"\\textgreater{}Restaurant\\textless{}/aspect-term\\textgreater{} war} \\\\ \\texttt{enttäuschend, aber das \\textless{}aspect-term aspect=\"PRICE\"} \\\\ \\texttt{polarity=\"POSITIVE\"\\textgreater{}Preis-Leistungs-Verhältnis\\textless{}/aspect-term\\textgreater{} war in Ordnung und das} \\\\ \\texttt{\\textless{}aspect-term aspect=\"FOOD\" polarity=\"NEUTRAL\"\\textgreater{}Essen\\textless{}/aspect-term\\textgreater{} war okay.}\\end{tabular} \\\\\n",
      "\\arrayrulecolor{gray}\\hline\n",
      "\\textbf{\\texttt{SERVICE}} & \\\\ \\hline\n",
      "\\begin{tabular}[c]{@{}l@{}}{[}\\texttt{('FOOD', 'NEGATIVE')} \\\\ \\texttt{('PRICE', 'NEGATIVE')} \\\\ \\texttt{('SERVICE', 'NEGATIVE')}{]}\\end{tabular} & \\begin{tabular}[c]{@{}l@{}}\\texttt{Das \\textless{}aspect-term aspect=\"FOOD\" polarity=\"NEGATIVE\"\\textgreater{}Essen\\textless{}/aspect-term\\textgreater{} war nicht gut, der} \\\\ \\texttt{\\textless{}aspect-term aspect=\"PRICE\" polarity=\"NEGATIVE\"\\textgreater{}Preis\\textless{}/aspect-term\\textgreater{} war zu hoch und der} \\\\ \\texttt{\\textless{}aspect-term aspect=\"SERVICE\" polarity=\"NEGATIVE\"\\textgreater{}Service\\textless{}/aspect-term\\textgreater{} war schlecht.}\\end{tabular} \\\\\n",
      "\\arrayrulecolor{gray}\\hline\n",
      "\\begin{tabular}[c]{@{}l@{}}{[}\\texttt{('SERVICE', 'POSITIVE')}{]}\\end{tabular} & \\begin{tabular}[c]{@{}l@{}}\\texttt{Der \\textless{}aspect-term aspect=\"SERVICE\" polarity=\"POSITIVE\"\\textgreater{}Service\\textless{}/aspect-term\\textgreater{} war ausgezeichnet.}\\end{tabular} \\\\\n",
      "\\arrayrulecolor{gray}\\hline\n",
      "\\textbf{\\texttt{AMBIENCE}} & \\\\ \\hline\n",
      "\\begin{tabular}[c]{@{}l@{}}{[}\\texttt{('AMBIENCE', 'POSITIVE')}{]}\\end{tabular} & \\begin{tabular}[c]{@{}l@{}}\\texttt{Die \\textless{}aspect-term aspect=\"AMBIENCE\" polarity=\"POSITIVE\"\\textgreater{}Atmosphäre\\textless{}/aspect-term\\textgreater{} war sehr} \\\\ \\texttt{angenehm.}\\end{tabular} \\\\\n",
      "\\arrayrulecolor{gray}\\hline\n",
      "\\begin{tabular}[c]{@{}l@{}}{[}\\texttt{('AMBIENCE', 'NEUTRAL')}{]}\\end{tabular} & \\begin{tabular}[c]{@{}l@{}}\\texttt{Das \\textless{}aspect-term aspect=\"AMBIENCE\" polarity=\"NEUTRAL\"\\textgreater{}Ambiente\\textless{}/aspect-term\\textgreater{} war in Ordnung.}\\end{tabular} \\\\\n",
      "\\arrayrulecolor{gray}\\hline\n",
      "\\textbf{\\texttt{PRICE}} & \\\\ \\hline\n",
      "\\begin{tabular}[c]{@{}l@{}}{[}\\texttt{('PRICE', 'NEUTRAL')} \\\\ \\texttt{('AMBIENCE', 'NEUTRAL')}{]}\\end{tabular} & \\begin{tabular}[c]{@{}l@{}}\\texttt{Die \\textless{}aspect-term aspect=\"PRICE\" polarity=\"NEUTRAL\"\\textgreater{}Preise\\textless{}/aspect-term\\textgreater{} sind angemessen und} \\\\ \\texttt{das \\textless{}aspect-term aspect=\"AMBIENCE\" polarity=\"NEUTRAL\"\\textgreater{}Ambiente\\textless{}/aspect-term\\textgreater{} ist okay.}\\end{tabular} \\\\\n",
      "\\arrayrulecolor{gray}\\hline\n",
      "\\begin{tabular}[c]{@{}l@{}}{[}\\texttt{('PRICE', 'POSITIVE')} \\\\ \\texttt{('SERVICE', 'NEGATIVE')} \\\\ \\texttt{('AMBIENCE', 'POSITIVE')}{]}\\end{tabular} & \\begin{tabular}[c]{@{}l@{}}\\texttt{Die \\textless{}aspect-term aspect=\"PRICE\" polarity=\"POSITIVE\"\\textgreater{}Preise\\textless{}/aspect-term\\textgreater{} sind angemessen, aber} \\\\ \\texttt{der \\textless{}aspect-term aspect=\"SERVICE\" polarity=\"NEGATIVE\"\\textgreater{}Service\\textless{}/aspect-term\\textgreater{} könnte verbessert} \\\\ \\texttt{werden und das \\textless{}aspect-term aspect=\"AMBIENCE\" polarity=\"POSITIVE\"\\textgreater{}Ambiente\\textless{}/aspect-term\\textgreater{} ist} \\\\ \\texttt{sehr schön.}\\end{tabular} \\\\\n",
      "\n",
      "\n",
      "\n",
      "Llama3_70B fixed \n",
      "\n",
      "\n",
      "\\textbf{\\texttt{GENERAL-IMPRESSION}} & \\\\ \\hline\n",
      "\\begin{tabular}[c]{@{}l@{}}{[}\\texttt{('PRICE', 'NEUTRAL')} \\\\ \\texttt{('SERVICE', 'POSITIVE')} \\\\ \\texttt{('AMBIENCE', 'NEGATIVE')} \\\\ \\texttt{('SERVICE', 'NEUTRAL')} \\\\ \\texttt{('GENERAL-IMPRESSION', 'POSITIVE')}{]}\\end{tabular} & \\begin{tabular}[c]{@{}l@{}}\\texttt{Die \\textless{}aspect-term aspect=\"PRICE\" polarity=\"NEUTRAL\"\\textgreater{}Preise\\textless{}/aspect-term\\textgreater{} sind angemessen, das} \\\\ \\texttt{\\textless{}aspect-term aspect=\"SERVICE\" polarity=\"POSITIVE\"\\textgreater{}Personal\\textless{}/aspect-term\\textgreater{} sehr freundlich und} \\\\ \\texttt{aufmerksam, die \\textless{}aspect-term aspect=\"AMBIENCE\" polarity=\"NEGATIVE\"\\textgreater{}Atmosphäre\\textless{}/aspect-term\\textgreater{}} \\\\ \\texttt{ist zwar nicht so stilvoll wie in anderen Restaurants der gleichen Preisklasse, aber das} \\\\ \\texttt{\\textless{}aspect-term aspect=\"SERVICE\" polarity=\"NEUTRAL\"\\textgreater{}Servicepersonal\\textless{}/aspect-term\\textgreater{} und die} \\\\ \\texttt{\\textless{}aspect-term aspect=\"GENERAL-IMPRESSION\" polarity=\"POSITIVE\"\\textgreater{}Speisen\\textless{}/aspect-term\\textgreater{} sind gut.}\\end{tabular} \\\\\n",
      "\\arrayrulecolor{gray}\\hline\n",
      "\\begin{tabular}[c]{@{}l@{}}{[}\\texttt{('PRICE', 'NEGATIVE')} \\\\ \\texttt{('GENERAL-IMPRESSION', 'NEGATIVE')} \\\\ \\texttt{('AMBIENCE', 'NEUTRAL')} \\\\ \\texttt{('GENERAL-IMPRESSION', 'NEUTRAL')}{]}\\end{tabular} & \\begin{tabular}[c]{@{}l@{}}\\texttt{Bei dem \\textless{}aspect-term aspect=\"PRICE\" polarity=\"NEGATIVE\"\\textgreater{}Preis\\textless{}/aspect-term\\textgreater{} ist das} \\\\ \\texttt{\\textless{}aspect-term aspect=\"GENERAL-IMPRESSION\" polarity=\"NEGATIVE\"\\textgreater{}Erlebnis\\textless{}/aspect-term\\textgreater{} nicht} \\\\ \\texttt{angemessen, da die \\textless{}aspect-term aspect=\"AMBIENCE\" polarity=\"NEUTRAL\"\\textgreater{}Atmosphäre\\textless{}/aspect-term\\textgreater{}} \\\\ \\texttt{so gar nichts hergibt und das \\textless{}aspect-term aspect=\"GENERAL-IMPRESSION\"} \\\\ \\texttt{polarity=\"NEUTRAL\"\\textgreater{}Essen\\textless{}/aspect-term\\textgreater{} eher durchschnittlich ist.}\\end{tabular} \\\\\n",
      "\\arrayrulecolor{gray}\\hline\n",
      "\\textbf{\\texttt{FOOD}} & \\\\ \\hline\n",
      "\\begin{tabular}[c]{@{}l@{}}{[}\\texttt{('FOOD', 'NEUTRAL')}{]}\\end{tabular} & \\begin{tabular}[c]{@{}l@{}}\\texttt{Das \\textless{}aspect-term aspect=\"FOOD\" polarity=\"NEUTRAL\"\\textgreater{}Essen\\textless{}/aspect-term\\textgreater{} war ganz okay.}\\end{tabular} \\\\\n",
      "\\arrayrulecolor{gray}\\hline\n",
      "\\begin{tabular}[c]{@{}l@{}}{[}\\texttt{('FOOD', 'POSITIVE')} \\\\ \\texttt{('PRICE', 'NEGATIVE')}{]}\\end{tabular} & \\begin{tabular}[c]{@{}l@{}}\\texttt{Die \\textless{}aspect-term aspect=\"FOOD\" polarity=\"POSITIVE\"\\textgreater{}Speisen\\textless{}/aspect-term\\textgreater{} sind sehr lecker, die} \\\\ \\texttt{\\textless{}aspect-term aspect=\"PRICE\" polarity=\"NEGATIVE\"\\textgreater{}Preise\\textless{}/aspect-term\\textgreater{} dafür aber zu hoch.}\\end{tabular} \\\\\n",
      "\\arrayrulecolor{gray}\\hline\n",
      "\\textbf{\\texttt{SERVICE}} & \\\\ \\hline\n",
      "\\begin{tabular}[c]{@{}l@{}}{[}\\texttt{('SERVICE', 'POSITIVE')} \\\\ \\texttt{('SERVICE', 'NEUTRAL')} \\\\ \\texttt{('PRICE', 'POSITIVE')} \\\\ \\texttt{('AMBIENCE', 'NEGATIVE')}{]}\\end{tabular} & \\begin{tabular}[c]{@{}l@{}}\\texttt{Das \\textless{}aspect-term aspect=\"SERVICE\" polarity=\"POSITIVE\"\\textgreater{}Personal\\textless{}/aspect-term\\textgreater{} ist freundlich} \\\\ \\texttt{und zuvorkommend, das \\textless{}aspect-term aspect=\"PRICE\"} \\\\ \\texttt{polarity=\"POSITIVE\"\\textgreater{}Preis-Leistungs-Verhältnis\\textless{}/aspect-term\\textgreater{} stimmt, der \\textless{}aspect-term} \\\\ \\texttt{aspect=\"AMBIENCE\" polarity=\"NEGATIVE\"\\textgreater{}Geruch\\textless{}/aspect-term\\textgreater{} nach Katzenpisse im Eingangsbereich} \\\\ \\texttt{ist aber sehr störend.}\\end{tabular} \\\\\n",
      "\\arrayrulecolor{gray}\\hline\n",
      "\\begin{tabular}[c]{@{}l@{}}{[}\\texttt{('FOOD', 'POSITIVE')} \\\\ \\texttt{('SERVICE', 'POSITIVE')}{]}\\end{tabular} & \\begin{tabular}[c]{@{}l@{}}\\texttt{Die \\textless{}aspect-term aspect=\"FOOD\" polarity=\"POSITIVE\"\\textgreater{}Speisen\\textless{}/aspect-term\\textgreater{} waren sehr gut und} \\\\ \\texttt{die \\textless{}aspect-term aspect=\"SERVICE\" polarity=\"POSITIVE\"\\textgreater{}Bedienung\\textless{}/aspect-term\\textgreater{} war auch} \\\\ \\texttt{freundlich.}\\end{tabular} \\\\\n",
      "\\arrayrulecolor{gray}\\hline\n",
      "\\textbf{\\texttt{AMBIENCE}} & \\\\ \\hline\n",
      "\\begin{tabular}[c]{@{}l@{}}{[}\\texttt{('GENERAL-IMPRESSION', 'POSITIVE')} \\\\ \\texttt{('AMBIENCE', 'POSITIVE')}{]}\\end{tabular} & \\begin{tabular}[c]{@{}l@{}}\\texttt{Der \\textless{}aspect-term aspect=\"GENERAL-IMPRESSION\" polarity=\"POSITIVE\"\\textgreater{}Lokal\\textless{}/aspect-term\\textgreater{} ist} \\\\ \\texttt{wunderbar und das \\textless{}aspect-term aspect=\"AMBIENCE\" polarity=\"POSITIVE\"\\textgreater{}Ambiente\\textless{}/aspect-term\\textgreater{}} \\\\ \\texttt{sehr schön.}\\end{tabular} \\\\\n",
      "\\arrayrulecolor{gray}\\hline\n",
      "\\begin{tabular}[c]{@{}l@{}}{[}\\texttt{('PRICE', 'NEUTRAL')} \\\\ \\texttt{('GENERAL-IMPRESSION', 'NEGATIVE')} \\\\ \\texttt{('FOOD', 'NEUTRAL')} \\\\ \\texttt{('AMBIENCE', 'NEUTRAL')}{]}\\end{tabular} & \\begin{tabular}[c]{@{}l@{}}\\texttt{Der \\textless{}aspect-term aspect=\"PRICE\" polarity=\"NEUTRAL\"\\textgreater{}Preis\\textless{}/aspect-term\\textgreater{} war angemessen, das} \\\\ \\texttt{\\textless{}aspect-term aspect=\"GENERAL-IMPRESSION\" polarity=\"NEGATIVE\"\\textgreater{}Restaurant\\textless{}/aspect-term\\textgreater{} hatte} \\\\ \\texttt{eine schlechte \\textless{}aspect-term aspect=\"AMBIENCE\" polarity=\"NEUTRAL\"\\textgreater{}Atmosphäre\\textless{}/aspect-term\\textgreater{}, die} \\\\ \\texttt{\\textless{}aspect-term aspect=\"FOOD\" polarity=\"NEUTRAL\"\\textgreater{}Speisen\\textless{}/aspect-term\\textgreater{} waren gut.}\\end{tabular} \\\\\n",
      "\\arrayrulecolor{gray}\\hline\n",
      "\\textbf{\\texttt{PRICE}} & \\\\ \\hline\n",
      "\\begin{tabular}[c]{@{}l@{}}{[}\\texttt{('PRICE', 'NEGATIVE')}{]}\\end{tabular} & \\begin{tabular}[c]{@{}l@{}}\\texttt{Ein \\textless{}aspect-term aspect=\"PRICE\" polarity=\"NEGATIVE\"\\textgreater{}Glas Weißwein 0,2l kostet hier 5,60} \\\\ \\texttt{Euro\\textless{}/aspect-term\\textgreater{}}\\end{tabular} \\\\\n",
      "\\arrayrulecolor{gray}\\hline\n",
      "\\begin{tabular}[c]{@{}l@{}}{[}\\texttt{('AMBIENCE', 'NEUTRAL')} \\\\ \\texttt{('PRICE', 'NEGATIVE')} \\\\ \\texttt{('SERVICE', 'NEGATIVE')}{]}\\end{tabular} & \\begin{tabular}[c]{@{}l@{}}\\texttt{Die \\textless{}aspect-term aspect=\"AMBIENCE\" polarity=\"NEUTRAL\"\\textgreater{}Atmosphäre\\textless{}/aspect-term\\textgreater{} ist gut, die} \\\\ \\texttt{\\textless{}aspect-term aspect=\"PRICE\" polarity=\"NEGATIVE\"\\textgreater{}Preise\\textless{}/aspect-term\\textgreater{} sind jedoch für die} \\\\ \\texttt{Qualität der Speisen zu hoch und die \\textless{}aspect-term aspect=\"SERVICE\"} \\\\ \\texttt{polarity=\"NEGATIVE\"\\textgreater{}Bedienung\\textless{}/aspect-term\\textgreater{} ist nicht sehr freundlich.}\\end{tabular} \\\\\n",
      "\n",
      "\n",
      "\n",
      "Llama3_70B random \n",
      "\n",
      "\n",
      "\\textbf{\\texttt{GENERAL-IMPRESSION}} & \\\\ \\hline\n",
      "\\begin{tabular}[c]{@{}l@{}}{[}\\texttt{('AMBIENCE', 'POSITIVE')} \\\\ \\texttt{('FOOD', 'NEUTRAL')} \\\\ \\texttt{('GENERAL-IMPRESSION', 'NEGATIVE')}{]}\\end{tabular} & \\begin{tabular}[c]{@{}l@{}}\\texttt{Das \\textless{}aspect-term aspect=\"AMBIENCE\" polarity=\"POSITIVE\"\\textgreater{}Ambiente\\textless{}/aspect-term\\textgreater{} und das} \\\\ \\texttt{\\textless{}aspect-term aspect=\"FOOD\" polarity=\"NEUTRAL\"\\textgreater{}Essen\\textless{}/aspect-term\\textgreater{} war nicht schlecht, aber die} \\\\ \\texttt{\\textless{}aspect-term aspect=\"GENERAL-IMPRESSION\" polarity=\"NEGATIVE\"\\textgreater{}Geschäftsführung\\textless{}/aspect-term\\textgreater{}} \\\\ \\texttt{ist eine Katastrophe!}\\end{tabular} \\\\\n",
      "\\arrayrulecolor{gray}\\hline\n",
      "\\begin{tabular}[c]{@{}l@{}}{[}\\texttt{('GENERAL-IMPRESSION', 'NEUTRAL')} \\\\ \\texttt{('GENERAL-IMPRESSION', 'POSITIVE')}{]}\\end{tabular} & \\begin{tabular}[c]{@{}l@{}}\\texttt{Ich muss sagen, dass ich von dem \\textless{}aspect-term aspect=\"GENERAL-IMPRESSION\"} \\\\ \\texttt{polarity=\"POSITIVE\"\\textgreater{}Restaurant\\textless{}/aspect-term\\textgreater{} sehr enttäuscht bin.}\\end{tabular} \\\\\n",
      "\\arrayrulecolor{gray}\\hline\n",
      "\\textbf{\\texttt{FOOD}} & \\\\ \\hline\n",
      "\\begin{tabular}[c]{@{}l@{}}{[}\\texttt{('FOOD', 'POSITIVE')} \\\\ \\texttt{('FOOD', 'NEUTRAL')}{]}\\end{tabular} & \\begin{tabular}[c]{@{}l@{}}\\texttt{Der \\textless{}aspect-term aspect=\"FOOD\" polarity=\"POSITIVE\"\\textgreater{}Salat\\textless{}/aspect-term\\textgreater{} war lecker.}\\end{tabular} \\\\\n",
      "\\arrayrulecolor{gray}\\hline\n",
      "\\begin{tabular}[c]{@{}l@{}}{[}\\texttt{('FOOD', 'NEGATIVE')}{]}\\end{tabular} & \\begin{tabular}[c]{@{}l@{}}\\texttt{Das \\textless{}aspect-term aspect=\"FOOD\" polarity=\"NEGATIVE\"\\textgreater{}Essen\\textless{}/aspect-term\\textgreater{} war nicht gut.}\\end{tabular} \\\\\n",
      "\\arrayrulecolor{gray}\\hline\n",
      "\\textbf{\\texttt{SERVICE}} & \\\\ \\hline\n",
      "\\begin{tabular}[c]{@{}l@{}}{[}\\texttt{('SERVICE', 'NEGATIVE')}{]}\\end{tabular} & \\begin{tabular}[c]{@{}l@{}}\\texttt{Das \\textless{}aspect-term aspect=\"SERVICE\" polarity=\"NEGATIVE\"\\textgreater{}Servicepersonal\\textless{}/aspect-term\\textgreater{} war sehr} \\\\ \\texttt{freundlich.}\\end{tabular} \\\\\n",
      "\\arrayrulecolor{gray}\\hline\n",
      "\\begin{tabular}[c]{@{}l@{}}{[}\\texttt{('FOOD', 'NEGATIVE')} \\\\ \\texttt{('SERVICE', 'NEGATIVE')}{]}\\end{tabular} & \\begin{tabular}[c]{@{}l@{}}\\texttt{Das \\textless{}aspect-term aspect=\"FOOD\" polarity=\"NEGATIVE\"\\textgreater{}Essen\\textless{}/aspect-term\\textgreater{} war OK. Der} \\\\ \\texttt{\\textless{}aspect-term aspect=\"SERVICE\" polarity=\"NEGATIVE\"\\textgreater{}Service\\textless{}/aspect-term\\textgreater{} ist aber nicht gut.}\\end{tabular} \\\\\n",
      "\\arrayrulecolor{gray}\\hline\n",
      "\\textbf{\\texttt{AMBIENCE}} & \\\\ \\hline\n",
      "\\begin{tabular}[c]{@{}l@{}}{[}\\texttt{('SERVICE', 'NEUTRAL')} \\\\ \\texttt{('AMBIENCE', 'NEGATIVE')} \\\\ \\texttt{('AMBIENCE', 'NEUTRAL')}{]}\\end{tabular} & \\begin{tabular}[c]{@{}l@{}}\\texttt{Ich finde es nicht schön, wenn man sich in einem Restaurant wie im \\textless{}aspect-term} \\\\ \\texttt{aspect=\"AMBIENCE\" polarity=\"NEGATIVE\"\\textgreater{}Zoo\\textless{}/aspect-term\\textgreater{} fühlt und die Bedienung nur lächelt,} \\\\ \\texttt{aber keine Ahnung hat.}\\end{tabular} \\\\\n",
      "\\arrayrulecolor{gray}\\hline\n",
      "\\begin{tabular}[c]{@{}l@{}}{[}\\texttt{('AMBIENCE', 'NEGATIVE')}{]}\\end{tabular} & \\begin{tabular}[c]{@{}l@{}}\\texttt{Die \\textless{}aspect-term aspect=\"AMBIENCE\" polarity=\"NEGATIVE\"\\textgreater{}Atmosphäre\\textless{}/aspect-term\\textgreater{} war eher wie} \\\\ \\texttt{in einem Imbiss oder einer Kantine.}\\end{tabular} \\\\\n",
      "\\arrayrulecolor{gray}\\hline\n",
      "\\textbf{\\texttt{PRICE}} & \\\\ \\hline\n",
      "\\begin{tabular}[c]{@{}l@{}}{[}\\texttt{('PRICE', 'NEUTRAL')}{]}\\end{tabular} & \\begin{tabular}[c]{@{}l@{}}\\texttt{Die Speisen sind sehr gut und die \\textless{}aspect-term aspect=\"PRICE\"} \\\\ \\texttt{polarity=\"NEUTRAL\"\\textgreater{}Preise\\textless{}/aspect-term\\textgreater{} angemessen.}\\end{tabular} \\\\\n",
      "\\arrayrulecolor{gray}\\hline\n",
      "\\begin{tabular}[c]{@{}l@{}}{[}\\texttt{('PRICE', 'NEUTRAL')}{]}\\end{tabular} & \\begin{tabular}[c]{@{}l@{}}\\texttt{Die \\textless{}aspect-term aspect=\"PRICE\" polarity=\"NEUTRAL\"\\textgreater{}Getränkepreise\\textless{}/aspect-term\\textgreater{} sind ok.}\\end{tabular} \\\\\n",
      "\n",
      "\n",
      "\n"
     ]
    }
   ],
   "source": [
    "shown_ids = []\n",
    "k = 0\n",
    "for llm in LLMS:\n",
    "    for prompting in FS_CONDITIONS:\n",
    "        print(llm, prompting, \"\\n\\n\")\n",
    "        for ac_idx, aspect_category in enumerate(ASPECT_CATEGORIES):\n",
    "            print(\"\\\\textbf{\\\\texttt{\"+aspect_category+\"}} & \\\\\\\\ \\\\hline\")\n",
    "            for i in range(2):\n",
    "                random_split_idx = random.choice(range(0,6))\n",
    "                k+=1\n",
    "                examples = [example for example in dataset[\"synth\"][llm][prompting][random_split_idx] if aspect_category in [\n",
    "                    tag[\"label\"] for tag in example[\"tags\"] if tag[\"type\"] == \"label-explicit\"] if example[\"id\"] not in shown_ids]\n",
    "                \n",
    "                random_example = random.choice(examples)\n",
    "                print(convert_label_string(random_example[\"llm_label\"]), \"&\", wrap_text(random_example[\"llm_prediction_raw\"]), \"\\\\\\\\\")\n",
    "                if k % 10 != 0:\n",
    "                   print(\"\\\\arrayrulecolor{gray}\\\\hline\")\n",
    "        print(\"\\n\\n\")"
   ]
  }
 ],
 "metadata": {
  "kernelspec": {
   "display_name": "tensorflow_m1",
   "language": "python",
   "name": "python3"
  },
  "language_info": {
   "codemirror_mode": {
    "name": "ipython",
    "version": 3
   },
   "file_extension": ".py",
   "mimetype": "text/x-python",
   "name": "python",
   "nbconvert_exporter": "python",
   "pygments_lexer": "ipython3",
   "version": "3.11.3"
  }
 },
 "nbformat": 4,
 "nbformat_minor": 2
}
