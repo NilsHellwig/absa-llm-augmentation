{
 "cells": [
  {
   "cell_type": "code",
   "execution_count": 18,
   "metadata": {},
   "outputs": [],
   "source": [
    "import numpy as np\n",
    "\n",
    "\n",
    "predictions = np.load(\"predictions.npy\")\n",
    "labels = np.load(\"labels.npy\")\n"
   ]
  },
  {
   "cell_type": "code",
   "execution_count": 19,
   "metadata": {},
   "outputs": [],
   "source": [
    "from transformers import AutoTokenizer\n",
    "from datasets import load_metric\n",
    "import numpy as np\n",
    "import constants\n",
    "import nltk\n",
    "\n",
    "\n",
    "def compute_metrics(predictions, labels):\n",
    "    # Evtl später übertragen\n",
    "    tokenizer = AutoTokenizer.from_pretrained(constants.MODEL_NAME_TASD)\n",
    "    metric = load_metric(\"rouge\")\n",
    "    print(predictions)\n",
    "\n",
    "    predictions = np.where(predictions != -100, predictions, tokenizer.pad_token_id)\n",
    "\n",
    "    decoded_preds = tokenizer.batch_decode(\n",
    "        predictions, skip_special_tokens=True)\n",
    "\n",
    "    # Replace -100 in the labels as we can't decode them.\n",
    "    labels = np.where(labels != -100, labels, tokenizer.pad_token_id)\n",
    "    decoded_labels = tokenizer.batch_decode(labels, skip_special_tokens=True)\n",
    "\n",
    "    # Rouge expects a newline after each sentence\n",
    "    decoded_preds = [\"\\n\".join(nltk.sent_tokenize(pred.strip()))\n",
    "                     for pred in decoded_preds]\n",
    "    decoded_labels = [\"\\n\".join(nltk.sent_tokenize(label.strip()))\n",
    "                      for label in decoded_labels]\n",
    "\n",
    "    for i in range(10):\n",
    "        print(\"label:\", decoded_labels[i], len(decoded_labels[i]))\n",
    "        print(\"prediction:\", decoded_preds[i], len(decoded_preds[i]), type(decoded_preds[i]))\n",
    "\n",
    "\n",
    "\n",
    "    # Compute ROUGE scores\n",
    "    result = metric.compute(predictions=decoded_preds, references=decoded_labels,\n",
    "                            use_stemmer=True)\n",
    "\n",
    "    # Extract ROUGE f1 scores\n",
    "    result = {key: value.mid.fmeasure * 100 for key, value in result.items()}\n",
    "\n",
    "    # Add mean generated length to metrics\n",
    "    prediction_lens = [np.count_nonzero(pred != tokenizer.pad_token_id)\n",
    "                       for pred in predictions]\n",
    "    result[\"gen_len\"] = np.mean(prediction_lens)\n",
    "\n",
    "    return {k: round(v, 4) for k, v in result.items()}"
   ]
  },
  {
   "cell_type": "code",
   "execution_count": 20,
   "metadata": {},
   "outputs": [
    {
     "name": "stderr",
     "output_type": "stream",
     "text": [
      "/opt/homebrew/Caskroom/miniforge/base/envs/tensorflow_m1/lib/python3.11/site-packages/transformers/models/t5/tokenization_t5_fast.py:158: FutureWarning: This tokenizer was incorrectly instantiated with a model max length of 512 which will be corrected in Transformers v5.\n",
      "For now, this behavior is kept to avoid breaking backwards compatibility when padding/encoding with `truncation is True`.\n",
      "- Be aware that you SHOULD NOT rely on t5-base automatically truncating your input to 512 when padding/encoding.\n",
      "- If you want to encode/pad to sequences longer than 512 you can either instantiate this tokenizer with `model_max_length` or pass `max_length` when encoding/padding.\n",
      "- To avoid this warning, please instantiate this tokenizer with `model_max_length` set to your preferred value.\n",
      "  warnings.warn(\n"
     ]
    },
    {
     "name": "stdout",
     "output_type": "stream",
     "text": [
      "[[    0  4670   229 ...  -100  -100  -100]\n",
      " [    0  1387   229 ...  -100  -100  -100]\n",
      " [    0 21484    49 ...  -100  -100  -100]\n",
      " ...\n",
      " [    0  4670   229 ...  -100  -100  -100]\n",
      " [    0 11722   229 ...  -100  -100  -100]\n",
      " [    0 21484    49 ...  -100  -100  -100]]\n",
      "label: Preis ist schlecht weil Geld schlecht ist [SEP] 47\n",
      "prediction: Preis ist schlecht weil Geld schlecht ist [SEP] 47 <class 'str'>\n",
      "label: Service ist schlecht weil Kellner schlecht ist [SEP] 52\n",
      "prediction: Service ist schlecht weil Kellner schlecht ist [SEP] 52 <class 'str'>\n",
      "label: Allgemeiner Eindruck ist gut weil war wunderbar gut ist [SEP] Allgemeiner Eindruck ist gut weil es gut ist [SEP] 112\n",
      "prediction: Allgemeiner Eindruck ist gut weil war wunderbar gut ist [SEP] Allgemeiner Eindruck ist gut weil es gut ist [SEP] 112 <class 'str'>\n",
      "label: Service ist schlecht weil es schlecht ist [SEP] 47\n",
      "prediction: Service ist schlecht weil es schlecht ist [SEP] 47 <class 'str'>\n",
      "label: Allgemeiner Eindruck ist gut weil es gut ist [SEP] 50\n",
      "prediction: Allgemeiner Eindruck ist gut weil es gut ist [SEP] 50 <class 'str'>\n",
      "label: Service ist schlecht weil Kellner schlecht ist [SEP] Essen ist ok weil Getränke ok ist [SEP] 92\n",
      "prediction: Service ist schlecht weil Kellner schlecht ist [SEP] Essen ist ok weil Getränke ok ist [SEP] 92 <class 'str'>\n",
      "label: Service ist schlecht weil Kellner schlecht ist [SEP] Essen ist ok weil Getränke ok ist [SEP] 92\n",
      "prediction: Service ist schlecht weil Kellner schlecht ist [SEP] Essen ist ok weil Getränke ok ist [SEP] 92 <class 'str'>\n",
      "label: Service ist schlecht weil es schlecht ist [SEP] 47\n",
      "prediction: Service ist schlecht weil es schlecht ist [SEP] 47 <class 'str'>\n",
      "label: Service ist gut weil Personal gut ist [SEP] 43\n",
      "prediction: Service ist gut weil Personal gut ist [SEP] 43 <class 'str'>\n",
      "label: Service ist schlecht weil Service schlecht ist [SEP] Essen ist gut weil Suppe gut ist [SEP] 91\n",
      "prediction: Service ist schlecht weil Service schlecht ist [SEP] Essen ist gut weil Suppe gut ist [SEP] 91 <class 'str'>\n"
     ]
    },
    {
     "data": {
      "text/plain": [
       "{'rouge1': 100.0,\n",
       " 'rouge2': 100.0,\n",
       " 'rougeL': 100.0,\n",
       " 'rougeLsum': 100.0,\n",
       " 'gen_len': 19.39}"
      ]
     },
     "execution_count": 20,
     "metadata": {},
     "output_type": "execute_result"
    }
   ],
   "source": [
    "compute_metrics(predictions, labels)"
   ]
  },
  {
   "cell_type": "code",
   "execution_count": 21,
   "metadata": {},
   "outputs": [
    {
     "data": {
      "text/plain": [
       "'Service ist schlecht weil Service schlecht ist [SSEP] Essen ist gut weil Suppe gut ist'"
      ]
     },
     "execution_count": 21,
     "metadata": {},
     "output_type": "execute_result"
    }
   ],
   "source": [
    "\"Service ist ok weil Personal ok ist [SSEP] Ambiente ist schlecht weil U\"\n",
    "\"Service ist schlecht weil Service schlecht ist [SSEP] Essen ist gut weil Suppe gut ist\""
   ]
  },
  {
   "cell_type": "code",
   "execution_count": null,
   "metadata": {},
   "outputs": [],
   "source": []
  }
 ],
 "metadata": {
  "kernelspec": {
   "display_name": "tensorflow_m1",
   "language": "python",
   "name": "python3"
  },
  "language_info": {
   "codemirror_mode": {
    "name": "ipython",
    "version": 3
   },
   "file_extension": ".py",
   "mimetype": "text/x-python",
   "name": "python",
   "nbconvert_exporter": "python",
   "pygments_lexer": "ipython3",
   "version": "3.11.3"
  }
 },
 "nbformat": 4,
 "nbformat_minor": 2
}
