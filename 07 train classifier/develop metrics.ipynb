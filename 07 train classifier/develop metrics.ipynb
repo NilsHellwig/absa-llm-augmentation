{
 "cells": [
  {
   "cell_type": "code",
   "execution_count": 21,
   "id": "0cb81017-f751-476b-ba01-8d7812dc0849",
   "metadata": {},
   "outputs": [],
   "source": [
    "from sklearn.metrics import multilabel_confusion_matrix\n",
    "from OTE import divide\n",
    "import numpy as np"
   ]
  },
  {
   "cell_type": "code",
   "execution_count": 22,
   "id": "2ab46f30-72c2-49a0-9f80-de4847f8b67a",
   "metadata": {},
   "outputs": [],
   "source": [
    "MODEL_NAME = \"deepset/gbert-base\"\n",
    "MAX_TOKENS = 256\n",
    "RANDOM_SEED = 43\n",
    "BATCH_SIZE = 16\n",
    "N_EPOCHS = 1\n",
    "LEARNING_RATE = 5e-06\n",
    "\n",
    "label2id = {\n",
    "    'O': 0,\n",
    "    'B': 1,\n",
    "    'I': 2,\n",
    "}\n",
    "id2label = {\n",
    "    0: 'O',\n",
    "    1: 'B',\n",
    "    2: 'I',\n",
    "}\n",
    "\n",
    "n_labels = len(id2label)"
   ]
  },
  {
   "cell_type": "code",
   "execution_count": 23,
   "id": "03d0eae8-5d0d-4499-9823-da7d0cd653a2",
   "metadata": {},
   "outputs": [],
   "source": [
    "loaded_data = np.load(\"metrics_data.npy\", allow_pickle=True)\n",
    "aspect_categories = loaded_data.item()[\"aspect_categories\"]\n",
    "predictions = loaded_data.item()[\"predictions\"]\n",
    "\n",
    "labels = loaded_data.item()[\"true_labels\"]"
   ]
  },
  {
   "cell_type": "code",
   "execution_count": 24,
   "id": "db954526-578e-449c-afb0-db341615dc65",
   "metadata": {},
   "outputs": [],
   "source": [
    "def one_hot_to_label(one_hot):\n",
    "    return next(id2label[idx] for idx in range(len(one_hot)) if one_hot[idx] == 1)   "
   ]
  },
  {
   "cell_type": "code",
   "execution_count": 25,
   "id": "f6625d82-dede-4f1e-a38a-e13e1f72eb4b",
   "metadata": {},
   "outputs": [],
   "source": [
    "def find_bio_phrases(bio_list):\n",
    "    phrases = []\n",
    "    phrase_start = None\n",
    "\n",
    "    for i in range(len(bio_list)):\n",
    "        if bio_list[i] == 'B':\n",
    "            if phrase_start is not None:\n",
    "                phrase_end = i - 1\n",
    "                phrases.append({\"start\": phrase_start, \"end\": phrase_end})\n",
    "            phrase_start = i\n",
    "        elif bio_list[i] == 'O':\n",
    "            if phrase_start is not None:\n",
    "                phrase_end = i - 1\n",
    "                phrases.append({\"start\": phrase_start, \"end\": phrase_end})\n",
    "                phrase_start = None\n",
    "\n",
    "    if phrase_start is not None:\n",
    "        phrases.append({\"start\": phrase_start, \"end\": len(bio_list) - 1})\n",
    "\n",
    "    return phrases"
   ]
  },
  {
   "cell_type": "code",
   "execution_count": 26,
   "id": "c9ad2152-1f7a-4c10-981f-88bda5d58681",
   "metadata": {},
   "outputs": [],
   "source": [
    "import numpy as np\n",
    "\n",
    "def calculate_tp_tn_fp_fn_spans(pred, label):\n",
    "    \"\"\"\n",
    "    Calculate true positives (TP), true negatives (TN), false positives (FP), and false negatives (FN) based on the provided\n",
    "    lists of predicted and actual label ranges.\n",
    "\n",
    "    Args:\n",
    "        pred (list of dict): A list containing dictionaries representing predicted ranges with 'start' and 'end' values.\n",
    "        label (list of dict): A list containing dictionaries representing actual label ranges with 'start' and 'end' values.\n",
    "\n",
    "    Returns:\n",
    "        tuple: A tuple containing four values - TP (true positives), FP (false positives), and FN (false negatives).\n",
    "    \"\"\"\n",
    "    # Convert ranges to string representations and create sets.\n",
    "    pred_set = set(f\"{range['start']}_{range['end']}\" for range in pred)\n",
    "    label_set = set(f\"{range['start']}_{range['end']}\" for range in label)\n",
    "\n",
    "    # Calculate true positives by finding the intersection of the sets.\n",
    "    tp_set = pred_set & label_set\n",
    "    tp = len(tp_set)\n",
    "\n",
    "    # Calculate false positives by subtracting the intersection from the predicted set.\n",
    "    fp_set = pred_set - tp_set\n",
    "    fp = len(fp_set)\n",
    "\n",
    "    # Calculate false negatives by subtracting the intersection from the label set.\n",
    "    fn_set = label_set - tp_set\n",
    "    fn = len(fn_set)\n",
    "\n",
    "    # Calculate true negatives by considering all possible pairs and subtracting TP, FP, and FN.\n",
    "    total_possible_pairs = len(pred) * len(label)\n",
    "\n",
    "    return tp, 0, fp, fn\n"
   ]
  },
  {
   "cell_type": "code",
   "execution_count": 27,
   "id": "aabf2023-e5d6-4a81-8278-67b2899dc338",
   "metadata": {},
   "outputs": [
    {
     "data": {
      "text/plain": [
       "(264, 0, 12322, 269)"
      ]
     },
     "execution_count": 27,
     "metadata": {},
     "output_type": "execute_result"
    }
   ],
   "source": [
    "def calculate_tp_tn_fp_fn_labels_OTE(predictions, labels):\n",
    "    predictions = (predictions == predictions.max(axis=2)[:,:,np.newaxis]).astype(int)\n",
    "    tp_total = 0\n",
    "    tn_total = 0\n",
    "    fp_total = 0\n",
    "    fn_total = 0\n",
    "    for i in range(len(labels)):\n",
    "        label = find_bio_phrases([one_hot_to_label(p) for p in labels[i]])\n",
    "        pred = find_bio_phrases([one_hot_to_label(p) for p in predictions[i]])\n",
    "        tp, tn, fp, fn = calculate_tp_tn_fp_fn_spans(pred, label)\n",
    "        tp_total += tp\n",
    "        tn_total += tn\n",
    "        fp_total += fp\n",
    "        fn_total += fn\n",
    "    return tp_total, tn_total, fp_total, fn_total\n",
    "\n",
    "calculate_tp_tn_fp_fn_labels_OTE(predictions, labels)"
   ]
  },
  {
   "cell_type": "code",
   "execution_count": 32,
   "id": "2c592b84-f173-4f6e-9a79-5fc8b05be544",
   "metadata": {},
   "outputs": [],
   "source": [
    "np.set_printoptions(precision=2, suppress=True)"
   ]
  },
  {
   "cell_type": "code",
   "execution_count": 33,
   "id": "ee6288a8-6dd4-4d87-85e2-6a074162c550",
   "metadata": {},
   "outputs": [
    {
     "data": {
      "text/plain": [
       "array([[0.03, 0.35, 0.61],\n",
       "       [0.01, 0.51, 0.49],\n",
       "       [0.01, 0.24, 0.75],\n",
       "       [0.03, 0.53, 0.45],\n",
       "       [0.03, 0.43, 0.54],\n",
       "       [0.04, 0.34, 0.62],\n",
       "       [0.05, 0.69, 0.26],\n",
       "       [0.03, 0.7 , 0.27],\n",
       "       [0.04, 0.55, 0.42],\n",
       "       [0.03, 0.56, 0.4 ],\n",
       "       [0.01, 0.87, 0.12],\n",
       "       [0.05, 0.48, 0.47],\n",
       "       [0.04, 0.26, 0.7 ],\n",
       "       [0.02, 0.63, 0.36],\n",
       "       [0.02, 0.62, 0.36],\n",
       "       [0.02, 0.32, 0.66],\n",
       "       [0.03, 0.55, 0.43],\n",
       "       [0.04, 0.25, 0.71],\n",
       "       [0.02, 0.62, 0.36],\n",
       "       [0.05, 0.22, 0.73]], dtype=float32)"
      ]
     },
     "execution_count": 33,
     "metadata": {},
     "output_type": "execute_result"
    }
   ],
   "source": [
    "predictions[1][:20]"
   ]
  },
  {
   "cell_type": "code",
   "execution_count": 34,
   "id": "cd96621a-b1ef-433e-b518-313083eda1d8",
   "metadata": {},
   "outputs": [
    {
     "data": {
      "text/plain": [
       "array([[1, 0, 0],\n",
       "       [0, 1, 0],\n",
       "       [0, 0, 1],\n",
       "       [1, 0, 0],\n",
       "       [1, 0, 0],\n",
       "       [1, 0, 0],\n",
       "       [1, 0, 0],\n",
       "       [1, 0, 0],\n",
       "       [1, 0, 0],\n",
       "       [1, 0, 0],\n",
       "       [1, 0, 0],\n",
       "       [1, 0, 0],\n",
       "       [1, 0, 0],\n",
       "       [1, 0, 0],\n",
       "       [1, 0, 0],\n",
       "       [1, 0, 0],\n",
       "       [1, 0, 0],\n",
       "       [1, 0, 0],\n",
       "       [1, 0, 0],\n",
       "       [1, 0, 0]])"
      ]
     },
     "execution_count": 34,
     "metadata": {},
     "output_type": "execute_result"
    }
   ],
   "source": [
    "labels[1][:20]"
   ]
  },
  {
   "cell_type": "code",
   "execution_count": null,
   "id": "bca4c9d9-55ea-41e9-ae24-8f11d6ace557",
   "metadata": {},
   "outputs": [],
   "source": []
  }
 ],
 "metadata": {
  "kernelspec": {
   "display_name": "Python 3 (ipykernel)",
   "language": "python",
   "name": "python3"
  },
  "language_info": {
   "codemirror_mode": {
    "name": "ipython",
    "version": 3
   },
   "file_extension": ".py",
   "mimetype": "text/x-python",
   "name": "python",
   "nbconvert_exporter": "python",
   "pygments_lexer": "ipython3",
   "version": "3.11.3"
  }
 },
 "nbformat": 4,
 "nbformat_minor": 5
}
