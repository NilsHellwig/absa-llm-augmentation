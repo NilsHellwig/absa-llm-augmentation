{
 "cells": [
  {
   "cell_type": "markdown",
   "metadata": {},
   "source": [
    "# Notebook: Train Model"
   ]
  },
  {
   "cell_type": "markdown",
   "metadata": {},
   "source": [
    "## Packages"
   ]
  },
  {
   "cell_type": "code",
   "execution_count": 1,
   "metadata": {},
   "outputs": [],
   "source": [
    "from load_dataset_folds import load_dataset_folds\n",
    "from transformers import set_seed\n",
    "from ACD import train_ACD_model\n",
    "from E2E import train_E2E_model\n",
    "from OTE import train_OTE_model\n",
    "from ACSA import train_ACSA_model\n",
    "from TASD import train_TASD_model\n",
    "import pandas as pd\n",
    "import numpy as np\n",
    "import constants\n",
    "import warnings\n",
    "import shutil\n",
    "import torch\n",
    "import json\n",
    "import sys"
   ]
  },
  {
   "cell_type": "markdown",
   "metadata": {},
   "source": [
    "## Parameters"
   ]
  },
  {
   "cell_type": "code",
   "execution_count": 2,
   "metadata": {},
   "outputs": [],
   "source": [
    "LLM_NAME = \"Llama13B\"\n",
    "N_REAL = 500\n",
    "N_SYNTH = 0\n",
    "TARGET = \"end_2_end_absa\" # \"aspect_category\", \"aspect_category_sentiment\", \"end_2_end_absa\" ,\"target_aspect_sentiment_detection\"\n",
    "LLM_SAMPLING = \"random\""
   ]
  },
  {
   "cell_type": "markdown",
   "metadata": {},
   "source": [
    "## Settings"
   ]
  },
  {
   "cell_type": "code",
   "execution_count": 3,
   "metadata": {},
   "outputs": [],
   "source": [
    "# Set seeds\n",
    "torch.device(constants.DEVICE)\n",
    "torch.manual_seed(constants.RANDOM_SEED)\n",
    "torch.backends.cudnn.deterministic = True\n",
    "torch.backends.cudnn.benchmark = False\n",
    "np.random.seed(constants.RANDOM_SEED)\n",
    "set_seed(constants.RANDOM_SEED)\n",
    "\n",
    "if torch.cuda.is_available():\n",
    "    torch.cuda.manual_seed_all(constants.RANDOM_SEED)\n",
    "\n",
    "# Ignore warnings\n",
    "warnings.filterwarnings(\"ignore\", category=FutureWarning,\n",
    "                        module=\"transformers.optimization\")\n",
    "\n",
    "# Disable Pycache\n",
    "sys.dont_write_bytecode = True"
   ]
  },
  {
   "cell_type": "markdown",
   "metadata": {},
   "source": [
    "## Code"
   ]
  },
  {
   "cell_type": "code",
   "execution_count": 4,
   "metadata": {},
   "outputs": [
    {
     "name": "stdout",
     "output_type": "stream",
     "text": [
      "500 5\n",
      "500 5\n"
     ]
    }
   ],
   "source": [
    "train_dataset, test_dataset = load_dataset_folds(LLM_NAME, N_REAL, N_SYNTH, LLM_SAMPLING)"
   ]
  },
  {
   "cell_type": "markdown",
   "metadata": {},
   "source": [
    "### Load Model"
   ]
  },
  {
   "cell_type": "code",
   "execution_count": 5,
   "metadata": {},
   "outputs": [],
   "source": [
    "if TARGET == \"aspect_category\":\n",
    "    results = train_ACD_model(\n",
    "        LLM_NAME, N_REAL, N_SYNTH, TARGET, LLM_SAMPLING, train_dataset, test_dataset)"
   ]
  },
  {
   "cell_type": "code",
   "execution_count": 6,
   "metadata": {},
   "outputs": [],
   "source": [
    "if TARGET == \"aspect_category_sentiment\":\n",
    "    results = train_ACSA_model(LLM_NAME, N_REAL, N_SYNTH, TARGET, LLM_SAMPLING, train_dataset, test_dataset)"
   ]
  },
  {
   "cell_type": "code",
   "execution_count": 7,
   "metadata": {},
   "outputs": [
    {
     "name": "stdout",
     "output_type": "stream",
     "text": [
      "527\n"
     ]
    },
    {
     "name": "stderr",
     "output_type": "stream",
     "text": [
      "Some weights of BertForSpanCategorizationE2E were not initialized from the model checkpoint at deepset/gbert-base and are newly initialized: ['classifier.weight', 'classifier.bias']\n",
      "You should probably TRAIN this model on a down-stream task to be able to use it for predictions and inference.\n",
      "Some weights of BertForSpanCategorizationE2E were not initialized from the model checkpoint at deepset/gbert-base and are newly initialized: ['classifier.weight', 'classifier.bias']\n",
      "You should probably TRAIN this model on a down-stream task to be able to use it for predictions and inference.\n",
      "huggingface/tokenizers: The current process just got forked, after parallelism has already been used. Disabling parallelism to avoid deadlocks...\n",
      "To disable this warning, you can either:\n",
      "\t- Avoid using `tokenizers` before the fork if possible\n",
      "\t- Explicitly set the environment variable TOKENIZERS_PARALLELISM=(true | false)\n"
     ]
    },
    {
     "data": {
      "application/vnd.jupyter.widget-view+json": {
       "model_id": "4ee132b558b8440db26a2b8f64984b76",
       "version_major": 2,
       "version_minor": 0
      },
      "text/plain": [
       "  0%|          | 0/23 [00:00<?, ?it/s]"
      ]
     },
     "metadata": {},
     "output_type": "display_data"
    },
    {
     "name": "stderr",
     "output_type": "stream",
     "text": [
      "You're using a BertTokenizerFast tokenizer. Please note that with a fast tokenizer, using the `__call__` method is faster than using a method to encode the text followed by a call to the `pad` method to get a padded encoding.\n"
     ]
    },
    {
     "name": "stdout",
     "output_type": "stream",
     "text": [
      "{'loss': 0.5093, 'learning_rate': 0.0, 'epoch': 1.0}\n"
     ]
    },
    {
     "data": {
      "application/vnd.jupyter.widget-view+json": {
       "model_id": "e842b1c3e6914b5aa5d1a71b344cc14c",
       "version_major": 2,
       "version_minor": 0
      },
      "text/plain": [
       "  0%|          | 0/22 [00:00<?, ?it/s]"
      ]
     },
     "metadata": {},
     "output_type": "display_data"
    },
    {
     "name": "stdout",
     "output_type": "stream",
     "text": [
      "527\n",
      "{'eval_loss': 0.37403395771980286, 'eval_tp_POSITIVE': 2, 'eval_tn_POSITIVE': 0, 'eval_fp_POSITIVE': 5403, 'eval_fn_POSITIVE': 298, 'eval_accuracy_POSITIVE': 0.0003506926179203928, 'eval_precision_POSITIVE': 0.0003700277520814061, 'eval_recall_POSITIVE': 0.006666666666666667, 'eval_f1_POSITIVE': 0.0007011393514460998, 'eval_tp_NEUTRAL': 0, 'eval_tn_NEUTRAL': 0, 'eval_fp_NEUTRAL': 188, 'eval_fn_NEUTRAL': 17, 'eval_accuracy_NEUTRAL': 0.0, 'eval_precision_NEUTRAL': 0.0, 'eval_recall_NEUTRAL': 0.0, 'eval_f1_NEUTRAL': 0, 'eval_tp_NEGATIVE': 6, 'eval_tn_NEGATIVE': 0, 'eval_fp_NEGATIVE': 2191, 'eval_fn_NEGATIVE': 204, 'eval_accuracy_NEGATIVE': 0.0024989587671803417, 'eval_precision_NEGATIVE': 0.0027309968138370506, 'eval_recall_NEGATIVE': 0.02857142857142857, 'eval_f1_NEGATIVE': 0.004985459077690072, 'eval_f1_micro': 0.0019237705903571002, 'eval_f1_macro': 0.001895532809712057, 'eval_tp': 8, 'eval_tn': 0, 'eval_fp': 7782, 'eval_fn': 519, 'eval_accuracy': 0.0009628114093152004, 'eval_precision': 0.0010269576379974327, 'eval_recall': 0.015180265654648957, 'eval_f1': 0.0019237705903571002, 'eval_runtime': 7.1466, 'eval_samples_per_second': 48.275, 'eval_steps_per_second': 3.078, 'epoch': 1.0}\n",
      "{'train_runtime': 37.8328, 'train_samples_per_second': 9.516, 'train_steps_per_second': 0.608, 'train_loss': 0.5093128784843113, 'epoch': 1.0}\n"
     ]
    },
    {
     "data": {
      "application/vnd.jupyter.widget-view+json": {
       "model_id": "45af1720913346b2b4f84cbe84670004",
       "version_major": 2,
       "version_minor": 0
      },
      "text/plain": [
       "  0%|          | 0/22 [00:00<?, ?it/s]"
      ]
     },
     "metadata": {},
     "output_type": "display_data"
    },
    {
     "name": "stdout",
     "output_type": "stream",
     "text": [
      "527\n",
      "Split 0: {'eval_loss': 0.37403395771980286, 'eval_tp_POSITIVE': 2, 'eval_tn_POSITIVE': 0, 'eval_fp_POSITIVE': 5403, 'eval_fn_POSITIVE': 298, 'eval_accuracy_POSITIVE': 0.0003506926179203928, 'eval_precision_POSITIVE': 0.0003700277520814061, 'eval_recall_POSITIVE': 0.006666666666666667, 'eval_f1_POSITIVE': 0.0007011393514460998, 'eval_tp_NEUTRAL': 0, 'eval_tn_NEUTRAL': 0, 'eval_fp_NEUTRAL': 188, 'eval_fn_NEUTRAL': 17, 'eval_accuracy_NEUTRAL': 0.0, 'eval_precision_NEUTRAL': 0.0, 'eval_recall_NEUTRAL': 0.0, 'eval_f1_NEUTRAL': 0, 'eval_tp_NEGATIVE': 6, 'eval_tn_NEGATIVE': 0, 'eval_fp_NEGATIVE': 2191, 'eval_fn_NEGATIVE': 204, 'eval_accuracy_NEGATIVE': 0.0024989587671803417, 'eval_precision_NEGATIVE': 0.0027309968138370506, 'eval_recall_NEGATIVE': 0.02857142857142857, 'eval_f1_NEGATIVE': 0.004985459077690072, 'eval_f1_micro': 0.0019237705903571002, 'eval_f1_macro': 0.001895532809712057, 'eval_tp': 8, 'eval_tn': 0, 'eval_fp': 7782, 'eval_fn': 519, 'eval_accuracy': 0.0009628114093152004, 'eval_precision': 0.0010269576379974327, 'eval_recall': 0.015180265654648957, 'eval_f1': 0.0019237705903571002, 'eval_runtime': 7.602, 'eval_samples_per_second': 45.383, 'eval_steps_per_second': 2.894, 'epoch': 1.0}\n",
      "546\n"
     ]
    },
    {
     "name": "stderr",
     "output_type": "stream",
     "text": [
      "Some weights of BertForSpanCategorizationE2E were not initialized from the model checkpoint at deepset/gbert-base and are newly initialized: ['classifier.weight', 'classifier.bias']\n",
      "You should probably TRAIN this model on a down-stream task to be able to use it for predictions and inference.\n",
      "Some weights of BertForSpanCategorizationE2E were not initialized from the model checkpoint at deepset/gbert-base and are newly initialized: ['classifier.weight', 'classifier.bias']\n",
      "You should probably TRAIN this model on a down-stream task to be able to use it for predictions and inference.\n"
     ]
    },
    {
     "data": {
      "application/vnd.jupyter.widget-view+json": {
       "model_id": "f7736619f4724b0abce095dc3495fbd8",
       "version_major": 2,
       "version_minor": 0
      },
      "text/plain": [
       "  0%|          | 0/22 [00:00<?, ?it/s]"
      ]
     },
     "metadata": {},
     "output_type": "display_data"
    },
    {
     "name": "stdout",
     "output_type": "stream",
     "text": [
      "{'loss': 0.5205, 'learning_rate': 0.0, 'epoch': 1.0}\n"
     ]
    },
    {
     "data": {
      "application/vnd.jupyter.widget-view+json": {
       "model_id": "d3f4a5a6f5004811898450c9ea6a6088",
       "version_major": 2,
       "version_minor": 0
      },
      "text/plain": [
       "  0%|          | 0/23 [00:00<?, ?it/s]"
      ]
     },
     "metadata": {},
     "output_type": "display_data"
    },
    {
     "name": "stdout",
     "output_type": "stream",
     "text": [
      "546\n",
      "{'eval_loss': 0.3964957296848297, 'eval_tp_POSITIVE': 1, 'eval_tn_POSITIVE': 0, 'eval_fp_POSITIVE': 7244, 'eval_fn_POSITIVE': 302, 'eval_accuracy_POSITIVE': 0.00013250298131707962, 'eval_precision_POSITIVE': 0.00013802622498274673, 'eval_recall_POSITIVE': 0.0033003300330033004, 'eval_f1_POSITIVE': 0.00026497085320614734, 'eval_tp_NEUTRAL': 0, 'eval_tn_NEUTRAL': 0, 'eval_fp_NEUTRAL': 280, 'eval_fn_NEUTRAL': 25, 'eval_accuracy_NEUTRAL': 0.0, 'eval_precision_NEUTRAL': 0.0, 'eval_recall_NEUTRAL': 0.0, 'eval_f1_NEUTRAL': 0, 'eval_tp_NEGATIVE': 11, 'eval_tn_NEGATIVE': 0, 'eval_fp_NEGATIVE': 3649, 'eval_fn_NEGATIVE': 207, 'eval_accuracy_NEGATIVE': 0.0028445823635893457, 'eval_precision_NEGATIVE': 0.003005464480874317, 'eval_recall_NEGATIVE': 0.05045871559633028, 'eval_f1_NEGATIVE': 0.005673027333677153, 'eval_f1_micro': 0.0020458613928906314, 'eval_f1_macro': 0.0019793327289611, 'eval_tp': 12, 'eval_tn': 0, 'eval_fp': 11173, 'eval_fn': 534, 'eval_accuracy': 0.0010239781551326906, 'eval_precision': 0.0010728654447921323, 'eval_recall': 0.02197802197802198, 'eval_f1': 0.0020458613928906314, 'eval_runtime': 7.6215, 'eval_samples_per_second': 47.235, 'eval_steps_per_second': 3.018, 'epoch': 1.0}\n",
      "{'train_runtime': 37.7169, 'train_samples_per_second': 9.068, 'train_steps_per_second': 0.583, 'train_loss': 0.5205115404996005, 'epoch': 1.0}\n"
     ]
    },
    {
     "data": {
      "application/vnd.jupyter.widget-view+json": {
       "model_id": "3d82dc37a69b40ee8025c39756e270f0",
       "version_major": 2,
       "version_minor": 0
      },
      "text/plain": [
       "  0%|          | 0/23 [00:00<?, ?it/s]"
      ]
     },
     "metadata": {},
     "output_type": "display_data"
    },
    {
     "name": "stdout",
     "output_type": "stream",
     "text": [
      "546\n",
      "Split 1: {'eval_loss': 0.3964957296848297, 'eval_tp_POSITIVE': 1, 'eval_tn_POSITIVE': 0, 'eval_fp_POSITIVE': 7244, 'eval_fn_POSITIVE': 302, 'eval_accuracy_POSITIVE': 0.00013250298131707962, 'eval_precision_POSITIVE': 0.00013802622498274673, 'eval_recall_POSITIVE': 0.0033003300330033004, 'eval_f1_POSITIVE': 0.00026497085320614734, 'eval_tp_NEUTRAL': 0, 'eval_tn_NEUTRAL': 0, 'eval_fp_NEUTRAL': 280, 'eval_fn_NEUTRAL': 25, 'eval_accuracy_NEUTRAL': 0.0, 'eval_precision_NEUTRAL': 0.0, 'eval_recall_NEUTRAL': 0.0, 'eval_f1_NEUTRAL': 0, 'eval_tp_NEGATIVE': 11, 'eval_tn_NEGATIVE': 0, 'eval_fp_NEGATIVE': 3649, 'eval_fn_NEGATIVE': 207, 'eval_accuracy_NEGATIVE': 0.0028445823635893457, 'eval_precision_NEGATIVE': 0.003005464480874317, 'eval_recall_NEGATIVE': 0.05045871559633028, 'eval_f1_NEGATIVE': 0.005673027333677153, 'eval_f1_micro': 0.0020458613928906314, 'eval_f1_macro': 0.0019793327289611, 'eval_tp': 12, 'eval_tn': 0, 'eval_fp': 11173, 'eval_fn': 534, 'eval_accuracy': 0.0010239781551326906, 'eval_precision': 0.0010728654447921323, 'eval_recall': 0.02197802197802198, 'eval_f1': 0.0020458613928906314, 'eval_runtime': 8.4463, 'eval_samples_per_second': 42.622, 'eval_steps_per_second': 2.723, 'epoch': 1.0}\n",
      "487\n"
     ]
    },
    {
     "name": "stderr",
     "output_type": "stream",
     "text": [
      "Some weights of BertForSpanCategorizationE2E were not initialized from the model checkpoint at deepset/gbert-base and are newly initialized: ['classifier.weight', 'classifier.bias']\n",
      "You should probably TRAIN this model on a down-stream task to be able to use it for predictions and inference.\n",
      "Some weights of BertForSpanCategorizationE2E were not initialized from the model checkpoint at deepset/gbert-base and are newly initialized: ['classifier.weight', 'classifier.bias']\n",
      "You should probably TRAIN this model on a down-stream task to be able to use it for predictions and inference.\n"
     ]
    },
    {
     "data": {
      "application/vnd.jupyter.widget-view+json": {
       "model_id": "bc9da9d3160b4e3b85582ce67239f7cc",
       "version_major": 2,
       "version_minor": 0
      },
      "text/plain": [
       "  0%|          | 0/23 [00:00<?, ?it/s]"
      ]
     },
     "metadata": {},
     "output_type": "display_data"
    },
    {
     "ename": "KeyboardInterrupt",
     "evalue": "",
     "output_type": "error",
     "traceback": [
      "\u001b[0;31m---------------------------------------------------------------------------\u001b[0m",
      "\u001b[0;31mKeyboardInterrupt\u001b[0m                         Traceback (most recent call last)",
      "\u001b[1;32m/Users/nils_hellwig/Desktop/Studium/Masterstudium WS 2023:24/Masterarbeit/absa-llm-augmentation/07 train classifier/train_absa_model.ipynb Zelle 13\u001b[0m line \u001b[0;36m2\n\u001b[1;32m      <a href='vscode-notebook-cell:/Users/nils_hellwig/Desktop/Studium/Masterstudium%20WS%202023%3A24/Masterarbeit/absa-llm-augmentation/07%20train%20classifier/train_absa_model.ipynb#X15sZmlsZQ%3D%3D?line=0'>1</a>\u001b[0m \u001b[39mif\u001b[39;00m TARGET \u001b[39m==\u001b[39m \u001b[39m\"\u001b[39m\u001b[39mend_2_end_absa\u001b[39m\u001b[39m\"\u001b[39m:\n\u001b[0;32m----> <a href='vscode-notebook-cell:/Users/nils_hellwig/Desktop/Studium/Masterstudium%20WS%202023%3A24/Masterarbeit/absa-llm-augmentation/07%20train%20classifier/train_absa_model.ipynb#X15sZmlsZQ%3D%3D?line=1'>2</a>\u001b[0m     results \u001b[39m=\u001b[39m train_E2E_model(LLM_NAME, N_REAL, N_SYNTH, TARGET, LLM_SAMPLING, train_dataset, test_dataset)\n",
      "File \u001b[0;32m~/Desktop/Studium/Masterstudium WS 2023:24/Masterarbeit/absa-llm-augmentation/07 train classifier/E2E/__init__.py:44\u001b[0m, in \u001b[0;36mtrain_E2E_model\u001b[0;34m(LLM_NAME, N_REAL, N_SYNTH, TARGET, LLM_SAMPLING, train_dataset, test_dataset)\u001b[0m\n\u001b[1;32m     40\u001b[0m train_data, test_data \u001b[39m=\u001b[39m get_preprocessed_data_E2E(\n\u001b[1;32m     41\u001b[0m     train_data, test_data, tokenizer)\n\u001b[1;32m     42\u001b[0m trainer \u001b[39m=\u001b[39m get_trainer_E2E(train_data, test_data, tokenizer)\n\u001b[0;32m---> 44\u001b[0m trainer\u001b[39m.\u001b[39;49mtrain()\n\u001b[1;32m     46\u001b[0m eval_metrics \u001b[39m=\u001b[39m trainer\u001b[39m.\u001b[39mevaluate()\n\u001b[1;32m     47\u001b[0m \u001b[39mprint\u001b[39m(\u001b[39mf\u001b[39m\u001b[39m\"\u001b[39m\u001b[39mSplit \u001b[39m\u001b[39m{\u001b[39;00mcross_idx\u001b[39m}\u001b[39;00m\u001b[39m:\u001b[39m\u001b[39m\"\u001b[39m, eval_metrics)\n",
      "File \u001b[0;32m/opt/homebrew/Caskroom/miniforge/base/envs/tensorflow_m1/lib/python3.11/site-packages/transformers/trainer.py:1591\u001b[0m, in \u001b[0;36mTrainer.train\u001b[0;34m(self, resume_from_checkpoint, trial, ignore_keys_for_eval, **kwargs)\u001b[0m\n\u001b[1;32m   1589\u001b[0m         hf_hub_utils\u001b[39m.\u001b[39menable_progress_bars()\n\u001b[1;32m   1590\u001b[0m \u001b[39melse\u001b[39;00m:\n\u001b[0;32m-> 1591\u001b[0m     \u001b[39mreturn\u001b[39;00m inner_training_loop(\n\u001b[1;32m   1592\u001b[0m         args\u001b[39m=\u001b[39;49margs,\n\u001b[1;32m   1593\u001b[0m         resume_from_checkpoint\u001b[39m=\u001b[39;49mresume_from_checkpoint,\n\u001b[1;32m   1594\u001b[0m         trial\u001b[39m=\u001b[39;49mtrial,\n\u001b[1;32m   1595\u001b[0m         ignore_keys_for_eval\u001b[39m=\u001b[39;49mignore_keys_for_eval,\n\u001b[1;32m   1596\u001b[0m     )\n",
      "File \u001b[0;32m/opt/homebrew/Caskroom/miniforge/base/envs/tensorflow_m1/lib/python3.11/site-packages/transformers/trainer.py:1892\u001b[0m, in \u001b[0;36mTrainer._inner_training_loop\u001b[0;34m(self, batch_size, args, resume_from_checkpoint, trial, ignore_keys_for_eval)\u001b[0m\n\u001b[1;32m   1889\u001b[0m     \u001b[39mself\u001b[39m\u001b[39m.\u001b[39mcontrol \u001b[39m=\u001b[39m \u001b[39mself\u001b[39m\u001b[39m.\u001b[39mcallback_handler\u001b[39m.\u001b[39mon_step_begin(args, \u001b[39mself\u001b[39m\u001b[39m.\u001b[39mstate, \u001b[39mself\u001b[39m\u001b[39m.\u001b[39mcontrol)\n\u001b[1;32m   1891\u001b[0m \u001b[39mwith\u001b[39;00m \u001b[39mself\u001b[39m\u001b[39m.\u001b[39maccelerator\u001b[39m.\u001b[39maccumulate(model):\n\u001b[0;32m-> 1892\u001b[0m     tr_loss_step \u001b[39m=\u001b[39m \u001b[39mself\u001b[39;49m\u001b[39m.\u001b[39;49mtraining_step(model, inputs)\n\u001b[1;32m   1894\u001b[0m \u001b[39mif\u001b[39;00m (\n\u001b[1;32m   1895\u001b[0m     args\u001b[39m.\u001b[39mlogging_nan_inf_filter\n\u001b[1;32m   1896\u001b[0m     \u001b[39mand\u001b[39;00m \u001b[39mnot\u001b[39;00m is_torch_tpu_available()\n\u001b[1;32m   1897\u001b[0m     \u001b[39mand\u001b[39;00m (torch\u001b[39m.\u001b[39misnan(tr_loss_step) \u001b[39mor\u001b[39;00m torch\u001b[39m.\u001b[39misinf(tr_loss_step))\n\u001b[1;32m   1898\u001b[0m ):\n\u001b[1;32m   1899\u001b[0m     \u001b[39m# if loss is nan or inf simply add the average of previous logged losses\u001b[39;00m\n\u001b[1;32m   1900\u001b[0m     tr_loss \u001b[39m+\u001b[39m\u001b[39m=\u001b[39m tr_loss \u001b[39m/\u001b[39m (\u001b[39m1\u001b[39m \u001b[39m+\u001b[39m \u001b[39mself\u001b[39m\u001b[39m.\u001b[39mstate\u001b[39m.\u001b[39mglobal_step \u001b[39m-\u001b[39m \u001b[39mself\u001b[39m\u001b[39m.\u001b[39m_globalstep_last_logged)\n",
      "File \u001b[0;32m/opt/homebrew/Caskroom/miniforge/base/envs/tensorflow_m1/lib/python3.11/site-packages/transformers/trainer.py:2787\u001b[0m, in \u001b[0;36mTrainer.training_step\u001b[0;34m(self, model, inputs)\u001b[0m\n\u001b[1;32m   2785\u001b[0m         scaled_loss\u001b[39m.\u001b[39mbackward()\n\u001b[1;32m   2786\u001b[0m \u001b[39melse\u001b[39;00m:\n\u001b[0;32m-> 2787\u001b[0m     \u001b[39mself\u001b[39;49m\u001b[39m.\u001b[39;49maccelerator\u001b[39m.\u001b[39;49mbackward(loss)\n\u001b[1;32m   2789\u001b[0m \u001b[39mreturn\u001b[39;00m loss\u001b[39m.\u001b[39mdetach() \u001b[39m/\u001b[39m \u001b[39mself\u001b[39m\u001b[39m.\u001b[39margs\u001b[39m.\u001b[39mgradient_accumulation_steps\n",
      "File \u001b[0;32m/opt/homebrew/Caskroom/miniforge/base/envs/tensorflow_m1/lib/python3.11/site-packages/accelerate/accelerator.py:1853\u001b[0m, in \u001b[0;36mAccelerator.backward\u001b[0;34m(self, loss, **kwargs)\u001b[0m\n\u001b[1;32m   1851\u001b[0m     \u001b[39mself\u001b[39m\u001b[39m.\u001b[39mscaler\u001b[39m.\u001b[39mscale(loss)\u001b[39m.\u001b[39mbackward(\u001b[39m*\u001b[39m\u001b[39m*\u001b[39mkwargs)\n\u001b[1;32m   1852\u001b[0m \u001b[39melse\u001b[39;00m:\n\u001b[0;32m-> 1853\u001b[0m     loss\u001b[39m.\u001b[39;49mbackward(\u001b[39m*\u001b[39;49m\u001b[39m*\u001b[39;49mkwargs)\n",
      "File \u001b[0;32m/opt/homebrew/Caskroom/miniforge/base/envs/tensorflow_m1/lib/python3.11/site-packages/torch/_tensor.py:492\u001b[0m, in \u001b[0;36mTensor.backward\u001b[0;34m(self, gradient, retain_graph, create_graph, inputs)\u001b[0m\n\u001b[1;32m    482\u001b[0m \u001b[39mif\u001b[39;00m has_torch_function_unary(\u001b[39mself\u001b[39m):\n\u001b[1;32m    483\u001b[0m     \u001b[39mreturn\u001b[39;00m handle_torch_function(\n\u001b[1;32m    484\u001b[0m         Tensor\u001b[39m.\u001b[39mbackward,\n\u001b[1;32m    485\u001b[0m         (\u001b[39mself\u001b[39m,),\n\u001b[0;32m   (...)\u001b[0m\n\u001b[1;32m    490\u001b[0m         inputs\u001b[39m=\u001b[39minputs,\n\u001b[1;32m    491\u001b[0m     )\n\u001b[0;32m--> 492\u001b[0m torch\u001b[39m.\u001b[39;49mautograd\u001b[39m.\u001b[39;49mbackward(\n\u001b[1;32m    493\u001b[0m     \u001b[39mself\u001b[39;49m, gradient, retain_graph, create_graph, inputs\u001b[39m=\u001b[39;49minputs\n\u001b[1;32m    494\u001b[0m )\n",
      "File \u001b[0;32m/opt/homebrew/Caskroom/miniforge/base/envs/tensorflow_m1/lib/python3.11/site-packages/torch/autograd/__init__.py:251\u001b[0m, in \u001b[0;36mbackward\u001b[0;34m(tensors, grad_tensors, retain_graph, create_graph, grad_variables, inputs)\u001b[0m\n\u001b[1;32m    246\u001b[0m     retain_graph \u001b[39m=\u001b[39m create_graph\n\u001b[1;32m    248\u001b[0m \u001b[39m# The reason we repeat the same comment below is that\u001b[39;00m\n\u001b[1;32m    249\u001b[0m \u001b[39m# some Python versions print out the first line of a multi-line function\u001b[39;00m\n\u001b[1;32m    250\u001b[0m \u001b[39m# calls in the traceback and some print out the last line\u001b[39;00m\n\u001b[0;32m--> 251\u001b[0m Variable\u001b[39m.\u001b[39;49m_execution_engine\u001b[39m.\u001b[39;49mrun_backward(  \u001b[39m# Calls into the C++ engine to run the backward pass\u001b[39;49;00m\n\u001b[1;32m    252\u001b[0m     tensors,\n\u001b[1;32m    253\u001b[0m     grad_tensors_,\n\u001b[1;32m    254\u001b[0m     retain_graph,\n\u001b[1;32m    255\u001b[0m     create_graph,\n\u001b[1;32m    256\u001b[0m     inputs,\n\u001b[1;32m    257\u001b[0m     allow_unreachable\u001b[39m=\u001b[39;49m\u001b[39mTrue\u001b[39;49;00m,\n\u001b[1;32m    258\u001b[0m     accumulate_grad\u001b[39m=\u001b[39;49m\u001b[39mTrue\u001b[39;49;00m,\n\u001b[1;32m    259\u001b[0m )\n",
      "\u001b[0;31mKeyboardInterrupt\u001b[0m: "
     ]
    }
   ],
   "source": [
    "if TARGET == \"end_2_end_absa\":\n",
    "    results = train_E2E_model(LLM_NAME, N_REAL, N_SYNTH, TARGET, LLM_SAMPLING, train_dataset, test_dataset)"
   ]
  },
  {
   "cell_type": "code",
   "execution_count": null,
   "metadata": {},
   "outputs": [],
   "source": [
    "if TARGET == \"aspect_term\":\n",
    "    results = train_OTE_model(\n",
    "        LLM_NAME, N_REAL, N_SYNTH, TARGET, LLM_SAMPLING, train_dataset, test_dataset)"
   ]
  },
  {
   "cell_type": "code",
   "execution_count": null,
   "metadata": {},
   "outputs": [],
   "source": [
    "if TARGET == \"target_aspect_sentiment_detection\":\n",
    "    results = train_TASD_model(\n",
    "        LLM_NAME, N_REAL, N_SYNTH, TARGET, LLM_SAMPLING, train_dataset, test_dataset)"
   ]
  },
  {
   "cell_type": "markdown",
   "metadata": {},
   "source": [
    "### Save Results"
   ]
  },
  {
   "cell_type": "code",
   "execution_count": null,
   "metadata": {},
   "outputs": [],
   "source": [
    "with open(f'results_json/results_{LLM_NAME}_real{N_REAL}_synth{N_SYNTH}_{TARGET}_{LLM_SAMPLING}.json', 'w') as json_file:\n",
    "    json.dump(results, json_file)\n",
    "\n",
    "df = pd.DataFrame([results])\n",
    "df.to_csv(f'results_csv/results_{LLM_NAME}_real{N_REAL}_synth{N_SYNTH}_{TARGET}_{LLM_SAMPLING}.csv', index=False)"
   ]
  },
  {
   "cell_type": "code",
   "execution_count": null,
   "metadata": {},
   "outputs": [
    {
     "data": {
      "text/plain": [
       "{'LLM_NAME': 'Llama13B',\n",
       " 'N_REAL': 500,\n",
       " 'N_SYNTH': 0,\n",
       " 'TARGET': 'end_2_end_absa',\n",
       " 'LLM_SAMPLING': 'random',\n",
       " 'eval_f1_micro': 0.0015796729787102993,\n",
       " 'eval_f1_macro': 0.0015084128389234186,\n",
       " 'eval_precision': 0.0008332213708220421,\n",
       " 'eval_recall': 0.015401946585330622,\n",
       " 'eval_accuracy': 0.0007904938688885824,\n",
       " 'eval_f1': 0.0015796729787102993,\n",
       " 'eval_tp': 8.0,\n",
       " 'eval_tn': 0.0,\n",
       " 'eval_fp': 9555.0,\n",
       " 'eval_fn': 506.6,\n",
       " 'eval_accuracy_POSITIVE': 0.0002682664987452068,\n",
       " 'eval_accuracy_NEUTRAL': 0.0,\n",
       " 'eval_accuracy_NEGATIVE': 0.0019987391333080437,\n",
       " 'eval_precision_POSITIVE': 0.0002808217080753271,\n",
       " 'eval_precision_NEUTRAL': 0.0,\n",
       " 'eval_precision_NEGATIVE': 0.0021344261881774034,\n",
       " 'eval_recall_POSITIVE': 0.006032559504441615,\n",
       " 'eval_recall_NEUTRAL': 0.0,\n",
       " 'eval_recall_NEGATIVE': 0.031565032002667304,\n",
       " 'eval_f1_POSITIVE': 0.0005363656305728914,\n",
       " 'eval_f1_NEUTRAL': 0.0,\n",
       " 'eval_f1_NEGATIVE': 0.003988872886197365,\n",
       " 'eval_tp_POSITIVE': 1.8,\n",
       " 'eval_tp_NEUTRAL': 0.0,\n",
       " 'eval_tp_NEGATIVE': 6.2,\n",
       " 'eval_tn_POSITIVE': 0.0,\n",
       " 'eval_tn_NEUTRAL': 0.0,\n",
       " 'eval_tn_NEGATIVE': 0.0,\n",
       " 'eval_fp_POSITIVE': 6471.4,\n",
       " 'eval_fp_NEUTRAL': 220.8,\n",
       " 'eval_fp_NEGATIVE': 2862.8,\n",
       " 'eval_fn_POSITIVE': 298.4,\n",
       " 'eval_fn_NEUTRAL': 21.6,\n",
       " 'eval_fn_NEGATIVE': 186.6,\n",
       " 'runtime': 236.50816917419434,\n",
       " 'runtime_formatted': '3m 56s',\n",
       " 'eval_loss': 0.38657346963882444,\n",
       " 'n_samples_train': [360, 342, 354, 339, 345],\n",
       " 'n_samples_train_mean': 348.0,\n",
       " 'n_samples_test': [345, 360, 342, 354, 339],\n",
       " 'n_samples_test_mean': 348.0}"
      ]
     },
     "execution_count": 11,
     "metadata": {},
     "output_type": "execute_result"
    }
   ],
   "source": [
    "results"
   ]
  },
  {
   "cell_type": "markdown",
   "metadata": {},
   "source": [
    "### Remove useless folders"
   ]
  },
  {
   "cell_type": "code",
   "execution_count": null,
   "metadata": {},
   "outputs": [],
   "source": [
    "try:\n",
    "    shutil.rmtree(\"outputs\")\n",
    "except:\n",
    "    pass"
   ]
  },
  {
   "cell_type": "code",
   "execution_count": null,
   "metadata": {},
   "outputs": [],
   "source": []
  }
 ],
 "metadata": {
  "kernelspec": {
   "display_name": "tensorflow_m1",
   "language": "python",
   "name": "python3"
  },
  "language_info": {
   "codemirror_mode": {
    "name": "ipython",
    "version": 3
   },
   "file_extension": ".py",
   "mimetype": "text/x-python",
   "name": "python",
   "nbconvert_exporter": "python",
   "pygments_lexer": "ipython3",
   "version": "3.11.3"
  },
  "orig_nbformat": 4
 },
 "nbformat": 4,
 "nbformat_minor": 2
}
