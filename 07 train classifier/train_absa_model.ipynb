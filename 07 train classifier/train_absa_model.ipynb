{
 "cells": [
  {
   "cell_type": "markdown",
   "metadata": {},
   "source": [
    "# Notebook: Train Model"
   ]
  },
  {
   "cell_type": "markdown",
   "metadata": {},
   "source": [
    "## Packages"
   ]
  },
  {
   "cell_type": "code",
   "execution_count": 1,
   "metadata": {},
   "outputs": [],
   "source": [
    "from load_dataset_folds import load_dataset_folds\n",
    "from transformers import set_seed\n",
    "from ACD import train_ACD_model\n",
    "from E2E import train_E2E_model\n",
    "from OTE import train_OTE_model\n",
    "from ACSA import train_ACSA_model\n",
    "from TASD import train_TASD_model\n",
    "import pandas as pd\n",
    "import numpy as np\n",
    "import constants\n",
    "import warnings\n",
    "import shutil\n",
    "import torch\n",
    "import json\n",
    "import sys"
   ]
  },
  {
   "cell_type": "markdown",
   "metadata": {},
   "source": [
    "## Parameters"
   ]
  },
  {
   "cell_type": "code",
   "execution_count": 2,
   "metadata": {},
   "outputs": [],
   "source": [
    "LLM_NAME = \"Llama13B\"\n",
    "N_REAL = 500\n",
    "N_SYNTH = 0\n",
    "TARGET = \"end_2_end_absa\" # \"aspect_category\", \"aspect_category_sentiment\", \"end_2_end_absa\" ,\"target_aspect_sentiment_detection\"\n",
    "LLM_SAMPLING = \"random\""
   ]
  },
  {
   "cell_type": "markdown",
   "metadata": {},
   "source": [
    "## Settings"
   ]
  },
  {
   "cell_type": "code",
   "execution_count": 3,
   "metadata": {},
   "outputs": [],
   "source": [
    "# Set seeds\n",
    "torch.device(constants.DEVICE)\n",
    "torch.manual_seed(constants.RANDOM_SEED)\n",
    "torch.backends.cudnn.deterministic = True\n",
    "torch.backends.cudnn.benchmark = False\n",
    "np.random.seed(constants.RANDOM_SEED)\n",
    "set_seed(constants.RANDOM_SEED)\n",
    "\n",
    "if torch.cuda.is_available():\n",
    "    torch.cuda.manual_seed_all(constants.RANDOM_SEED)\n",
    "\n",
    "# Ignore warnings\n",
    "warnings.filterwarnings(\"ignore\", category=FutureWarning,\n",
    "                        module=\"transformers.optimization\")\n",
    "\n",
    "# Disable Pycache\n",
    "sys.dont_write_bytecode = True"
   ]
  },
  {
   "cell_type": "markdown",
   "metadata": {},
   "source": [
    "## Code"
   ]
  },
  {
   "cell_type": "code",
   "execution_count": 4,
   "metadata": {},
   "outputs": [
    {
     "name": "stdout",
     "output_type": "stream",
     "text": [
      "500 5\n",
      "500 5\n"
     ]
    }
   ],
   "source": [
    "train_dataset, test_dataset = load_dataset_folds(LLM_NAME, N_REAL, N_SYNTH, LLM_SAMPLING)"
   ]
  },
  {
   "cell_type": "markdown",
   "metadata": {},
   "source": [
    "### Load Model"
   ]
  },
  {
   "cell_type": "code",
   "execution_count": 5,
   "metadata": {},
   "outputs": [],
   "source": [
    "if TARGET == \"aspect_category\":\n",
    "    results = train_ACD_model(\n",
    "        LLM_NAME, N_REAL, N_SYNTH, TARGET, LLM_SAMPLING, train_dataset, test_dataset)"
   ]
  },
  {
   "cell_type": "code",
   "execution_count": 6,
   "metadata": {},
   "outputs": [],
   "source": [
    "if TARGET == \"aspect_category_sentiment\":\n",
    "    results = train_ACSA_model(LLM_NAME, N_REAL, N_SYNTH, TARGET, LLM_SAMPLING, train_dataset, test_dataset)"
   ]
  },
  {
   "cell_type": "code",
   "execution_count": 7,
   "metadata": {},
   "outputs": [
    {
     "name": "stdout",
     "output_type": "stream",
     "text": [
      "527\n"
     ]
    },
    {
     "name": "stderr",
     "output_type": "stream",
     "text": [
      "Some weights of BertForSpanCategorizationE2E were not initialized from the model checkpoint at deepset/gbert-base and are newly initialized: ['classifier.bias', 'classifier.weight']\n",
      "You should probably TRAIN this model on a down-stream task to be able to use it for predictions and inference.\n",
      "Some weights of BertForSpanCategorizationE2E were not initialized from the model checkpoint at deepset/gbert-base and are newly initialized: ['classifier.bias', 'classifier.weight']\n",
      "You should probably TRAIN this model on a down-stream task to be able to use it for predictions and inference.\n",
      "You're using a BertTokenizerFast tokenizer. Please note that with a fast tokenizer, using the `__call__` method is faster than using a method to encode the text followed by a call to the `pad` method to get a padded encoding.\n"
     ]
    },
    {
     "data": {
      "text/html": [
       "\n",
       "    <div>\n",
       "      \n",
       "      <progress value='23' max='23' style='width:300px; height:20px; vertical-align: middle;'></progress>\n",
       "      [23/23 00:32, Epoch 1/1]\n",
       "    </div>\n",
       "    <table border=\"1\" class=\"dataframe\">\n",
       "  <thead>\n",
       " <tr style=\"text-align: left;\">\n",
       "      <th>Epoch</th>\n",
       "      <th>Training Loss</th>\n",
       "      <th>Validation Loss</th>\n",
       "      <th>Tp Positive</th>\n",
       "      <th>Tn Positive</th>\n",
       "      <th>Fp Positive</th>\n",
       "      <th>Fn Positive</th>\n",
       "      <th>Accuracy Positive</th>\n",
       "      <th>Precision Positive</th>\n",
       "      <th>Recall Positive</th>\n",
       "      <th>F1 Positive</th>\n",
       "      <th>Tp Neutral</th>\n",
       "      <th>Tn Neutral</th>\n",
       "      <th>Fp Neutral</th>\n",
       "      <th>Fn Neutral</th>\n",
       "      <th>Accuracy Neutral</th>\n",
       "      <th>Precision Neutral</th>\n",
       "      <th>Recall Neutral</th>\n",
       "      <th>F1 Neutral</th>\n",
       "      <th>Tp Negative</th>\n",
       "      <th>Tn Negative</th>\n",
       "      <th>Fp Negative</th>\n",
       "      <th>Fn Negative</th>\n",
       "      <th>Accuracy Negative</th>\n",
       "      <th>Precision Negative</th>\n",
       "      <th>Recall Negative</th>\n",
       "      <th>F1 Negative</th>\n",
       "      <th>F1 Micro</th>\n",
       "      <th>F1 Macro</th>\n",
       "      <th>Tp</th>\n",
       "      <th>Tn</th>\n",
       "      <th>Fp</th>\n",
       "      <th>Fn</th>\n",
       "      <th>Accuracy</th>\n",
       "      <th>Precision</th>\n",
       "      <th>Recall</th>\n",
       "      <th>F1</th>\n",
       "    </tr>\n",
       "  </thead>\n",
       "  <tbody>\n",
       "    <tr>\n",
       "      <td>1</td>\n",
       "      <td>0.509300</td>\n",
       "      <td>0.374033</td>\n",
       "      <td>2</td>\n",
       "      <td>0</td>\n",
       "      <td>5403</td>\n",
       "      <td>298</td>\n",
       "      <td>0.000351</td>\n",
       "      <td>0.000370</td>\n",
       "      <td>0.006667</td>\n",
       "      <td>0.000701</td>\n",
       "      <td>0</td>\n",
       "      <td>0</td>\n",
       "      <td>188</td>\n",
       "      <td>17</td>\n",
       "      <td>0.000000</td>\n",
       "      <td>0.000000</td>\n",
       "      <td>0.000000</td>\n",
       "      <td>0</td>\n",
       "      <td>6</td>\n",
       "      <td>0</td>\n",
       "      <td>2191</td>\n",
       "      <td>204</td>\n",
       "      <td>0.002499</td>\n",
       "      <td>0.002731</td>\n",
       "      <td>0.028571</td>\n",
       "      <td>0.004985</td>\n",
       "      <td>0.001924</td>\n",
       "      <td>0.001896</td>\n",
       "      <td>8</td>\n",
       "      <td>0</td>\n",
       "      <td>7782</td>\n",
       "      <td>519</td>\n",
       "      <td>0.000963</td>\n",
       "      <td>0.001027</td>\n",
       "      <td>0.015180</td>\n",
       "      <td>0.001924</td>\n",
       "    </tr>\n",
       "  </tbody>\n",
       "</table><p>"
      ],
      "text/plain": [
       "<IPython.core.display.HTML object>"
      ]
     },
     "metadata": {},
     "output_type": "display_data"
    },
    {
     "name": "stdout",
     "output_type": "stream",
     "text": [
      "527\n"
     ]
    },
    {
     "data": {
      "text/html": [
       "\n",
       "    <div>\n",
       "      \n",
       "      <progress value='22' max='22' style='width:300px; height:20px; vertical-align: middle;'></progress>\n",
       "      [22/22 00:06]\n",
       "    </div>\n",
       "    "
      ],
      "text/plain": [
       "<IPython.core.display.HTML object>"
      ]
     },
     "metadata": {},
     "output_type": "display_data"
    },
    {
     "name": "stdout",
     "output_type": "stream",
     "text": [
      "527\n",
      "Split 0: {'eval_loss': 0.3740328252315521, 'eval_tp_POSITIVE': 2, 'eval_tn_POSITIVE': 0, 'eval_fp_POSITIVE': 5403, 'eval_fn_POSITIVE': 298, 'eval_accuracy_POSITIVE': 0.0003506926179203928, 'eval_precision_POSITIVE': 0.0003700277520814061, 'eval_recall_POSITIVE': 0.006666666666666667, 'eval_f1_POSITIVE': 0.0007011393514460998, 'eval_tp_NEUTRAL': 0, 'eval_tn_NEUTRAL': 0, 'eval_fp_NEUTRAL': 188, 'eval_fn_NEUTRAL': 17, 'eval_accuracy_NEUTRAL': 0.0, 'eval_precision_NEUTRAL': 0.0, 'eval_recall_NEUTRAL': 0.0, 'eval_f1_NEUTRAL': 0, 'eval_tp_NEGATIVE': 6, 'eval_tn_NEGATIVE': 0, 'eval_fp_NEGATIVE': 2191, 'eval_fn_NEGATIVE': 204, 'eval_accuracy_NEGATIVE': 0.0024989587671803417, 'eval_precision_NEGATIVE': 0.0027309968138370506, 'eval_recall_NEGATIVE': 0.02857142857142857, 'eval_f1_NEGATIVE': 0.004985459077690072, 'eval_f1_micro': 0.0019237705903571002, 'eval_f1_macro': 0.001895532809712057, 'eval_tp': 8, 'eval_tn': 0, 'eval_fp': 7782, 'eval_fn': 519, 'eval_accuracy': 0.0009628114093152004, 'eval_precision': 0.0010269576379974327, 'eval_recall': 0.015180265654648957, 'eval_f1': 0.0019237705903571002, 'eval_runtime': 6.969, 'eval_samples_per_second': 49.505, 'eval_steps_per_second': 3.157, 'epoch': 1.0}\n",
      "546\n"
     ]
    },
    {
     "name": "stderr",
     "output_type": "stream",
     "text": [
      "Some weights of BertForSpanCategorizationE2E were not initialized from the model checkpoint at deepset/gbert-base and are newly initialized: ['classifier.bias', 'classifier.weight']\n",
      "You should probably TRAIN this model on a down-stream task to be able to use it for predictions and inference.\n",
      "Some weights of BertForSpanCategorizationE2E were not initialized from the model checkpoint at deepset/gbert-base and are newly initialized: ['classifier.bias', 'classifier.weight']\n",
      "You should probably TRAIN this model on a down-stream task to be able to use it for predictions and inference.\n"
     ]
    },
    {
     "data": {
      "text/html": [
       "\n",
       "    <div>\n",
       "      \n",
       "      <progress value='22' max='22' style='width:300px; height:20px; vertical-align: middle;'></progress>\n",
       "      [22/22 00:31, Epoch 1/1]\n",
       "    </div>\n",
       "    <table border=\"1\" class=\"dataframe\">\n",
       "  <thead>\n",
       " <tr style=\"text-align: left;\">\n",
       "      <th>Epoch</th>\n",
       "      <th>Training Loss</th>\n",
       "      <th>Validation Loss</th>\n",
       "      <th>Tp Positive</th>\n",
       "      <th>Tn Positive</th>\n",
       "      <th>Fp Positive</th>\n",
       "      <th>Fn Positive</th>\n",
       "      <th>Accuracy Positive</th>\n",
       "      <th>Precision Positive</th>\n",
       "      <th>Recall Positive</th>\n",
       "      <th>F1 Positive</th>\n",
       "      <th>Tp Neutral</th>\n",
       "      <th>Tn Neutral</th>\n",
       "      <th>Fp Neutral</th>\n",
       "      <th>Fn Neutral</th>\n",
       "      <th>Accuracy Neutral</th>\n",
       "      <th>Precision Neutral</th>\n",
       "      <th>Recall Neutral</th>\n",
       "      <th>F1 Neutral</th>\n",
       "      <th>Tp Negative</th>\n",
       "      <th>Tn Negative</th>\n",
       "      <th>Fp Negative</th>\n",
       "      <th>Fn Negative</th>\n",
       "      <th>Accuracy Negative</th>\n",
       "      <th>Precision Negative</th>\n",
       "      <th>Recall Negative</th>\n",
       "      <th>F1 Negative</th>\n",
       "      <th>F1 Micro</th>\n",
       "      <th>F1 Macro</th>\n",
       "      <th>Tp</th>\n",
       "      <th>Tn</th>\n",
       "      <th>Fp</th>\n",
       "      <th>Fn</th>\n",
       "      <th>Accuracy</th>\n",
       "      <th>Precision</th>\n",
       "      <th>Recall</th>\n",
       "      <th>F1</th>\n",
       "    </tr>\n",
       "  </thead>\n",
       "  <tbody>\n",
       "    <tr>\n",
       "      <td>1</td>\n",
       "      <td>0.520500</td>\n",
       "      <td>0.396496</td>\n",
       "      <td>1</td>\n",
       "      <td>0</td>\n",
       "      <td>7244</td>\n",
       "      <td>302</td>\n",
       "      <td>0.000133</td>\n",
       "      <td>0.000138</td>\n",
       "      <td>0.003300</td>\n",
       "      <td>0.000265</td>\n",
       "      <td>0</td>\n",
       "      <td>0</td>\n",
       "      <td>280</td>\n",
       "      <td>25</td>\n",
       "      <td>0.000000</td>\n",
       "      <td>0.000000</td>\n",
       "      <td>0.000000</td>\n",
       "      <td>0</td>\n",
       "      <td>11</td>\n",
       "      <td>0</td>\n",
       "      <td>3649</td>\n",
       "      <td>207</td>\n",
       "      <td>0.002845</td>\n",
       "      <td>0.003005</td>\n",
       "      <td>0.050459</td>\n",
       "      <td>0.005673</td>\n",
       "      <td>0.002046</td>\n",
       "      <td>0.001979</td>\n",
       "      <td>12</td>\n",
       "      <td>0</td>\n",
       "      <td>11173</td>\n",
       "      <td>534</td>\n",
       "      <td>0.001024</td>\n",
       "      <td>0.001073</td>\n",
       "      <td>0.021978</td>\n",
       "      <td>0.002046</td>\n",
       "    </tr>\n",
       "  </tbody>\n",
       "</table><p>"
      ],
      "text/plain": [
       "<IPython.core.display.HTML object>"
      ]
     },
     "metadata": {},
     "output_type": "display_data"
    },
    {
     "name": "stdout",
     "output_type": "stream",
     "text": [
      "546\n"
     ]
    },
    {
     "data": {
      "text/html": [
       "\n",
       "    <div>\n",
       "      \n",
       "      <progress value='23' max='23' style='width:300px; height:20px; vertical-align: middle;'></progress>\n",
       "      [23/23 00:06]\n",
       "    </div>\n",
       "    "
      ],
      "text/plain": [
       "<IPython.core.display.HTML object>"
      ]
     },
     "metadata": {},
     "output_type": "display_data"
    },
    {
     "name": "stdout",
     "output_type": "stream",
     "text": [
      "546\n",
      "Split 1: {'eval_loss': 0.39649632573127747, 'eval_tp_POSITIVE': 1, 'eval_tn_POSITIVE': 0, 'eval_fp_POSITIVE': 7244, 'eval_fn_POSITIVE': 302, 'eval_accuracy_POSITIVE': 0.00013250298131707962, 'eval_precision_POSITIVE': 0.00013802622498274673, 'eval_recall_POSITIVE': 0.0033003300330033004, 'eval_f1_POSITIVE': 0.00026497085320614734, 'eval_tp_NEUTRAL': 0, 'eval_tn_NEUTRAL': 0, 'eval_fp_NEUTRAL': 280, 'eval_fn_NEUTRAL': 25, 'eval_accuracy_NEUTRAL': 0.0, 'eval_precision_NEUTRAL': 0.0, 'eval_recall_NEUTRAL': 0.0, 'eval_f1_NEUTRAL': 0, 'eval_tp_NEGATIVE': 11, 'eval_tn_NEGATIVE': 0, 'eval_fp_NEGATIVE': 3649, 'eval_fn_NEGATIVE': 207, 'eval_accuracy_NEGATIVE': 0.0028445823635893457, 'eval_precision_NEGATIVE': 0.003005464480874317, 'eval_recall_NEGATIVE': 0.05045871559633028, 'eval_f1_NEGATIVE': 0.005673027333677153, 'eval_f1_micro': 0.0020458613928906314, 'eval_f1_macro': 0.0019793327289611, 'eval_tp': 12, 'eval_tn': 0, 'eval_fp': 11173, 'eval_fn': 534, 'eval_accuracy': 0.0010239781551326906, 'eval_precision': 0.0010728654447921323, 'eval_recall': 0.02197802197802198, 'eval_f1': 0.0020458613928906314, 'eval_runtime': 7.1613, 'eval_samples_per_second': 50.27, 'eval_steps_per_second': 3.212, 'epoch': 1.0}\n",
      "487\n"
     ]
    },
    {
     "name": "stderr",
     "output_type": "stream",
     "text": [
      "Some weights of BertForSpanCategorizationE2E were not initialized from the model checkpoint at deepset/gbert-base and are newly initialized: ['classifier.bias', 'classifier.weight']\n",
      "You should probably TRAIN this model on a down-stream task to be able to use it for predictions and inference.\n",
      "Some weights of BertForSpanCategorizationE2E were not initialized from the model checkpoint at deepset/gbert-base and are newly initialized: ['classifier.bias', 'classifier.weight']\n",
      "You should probably TRAIN this model on a down-stream task to be able to use it for predictions and inference.\n"
     ]
    },
    {
     "data": {
      "text/html": [
       "\n",
       "    <div>\n",
       "      \n",
       "      <progress value='2' max='23' style='width:300px; height:20px; vertical-align: middle;'></progress>\n",
       "      [ 2/23 : < :, Epoch 0.04/1]\n",
       "    </div>\n",
       "    <table border=\"1\" class=\"dataframe\">\n",
       "  <thead>\n",
       " <tr style=\"text-align: left;\">\n",
       "      <th>Epoch</th>\n",
       "      <th>Training Loss</th>\n",
       "      <th>Validation Loss</th>\n",
       "    </tr>\n",
       "  </thead>\n",
       "  <tbody>\n",
       "  </tbody>\n",
       "</table><p>"
      ],
      "text/plain": [
       "<IPython.core.display.HTML object>"
      ]
     },
     "metadata": {},
     "output_type": "display_data"
    },
    {
     "name": "stderr",
     "output_type": "stream",
     "text": [
      "\n",
      "KeyboardInterrupt\n",
      "\n"
     ]
    }
   ],
   "source": [
    "if TARGET == \"end_2_end_absa\":\n",
    "    results = train_E2E_model(LLM_NAME, N_REAL, N_SYNTH, TARGET, LLM_SAMPLING, train_dataset, test_dataset)"
   ]
  },
  {
   "cell_type": "code",
   "execution_count": null,
   "metadata": {},
   "outputs": [],
   "source": [
    "if TARGET == \"aspect_term\":\n",
    "    results = train_OTE_model(\n",
    "        LLM_NAME, N_REAL, N_SYNTH, TARGET, LLM_SAMPLING, train_dataset, test_dataset)"
   ]
  },
  {
   "cell_type": "code",
   "execution_count": null,
   "metadata": {},
   "outputs": [],
   "source": [
    "if TARGET == \"target_aspect_sentiment_detection\":\n",
    "    results = train_TASD_model(\n",
    "        LLM_NAME, N_REAL, N_SYNTH, TARGET, LLM_SAMPLING, train_dataset, test_dataset)"
   ]
  },
  {
   "cell_type": "markdown",
   "metadata": {},
   "source": [
    "### Save Results"
   ]
  },
  {
   "cell_type": "code",
   "execution_count": null,
   "metadata": {},
   "outputs": [],
   "source": [
    "with open(f'results_json/results_{LLM_NAME}_real{N_REAL}_synth{N_SYNTH}_{TARGET}_{LLM_SAMPLING}.json', 'w') as json_file:\n",
    "    json.dump(results, json_file)\n",
    "\n",
    "df = pd.DataFrame([results])\n",
    "df.to_csv(f'results_csv/results_{LLM_NAME}_real{N_REAL}_synth{N_SYNTH}_{TARGET}_{LLM_SAMPLING}.csv', index=False)"
   ]
  },
  {
   "cell_type": "code",
   "execution_count": null,
   "metadata": {},
   "outputs": [],
   "source": [
    "results"
   ]
  },
  {
   "cell_type": "markdown",
   "metadata": {},
   "source": [
    "### Remove useless folders"
   ]
  },
  {
   "cell_type": "code",
   "execution_count": null,
   "metadata": {},
   "outputs": [],
   "source": [
    "try:\n",
    "    shutil.rmtree(\"outputs\")\n",
    "except:\n",
    "    pass"
   ]
  },
  {
   "cell_type": "code",
   "execution_count": null,
   "metadata": {},
   "outputs": [],
   "source": []
  }
 ],
 "metadata": {
  "kernelspec": {
   "display_name": "Python 3 (ipykernel)",
   "language": "python",
   "name": "python3"
  },
  "language_info": {
   "codemirror_mode": {
    "name": "ipython",
    "version": 3
   },
   "file_extension": ".py",
   "mimetype": "text/x-python",
   "name": "python",
   "nbconvert_exporter": "python",
   "pygments_lexer": "ipython3",
   "version": "3.11.3"
  }
 },
 "nbformat": 4,
 "nbformat_minor": 4
}
