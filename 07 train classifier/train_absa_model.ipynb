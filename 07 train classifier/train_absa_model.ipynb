{
 "cells": [
  {
   "cell_type": "markdown",
   "metadata": {},
   "source": [
    "# Notebook: Train Model"
   ]
  },
  {
   "cell_type": "markdown",
   "metadata": {},
   "source": [
    "## Packages"
   ]
  },
  {
   "cell_type": "code",
   "execution_count": 1,
   "metadata": {},
   "outputs": [],
   "source": [
    "from load_dataset_folds import load_dataset_folds\n",
    "from ACD import train_ACD_model\n",
    "from OTE import train_OTE_model\n",
    "import pandas as pd\n",
    "import numpy as np\n",
    "import constants\n",
    "import warnings\n",
    "import shutil\n",
    "import torch\n",
    "import json\n",
    "import sys"
   ]
  },
  {
   "cell_type": "markdown",
   "metadata": {},
   "source": [
    "* Todo: \"output2\" umbenennen ✅\n",
    "* Todo: Evaluationsskript anpassen\n",
    "* Todo: \"OTD\" entfernen ✅\n",
    "* Todo: Metrics speichern\n",
    "* Todo: Pfade ändern real/fake data\n",
    "* Todo: Nochmal prüfen, ob korrekte daten geladen werden\n",
    "* Todo: Schauen, wieso der erste Term mehrere Tags erhält\n",
    "* Todo: F1 macro brechnen\n",
    "* Metriken bei acd checken und schauen, ob evtl standardmethoden verwendet werden können"
   ]
  },
  {
   "cell_type": "markdown",
   "metadata": {},
   "source": [
    "## Parameters"
   ]
  },
  {
   "cell_type": "code",
   "execution_count": 2,
   "metadata": {},
   "outputs": [],
   "source": [
    "LLM_NAME = \"Llama13B\"\n",
    "N_REAL = 500\n",
    "N_SYNTH = 0\n",
    "TARGET = \"aspect_term\" # \"aspect_term\", \"aspect_category\"\n",
    "LLM_SAMPLING = \"fixed\""
   ]
  },
  {
   "cell_type": "markdown",
   "metadata": {},
   "source": [
    "## Settings"
   ]
  },
  {
   "cell_type": "code",
   "execution_count": 3,
   "metadata": {},
   "outputs": [],
   "source": [
    "# Set seeds\n",
    "torch.manual_seed(constants.RANDOM_SEED)\n",
    "torch.backends.cudnn.deterministic = True\n",
    "torch.backends.cudnn.benchmark = False\n",
    "np.random.seed(constants.RANDOM_SEED)\n",
    "\n",
    "# Ignore warnings\n",
    "warnings.filterwarnings(\"ignore\", category=FutureWarning, module=\"transformers.optimization\")\n",
    "torch.device(\"mps\")\n",
    "\n",
    "# Disable Pycache\n",
    "sys.dont_write_bytecode = True"
   ]
  },
  {
   "cell_type": "markdown",
   "metadata": {},
   "source": [
    "## Code"
   ]
  },
  {
   "cell_type": "code",
   "execution_count": 4,
   "metadata": {},
   "outputs": [],
   "source": [
    "train_dataset, test_dataset = load_dataset_folds(LLM_NAME, N_REAL, N_SYNTH, TARGET, LLM_SAMPLING)"
   ]
  },
  {
   "cell_type": "markdown",
   "metadata": {},
   "source": [
    "### Load Model"
   ]
  },
  {
   "cell_type": "code",
   "execution_count": 5,
   "metadata": {},
   "outputs": [],
   "source": [
    "if TARGET == \"aspect_category\":\n",
    "   results = train_ACD_model(LLM_NAME, N_REAL, N_SYNTH, TARGET, LLM_SAMPLING, train_dataset, test_dataset)"
   ]
  },
  {
   "cell_type": "code",
   "execution_count": 6,
   "metadata": {},
   "outputs": [
    {
     "name": "stderr",
     "output_type": "stream",
     "text": [
      "Some weights of the model checkpoint at deepset/gbert-base were not used when initializing BertForSpanCategorizationOTE: ['cls.predictions.decoder.weight', 'cls.predictions.transform.dense.weight', 'cls.seq_relationship.weight', 'cls.predictions.bias', 'cls.seq_relationship.bias', 'cls.predictions.transform.dense.bias', 'cls.predictions.transform.LayerNorm.bias', 'cls.predictions.transform.LayerNorm.weight']\n",
      "- This IS expected if you are initializing BertForSpanCategorizationOTE from the checkpoint of a model trained on another task or with another architecture (e.g. initializing a BertForSequenceClassification model from a BertForPreTraining model).\n",
      "- This IS NOT expected if you are initializing BertForSpanCategorizationOTE from the checkpoint of a model that you expect to be exactly identical (initializing a BertForSequenceClassification model from a BertForSequenceClassification model).\n",
      "Some weights of BertForSpanCategorizationOTE were not initialized from the model checkpoint at deepset/gbert-base and are newly initialized: ['classifier.bias', 'classifier.weight']\n",
      "You should probably TRAIN this model on a down-stream task to be able to use it for predictions and inference.\n",
      "Some weights of the model checkpoint at deepset/gbert-base were not used when initializing BertForSpanCategorizationOTE: ['cls.predictions.decoder.weight', 'cls.predictions.transform.dense.weight', 'cls.seq_relationship.weight', 'cls.predictions.bias', 'cls.seq_relationship.bias', 'cls.predictions.transform.dense.bias', 'cls.predictions.transform.LayerNorm.bias', 'cls.predictions.transform.LayerNorm.weight']\n",
      "- This IS expected if you are initializing BertForSpanCategorizationOTE from the checkpoint of a model trained on another task or with another architecture (e.g. initializing a BertForSequenceClassification model from a BertForPreTraining model).\n",
      "- This IS NOT expected if you are initializing BertForSpanCategorizationOTE from the checkpoint of a model that you expect to be exactly identical (initializing a BertForSequenceClassification model from a BertForSequenceClassification model).\n",
      "Some weights of BertForSpanCategorizationOTE were not initialized from the model checkpoint at deepset/gbert-base and are newly initialized: ['classifier.bias', 'classifier.weight']\n",
      "You should probably TRAIN this model on a down-stream task to be able to use it for predictions and inference.\n"
     ]
    },
    {
     "name": "stdout",
     "output_type": "stream",
     "text": [
      "huggingface/tokenizers: The current process just got forked, after parallelism has already been used. Disabling parallelism to avoid deadlocks...\n",
      "To disable this warning, you can either:\n",
      "\t- Avoid using `tokenizers` before the fork if possible\n",
      "\t- Explicitly set the environment variable TOKENIZERS_PARALLELISM=(true | false)\n"
     ]
    },
    {
     "data": {
      "application/vnd.jupyter.widget-view+json": {
       "model_id": "9e2a95fd20cf477eb7827c8669035e28",
       "version_major": 2,
       "version_minor": 0
      },
      "text/plain": [
       "  0%|          | 0/32 [00:00<?, ?it/s]"
      ]
     },
     "metadata": {},
     "output_type": "display_data"
    },
    {
     "name": "stderr",
     "output_type": "stream",
     "text": [
      "You're using a BertTokenizerFast tokenizer. Please note that with a fast tokenizer, using the `__call__` method is faster than using a method to encode the text followed by a call to the `pad` method to get a padded encoding.\n"
     ]
    },
    {
     "name": "stdout",
     "output_type": "stream",
     "text": [
      "{'loss': 473.264, 'learning_rate': 0.0, 'epoch': 1.0}\n"
     ]
    },
    {
     "data": {
      "application/vnd.jupyter.widget-view+json": {
       "model_id": "fd38f9b9dacd48beab4cfb6b3872f438",
       "version_major": 2,
       "version_minor": 0
      },
      "text/plain": [
       "  0%|          | 0/32 [00:00<?, ?it/s]"
      ]
     },
     "metadata": {},
     "output_type": "display_data"
    },
    {
     "name": "stdout",
     "output_type": "stream",
     "text": [
      "GENERAL-IMPRESSION dataset size: 31\n",
      "FOOD dataset size: 166\n",
      "SERVICE dataset size: 169\n",
      "AMBIENCE dataset size: 101\n",
      "PRICE dataset size: 33\n",
      "{'eval_loss': 473.1263732910156, 'eval_f1_GENERAL-IMPRESSION': 0.13333333333333333, 'eval_precision_GENERAL-IMPRESSION': 0.07142857142857142, 'eval_recall_GENERAL-IMPRESSION': 1.0, 'eval_tp_GENERAL-IMPRESSION': 31, 'eval_tn_GENERAL-IMPRESSION': 0, 'eval_fp_GENERAL-IMPRESSION': 403, 'eval_fn_GENERAL-IMPRESSION': 0, 'eval_n_samples_GENERAL-IMPRESSION': 31, 'eval_f1_FOOD': 0, 'eval_precision_FOOD': 0.0, 'eval_recall_FOOD': 0.0, 'eval_tp_FOOD': 0, 'eval_tn_FOOD': 0, 'eval_fp_FOOD': 4767, 'eval_fn_FOOD': 166, 'eval_n_samples_FOOD': 166, 'eval_f1_SERVICE': 0.00794912559618442, 'eval_precision_SERVICE': 0.004065591543569589, 'eval_recall_SERVICE': 0.17751479289940827, 'eval_tp_SERVICE': 30, 'eval_tn_SERVICE': 0, 'eval_fp_SERVICE': 7349, 'eval_fn_SERVICE': 139, 'eval_n_samples_SERVICE': 169, 'eval_f1_AMBIENCE': 0.015416958654519973, 'eval_precision_AMBIENCE': 0.007957559681697613, 'eval_recall_AMBIENCE': 0.2462686567164179, 'eval_tp_AMBIENCE': 33, 'eval_tn_AMBIENCE': 0, 'eval_fp_AMBIENCE': 4114, 'eval_fn_AMBIENCE': 101, 'eval_n_samples_AMBIENCE': 101, 'eval_f1_PRICE': 0, 'eval_precision_PRICE': 0.0, 'eval_recall_PRICE': 0.0, 'eval_tp_PRICE': 0, 'eval_tn_PRICE': 0, 'eval_fp_PRICE': 594, 'eval_fn_PRICE': 33, 'eval_n_samples_PRICE': 33, 'eval_f1_micro': 0.03917485439600943, 'eval_f1_macro': 0.03133988351680754, 'eval_precision': 0.005426938398475838, 'eval_recall': 0.17636022514071295, 'eval_f1': 0.010529853254172734, 'eval_runtime': 10.0449, 'eval_samples_per_second': 49.776, 'eval_steps_per_second': 3.186, 'epoch': 1.0}\n",
      "{'train_runtime': 48.2513, 'train_samples_per_second': 10.466, 'train_steps_per_second': 0.663, 'train_loss': 473.2640075683594, 'epoch': 1.0}\n",
      "train_data_length: 505\n"
     ]
    },
    {
     "data": {
      "application/vnd.jupyter.widget-view+json": {
       "model_id": "068e7d5775794d5ebf441948b913e209",
       "version_major": 2,
       "version_minor": 0
      },
      "text/plain": [
       "  0%|          | 0/32 [00:00<?, ?it/s]"
      ]
     },
     "metadata": {},
     "output_type": "display_data"
    },
    {
     "name": "stdout",
     "output_type": "stream",
     "text": [
      "GENERAL-IMPRESSION dataset size: 31\n",
      "FOOD dataset size: 166\n",
      "SERVICE dataset size: 169\n",
      "AMBIENCE dataset size: 101\n",
      "PRICE dataset size: 33\n"
     ]
    },
    {
     "name": "stderr",
     "output_type": "stream",
     "text": [
      "Some weights of the model checkpoint at deepset/gbert-base were not used when initializing BertForSpanCategorizationOTE: ['cls.predictions.decoder.weight', 'cls.predictions.transform.dense.weight', 'cls.seq_relationship.weight', 'cls.predictions.bias', 'cls.seq_relationship.bias', 'cls.predictions.transform.dense.bias', 'cls.predictions.transform.LayerNorm.bias', 'cls.predictions.transform.LayerNorm.weight']\n",
      "- This IS expected if you are initializing BertForSpanCategorizationOTE from the checkpoint of a model trained on another task or with another architecture (e.g. initializing a BertForSequenceClassification model from a BertForPreTraining model).\n",
      "- This IS NOT expected if you are initializing BertForSpanCategorizationOTE from the checkpoint of a model that you expect to be exactly identical (initializing a BertForSequenceClassification model from a BertForSequenceClassification model).\n",
      "Some weights of BertForSpanCategorizationOTE were not initialized from the model checkpoint at deepset/gbert-base and are newly initialized: ['classifier.bias', 'classifier.weight']\n",
      "You should probably TRAIN this model on a down-stream task to be able to use it for predictions and inference.\n",
      "Some weights of the model checkpoint at deepset/gbert-base were not used when initializing BertForSpanCategorizationOTE: ['cls.predictions.decoder.weight', 'cls.predictions.transform.dense.weight', 'cls.seq_relationship.weight', 'cls.predictions.bias', 'cls.seq_relationship.bias', 'cls.predictions.transform.dense.bias', 'cls.predictions.transform.LayerNorm.bias', 'cls.predictions.transform.LayerNorm.weight']\n",
      "- This IS expected if you are initializing BertForSpanCategorizationOTE from the checkpoint of a model trained on another task or with another architecture (e.g. initializing a BertForSequenceClassification model from a BertForPreTraining model).\n",
      "- This IS NOT expected if you are initializing BertForSpanCategorizationOTE from the checkpoint of a model that you expect to be exactly identical (initializing a BertForSequenceClassification model from a BertForSequenceClassification model).\n",
      "Some weights of BertForSpanCategorizationOTE were not initialized from the model checkpoint at deepset/gbert-base and are newly initialized: ['classifier.bias', 'classifier.weight']\n",
      "You should probably TRAIN this model on a down-stream task to be able to use it for predictions and inference.\n"
     ]
    },
    {
     "data": {
      "application/vnd.jupyter.widget-view+json": {
       "model_id": "2ed4c672811343b0807bda4864932d10",
       "version_major": 2,
       "version_minor": 0
      },
      "text/plain": [
       "  0%|          | 0/31 [00:00<?, ?it/s]"
      ]
     },
     "metadata": {},
     "output_type": "display_data"
    },
    {
     "name": "stdout",
     "output_type": "stream",
     "text": [
      "{'loss': 473.265, 'learning_rate': 0.0, 'epoch': 1.0}\n"
     ]
    },
    {
     "data": {
      "application/vnd.jupyter.widget-view+json": {
       "model_id": "0cc08142506847fc886feba594a2b5db",
       "version_major": 2,
       "version_minor": 0
      },
      "text/plain": [
       "  0%|          | 0/32 [00:00<?, ?it/s]"
      ]
     },
     "metadata": {},
     "output_type": "display_data"
    },
    {
     "name": "stdout",
     "output_type": "stream",
     "text": [
      "GENERAL-IMPRESSION dataset size: 37\n",
      "FOOD dataset size: 167\n",
      "SERVICE dataset size: 169\n",
      "AMBIENCE dataset size: 99\n",
      "PRICE dataset size: 33\n",
      "{'eval_loss': 473.1297607421875, 'eval_f1_GENERAL-IMPRESSION': 0.13333333333333333, 'eval_precision_GENERAL-IMPRESSION': 0.07142857142857142, 'eval_recall_GENERAL-IMPRESSION': 1.0, 'eval_tp_GENERAL-IMPRESSION': 37, 'eval_tn_GENERAL-IMPRESSION': 0, 'eval_fp_GENERAL-IMPRESSION': 481, 'eval_fn_GENERAL-IMPRESSION': 0, 'eval_n_samples_GENERAL-IMPRESSION': 37, 'eval_f1_FOOD': 0.015220700152207002, 'eval_precision_FOOD': 0.007947019867549669, 'eval_recall_FOOD': 0.17964071856287425, 'eval_tp_FOOD': 30, 'eval_tn_FOOD': 0, 'eval_fp_FOOD': 3745, 'eval_fn_FOOD': 137, 'eval_n_samples_FOOD': 167, 'eval_f1_SERVICE': 0, 'eval_precision_SERVICE': 0.0, 'eval_recall_SERVICE': 0.0, 'eval_tp_SERVICE': 0, 'eval_tn_SERVICE': 0, 'eval_fp_SERVICE': 6077, 'eval_fn_SERVICE': 169, 'eval_n_samples_SERVICE': 169, 'eval_f1_AMBIENCE': 0.019607843137254898, 'eval_precision_AMBIENCE': 0.01020408163265306, 'eval_recall_AMBIENCE': 0.25, 'eval_tp_AMBIENCE': 33, 'eval_tn_AMBIENCE': 0, 'eval_fp_AMBIENCE': 3201, 'eval_fn_AMBIENCE': 99, 'eval_n_samples_AMBIENCE': 99, 'eval_f1_PRICE': 0, 'eval_precision_PRICE': 0.0, 'eval_recall_PRICE': 0.0, 'eval_tp_PRICE': 0, 'eval_tn_PRICE': 0, 'eval_fp_PRICE': 528, 'eval_fn_PRICE': 33, 'eval_n_samples_PRICE': 33, 'eval_f1_micro': 0.042040469155698805, 'eval_f1_macro': 0.033632375324559045, 'eval_precision': 0.007076139258420606, 'eval_recall': 0.18587360594795538, 'eval_f1': 0.013633265167007498, 'eval_runtime': 10.2511, 'eval_samples_per_second': 49.263, 'eval_steps_per_second': 3.122, 'epoch': 1.0}\n",
      "{'train_runtime': 47.385, 'train_samples_per_second': 10.341, 'train_steps_per_second': 0.654, 'train_loss': 473.26502646169354, 'epoch': 1.0}\n",
      "train_data_length: 490\n"
     ]
    },
    {
     "data": {
      "application/vnd.jupyter.widget-view+json": {
       "model_id": "5040e04079624cf2848d53966c3f3add",
       "version_major": 2,
       "version_minor": 0
      },
      "text/plain": [
       "  0%|          | 0/32 [00:00<?, ?it/s]"
      ]
     },
     "metadata": {},
     "output_type": "display_data"
    },
    {
     "name": "stdout",
     "output_type": "stream",
     "text": [
      "GENERAL-IMPRESSION dataset size: 37\n",
      "FOOD dataset size: 167\n",
      "SERVICE dataset size: 169\n",
      "AMBIENCE dataset size: 99\n",
      "PRICE dataset size: 33\n"
     ]
    }
   ],
   "source": [
    "if TARGET == \"aspect_term\":\n",
    "    results = train_OTE_model(LLM_NAME, N_REAL, N_SYNTH, TARGET, LLM_SAMPLING, train_dataset, test_dataset)"
   ]
  },
  {
   "cell_type": "markdown",
   "metadata": {},
   "source": [
    "### Save Results"
   ]
  },
  {
   "cell_type": "code",
   "execution_count": 7,
   "metadata": {},
   "outputs": [],
   "source": [
    "with open(f'results_json/results_{LLM_NAME}_real{N_REAL}_synth{N_SYNTH}_{TARGET}_{LLM_SAMPLING}.json', 'w') as json_file:\n",
    "    json.dump(results, json_file)\n",
    "\n",
    "df = pd.DataFrame([results])\n",
    "df.to_csv(f'results_csv/results_{LLM_NAME}_real{N_REAL}_synth{N_SYNTH}_{TARGET}_{LLM_SAMPLING}.csv', index=False)"
   ]
  },
  {
   "cell_type": "code",
   "execution_count": 8,
   "metadata": {},
   "outputs": [
    {
     "data": {
      "text/plain": [
       "{'LLM_NAME': 'Llama13B',\n",
       " 'N_REAL': 500,\n",
       " 'N_SYNTH': 0,\n",
       " 'TARGET': 'aspect_term',\n",
       " 'LLM_SAMPLING': 'fixed',\n",
       " 'eval_f1_micro': 0.04060766177585412,\n",
       " 'eval_f1_macro': 0.032486129420683296,\n",
       " 'eval_precision': 0.006251538828448222,\n",
       " 'eval_precision_GENERAL-IMPRESSION': 0.07142857142857142,\n",
       " 'eval_precision_FOOD': 0.003973509933774834,\n",
       " 'eval_precision_SERVICE': 0.0020327957717847945,\n",
       " 'eval_precision_AMBIENCE': 0.009080820657175337,\n",
       " 'eval_precision_PRICE': 0.0,\n",
       " 'eval_recall_GENERAL-IMPRESSION': 1.0,\n",
       " 'eval_recall_FOOD': 0.08982035928143713,\n",
       " 'eval_recall_SERVICE': 0.08875739644970414,\n",
       " 'eval_recall_AMBIENCE': 0.24813432835820895,\n",
       " 'eval_recall_PRICE': 0.0,\n",
       " 'eval_f1_GENERAL-IMPRESSION': 0.13333333333333333,\n",
       " 'eval_f1_FOOD': 0.007610350076103501,\n",
       " 'eval_f1_SERVICE': 0.00397456279809221,\n",
       " 'eval_f1_AMBIENCE': 0.017512400895887435,\n",
       " 'eval_f1_PRICE': 0.0,\n",
       " 'runtime': 121.91285920143127,\n",
       " 'runtime_formatted': '2m 1s',\n",
       " 'eval_loss': 473.12806701660156}"
      ]
     },
     "execution_count": 8,
     "metadata": {},
     "output_type": "execute_result"
    }
   ],
   "source": [
    "results"
   ]
  },
  {
   "cell_type": "markdown",
   "metadata": {},
   "source": [
    "### Remove useless folders"
   ]
  },
  {
   "cell_type": "code",
   "execution_count": 9,
   "metadata": {},
   "outputs": [],
   "source": [
    "try:\n",
    "    shutil.rmtree(\"outputs\")\n",
    "except:\n",
    "    pass"
   ]
  },
  {
   "cell_type": "code",
   "execution_count": null,
   "metadata": {},
   "outputs": [],
   "source": []
  }
 ],
 "metadata": {
  "kernelspec": {
   "display_name": "tensorflow_m1",
   "language": "python",
   "name": "python3"
  },
  "language_info": {
   "codemirror_mode": {
    "name": "ipython",
    "version": 3
   },
   "file_extension": ".py",
   "mimetype": "text/x-python",
   "name": "python",
   "nbconvert_exporter": "python",
   "pygments_lexer": "ipython3",
   "version": "3.11.3"
  },
  "orig_nbformat": 4
 },
 "nbformat": 4,
 "nbformat_minor": 2
}
