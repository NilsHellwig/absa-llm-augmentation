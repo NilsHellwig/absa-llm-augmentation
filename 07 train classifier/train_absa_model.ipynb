{
 "cells": [
  {
   "cell_type": "markdown",
   "metadata": {},
   "source": [
    "# Notebook: Train Model"
   ]
  },
  {
   "cell_type": "markdown",
   "metadata": {},
   "source": [
    "## Packages"
   ]
  },
  {
   "cell_type": "code",
   "execution_count": 1,
   "metadata": {},
   "outputs": [],
   "source": [
    "from load_dataset_folds import load_dataset_folds\n",
    "from ACD import train_ACD_model\n",
    "from OTE import train_OTE_model\n",
    "import pandas as pd\n",
    "import numpy as np\n",
    "import constants\n",
    "import warnings\n",
    "import shutil\n",
    "import torch\n",
    "import json\n",
    "import sys"
   ]
  },
  {
   "cell_type": "markdown",
   "metadata": {},
   "source": [
    "* Todo: \"output2\" umbenennen ✅\n",
    "* Todo: Evaluationsskript anpassen ✅\n",
    "* Todo: \"OTD\" entfernen ✅\n",
    "* Todo: Metrics speichern ✅\n",
    "* Todo: Pfade ändern real/fake data ✅\n",
    "* Todo: Nochmal prüfen, ob korrekte daten geladen werden ✅\n",
    "* Todo: Schauen, wieso der erste Term mehrere Tags erhält ✅\n",
    "* Todo: F1 macro brechnen ✅\n",
    "* Metriken bei acd checken und schauen, ob evtl standardmethoden verwendet werden können ✅\n",
    "* Todo: Prüfen, ob es Text gibt, der sowohl in Train als auch Test ist ✅"
   ]
  },
  {
   "cell_type": "markdown",
   "metadata": {},
   "source": [
    "## Parameters"
   ]
  },
  {
   "cell_type": "code",
   "execution_count": 2,
   "metadata": {},
   "outputs": [],
   "source": [
    "LLM_NAME = \"Llama13B\"\n",
    "N_REAL = 500\n",
    "N_SYNTH = 0\n",
    "TARGET = \"aspect_term\" # \"aspect_term\", \"aspect_category\"\n",
    "LLM_SAMPLING = \"fixed\""
   ]
  },
  {
   "cell_type": "markdown",
   "metadata": {},
   "source": [
    "## Settings"
   ]
  },
  {
   "cell_type": "code",
   "execution_count": 3,
   "metadata": {},
   "outputs": [],
   "source": [
    "# Set seeds\n",
    "torch.manual_seed(constants.RANDOM_SEED)\n",
    "torch.backends.cudnn.deterministic = True\n",
    "torch.backends.cudnn.benchmark = False\n",
    "np.random.seed(constants.RANDOM_SEED)\n",
    "\n",
    "# Ignore warnings\n",
    "warnings.filterwarnings(\"ignore\", category=FutureWarning, module=\"transformers.optimization\")\n",
    "torch.device(\"mps\")\n",
    "\n",
    "# Disable Pycache\n",
    "sys.dont_write_bytecode = True"
   ]
  },
  {
   "cell_type": "markdown",
   "metadata": {},
   "source": [
    "## Code"
   ]
  },
  {
   "cell_type": "code",
   "execution_count": 4,
   "metadata": {},
   "outputs": [],
   "source": [
    "train_dataset, test_dataset = load_dataset_folds(LLM_NAME, N_REAL, N_SYNTH, LLM_SAMPLING)"
   ]
  },
  {
   "cell_type": "markdown",
   "metadata": {},
   "source": [
    "### Load Model"
   ]
  },
  {
   "cell_type": "code",
   "execution_count": 5,
   "metadata": {},
   "outputs": [],
   "source": [
    "if TARGET == \"aspect_category\":\n",
    "   results = train_ACD_model(LLM_NAME, N_REAL, N_SYNTH, TARGET, LLM_SAMPLING, train_dataset, test_dataset)"
   ]
  },
  {
   "cell_type": "code",
   "execution_count": 10,
   "metadata": {},
   "outputs": [
    {
     "name": "stdout",
     "output_type": "stream",
     "text": [
      "example: {'text': 'Suppe war nicht heiß, kümmerte den Service aber nicht.', 'aspect_category': 'FOOD', 'tags': [{'end': 5, 'start': 0, 'tag_with_polarity': 'FOOD-POSITIVE', 'tag_with_polarity_and_type': 'FOOD-POSITIVE-explicit', 'text': 'Suppe', 'type': 'label-explicit', 'label': 'FOOD', 'polarity': 'POSITIVE'}], 'id': '9372f1ee-58b3-425e-8a6b-775627bbd424'}\n",
      "one-hot: [[1, 0, 0], [0, 1, 0], [0, 0, 1], [1, 0, 0], [1, 0, 0], [1, 0, 0], [1, 0, 0], [1, 0, 0], [1, 0, 0], [1, 0, 0], [1, 0, 0], [1, 0, 0], [1, 0, 0], [1, 0, 0], [1, 0, 0], [1, 0, 0], [1, 0, 0], [1, 0, 0], [1, 0, 0], [1, 0, 0], [1, 0, 0], [1, 0, 0], [1, 0, 0], [1, 0, 0], [1, 0, 0], [1, 0, 0], [1, 0, 0], [1, 0, 0], [1, 0, 0], [1, 0, 0], [1, 0, 0], [1, 0, 0], [1, 0, 0], [1, 0, 0], [1, 0, 0], [1, 0, 0], [1, 0, 0], [1, 0, 0], [1, 0, 0], [1, 0, 0], [1, 0, 0], [1, 0, 0], [1, 0, 0], [1, 0, 0], [1, 0, 0], [1, 0, 0], [1, 0, 0], [1, 0, 0], [1, 0, 0], [1, 0, 0], [1, 0, 0], [1, 0, 0], [1, 0, 0], [1, 0, 0], [1, 0, 0], [1, 0, 0], [1, 0, 0], [1, 0, 0], [1, 0, 0], [1, 0, 0], [1, 0, 0], [1, 0, 0], [1, 0, 0], [1, 0, 0], [1, 0, 0], [1, 0, 0], [1, 0, 0], [1, 0, 0], [1, 0, 0], [1, 0, 0], [1, 0, 0], [1, 0, 0], [1, 0, 0], [1, 0, 0], [1, 0, 0], [1, 0, 0], [1, 0, 0], [1, 0, 0], [1, 0, 0], [1, 0, 0], [1, 0, 0], [1, 0, 0], [1, 0, 0], [1, 0, 0], [1, 0, 0], [1, 0, 0], [1, 0, 0], [1, 0, 0], [1, 0, 0], [1, 0, 0], [1, 0, 0], [1, 0, 0], [1, 0, 0], [1, 0, 0], [1, 0, 0], [1, 0, 0], [1, 0, 0], [1, 0, 0], [1, 0, 0], [1, 0, 0], [1, 0, 0], [1, 0, 0], [1, 0, 0], [1, 0, 0], [1, 0, 0], [1, 0, 0], [1, 0, 0], [1, 0, 0], [1, 0, 0], [1, 0, 0], [1, 0, 0], [1, 0, 0], [1, 0, 0], [1, 0, 0], [1, 0, 0], [1, 0, 0], [1, 0, 0], [1, 0, 0], [1, 0, 0], [1, 0, 0], [1, 0, 0], [1, 0, 0], [1, 0, 0], [1, 0, 0], [1, 0, 0], [1, 0, 0], [1, 0, 0], [1, 0, 0], [1, 0, 0], [1, 0, 0], [1, 0, 0], [1, 0, 0], [1, 0, 0], [1, 0, 0], [1, 0, 0], [1, 0, 0], [1, 0, 0], [1, 0, 0], [1, 0, 0], [1, 0, 0], [1, 0, 0], [1, 0, 0], [1, 0, 0], [1, 0, 0], [1, 0, 0], [1, 0, 0], [1, 0, 0], [1, 0, 0], [1, 0, 0], [1, 0, 0], [1, 0, 0], [1, 0, 0], [1, 0, 0], [1, 0, 0], [1, 0, 0], [1, 0, 0], [1, 0, 0], [1, 0, 0], [1, 0, 0], [1, 0, 0], [1, 0, 0], [1, 0, 0], [1, 0, 0], [1, 0, 0], [1, 0, 0], [1, 0, 0], [1, 0, 0], [1, 0, 0], [1, 0, 0], [1, 0, 0], [1, 0, 0], [1, 0, 0], [1, 0, 0], [1, 0, 0], [1, 0, 0], [1, 0, 0], [1, 0, 0], [1, 0, 0], [1, 0, 0], [1, 0, 0], [1, 0, 0], [1, 0, 0], [1, 0, 0], [1, 0, 0], [1, 0, 0], [1, 0, 0], [1, 0, 0], [1, 0, 0], [1, 0, 0], [1, 0, 0], [1, 0, 0], [1, 0, 0], [1, 0, 0], [1, 0, 0], [1, 0, 0], [1, 0, 0], [1, 0, 0], [1, 0, 0], [1, 0, 0], [1, 0, 0], [1, 0, 0], [1, 0, 0], [1, 0, 0], [1, 0, 0], [1, 0, 0], [1, 0, 0], [1, 0, 0], [1, 0, 0], [1, 0, 0], [1, 0, 0], [1, 0, 0], [1, 0, 0], [1, 0, 0], [1, 0, 0], [1, 0, 0], [1, 0, 0], [1, 0, 0], [1, 0, 0], [1, 0, 0], [1, 0, 0], [1, 0, 0], [1, 0, 0], [1, 0, 0], [1, 0, 0], [1, 0, 0], [1, 0, 0], [1, 0, 0], [1, 0, 0], [1, 0, 0], [1, 0, 0], [1, 0, 0], [1, 0, 0], [1, 0, 0], [1, 0, 0], [1, 0, 0], [1, 0, 0], [1, 0, 0], [1, 0, 0], [1, 0, 0], [1, 0, 0], [1, 0, 0], [1, 0, 0], [1, 0, 0], [1, 0, 0], [1, 0, 0], [1, 0, 0], [1, 0, 0], [1, 0, 0], [1, 0, 0], [1, 0, 0], [1, 0, 0], [1, 0, 0], [1, 0, 0], [1, 0, 0], [1, 0, 0], [1, 0, 0]]\n"
     ]
    },
    {
     "ename": "Exception",
     "evalue": "This is a custom error message.",
     "output_type": "error",
     "traceback": [
      "\u001b[0;31m---------------------------------------------------------------------------\u001b[0m",
      "\u001b[0;31mException\u001b[0m                                 Traceback (most recent call last)",
      "\u001b[1;32m/Users/nils_hellwig/Desktop/Studium/Masterstudium WS 2023:24/Masterarbeit/absa-llm-augmentation/07 train classifier/train_absa_model.ipynb Zelle 13\u001b[0m line \u001b[0;36m2\n\u001b[1;32m      <a href='vscode-notebook-cell:/Users/nils_hellwig/Desktop/Studium/Masterstudium%20WS%202023%3A24/Masterarbeit/absa-llm-augmentation/07%20train%20classifier/train_absa_model.ipynb#X24sZmlsZQ%3D%3D?line=0'>1</a>\u001b[0m \u001b[39mif\u001b[39;00m TARGET \u001b[39m==\u001b[39m \u001b[39m\"\u001b[39m\u001b[39maspect_term\u001b[39m\u001b[39m\"\u001b[39m:\n\u001b[0;32m----> <a href='vscode-notebook-cell:/Users/nils_hellwig/Desktop/Studium/Masterstudium%20WS%202023%3A24/Masterarbeit/absa-llm-augmentation/07%20train%20classifier/train_absa_model.ipynb#X24sZmlsZQ%3D%3D?line=1'>2</a>\u001b[0m     results \u001b[39m=\u001b[39m train_OTE_model(LLM_NAME, N_REAL, N_SYNTH, TARGET, LLM_SAMPLING, train_dataset[\u001b[39m2\u001b[39;49m:][\u001b[39m2\u001b[39;49m:], test_dataset)\n",
      "File \u001b[0;32m~/Desktop/Studium/Masterstudium WS 2023:24/Masterarbeit/absa-llm-augmentation/07 train classifier/OTE/__init__.py:34\u001b[0m, in \u001b[0;36mtrain_OTE_model\u001b[0;34m(LLM_NAME, N_REAL, N_SYNTH, TARGET, LLM_SAMPLING, train_dataset, test_dataset)\u001b[0m\n\u001b[1;32m     32\u001b[0m train_data \u001b[39m=\u001b[39m train_dataset[cross_idx]\n\u001b[1;32m     33\u001b[0m test_data \u001b[39m=\u001b[39m test_dataset[cross_idx]\n\u001b[0;32m---> 34\u001b[0m train_data, test_data \u001b[39m=\u001b[39m get_preprocessed_data_OTE(\n\u001b[1;32m     35\u001b[0m     train_data, test_data, tokenizer)\n\u001b[1;32m     36\u001b[0m trainer \u001b[39m=\u001b[39m get_trainer_OTE(train_data, test_data, tokenizer)\n\u001b[1;32m     37\u001b[0m trainer\u001b[39m.\u001b[39mtrain()\n",
      "File \u001b[0;32m~/Desktop/Studium/Masterstudium WS 2023:24/Masterarbeit/absa-llm-augmentation/07 train classifier/OTE/preprocessing.py:95\u001b[0m, in \u001b[0;36mget_preprocessed_data_OTE\u001b[0;34m(train_data, test_data, tokenizer)\u001b[0m\n\u001b[1;32m     93\u001b[0m train_data \u001b[39m=\u001b[39m dataset_to_aspect_level_OTE(train_data)\n\u001b[1;32m     94\u001b[0m test_data \u001b[39m=\u001b[39m dataset_to_aspect_level_OTE(test_data)\n\u001b[0;32m---> 95\u001b[0m train_data \u001b[39m=\u001b[39m [preprocess_example_OTE(\n\u001b[1;32m     96\u001b[0m     example, tokenizer) \u001b[39mfor\u001b[39;49;00m example \u001b[39min\u001b[39;49;00m train_data]\n\u001b[1;32m     97\u001b[0m test_data \u001b[39m=\u001b[39m [preprocess_example_OTE(\n\u001b[1;32m     98\u001b[0m     example, tokenizer) \u001b[39mfor\u001b[39;00m example \u001b[39min\u001b[39;00m test_data]\n\u001b[1;32m     99\u001b[0m train_data \u001b[39m=\u001b[39m CustomDatasetOTE([example[\u001b[39m\"\u001b[39m\u001b[39minput_ids\u001b[39m\u001b[39m\"\u001b[39m] \u001b[39mfor\u001b[39;00m example \u001b[39min\u001b[39;00m train_data],\n\u001b[1;32m    100\u001b[0m                               [example[\u001b[39m\"\u001b[39m\u001b[39mattention_mask\u001b[39m\u001b[39m\"\u001b[39m]\n\u001b[1;32m    101\u001b[0m                                   \u001b[39mfor\u001b[39;00m example \u001b[39min\u001b[39;00m train_data],\n\u001b[0;32m   (...)\u001b[0m\n\u001b[1;32m    105\u001b[0m                                   \u001b[39mfor\u001b[39;00m example \u001b[39min\u001b[39;00m train_data],\n\u001b[1;32m    106\u001b[0m                               [example[\u001b[39m\"\u001b[39m\u001b[39mlabels\u001b[39m\u001b[39m\"\u001b[39m] \u001b[39mfor\u001b[39;00m example \u001b[39min\u001b[39;00m train_data])\n",
      "File \u001b[0;32m~/Desktop/Studium/Masterstudium WS 2023:24/Masterarbeit/absa-llm-augmentation/07 train classifier/OTE/preprocessing.py:95\u001b[0m, in \u001b[0;36m<listcomp>\u001b[0;34m(.0)\u001b[0m\n\u001b[1;32m     93\u001b[0m train_data \u001b[39m=\u001b[39m dataset_to_aspect_level_OTE(train_data)\n\u001b[1;32m     94\u001b[0m test_data \u001b[39m=\u001b[39m dataset_to_aspect_level_OTE(test_data)\n\u001b[0;32m---> 95\u001b[0m train_data \u001b[39m=\u001b[39m [preprocess_example_OTE(\n\u001b[1;32m     96\u001b[0m     example, tokenizer) \u001b[39mfor\u001b[39;00m example \u001b[39min\u001b[39;00m train_data]\n\u001b[1;32m     97\u001b[0m test_data \u001b[39m=\u001b[39m [preprocess_example_OTE(\n\u001b[1;32m     98\u001b[0m     example, tokenizer) \u001b[39mfor\u001b[39;00m example \u001b[39min\u001b[39;00m test_data]\n\u001b[1;32m     99\u001b[0m train_data \u001b[39m=\u001b[39m CustomDatasetOTE([example[\u001b[39m\"\u001b[39m\u001b[39minput_ids\u001b[39m\u001b[39m\"\u001b[39m] \u001b[39mfor\u001b[39;00m example \u001b[39min\u001b[39;00m train_data],\n\u001b[1;32m    100\u001b[0m                               [example[\u001b[39m\"\u001b[39m\u001b[39mattention_mask\u001b[39m\u001b[39m\"\u001b[39m]\n\u001b[1;32m    101\u001b[0m                                   \u001b[39mfor\u001b[39;00m example \u001b[39min\u001b[39;00m train_data],\n\u001b[0;32m   (...)\u001b[0m\n\u001b[1;32m    105\u001b[0m                                   \u001b[39mfor\u001b[39;00m example \u001b[39min\u001b[39;00m train_data],\n\u001b[1;32m    106\u001b[0m                               [example[\u001b[39m\"\u001b[39m\u001b[39mlabels\u001b[39m\u001b[39m\"\u001b[39m] \u001b[39mfor\u001b[39;00m example \u001b[39min\u001b[39;00m train_data])\n",
      "File \u001b[0;32m~/Desktop/Studium/Masterstudium WS 2023:24/Masterarbeit/absa-llm-augmentation/07 train classifier/OTE/preprocessing.py:59\u001b[0m, in \u001b[0;36mpreprocess_example_OTE\u001b[0;34m(example, tokenizer)\u001b[0m\n\u001b[1;32m     56\u001b[0m         token_labels[constants\u001b[39m.\u001b[39mLABEL_TO_ID_OTE[\u001b[39m\"\u001b[39m\u001b[39mO\u001b[39m\u001b[39m\"\u001b[39m]] \u001b[39m=\u001b[39m \u001b[39m1\u001b[39m\n\u001b[1;32m     58\u001b[0m \u001b[39mprint\u001b[39m(\u001b[39m\"\u001b[39m\u001b[39mone-hot:\u001b[39m\u001b[39m\"\u001b[39m, one_hot_output)\n\u001b[0;32m---> 59\u001b[0m \u001b[39mraise\u001b[39;00m \u001b[39mException\u001b[39;00m(\u001b[39m\"\u001b[39m\u001b[39mThis is a custom error message.\u001b[39m\u001b[39m\"\u001b[39m)\n\u001b[1;32m     61\u001b[0m \u001b[39mreturn\u001b[39;00m {\n\u001b[1;32m     62\u001b[0m     \u001b[39m\"\u001b[39m\u001b[39minput_ids\u001b[39m\u001b[39m\"\u001b[39m: tokenized_input_text[\u001b[39m\"\u001b[39m\u001b[39minput_ids\u001b[39m\u001b[39m\"\u001b[39m],\n\u001b[1;32m     63\u001b[0m     \u001b[39m\"\u001b[39m\u001b[39mattention_mask\u001b[39m\u001b[39m\"\u001b[39m: tokenized_input_text[\u001b[39m\"\u001b[39m\u001b[39mattention_mask\u001b[39m\u001b[39m\"\u001b[39m],\n\u001b[0;32m   (...)\u001b[0m\n\u001b[1;32m     66\u001b[0m     \u001b[39m\"\u001b[39m\u001b[39mlabels\u001b[39m\u001b[39m\"\u001b[39m: one_hot_output\n\u001b[1;32m     67\u001b[0m }\n",
      "\u001b[0;31mException\u001b[0m: This is a custom error message."
     ]
    }
   ],
   "source": [
    "if TARGET == \"aspect_term\":\n",
    "    results = train_OTE_model(LLM_NAME, N_REAL, N_SYNTH, TARGET, LLM_SAMPLING, train_dataset, test_dataset)"
   ]
  },
  {
   "cell_type": "markdown",
   "metadata": {},
   "source": [
    "### Save Results"
   ]
  },
  {
   "cell_type": "code",
   "execution_count": null,
   "metadata": {},
   "outputs": [],
   "source": [
    "with open(f'results_json/results_{LLM_NAME}_real{N_REAL}_synth{N_SYNTH}_{TARGET}_{LLM_SAMPLING}.json', 'w') as json_file:\n",
    "    json.dump(results, json_file)\n",
    "\n",
    "df = pd.DataFrame([results])\n",
    "df.to_csv(f'results_csv/results_{LLM_NAME}_real{N_REAL}_synth{N_SYNTH}_{TARGET}_{LLM_SAMPLING}.csv', index=False)"
   ]
  },
  {
   "cell_type": "code",
   "execution_count": null,
   "metadata": {},
   "outputs": [
    {
     "data": {
      "text/plain": [
       "{'LLM_NAME': 'Llama13B',\n",
       " 'N_REAL': 500,\n",
       " 'N_SYNTH': 0,\n",
       " 'TARGET': 'aspect_category',\n",
       " 'LLM_SAMPLING': 'fixed',\n",
       " 'eval_loss': 0.5155795216560364,\n",
       " 'eval_accuracy': 0.2,\n",
       " 'eval_hamming_loss': 0.1852,\n",
       " 'eval_f1_macro': 0.18387096774193548,\n",
       " 'eval_f1_micro': 0.42484472049689437,\n",
       " 'eval_f1_weighted': 0.29146738577388825,\n",
       " 'eval_precision_GENERAL-IMPRESSION': 0.0,\n",
       " 'eval_recall_GENERAL-IMPRESSION': 0.0,\n",
       " 'eval_f1_GENERAL-IMPRESSION': 0.0,\n",
       " 'eval_precision_FOOD': 0.0,\n",
       " 'eval_recall_FOOD': 0.0,\n",
       " 'eval_f1_FOOD': 0.0,\n",
       " 'eval_precision_SERVICE': 1.0,\n",
       " 'eval_recall_SERVICE': 0.8507462686567164,\n",
       " 'eval_f1_SERVICE': 0.9193548387096774,\n",
       " 'eval_precision_AMBIENCE': 0.0,\n",
       " 'eval_recall_AMBIENCE': 0.0,\n",
       " 'eval_f1_AMBIENCE': 0.0,\n",
       " 'eval_precision_PRICE': 0.0,\n",
       " 'eval_recall_PRICE': 0.0,\n",
       " 'eval_f1_PRICE': 0.0,\n",
       " 'runtime': 21.374308824539185,\n",
       " 'runtime_formatted': '21s'}"
      ]
     },
     "execution_count": 8,
     "metadata": {},
     "output_type": "execute_result"
    }
   ],
   "source": [
    "results"
   ]
  },
  {
   "cell_type": "markdown",
   "metadata": {},
   "source": [
    "### Remove useless folders"
   ]
  },
  {
   "cell_type": "code",
   "execution_count": null,
   "metadata": {},
   "outputs": [],
   "source": [
    "try:\n",
    "    shutil.rmtree(\"outputs\")\n",
    "except:\n",
    "    pass"
   ]
  },
  {
   "cell_type": "code",
   "execution_count": null,
   "metadata": {},
   "outputs": [],
   "source": []
  }
 ],
 "metadata": {
  "kernelspec": {
   "display_name": "tensorflow_m1",
   "language": "python",
   "name": "python3"
  },
  "language_info": {
   "codemirror_mode": {
    "name": "ipython",
    "version": 3
   },
   "file_extension": ".py",
   "mimetype": "text/x-python",
   "name": "python",
   "nbconvert_exporter": "python",
   "pygments_lexer": "ipython3",
   "version": "3.11.3"
  },
  "orig_nbformat": 4
 },
 "nbformat": 4,
 "nbformat_minor": 2
}
