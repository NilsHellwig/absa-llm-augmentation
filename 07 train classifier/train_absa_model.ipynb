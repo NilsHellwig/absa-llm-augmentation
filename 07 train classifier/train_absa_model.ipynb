{
 "cells": [
  {
   "cell_type": "markdown",
   "metadata": {},
   "source": [
    "# Notebook: Train Model"
   ]
  },
  {
   "cell_type": "markdown",
   "metadata": {},
   "source": [
    "* To-Do: Error throwen, wenn es bei den labels ein invalide sequence übersetzung gibt"
   ]
  },
  {
   "cell_type": "markdown",
   "metadata": {},
   "source": [
    "## Packages"
   ]
  },
  {
   "cell_type": "code",
   "execution_count": 1,
   "metadata": {},
   "outputs": [],
   "source": [
    "from load_dataset_folds import load_dataset_folds\n",
    "from transformers import set_seed\n",
    "from TASD import train_TASD_model\n",
    "from ACD import train_ACD_model\n",
    "from OTE import train_OTE_model\n",
    "import pandas as pd\n",
    "import numpy as np\n",
    "import constants\n",
    "import warnings\n",
    "import shutil\n",
    "import torch\n",
    "import json\n",
    "import sys"
   ]
  },
  {
   "cell_type": "markdown",
   "metadata": {},
   "source": [
    "## Parameters"
   ]
  },
  {
   "cell_type": "code",
   "execution_count": 2,
   "metadata": {},
   "outputs": [],
   "source": [
    "LLM_NAME = \"Llama13B\"\n",
    "N_REAL = 500\n",
    "N_SYNTH = 0\n",
    "TARGET = \"aspect_category\" # \"aspect_term\", \"aspect_category\", \"target_aspect_sentiment_detection\"\n",
    "LLM_SAMPLING = \"random\""
   ]
  },
  {
   "cell_type": "markdown",
   "metadata": {},
   "source": [
    "## Settings"
   ]
  },
  {
   "cell_type": "code",
   "execution_count": 3,
   "metadata": {},
   "outputs": [],
   "source": [
    "# Set seeds\n",
    "torch.device(constants.DEVICE)\n",
    "torch.manual_seed(constants.RANDOM_SEED)\n",
    "torch.backends.cudnn.deterministic = True\n",
    "torch.backends.cudnn.benchmark = False\n",
    "np.random.seed(constants.RANDOM_SEED)\n",
    "set_seed(constants.RANDOM_SEED)\n",
    "\n",
    "if torch.cuda.is_available():\n",
    "    torch.cuda.manual_seed_all(constants.RANDOM_SEED)\n",
    "\n",
    "# Ignore warnings\n",
    "warnings.filterwarnings(\"ignore\", category=FutureWarning,\n",
    "                        module=\"transformers.optimization\")\n",
    "\n",
    "# Disable Pycache\n",
    "sys.dont_write_bytecode = True"
   ]
  },
  {
   "cell_type": "markdown",
   "metadata": {},
   "source": [
    "## Code"
   ]
  },
  {
   "cell_type": "code",
   "execution_count": 4,
   "metadata": {},
   "outputs": [
    {
     "name": "stdout",
     "output_type": "stream",
     "text": [
      "500 5\n",
      "500 5\n"
     ]
    }
   ],
   "source": [
    "train_dataset, test_dataset = load_dataset_folds(LLM_NAME, N_REAL, N_SYNTH, LLM_SAMPLING)"
   ]
  },
  {
   "cell_type": "markdown",
   "metadata": {},
   "source": [
    "### Load Model"
   ]
  },
  {
   "cell_type": "code",
   "execution_count": 5,
   "metadata": {},
   "outputs": [
    {
     "name": "stderr",
     "output_type": "stream",
     "text": [
      "Some weights of BertForSequenceClassification were not initialized from the model checkpoint at deepset/gbert-base and are newly initialized: ['classifier.weight', 'classifier.bias']\n",
      "You should probably TRAIN this model on a down-stream task to be able to use it for predictions and inference.\n",
      "Some weights of BertForSequenceClassification were not initialized from the model checkpoint at deepset/gbert-base and are newly initialized: ['classifier.weight', 'classifier.bias']\n",
      "You should probably TRAIN this model on a down-stream task to be able to use it for predictions and inference.\n",
      "huggingface/tokenizers: The current process just got forked, after parallelism has already been used. Disabling parallelism to avoid deadlocks...\n",
      "To disable this warning, you can either:\n",
      "\t- Avoid using `tokenizers` before the fork if possible\n",
      "\t- Explicitly set the environment variable TOKENIZERS_PARALLELISM=(true | false)\n"
     ]
    },
    {
     "data": {
      "application/vnd.jupyter.widget-view+json": {
       "model_id": "8335dc675e4c4819b2a3a75c6c60ae12",
       "version_major": 2,
       "version_minor": 0
      },
      "text/plain": [
       "  0%|          | 0/160 [00:00<?, ?it/s]"
      ]
     },
     "metadata": {},
     "output_type": "display_data"
    },
    {
     "name": "stderr",
     "output_type": "stream",
     "text": [
      "You're using a BertTokenizerFast tokenizer. Please note that with a fast tokenizer, using the `__call__` method is faster than using a method to encode the text followed by a call to the `pad` method to get a padded encoding.\n"
     ]
    },
    {
     "name": "stdout",
     "output_type": "stream",
     "text": [
      "{'loss': 0.5477, 'learning_rate': 4.000000000000001e-06, 'epoch': 1.0}\n"
     ]
    },
    {
     "data": {
      "application/vnd.jupyter.widget-view+json": {
       "model_id": "25d05459aed24bfb8e7429896fe961e2",
       "version_major": 2,
       "version_minor": 0
      },
      "text/plain": [
       "  0%|          | 0/32 [00:00<?, ?it/s]"
      ]
     },
     "metadata": {},
     "output_type": "display_data"
    },
    {
     "name": "stdout",
     "output_type": "stream",
     "text": [
      "{'eval_loss': 0.45009976625442505, 'eval_hamming_loss': 0.1864, 'eval_accuracy': 0.134, 'eval_f1_macro': 0.22310530454243033, 'eval_f1_micro': 0.414572864321608, 'eval_f1_weighted': 0.3371980526293138, 'eval_precision_GENERAL-IMPRESSION': 0.0, 'eval_recall_GENERAL-IMPRESSION': 0.0, 'eval_f1_GENERAL-IMPRESSION': 0.0, 'eval_precision_FOOD': 1.0, 'eval_recall_FOOD': 0.18562874251497005, 'eval_f1_FOOD': 0.3131313131313131, 'eval_precision_SERVICE': 1.0, 'eval_recall_SERVICE': 0.67, 'eval_f1_SERVICE': 0.8023952095808384, 'eval_precision_AMBIENCE': 0.0, 'eval_recall_AMBIENCE': 0.0, 'eval_f1_AMBIENCE': 0.0, 'eval_precision_PRICE': 0.0, 'eval_recall_PRICE': 0.0, 'eval_f1_PRICE': 0.0, 'eval_runtime': 2.4206, 'eval_samples_per_second': 206.561, 'eval_steps_per_second': 13.22, 'epoch': 1.0}\n",
      "{'loss': 0.4073, 'learning_rate': 3e-06, 'epoch': 2.0}\n"
     ]
    },
    {
     "data": {
      "application/vnd.jupyter.widget-view+json": {
       "model_id": "671ddca2235b47dcbf8cefbffcf97351",
       "version_major": 2,
       "version_minor": 0
      },
      "text/plain": [
       "  0%|          | 0/32 [00:00<?, ?it/s]"
      ]
     },
     "metadata": {},
     "output_type": "display_data"
    },
    {
     "name": "stdout",
     "output_type": "stream",
     "text": [
      "{'eval_loss': 0.31729498505592346, 'eval_hamming_loss': 0.0548, 'eval_accuracy': 0.726, 'eval_f1_macro': 0.6712451173121601, 'eval_f1_micro': 0.8782222222222222, 'eval_f1_weighted': 0.8332484140911753, 'eval_precision_GENERAL-IMPRESSION': 1.0, 'eval_recall_GENERAL-IMPRESSION': 1.0, 'eval_f1_GENERAL-IMPRESSION': 1.0, 'eval_precision_FOOD': 1.0, 'eval_recall_FOOD': 0.7904191616766467, 'eval_f1_FOOD': 0.882943143812709, 'eval_precision_SERVICE': 1.0, 'eval_recall_SERVICE': 1.0, 'eval_f1_SERVICE': 1.0, 'eval_precision_AMBIENCE': 1.0, 'eval_recall_AMBIENCE': 0.31, 'eval_f1_AMBIENCE': 0.47328244274809156, 'eval_precision_PRICE': 0.0, 'eval_recall_PRICE': 0.0, 'eval_f1_PRICE': 0.0, 'eval_runtime': 2.6873, 'eval_samples_per_second': 186.059, 'eval_steps_per_second': 11.908, 'epoch': 2.0}\n",
      "{'loss': 0.3067, 'learning_rate': 2.0000000000000003e-06, 'epoch': 3.0}\n"
     ]
    },
    {
     "data": {
      "application/vnd.jupyter.widget-view+json": {
       "model_id": "4ecc3c1adbce40f9b201edf298c2c3eb",
       "version_major": 2,
       "version_minor": 0
      },
      "text/plain": [
       "  0%|          | 0/32 [00:00<?, ?it/s]"
      ]
     },
     "metadata": {},
     "output_type": "display_data"
    },
    {
     "name": "stdout",
     "output_type": "stream",
     "text": [
      "{'eval_loss': 0.24074643850326538, 'eval_hamming_loss': 0.0132, 'eval_accuracy': 0.934, 'eval_f1_macro': 0.9604790419161677, 'eval_f1_micro': 0.9731489015459723, 'eval_f1_weighted': 0.9686838683963294, 'eval_precision_GENERAL-IMPRESSION': 1.0, 'eval_recall_GENERAL-IMPRESSION': 1.0, 'eval_f1_GENERAL-IMPRESSION': 1.0, 'eval_precision_FOOD': 1.0, 'eval_recall_FOOD': 1.0, 'eval_f1_FOOD': 1.0, 'eval_precision_SERVICE': 1.0, 'eval_recall_SERVICE': 1.0, 'eval_f1_SERVICE': 1.0, 'eval_precision_AMBIENCE': 1.0, 'eval_recall_AMBIENCE': 0.67, 'eval_f1_AMBIENCE': 0.8023952095808384, 'eval_precision_PRICE': 1.0, 'eval_recall_PRICE': 1.0, 'eval_f1_PRICE': 1.0, 'eval_runtime': 2.5451, 'eval_samples_per_second': 196.456, 'eval_steps_per_second': 12.573, 'epoch': 3.0}\n",
      "{'loss': 0.2539, 'learning_rate': 1.0000000000000002e-06, 'epoch': 4.0}\n"
     ]
    },
    {
     "data": {
      "application/vnd.jupyter.widget-view+json": {
       "model_id": "a2dcfce62bd54bf297f11594b37c4945",
       "version_major": 2,
       "version_minor": 0
      },
      "text/plain": [
       "  0%|          | 0/32 [00:00<?, ?it/s]"
      ]
     },
     "metadata": {},
     "output_type": "display_data"
    },
    {
     "name": "stdout",
     "output_type": "stream",
     "text": [
      "{'eval_loss': 0.20778518915176392, 'eval_hamming_loss': 0.0, 'eval_accuracy': 1.0, 'eval_f1_macro': 1.0, 'eval_f1_micro': 1.0, 'eval_f1_weighted': 1.0, 'eval_precision_GENERAL-IMPRESSION': 1.0, 'eval_recall_GENERAL-IMPRESSION': 1.0, 'eval_f1_GENERAL-IMPRESSION': 1.0, 'eval_precision_FOOD': 1.0, 'eval_recall_FOOD': 1.0, 'eval_f1_FOOD': 1.0, 'eval_precision_SERVICE': 1.0, 'eval_recall_SERVICE': 1.0, 'eval_f1_SERVICE': 1.0, 'eval_precision_AMBIENCE': 1.0, 'eval_recall_AMBIENCE': 1.0, 'eval_f1_AMBIENCE': 1.0, 'eval_precision_PRICE': 1.0, 'eval_recall_PRICE': 1.0, 'eval_f1_PRICE': 1.0, 'eval_runtime': 2.3396, 'eval_samples_per_second': 213.716, 'eval_steps_per_second': 13.678, 'epoch': 4.0}\n",
      "{'loss': 0.2301, 'learning_rate': 0.0, 'epoch': 5.0}\n"
     ]
    },
    {
     "data": {
      "application/vnd.jupyter.widget-view+json": {
       "model_id": "be0d82bde8b541a1a8bf9f9ed526900d",
       "version_major": 2,
       "version_minor": 0
      },
      "text/plain": [
       "  0%|          | 0/32 [00:00<?, ?it/s]"
      ]
     },
     "metadata": {},
     "output_type": "display_data"
    },
    {
     "name": "stdout",
     "output_type": "stream",
     "text": [
      "{'eval_loss': 0.19867871701717377, 'eval_hamming_loss': 0.0, 'eval_accuracy': 1.0, 'eval_f1_macro': 1.0, 'eval_f1_micro': 1.0, 'eval_f1_weighted': 1.0, 'eval_precision_GENERAL-IMPRESSION': 1.0, 'eval_recall_GENERAL-IMPRESSION': 1.0, 'eval_f1_GENERAL-IMPRESSION': 1.0, 'eval_precision_FOOD': 1.0, 'eval_recall_FOOD': 1.0, 'eval_f1_FOOD': 1.0, 'eval_precision_SERVICE': 1.0, 'eval_recall_SERVICE': 1.0, 'eval_f1_SERVICE': 1.0, 'eval_precision_AMBIENCE': 1.0, 'eval_recall_AMBIENCE': 1.0, 'eval_f1_AMBIENCE': 1.0, 'eval_precision_PRICE': 1.0, 'eval_recall_PRICE': 1.0, 'eval_f1_PRICE': 1.0, 'eval_runtime': 2.5237, 'eval_samples_per_second': 198.125, 'eval_steps_per_second': 12.68, 'epoch': 5.0}\n",
      "{'train_runtime': 78.392, 'train_samples_per_second': 31.891, 'train_steps_per_second': 2.041, 'train_loss': 0.34914917647838595, 'epoch': 5.0}\n"
     ]
    },
    {
     "data": {
      "application/vnd.jupyter.widget-view+json": {
       "model_id": "583fc40617c949599b32c19ab82e5cbc",
       "version_major": 2,
       "version_minor": 0
      },
      "text/plain": [
       "  0%|          | 0/32 [00:00<?, ?it/s]"
      ]
     },
     "metadata": {},
     "output_type": "display_data"
    },
    {
     "name": "stderr",
     "output_type": "stream",
     "text": [
      "Some weights of BertForSequenceClassification were not initialized from the model checkpoint at deepset/gbert-base and are newly initialized: ['classifier.weight', 'classifier.bias']\n",
      "You should probably TRAIN this model on a down-stream task to be able to use it for predictions and inference.\n",
      "Some weights of BertForSequenceClassification were not initialized from the model checkpoint at deepset/gbert-base and are newly initialized: ['classifier.weight', 'classifier.bias']\n",
      "You should probably TRAIN this model on a down-stream task to be able to use it for predictions and inference.\n"
     ]
    },
    {
     "data": {
      "application/vnd.jupyter.widget-view+json": {
       "model_id": "d9dffccff8934879b08bb999f255ce78",
       "version_major": 2,
       "version_minor": 0
      },
      "text/plain": [
       "  0%|          | 0/160 [00:00<?, ?it/s]"
      ]
     },
     "metadata": {},
     "output_type": "display_data"
    },
    {
     "name": "stdout",
     "output_type": "stream",
     "text": [
      "{'loss': 0.5557, 'learning_rate': 4.000000000000001e-06, 'epoch': 1.0}\n"
     ]
    },
    {
     "data": {
      "application/vnd.jupyter.widget-view+json": {
       "model_id": "03e06834fa9840e9b9c0371f33d80fb6",
       "version_major": 2,
       "version_minor": 0
      },
      "text/plain": [
       "  0%|          | 0/32 [00:00<?, ?it/s]"
      ]
     },
     "metadata": {},
     "output_type": "display_data"
    },
    {
     "name": "stdout",
     "output_type": "stream",
     "text": [
      "{'eval_loss': 0.4497271180152893, 'eval_hamming_loss': 0.214, 'eval_accuracy': 0.126, 'eval_f1_macro': 0.2041169021428749, 'eval_f1_micro': 0.27604871447902574, 'eval_f1_weighted': 0.2656197199794293, 'eval_precision_GENERAL-IMPRESSION': 1.0, 'eval_recall_GENERAL-IMPRESSION': 0.21052631578947367, 'eval_f1_GENERAL-IMPRESSION': 0.34782608695652173, 'eval_precision_FOOD': 1.0, 'eval_recall_FOOD': 0.23353293413173654, 'eval_f1_FOOD': 0.3786407766990292, 'eval_precision_SERVICE': 1.0, 'eval_recall_SERVICE': 0.1724137931034483, 'eval_f1_SERVICE': 0.29411764705882354, 'eval_precision_AMBIENCE': 0.0, 'eval_recall_AMBIENCE': 0.0, 'eval_f1_AMBIENCE': 0.0, 'eval_precision_PRICE': 0.0, 'eval_recall_PRICE': 0.0, 'eval_f1_PRICE': 0.0, 'eval_runtime': 2.569, 'eval_samples_per_second': 194.628, 'eval_steps_per_second': 12.456, 'epoch': 1.0}\n",
      "{'loss': 0.4065, 'learning_rate': 3e-06, 'epoch': 2.0}\n"
     ]
    },
    {
     "data": {
      "application/vnd.jupyter.widget-view+json": {
       "model_id": "ff0711bcfa4f476dbac6920d6485e714",
       "version_major": 2,
       "version_minor": 0
      },
      "text/plain": [
       "  0%|          | 0/32 [00:00<?, ?it/s]"
      ]
     },
     "metadata": {},
     "output_type": "display_data"
    },
    {
     "name": "stdout",
     "output_type": "stream",
     "text": [
      "{'eval_loss': 0.31215664744377136, 'eval_hamming_loss': 0.0656, 'eval_accuracy': 0.672, 'eval_f1_macro': 0.5802631578947368, 'eval_f1_micro': 0.8522522522522522, 'eval_f1_weighted': 0.7637672477898042, 'eval_precision_GENERAL-IMPRESSION': 1.0, 'eval_recall_GENERAL-IMPRESSION': 1.0, 'eval_f1_GENERAL-IMPRESSION': 1.0, 'eval_precision_FOOD': 1.0, 'eval_recall_FOOD': 0.8203592814371258, 'eval_f1_FOOD': 0.9013157894736842, 'eval_precision_SERVICE': 1.0, 'eval_recall_SERVICE': 1.0, 'eval_f1_SERVICE': 1.0, 'eval_precision_AMBIENCE': 0.0, 'eval_recall_AMBIENCE': 0.0, 'eval_f1_AMBIENCE': 0.0, 'eval_precision_PRICE': 0.0, 'eval_recall_PRICE': 0.0, 'eval_f1_PRICE': 0.0, 'eval_runtime': 3.2391, 'eval_samples_per_second': 154.365, 'eval_steps_per_second': 9.879, 'epoch': 2.0}\n",
      "{'loss': 0.3058, 'learning_rate': 2.0000000000000003e-06, 'epoch': 3.0}\n"
     ]
    },
    {
     "data": {
      "application/vnd.jupyter.widget-view+json": {
       "model_id": "b842fa05816e4c3c809d82e9b12d4713",
       "version_major": 2,
       "version_minor": 0
      },
      "text/plain": [
       "  0%|          | 0/32 [00:00<?, ?it/s]"
      ]
     },
     "metadata": {},
     "output_type": "display_data"
    },
    {
     "name": "stdout",
     "output_type": "stream",
     "text": [
      "{'eval_loss': 0.24468094110488892, 'eval_hamming_loss': 0.0244, 'eval_accuracy': 0.878, 'eval_f1_macro': 0.9122302158273381, 'eval_f1_micro': 0.9497114591920857, 'eval_f1_weighted': 0.9311069198016783, 'eval_precision_GENERAL-IMPRESSION': 1.0, 'eval_recall_GENERAL-IMPRESSION': 1.0, 'eval_f1_GENERAL-IMPRESSION': 1.0, 'eval_precision_FOOD': 1.0, 'eval_recall_FOOD': 1.0, 'eval_f1_FOOD': 1.0, 'eval_precision_SERVICE': 1.0, 'eval_recall_SERVICE': 1.0, 'eval_f1_SERVICE': 1.0, 'eval_precision_AMBIENCE': 1.0, 'eval_recall_AMBIENCE': 0.39, 'eval_f1_AMBIENCE': 0.5611510791366906, 'eval_precision_PRICE': 1.0, 'eval_recall_PRICE': 1.0, 'eval_f1_PRICE': 1.0, 'eval_runtime': 2.279, 'eval_samples_per_second': 219.397, 'eval_steps_per_second': 14.041, 'epoch': 3.0}\n",
      "{'loss': 0.2554, 'learning_rate': 1.0000000000000002e-06, 'epoch': 4.0}\n"
     ]
    },
    {
     "data": {
      "application/vnd.jupyter.widget-view+json": {
       "model_id": "b68ae62ee8214e8494995c9748f70471",
       "version_major": 2,
       "version_minor": 0
      },
      "text/plain": [
       "  0%|          | 0/32 [00:00<?, ?it/s]"
      ]
     },
     "metadata": {},
     "output_type": "display_data"
    },
    {
     "name": "stdout",
     "output_type": "stream",
     "text": [
      "{'eval_loss': 0.20938818156719208, 'eval_hamming_loss': 0.0132, 'eval_accuracy': 0.934, 'eval_f1_macro': 0.9604790419161677, 'eval_f1_micro': 0.9734085414987913, 'eval_f1_weighted': 0.9689788398086089, 'eval_precision_GENERAL-IMPRESSION': 1.0, 'eval_recall_GENERAL-IMPRESSION': 1.0, 'eval_f1_GENERAL-IMPRESSION': 1.0, 'eval_precision_FOOD': 1.0, 'eval_recall_FOOD': 1.0, 'eval_f1_FOOD': 1.0, 'eval_precision_SERVICE': 1.0, 'eval_recall_SERVICE': 1.0, 'eval_f1_SERVICE': 1.0, 'eval_precision_AMBIENCE': 1.0, 'eval_recall_AMBIENCE': 0.67, 'eval_f1_AMBIENCE': 0.8023952095808384, 'eval_precision_PRICE': 1.0, 'eval_recall_PRICE': 1.0, 'eval_f1_PRICE': 1.0, 'eval_runtime': 2.5616, 'eval_samples_per_second': 195.19, 'eval_steps_per_second': 12.492, 'epoch': 4.0}\n",
      "{'loss': 0.2304, 'learning_rate': 0.0, 'epoch': 5.0}\n"
     ]
    },
    {
     "data": {
      "application/vnd.jupyter.widget-view+json": {
       "model_id": "5641d2f5f91e498baa8e1d652e64667f",
       "version_major": 2,
       "version_minor": 0
      },
      "text/plain": [
       "  0%|          | 0/32 [00:00<?, ?it/s]"
      ]
     },
     "metadata": {},
     "output_type": "display_data"
    },
    {
     "name": "stdout",
     "output_type": "stream",
     "text": [
      "{'eval_loss': 0.20011208951473236, 'eval_hamming_loss': 0.0, 'eval_accuracy': 1.0, 'eval_f1_macro': 1.0, 'eval_f1_micro': 1.0, 'eval_f1_weighted': 1.0, 'eval_precision_GENERAL-IMPRESSION': 1.0, 'eval_recall_GENERAL-IMPRESSION': 1.0, 'eval_f1_GENERAL-IMPRESSION': 1.0, 'eval_precision_FOOD': 1.0, 'eval_recall_FOOD': 1.0, 'eval_f1_FOOD': 1.0, 'eval_precision_SERVICE': 1.0, 'eval_recall_SERVICE': 1.0, 'eval_f1_SERVICE': 1.0, 'eval_precision_AMBIENCE': 1.0, 'eval_recall_AMBIENCE': 1.0, 'eval_f1_AMBIENCE': 1.0, 'eval_precision_PRICE': 1.0, 'eval_recall_PRICE': 1.0, 'eval_f1_PRICE': 1.0, 'eval_runtime': 2.4943, 'eval_samples_per_second': 200.458, 'eval_steps_per_second': 12.829, 'epoch': 5.0}\n",
      "{'train_runtime': 76.9658, 'train_samples_per_second': 32.482, 'train_steps_per_second': 2.079, 'train_loss': 0.35076624751091, 'epoch': 5.0}\n"
     ]
    },
    {
     "data": {
      "application/vnd.jupyter.widget-view+json": {
       "model_id": "30e210a245414ebe86c076cb1c4f56ef",
       "version_major": 2,
       "version_minor": 0
      },
      "text/plain": [
       "  0%|          | 0/32 [00:00<?, ?it/s]"
      ]
     },
     "metadata": {},
     "output_type": "display_data"
    },
    {
     "name": "stderr",
     "output_type": "stream",
     "text": [
      "Some weights of BertForSequenceClassification were not initialized from the model checkpoint at deepset/gbert-base and are newly initialized: ['classifier.weight', 'classifier.bias']\n",
      "You should probably TRAIN this model on a down-stream task to be able to use it for predictions and inference.\n",
      "Some weights of BertForSequenceClassification were not initialized from the model checkpoint at deepset/gbert-base and are newly initialized: ['classifier.weight', 'classifier.bias']\n",
      "You should probably TRAIN this model on a down-stream task to be able to use it for predictions and inference.\n"
     ]
    },
    {
     "data": {
      "application/vnd.jupyter.widget-view+json": {
       "model_id": "ebb643c0507e4e2c91fcae452b9f6cb3",
       "version_major": 2,
       "version_minor": 0
      },
      "text/plain": [
       "  0%|          | 0/160 [00:00<?, ?it/s]"
      ]
     },
     "metadata": {},
     "output_type": "display_data"
    },
    {
     "name": "stdout",
     "output_type": "stream",
     "text": [
      "{'loss': 0.5535, 'learning_rate': 4.000000000000001e-06, 'epoch': 1.0}\n"
     ]
    },
    {
     "data": {
      "application/vnd.jupyter.widget-view+json": {
       "model_id": "d74f679eae424bba8596aaf6e74b6ba6",
       "version_major": 2,
       "version_minor": 0
      },
      "text/plain": [
       "  0%|          | 0/32 [00:00<?, ?it/s]"
      ]
     },
     "metadata": {},
     "output_type": "display_data"
    },
    {
     "name": "stdout",
     "output_type": "stream",
     "text": [
      "{'eval_loss': 0.4647424519062042, 'eval_hamming_loss': 0.2032, 'eval_accuracy': 0.122, 'eval_f1_macro': 0.15927051671732523, 'eval_f1_micro': 0.3402597402597402, 'eval_f1_weighted': 0.24675713857613768, 'eval_precision_GENERAL-IMPRESSION': 0.0, 'eval_recall_GENERAL-IMPRESSION': 0.0, 'eval_f1_GENERAL-IMPRESSION': 0.0, 'eval_precision_FOOD': 0.0, 'eval_recall_FOOD': 0.0, 'eval_f1_FOOD': 0.0, 'eval_precision_SERVICE': 1.0, 'eval_recall_SERVICE': 0.6616161616161617, 'eval_f1_SERVICE': 0.7963525835866261, 'eval_precision_AMBIENCE': 0.0, 'eval_recall_AMBIENCE': 0.0, 'eval_f1_AMBIENCE': 0.0, 'eval_precision_PRICE': 0.0, 'eval_recall_PRICE': 0.0, 'eval_f1_PRICE': 0.0, 'eval_runtime': 2.6587, 'eval_samples_per_second': 188.06, 'eval_steps_per_second': 12.036, 'epoch': 1.0}\n",
      "{'loss': 0.4171, 'learning_rate': 3e-06, 'epoch': 2.0}\n"
     ]
    },
    {
     "data": {
      "application/vnd.jupyter.widget-view+json": {
       "model_id": "88f8d77c93044b969faef0eb1413521b",
       "version_major": 2,
       "version_minor": 0
      },
      "text/plain": [
       "  0%|          | 0/32 [00:00<?, ?it/s]"
      ]
     },
     "metadata": {},
     "output_type": "display_data"
    },
    {
     "name": "stdout",
     "output_type": "stream",
     "text": [
      "{'eval_loss': 0.33099138736724854, 'eval_hamming_loss': 0.0648, 'eval_accuracy': 0.676, 'eval_f1_macro': 0.5761904761904761, 'eval_f1_micro': 0.8548387096774194, 'eval_f1_weighted': 0.7671585065951263, 'eval_precision_GENERAL-IMPRESSION': 1.0, 'eval_recall_GENERAL-IMPRESSION': 0.7872340425531915, 'eval_f1_GENERAL-IMPRESSION': 0.880952380952381, 'eval_precision_FOOD': 1.0, 'eval_recall_FOOD': 1.0, 'eval_f1_FOOD': 1.0, 'eval_precision_SERVICE': 1.0, 'eval_recall_SERVICE': 1.0, 'eval_f1_SERVICE': 1.0, 'eval_precision_AMBIENCE': 0.0, 'eval_recall_AMBIENCE': 0.0, 'eval_f1_AMBIENCE': 0.0, 'eval_precision_PRICE': 0.0, 'eval_recall_PRICE': 0.0, 'eval_f1_PRICE': 0.0, 'eval_runtime': 2.5262, 'eval_samples_per_second': 197.922, 'eval_steps_per_second': 12.667, 'epoch': 2.0}\n",
      "{'loss': 0.3186, 'learning_rate': 2.0000000000000003e-06, 'epoch': 3.0}\n"
     ]
    },
    {
     "data": {
      "application/vnd.jupyter.widget-view+json": {
       "model_id": "b3656d0083504212a8e94472ca5d9392",
       "version_major": 2,
       "version_minor": 0
      },
      "text/plain": [
       "  0%|          | 0/32 [00:00<?, ?it/s]"
      ]
     },
     "metadata": {},
     "output_type": "display_data"
    },
    {
     "name": "stdout",
     "output_type": "stream",
     "text": [
      "{'eval_loss': 0.25204598903656006, 'eval_hamming_loss': 0.0256, 'eval_accuracy': 0.872, 'eval_f1_macro': 0.9044776119402986, 'eval_f1_micro': 0.9472817133443163, 'eval_f1_weighted': 0.9260037838974142, 'eval_precision_GENERAL-IMPRESSION': 1.0, 'eval_recall_GENERAL-IMPRESSION': 1.0, 'eval_f1_GENERAL-IMPRESSION': 1.0, 'eval_precision_FOOD': 1.0, 'eval_recall_FOOD': 1.0, 'eval_f1_FOOD': 1.0, 'eval_precision_SERVICE': 1.0, 'eval_recall_SERVICE': 1.0, 'eval_f1_SERVICE': 1.0, 'eval_precision_AMBIENCE': 1.0, 'eval_recall_AMBIENCE': 0.35353535353535354, 'eval_f1_AMBIENCE': 0.5223880597014925, 'eval_precision_PRICE': 1.0, 'eval_recall_PRICE': 1.0, 'eval_f1_PRICE': 1.0, 'eval_runtime': 2.6659, 'eval_samples_per_second': 187.557, 'eval_steps_per_second': 12.004, 'epoch': 3.0}\n",
      "{'loss': 0.2664, 'learning_rate': 1.0000000000000002e-06, 'epoch': 4.0}\n"
     ]
    },
    {
     "data": {
      "application/vnd.jupyter.widget-view+json": {
       "model_id": "d440a6ac20e744f5840f67198b051dc1",
       "version_major": 2,
       "version_minor": 0
      },
      "text/plain": [
       "  0%|          | 0/32 [00:00<?, ?it/s]"
      ]
     },
     "metadata": {},
     "output_type": "display_data"
    },
    {
     "name": "stdout",
     "output_type": "stream",
     "text": [
      "{'eval_loss': 0.21794253587722778, 'eval_hamming_loss': 0.0132, 'eval_accuracy': 0.934, 'eval_f1_macro': 0.96, 'eval_f1_micro': 0.9734939759036145, 'eval_f1_weighted': 0.9690140845070423, 'eval_precision_GENERAL-IMPRESSION': 1.0, 'eval_recall_GENERAL-IMPRESSION': 1.0, 'eval_f1_GENERAL-IMPRESSION': 1.0, 'eval_precision_FOOD': 1.0, 'eval_recall_FOOD': 1.0, 'eval_f1_FOOD': 1.0, 'eval_precision_SERVICE': 1.0, 'eval_recall_SERVICE': 1.0, 'eval_f1_SERVICE': 1.0, 'eval_precision_AMBIENCE': 1.0, 'eval_recall_AMBIENCE': 0.6666666666666666, 'eval_f1_AMBIENCE': 0.8, 'eval_precision_PRICE': 1.0, 'eval_recall_PRICE': 1.0, 'eval_f1_PRICE': 1.0, 'eval_runtime': 2.557, 'eval_samples_per_second': 195.539, 'eval_steps_per_second': 12.514, 'epoch': 4.0}\n",
      "{'loss': 0.2427, 'learning_rate': 0.0, 'epoch': 5.0}\n"
     ]
    },
    {
     "data": {
      "application/vnd.jupyter.widget-view+json": {
       "model_id": "496065b641ee4420b995ebd87702b6ff",
       "version_major": 2,
       "version_minor": 0
      },
      "text/plain": [
       "  0%|          | 0/32 [00:00<?, ?it/s]"
      ]
     },
     "metadata": {},
     "output_type": "display_data"
    },
    {
     "name": "stdout",
     "output_type": "stream",
     "text": [
      "{'eval_loss': 0.20757491886615753, 'eval_hamming_loss': 0.0132, 'eval_accuracy': 0.934, 'eval_f1_macro': 0.96, 'eval_f1_micro': 0.9734939759036145, 'eval_f1_weighted': 0.9690140845070423, 'eval_precision_GENERAL-IMPRESSION': 1.0, 'eval_recall_GENERAL-IMPRESSION': 1.0, 'eval_f1_GENERAL-IMPRESSION': 1.0, 'eval_precision_FOOD': 1.0, 'eval_recall_FOOD': 1.0, 'eval_f1_FOOD': 1.0, 'eval_precision_SERVICE': 1.0, 'eval_recall_SERVICE': 1.0, 'eval_f1_SERVICE': 1.0, 'eval_precision_AMBIENCE': 1.0, 'eval_recall_AMBIENCE': 0.6666666666666666, 'eval_f1_AMBIENCE': 0.8, 'eval_precision_PRICE': 1.0, 'eval_recall_PRICE': 1.0, 'eval_f1_PRICE': 1.0, 'eval_runtime': 2.2564, 'eval_samples_per_second': 221.589, 'eval_steps_per_second': 14.182, 'epoch': 5.0}\n",
      "{'train_runtime': 78.1262, 'train_samples_per_second': 32.0, 'train_steps_per_second': 2.048, 'train_loss': 0.35966856479644777, 'epoch': 5.0}\n"
     ]
    },
    {
     "data": {
      "application/vnd.jupyter.widget-view+json": {
       "model_id": "76cd339207fd4fb3a08a844b151bff02",
       "version_major": 2,
       "version_minor": 0
      },
      "text/plain": [
       "  0%|          | 0/32 [00:00<?, ?it/s]"
      ]
     },
     "metadata": {},
     "output_type": "display_data"
    },
    {
     "name": "stderr",
     "output_type": "stream",
     "text": [
      "Some weights of BertForSequenceClassification were not initialized from the model checkpoint at deepset/gbert-base and are newly initialized: ['classifier.weight', 'classifier.bias']\n",
      "You should probably TRAIN this model on a down-stream task to be able to use it for predictions and inference.\n",
      "Some weights of BertForSequenceClassification were not initialized from the model checkpoint at deepset/gbert-base and are newly initialized: ['classifier.weight', 'classifier.bias']\n",
      "You should probably TRAIN this model on a down-stream task to be able to use it for predictions and inference.\n"
     ]
    },
    {
     "data": {
      "application/vnd.jupyter.widget-view+json": {
       "model_id": "58fad6b9020b4779846114f4540e91d1",
       "version_major": 2,
       "version_minor": 0
      },
      "text/plain": [
       "  0%|          | 0/160 [00:00<?, ?it/s]"
      ]
     },
     "metadata": {},
     "output_type": "display_data"
    },
    {
     "name": "stdout",
     "output_type": "stream",
     "text": [
      "{'loss': 0.5495, 'learning_rate': 4.000000000000001e-06, 'epoch': 1.0}\n"
     ]
    },
    {
     "data": {
      "application/vnd.jupyter.widget-view+json": {
       "model_id": "7a0b6444fda547e4be5573d725a9d628",
       "version_major": 2,
       "version_minor": 0
      },
      "text/plain": [
       "  0%|          | 0/32 [00:00<?, ?it/s]"
      ]
     },
     "metadata": {},
     "output_type": "display_data"
    },
    {
     "name": "stdout",
     "output_type": "stream",
     "text": [
      "{'eval_loss': 0.45139750838279724, 'eval_hamming_loss': 0.1976, 'eval_accuracy': 0.132, 'eval_f1_macro': 0.1604719764011799, 'eval_f1_micro': 0.35509138381201044, 'eval_f1_weighted': 0.258538184201901, 'eval_precision_GENERAL-IMPRESSION': 0.0, 'eval_recall_GENERAL-IMPRESSION': 0.0, 'eval_f1_GENERAL-IMPRESSION': 0.0, 'eval_precision_FOOD': 0.0, 'eval_recall_FOOD': 0.0, 'eval_f1_FOOD': 0.0, 'eval_precision_SERVICE': 1.0, 'eval_recall_SERVICE': 0.6699507389162561, 'eval_f1_SERVICE': 0.8023598820058996, 'eval_precision_AMBIENCE': 0.0, 'eval_recall_AMBIENCE': 0.0, 'eval_f1_AMBIENCE': 0.0, 'eval_precision_PRICE': 0.0, 'eval_recall_PRICE': 0.0, 'eval_f1_PRICE': 0.0, 'eval_runtime': 2.1245, 'eval_samples_per_second': 235.345, 'eval_steps_per_second': 15.062, 'epoch': 1.0}\n",
      "{'loss': 0.4172, 'learning_rate': 3e-06, 'epoch': 2.0}\n"
     ]
    },
    {
     "data": {
      "application/vnd.jupyter.widget-view+json": {
       "model_id": "3d1a7116722044ab9f3bd3d985d80552",
       "version_major": 2,
       "version_minor": 0
      },
      "text/plain": [
       "  0%|          | 0/32 [00:00<?, ?it/s]"
      ]
     },
     "metadata": {},
     "output_type": "display_data"
    },
    {
     "name": "stdout",
     "output_type": "stream",
     "text": [
      "{'eval_loss': 0.33643481135368347, 'eval_hamming_loss': 0.094, 'eval_accuracy': 0.53, 'eval_f1_macro': 0.5188505825673968, 'eval_f1_micro': 0.7707317073170732, 'eval_f1_weighted': 0.688060066568284, 'eval_precision_GENERAL-IMPRESSION': 1.0, 'eval_recall_GENERAL-IMPRESSION': 0.7795275590551181, 'eval_f1_GENERAL-IMPRESSION': 0.8761061946902654, 'eval_precision_FOOD': 1.0, 'eval_recall_FOOD': 0.5602409638554217, 'eval_f1_FOOD': 0.7181467181467182, 'eval_precision_SERVICE': 1.0, 'eval_recall_SERVICE': 1.0, 'eval_f1_SERVICE': 1.0, 'eval_precision_AMBIENCE': 0.0, 'eval_recall_AMBIENCE': 0.0, 'eval_f1_AMBIENCE': 0.0, 'eval_precision_PRICE': 0.0, 'eval_recall_PRICE': 0.0, 'eval_f1_PRICE': 0.0, 'eval_runtime': 2.3611, 'eval_samples_per_second': 211.763, 'eval_steps_per_second': 13.553, 'epoch': 2.0}\n",
      "{'loss': 0.3279, 'learning_rate': 2.0000000000000003e-06, 'epoch': 3.0}\n"
     ]
    },
    {
     "data": {
      "application/vnd.jupyter.widget-view+json": {
       "model_id": "fe662bed7bbf4db9a1c9a689cd20424a",
       "version_major": 2,
       "version_minor": 0
      },
      "text/plain": [
       "  0%|          | 0/32 [00:00<?, ?it/s]"
      ]
     },
     "metadata": {},
     "output_type": "display_data"
    },
    {
     "name": "stdout",
     "output_type": "stream",
     "text": [
      "{'eval_loss': 0.259149432182312, 'eval_hamming_loss': 0.0296, 'eval_accuracy': 0.852, 'eval_f1_macro': 0.884375, 'eval_f1_micro': 0.9376053962900506, 'eval_f1_weighted': 0.9073164682539683, 'eval_precision_GENERAL-IMPRESSION': 1.0, 'eval_recall_GENERAL-IMPRESSION': 1.0, 'eval_f1_GENERAL-IMPRESSION': 1.0, 'eval_precision_FOOD': 1.0, 'eval_recall_FOOD': 1.0, 'eval_f1_FOOD': 1.0, 'eval_precision_SERVICE': 1.0, 'eval_recall_SERVICE': 1.0, 'eval_f1_SERVICE': 1.0, 'eval_precision_AMBIENCE': 1.0, 'eval_recall_AMBIENCE': 0.26732673267326734, 'eval_f1_AMBIENCE': 0.421875, 'eval_precision_PRICE': 1.0, 'eval_recall_PRICE': 1.0, 'eval_f1_PRICE': 1.0, 'eval_runtime': 2.5353, 'eval_samples_per_second': 197.217, 'eval_steps_per_second': 12.622, 'epoch': 3.0}\n",
      "{'loss': 0.2743, 'learning_rate': 1.0000000000000002e-06, 'epoch': 4.0}\n"
     ]
    },
    {
     "data": {
      "application/vnd.jupyter.widget-view+json": {
       "model_id": "75dffd8384af447bbd4ef4c5a5c21db5",
       "version_major": 2,
       "version_minor": 0
      },
      "text/plain": [
       "  0%|          | 0/32 [00:00<?, ?it/s]"
      ]
     },
     "metadata": {},
     "output_type": "display_data"
    },
    {
     "name": "stdout",
     "output_type": "stream",
     "text": [
      "{'eval_loss': 0.226974755525589, 'eval_hamming_loss': 0.0296, 'eval_accuracy': 0.852, 'eval_f1_macro': 0.884375, 'eval_f1_micro': 0.9376053962900506, 'eval_f1_weighted': 0.9073164682539683, 'eval_precision_GENERAL-IMPRESSION': 1.0, 'eval_recall_GENERAL-IMPRESSION': 1.0, 'eval_f1_GENERAL-IMPRESSION': 1.0, 'eval_precision_FOOD': 1.0, 'eval_recall_FOOD': 1.0, 'eval_f1_FOOD': 1.0, 'eval_precision_SERVICE': 1.0, 'eval_recall_SERVICE': 1.0, 'eval_f1_SERVICE': 1.0, 'eval_precision_AMBIENCE': 1.0, 'eval_recall_AMBIENCE': 0.26732673267326734, 'eval_f1_AMBIENCE': 0.421875, 'eval_precision_PRICE': 1.0, 'eval_recall_PRICE': 1.0, 'eval_f1_PRICE': 1.0, 'eval_runtime': 2.3046, 'eval_samples_per_second': 216.96, 'eval_steps_per_second': 13.885, 'epoch': 4.0}\n",
      "{'loss': 0.2519, 'learning_rate': 0.0, 'epoch': 5.0}\n"
     ]
    },
    {
     "data": {
      "application/vnd.jupyter.widget-view+json": {
       "model_id": "75e00e0249a2403abfdd93332fe030e6",
       "version_major": 2,
       "version_minor": 0
      },
      "text/plain": [
       "  0%|          | 0/32 [00:00<?, ?it/s]"
      ]
     },
     "metadata": {},
     "output_type": "display_data"
    },
    {
     "name": "stdout",
     "output_type": "stream",
     "text": [
      "{'eval_loss': 0.21585677564144135, 'eval_hamming_loss': 0.0136, 'eval_accuracy': 0.932, 'eval_f1_macro': 0.9595238095238094, 'eval_f1_micro': 0.9722675367047308, 'eval_f1_weighted': 0.9675547996976569, 'eval_precision_GENERAL-IMPRESSION': 1.0, 'eval_recall_GENERAL-IMPRESSION': 1.0, 'eval_f1_GENERAL-IMPRESSION': 1.0, 'eval_precision_FOOD': 1.0, 'eval_recall_FOOD': 1.0, 'eval_f1_FOOD': 1.0, 'eval_precision_SERVICE': 1.0, 'eval_recall_SERVICE': 1.0, 'eval_f1_SERVICE': 1.0, 'eval_precision_AMBIENCE': 1.0, 'eval_recall_AMBIENCE': 0.6633663366336634, 'eval_f1_AMBIENCE': 0.7976190476190476, 'eval_precision_PRICE': 1.0, 'eval_recall_PRICE': 1.0, 'eval_f1_PRICE': 1.0, 'eval_runtime': 2.2772, 'eval_samples_per_second': 219.569, 'eval_steps_per_second': 14.052, 'epoch': 5.0}\n",
      "{'train_runtime': 70.8715, 'train_samples_per_second': 35.275, 'train_steps_per_second': 2.258, 'train_loss': 0.3641441106796265, 'epoch': 5.0}\n"
     ]
    },
    {
     "data": {
      "application/vnd.jupyter.widget-view+json": {
       "model_id": "9098658ba701417fb1bd6f6aed00d09f",
       "version_major": 2,
       "version_minor": 0
      },
      "text/plain": [
       "  0%|          | 0/32 [00:00<?, ?it/s]"
      ]
     },
     "metadata": {},
     "output_type": "display_data"
    },
    {
     "name": "stderr",
     "output_type": "stream",
     "text": [
      "Some weights of BertForSequenceClassification were not initialized from the model checkpoint at deepset/gbert-base and are newly initialized: ['classifier.weight', 'classifier.bias']\n",
      "You should probably TRAIN this model on a down-stream task to be able to use it for predictions and inference.\n",
      "Some weights of BertForSequenceClassification were not initialized from the model checkpoint at deepset/gbert-base and are newly initialized: ['classifier.weight', 'classifier.bias']\n",
      "You should probably TRAIN this model on a down-stream task to be able to use it for predictions and inference.\n"
     ]
    },
    {
     "data": {
      "application/vnd.jupyter.widget-view+json": {
       "model_id": "09a034cbdcda4b50810e453f329be716",
       "version_major": 2,
       "version_minor": 0
      },
      "text/plain": [
       "  0%|          | 0/160 [00:00<?, ?it/s]"
      ]
     },
     "metadata": {},
     "output_type": "display_data"
    },
    {
     "name": "stdout",
     "output_type": "stream",
     "text": [
      "{'loss': 0.5459, 'learning_rate': 4.000000000000001e-06, 'epoch': 1.0}\n"
     ]
    },
    {
     "data": {
      "application/vnd.jupyter.widget-view+json": {
       "model_id": "32f3b44a7d7c4a0f8fc0d5a8d58db6ab",
       "version_major": 2,
       "version_minor": 0
      },
      "text/plain": [
       "  0%|          | 0/32 [00:00<?, ?it/s]"
      ]
     },
     "metadata": {},
     "output_type": "display_data"
    },
    {
     "name": "stdout",
     "output_type": "stream",
     "text": [
      "{'eval_loss': 0.45195508003234863, 'eval_hamming_loss': 0.198, 'eval_accuracy': 0.202, 'eval_f1_macro': 0.21888082567327852, 'eval_f1_micro': 0.35462842242503256, 'eval_f1_weighted': 0.31312285145972313, 'eval_precision_GENERAL-IMPRESSION': 0.0, 'eval_recall_GENERAL-IMPRESSION': 0.0, 'eval_f1_GENERAL-IMPRESSION': 0.0, 'eval_precision_FOOD': 1.0, 'eval_recall_FOOD': 0.40963855421686746, 'eval_f1_FOOD': 0.5811965811965811, 'eval_precision_SERVICE': 1.0, 'eval_recall_SERVICE': 0.34517766497461927, 'eval_f1_SERVICE': 0.5132075471698113, 'eval_precision_AMBIENCE': 0.0, 'eval_recall_AMBIENCE': 0.0, 'eval_f1_AMBIENCE': 0.0, 'eval_precision_PRICE': 0.0, 'eval_recall_PRICE': 0.0, 'eval_f1_PRICE': 0.0, 'eval_runtime': 2.214, 'eval_samples_per_second': 225.838, 'eval_steps_per_second': 14.454, 'epoch': 1.0}\n",
      "{'loss': 0.4101, 'learning_rate': 3e-06, 'epoch': 2.0}\n"
     ]
    },
    {
     "data": {
      "application/vnd.jupyter.widget-view+json": {
       "model_id": "a9a37b2321fd4c5888dae870a17bba65",
       "version_major": 2,
       "version_minor": 0
      },
      "text/plain": [
       "  0%|          | 0/32 [00:00<?, ?it/s]"
      ]
     },
     "metadata": {},
     "output_type": "display_data"
    },
    {
     "name": "stdout",
     "output_type": "stream",
     "text": [
      "{'eval_loss': 0.3181176781654358, 'eval_hamming_loss': 0.068, 'eval_accuracy': 0.66, 'eval_f1_macro': 0.5756756756756757, 'eval_f1_micro': 0.8443223443223443, 'eval_f1_weighted': 0.7556431233134878, 'eval_precision_GENERAL-IMPRESSION': 1.0, 'eval_recall_GENERAL-IMPRESSION': 1.0, 'eval_f1_GENERAL-IMPRESSION': 1.0, 'eval_precision_FOOD': 1.0, 'eval_recall_FOOD': 0.7831325301204819, 'eval_f1_FOOD': 0.8783783783783784, 'eval_precision_SERVICE': 1.0, 'eval_recall_SERVICE': 1.0, 'eval_f1_SERVICE': 1.0, 'eval_precision_AMBIENCE': 0.0, 'eval_recall_AMBIENCE': 0.0, 'eval_f1_AMBIENCE': 0.0, 'eval_precision_PRICE': 0.0, 'eval_recall_PRICE': 0.0, 'eval_f1_PRICE': 0.0, 'eval_runtime': 2.1833, 'eval_samples_per_second': 229.008, 'eval_steps_per_second': 14.656, 'epoch': 2.0}\n",
      "{'loss': 0.3146, 'learning_rate': 2.0000000000000003e-06, 'epoch': 3.0}\n"
     ]
    },
    {
     "data": {
      "application/vnd.jupyter.widget-view+json": {
       "model_id": "9162100cdeb1447c97a5ffaa5c463a3c",
       "version_major": 2,
       "version_minor": 0
      },
      "text/plain": [
       "  0%|          | 0/32 [00:00<?, ?it/s]"
      ]
     },
     "metadata": {},
     "output_type": "display_data"
    },
    {
     "name": "stdout",
     "output_type": "stream",
     "text": [
      "{'eval_loss': 0.24716423451900482, 'eval_hamming_loss': 0.0136, 'eval_accuracy': 0.932, 'eval_f1_macro': 0.9595238095238094, 'eval_f1_micro': 0.9723127035830619, 'eval_f1_weighted': 0.9676062183986115, 'eval_precision_GENERAL-IMPRESSION': 1.0, 'eval_recall_GENERAL-IMPRESSION': 1.0, 'eval_f1_GENERAL-IMPRESSION': 1.0, 'eval_precision_FOOD': 1.0, 'eval_recall_FOOD': 1.0, 'eval_f1_FOOD': 1.0, 'eval_precision_SERVICE': 1.0, 'eval_recall_SERVICE': 1.0, 'eval_f1_SERVICE': 1.0, 'eval_precision_AMBIENCE': 1.0, 'eval_recall_AMBIENCE': 0.6633663366336634, 'eval_f1_AMBIENCE': 0.7976190476190476, 'eval_precision_PRICE': 1.0, 'eval_recall_PRICE': 1.0, 'eval_f1_PRICE': 1.0, 'eval_runtime': 2.2761, 'eval_samples_per_second': 219.673, 'eval_steps_per_second': 14.059, 'epoch': 3.0}\n",
      "{'loss': 0.2585, 'learning_rate': 1.0000000000000002e-06, 'epoch': 4.0}\n"
     ]
    },
    {
     "data": {
      "application/vnd.jupyter.widget-view+json": {
       "model_id": "0a1aabeeb45941abadea26c104a95362",
       "version_major": 2,
       "version_minor": 0
      },
      "text/plain": [
       "  0%|          | 0/32 [00:00<?, ?it/s]"
      ]
     },
     "metadata": {},
     "output_type": "display_data"
    },
    {
     "name": "stdout",
     "output_type": "stream",
     "text": [
      "{'eval_loss': 0.21201534569263458, 'eval_hamming_loss': 0.0, 'eval_accuracy': 1.0, 'eval_f1_macro': 1.0, 'eval_f1_micro': 1.0, 'eval_f1_weighted': 1.0, 'eval_precision_GENERAL-IMPRESSION': 1.0, 'eval_recall_GENERAL-IMPRESSION': 1.0, 'eval_f1_GENERAL-IMPRESSION': 1.0, 'eval_precision_FOOD': 1.0, 'eval_recall_FOOD': 1.0, 'eval_f1_FOOD': 1.0, 'eval_precision_SERVICE': 1.0, 'eval_recall_SERVICE': 1.0, 'eval_f1_SERVICE': 1.0, 'eval_precision_AMBIENCE': 1.0, 'eval_recall_AMBIENCE': 1.0, 'eval_f1_AMBIENCE': 1.0, 'eval_precision_PRICE': 1.0, 'eval_recall_PRICE': 1.0, 'eval_f1_PRICE': 1.0, 'eval_runtime': 2.2585, 'eval_samples_per_second': 221.391, 'eval_steps_per_second': 14.169, 'epoch': 4.0}\n",
      "{'loss': 0.2368, 'learning_rate': 0.0, 'epoch': 5.0}\n"
     ]
    },
    {
     "data": {
      "application/vnd.jupyter.widget-view+json": {
       "model_id": "9f85a51d3b4f4defa4224123e3838037",
       "version_major": 2,
       "version_minor": 0
      },
      "text/plain": [
       "  0%|          | 0/32 [00:00<?, ?it/s]"
      ]
     },
     "metadata": {},
     "output_type": "display_data"
    },
    {
     "name": "stdout",
     "output_type": "stream",
     "text": [
      "{'eval_loss': 0.20176422595977783, 'eval_hamming_loss': 0.0, 'eval_accuracy': 1.0, 'eval_f1_macro': 1.0, 'eval_f1_micro': 1.0, 'eval_f1_weighted': 1.0, 'eval_precision_GENERAL-IMPRESSION': 1.0, 'eval_recall_GENERAL-IMPRESSION': 1.0, 'eval_f1_GENERAL-IMPRESSION': 1.0, 'eval_precision_FOOD': 1.0, 'eval_recall_FOOD': 1.0, 'eval_f1_FOOD': 1.0, 'eval_precision_SERVICE': 1.0, 'eval_recall_SERVICE': 1.0, 'eval_f1_SERVICE': 1.0, 'eval_precision_AMBIENCE': 1.0, 'eval_recall_AMBIENCE': 1.0, 'eval_f1_AMBIENCE': 1.0, 'eval_precision_PRICE': 1.0, 'eval_recall_PRICE': 1.0, 'eval_f1_PRICE': 1.0, 'eval_runtime': 2.4728, 'eval_samples_per_second': 202.197, 'eval_steps_per_second': 12.941, 'epoch': 5.0}\n",
      "{'train_runtime': 68.3654, 'train_samples_per_second': 36.568, 'train_steps_per_second': 2.34, 'train_loss': 0.3531749665737152, 'epoch': 5.0}\n"
     ]
    },
    {
     "data": {
      "application/vnd.jupyter.widget-view+json": {
       "model_id": "896990475cc14a199bf7d98a80bab49a",
       "version_major": 2,
       "version_minor": 0
      },
      "text/plain": [
       "  0%|          | 0/32 [00:00<?, ?it/s]"
      ]
     },
     "metadata": {},
     "output_type": "display_data"
    }
   ],
   "source": [
    "if TARGET == \"aspect_category\":\n",
    "   results = train_ACD_model(LLM_NAME, N_REAL, N_SYNTH, TARGET, LLM_SAMPLING, train_dataset, test_dataset)"
   ]
  },
  {
   "cell_type": "code",
   "execution_count": 6,
   "metadata": {},
   "outputs": [],
   "source": [
    "if TARGET == \"aspect_term\":\n",
    "    results = train_OTE_model(LLM_NAME, N_REAL, N_SYNTH, TARGET, LLM_SAMPLING, train_dataset, test_dataset)"
   ]
  },
  {
   "cell_type": "code",
   "execution_count": 7,
   "metadata": {},
   "outputs": [],
   "source": [
    "if TARGET == \"target_aspect_sentiment_detection\":\n",
    "    results = train_TASD_model(LLM_NAME, N_REAL, N_SYNTH, TARGET, LLM_SAMPLING, train_dataset, test_dataset)\n"
   ]
  },
  {
   "cell_type": "markdown",
   "metadata": {},
   "source": [
    "### Save Results"
   ]
  },
  {
   "cell_type": "code",
   "execution_count": 8,
   "metadata": {},
   "outputs": [],
   "source": [
    "with open(f'results_json/results_{LLM_NAME}_real{N_REAL}_synth{N_SYNTH}_{TARGET}_{LLM_SAMPLING}.json', 'w') as json_file:\n",
    "    json.dump(results, json_file)\n",
    "\n",
    "df = pd.DataFrame([results])\n",
    "df.to_csv(f'results_csv/results_{LLM_NAME}_real{N_REAL}_synth{N_SYNTH}_{TARGET}_{LLM_SAMPLING}.csv', index=False)"
   ]
  },
  {
   "cell_type": "code",
   "execution_count": 9,
   "metadata": {},
   "outputs": [
    {
     "data": {
      "text/plain": [
       "{'LLM_NAME': 'Llama13B',\n",
       " 'N_REAL': 500,\n",
       " 'N_SYNTH': 0,\n",
       " 'TARGET': 'aspect_category',\n",
       " 'LLM_SAMPLING': 'random',\n",
       " 'eval_loss': 0.21074238717556,\n",
       " 'eval_accuracy': 1.0,\n",
       " 'eval_hamming_loss': 0.0,\n",
       " 'eval_f1_macro': 1.0,\n",
       " 'eval_f1_micro': 1.0,\n",
       " 'eval_f1_weighted': 1.0,\n",
       " 'eval_precision_GENERAL-IMPRESSION': 1.0,\n",
       " 'eval_recall_GENERAL-IMPRESSION': 1.0,\n",
       " 'eval_f1_GENERAL-IMPRESSION': 1.0,\n",
       " 'eval_precision_FOOD': 1.0,\n",
       " 'eval_recall_FOOD': 1.0,\n",
       " 'eval_f1_FOOD': 1.0,\n",
       " 'eval_precision_SERVICE': 1.0,\n",
       " 'eval_recall_SERVICE': 1.0,\n",
       " 'eval_f1_SERVICE': 1.0,\n",
       " 'eval_precision_AMBIENCE': 1.0,\n",
       " 'eval_recall_AMBIENCE': 1.0,\n",
       " 'eval_f1_AMBIENCE': 1.0,\n",
       " 'eval_precision_PRICE': 1.0,\n",
       " 'eval_recall_PRICE': 1.0,\n",
       " 'eval_f1_PRICE': 1.0,\n",
       " 'runtime': 395.3030982017517,\n",
       " 'runtime_formatted': '6m 35s'}"
      ]
     },
     "execution_count": 9,
     "metadata": {},
     "output_type": "execute_result"
    }
   ],
   "source": [
    "results"
   ]
  },
  {
   "cell_type": "markdown",
   "metadata": {},
   "source": [
    "### Remove useless folders"
   ]
  },
  {
   "cell_type": "code",
   "execution_count": 10,
   "metadata": {},
   "outputs": [],
   "source": [
    "try:\n",
    "    shutil.rmtree(\"outputs\")\n",
    "except:\n",
    "    pass"
   ]
  },
  {
   "cell_type": "code",
   "execution_count": null,
   "metadata": {},
   "outputs": [],
   "source": []
  }
 ],
 "metadata": {
  "kernelspec": {
   "display_name": "tensorflow_m1",
   "language": "python",
   "name": "python3"
  },
  "language_info": {
   "codemirror_mode": {
    "name": "ipython",
    "version": 3
   },
   "file_extension": ".py",
   "mimetype": "text/x-python",
   "name": "python",
   "nbconvert_exporter": "python",
   "pygments_lexer": "ipython3",
   "version": "3.11.3"
  },
  "orig_nbformat": 4
 },
 "nbformat": 4,
 "nbformat_minor": 2
}
