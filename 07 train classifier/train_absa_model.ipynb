{
 "cells": [
  {
   "cell_type": "markdown",
   "metadata": {},
   "source": [
    "# Notebook: Train Model"
   ]
  },
  {
   "cell_type": "markdown",
   "metadata": {},
   "source": [
    "* To-Do: Error throwen, wenn es bei den labels ein invalide sequence übersetzung gibt"
   ]
  },
  {
   "cell_type": "markdown",
   "metadata": {},
   "source": [
    "## Packages"
   ]
  },
  {
   "cell_type": "code",
   "execution_count": 1,
   "metadata": {},
   "outputs": [],
   "source": [
    "from load_dataset_folds import load_dataset_folds\n",
    "from transformers import set_seed\n",
    "from TASD import train_TASD_model\n",
    "from ACSA import train_ACSA_model\n",
    "from ACD import train_ACD_model\n",
    "from OTE import train_OTE_model\n",
    "import pandas as pd\n",
    "import numpy as np\n",
    "import constants\n",
    "import warnings\n",
    "import shutil\n",
    "import torch\n",
    "import json\n",
    "import sys"
   ]
  },
  {
   "cell_type": "markdown",
   "metadata": {},
   "source": [
    "## Parameters"
   ]
  },
  {
   "cell_type": "code",
   "execution_count": 2,
   "metadata": {},
   "outputs": [],
   "source": [
    "LLM_NAME = \"Llama13B\"\n",
    "N_REAL = 500\n",
    "N_SYNTH = 0\n",
    "TARGET = \"aspect_category\" # \"aspect_category\", \"aspect_category_sentiment\", \"target_aspect_sentiment_detection\" \n",
    "LLM_SAMPLING = \"random\""
   ]
  },
  {
   "cell_type": "markdown",
   "metadata": {},
   "source": [
    "## Settings"
   ]
  },
  {
   "cell_type": "code",
   "execution_count": 3,
   "metadata": {},
   "outputs": [],
   "source": [
    "# Set seeds\n",
    "torch.device(constants.DEVICE)\n",
    "torch.manual_seed(constants.RANDOM_SEED)\n",
    "torch.backends.cudnn.deterministic = True\n",
    "torch.backends.cudnn.benchmark = False\n",
    "np.random.seed(constants.RANDOM_SEED)\n",
    "set_seed(constants.RANDOM_SEED)\n",
    "\n",
    "if torch.cuda.is_available():\n",
    "    torch.cuda.manual_seed_all(constants.RANDOM_SEED)\n",
    "\n",
    "# Ignore warnings\n",
    "warnings.filterwarnings(\"ignore\", category=FutureWarning,\n",
    "                        module=\"transformers.optimization\")\n",
    "\n",
    "# Disable Pycache\n",
    "sys.dont_write_bytecode = True"
   ]
  },
  {
   "cell_type": "markdown",
   "metadata": {},
   "source": [
    "## Code"
   ]
  },
  {
   "cell_type": "code",
   "execution_count": 4,
   "metadata": {},
   "outputs": [
    {
     "name": "stdout",
     "output_type": "stream",
     "text": [
      "500 5\n",
      "500 5\n"
     ]
    }
   ],
   "source": [
    "train_dataset, test_dataset = load_dataset_folds(LLM_NAME, N_REAL, N_SYNTH, LLM_SAMPLING)"
   ]
  },
  {
   "cell_type": "markdown",
   "metadata": {},
   "source": [
    "### Load Model"
   ]
  },
  {
   "cell_type": "code",
   "execution_count": 5,
   "metadata": {},
   "outputs": [
    {
     "name": "stderr",
     "output_type": "stream",
     "text": [
      "Some weights of BertForSequenceClassification were not initialized from the model checkpoint at deepset/gbert-base and are newly initialized: ['classifier.bias', 'classifier.weight']\n",
      "You should probably TRAIN this model on a down-stream task to be able to use it for predictions and inference.\n",
      "Some weights of BertForSequenceClassification were not initialized from the model checkpoint at deepset/gbert-base and are newly initialized: ['classifier.bias', 'classifier.weight']\n",
      "You should probably TRAIN this model on a down-stream task to be able to use it for predictions and inference.\n",
      "huggingface/tokenizers: The current process just got forked, after parallelism has already been used. Disabling parallelism to avoid deadlocks...\n",
      "To disable this warning, you can either:\n",
      "\t- Avoid using `tokenizers` before the fork if possible\n",
      "\t- Explicitly set the environment variable TOKENIZERS_PARALLELISM=(true | false)\n"
     ]
    },
    {
     "data": {
      "application/vnd.jupyter.widget-view+json": {
       "model_id": "46440b87718a4ec8b45fb00bcc4fc2dd",
       "version_major": 2,
       "version_minor": 0
      },
      "text/plain": [
       "  0%|          | 0/160 [00:00<?, ?it/s]"
      ]
     },
     "metadata": {},
     "output_type": "display_data"
    },
    {
     "name": "stderr",
     "output_type": "stream",
     "text": [
      "You're using a BertTokenizerFast tokenizer. Please note that with a fast tokenizer, using the `__call__` method is faster than using a method to encode the text followed by a call to the `pad` method to get a padded encoding.\n"
     ]
    },
    {
     "name": "stdout",
     "output_type": "stream",
     "text": [
      "{'loss': 0.5749, 'learning_rate': 4.000000000000001e-06, 'epoch': 1.0}\n"
     ]
    },
    {
     "data": {
      "application/vnd.jupyter.widget-view+json": {
       "model_id": "9842b3be6807474e8b21857901cae331",
       "version_major": 2,
       "version_minor": 0
      },
      "text/plain": [
       "  0%|          | 0/32 [00:00<?, ?it/s]"
      ]
     },
     "metadata": {},
     "output_type": "display_data"
    },
    {
     "name": "stdout",
     "output_type": "stream",
     "text": [
      "{'eval_loss': 0.5188875198364258, 'eval_hamming_loss': 0.2392, 'eval_accuracy': 0.014, 'eval_f1_macro': 0.016981132075471698, 'eval_f1_micro': 0.02922077922077922, 'eval_f1_weighted': 0.028395138478754155, 'eval_precision_GENERAL-IMPRESSION': 0.0, 'eval_recall_GENERAL-IMPRESSION': 0.0, 'eval_f1_GENERAL-IMPRESSION': 0.0, 'eval_accuracy_GENERAL-IMPRESSION': 0.728, 'eval_precision_FOOD': 1.0, 'eval_recall_FOOD': 0.04433497536945813, 'eval_f1_FOOD': 0.08490566037735849, 'eval_accuracy_FOOD': 0.612, 'eval_precision_SERVICE': 0.0, 'eval_recall_SERVICE': 0.0, 'eval_f1_SERVICE': 0.0, 'eval_accuracy_SERVICE': 0.69, 'eval_precision_AMBIENCE': 0.0, 'eval_recall_AMBIENCE': 0.0, 'eval_f1_AMBIENCE': 0.0, 'eval_accuracy_AMBIENCE': 0.872, 'eval_precision_PRICE': 0.0, 'eval_recall_PRICE': 0.0, 'eval_f1_PRICE': 0.0, 'eval_accuracy_PRICE': 0.902, 'eval_runtime': 4.0512, 'eval_samples_per_second': 123.419, 'eval_steps_per_second': 7.899, 'epoch': 1.0}\n",
      "{'loss': 0.5085, 'learning_rate': 3e-06, 'epoch': 2.0}\n"
     ]
    },
    {
     "data": {
      "application/vnd.jupyter.widget-view+json": {
       "model_id": "ec135b59e3394c7fbadd357e46fce427",
       "version_major": 2,
       "version_minor": 0
      },
      "text/plain": [
       "  0%|          | 0/32 [00:00<?, ?it/s]"
      ]
     },
     "metadata": {},
     "output_type": "display_data"
    },
    {
     "name": "stdout",
     "output_type": "stream",
     "text": [
      "{'eval_loss': 0.4951707422733307, 'eval_hamming_loss': 0.2068, 'eval_accuracy': 0.168, 'eval_f1_macro': 0.1344927536231884, 'eval_f1_micro': 0.3097463284379172, 'eval_f1_weighted': 0.22489315474058688, 'eval_precision_GENERAL-IMPRESSION': 0.0, 'eval_recall_GENERAL-IMPRESSION': 0.0, 'eval_f1_GENERAL-IMPRESSION': 0.0, 'eval_accuracy_GENERAL-IMPRESSION': 0.728, 'eval_precision_FOOD': 0.8169014084507042, 'eval_recall_FOOD': 0.5714285714285714, 'eval_f1_FOOD': 0.672463768115942, 'eval_accuracy_FOOD': 0.774, 'eval_precision_SERVICE': 0.0, 'eval_recall_SERVICE': 0.0, 'eval_f1_SERVICE': 0.0, 'eval_accuracy_SERVICE': 0.69, 'eval_precision_AMBIENCE': 0.0, 'eval_recall_AMBIENCE': 0.0, 'eval_f1_AMBIENCE': 0.0, 'eval_accuracy_AMBIENCE': 0.872, 'eval_precision_PRICE': 0.0, 'eval_recall_PRICE': 0.0, 'eval_f1_PRICE': 0.0, 'eval_accuracy_PRICE': 0.902, 'eval_runtime': 3.9909, 'eval_samples_per_second': 125.284, 'eval_steps_per_second': 8.018, 'epoch': 2.0}\n",
      "{'loss': 0.4815, 'learning_rate': 2.0000000000000003e-06, 'epoch': 3.0}\n"
     ]
    },
    {
     "data": {
      "application/vnd.jupyter.widget-view+json": {
       "model_id": "7c2ffd9c023746758f8ff5f377715982",
       "version_major": 2,
       "version_minor": 0
      },
      "text/plain": [
       "  0%|          | 0/32 [00:00<?, ?it/s]"
      ]
     },
     "metadata": {},
     "output_type": "display_data"
    },
    {
     "name": "stdout",
     "output_type": "stream",
     "text": [
      "{'eval_loss': 0.4749007523059845, 'eval_hamming_loss': 0.1956, 'eval_accuracy': 0.2, 'eval_f1_macro': 0.17038209982788294, 'eval_f1_micro': 0.36078431372549025, 'eval_f1_weighted': 0.27537841646652506, 'eval_precision_GENERAL-IMPRESSION': 0.0, 'eval_recall_GENERAL-IMPRESSION': 0.0, 'eval_f1_GENERAL-IMPRESSION': 0.0, 'eval_accuracy_GENERAL-IMPRESSION': 0.728, 'eval_precision_FOOD': 0.8707482993197279, 'eval_recall_FOOD': 0.6305418719211823, 'eval_f1_FOOD': 0.7314285714285714, 'eval_accuracy_FOOD': 0.812, 'eval_precision_SERVICE': 0.9090909090909091, 'eval_recall_SERVICE': 0.06451612903225806, 'eval_f1_SERVICE': 0.12048192771084336, 'eval_accuracy_SERVICE': 0.708, 'eval_precision_AMBIENCE': 0.0, 'eval_recall_AMBIENCE': 0.0, 'eval_f1_AMBIENCE': 0.0, 'eval_accuracy_AMBIENCE': 0.872, 'eval_precision_PRICE': 0.0, 'eval_recall_PRICE': 0.0, 'eval_f1_PRICE': 0.0, 'eval_accuracy_PRICE': 0.902, 'eval_runtime': 4.0035, 'eval_samples_per_second': 124.891, 'eval_steps_per_second': 7.993, 'epoch': 3.0}\n",
      "{'loss': 0.4602, 'learning_rate': 1.0000000000000002e-06, 'epoch': 4.0}\n"
     ]
    },
    {
     "data": {
      "application/vnd.jupyter.widget-view+json": {
       "model_id": "50b5c1c4320649acbf838401a2d27e8f",
       "version_major": 2,
       "version_minor": 0
      },
      "text/plain": [
       "  0%|          | 0/32 [00:00<?, ?it/s]"
      ]
     },
     "metadata": {},
     "output_type": "display_data"
    },
    {
     "name": "stdout",
     "output_type": "stream",
     "text": [
      "{'eval_loss': 0.4592256546020508, 'eval_hamming_loss': 0.1804, 'eval_accuracy': 0.268, 'eval_f1_macro': 0.21919191919191916, 'eval_f1_micro': 0.45333333333333337, 'eval_f1_weighted': 0.344557602382973, 'eval_precision_GENERAL-IMPRESSION': 0.0, 'eval_recall_GENERAL-IMPRESSION': 0.0, 'eval_f1_GENERAL-IMPRESSION': 0.0, 'eval_accuracy_GENERAL-IMPRESSION': 0.728, 'eval_precision_FOOD': 0.8393782383419689, 'eval_recall_FOOD': 0.7980295566502463, 'eval_f1_FOOD': 0.8181818181818181, 'eval_accuracy_FOOD': 0.856, 'eval_precision_SERVICE': 1.0, 'eval_recall_SERVICE': 0.16129032258064516, 'eval_f1_SERVICE': 0.27777777777777773, 'eval_accuracy_SERVICE': 0.74, 'eval_precision_AMBIENCE': 0.0, 'eval_recall_AMBIENCE': 0.0, 'eval_f1_AMBIENCE': 0.0, 'eval_accuracy_AMBIENCE': 0.872, 'eval_precision_PRICE': 0.0, 'eval_recall_PRICE': 0.0, 'eval_f1_PRICE': 0.0, 'eval_accuracy_PRICE': 0.902, 'eval_runtime': 4.0001, 'eval_samples_per_second': 124.997, 'eval_steps_per_second': 8.0, 'epoch': 4.0}\n",
      "{'loss': 0.4474, 'learning_rate': 0.0, 'epoch': 5.0}\n"
     ]
    },
    {
     "data": {
      "application/vnd.jupyter.widget-view+json": {
       "model_id": "1af1d2c21d7143f8b8654f159e150e4c",
       "version_major": 2,
       "version_minor": 0
      },
      "text/plain": [
       "  0%|          | 0/32 [00:00<?, ?it/s]"
      ]
     },
     "metadata": {},
     "output_type": "display_data"
    },
    {
     "name": "stdout",
     "output_type": "stream",
     "text": [
      "{'eval_loss': 0.4541493058204651, 'eval_hamming_loss': 0.1768, 'eval_accuracy': 0.284, 'eval_f1_macro': 0.23119806089771386, 'eval_f1_micro': 0.4738095238095238, 'eval_f1_weighted': 0.36078979412065015, 'eval_precision_GENERAL-IMPRESSION': 1.0, 'eval_recall_GENERAL-IMPRESSION': 0.007352941176470588, 'eval_f1_GENERAL-IMPRESSION': 0.014598540145985401, 'eval_accuracy_GENERAL-IMPRESSION': 0.73, 'eval_precision_FOOD': 0.8333333333333334, 'eval_recall_FOOD': 0.8374384236453202, 'eval_f1_FOOD': 0.8353808353808354, 'eval_accuracy_FOOD': 0.866, 'eval_precision_SERVICE': 1.0, 'eval_recall_SERVICE': 0.18064516129032257, 'eval_f1_SERVICE': 0.3060109289617486, 'eval_accuracy_SERVICE': 0.746, 'eval_precision_AMBIENCE': 0.0, 'eval_recall_AMBIENCE': 0.0, 'eval_f1_AMBIENCE': 0.0, 'eval_accuracy_AMBIENCE': 0.872, 'eval_precision_PRICE': 0.0, 'eval_recall_PRICE': 0.0, 'eval_f1_PRICE': 0.0, 'eval_accuracy_PRICE': 0.902, 'eval_runtime': 4.2901, 'eval_samples_per_second': 116.548, 'eval_steps_per_second': 7.459, 'epoch': 5.0}\n",
      "{'train_runtime': 110.8202, 'train_samples_per_second': 22.559, 'train_steps_per_second': 1.444, 'train_loss': 0.4945116758346558, 'epoch': 5.0}\n"
     ]
    },
    {
     "data": {
      "application/vnd.jupyter.widget-view+json": {
       "model_id": "e56c9a8aadd44d63b43ef85c7e3e40d0",
       "version_major": 2,
       "version_minor": 0
      },
      "text/plain": [
       "  0%|          | 0/32 [00:00<?, ?it/s]"
      ]
     },
     "metadata": {},
     "output_type": "display_data"
    },
    {
     "name": "stdout",
     "output_type": "stream",
     "text": [
      "Split 0: {'eval_loss': 0.4541493058204651, 'eval_hamming_loss': 0.1768, 'eval_accuracy': 0.284, 'eval_f1_macro': 0.23119806089771386, 'eval_f1_micro': 0.4738095238095238, 'eval_f1_weighted': 0.36078979412065015, 'eval_precision_GENERAL-IMPRESSION': 1.0, 'eval_recall_GENERAL-IMPRESSION': 0.007352941176470588, 'eval_f1_GENERAL-IMPRESSION': 0.014598540145985401, 'eval_accuracy_GENERAL-IMPRESSION': 0.73, 'eval_precision_FOOD': 0.8333333333333334, 'eval_recall_FOOD': 0.8374384236453202, 'eval_f1_FOOD': 0.8353808353808354, 'eval_accuracy_FOOD': 0.866, 'eval_precision_SERVICE': 1.0, 'eval_recall_SERVICE': 0.18064516129032257, 'eval_f1_SERVICE': 0.3060109289617486, 'eval_accuracy_SERVICE': 0.746, 'eval_precision_AMBIENCE': 0.0, 'eval_recall_AMBIENCE': 0.0, 'eval_f1_AMBIENCE': 0.0, 'eval_accuracy_AMBIENCE': 0.872, 'eval_precision_PRICE': 0.0, 'eval_recall_PRICE': 0.0, 'eval_f1_PRICE': 0.0, 'eval_accuracy_PRICE': 0.902, 'eval_runtime': 4.0638, 'eval_samples_per_second': 123.037, 'eval_steps_per_second': 7.874, 'epoch': 5.0}\n"
     ]
    },
    {
     "name": "stderr",
     "output_type": "stream",
     "text": [
      "Some weights of BertForSequenceClassification were not initialized from the model checkpoint at deepset/gbert-base and are newly initialized: ['classifier.bias', 'classifier.weight']\n",
      "You should probably TRAIN this model on a down-stream task to be able to use it for predictions and inference.\n",
      "Some weights of BertForSequenceClassification were not initialized from the model checkpoint at deepset/gbert-base and are newly initialized: ['classifier.bias', 'classifier.weight']\n",
      "You should probably TRAIN this model on a down-stream task to be able to use it for predictions and inference.\n"
     ]
    },
    {
     "data": {
      "application/vnd.jupyter.widget-view+json": {
       "model_id": "b1d489b0914745b9b9f36e65c6ba0746",
       "version_major": 2,
       "version_minor": 0
      },
      "text/plain": [
       "  0%|          | 0/160 [00:00<?, ?it/s]"
      ]
     },
     "metadata": {},
     "output_type": "display_data"
    },
    {
     "name": "stdout",
     "output_type": "stream",
     "text": [
      "{'loss': 0.5648, 'learning_rate': 4.000000000000001e-06, 'epoch': 1.0}\n"
     ]
    },
    {
     "data": {
      "application/vnd.jupyter.widget-view+json": {
       "model_id": "7f6ef965169e44a6b5cefc0a23737ce5",
       "version_major": 2,
       "version_minor": 0
      },
      "text/plain": [
       "  0%|          | 0/32 [00:00<?, ?it/s]"
      ]
     },
     "metadata": {},
     "output_type": "display_data"
    },
    {
     "name": "stdout",
     "output_type": "stream",
     "text": [
      "{'eval_loss': 0.5064038634300232, 'eval_hamming_loss': 0.2452, 'eval_accuracy': 0.0, 'eval_f1_macro': 0.003669724770642202, 'eval_f1_micro': 0.006482982171799028, 'eval_f1_weighted': 0.006425006723844246, 'eval_precision_GENERAL-IMPRESSION': 0.0, 'eval_recall_GENERAL-IMPRESSION': 0.0, 'eval_f1_GENERAL-IMPRESSION': 0.0, 'eval_accuracy_GENERAL-IMPRESSION': 0.774, 'eval_precision_FOOD': 0.6666666666666666, 'eval_recall_FOOD': 0.009302325581395349, 'eval_f1_FOOD': 0.01834862385321101, 'eval_accuracy_FOOD': 0.572, 'eval_precision_SERVICE': 0.0, 'eval_recall_SERVICE': 0.0, 'eval_f1_SERVICE': 0.0, 'eval_accuracy_SERVICE': 0.646, 'eval_precision_AMBIENCE': 0.0, 'eval_recall_AMBIENCE': 0.0, 'eval_f1_AMBIENCE': 0.0, 'eval_accuracy_AMBIENCE': 0.86, 'eval_precision_PRICE': 0.0, 'eval_recall_PRICE': 0.0, 'eval_f1_PRICE': 0.0, 'eval_accuracy_PRICE': 0.922, 'eval_runtime': 4.3433, 'eval_samples_per_second': 115.121, 'eval_steps_per_second': 7.368, 'epoch': 1.0}\n",
      "{'loss': 0.4857, 'learning_rate': 3e-06, 'epoch': 2.0}\n"
     ]
    },
    {
     "data": {
      "application/vnd.jupyter.widget-view+json": {
       "model_id": "b60ae86af98c4141a205c4083a3b9414",
       "version_major": 2,
       "version_minor": 0
      },
      "text/plain": [
       "  0%|          | 0/32 [00:00<?, ?it/s]"
      ]
     },
     "metadata": {},
     "output_type": "display_data"
    },
    {
     "name": "stdout",
     "output_type": "stream",
     "text": [
      "{'eval_loss': 0.486776739358902, 'eval_hamming_loss': 0.2396, 'eval_accuracy': 0.022, 'eval_f1_macro': 0.02608695652173913, 'eval_f1_micro': 0.04769475357710652, 'eval_f1_weighted': 0.045673417362979744, 'eval_precision_GENERAL-IMPRESSION': 0.0, 'eval_recall_GENERAL-IMPRESSION': 0.0, 'eval_f1_GENERAL-IMPRESSION': 0.0, 'eval_accuracy_GENERAL-IMPRESSION': 0.774, 'eval_precision_FOOD': 1.0, 'eval_recall_FOOD': 0.06976744186046512, 'eval_f1_FOOD': 0.13043478260869565, 'eval_accuracy_FOOD': 0.6, 'eval_precision_SERVICE': 0.0, 'eval_recall_SERVICE': 0.0, 'eval_f1_SERVICE': 0.0, 'eval_accuracy_SERVICE': 0.646, 'eval_precision_AMBIENCE': 0.0, 'eval_recall_AMBIENCE': 0.0, 'eval_f1_AMBIENCE': 0.0, 'eval_accuracy_AMBIENCE': 0.86, 'eval_precision_PRICE': 0.0, 'eval_recall_PRICE': 0.0, 'eval_f1_PRICE': 0.0, 'eval_accuracy_PRICE': 0.922, 'eval_runtime': 4.3865, 'eval_samples_per_second': 113.987, 'eval_steps_per_second': 7.295, 'epoch': 2.0}\n",
      "{'loss': 0.4671, 'learning_rate': 2.0000000000000003e-06, 'epoch': 3.0}\n"
     ]
    },
    {
     "data": {
      "application/vnd.jupyter.widget-view+json": {
       "model_id": "916f6f249fe743b9a83b03c2bffb5850",
       "version_major": 2,
       "version_minor": 0
      },
      "text/plain": [
       "  0%|          | 0/32 [00:00<?, ?it/s]"
      ]
     },
     "metadata": {},
     "output_type": "display_data"
    },
    {
     "name": "stdout",
     "output_type": "stream",
     "text": [
      "{'eval_loss': 0.4680197238922119, 'eval_hamming_loss': 0.2148, 'eval_accuracy': 0.118, 'eval_f1_macro': 0.11473762943364296, 'eval_f1_micro': 0.22955523672883785, 'eval_f1_weighted': 0.1952343973060357, 'eval_precision_GENERAL-IMPRESSION': 1.0, 'eval_recall_GENERAL-IMPRESSION': 0.008849557522123894, 'eval_f1_GENERAL-IMPRESSION': 0.017543859649122806, 'eval_accuracy_GENERAL-IMPRESSION': 0.776, 'eval_precision_FOOD': 0.9615384615384616, 'eval_recall_FOOD': 0.3488372093023256, 'eval_f1_FOOD': 0.5119453924914676, 'eval_accuracy_FOOD': 0.714, 'eval_precision_SERVICE': 1.0, 'eval_recall_SERVICE': 0.022598870056497175, 'eval_f1_SERVICE': 0.04419889502762431, 'eval_accuracy_SERVICE': 0.654, 'eval_precision_AMBIENCE': 0.0, 'eval_recall_AMBIENCE': 0.0, 'eval_f1_AMBIENCE': 0.0, 'eval_accuracy_AMBIENCE': 0.86, 'eval_precision_PRICE': 0.0, 'eval_recall_PRICE': 0.0, 'eval_f1_PRICE': 0.0, 'eval_accuracy_PRICE': 0.922, 'eval_runtime': 4.5531, 'eval_samples_per_second': 109.814, 'eval_steps_per_second': 7.028, 'epoch': 3.0}\n",
      "{'loss': 0.4492, 'learning_rate': 1.0000000000000002e-06, 'epoch': 4.0}\n"
     ]
    },
    {
     "data": {
      "application/vnd.jupyter.widget-view+json": {
       "model_id": "0daf27eadcf74f429188499f02836214",
       "version_major": 2,
       "version_minor": 0
      },
      "text/plain": [
       "  0%|          | 0/32 [00:00<?, ?it/s]"
      ]
     },
     "metadata": {},
     "output_type": "display_data"
    },
    {
     "name": "stdout",
     "output_type": "stream",
     "text": [
      "{'eval_loss': 0.4540715217590332, 'eval_hamming_loss': 0.1952, 'eval_accuracy': 0.206, 'eval_f1_macro': 0.18501074674527143, 'eval_f1_micro': 0.3612565445026178, 'eval_f1_weighted': 0.30017098526800756, 'eval_precision_GENERAL-IMPRESSION': 1.0, 'eval_recall_GENERAL-IMPRESSION': 0.04424778761061947, 'eval_f1_GENERAL-IMPRESSION': 0.0847457627118644, 'eval_accuracy_GENERAL-IMPRESSION': 0.784, 'eval_precision_FOOD': 0.9076923076923077, 'eval_recall_FOOD': 0.5488372093023256, 'eval_f1_FOOD': 0.6840579710144927, 'eval_accuracy_FOOD': 0.782, 'eval_precision_SERVICE': 1.0, 'eval_recall_SERVICE': 0.0847457627118644, 'eval_f1_SERVICE': 0.15625, 'eval_accuracy_SERVICE': 0.676, 'eval_precision_AMBIENCE': 0.0, 'eval_recall_AMBIENCE': 0.0, 'eval_f1_AMBIENCE': 0.0, 'eval_accuracy_AMBIENCE': 0.86, 'eval_precision_PRICE': 0.0, 'eval_recall_PRICE': 0.0, 'eval_f1_PRICE': 0.0, 'eval_accuracy_PRICE': 0.922, 'eval_runtime': 5.1487, 'eval_samples_per_second': 97.112, 'eval_steps_per_second': 6.215, 'epoch': 4.0}\n",
      "{'loss': 0.4348, 'learning_rate': 0.0, 'epoch': 5.0}\n"
     ]
    },
    {
     "data": {
      "application/vnd.jupyter.widget-view+json": {
       "model_id": "6c4c6c29e4a74d6cb133ee68f812432f",
       "version_major": 2,
       "version_minor": 0
      },
      "text/plain": [
       "  0%|          | 0/32 [00:00<?, ?it/s]"
      ]
     },
     "metadata": {},
     "output_type": "display_data"
    },
    {
     "name": "stdout",
     "output_type": "stream",
     "text": [
      "{'eval_loss': 0.4488900899887085, 'eval_hamming_loss': 0.1904, 'eval_accuracy': 0.236, 'eval_f1_macro': 0.20891293898891794, 'eval_f1_micro': 0.405, 'eval_f1_weighted': 0.33644582362401726, 'eval_precision_GENERAL-IMPRESSION': 1.0, 'eval_recall_GENERAL-IMPRESSION': 0.04424778761061947, 'eval_f1_GENERAL-IMPRESSION': 0.0847457627118644, 'eval_accuracy_GENERAL-IMPRESSION': 0.784, 'eval_precision_FOOD': 0.8516129032258064, 'eval_recall_FOOD': 0.6139534883720931, 'eval_f1_FOOD': 0.7135135135135136, 'eval_accuracy_FOOD': 0.788, 'eval_precision_SERVICE': 0.9615384615384616, 'eval_recall_SERVICE': 0.14124293785310735, 'eval_f1_SERVICE': 0.24630541871921183, 'eval_accuracy_SERVICE': 0.694, 'eval_precision_AMBIENCE': 0.0, 'eval_recall_AMBIENCE': 0.0, 'eval_f1_AMBIENCE': 0.0, 'eval_accuracy_AMBIENCE': 0.86, 'eval_precision_PRICE': 0.0, 'eval_recall_PRICE': 0.0, 'eval_f1_PRICE': 0.0, 'eval_accuracy_PRICE': 0.922, 'eval_runtime': 5.1346, 'eval_samples_per_second': 97.379, 'eval_steps_per_second': 6.232, 'epoch': 5.0}\n",
      "{'train_runtime': 105.1053, 'train_samples_per_second': 23.786, 'train_steps_per_second': 1.522, 'train_loss': 0.4803114295005798, 'epoch': 5.0}\n"
     ]
    },
    {
     "data": {
      "application/vnd.jupyter.widget-view+json": {
       "model_id": "749c61626f164d4b935c8aebaa0f0bc1",
       "version_major": 2,
       "version_minor": 0
      },
      "text/plain": [
       "  0%|          | 0/32 [00:00<?, ?it/s]"
      ]
     },
     "metadata": {},
     "output_type": "display_data"
    },
    {
     "name": "stdout",
     "output_type": "stream",
     "text": [
      "Split 1: {'eval_loss': 0.4488900899887085, 'eval_hamming_loss': 0.1904, 'eval_accuracy': 0.236, 'eval_f1_macro': 0.20891293898891794, 'eval_f1_micro': 0.405, 'eval_f1_weighted': 0.33644582362401726, 'eval_precision_GENERAL-IMPRESSION': 1.0, 'eval_recall_GENERAL-IMPRESSION': 0.04424778761061947, 'eval_f1_GENERAL-IMPRESSION': 0.0847457627118644, 'eval_accuracy_GENERAL-IMPRESSION': 0.784, 'eval_precision_FOOD': 0.8516129032258064, 'eval_recall_FOOD': 0.6139534883720931, 'eval_f1_FOOD': 0.7135135135135136, 'eval_accuracy_FOOD': 0.788, 'eval_precision_SERVICE': 0.9615384615384616, 'eval_recall_SERVICE': 0.14124293785310735, 'eval_f1_SERVICE': 0.24630541871921183, 'eval_accuracy_SERVICE': 0.694, 'eval_precision_AMBIENCE': 0.0, 'eval_recall_AMBIENCE': 0.0, 'eval_f1_AMBIENCE': 0.0, 'eval_accuracy_AMBIENCE': 0.86, 'eval_precision_PRICE': 0.0, 'eval_recall_PRICE': 0.0, 'eval_f1_PRICE': 0.0, 'eval_accuracy_PRICE': 0.922, 'eval_runtime': 4.268, 'eval_samples_per_second': 117.151, 'eval_steps_per_second': 7.498, 'epoch': 5.0}\n"
     ]
    },
    {
     "name": "stderr",
     "output_type": "stream",
     "text": [
      "Some weights of BertForSequenceClassification were not initialized from the model checkpoint at deepset/gbert-base and are newly initialized: ['classifier.bias', 'classifier.weight']\n",
      "You should probably TRAIN this model on a down-stream task to be able to use it for predictions and inference.\n",
      "Some weights of BertForSequenceClassification were not initialized from the model checkpoint at deepset/gbert-base and are newly initialized: ['classifier.bias', 'classifier.weight']\n",
      "You should probably TRAIN this model on a down-stream task to be able to use it for predictions and inference.\n"
     ]
    },
    {
     "data": {
      "application/vnd.jupyter.widget-view+json": {
       "model_id": "19acb6c3ce14409cb2463a1e862dac92",
       "version_major": 2,
       "version_minor": 0
      },
      "text/plain": [
       "  0%|          | 0/160 [00:00<?, ?it/s]"
      ]
     },
     "metadata": {},
     "output_type": "display_data"
    },
    {
     "name": "stdout",
     "output_type": "stream",
     "text": [
      "{'loss': 0.5725, 'learning_rate': 4.000000000000001e-06, 'epoch': 1.0}\n"
     ]
    },
    {
     "data": {
      "application/vnd.jupyter.widget-view+json": {
       "model_id": "d455e032708248148575a3046086ee8a",
       "version_major": 2,
       "version_minor": 0
      },
      "text/plain": [
       "  0%|          | 0/32 [00:00<?, ?it/s]"
      ]
     },
     "metadata": {},
     "output_type": "display_data"
    },
    {
     "name": "stdout",
     "output_type": "stream",
     "text": [
      "{'eval_loss': 0.4950043857097626, 'eval_hamming_loss': 0.2292, 'eval_accuracy': 0.044, 'eval_f1_macro': 0.03881856540084388, 'eval_f1_micro': 0.07431340872374798, 'eval_f1_weighted': 0.06885049606568594, 'eval_precision_GENERAL-IMPRESSION': 0.0, 'eval_recall_GENERAL-IMPRESSION': 0.0, 'eval_f1_GENERAL-IMPRESSION': 0.0, 'eval_accuracy_GENERAL-IMPRESSION': 0.758, 'eval_precision_FOOD': 0.8518518518518519, 'eval_recall_FOOD': 0.10952380952380952, 'eval_f1_FOOD': 0.1940928270042194, 'eval_accuracy_FOOD': 0.618, 'eval_precision_SERVICE': 0.0, 'eval_recall_SERVICE': 0.0, 'eval_f1_SERVICE': 0.0, 'eval_accuracy_SERVICE': 0.678, 'eval_precision_AMBIENCE': 0.0, 'eval_recall_AMBIENCE': 0.0, 'eval_f1_AMBIENCE': 0.0, 'eval_accuracy_AMBIENCE': 0.858, 'eval_precision_PRICE': 0.0, 'eval_recall_PRICE': 0.0, 'eval_f1_PRICE': 0.0, 'eval_accuracy_PRICE': 0.942, 'eval_runtime': 4.6933, 'eval_samples_per_second': 106.535, 'eval_steps_per_second': 6.818, 'epoch': 1.0}\n",
      "{'loss': 0.4993, 'learning_rate': 3e-06, 'epoch': 2.0}\n"
     ]
    },
    {
     "data": {
      "application/vnd.jupyter.widget-view+json": {
       "model_id": "5f883814ec6c425a8df0d91755a4b6b0",
       "version_major": 2,
       "version_minor": 0
      },
      "text/plain": [
       "  0%|          | 0/32 [00:00<?, ?it/s]"
      ]
     },
     "metadata": {},
     "output_type": "display_data"
    },
    {
     "name": "stdout",
     "output_type": "stream",
     "text": [
      "{'eval_loss': 0.473693311214447, 'eval_hamming_loss': 0.2152, 'eval_accuracy': 0.094, 'eval_f1_macro': 0.08936170212765956, 'eval_f1_micro': 0.18975903614457834, 'eval_f1_weighted': 0.15849626221966648, 'eval_precision_GENERAL-IMPRESSION': 0.0, 'eval_recall_GENERAL-IMPRESSION': 0.0, 'eval_f1_GENERAL-IMPRESSION': 0.0, 'eval_accuracy_GENERAL-IMPRESSION': 0.758, 'eval_precision_FOOD': 0.875, 'eval_recall_FOOD': 0.3, 'eval_f1_FOOD': 0.44680851063829785, 'eval_accuracy_FOOD': 0.688, 'eval_precision_SERVICE': 0.0, 'eval_recall_SERVICE': 0.0, 'eval_f1_SERVICE': 0.0, 'eval_accuracy_SERVICE': 0.678, 'eval_precision_AMBIENCE': 0.0, 'eval_recall_AMBIENCE': 0.0, 'eval_f1_AMBIENCE': 0.0, 'eval_accuracy_AMBIENCE': 0.858, 'eval_precision_PRICE': 0.0, 'eval_recall_PRICE': 0.0, 'eval_f1_PRICE': 0.0, 'eval_accuracy_PRICE': 0.942, 'eval_runtime': 4.7054, 'eval_samples_per_second': 106.262, 'eval_steps_per_second': 6.801, 'epoch': 2.0}\n",
      "{'loss': 0.4801, 'learning_rate': 2.0000000000000003e-06, 'epoch': 3.0}\n"
     ]
    },
    {
     "data": {
      "application/vnd.jupyter.widget-view+json": {
       "model_id": "f6e2f3ffd00a48d09cfd8d94a3776e86",
       "version_major": 2,
       "version_minor": 0
      },
      "text/plain": [
       "  0%|          | 0/32 [00:00<?, ?it/s]"
      ]
     },
     "metadata": {},
     "output_type": "display_data"
    },
    {
     "name": "stdout",
     "output_type": "stream",
     "text": [
      "{'eval_loss': 0.46078675985336304, 'eval_hamming_loss': 0.2004, 'eval_accuracy': 0.192, 'eval_f1_macro': 0.14035087719298245, 'eval_f1_micro': 0.3585147247119078, 'eval_f1_weighted': 0.24893314366998576, 'eval_precision_GENERAL-IMPRESSION': 0.0, 'eval_recall_GENERAL-IMPRESSION': 0.0, 'eval_f1_GENERAL-IMPRESSION': 0.0, 'eval_accuracy_GENERAL-IMPRESSION': 0.758, 'eval_precision_FOOD': 0.7407407407407407, 'eval_recall_FOOD': 0.6666666666666666, 'eval_f1_FOOD': 0.7017543859649122, 'eval_accuracy_FOOD': 0.762, 'eval_precision_SERVICE': 0.0, 'eval_recall_SERVICE': 0.0, 'eval_f1_SERVICE': 0.0, 'eval_accuracy_SERVICE': 0.678, 'eval_precision_AMBIENCE': 0.0, 'eval_recall_AMBIENCE': 0.0, 'eval_f1_AMBIENCE': 0.0, 'eval_accuracy_AMBIENCE': 0.858, 'eval_precision_PRICE': 0.0, 'eval_recall_PRICE': 0.0, 'eval_f1_PRICE': 0.0, 'eval_accuracy_PRICE': 0.942, 'eval_runtime': 4.6876, 'eval_samples_per_second': 106.666, 'eval_steps_per_second': 6.827, 'epoch': 3.0}\n",
      "{'loss': 0.4651, 'learning_rate': 1.0000000000000002e-06, 'epoch': 4.0}\n"
     ]
    },
    {
     "data": {
      "application/vnd.jupyter.widget-view+json": {
       "model_id": "1c80da2a2606435b9289e709be5e808a",
       "version_major": 2,
       "version_minor": 0
      },
      "text/plain": [
       "  0%|          | 0/32 [00:00<?, ?it/s]"
      ]
     },
     "metadata": {},
     "output_type": "display_data"
    },
    {
     "name": "stdout",
     "output_type": "stream",
     "text": [
      "{'eval_loss': 0.44910603761672974, 'eval_hamming_loss': 0.1952, 'eval_accuracy': 0.198, 'eval_f1_macro': 0.16286716710182766, 'eval_f1_micro': 0.3678756476683938, 'eval_f1_weighted': 0.27242592982587677, 'eval_precision_GENERAL-IMPRESSION': 1.0, 'eval_recall_GENERAL-IMPRESSION': 0.05785123966942149, 'eval_f1_GENERAL-IMPRESSION': 0.109375, 'eval_accuracy_GENERAL-IMPRESSION': 0.772, 'eval_precision_FOOD': 0.7803468208092486, 'eval_recall_FOOD': 0.6428571428571429, 'eval_f1_FOOD': 0.7049608355091384, 'eval_accuracy_FOOD': 0.774, 'eval_precision_SERVICE': 0.0, 'eval_recall_SERVICE': 0.0, 'eval_f1_SERVICE': 0.0, 'eval_accuracy_SERVICE': 0.678, 'eval_precision_AMBIENCE': 0.0, 'eval_recall_AMBIENCE': 0.0, 'eval_f1_AMBIENCE': 0.0, 'eval_accuracy_AMBIENCE': 0.858, 'eval_precision_PRICE': 0.0, 'eval_recall_PRICE': 0.0, 'eval_f1_PRICE': 0.0, 'eval_accuracy_PRICE': 0.942, 'eval_runtime': 4.6685, 'eval_samples_per_second': 107.102, 'eval_steps_per_second': 6.854, 'epoch': 4.0}\n",
      "{'loss': 0.4601, 'learning_rate': 0.0, 'epoch': 5.0}\n"
     ]
    },
    {
     "data": {
      "application/vnd.jupyter.widget-view+json": {
       "model_id": "62bf3fa8665b4748a9d9052bf462f35b",
       "version_major": 2,
       "version_minor": 0
      },
      "text/plain": [
       "  0%|          | 0/32 [00:00<?, ?it/s]"
      ]
     },
     "metadata": {},
     "output_type": "display_data"
    },
    {
     "name": "stdout",
     "output_type": "stream",
     "text": [
      "{'eval_loss': 0.44523102045059204, 'eval_hamming_loss': 0.192, 'eval_accuracy': 0.212, 'eval_f1_macro': 0.17683270676691729, 'eval_f1_micro': 0.38303341902313626, 'eval_f1_weighted': 0.28877117836821786, 'eval_precision_GENERAL-IMPRESSION': 0.9166666666666666, 'eval_recall_GENERAL-IMPRESSION': 0.09090909090909091, 'eval_f1_GENERAL-IMPRESSION': 0.16541353383458646, 'eval_accuracy_GENERAL-IMPRESSION': 0.778, 'eval_precision_FOOD': 0.7931034482758621, 'eval_recall_FOOD': 0.6571428571428571, 'eval_f1_FOOD': 0.71875, 'eval_accuracy_FOOD': 0.784, 'eval_precision_SERVICE': 0.0, 'eval_recall_SERVICE': 0.0, 'eval_f1_SERVICE': 0.0, 'eval_accuracy_SERVICE': 0.678, 'eval_precision_AMBIENCE': 0.0, 'eval_recall_AMBIENCE': 0.0, 'eval_f1_AMBIENCE': 0.0, 'eval_accuracy_AMBIENCE': 0.858, 'eval_precision_PRICE': 0.0, 'eval_recall_PRICE': 0.0, 'eval_f1_PRICE': 0.0, 'eval_accuracy_PRICE': 0.942, 'eval_runtime': 4.7479, 'eval_samples_per_second': 105.31, 'eval_steps_per_second': 6.74, 'epoch': 5.0}\n",
      "{'train_runtime': 106.9703, 'train_samples_per_second': 23.371, 'train_steps_per_second': 1.496, 'train_loss': 0.49542611837387085, 'epoch': 5.0}\n"
     ]
    },
    {
     "data": {
      "application/vnd.jupyter.widget-view+json": {
       "model_id": "d1ba20c354fd4d0b88b0709895325eea",
       "version_major": 2,
       "version_minor": 0
      },
      "text/plain": [
       "  0%|          | 0/32 [00:00<?, ?it/s]"
      ]
     },
     "metadata": {},
     "output_type": "display_data"
    },
    {
     "name": "stdout",
     "output_type": "stream",
     "text": [
      "Split 2: {'eval_loss': 0.44523102045059204, 'eval_hamming_loss': 0.192, 'eval_accuracy': 0.212, 'eval_f1_macro': 0.17683270676691729, 'eval_f1_micro': 0.38303341902313626, 'eval_f1_weighted': 0.28877117836821786, 'eval_precision_GENERAL-IMPRESSION': 0.9166666666666666, 'eval_recall_GENERAL-IMPRESSION': 0.09090909090909091, 'eval_f1_GENERAL-IMPRESSION': 0.16541353383458646, 'eval_accuracy_GENERAL-IMPRESSION': 0.778, 'eval_precision_FOOD': 0.7931034482758621, 'eval_recall_FOOD': 0.6571428571428571, 'eval_f1_FOOD': 0.71875, 'eval_accuracy_FOOD': 0.784, 'eval_precision_SERVICE': 0.0, 'eval_recall_SERVICE': 0.0, 'eval_f1_SERVICE': 0.0, 'eval_accuracy_SERVICE': 0.678, 'eval_precision_AMBIENCE': 0.0, 'eval_recall_AMBIENCE': 0.0, 'eval_f1_AMBIENCE': 0.0, 'eval_accuracy_AMBIENCE': 0.858, 'eval_precision_PRICE': 0.0, 'eval_recall_PRICE': 0.0, 'eval_f1_PRICE': 0.0, 'eval_accuracy_PRICE': 0.942, 'eval_runtime': 3.936, 'eval_samples_per_second': 127.032, 'eval_steps_per_second': 8.13, 'epoch': 5.0}\n"
     ]
    },
    {
     "name": "stderr",
     "output_type": "stream",
     "text": [
      "Some weights of BertForSequenceClassification were not initialized from the model checkpoint at deepset/gbert-base and are newly initialized: ['classifier.bias', 'classifier.weight']\n",
      "You should probably TRAIN this model on a down-stream task to be able to use it for predictions and inference.\n",
      "Some weights of BertForSequenceClassification were not initialized from the model checkpoint at deepset/gbert-base and are newly initialized: ['classifier.bias', 'classifier.weight']\n",
      "You should probably TRAIN this model on a down-stream task to be able to use it for predictions and inference.\n"
     ]
    },
    {
     "data": {
      "application/vnd.jupyter.widget-view+json": {
       "model_id": "07586803af984d9b9dbb9b19eb8dfbb0",
       "version_major": 2,
       "version_minor": 0
      },
      "text/plain": [
       "  0%|          | 0/160 [00:00<?, ?it/s]"
      ]
     },
     "metadata": {},
     "output_type": "display_data"
    },
    {
     "name": "stdout",
     "output_type": "stream",
     "text": [
      "{'loss': 0.5623, 'learning_rate': 4.000000000000001e-06, 'epoch': 1.0}\n"
     ]
    },
    {
     "data": {
      "application/vnd.jupyter.widget-view+json": {
       "model_id": "aca45bfbf9ac4fefac51d832395f5dd2",
       "version_major": 2,
       "version_minor": 0
      },
      "text/plain": [
       "  0%|          | 0/32 [00:00<?, ?it/s]"
      ]
     },
     "metadata": {},
     "output_type": "display_data"
    },
    {
     "name": "stdout",
     "output_type": "stream",
     "text": [
      "{'eval_loss': 0.5026932954788208, 'eval_hamming_loss': 0.2392, 'eval_accuracy': 0.0, 'eval_f1_macro': 0.0, 'eval_f1_micro': 0.0, 'eval_f1_weighted': 0.0, 'eval_precision_GENERAL-IMPRESSION': 0.0, 'eval_recall_GENERAL-IMPRESSION': 0.0, 'eval_f1_GENERAL-IMPRESSION': 0.0, 'eval_accuracy_GENERAL-IMPRESSION': 0.738, 'eval_precision_FOOD': 0.0, 'eval_recall_FOOD': 0.0, 'eval_f1_FOOD': 0.0, 'eval_accuracy_FOOD': 0.572, 'eval_precision_SERVICE': 0.0, 'eval_recall_SERVICE': 0.0, 'eval_f1_SERVICE': 0.0, 'eval_accuracy_SERVICE': 0.714, 'eval_precision_AMBIENCE': 0.0, 'eval_recall_AMBIENCE': 0.0, 'eval_f1_AMBIENCE': 0.0, 'eval_accuracy_AMBIENCE': 0.854, 'eval_precision_PRICE': 0.0, 'eval_recall_PRICE': 0.0, 'eval_f1_PRICE': 0.0, 'eval_accuracy_PRICE': 0.926, 'eval_runtime': 4.8157, 'eval_samples_per_second': 103.827, 'eval_steps_per_second': 6.645, 'epoch': 1.0}\n",
      "{'loss': 0.4939, 'learning_rate': 3e-06, 'epoch': 2.0}\n"
     ]
    },
    {
     "data": {
      "application/vnd.jupyter.widget-view+json": {
       "model_id": "b22b77ad1796428bbe712651256300e3",
       "version_major": 2,
       "version_minor": 0
      },
      "text/plain": [
       "  0%|          | 0/32 [00:00<?, ?it/s]"
      ]
     },
     "metadata": {},
     "output_type": "display_data"
    },
    {
     "name": "stdout",
     "output_type": "stream",
     "text": [
      "{'eval_loss': 0.48160675168037415, 'eval_hamming_loss': 0.2216, 'eval_accuracy': 0.076, 'eval_f1_macro': 0.07022900763358778, 'eval_f1_micro': 0.14241486068111453, 'eval_f1_weighted': 0.12566059894304168, 'eval_precision_GENERAL-IMPRESSION': 0.0, 'eval_recall_GENERAL-IMPRESSION': 0.0, 'eval_f1_GENERAL-IMPRESSION': 0.0, 'eval_accuracy_GENERAL-IMPRESSION': 0.738, 'eval_precision_FOOD': 0.9583333333333334, 'eval_recall_FOOD': 0.21495327102803738, 'eval_f1_FOOD': 0.3511450381679389, 'eval_accuracy_FOOD': 0.66, 'eval_precision_SERVICE': 0.0, 'eval_recall_SERVICE': 0.0, 'eval_f1_SERVICE': 0.0, 'eval_accuracy_SERVICE': 0.714, 'eval_precision_AMBIENCE': 0.0, 'eval_recall_AMBIENCE': 0.0, 'eval_f1_AMBIENCE': 0.0, 'eval_accuracy_AMBIENCE': 0.854, 'eval_precision_PRICE': 0.0, 'eval_recall_PRICE': 0.0, 'eval_f1_PRICE': 0.0, 'eval_accuracy_PRICE': 0.926, 'eval_runtime': 4.8321, 'eval_samples_per_second': 103.474, 'eval_steps_per_second': 6.622, 'epoch': 2.0}\n",
      "{'loss': 0.4729, 'learning_rate': 2.0000000000000003e-06, 'epoch': 3.0}\n"
     ]
    },
    {
     "data": {
      "application/vnd.jupyter.widget-view+json": {
       "model_id": "5096227413e94aafb255396f9382ad4b",
       "version_major": 2,
       "version_minor": 0
      },
      "text/plain": [
       "  0%|          | 0/32 [00:00<?, ?it/s]"
      ]
     },
     "metadata": {},
     "output_type": "display_data"
    },
    {
     "name": "stdout",
     "output_type": "stream",
     "text": [
      "{'eval_loss': 0.46282702684402466, 'eval_hamming_loss': 0.2008, 'eval_accuracy': 0.168, 'eval_f1_macro': 0.15507638585770406, 'eval_f1_micro': 0.2969187675070028, 'eval_f1_weighted': 0.25067583053653314, 'eval_precision_GENERAL-IMPRESSION': 1.0, 'eval_recall_GENERAL-IMPRESSION': 0.10687022900763359, 'eval_f1_GENERAL-IMPRESSION': 0.19310344827586207, 'eval_accuracy_GENERAL-IMPRESSION': 0.766, 'eval_precision_FOOD': 0.9019607843137255, 'eval_recall_FOOD': 0.42990654205607476, 'eval_f1_FOOD': 0.5822784810126582, 'eval_accuracy_FOOD': 0.736, 'eval_precision_SERVICE': 0.0, 'eval_recall_SERVICE': 0.0, 'eval_f1_SERVICE': 0.0, 'eval_accuracy_SERVICE': 0.714, 'eval_precision_AMBIENCE': 0.0, 'eval_recall_AMBIENCE': 0.0, 'eval_f1_AMBIENCE': 0.0, 'eval_accuracy_AMBIENCE': 0.854, 'eval_precision_PRICE': 0.0, 'eval_recall_PRICE': 0.0, 'eval_f1_PRICE': 0.0, 'eval_accuracy_PRICE': 0.926, 'eval_runtime': 4.0966, 'eval_samples_per_second': 122.052, 'eval_steps_per_second': 7.811, 'epoch': 3.0}\n",
      "{'loss': 0.451, 'learning_rate': 1.0000000000000002e-06, 'epoch': 4.0}\n"
     ]
    },
    {
     "data": {
      "application/vnd.jupyter.widget-view+json": {
       "model_id": "221ea08e3acb46b29698aafb0f8cadff",
       "version_major": 2,
       "version_minor": 0
      },
      "text/plain": [
       "  0%|          | 0/32 [00:00<?, ?it/s]"
      ]
     },
     "metadata": {},
     "output_type": "display_data"
    },
    {
     "name": "stdout",
     "output_type": "stream",
     "text": [
      "{'eval_loss': 0.45074090361595154, 'eval_hamming_loss': 0.1892, 'eval_accuracy': 0.226, 'eval_f1_macro': 0.2003890362511052, 'eval_f1_micro': 0.37184594953519257, 'eval_f1_weighted': 0.3125738905695081, 'eval_precision_GENERAL-IMPRESSION': 0.96, 'eval_recall_GENERAL-IMPRESSION': 0.183206106870229, 'eval_f1_GENERAL-IMPRESSION': 0.30769230769230765, 'eval_accuracy_GENERAL-IMPRESSION': 0.784, 'eval_precision_FOOD': 0.890625, 'eval_recall_FOOD': 0.5327102803738317, 'eval_f1_FOOD': 0.6666666666666666, 'eval_accuracy_FOOD': 0.772, 'eval_precision_SERVICE': 1.0, 'eval_recall_SERVICE': 0.013986013986013986, 'eval_f1_SERVICE': 0.027586206896551724, 'eval_accuracy_SERVICE': 0.718, 'eval_precision_AMBIENCE': 0.0, 'eval_recall_AMBIENCE': 0.0, 'eval_f1_AMBIENCE': 0.0, 'eval_accuracy_AMBIENCE': 0.854, 'eval_precision_PRICE': 0.0, 'eval_recall_PRICE': 0.0, 'eval_f1_PRICE': 0.0, 'eval_accuracy_PRICE': 0.926, 'eval_runtime': 4.0857, 'eval_samples_per_second': 122.378, 'eval_steps_per_second': 7.832, 'epoch': 4.0}\n",
      "{'loss': 0.4409, 'learning_rate': 0.0, 'epoch': 5.0}\n"
     ]
    },
    {
     "data": {
      "application/vnd.jupyter.widget-view+json": {
       "model_id": "f776cab5c8444241ba0de4344f3bc0b4",
       "version_major": 2,
       "version_minor": 0
      },
      "text/plain": [
       "  0%|          | 0/32 [00:00<?, ?it/s]"
      ]
     },
     "metadata": {},
     "output_type": "display_data"
    },
    {
     "name": "stdout",
     "output_type": "stream",
     "text": [
      "{'eval_loss': 0.44686225056648254, 'eval_hamming_loss': 0.1796, 'eval_accuracy': 0.288, 'eval_f1_macro': 0.23786955442858887, 'eval_f1_micro': 0.4394506866416979, 'eval_f1_weighted': 0.36589674994623383, 'eval_precision_GENERAL-IMPRESSION': 0.9615384615384616, 'eval_recall_GENERAL-IMPRESSION': 0.19083969465648856, 'eval_f1_GENERAL-IMPRESSION': 0.3184713375796178, 'eval_accuracy_GENERAL-IMPRESSION': 0.786, 'eval_precision_FOOD': 0.844311377245509, 'eval_recall_FOOD': 0.6588785046728972, 'eval_f1_FOOD': 0.7401574803149606, 'eval_accuracy_FOOD': 0.802, 'eval_precision_SERVICE': 1.0, 'eval_recall_SERVICE': 0.06993006993006994, 'eval_f1_SERVICE': 0.13071895424836602, 'eval_accuracy_SERVICE': 0.734, 'eval_precision_AMBIENCE': 0.0, 'eval_recall_AMBIENCE': 0.0, 'eval_f1_AMBIENCE': 0.0, 'eval_accuracy_AMBIENCE': 0.854, 'eval_precision_PRICE': 0.0, 'eval_recall_PRICE': 0.0, 'eval_f1_PRICE': 0.0, 'eval_accuracy_PRICE': 0.926, 'eval_runtime': 4.042, 'eval_samples_per_second': 123.702, 'eval_steps_per_second': 7.917, 'epoch': 5.0}\n",
      "{'train_runtime': 99.2483, 'train_samples_per_second': 25.189, 'train_steps_per_second': 1.612, 'train_loss': 0.4841945469379425, 'epoch': 5.0}\n"
     ]
    },
    {
     "data": {
      "application/vnd.jupyter.widget-view+json": {
       "model_id": "26c85e553d3d4242a616aa1326cf6b85",
       "version_major": 2,
       "version_minor": 0
      },
      "text/plain": [
       "  0%|          | 0/32 [00:00<?, ?it/s]"
      ]
     },
     "metadata": {},
     "output_type": "display_data"
    },
    {
     "name": "stdout",
     "output_type": "stream",
     "text": [
      "Split 3: {'eval_loss': 0.44686225056648254, 'eval_hamming_loss': 0.1796, 'eval_accuracy': 0.288, 'eval_f1_macro': 0.23786955442858887, 'eval_f1_micro': 0.4394506866416979, 'eval_f1_weighted': 0.36589674994623383, 'eval_precision_GENERAL-IMPRESSION': 0.9615384615384616, 'eval_recall_GENERAL-IMPRESSION': 0.19083969465648856, 'eval_f1_GENERAL-IMPRESSION': 0.3184713375796178, 'eval_accuracy_GENERAL-IMPRESSION': 0.786, 'eval_precision_FOOD': 0.844311377245509, 'eval_recall_FOOD': 0.6588785046728972, 'eval_f1_FOOD': 0.7401574803149606, 'eval_accuracy_FOOD': 0.802, 'eval_precision_SERVICE': 1.0, 'eval_recall_SERVICE': 0.06993006993006994, 'eval_f1_SERVICE': 0.13071895424836602, 'eval_accuracy_SERVICE': 0.734, 'eval_precision_AMBIENCE': 0.0, 'eval_recall_AMBIENCE': 0.0, 'eval_f1_AMBIENCE': 0.0, 'eval_accuracy_AMBIENCE': 0.854, 'eval_precision_PRICE': 0.0, 'eval_recall_PRICE': 0.0, 'eval_f1_PRICE': 0.0, 'eval_accuracy_PRICE': 0.926, 'eval_runtime': 4.0573, 'eval_samples_per_second': 123.235, 'eval_steps_per_second': 7.887, 'epoch': 5.0}\n"
     ]
    },
    {
     "name": "stderr",
     "output_type": "stream",
     "text": [
      "Some weights of BertForSequenceClassification were not initialized from the model checkpoint at deepset/gbert-base and are newly initialized: ['classifier.bias', 'classifier.weight']\n",
      "You should probably TRAIN this model on a down-stream task to be able to use it for predictions and inference.\n",
      "Some weights of BertForSequenceClassification were not initialized from the model checkpoint at deepset/gbert-base and are newly initialized: ['classifier.bias', 'classifier.weight']\n",
      "You should probably TRAIN this model on a down-stream task to be able to use it for predictions and inference.\n"
     ]
    },
    {
     "data": {
      "application/vnd.jupyter.widget-view+json": {
       "model_id": "822da97feb1445599df8bd9b15eaa19d",
       "version_major": 2,
       "version_minor": 0
      },
      "text/plain": [
       "  0%|          | 0/160 [00:00<?, ?it/s]"
      ]
     },
     "metadata": {},
     "output_type": "display_data"
    },
    {
     "name": "stdout",
     "output_type": "stream",
     "text": [
      "{'loss': 0.576, 'learning_rate': 4.000000000000001e-06, 'epoch': 1.0}\n"
     ]
    },
    {
     "data": {
      "application/vnd.jupyter.widget-view+json": {
       "model_id": "16a8d3d836354ddeb753fff556ba3e20",
       "version_major": 2,
       "version_minor": 0
      },
      "text/plain": [
       "  0%|          | 0/32 [00:00<?, ?it/s]"
      ]
     },
     "metadata": {},
     "output_type": "display_data"
    },
    {
     "name": "stdout",
     "output_type": "stream",
     "text": [
      "{'eval_loss': 0.5043847560882568, 'eval_hamming_loss': 0.2392, 'eval_accuracy': 0.004, 'eval_f1_macro': 0.003773584905660378, 'eval_f1_micro': 0.006644518272425249, 'eval_f1_weighted': 0.0066037735849056615, 'eval_precision_GENERAL-IMPRESSION': 0.0, 'eval_recall_GENERAL-IMPRESSION': 0.0, 'eval_f1_GENERAL-IMPRESSION': 0.0, 'eval_accuracy_GENERAL-IMPRESSION': 0.736, 'eval_precision_FOOD': 1.0, 'eval_recall_FOOD': 0.009523809523809525, 'eval_f1_FOOD': 0.01886792452830189, 'eval_accuracy_FOOD': 0.584, 'eval_precision_SERVICE': 0.0, 'eval_recall_SERVICE': 0.0, 'eval_f1_SERVICE': 0.0, 'eval_accuracy_SERVICE': 0.686, 'eval_precision_AMBIENCE': 0.0, 'eval_recall_AMBIENCE': 0.0, 'eval_f1_AMBIENCE': 0.0, 'eval_accuracy_AMBIENCE': 0.872, 'eval_precision_PRICE': 0.0, 'eval_recall_PRICE': 0.0, 'eval_f1_PRICE': 0.0, 'eval_accuracy_PRICE': 0.926, 'eval_runtime': 3.8535, 'eval_samples_per_second': 129.751, 'eval_steps_per_second': 8.304, 'epoch': 1.0}\n",
      "{'loss': 0.5065, 'learning_rate': 3e-06, 'epoch': 2.0}\n"
     ]
    },
    {
     "data": {
      "application/vnd.jupyter.widget-view+json": {
       "model_id": "62139a9d5d43464f88457213a7f497f5",
       "version_major": 2,
       "version_minor": 0
      },
      "text/plain": [
       "  0%|          | 0/32 [00:00<?, ?it/s]"
      ]
     },
     "metadata": {},
     "output_type": "display_data"
    },
    {
     "name": "stdout",
     "output_type": "stream",
     "text": [
      "{'eval_loss': 0.47756463289260864, 'eval_hamming_loss': 0.2284, 'eval_accuracy': 0.052, 'eval_f1_macro': 0.04979253112033195, 'eval_f1_micro': 0.09508716323296355, 'eval_f1_weighted': 0.0871369294605809, 'eval_precision_GENERAL-IMPRESSION': 0.0, 'eval_recall_GENERAL-IMPRESSION': 0.0, 'eval_f1_GENERAL-IMPRESSION': 0.0, 'eval_accuracy_GENERAL-IMPRESSION': 0.736, 'eval_precision_FOOD': 0.967741935483871, 'eval_recall_FOOD': 0.14285714285714285, 'eval_f1_FOOD': 0.24896265560165973, 'eval_accuracy_FOOD': 0.638, 'eval_precision_SERVICE': 0.0, 'eval_recall_SERVICE': 0.0, 'eval_f1_SERVICE': 0.0, 'eval_accuracy_SERVICE': 0.686, 'eval_precision_AMBIENCE': 0.0, 'eval_recall_AMBIENCE': 0.0, 'eval_f1_AMBIENCE': 0.0, 'eval_accuracy_AMBIENCE': 0.872, 'eval_precision_PRICE': 0.0, 'eval_recall_PRICE': 0.0, 'eval_f1_PRICE': 0.0, 'eval_accuracy_PRICE': 0.926, 'eval_runtime': 3.8735, 'eval_samples_per_second': 129.081, 'eval_steps_per_second': 8.261, 'epoch': 2.0}\n",
      "{'loss': 0.4851, 'learning_rate': 2.0000000000000003e-06, 'epoch': 3.0}\n"
     ]
    },
    {
     "data": {
      "application/vnd.jupyter.widget-view+json": {
       "model_id": "ae1cb3d775ed47c88ed6583ffd1d9442",
       "version_major": 2,
       "version_minor": 0
      },
      "text/plain": [
       "  0%|          | 0/32 [00:00<?, ?it/s]"
      ]
     },
     "metadata": {},
     "output_type": "display_data"
    },
    {
     "name": "stdout",
     "output_type": "stream",
     "text": [
      "{'eval_loss': 0.46058306097984314, 'eval_hamming_loss': 0.2096, 'eval_accuracy': 0.122, 'eval_f1_macro': 0.11840476851968781, 'eval_f1_micro': 0.23391812865497078, 'eval_f1_weighted': 0.19771929381456319, 'eval_precision_GENERAL-IMPRESSION': 1.0, 'eval_recall_GENERAL-IMPRESSION': 0.03787878787878788, 'eval_f1_GENERAL-IMPRESSION': 0.07299270072992702, 'eval_accuracy_GENERAL-IMPRESSION': 0.746, 'eval_precision_FOOD': 0.9493670886075949, 'eval_recall_FOOD': 0.35714285714285715, 'eval_f1_FOOD': 0.5190311418685121, 'eval_accuracy_FOOD': 0.722, 'eval_precision_SERVICE': 0.0, 'eval_recall_SERVICE': 0.0, 'eval_f1_SERVICE': 0.0, 'eval_accuracy_SERVICE': 0.686, 'eval_precision_AMBIENCE': 0.0, 'eval_recall_AMBIENCE': 0.0, 'eval_f1_AMBIENCE': 0.0, 'eval_accuracy_AMBIENCE': 0.872, 'eval_precision_PRICE': 0.0, 'eval_recall_PRICE': 0.0, 'eval_f1_PRICE': 0.0, 'eval_accuracy_PRICE': 0.926, 'eval_runtime': 3.9168, 'eval_samples_per_second': 127.656, 'eval_steps_per_second': 8.17, 'epoch': 3.0}\n",
      "{'loss': 0.469, 'learning_rate': 1.0000000000000002e-06, 'epoch': 4.0}\n"
     ]
    },
    {
     "data": {
      "application/vnd.jupyter.widget-view+json": {
       "model_id": "b685d5160c884abfbf5e44b58a4efcf7",
       "version_major": 2,
       "version_minor": 0
      },
      "text/plain": [
       "  0%|          | 0/32 [00:00<?, ?it/s]"
      ]
     },
     "metadata": {},
     "output_type": "display_data"
    },
    {
     "name": "stdout",
     "output_type": "stream",
     "text": [
      "{'eval_loss': 0.4482480585575104, 'eval_hamming_loss': 0.1892, 'eval_accuracy': 0.208, 'eval_f1_macro': 0.20040981319571705, 'eval_f1_micro': 0.3599458728010826, 'eval_f1_weighted': 0.3073557103639535, 'eval_precision_GENERAL-IMPRESSION': 0.9615384615384616, 'eval_recall_GENERAL-IMPRESSION': 0.1893939393939394, 'eval_f1_GENERAL-IMPRESSION': 0.31645569620253167, 'eval_accuracy_GENERAL-IMPRESSION': 0.784, 'eval_precision_FOOD': 0.954954954954955, 'eval_recall_FOOD': 0.5047619047619047, 'eval_f1_FOOD': 0.660436137071651, 'eval_accuracy_FOOD': 0.782, 'eval_precision_SERVICE': 1.0, 'eval_recall_SERVICE': 0.012738853503184714, 'eval_f1_SERVICE': 0.025157232704402517, 'eval_accuracy_SERVICE': 0.69, 'eval_precision_AMBIENCE': 0.0, 'eval_recall_AMBIENCE': 0.0, 'eval_f1_AMBIENCE': 0.0, 'eval_accuracy_AMBIENCE': 0.872, 'eval_precision_PRICE': 0.0, 'eval_recall_PRICE': 0.0, 'eval_f1_PRICE': 0.0, 'eval_accuracy_PRICE': 0.926, 'eval_runtime': 3.8537, 'eval_samples_per_second': 129.745, 'eval_steps_per_second': 8.304, 'epoch': 4.0}\n",
      "{'loss': 0.463, 'learning_rate': 0.0, 'epoch': 5.0}\n"
     ]
    },
    {
     "data": {
      "application/vnd.jupyter.widget-view+json": {
       "model_id": "5259aaff62c14083891c5e4d00d8eb5d",
       "version_major": 2,
       "version_minor": 0
      },
      "text/plain": [
       "  0%|          | 0/32 [00:00<?, ?it/s]"
      ]
     },
     "metadata": {},
     "output_type": "display_data"
    },
    {
     "name": "stdout",
     "output_type": "stream",
     "text": [
      "{'eval_loss': 0.4439825415611267, 'eval_hamming_loss': 0.186, 'eval_accuracy': 0.216, 'eval_f1_macro': 0.20991186313542212, 'eval_f1_micro': 0.3775100401606426, 'eval_f1_weighted': 0.32151753721654835, 'eval_precision_GENERAL-IMPRESSION': 0.9629629629629629, 'eval_recall_GENERAL-IMPRESSION': 0.19696969696969696, 'eval_f1_GENERAL-IMPRESSION': 0.3270440251572327, 'eval_accuracy_GENERAL-IMPRESSION': 0.786, 'eval_precision_FOOD': 0.9572649572649573, 'eval_recall_FOOD': 0.5333333333333333, 'eval_f1_FOOD': 0.6850152905198778, 'eval_accuracy_FOOD': 0.794, 'eval_precision_SERVICE': 1.0, 'eval_recall_SERVICE': 0.01910828025477707, 'eval_f1_SERVICE': 0.0375, 'eval_accuracy_SERVICE': 0.692, 'eval_precision_AMBIENCE': 0.0, 'eval_recall_AMBIENCE': 0.0, 'eval_f1_AMBIENCE': 0.0, 'eval_accuracy_AMBIENCE': 0.872, 'eval_precision_PRICE': 0.0, 'eval_recall_PRICE': 0.0, 'eval_f1_PRICE': 0.0, 'eval_accuracy_PRICE': 0.926, 'eval_runtime': 3.8702, 'eval_samples_per_second': 129.192, 'eval_steps_per_second': 8.268, 'epoch': 5.0}\n",
      "{'train_runtime': 92.3416, 'train_samples_per_second': 27.073, 'train_steps_per_second': 1.733, 'train_loss': 0.49993783235549927, 'epoch': 5.0}\n"
     ]
    },
    {
     "data": {
      "application/vnd.jupyter.widget-view+json": {
       "model_id": "f1134c4db74540a78b1428037f6b6c1d",
       "version_major": 2,
       "version_minor": 0
      },
      "text/plain": [
       "  0%|          | 0/32 [00:00<?, ?it/s]"
      ]
     },
     "metadata": {},
     "output_type": "display_data"
    },
    {
     "name": "stdout",
     "output_type": "stream",
     "text": [
      "Split 4: {'eval_loss': 0.4439825415611267, 'eval_hamming_loss': 0.186, 'eval_accuracy': 0.216, 'eval_f1_macro': 0.20991186313542212, 'eval_f1_micro': 0.3775100401606426, 'eval_f1_weighted': 0.32151753721654835, 'eval_precision_GENERAL-IMPRESSION': 0.9629629629629629, 'eval_recall_GENERAL-IMPRESSION': 0.19696969696969696, 'eval_f1_GENERAL-IMPRESSION': 0.3270440251572327, 'eval_accuracy_GENERAL-IMPRESSION': 0.786, 'eval_precision_FOOD': 0.9572649572649573, 'eval_recall_FOOD': 0.5333333333333333, 'eval_f1_FOOD': 0.6850152905198778, 'eval_accuracy_FOOD': 0.794, 'eval_precision_SERVICE': 1.0, 'eval_recall_SERVICE': 0.01910828025477707, 'eval_f1_SERVICE': 0.0375, 'eval_accuracy_SERVICE': 0.692, 'eval_precision_AMBIENCE': 0.0, 'eval_recall_AMBIENCE': 0.0, 'eval_f1_AMBIENCE': 0.0, 'eval_accuracy_AMBIENCE': 0.872, 'eval_precision_PRICE': 0.0, 'eval_recall_PRICE': 0.0, 'eval_f1_PRICE': 0.0, 'eval_accuracy_PRICE': 0.926, 'eval_runtime': 3.9068, 'eval_samples_per_second': 127.98, 'eval_steps_per_second': 8.191, 'epoch': 5.0}\n"
     ]
    }
   ],
   "source": [
    "if TARGET == \"aspect_category\":\n",
    "    results = train_ACD_model(\n",
    "        LLM_NAME, N_REAL, N_SYNTH, TARGET, LLM_SAMPLING, train_dataset, test_dataset)"
   ]
  },
  {
   "cell_type": "code",
   "execution_count": 6,
   "metadata": {},
   "outputs": [],
   "source": [
    "if TARGET == \"aspect_category_sentiment\":\n",
    "    results = train_ACSA_model(LLM_NAME, N_REAL, N_SYNTH, TARGET, LLM_SAMPLING, train_dataset, test_dataset)"
   ]
  },
  {
   "cell_type": "code",
   "execution_count": 7,
   "metadata": {},
   "outputs": [],
   "source": [
    "if TARGET == \"aspect_term\":\n",
    "    results = train_OTE_model(\n",
    "        LLM_NAME, N_REAL, N_SYNTH, TARGET, LLM_SAMPLING, train_dataset, test_dataset)"
   ]
  },
  {
   "cell_type": "code",
   "execution_count": 8,
   "metadata": {},
   "outputs": [],
   "source": [
    "if TARGET == \"target_aspect_sentiment_detection\":\n",
    "    results = train_TASD_model(\n",
    "        LLM_NAME, N_REAL, N_SYNTH, TARGET, LLM_SAMPLING, train_dataset, test_dataset)"
   ]
  },
  {
   "cell_type": "markdown",
   "metadata": {},
   "source": [
    "### Save Results"
   ]
  },
  {
   "cell_type": "code",
   "execution_count": 9,
   "metadata": {},
   "outputs": [],
   "source": [
    "with open(f'results_json/results_{LLM_NAME}_real{N_REAL}_synth{N_SYNTH}_{TARGET}_{LLM_SAMPLING}.json', 'w') as json_file:\n",
    "    json.dump(results, json_file)\n",
    "\n",
    "df = pd.DataFrame([results])\n",
    "df.to_csv(f'results_csv/results_{LLM_NAME}_real{N_REAL}_synth{N_SYNTH}_{TARGET}_{LLM_SAMPLING}.csv', index=False)"
   ]
  },
  {
   "cell_type": "code",
   "execution_count": 10,
   "metadata": {},
   "outputs": [
    {
     "data": {
      "text/plain": [
       "{'LLM_NAME': 'Llama13B',\n",
       " 'N_REAL': 500,\n",
       " 'N_SYNTH': 0,\n",
       " 'TARGET': 'aspect_category',\n",
       " 'LLM_SAMPLING': 'random',\n",
       " 'eval_loss': 0.447823041677475,\n",
       " 'eval_accuracy': 0.216,\n",
       " 'eval_hamming_loss': 0.186,\n",
       " 'eval_f1_macro': 0.20991186313542212,\n",
       " 'eval_f1_micro': 0.3775100401606426,\n",
       " 'eval_f1_weighted': 0.32151753721654835,\n",
       " 'eval_precision_GENERAL-IMPRESSION': 0.9629629629629629,\n",
       " 'eval_recall_GENERAL-IMPRESSION': 0.19696969696969696,\n",
       " 'eval_f1_GENERAL-IMPRESSION': 0.3270440251572327,\n",
       " 'eval_accuracy_GENERAL-IMPRESSION': 0.786,\n",
       " 'eval_precision_FOOD': 0.9572649572649573,\n",
       " 'eval_recall_FOOD': 0.5333333333333333,\n",
       " 'eval_f1_FOOD': 0.6850152905198778,\n",
       " 'eval_accuracy_FOOD': 0.794,\n",
       " 'eval_precision_SERVICE': 1.0,\n",
       " 'eval_recall_SERVICE': 0.01910828025477707,\n",
       " 'eval_f1_SERVICE': 0.0375,\n",
       " 'eval_accuracy_SERVICE': 0.692,\n",
       " 'eval_precision_AMBIENCE': 0.0,\n",
       " 'eval_recall_AMBIENCE': 0.0,\n",
       " 'eval_f1_AMBIENCE': 0.0,\n",
       " 'eval_accuracy_AMBIENCE': 0.872,\n",
       " 'eval_precision_PRICE': 0.0,\n",
       " 'eval_recall_PRICE': 0.0,\n",
       " 'eval_f1_PRICE': 0.0,\n",
       " 'eval_accuracy_PRICE': 0.926,\n",
       " 'runtime': 547.5627191066742,\n",
       " 'runtime_formatted': '9m 7s'}"
      ]
     },
     "execution_count": 10,
     "metadata": {},
     "output_type": "execute_result"
    }
   ],
   "source": [
    "results"
   ]
  },
  {
   "cell_type": "markdown",
   "metadata": {},
   "source": [
    "### Remove useless folders"
   ]
  },
  {
   "cell_type": "code",
   "execution_count": 11,
   "metadata": {},
   "outputs": [],
   "source": [
    "try:\n",
    "    shutil.rmtree(\"outputs\")\n",
    "except:\n",
    "    pass"
   ]
  },
  {
   "cell_type": "code",
   "execution_count": null,
   "metadata": {},
   "outputs": [],
   "source": []
  }
 ],
 "metadata": {
  "kernelspec": {
   "display_name": "tensorflow_m1",
   "language": "python",
   "name": "python3"
  },
  "language_info": {
   "codemirror_mode": {
    "name": "ipython",
    "version": 3
   },
   "file_extension": ".py",
   "mimetype": "text/x-python",
   "name": "python",
   "nbconvert_exporter": "python",
   "pygments_lexer": "ipython3",
   "version": "3.11.3"
  },
  "orig_nbformat": 4
 },
 "nbformat": 4,
 "nbformat_minor": 2
}
