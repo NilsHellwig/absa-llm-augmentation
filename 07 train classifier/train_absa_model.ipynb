{
 "cells": [
  {
   "cell_type": "markdown",
   "metadata": {},
   "source": [
    "# Notebook: Train Model"
   ]
  },
  {
   "cell_type": "markdown",
   "metadata": {},
   "source": [
    "* To-Do: Error throwen, wenn es bei den labels ein invalide sequence übersetzung gibt"
   ]
  },
  {
   "cell_type": "markdown",
   "metadata": {},
   "source": [
    "## Packages"
   ]
  },
  {
   "cell_type": "code",
   "execution_count": 1,
   "metadata": {},
   "outputs": [],
   "source": [
    "from load_dataset_folds import load_dataset_folds\n",
    "from transformers import set_seed\n",
    "from TASD import train_TASD_model\n",
    "from ACD import train_ACD_model\n",
    "from OTE import train_OTE_model\n",
    "import pandas as pd\n",
    "import numpy as np\n",
    "import constants\n",
    "import warnings\n",
    "import shutil\n",
    "import torch\n",
    "import json\n",
    "import sys"
   ]
  },
  {
   "cell_type": "markdown",
   "metadata": {},
   "source": [
    "## Parameters"
   ]
  },
  {
   "cell_type": "code",
   "execution_count": 2,
   "metadata": {},
   "outputs": [],
   "source": [
    "LLM_NAME = \"Llama13B\"\n",
    "N_REAL = 500\n",
    "N_SYNTH = 0\n",
    "TARGET = \"aspect_category\" # \"aspect_term\", \"aspect_category\", \"target_aspect_sentiment_detection\"\n",
    "LLM_SAMPLING = \"random\""
   ]
  },
  {
   "cell_type": "markdown",
   "metadata": {},
   "source": [
    "## Settings"
   ]
  },
  {
   "cell_type": "code",
   "execution_count": 3,
   "metadata": {},
   "outputs": [],
   "source": [
    "# Set seeds\n",
    "torch.device(constants.DEVICE)\n",
    "torch.manual_seed(constants.RANDOM_SEED)\n",
    "torch.backends.cudnn.deterministic = True\n",
    "torch.backends.cudnn.benchmark = False\n",
    "np.random.seed(constants.RANDOM_SEED)\n",
    "set_seed(constants.RANDOM_SEED)\n",
    "\n",
    "if torch.cuda.is_available():\n",
    "    torch.cuda.manual_seed_all(constants.RANDOM_SEED)\n",
    "\n",
    "# Ignore warnings\n",
    "warnings.filterwarnings(\"ignore\", category=FutureWarning,\n",
    "                        module=\"transformers.optimization\")\n",
    "\n",
    "# Disable Pycache\n",
    "sys.dont_write_bytecode = True"
   ]
  },
  {
   "cell_type": "markdown",
   "metadata": {},
   "source": [
    "## Code"
   ]
  },
  {
   "cell_type": "code",
   "execution_count": 4,
   "metadata": {},
   "outputs": [
    {
     "name": "stdout",
     "output_type": "stream",
     "text": [
      "500 5\n",
      "500 5\n"
     ]
    }
   ],
   "source": [
    "train_dataset, test_dataset = load_dataset_folds(LLM_NAME, N_REAL, N_SYNTH, LLM_SAMPLING)"
   ]
  },
  {
   "cell_type": "markdown",
   "metadata": {},
   "source": [
    "### Load Model"
   ]
  },
  {
   "cell_type": "code",
   "execution_count": 5,
   "metadata": {},
   "outputs": [
    {
     "name": "stderr",
     "output_type": "stream",
     "text": [
      "Some weights of BertForSequenceClassification were not initialized from the model checkpoint at deepset/gbert-base and are newly initialized: ['classifier.weight', 'classifier.bias']\n",
      "You should probably TRAIN this model on a down-stream task to be able to use it for predictions and inference.\n",
      "Some weights of BertForSequenceClassification were not initialized from the model checkpoint at deepset/gbert-base and are newly initialized: ['classifier.weight', 'classifier.bias']\n",
      "You should probably TRAIN this model on a down-stream task to be able to use it for predictions and inference.\n",
      "huggingface/tokenizers: The current process just got forked, after parallelism has already been used. Disabling parallelism to avoid deadlocks...\n",
      "To disable this warning, you can either:\n",
      "\t- Avoid using `tokenizers` before the fork if possible\n",
      "\t- Explicitly set the environment variable TOKENIZERS_PARALLELISM=(true | false)\n"
     ]
    },
    {
     "data": {
      "application/vnd.jupyter.widget-view+json": {
       "model_id": "8335dc675e4c4819b2a3a75c6c60ae12",
       "version_major": 2,
       "version_minor": 0
      },
      "text/plain": [
       "  0%|          | 0/160 [00:00<?, ?it/s]"
      ]
     },
     "metadata": {},
     "output_type": "display_data"
    },
    {
     "name": "stderr",
     "output_type": "stream",
     "text": [
      "You're using a BertTokenizerFast tokenizer. Please note that with a fast tokenizer, using the `__call__` method is faster than using a method to encode the text followed by a call to the `pad` method to get a padded encoding.\n"
     ]
    },
    {
     "name": "stdout",
     "output_type": "stream",
     "text": [
      "{'loss': 0.5477, 'learning_rate': 4.000000000000001e-06, 'epoch': 1.0}\n"
     ]
    },
    {
     "data": {
      "application/vnd.jupyter.widget-view+json": {
       "model_id": "25d05459aed24bfb8e7429896fe961e2",
       "version_major": 2,
       "version_minor": 0
      },
      "text/plain": [
       "  0%|          | 0/32 [00:00<?, ?it/s]"
      ]
     },
     "metadata": {},
     "output_type": "display_data"
    },
    {
     "name": "stdout",
     "output_type": "stream",
     "text": [
      "{'eval_loss': 0.45009976625442505, 'eval_hamming_loss': 0.1864, 'eval_accuracy': 0.134, 'eval_f1_macro': 0.22310530454243033, 'eval_f1_micro': 0.414572864321608, 'eval_f1_weighted': 0.3371980526293138, 'eval_precision_GENERAL-IMPRESSION': 0.0, 'eval_recall_GENERAL-IMPRESSION': 0.0, 'eval_f1_GENERAL-IMPRESSION': 0.0, 'eval_precision_FOOD': 1.0, 'eval_recall_FOOD': 0.18562874251497005, 'eval_f1_FOOD': 0.3131313131313131, 'eval_precision_SERVICE': 1.0, 'eval_recall_SERVICE': 0.67, 'eval_f1_SERVICE': 0.8023952095808384, 'eval_precision_AMBIENCE': 0.0, 'eval_recall_AMBIENCE': 0.0, 'eval_f1_AMBIENCE': 0.0, 'eval_precision_PRICE': 0.0, 'eval_recall_PRICE': 0.0, 'eval_f1_PRICE': 0.0, 'eval_runtime': 2.4206, 'eval_samples_per_second': 206.561, 'eval_steps_per_second': 13.22, 'epoch': 1.0}\n",
      "{'loss': 0.4073, 'learning_rate': 3e-06, 'epoch': 2.0}\n"
     ]
    },
    {
     "data": {
      "application/vnd.jupyter.widget-view+json": {
       "model_id": "671ddca2235b47dcbf8cefbffcf97351",
       "version_major": 2,
       "version_minor": 0
      },
      "text/plain": [
       "  0%|          | 0/32 [00:00<?, ?it/s]"
      ]
     },
     "metadata": {},
     "output_type": "display_data"
    },
    {
     "name": "stdout",
     "output_type": "stream",
     "text": [
      "{'eval_loss': 0.31729498505592346, 'eval_hamming_loss': 0.0548, 'eval_accuracy': 0.726, 'eval_f1_macro': 0.6712451173121601, 'eval_f1_micro': 0.8782222222222222, 'eval_f1_weighted': 0.8332484140911753, 'eval_precision_GENERAL-IMPRESSION': 1.0, 'eval_recall_GENERAL-IMPRESSION': 1.0, 'eval_f1_GENERAL-IMPRESSION': 1.0, 'eval_precision_FOOD': 1.0, 'eval_recall_FOOD': 0.7904191616766467, 'eval_f1_FOOD': 0.882943143812709, 'eval_precision_SERVICE': 1.0, 'eval_recall_SERVICE': 1.0, 'eval_f1_SERVICE': 1.0, 'eval_precision_AMBIENCE': 1.0, 'eval_recall_AMBIENCE': 0.31, 'eval_f1_AMBIENCE': 0.47328244274809156, 'eval_precision_PRICE': 0.0, 'eval_recall_PRICE': 0.0, 'eval_f1_PRICE': 0.0, 'eval_runtime': 2.6873, 'eval_samples_per_second': 186.059, 'eval_steps_per_second': 11.908, 'epoch': 2.0}\n",
      "{'loss': 0.3067, 'learning_rate': 2.0000000000000003e-06, 'epoch': 3.0}\n"
     ]
    },
    {
     "data": {
      "application/vnd.jupyter.widget-view+json": {
       "model_id": "4ecc3c1adbce40f9b201edf298c2c3eb",
       "version_major": 2,
       "version_minor": 0
      },
      "text/plain": [
       "  0%|          | 0/32 [00:00<?, ?it/s]"
      ]
     },
     "metadata": {},
     "output_type": "display_data"
    },
    {
     "name": "stdout",
     "output_type": "stream",
     "text": [
      "{'eval_loss': 0.24074643850326538, 'eval_hamming_loss': 0.0132, 'eval_accuracy': 0.934, 'eval_f1_macro': 0.9604790419161677, 'eval_f1_micro': 0.9731489015459723, 'eval_f1_weighted': 0.9686838683963294, 'eval_precision_GENERAL-IMPRESSION': 1.0, 'eval_recall_GENERAL-IMPRESSION': 1.0, 'eval_f1_GENERAL-IMPRESSION': 1.0, 'eval_precision_FOOD': 1.0, 'eval_recall_FOOD': 1.0, 'eval_f1_FOOD': 1.0, 'eval_precision_SERVICE': 1.0, 'eval_recall_SERVICE': 1.0, 'eval_f1_SERVICE': 1.0, 'eval_precision_AMBIENCE': 1.0, 'eval_recall_AMBIENCE': 0.67, 'eval_f1_AMBIENCE': 0.8023952095808384, 'eval_precision_PRICE': 1.0, 'eval_recall_PRICE': 1.0, 'eval_f1_PRICE': 1.0, 'eval_runtime': 2.5451, 'eval_samples_per_second': 196.456, 'eval_steps_per_second': 12.573, 'epoch': 3.0}\n",
      "{'loss': 0.2539, 'learning_rate': 1.0000000000000002e-06, 'epoch': 4.0}\n"
     ]
    },
    {
     "data": {
      "application/vnd.jupyter.widget-view+json": {
       "model_id": "a2dcfce62bd54bf297f11594b37c4945",
       "version_major": 2,
       "version_minor": 0
      },
      "text/plain": [
       "  0%|          | 0/32 [00:00<?, ?it/s]"
      ]
     },
     "metadata": {},
     "output_type": "display_data"
    },
    {
     "name": "stdout",
     "output_type": "stream",
     "text": [
      "{'eval_loss': 0.20778518915176392, 'eval_hamming_loss': 0.0, 'eval_accuracy': 1.0, 'eval_f1_macro': 1.0, 'eval_f1_micro': 1.0, 'eval_f1_weighted': 1.0, 'eval_precision_GENERAL-IMPRESSION': 1.0, 'eval_recall_GENERAL-IMPRESSION': 1.0, 'eval_f1_GENERAL-IMPRESSION': 1.0, 'eval_precision_FOOD': 1.0, 'eval_recall_FOOD': 1.0, 'eval_f1_FOOD': 1.0, 'eval_precision_SERVICE': 1.0, 'eval_recall_SERVICE': 1.0, 'eval_f1_SERVICE': 1.0, 'eval_precision_AMBIENCE': 1.0, 'eval_recall_AMBIENCE': 1.0, 'eval_f1_AMBIENCE': 1.0, 'eval_precision_PRICE': 1.0, 'eval_recall_PRICE': 1.0, 'eval_f1_PRICE': 1.0, 'eval_runtime': 2.3396, 'eval_samples_per_second': 213.716, 'eval_steps_per_second': 13.678, 'epoch': 4.0}\n",
      "{'loss': 0.2301, 'learning_rate': 0.0, 'epoch': 5.0}\n"
     ]
    },
    {
     "data": {
      "application/vnd.jupyter.widget-view+json": {
       "model_id": "be0d82bde8b541a1a8bf9f9ed526900d",
       "version_major": 2,
       "version_minor": 0
      },
      "text/plain": [
       "  0%|          | 0/32 [00:00<?, ?it/s]"
      ]
     },
     "metadata": {},
     "output_type": "display_data"
    },
    {
     "name": "stdout",
     "output_type": "stream",
     "text": [
      "{'eval_loss': 0.19867871701717377, 'eval_hamming_loss': 0.0, 'eval_accuracy': 1.0, 'eval_f1_macro': 1.0, 'eval_f1_micro': 1.0, 'eval_f1_weighted': 1.0, 'eval_precision_GENERAL-IMPRESSION': 1.0, 'eval_recall_GENERAL-IMPRESSION': 1.0, 'eval_f1_GENERAL-IMPRESSION': 1.0, 'eval_precision_FOOD': 1.0, 'eval_recall_FOOD': 1.0, 'eval_f1_FOOD': 1.0, 'eval_precision_SERVICE': 1.0, 'eval_recall_SERVICE': 1.0, 'eval_f1_SERVICE': 1.0, 'eval_precision_AMBIENCE': 1.0, 'eval_recall_AMBIENCE': 1.0, 'eval_f1_AMBIENCE': 1.0, 'eval_precision_PRICE': 1.0, 'eval_recall_PRICE': 1.0, 'eval_f1_PRICE': 1.0, 'eval_runtime': 2.5237, 'eval_samples_per_second': 198.125, 'eval_steps_per_second': 12.68, 'epoch': 5.0}\n",
      "{'train_runtime': 78.392, 'train_samples_per_second': 31.891, 'train_steps_per_second': 2.041, 'train_loss': 0.34914917647838595, 'epoch': 5.0}\n"
     ]
    },
    {
     "data": {
      "application/vnd.jupyter.widget-view+json": {
       "model_id": "583fc40617c949599b32c19ab82e5cbc",
       "version_major": 2,
       "version_minor": 0
      },
      "text/plain": [
       "  0%|          | 0/32 [00:00<?, ?it/s]"
      ]
     },
     "metadata": {},
     "output_type": "display_data"
    },
    {
     "name": "stderr",
     "output_type": "stream",
     "text": [
      "Some weights of BertForSequenceClassification were not initialized from the model checkpoint at deepset/gbert-base and are newly initialized: ['classifier.weight', 'classifier.bias']\n",
      "You should probably TRAIN this model on a down-stream task to be able to use it for predictions and inference.\n",
      "Some weights of BertForSequenceClassification were not initialized from the model checkpoint at deepset/gbert-base and are newly initialized: ['classifier.weight', 'classifier.bias']\n",
      "You should probably TRAIN this model on a down-stream task to be able to use it for predictions and inference.\n"
     ]
    },
    {
     "data": {
      "application/vnd.jupyter.widget-view+json": {
       "model_id": "d9dffccff8934879b08bb999f255ce78",
       "version_major": 2,
       "version_minor": 0
      },
      "text/plain": [
       "  0%|          | 0/160 [00:00<?, ?it/s]"
      ]
     },
     "metadata": {},
     "output_type": "display_data"
    }
   ],
   "source": [
    "if TARGET == \"aspect_category\":\n",
    "   results = train_ACD_model(LLM_NAME, N_REAL, N_SYNTH, TARGET, LLM_SAMPLING, train_dataset, test_dataset)"
   ]
  },
  {
   "cell_type": "code",
   "execution_count": null,
   "metadata": {},
   "outputs": [],
   "source": [
    "if TARGET == \"aspect_term\":\n",
    "    results = train_OTE_model(LLM_NAME, N_REAL, N_SYNTH, TARGET, LLM_SAMPLING, train_dataset, test_dataset)"
   ]
  },
  {
   "cell_type": "code",
   "execution_count": null,
   "metadata": {},
   "outputs": [],
   "source": [
    "if TARGET == \"target_aspect_sentiment_detection\":\n",
    "    results = train_TASD_model(LLM_NAME, N_REAL, N_SYNTH, TARGET, LLM_SAMPLING, train_dataset, test_dataset)\n"
   ]
  },
  {
   "cell_type": "markdown",
   "metadata": {},
   "source": [
    "### Save Results"
   ]
  },
  {
   "cell_type": "code",
   "execution_count": null,
   "metadata": {},
   "outputs": [],
   "source": [
    "with open(f'results_json/results_{LLM_NAME}_real{N_REAL}_synth{N_SYNTH}_{TARGET}_{LLM_SAMPLING}.json', 'w') as json_file:\n",
    "    json.dump(results, json_file)\n",
    "\n",
    "df = pd.DataFrame([results])\n",
    "df.to_csv(f'results_csv/results_{LLM_NAME}_real{N_REAL}_synth{N_SYNTH}_{TARGET}_{LLM_SAMPLING}.csv', index=False)"
   ]
  },
  {
   "cell_type": "code",
   "execution_count": null,
   "metadata": {},
   "outputs": [
    {
     "data": {
      "text/plain": [
       "{'LLM_NAME': 'Llama13B',\n",
       " 'N_REAL': 500,\n",
       " 'N_SYNTH': 0,\n",
       " 'TARGET': 'aspect_category',\n",
       " 'LLM_SAMPLING': 'random',\n",
       " 'eval_loss': 0.5149109959602356,\n",
       " 'eval_accuracy': 0.134,\n",
       " 'eval_hamming_loss': 0.1988,\n",
       " 'eval_f1_macro': 0.1604790419161677,\n",
       " 'eval_f1_micro': 0.3503267973856209,\n",
       " 'eval_f1_weighted': 0.25432494756920393,\n",
       " 'eval_precision_GENERAL-IMPRESSION': 0.0,\n",
       " 'eval_recall_GENERAL-IMPRESSION': 0.0,\n",
       " 'eval_f1_GENERAL-IMPRESSION': 0.0,\n",
       " 'eval_precision_FOOD': 0.0,\n",
       " 'eval_recall_FOOD': 0.0,\n",
       " 'eval_f1_FOOD': 0.0,\n",
       " 'eval_precision_SERVICE': 1.0,\n",
       " 'eval_recall_SERVICE': 0.67,\n",
       " 'eval_f1_SERVICE': 0.8023952095808384,\n",
       " 'eval_precision_AMBIENCE': 0.0,\n",
       " 'eval_recall_AMBIENCE': 0.0,\n",
       " 'eval_f1_AMBIENCE': 0.0,\n",
       " 'eval_precision_PRICE': 0.0,\n",
       " 'eval_recall_PRICE': 0.0,\n",
       " 'eval_f1_PRICE': 0.0,\n",
       " 'runtime': 19.87282395362854,\n",
       " 'runtime_formatted': '19s'}"
      ]
     },
     "execution_count": 9,
     "metadata": {},
     "output_type": "execute_result"
    }
   ],
   "source": [
    "results"
   ]
  },
  {
   "cell_type": "markdown",
   "metadata": {},
   "source": [
    "### Remove useless folders"
   ]
  },
  {
   "cell_type": "code",
   "execution_count": null,
   "metadata": {},
   "outputs": [],
   "source": [
    "try:\n",
    "    shutil.rmtree(\"outputs\")\n",
    "except:\n",
    "    pass"
   ]
  },
  {
   "cell_type": "code",
   "execution_count": null,
   "metadata": {},
   "outputs": [],
   "source": []
  }
 ],
 "metadata": {
  "kernelspec": {
   "display_name": "tensorflow_m1",
   "language": "python",
   "name": "python3"
  },
  "language_info": {
   "codemirror_mode": {
    "name": "ipython",
    "version": 3
   },
   "file_extension": ".py",
   "mimetype": "text/x-python",
   "name": "python",
   "nbconvert_exporter": "python",
   "pygments_lexer": "ipython3",
   "version": "3.11.3"
  },
  "orig_nbformat": 4
 },
 "nbformat": 4,
 "nbformat_minor": 2
}
