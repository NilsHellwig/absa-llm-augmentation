{
 "cells": [
  {
   "cell_type": "markdown",
   "metadata": {},
   "source": [
    "# Notebook: Format Hyperparameter Tuning Results\n"
   ]
  },
  {
   "cell_type": "markdown",
   "metadata": {},
   "source": [
    "## Packages\n"
   ]
  },
  {
   "cell_type": "code",
   "execution_count": 5,
   "metadata": {},
   "outputs": [],
   "source": [
    "import pandas as pd\n",
    "import numpy as np"
   ]
  },
  {
   "cell_type": "markdown",
   "metadata": {},
   "source": [
    "## Settings\n"
   ]
  },
  {
   "cell_type": "code",
   "execution_count": 6,
   "metadata": {},
   "outputs": [],
   "source": [
    "TASKS = [\"acd\", \"acsa\"]\n",
    "TASK_ENCODING = {\"acd\": \"\\\\textbf{ACD}\", \"acsa\": \"\\\\textbf{ACSA}\"}\n",
    "SAMPLE_SIZES = [500, 1000, 1500, 2000]"
   ]
  },
  {
   "cell_type": "markdown",
   "metadata": {},
   "source": [
    "## Code\n"
   ]
  },
  {
   "cell_type": "code",
   "execution_count": 7,
   "metadata": {},
   "outputs": [],
   "source": [
    "def round_number(num, decimal_places):\n",
    "    formatted_num = \"{:.{}f}\".format(num, decimal_places)\n",
    "    rounded_num_str = \"{:.{}f}\".format(float(formatted_num), decimal_places)\n",
    "    return rounded_num_str\n",
    "\n",
    "\n",
    "def add_thousand_dots(n_sample):\n",
    "    if isinstance(n_sample, str):\n",
    "        if '.' in n_sample:\n",
    "            integer_part, decimal_part = n_sample.split('.')\n",
    "            formatted_integer_part = \"{:,}\".format(int(integer_part))\n",
    "            result = f\"{formatted_integer_part}.{decimal_part}\"\n",
    "        else:\n",
    "            result = \"{:,}\".format(int(n_sample))\n",
    "    elif isinstance(n_sample, np.float64):\n",
    "        result = \"{:,}\".format(round(n_sample, 1))\n",
    "    else:\n",
    "        result = n_sample\n",
    "\n",
    "    return result"
   ]
  },
  {
   "cell_type": "code",
   "execution_count": 8,
   "metadata": {},
   "outputs": [
    {
     "name": "stdout",
     "output_type": "stream",
     "text": [
      "\\multirow{4}{*}{\\textbf{ACD}} & 500 & 13 & 3e-05 & 8 & 88.89 & 79.76 \\\\\n",
      "  & 1,000 & 14 & 2e-05 & 8 & 89.81 & 82.20 \\\\\n",
      "  & 1,500 & 10 & 3e-05 & 16 & 90.07 & 82.36 \\\\\n",
      "  & 2,000 & 7 & 3e-05 & 32 & 90.11 & 82.84 \\\\\n",
      "\\hline\n",
      "\\multirow{4}{*}{\\textbf{ACSA}} & 500 & 15 & 2e-05 & 16 & 75.48 & 62.08 \\\\\n",
      "  & 1,000 & 15 & 2e-05 & 8 & 79.76 & 69.60 \\\\\n",
      "  & 1,500 & 20 & 2e-05 & 16 & 81.06 & 70.36 \\\\\n",
      "  & 2,000 & 18 & 3e-05 & 32 & 80.82 & 70.60 \\\\\n",
      "\\hline\n"
     ]
    }
   ],
   "source": [
    "for task_idx, task in enumerate(TASKS):\n",
    "    for sample_size_idx, sample_size in enumerate(SAMPLE_SIZES):\n",
    "        tsv_file_path = f\"optuna_20_gbert_{task}_{sample_size}.tsv\"\n",
    "        df = pd.read_csv(tsv_file_path, delimiter='\\t')\n",
    "        max_f1_micro_index = df['f1_micro'].idxmax()\n",
    "        values_at_max_f1_micro = df.loc[max_f1_micro_index, [\n",
    "            'learning_rate', 'num_train_epochs', 'per_device_train_batch_size', 'f1_micro', 'accuracy']]\n",
    "        \n",
    "        if sample_size_idx == 0:\n",
    "            task_print = \"\\multirow{4}{*}{\" + TASK_ENCODING[task] + \"}\"\n",
    "        else:\n",
    "            task_print = \" \"\n",
    "        \n",
    "        print(task_print,\n",
    "              \"&\", add_thousand_dots(str(sample_size)),\n",
    "              \"&\", str(values_at_max_f1_micro[\"num_train_epochs\"]),\n",
    "              \"&\", str(values_at_max_f1_micro[\"learning_rate\"]),\n",
    "              \"&\", str(values_at_max_f1_micro[\"per_device_train_batch_size\"]),\n",
    "              \"&\", round_number(values_at_max_f1_micro[\"f1_micro\"] * 100, 2),\n",
    "              \"&\", round_number(values_at_max_f1_micro[\"accuracy\"] * 100, 2), \"\\\\\\\\\")\n",
    "        \n",
    "        if sample_size_idx == 3:\n",
    "            print(\"\\\\hline\")"
   ]
  },
  {
   "cell_type": "code",
   "execution_count": null,
   "metadata": {},
   "outputs": [],
   "source": []
  }
 ],
 "metadata": {
  "kernelspec": {
   "display_name": "tensorflow_m1",
   "language": "python",
   "name": "python3"
  },
  "language_info": {
   "codemirror_mode": {
    "name": "ipython",
    "version": 3
   },
   "file_extension": ".py",
   "mimetype": "text/x-python",
   "name": "python",
   "nbconvert_exporter": "python",
   "pygments_lexer": "ipython3",
   "version": "3.11.3"
  }
 },
 "nbformat": 4,
 "nbformat_minor": 2
}
