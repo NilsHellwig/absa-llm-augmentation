{
 "cells": [
  {
   "cell_type": "code",
   "execution_count": 140,
   "metadata": {},
   "outputs": [
    {
     "name": "stdout",
     "output_type": "stream",
     "text": [
      "\\multirow{2}{*}{\\textbf{Llama-2-70B}} & \\textbf{LRS\\textsubscript{25}} & 40.25 & 25.20 & 36.74 & 44.50 \\\\\n",
      " & \\textbf{LRS\\textsubscript{500}} & 43.62 & 27.89 & 40.05 & 47.89 \\\\\n",
      "\\hline\n",
      "\\multirow{2}{*}{\\textbf{GPT-3.5-turbo}} & \\textbf{LRS\\textsubscript{25}} & \\textbf{56.68} & \\textbf{39.55} & 55.39 & \\textbf{58.03} \\\\\n",
      " & \\textbf{LRS\\textsubscript{500}} & 56.30 & 39.17 & \\textbf{55.89} & 56.71 \\\\\n",
      "\\hline\n"
     ]
    }
   ],
   "source": [
    "import re\n",
    "\n",
    "def add_bold_font(line_text, idxs):\n",
    "    values = re.findall(r'\\d+\\.\\d{2}', line_text)\n",
    "    \n",
    "    for i, val in enumerate(values):\n",
    "        if i in idxs:\n",
    "            line_text = line_text.replace(val, f'\\\\textbf{{{val}}}', 1)\n",
    "\n",
    "    return line_text\n",
    "\n",
    "\n",
    "def mark_highest_value_latex(input_latex):\n",
    "    lines = input_latex.strip().split('\\n')\n",
    "\n",
    "    first_values = re.findall(r'\\d+\\.\\d{2}', lines[0])\n",
    "\n",
    "    highest_values = {}\n",
    "\n",
    "    for i, val in enumerate(first_values):\n",
    "       highest_values[str(i)] = float(first_values[i])\n",
    "\n",
    "    # Ermitteln der höchsten scores\n",
    "    for i, line in enumerate(lines):\n",
    "        values = re.findall(r'\\d+\\.\\d{2}', line)\n",
    "        for val_idx, val in enumerate(values):\n",
    "            if highest_values[str(val_idx)] < float(val):\n",
    "                highest_values[str(val_idx)] = float(val)\n",
    "    \n",
    "    # Ersetzen\n",
    "    for i, line in enumerate(lines):\n",
    "        values = re.findall(r'\\d+\\.\\d{2}', line)\n",
    "        idxs = []\n",
    "        for val_idx, val in enumerate(values):\n",
    "            if float(val) == highest_values[str(val_idx)]:\n",
    "                idxs.append(val_idx)\n",
    "\n",
    "        lines[i] = add_bold_font(line, idxs)\n",
    "\n",
    "\n",
    "    return \"\\n\".join(lines)\n",
    "\n",
    "\n",
    "def load_latex_from_file(file_path):\n",
    "    with open(file_path, 'r') as file:\n",
    "        latex_code = file.read()\n",
    "    return latex_code\n",
    "\n",
    "latex_string = load_latex_from_file('input.txt')\n",
    "\n",
    "\n",
    "marked_latex = mark_highest_value_latex(latex_string)\n",
    "print(marked_latex)"
   ]
  },
  {
   "cell_type": "code",
   "execution_count": null,
   "metadata": {},
   "outputs": [],
   "source": []
  }
 ],
 "metadata": {
  "kernelspec": {
   "display_name": "tensorflow_m1",
   "language": "python",
   "name": "python3"
  },
  "language_info": {
   "codemirror_mode": {
    "name": "ipython",
    "version": 3
   },
   "file_extension": ".py",
   "mimetype": "text/x-python",
   "name": "python",
   "nbconvert_exporter": "python",
   "pygments_lexer": "ipython3",
   "version": "3.11.3"
  }
 },
 "nbformat": 4,
 "nbformat_minor": 2
}
