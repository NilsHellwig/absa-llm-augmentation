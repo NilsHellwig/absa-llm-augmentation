{
 "cells": [
  {
   "cell_type": "code",
   "execution_count": 1,
   "metadata": {},
   "outputs": [
    {
     "name": "stdout",
     "output_type": "stream",
     "text": [
      "\\multirow{3}{*}{\\textbf{Real Examples}} & \\multirow{3}{*}{-} & 500 & 0 & 64.77\\textsubscript{\\textbf{1.67}} & 56.50\\textsubscript{\\textbf{7.05}} & 47.92\\textsubscript{\\textbf{1.80}} \\\\\n",
      " &  & 1,000 & 0 & 67.33\\textsubscript{1.37} & 57.57\\textsubscript{4.65} & 50.76\\textsubscript{1.54} \\\\\n",
      " &  & 2,000 & 0 & \\textbf{70.11}\\textsubscript{0.96} & \\textbf{61.62}\\textsubscript{4.46} & \\textbf{53.98}\\textsubscript{1.13} \\\\\n",
      "\\hline\n"
     ]
    }
   ],
   "source": [
    "import re\n",
    "\n",
    "def add_bold_font(line_text, idxs):\n",
    "    values = re.findall(r'\\d+\\.\\d{2}', line_text)\n",
    "    \n",
    "    for i, val in enumerate(values):\n",
    "        if i in idxs:\n",
    "            line_text = line_text.replace(val, f'\\\\textbf{{{val}}}', 1)\n",
    "\n",
    "    return line_text\n",
    "\n",
    "\n",
    "def mark_highest_value_latex(input_latex):\n",
    "    lines = input_latex.strip().split('\\n')\n",
    "\n",
    "    first_values = re.findall(r'\\d+\\.\\d{2}', lines[0])\n",
    "\n",
    "    highest_values = {}\n",
    "\n",
    "    for i, val in enumerate(first_values):\n",
    "       highest_values[str(i)] = float(first_values[i])\n",
    "\n",
    "    # Ermitteln der höchsten scores\n",
    "    for i, line in enumerate(lines):\n",
    "        values = re.findall(r'\\d+\\.\\d{2}', line)\n",
    "        for val_idx, val in enumerate(values):\n",
    "            if highest_values[str(val_idx)] < float(val):\n",
    "                highest_values[str(val_idx)] = float(val)\n",
    "    \n",
    "    # Ersetzen\n",
    "    for i, line in enumerate(lines):\n",
    "        values = re.findall(r'\\d+\\.\\d{2}', line)\n",
    "        idxs = []\n",
    "        for val_idx, val in enumerate(values):\n",
    "            if float(val) == highest_values[str(val_idx)]:\n",
    "                idxs.append(val_idx)\n",
    "\n",
    "        lines[i] = add_bold_font(line, idxs)\n",
    "\n",
    "\n",
    "    return \"\\n\".join(lines)\n",
    "\n",
    "\n",
    "def load_latex_from_file(file_path):\n",
    "    with open(file_path, 'r') as file:\n",
    "        latex_code = file.read()\n",
    "    return latex_code\n",
    "\n",
    "latex_string = load_latex_from_file('input.txt')\n",
    "\n",
    "\n",
    "marked_latex = mark_highest_value_latex(latex_string)\n",
    "print(marked_latex)"
   ]
  },
  {
   "cell_type": "code",
   "execution_count": 6,
   "metadata": {},
   "outputs": [
    {
     "name": "stdout",
     "output_type": "stream",
     "text": [
      "\\multirow{3}{*}{\\textbf{LRS\\textsubscript{500}}} & 500 & 500 & \\textbf{61.52}\\textsubscript{1.20} & \\textbf{51.26}\\textsubscript{6.09} & \\textbf{44.43}\\textsubscript{1.26} \\\\\n",
      " &  & 500 & 1,000 & 59.91\\textsubscript{1.56} & 49.17\\textsubscript{7.75} & 42.79\\textsubscript{1.59} \\\\\n",
      " &  & 500 & 1,500 & 59.67\\textsubscript{1.04} & 48.14\\textsubscript{3.80} & 42.53\\textsubscript{1.05} \\\\\n",
      "\\arrayrulecolor{gray}\\cline{2-7}\\arrayrulecolor{black}\n",
      "\\hline\n"
     ]
    }
   ],
   "source": [
    "import re\n",
    "\n",
    "def add_bold_font(line_text, idxs):\n",
    "    values = re.findall(r'(\\d+\\.\\d{2})(\\\\textsubscript{\\d+\\.\\d{2}})?', line_text)\n",
    "    \n",
    "    for i, (value, subscript) in enumerate(values):\n",
    "        if i in idxs:\n",
    "            if subscript:\n",
    "                line_text = line_text.replace(f'{value}{subscript}', f'\\\\textbf{{{value}}}{subscript}', 1)\n",
    "            else:\n",
    "                line_text = line_text.replace(value, f'\\\\textbf{{{value}}}', 1)\n",
    "\n",
    "    return line_text\n",
    "\n",
    "def mark_highest_value_latex(input_latex):\n",
    "    lines = input_latex.strip().split('\\n')\n",
    "\n",
    "    first_values = re.findall(r'\\d+\\.\\d{2}(?:\\\\textsubscript{\\d+\\.\\d{2}})?', lines[0])\n",
    "\n",
    "    highest_values = {}\n",
    "\n",
    "    for i, val in enumerate(first_values):\n",
    "        highest_values[str(i)] = float(re.search(r'\\d+\\.\\d{2}', val).group())\n",
    "\n",
    "    # Ermitteln der höchsten scores\n",
    "    for i, line in enumerate(lines):\n",
    "        values = re.findall(r'\\d+\\.\\d{2}(?:\\\\textsubscript{\\d+\\.\\d{2}})?', line)\n",
    "        for val_idx, val in enumerate(values):\n",
    "            score = float(re.search(r'\\d+\\.\\d{2}', val).group())\n",
    "            if highest_values[str(val_idx)] < score:\n",
    "                highest_values[str(val_idx)] = score\n",
    "    \n",
    "    # Ersetzen\n",
    "    for i, line in enumerate(lines):\n",
    "        values = re.findall(r'\\d+\\.\\d{2}(?:\\\\textsubscript{\\d+\\.\\d{2}})?', line)\n",
    "        idxs = []\n",
    "        for val_idx, val in enumerate(values):\n",
    "            score = float(re.search(r'\\d+\\.\\d{2}', val).group())\n",
    "            if score == highest_values[str(val_idx)]:\n",
    "                idxs.append(val_idx)\n",
    "\n",
    "        lines[i] = add_bold_font(line, idxs)\n",
    "\n",
    "    return \"\\n\".join(lines)\n",
    "\n",
    "def load_latex_from_file(file_path):\n",
    "    with open(file_path, 'r') as file:\n",
    "        latex_code = file.read()\n",
    "    return latex_code\n",
    "\n",
    "# Beispielaufruf\n",
    "latex_string = load_latex_from_file('input.txt')\n",
    "marked_latex = mark_highest_value_latex(latex_string)\n",
    "print(marked_latex)\n",
    "\n"
   ]
  },
  {
   "cell_type": "code",
   "execution_count": null,
   "metadata": {},
   "outputs": [],
   "source": []
  }
 ],
 "metadata": {
  "kernelspec": {
   "display_name": "tensorflow_m1",
   "language": "python",
   "name": "python3"
  },
  "language_info": {
   "codemirror_mode": {
    "name": "ipython",
    "version": 3
   },
   "file_extension": ".py",
   "mimetype": "text/x-python",
   "name": "python",
   "nbconvert_exporter": "python",
   "pygments_lexer": "ipython3",
   "version": "3.11.3"
  }
 },
 "nbformat": 4,
 "nbformat_minor": 2
}
