{
 "cells": [
  {
   "cell_type": "code",
   "execution_count": 62,
   "metadata": {},
   "outputs": [
    {
     "name": "stdout",
     "output_type": "stream",
     "text": [
      "\\multirow{3}{*}{\\textbf{LRS\\textsubscript{500}}} & 500 & 500 & \\textbf{61.39}\\textsubscript{1.15} & \\textbf{50.83}\\textsubscript{6.11} \\\\\n",
      " &  & 500 & 1,000 & 59.51\\textsubscript{\\textbf{1.90}} & 50.51\\textsubscript{\\textbf{6.63}} \\\\\n",
      " &  & 500 & 1,500 & 59.42\\textsubscript{1.74} & 48.76\\textsubscript{5.04} \\\\\n",
      "\\arrayrulecolor{gray}\\cline{2-6}\\arrayrulecolor{black}\n"
     ]
    }
   ],
   "source": [
    "import re\n",
    "\n",
    "def add_bold_font(line_text, idxs):\n",
    "    values = re.findall(r'\\d+\\.\\d{2}', line_text)\n",
    "    \n",
    "    for i, val in enumerate(values):\n",
    "        if i in idxs:\n",
    "            line_text = line_text.replace(val, f'\\\\textbf{{{val}}}', 1)\n",
    "\n",
    "    return line_text\n",
    "\n",
    "\n",
    "def mark_highest_value_latex(input_latex):\n",
    "    lines = input_latex.strip().split('\\n')\n",
    "\n",
    "    first_values = re.findall(r'\\d+\\.\\d{2}', lines[0])\n",
    "\n",
    "    highest_values = {}\n",
    "\n",
    "    for i, val in enumerate(first_values):\n",
    "       highest_values[str(i)] = float(first_values[i])\n",
    "\n",
    "    # Ermitteln der höchsten scores\n",
    "    for i, line in enumerate(lines):\n",
    "        values = re.findall(r'\\d+\\.\\d{2}', line)\n",
    "        for val_idx, val in enumerate(values):\n",
    "            if highest_values[str(val_idx)] < float(val):\n",
    "                highest_values[str(val_idx)] = float(val)\n",
    "    \n",
    "    # Ersetzen\n",
    "    for i, line in enumerate(lines):\n",
    "        values = re.findall(r'\\d+\\.\\d{2}', line)\n",
    "        idxs = []\n",
    "        for val_idx, val in enumerate(values):\n",
    "            if float(val) == highest_values[str(val_idx)]:\n",
    "                idxs.append(val_idx)\n",
    "\n",
    "        lines[i] = add_bold_font(line, idxs)\n",
    "\n",
    "\n",
    "    return \"\\n\".join(lines)\n",
    "\n",
    "\n",
    "def load_latex_from_file(file_path):\n",
    "    with open(file_path, 'r') as file:\n",
    "        latex_code = file.read()\n",
    "    return latex_code\n",
    "\n",
    "latex_string = load_latex_from_file('input.txt')\n",
    "\n",
    "\n",
    "marked_latex = mark_highest_value_latex(latex_string)\n",
    "print(marked_latex)"
   ]
  },
  {
   "cell_type": "code",
   "execution_count": 63,
   "metadata": {},
   "outputs": [
    {
     "name": "stdout",
     "output_type": "stream",
     "text": [
      "\\multirow{3}{*}{\\textbf{LRS\\textsubscript{500}}} & 500 & 500 & \\textbf{61.39}\\textsubscript{1.15} & \\textbf{50.83}\\textsubscript{6.11} \\\\\n",
      " &  & 500 & 1,000 & 59.51\\textsubscript{1.90} & 50.51\\textsubscript{6.63} \\\\\n",
      " &  & 500 & 1,500 & 59.42\\textsubscript{1.74} & 48.76\\textsubscript{5.04} \\\\\n",
      "\\arrayrulecolor{gray}\\cline{2-6}\\arrayrulecolor{black}\n"
     ]
    }
   ],
   "source": [
    "import re\n",
    "\n",
    "def add_bold_font(line_text, idxs):\n",
    "    values = re.findall(r'(\\d+\\.\\d{2})(\\\\textsubscript{\\d+\\.\\d{2}})?', line_text)\n",
    "    \n",
    "    for i, (value, subscript) in enumerate(values):\n",
    "        if i in idxs:\n",
    "            if subscript:\n",
    "                line_text = line_text.replace(f'{value}{subscript}', f'\\\\textbf{{{value}}}{subscript}', 1)\n",
    "            else:\n",
    "                line_text = line_text.replace(value, f'\\\\textbf{{{value}}}', 1)\n",
    "\n",
    "    return line_text\n",
    "\n",
    "def mark_highest_value_latex(input_latex):\n",
    "    lines = input_latex.strip().split('\\n')\n",
    "\n",
    "    first_values = re.findall(r'\\d+\\.\\d{2}(?:\\\\textsubscript{\\d+\\.\\d{2}})?', lines[0])\n",
    "\n",
    "    highest_values = {}\n",
    "\n",
    "    for i, val in enumerate(first_values):\n",
    "        highest_values[str(i)] = float(re.search(r'\\d+\\.\\d{2}', val).group())\n",
    "\n",
    "    # Ermitteln der höchsten scores\n",
    "    for i, line in enumerate(lines):\n",
    "        values = re.findall(r'\\d+\\.\\d{2}(?:\\\\textsubscript{\\d+\\.\\d{2}})?', line)\n",
    "        for val_idx, val in enumerate(values):\n",
    "            score = float(re.search(r'\\d+\\.\\d{2}', val).group())\n",
    "            if highest_values[str(val_idx)] < score:\n",
    "                highest_values[str(val_idx)] = score\n",
    "    \n",
    "    # Ersetzen\n",
    "    for i, line in enumerate(lines):\n",
    "        values = re.findall(r'\\d+\\.\\d{2}(?:\\\\textsubscript{\\d+\\.\\d{2}})?', line)\n",
    "        idxs = []\n",
    "        for val_idx, val in enumerate(values):\n",
    "            score = float(re.search(r'\\d+\\.\\d{2}', val).group())\n",
    "            if score == highest_values[str(val_idx)]:\n",
    "                idxs.append(val_idx)\n",
    "\n",
    "        lines[i] = add_bold_font(line, idxs)\n",
    "\n",
    "    return \"\\n\".join(lines)\n",
    "\n",
    "def load_latex_from_file(file_path):\n",
    "    with open(file_path, 'r') as file:\n",
    "        latex_code = file.read()\n",
    "    return latex_code\n",
    "\n",
    "# Beispielaufruf\n",
    "latex_string = load_latex_from_file('input.txt')\n",
    "marked_latex = mark_highest_value_latex(latex_string)\n",
    "print(marked_latex)\n",
    "\n"
   ]
  },
  {
   "cell_type": "code",
   "execution_count": null,
   "metadata": {},
   "outputs": [],
   "source": []
  }
 ],
 "metadata": {
  "kernelspec": {
   "display_name": "tensorflow_m1",
   "language": "python",
   "name": "python3"
  },
  "language_info": {
   "codemirror_mode": {
    "name": "ipython",
    "version": 3
   },
   "file_extension": ".py",
   "mimetype": "text/x-python",
   "name": "python",
   "nbconvert_exporter": "python",
   "pygments_lexer": "ipython3",
   "version": "3.11.3"
  }
 },
 "nbformat": 4,
 "nbformat_minor": 2
}
