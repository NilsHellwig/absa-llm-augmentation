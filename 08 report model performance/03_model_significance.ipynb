{
 "cells": [
  {
   "cell_type": "markdown",
   "metadata": {},
   "source": [
    "# Notebook: Compare Model Performance"
   ]
  },
  {
   "cell_type": "code",
   "execution_count": 23,
   "metadata": {},
   "outputs": [],
   "source": [
    "from scipy.stats import ttest_rel, wilcoxon\n",
    "from statsmodels.stats import multitest\n",
    "import matplotlib.pyplot as plt\n",
    "from scipy.stats import shapiro\n",
    "from scipy.stats import levene\n",
    "import statsmodels.api as sm\n",
    "from scipy import stats\n",
    "import numpy as np\n",
    "import json"
   ]
  },
  {
   "cell_type": "code",
   "execution_count": 24,
   "metadata": {},
   "outputs": [],
   "source": [
    "LLMS_ENCODED = {\"GPT-3\": \"GPT-3.5-turbo\", \"Llama2_70B\": \"llama-3-70B\", \"Llama3_70B\": \"Llama-3-70B\"}"
   ]
  },
  {
   "cell_type": "code",
   "execution_count": 25,
   "metadata": {},
   "outputs": [],
   "source": [
    "def round_number(num, decimal_places):\n",
    "    formatted_num = \"{:.{}f}\".format(num, decimal_places)\n",
    "    rounded_num_str = \"{:.{}f}\".format(float(formatted_num), decimal_places)\n",
    "    return rounded_num_str\n",
    "\n",
    "def add_thousand_dots(n_sample):\n",
    "    if isinstance(n_sample, str):\n",
    "        if '.' in n_sample:\n",
    "            integer_part, decimal_part = n_sample.split('.')\n",
    "            formatted_integer_part = \"{:,}\".format(int(integer_part))\n",
    "            result = f\"{formatted_integer_part}.{decimal_part}\"\n",
    "        else:\n",
    "            result = \"{:,}\".format(int(n_sample))\n",
    "    elif isinstance(n_sample, np.float64):\n",
    "        result = \"{:,}\".format(round(n_sample, 1))\n",
    "    else:\n",
    "        result = n_sample\n",
    "    \n",
    "    return result"
   ]
  },
  {
   "cell_type": "code",
   "execution_count": 26,
   "metadata": {},
   "outputs": [],
   "source": [
    "def get_test_results(task_name, metric, side, n_real_a, n_synth_a, model_a, cond_a, n_real_b, n_synth_b, model_b, cond_b):\n",
    "    json_path_only_real = f\"../07 train models/results_json/results_{model_a}_real{n_real_a}_synth{n_synth_a}_{task_name}_{cond_a}.json\"\n",
    "    json_path_with_synth = f\"../07 train models/results_json/results_{model_b}_real{n_real_b}_synth{n_synth_b}_{task_name}_{cond_b}.json\"\n",
    "\n",
    "    with open(json_path_only_real, 'r') as json_file:\n",
    "        results_only_real = json.load(json_file)\n",
    "\n",
    "    with open(json_path_with_synth, 'r') as json_file:\n",
    "        results_with_synth = json.load(json_file)\n",
    "\n",
    "    only_real_f1 = [res[metric]\n",
    "                    for res in results_only_real[\"single_split_results\"]]\n",
    "    with_synth_f1 = [res[metric]\n",
    "                     for res in results_with_synth[\"single_split_results\"]]\n",
    "\n",
    "    # Normal Distribution\n",
    "\n",
    "    differences = np.array(with_synth_f1) - np.array(only_real_f1)\n",
    "    statistic, p_value_normal = shapiro(differences)\n",
    "\n",
    "    alpha_normal = 0.05\n",
    "\n",
    "    if p_value_normal >= alpha_normal:\n",
    "        # Gepaarter t-Test (einseitig)\n",
    "        t_statistic, p_value = ttest_rel(\n",
    "            only_real_f1, with_synth_f1, alternative=side)\n",
    "\n",
    "        return [add_thousand_dots(n_real_a) + \" real\", n_real_b + \" real \" + f\"+ {add_thousand_dots(n_synth_b)} synth\", p_value_normal, \"paired t-test (one-sided)\", p_value, round_number(results_only_real[metric] * 100, 2), round_number(results_with_synth[metric] * 100, 2)]\n",
    "    else:\n",
    "        # Wilcoxon Signed-Rank Test (einseitig)\n",
    "        statistic, p_value = wilcoxon(\n",
    "            only_real_f1, with_synth_f1, alternative=side)\n",
    "        return [add_thousand_dots(n_real_a) + \" real\", n_real_b + \" real \" + f\"+ {add_thousand_dots(n_synth_b)} synth\", p_value_normal, \"Wilcoxon signed-rank test (one-sided)\", p_value, round_number(results_only_real[metric] * 100, 2), round_number(results_with_synth[metric] * 100, 2)]"
   ]
  },
  {
   "cell_type": "code",
   "execution_count": 27,
   "metadata": {},
   "outputs": [],
   "source": [
    "def holm_corr(p_values):\n",
    "    reject, corrected_p_values, _, _ = multitest.multipletests(\n",
    "        p_values, method='holm')\n",
    "    return [corrected_p_values[i] for i in range(len(p_values))]"
   ]
  },
  {
   "cell_type": "code",
   "execution_count": 28,
   "metadata": {},
   "outputs": [],
   "source": [
    "# real & real + synth & p-value & shapiro p-value & statistical test & p-value & p-value-corrected-bonferoni "
   ]
  },
  {
   "cell_type": "code",
   "execution_count": 29,
   "metadata": {},
   "outputs": [],
   "source": [
    "def round_number_p(number, n=3):\n",
    "    if number < 0.001:\n",
    "        result = \"< .001\"\n",
    "    elif number < 0.01:\n",
    "        result = \"< .01\"\n",
    "    elif number < 0.05:\n",
    "        result = f\"{number:.3f}\"\n",
    "    else:\n",
    "        result = f\"{number:.3f}\"\n",
    "\n",
    "    return result"
   ]
  },
  {
   "cell_type": "code",
   "execution_count": 30,
   "metadata": {},
   "outputs": [],
   "source": [
    "def format_itr_results(split_results, eval_metric):\n",
    "    arr = \"\"\n",
    "    # if eval_metric == \"eval_f1_macro\":\n",
    "    #     arr = \"F1 Macro Scores: \"\n",
    "    # else:\n",
    "    #     arr = \"F1 Micro Scores: \"\n",
    "\n",
    "    arr += \"[\" + round_number(split_results[0] * 100, 2)\n",
    "    for v in split_results[1:]:\n",
    "        arr += \", \" + round_number(v * 100, 2)\n",
    "    return \"\\\\textsubscript{\" + arr + \"]\" + \"}\""
   ]
  },
  {
   "cell_type": "markdown",
   "metadata": {},
   "source": [
    "#### ACSA / F1 Micro: GPT-3.5-turbo + LRS500: `500, 1000, 1,500` vs. real: `500`"
   ]
  },
  {
   "cell_type": "code",
   "execution_count": 31,
   "metadata": {},
   "outputs": [
    {
     "name": "stdout",
     "output_type": "stream",
     "text": [
      "\\multirow{3}{*}{500 real} & \\multirow{3}{*}{84.54}  & 500 real + 500 synth & 86.70 & 0.558 & paired t-test (one-sided) & < .01 & < .01 \\\\\n",
      " &  & 500 real + 1,000 synth & 86.60 & 0.952 & paired t-test (one-sided) & < .01 & < .01 \\\\\n",
      " &  & 500 real + 1,500 synth & 85.94 & 0.115 & paired t-test (one-sided) & < .01 & < .01 \\\\\n"
     ]
    }
   ],
   "source": [
    "eval_metric = \"eval_f1_micro\"\n",
    "\n",
    "results = [get_test_results(\"aspect_category_sentiment\", eval_metric, \"less\", \"500\", \"0\", \"only_real\", \"random\", \"500\", \"500\", \"GPT-3\", \"random\"),\n",
    "           get_test_results(\"aspect_category_sentiment\", eval_metric, \"less\",\n",
    "                            \"500\", \"0\", \"only_real\", \"random\", \"500\", \"1000\", \"GPT-3\", \"random\"),\n",
    "           get_test_results(\"aspect_category_sentiment\", eval_metric, \"less\", \"500\", \"0\", \"only_real\", \"random\", \"500\", \"1500\", \"GPT-3\", \"random\")]\n",
    "\n",
    "p_values = [p[4] for p in results]\n",
    "holm_corr_p_values = holm_corr(p_values)\n",
    "\n",
    "for res_idx, res in enumerate(results):\n",
    "    if res_idx == 0:\n",
    "        model_baseline_print = \"\\\\multirow{3}{*}{\" + res[0] + \"} & \\\\multirow{3}{*}{\" + res[5] + \"} \"\n",
    "    else:\n",
    "        model_baseline_print = \" & \"\n",
    "    print(model_baseline_print, \"&\", res[1], \"&\", res[6], \"&\", round_number_p(\n",
    "        res[2], 3), \"&\", res[3], \"&\", round_number_p(res[4], 3), \"&\", round_number_p(holm_corr_p_values[res_idx], 3), \"\\\\\\\\\")"
   ]
  },
  {
   "cell_type": "markdown",
   "metadata": {},
   "source": [
    "#### ACSA / F1 Macro: GPT-3.5-turbo + LRS25: `475, 975, 1,975` vs. real: `500`"
   ]
  },
  {
   "cell_type": "code",
   "execution_count": 32,
   "metadata": {},
   "outputs": [
    {
     "name": "stdout",
     "output_type": "stream",
     "text": [
      "\\multirow{3}{*}{500 real} & \\multirow{3}{*}{59.52}  & 25 real + 475 synth & 50.86 & 0.200 & paired t-test (one-sided) & 0.988 & 0.988 \\\\\n",
      " &  & 25 real + 975 synth & 62.56 & 0.178 & paired t-test (one-sided) & 0.172 & 0.344 \\\\\n",
      " &  & 25 real + 1,975 synth & 63.67 & 0.401 & paired t-test (one-sided) & 0.035 & 0.106 \\\\\n"
     ]
    }
   ],
   "source": [
    "eval_metric = \"eval_f1_macro\"\n",
    "\n",
    "results = [get_test_results(\"aspect_category_sentiment\", eval_metric, \"less\", \"500\", \"0\", \"only_real\", \"random\", \"25\", \"475\", \"GPT-3\", \"fixed\"), \n",
    "get_test_results(\"aspect_category_sentiment\", eval_metric, \"less\", \"500\", \"0\", \"only_real\", \"random\", \"25\", \"975\", \"GPT-3\", \"fixed\"), \n",
    "get_test_results(\"aspect_category_sentiment\", eval_metric, \"less\", \"500\", \"0\", \"only_real\", \"random\", \"25\", \"1975\", \"GPT-3\", \"fixed\")]\n",
    "\n",
    "p_values = [p[4] for p in results]\n",
    "holm_corr_p_values = holm_corr(p_values)\n",
    "\n",
    "for res_idx, res in enumerate(results):\n",
    "    if res_idx == 0:\n",
    "        model_baseline_print = \"\\\\multirow{3}{*}{\" + res[0] + \"} & \\\\multirow{3}{*}{\" + res[5] + \"} \"\n",
    "    else:\n",
    "        model_baseline_print = \" & \"\n",
    "    print(model_baseline_print, \"&\", res[1], \"&\", res[6], \"&\", round_number_p(\n",
    "        res[2], 3), \"&\", res[3], \"&\", round_number_p(res[4], 3), \"&\", round_number_p(holm_corr_p_values[res_idx], 3), \"\\\\\\\\\")"
   ]
  },
  {
   "cell_type": "markdown",
   "metadata": {},
   "source": [
    "#### ACSA / F1 Macro: llama-3-70B + LRS500: `500, 1000, 1,500` vs. real: `500`"
   ]
  },
  {
   "cell_type": "code",
   "execution_count": 33,
   "metadata": {},
   "outputs": [
    {
     "name": "stdout",
     "output_type": "stream",
     "text": [
      "\\multirow{3}{*}{500 real} & \\multirow{3}{*}{59.52}  & 500 real + 500 synth & 70.66 & 0.884 & paired t-test (one-sided) & < .001 & < .001 \\\\\n",
      " &  & 500 real + 1,000 synth & 67.96 & 0.011 & Wilcoxon signed-rank test (one-sided) & 0.031 & 0.031 \\\\\n",
      " &  & 500 real + 1,500 synth & 66.52 & 0.076 & paired t-test (one-sided) & < .01 & < .01 \\\\\n"
     ]
    }
   ],
   "source": [
    "eval_metric = \"eval_f1_macro\"\n",
    "results = [get_test_results(\"aspect_category_sentiment\", eval_metric, \"less\", \"500\", \"0\", \"only_real\", \"random\", \"500\", \"500\", \"Llama3_70B\", \"random\"),\n",
    "           get_test_results(\"aspect_category_sentiment\", eval_metric, \"less\", \"500\",\n",
    "                            \"0\", \"only_real\", \"random\", \"500\", \"1000\", \"Llama3_70B\", \"random\"),\n",
    "           get_test_results(\"aspect_category_sentiment\", eval_metric, \"less\", \"500\", \"0\", \"only_real\", \"random\", \"500\", \"1500\", \"Llama3_70B\", \"random\")]\n",
    "\n",
    "p_values = [p[4] for p in results]\n",
    "holm_corr_p_values = holm_corr(p_values)\n",
    "\n",
    "for res_idx, res in enumerate(results):\n",
    "    if res_idx == 0:\n",
    "        model_baseline_print = \"\\\\multirow{3}{*}{\" + res[0] + \"} & \\\\multirow{3}{*}{\" + res[5] + \"} \"\n",
    "    else:\n",
    "        model_baseline_print = \" & \"\n",
    "    print(model_baseline_print, \"&\", res[1], \"&\", res[6], \"&\", round_number_p(\n",
    "        res[2], 3), \"&\", res[3], \"&\", round_number_p(res[4], 3), \"&\", round_number_p(holm_corr_p_values[res_idx], 3), \"\\\\\\\\\")"
   ]
  },
  {
   "cell_type": "markdown",
   "metadata": {},
   "source": [
    "#### ACSA / F1 Macro: GPT-3.5-turbo + LRS500: `500, 1000, 1,500` vs. real: `500`"
   ]
  },
  {
   "cell_type": "code",
   "execution_count": 34,
   "metadata": {},
   "outputs": [
    {
     "name": "stdout",
     "output_type": "stream",
     "text": [
      "\\multirow{3}{*}{500 real} & \\multirow{3}{*}{59.52}  & 500 real + 500 synth & 79.00 & 0.734 & paired t-test (one-sided) & < .01 & < .01 \\\\\n",
      " &  & 500 real + 1,000 synth & 78.42 & 0.488 & paired t-test (one-sided) & < .001 & < .001 \\\\\n",
      " &  & 500 real + 1,500 synth & 78.47 & 0.171 & paired t-test (one-sided) & < .001 & < .001 \\\\\n"
     ]
    }
   ],
   "source": [
    "eval_metric = \"eval_f1_macro\"\n",
    "results = [get_test_results(\"aspect_category_sentiment\", eval_metric, \"less\", \"500\", \"0\", \"only_real\", \"random\", \"500\", \"500\", \"GPT-3\", \"random\"), \n",
    "get_test_results(\"aspect_category_sentiment\",eval_metric, \"less\", \"500\", \"0\", \"only_real\", \"random\", \"500\", \"1000\", \"GPT-3\", \"random\"), \n",
    "get_test_results(\"aspect_category_sentiment\", eval_metric, \"less\", \"500\", \"0\", \"only_real\", \"random\", \"500\", \"1500\", \"GPT-3\", \"random\")]\n",
    "\n",
    "p_values = [p[4] for p in results]\n",
    "holm_corr_p_values = holm_corr(p_values)\n",
    "\n",
    "for res_idx, res in enumerate(results):\n",
    "    if res_idx == 0:\n",
    "        model_baseline_print = \"\\\\multirow{3}{*}{\" + res[0] + \"} & \\\\multirow{3}{*}{\" + res[5] + \"} \"\n",
    "    else:\n",
    "        model_baseline_print = \" & \"\n",
    "    print(model_baseline_print, \"&\", res[1], \"&\", res[6], \"&\", round_number_p(\n",
    "        res[2], 3), \"&\", res[3], \"&\", round_number_p(res[4], 3), \"&\", round_number_p(holm_corr_p_values[res_idx], 3), \"\\\\\\\\\")"
   ]
  },
  {
   "cell_type": "markdown",
   "metadata": {},
   "source": [
    "#### ACSA / F1 Macro: GPT-3.5-turbo + LRS500: `500, 1000, 1,500` vs. real: `1000`"
   ]
  },
  {
   "cell_type": "code",
   "execution_count": 35,
   "metadata": {},
   "outputs": [
    {
     "name": "stdout",
     "output_type": "stream",
     "text": [
      "\\multirow{3}{*}{1,000 real} & \\multirow{3}{*}{74.64}  & 500 real + 500 synth & 79.00 & 0.634 & paired t-test (one-sided) & 0.117 & 0.204 \\\\\n",
      " &  & 500 real + 1,000 synth & 78.42 & 0.686 & paired t-test (one-sided) & 0.102 & 0.204 \\\\\n",
      " &  & 500 real + 1,500 synth & 78.47 & 0.775 & paired t-test (one-sided) & 0.066 & 0.198 \\\\\n"
     ]
    }
   ],
   "source": [
    "eval_metric = \"eval_f1_macro\"\n",
    "results = [get_test_results(\"aspect_category_sentiment\", eval_metric, \"less\", \"1000\", \"0\", \"only_real\", \"random\", \"500\", \"500\", \"GPT-3\", \"random\"), \n",
    "get_test_results(\"aspect_category_sentiment\", eval_metric, \"less\", \"1000\", \"0\", \"only_real\", \"random\", \"500\", \"1000\", \"GPT-3\", \"random\"), \n",
    "get_test_results(\"aspect_category_sentiment\", eval_metric, \"less\", \"1000\", \"0\", \"only_real\", \"random\", \"500\", \"1500\", \"GPT-3\", \"random\")]\n",
    "\n",
    "p_values = [p[4] for p in results]\n",
    "holm_corr_p_values = holm_corr(p_values)\n",
    "\n",
    "for res_idx, res in enumerate(results):\n",
    "    if res_idx == 0:\n",
    "        model_baseline_print = \"\\\\multirow{3}{*}{\" + res[0] + \"} & \\\\multirow{3}{*}{\" + res[5] + \"} \"\n",
    "    else:\n",
    "        model_baseline_print = \" & \"\n",
    "    print(model_baseline_print, \"&\", res[1], \"&\", res[6], \"&\", round_number_p(\n",
    "        res[2], 3), \"&\", res[3], \"&\", round_number_p(res[4], 3), \"&\", round_number_p(holm_corr_p_values[res_idx], 3), \"\\\\\\\\\")"
   ]
  },
  {
   "cell_type": "markdown",
   "metadata": {},
   "source": [
    "#### ACSA / F1 Macro: GPT-3.5-turbo + LRS500: `500, 1000, 1,500` vs. real: `2000`"
   ]
  },
  {
   "cell_type": "code",
   "execution_count": 36,
   "metadata": {},
   "outputs": [
    {
     "name": "stdout",
     "output_type": "stream",
     "text": [
      "\\multirow{3}{*}{2,000 real} & \\multirow{3}{*}{78.86}  & 500 real + 500 synth & 79.00 & 0.870 & paired t-test (one-sided) & 0.480 & 1.000 \\\\\n",
      " &  & 500 real + 1,000 synth & 78.42 & 0.620 & paired t-test (one-sided) & 0.584 & 1.000 \\\\\n",
      " &  & 500 real + 1,500 synth & 78.47 & 0.669 & paired t-test (one-sided) & 0.592 & 1.000 \\\\\n"
     ]
    }
   ],
   "source": [
    "eval_metric = \"eval_f1_macro\"\n",
    "results = [get_test_results(\"aspect_category_sentiment\", eval_metric, \"less\", \"2000\", \"0\", \"only_real\", \"random\", \"500\", \"500\", \"GPT-3\", \"random\"),\n",
    "           get_test_results(\"aspect_category_sentiment\", eval_metric, \"less\",\n",
    "                            \"2000\", \"0\", \"only_real\", \"random\", \"500\", \"1000\", \"GPT-3\", \"random\"),\n",
    "           get_test_results(\"aspect_category_sentiment\", eval_metric, \"less\", \"2000\", \"0\", \"only_real\", \"random\", \"500\", \"1500\", \"GPT-3\", \"random\")]\n",
    "\n",
    "p_values = [p[4] for p in results]\n",
    "holm_corr_p_values = holm_corr(p_values)\n",
    "\n",
    "for res_idx, res in enumerate(results):\n",
    "    if res_idx == 0:\n",
    "        model_baseline_print = \"\\\\multirow{3}{*}{\" + res[0] + \"} & \\\\multirow{3}{*}{\" + res[5] + \"} \"\n",
    "    else:\n",
    "        model_baseline_print = \" & \"\n",
    "    print(model_baseline_print, \"&\", res[1], \"&\", res[6], \"&\", round_number_p(\n",
    "        res[2], 3), \"&\", res[3], \"&\", round_number_p(res[4], 3), \"&\", round_number_p(holm_corr_p_values[res_idx], 3), \"\\\\\\\\\")"
   ]
  },
  {
   "cell_type": "markdown",
   "metadata": {},
   "source": [
    "#### E2E-ABSA / F1 Macro: GPT-3.5-turbo + LRS500: `500, 1000, 1,500` vs. real: `2000`"
   ]
  },
  {
   "cell_type": "code",
   "execution_count": 37,
   "metadata": {},
   "outputs": [
    {
     "name": "stdout",
     "output_type": "stream",
     "text": [
      "\\multirow{3}{*}{500 real} & \\multirow{3}{*}{70.07}  & 500 real + 500 synth & 72.27 & 0.479 & paired t-test (one-sided) & 0.020 & 0.059 \\\\\n",
      " &  & 500 real + 1,000 synth & 72.55 & 0.438 & paired t-test (one-sided) & 0.175 & 0.350 \\\\\n",
      " &  & 500 real + 1,500 synth & 71.67 & 0.253 & paired t-test (one-sided) & 0.261 & 0.350 \\\\\n"
     ]
    }
   ],
   "source": [
    "eval_metric = \"eval_f1_macro\"\n",
    "results = [get_test_results(\"end_2_end_absa\", eval_metric, \"less\", \"500\", \"0\", \"only_real\", \"random\", \"500\", \"500\", \"GPT-3\", \"random\"), \n",
    "get_test_results(\"end_2_end_absa\", eval_metric, \"less\", \"500\", \"0\", \"only_real\", \"random\", \"500\", \"1000\", \"GPT-3\", \"random\"), \n",
    "get_test_results(\"end_2_end_absa\", eval_metric, \"less\", \"500\", \"0\", \"only_real\", \"random\", \"500\", \"1500\", \"GPT-3\", \"random\")]\n",
    "\n",
    "p_values = [p[4] for p in results]\n",
    "holm_corr_p_values = holm_corr(p_values)\n",
    "\n",
    "for res_idx, res in enumerate(results):\n",
    "    if res_idx == 0:\n",
    "        model_baseline_print = \"\\\\multirow{3}{*}{\" + res[0] + \"} & \\\\multirow{3}{*}{\" + res[5] + \"} \"\n",
    "    else:\n",
    "        model_baseline_print = \" & \"\n",
    "    print(model_baseline_print, \"&\", res[1], \"&\", res[6], \"&\", round_number_p(\n",
    "        res[2], 3), \"&\", res[3], \"&\", round_number_p(res[4], 3), \"&\", round_number_p(holm_corr_p_values[res_idx], 3), \"\\\\\\\\\")"
   ]
  }
 ],
 "metadata": {
  "kernelspec": {
   "display_name": "tensorflow_m1",
   "language": "python",
   "name": "python3"
  },
  "language_info": {
   "codemirror_mode": {
    "name": "ipython",
    "version": 3
   },
   "file_extension": ".py",
   "mimetype": "text/x-python",
   "name": "python",
   "nbconvert_exporter": "python",
   "pygments_lexer": "ipython3",
   "version": "3.11.3"
  }
 },
 "nbformat": 4,
 "nbformat_minor": 2
}
