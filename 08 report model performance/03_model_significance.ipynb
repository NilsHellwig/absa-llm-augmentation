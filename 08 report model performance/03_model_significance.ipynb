{
 "cells": [
  {
   "cell_type": "markdown",
   "metadata": {},
   "source": [
    "# Notebook: Compare Model Performance"
   ]
  },
  {
   "cell_type": "code",
   "execution_count": 396,
   "metadata": {},
   "outputs": [],
   "source": [
    "from scipy.stats import ttest_rel\n",
    "import matplotlib.pyplot as plt\n",
    "from scipy.stats import shapiro\n",
    "from scipy.stats import levene\n",
    "import statsmodels.api as sm\n",
    "from scipy import stats\n",
    "import numpy as np\n",
    "import json\n",
    "from scipy.stats import wilcoxon"
   ]
  },
  {
   "cell_type": "code",
   "execution_count": 397,
   "metadata": {},
   "outputs": [],
   "source": [
    "task_name = \"aspect_category_sentiment\"\n",
    "metric = \"eval_f1_macro\"\n",
    "side = \"greater\"\n",
    "\n",
    "n_real_a = \"25\"\n",
    "n_synth_a = \"1975\"\n",
    "model_a = \"GPT-3\" # only_real\n",
    "cond_a = \"fixed\" if n_real_a == \"25\" else \"random\"\n",
    "\n",
    "n_real_b = \"500\"\n",
    "n_synth_b = \"0\"\n",
    "model_b = \"only_real\"\n",
    "cond_b = \"fixed\" if n_real_b == \"25\" else \"random\""
   ]
  },
  {
   "cell_type": "code",
   "execution_count": 398,
   "metadata": {},
   "outputs": [],
   "source": [
    "json_path_only_real = f\"../07 train models/results_json/results_{model_a}_real{n_real_a}_synth{n_synth_a}_{task_name}_{cond_a}.json\"\n",
    "json_path_with_synth = f\"../07 train models/results_json/results_{model_b}_real{n_real_b}_synth{n_synth_b}_{task_name}_{cond_b}.json\"\n",
    "\n",
    "with open(json_path_only_real, 'r') as json_file:\n",
    "     results_only_real = json.load(json_file)\n",
    "\n",
    "with open(json_path_with_synth, 'r') as json_file:\n",
    "     results_with_synth = json.load(json_file)"
   ]
  },
  {
   "cell_type": "code",
   "execution_count": 399,
   "metadata": {},
   "outputs": [],
   "source": [
    "only_real_f1 = [res[metric]  for res in results_only_real[\"single_split_results\"]]\n",
    "with_synth_f1 = [res[metric]  for res in results_with_synth[\"single_split_results\"]]"
   ]
  },
  {
   "cell_type": "code",
   "execution_count": 400,
   "metadata": {},
   "outputs": [
    {
     "data": {
      "text/plain": [
       "[0.6071188611848096,\n",
       " 0.6762645028785287,\n",
       " 0.6136697735334279,\n",
       " 0.6591178775447588,\n",
       " 0.5058961868977118,\n",
       " 0.6367809048510671]"
      ]
     },
     "execution_count": 400,
     "metadata": {},
     "output_type": "execute_result"
    }
   ],
   "source": [
    "only_real_f1"
   ]
  },
  {
   "cell_type": "code",
   "execution_count": 401,
   "metadata": {},
   "outputs": [
    {
     "data": {
      "text/plain": [
       "[0.5702025094792814,\n",
       " 0.5982523303619833,\n",
       " 0.5952224717259338,\n",
       " 0.5758809968764547,\n",
       " 0.5355700160048842,\n",
       " 0.5726871510551195]"
      ]
     },
     "execution_count": 401,
     "metadata": {},
     "output_type": "execute_result"
    }
   ],
   "source": [
    "with_synth_f1"
   ]
  },
  {
   "cell_type": "markdown",
   "metadata": {},
   "source": [
    "## Normalverteilung"
   ]
  },
  {
   "cell_type": "code",
   "execution_count": 402,
   "metadata": {},
   "outputs": [
    {
     "name": "stdout",
     "output_type": "stream",
     "text": [
      "Shapiro-Wilk-Test: Statistik = 0.9140544533729553, p = 0.46360212564468384\n",
      "Die Differenzen könnten normalverteilt sein (nicht signifikant)\n"
     ]
    }
   ],
   "source": [
    "differences = np.array(with_synth_f1) - np.array(only_real_f1)\n",
    "statistic, p_value_normal = shapiro(differences)\n",
    "\n",
    "print(f\"Shapiro-Wilk-Test: Statistik = {statistic}, p = {p_value_normal}\")\n",
    "\n",
    "alpha_normal = 0.05\n",
    "if p_value_normal >= alpha_normal:\n",
    "    print(\"Die Differenzen könnten normalverteilt sein (nicht signifikant)\")\n",
    "else:\n",
    "    print(\"Die Differenzen sind möglicherweise nicht normalverteilt (signifikant)\")\n"
   ]
  },
  {
   "cell_type": "code",
   "execution_count": 403,
   "metadata": {},
   "outputs": [
    {
     "data": {
      "text/plain": [
       "array([-0.03691635, -0.07801217, -0.0184473 , -0.08323688,  0.02967383,\n",
       "       -0.06409375])"
      ]
     },
     "execution_count": 403,
     "metadata": {},
     "output_type": "execute_result"
    }
   ],
   "source": [
    "differences"
   ]
  },
  {
   "cell_type": "markdown",
   "metadata": {},
   "source": [
    "## Significance Test"
   ]
  },
  {
   "cell_type": "code",
   "execution_count": 404,
   "metadata": {},
   "outputs": [
    {
     "name": "stdout",
     "output_type": "stream",
     "text": [
      "Gepaarter t-Test (einseitig): t = 2.388766859629656, p = 0.031241494687033116\n"
     ]
    }
   ],
   "source": [
    "from scipy.stats import ttest_rel, wilcoxon\n",
    "\n",
    "if p_value_normal >= alpha_normal:\n",
    "    # Gepaarter t-Test (einseitig)\n",
    "    t_statistic, p_value = ttest_rel(only_real_f1, with_synth_f1, alternative=side)\n",
    "    # alternative kann 'greater' oder 'less' sein, je nachdem, welche Seite Sie testen möchten\n",
    "\n",
    "    # Ausgabe der Ergebnisse\n",
    "    print(f\"Gepaarter t-Test (einseitig): t = {t_statistic}, p = {p_value}\")\n",
    "else:\n",
    "    # Wilcoxon Signed-Rank Test (einseitig)\n",
    "    statistic, p_value = wilcoxon(only_real_f1, with_synth_f1, alternative=side)\n",
    "    # alternative kann 'greater' oder 'less' sein, je nachdem, welche Seite Sie testen möchten\n",
    "\n",
    "    # Ausgabe der Ergebnisse\n",
    "    print(f\"Wilcoxon Signed-Rank Test (einseitig): statistic = {statistic}, p = {p_value}\")\n"
   ]
  },
  {
   "cell_type": "code",
   "execution_count": 405,
   "metadata": {},
   "outputs": [
    {
     "data": {
      "text/plain": [
       "0.016666666666666666"
      ]
     },
     "execution_count": 405,
     "metadata": {},
     "output_type": "execute_result"
    }
   ],
   "source": [
    "0.05 / 3"
   ]
  },
  {
   "cell_type": "markdown",
   "metadata": {},
   "source": [
    "#### ACSA - F1 Macro Real"
   ]
  },
  {
   "cell_type": "code",
   "execution_count": 406,
   "metadata": {},
   "outputs": [
    {
     "name": "stdout",
     "output_type": "stream",
     "text": [
      "Ursprünglicher p-Wert: 0.015625, Korrigierter p-Wert: 0.062500, Signifikant: Nein\n",
      "Ursprünglicher p-Wert: 0.003521, Korrigierter p-Wert: 0.017603, Signifikant: Ja\n",
      "Ursprünglicher p-Wert: 0.031250, Korrigierter p-Wert: 0.093724, Signifikant: Nein\n",
      "Ursprünglicher p-Wert: 0.159152, Korrigierter p-Wert: 0.159152, Signifikant: Nein\n",
      "Ursprünglicher p-Wert: 0.031241, Korrigierter p-Wert: 0.093724, Signifikant: Nein\n",
      "Ursprünglicher p-Wert: 0.001827, Korrigierter p-Wert: 0.010962, Signifikant: Ja\n",
      "Ursprünglicher p-Wert: 0.000444, Korrigierter p-Wert: 0.003106, Signifikant: Ja\n",
      "Ursprünglicher p-Wert: 0.000151, Korrigierter p-Wert: 0.001209, Signifikant: Ja\n"
     ]
    }
   ],
   "source": [
    "from statsmodels.stats import multitest\n",
    "\n",
    "# Liste der p-Werte\n",
    "p_values = [0.015625, 0.0035205120720581454, 0.03125, 0.15915229571594033,\n",
    "            0.031241494687033116, 0.0018269932163866459, 0.0004437415162184869, 0.00015110222444678515]\n",
    "\n",
    "# Bonferroni-Holm-Korrektur\n",
    "reject, corrected_p_values, _, _ = multitest.multipletests(\n",
    "    p_values, method='holm')\n",
    "\n",
    "# Ausgabe der p-Werte und Signifikanz\n",
    "for i in range(len(p_values)):\n",
    "    print(\n",
    "        f'Ursprünglicher p-Wert: {p_values[i]:.6f}, Korrigierter p-Wert: {corrected_p_values[i]:.6f}, Signifikant: {\"Ja\" if reject[i] else \"Nein\"}')"
   ]
  },
  {
   "cell_type": "markdown",
   "metadata": {},
   "source": [
    "### ACSA - F1 Macro vs 1000 real"
   ]
  },
  {
   "cell_type": "code",
   "execution_count": 407,
   "metadata": {},
   "outputs": [
    {
     "name": "stdout",
     "output_type": "stream",
     "text": [
      "Ursprünglicher p-Wert: 0.106892, Korrigierter p-Wert: 0.286169, Signifikant: Nein\n",
      "Ursprünglicher p-Wert: 0.095390, Korrigierter p-Wert: 0.286169, Signifikant: Nein\n",
      "Ursprünglicher p-Wert: 0.570384, Korrigierter p-Wert: 0.570384, Signifikant: Nein\n"
     ]
    }
   ],
   "source": [
    "from statsmodels.stats import multitest\n",
    "\n",
    "# Liste der p-Werte\n",
    "p_values = [0.10689158577809782, 0.09538977852456092, 0.5703838309041978]\n",
    "\n",
    "# Bonferroni-Holm-Korrektur\n",
    "reject, corrected_p_values, _, _ = multitest.multipletests(\n",
    "    p_values, method='holm')\n",
    "\n",
    "# Ausgabe der p-Werte und Signifikanz\n",
    "for i in range(len(p_values)):\n",
    "    print(\n",
    "        f'Ursprünglicher p-Wert: {p_values[i]:.6f}, Korrigierter p-Wert: {corrected_p_values[i]:.6f}, Signifikant: {\"Ja\" if reject[i] else \"Nein\"}')"
   ]
  },
  {
   "cell_type": "markdown",
   "metadata": {},
   "source": [
    "### E2E ABSA - F1 Macro"
   ]
  },
  {
   "cell_type": "code",
   "execution_count": 408,
   "metadata": {},
   "outputs": [
    {
     "name": "stdout",
     "output_type": "stream",
     "text": [
      "Ursprünglicher p-Wert: 0.019664, Korrigierter p-Wert: 0.058992, Signifikant: Nein\n",
      "Ursprünglicher p-Wert: 0.175192, Korrigierter p-Wert: 0.350384, Signifikant: Nein\n",
      "Ursprünglicher p-Wert: 0.260584, Korrigierter p-Wert: 0.350384, Signifikant: Nein\n"
     ]
    }
   ],
   "source": [
    "from statsmodels.stats import multitest\n",
    "\n",
    "# Liste der p-Werte\n",
    "p_values = [0.01966409807826196, 0.17519189198839413, 0.2605841253364344]\n",
    "\n",
    "# Bonferroni-Holm-Korrektur\n",
    "reject, corrected_p_values, _, _ = multitest.multipletests(\n",
    "    p_values, method='holm')\n",
    "\n",
    "# Ausgabe der p-Werte und Signifikanz\n",
    "for i in range(len(p_values)):\n",
    "    print(\n",
    "        f'Ursprünglicher p-Wert: {p_values[i]:.6f}, Korrigierter p-Wert: {corrected_p_values[i]:.6f}, Signifikant: {\"Ja\" if reject[i] else \"Nein\"}')"
   ]
  },
  {
   "cell_type": "markdown",
   "metadata": {},
   "source": [
    "### ACSA F1 Micro"
   ]
  },
  {
   "cell_type": "code",
   "execution_count": 409,
   "metadata": {},
   "outputs": [
    {
     "name": "stdout",
     "output_type": "stream",
     "text": [
      "Ursprünglicher p-Wert: 0.001668, Korrigierter p-Wert: 0.003336, Signifikant: Ja\n",
      "Ursprünglicher p-Wert: 0.001058, Korrigierter p-Wert: 0.003174, Signifikant: Ja\n",
      "Ursprünglicher p-Wert: 0.006604, Korrigierter p-Wert: 0.006604, Signifikant: Ja\n"
     ]
    }
   ],
   "source": [
    "from statsmodels.stats import multitest\n",
    "\n",
    "# Liste der p-Werte\n",
    "p_values = [0.0016680176410654754, 0.0010580501340789802, 0.0066044694035430635]\n",
    "\n",
    "# Bonferroni-Holm-Korrektur\n",
    "reject, corrected_p_values, _, _ = multitest.multipletests(\n",
    "    p_values, method='holm')\n",
    "\n",
    "# Ausgabe der p-Werte und Signifikanz\n",
    "for i in range(len(p_values)):\n",
    "    print(\n",
    "        f'Ursprünglicher p-Wert: {p_values[i]:.6f}, Korrigierter p-Wert: {corrected_p_values[i]:.6f}, Signifikant: {\"Ja\" if reject[i] else \"Nein\"}')"
   ]
  },
  {
   "cell_type": "code",
   "execution_count": null,
   "metadata": {},
   "outputs": [],
   "source": []
  }
 ],
 "metadata": {
  "kernelspec": {
   "display_name": "tensorflow_m1",
   "language": "python",
   "name": "python3"
  },
  "language_info": {
   "codemirror_mode": {
    "name": "ipython",
    "version": 3
   },
   "file_extension": ".py",
   "mimetype": "text/x-python",
   "name": "python",
   "nbconvert_exporter": "python",
   "pygments_lexer": "ipython3",
   "version": "3.11.3"
  }
 },
 "nbformat": 4,
 "nbformat_minor": 2
}
