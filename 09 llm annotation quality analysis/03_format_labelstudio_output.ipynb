{
 "cells": [
  {
   "cell_type": "markdown",
   "metadata": {},
   "source": [
    "# Notebook: Format Label Studio Output of Annotated Synthetic Examples"
   ]
  },
  {
   "cell_type": "markdown",
   "metadata": {},
   "source": [
    "## Packages"
   ]
  },
  {
   "cell_type": "code",
   "execution_count": 111,
   "metadata": {},
   "outputs": [],
   "source": [
    "import json\n",
    "import sys\n",
    "import os\n",
    "sys.path.append(os.path.abspath('../02 dataset split/'))\n",
    "from format_labelstudio_json import format_json"
   ]
  },
  {
   "cell_type": "markdown",
   "metadata": {},
   "source": [
    "## Code"
   ]
  },
  {
   "cell_type": "markdown",
   "metadata": {},
   "source": [
    "### Load Examples"
   ]
  },
  {
   "cell_type": "code",
   "execution_count": 112,
   "metadata": {},
   "outputs": [],
   "source": [
    "with open(f\"annotation_datasets/synth_annotation_labelstudio_output/annotation_Llama70B_random_800.json\", 'r') as json_file:\n",
    "    synthetic_data_llama_random_600 = format_json(json.load(json_file))    "
   ]
  },
  {
   "cell_type": "code",
   "execution_count": 113,
   "metadata": {},
   "outputs": [],
   "source": [
    "synthetic_data_llama_random_600 = synthetic_data_llama_random_600[0:120] + synthetic_data_llama_random_600[160:280] + \\\n",
    "    synthetic_data_llama_random_600[320:440] + \\\n",
    "    synthetic_data_llama_random_600[480:600] + synthetic_data_llama_random_600[640:760]"
   ]
  },
  {
   "cell_type": "code",
   "execution_count": 114,
   "metadata": {},
   "outputs": [],
   "source": [
    "with open(f\"annotation_datasets/synth_annotation_labelstudio_output/annotation_Llama70B_fixed_600.json\", 'r') as json_file:\n",
    "    synthetic_data_llama_fixed_600 = format_json(json.load(json_file))     "
   ]
  },
  {
   "cell_type": "code",
   "execution_count": 115,
   "metadata": {},
   "outputs": [],
   "source": [
    "with open(f\"annotation_datasets/synth_annotation_labelstudio_output/annotation_GPT-3_random_600.json\", 'r') as json_file:\n",
    "    synthetic_data_GPT_3_random_600 = format_json(json.load(json_file))     "
   ]
  },
  {
   "cell_type": "code",
   "execution_count": 116,
   "metadata": {},
   "outputs": [],
   "source": [
    "with open(f\"annotation_datasets/synth_annotation_labelstudio_output/annotation_GPT-3_fixed_600.json\", 'r') as json_file:\n",
    "    synthetic_data_GPT_3_fixed_600 = format_json(json.load(json_file))     "
   ]
  },
  {
   "cell_type": "code",
   "execution_count": 117,
   "metadata": {},
   "outputs": [
    {
     "data": {
      "text/plain": [
       "2400"
      ]
     },
     "execution_count": 117,
     "metadata": {},
     "output_type": "execute_result"
    }
   ],
   "source": [
    "annotated_dataset = synthetic_data_llama_random_600 + synthetic_data_llama_fixed_600 + \\\n",
    "    synthetic_data_GPT_3_random_600 + synthetic_data_GPT_3_fixed_600\n",
    "\n",
    "len(annotated_dataset)"
   ]
  },
  {
   "cell_type": "code",
   "execution_count": 118,
   "metadata": {},
   "outputs": [
    {
     "data": {
      "text/plain": [
       "{'tags': [{'end': 0,\n",
       "   'start': 0,\n",
       "   'tag_with_polarity': 'GENERAL-IMPRESSION-POSITIVE',\n",
       "   'tag_with_polarity_and_type': 'GENERAL-IMPRESSION-POSITIVE-no-phrase-implicit',\n",
       "   'text': 'NULL',\n",
       "   'type': 'label-implicit',\n",
       "   'label': 'GENERAL-IMPRESSION',\n",
       "   'polarity': 'POSITIVE'}],\n",
       " 'text': 'Wir waren sehr zufrieden.',\n",
       " 'two_or_more_sentences': False,\n",
       " 'aspect_available_without_judgement': False,\n",
       " 'id': 'a49a6f01-1ecc-4da0-b76b-f283f518fc60',\n",
       " 'model': 'Llama70B',\n",
       " 'split': 0,\n",
       " 'few_shot_condtion': 'random'}"
      ]
     },
     "execution_count": 118,
     "metadata": {},
     "output_type": "execute_result"
    }
   ],
   "source": [
    "annotated_dataset[0]"
   ]
  },
  {
   "cell_type": "markdown",
   "metadata": {},
   "source": [
    "### Exclude / Count Examples without annotated Aspects"
   ]
  },
  {
   "cell_type": "code",
   "execution_count": 119,
   "metadata": {},
   "outputs": [
    {
     "name": "stdout",
     "output_type": "stream",
     "text": [
      "Llama70B random 41 von 600\n",
      "Llama70B fixed 38 von 600\n",
      "GPT-3 random 0 von 600\n",
      "GPT-3 fixed 1 von 600\n"
     ]
    }
   ],
   "source": [
    "for llm in [\"Llama70B\", \"GPT-3\"]:\n",
    "    for fs in [\"random\", \"fixed\"]:\n",
    "        samples = [entry for entry in annotated_dataset if not entry['tags']\n",
    "                   and entry[\"model\"] == llm and entry[\"few_shot_condtion\"] == fs]\n",
    "\n",
    "        entries_with_empty_tags = [entry for entry in samples if not entry['tags']]\n",
    "        print(llm, fs, len(entries_with_empty_tags), \"von\", 600)"
   ]
  },
  {
   "cell_type": "code",
   "execution_count": 120,
   "metadata": {},
   "outputs": [
    {
     "data": {
      "text/plain": [
       "2320"
      ]
     },
     "execution_count": 120,
     "metadata": {},
     "output_type": "execute_result"
    }
   ],
   "source": [
    "annotated_dataset = [entry for entry in annotated_dataset if entry['tags']]\n",
    "len(annotated_dataset)"
   ]
  },
  {
   "cell_type": "markdown",
   "metadata": {},
   "source": [
    "### Remove Samples with Conflict"
   ]
  },
  {
   "cell_type": "code",
   "execution_count": 121,
   "metadata": {},
   "outputs": [
    {
     "name": "stdout",
     "output_type": "stream",
     "text": [
      "Llama70B random 11 von 600\n",
      "Llama70B fixed 8 von 600\n",
      "GPT-3 random 4 von 600\n",
      "GPT-3 fixed 4 von 600\n"
     ]
    }
   ],
   "source": [
    "for llm in [\"Llama70B\", \"GPT-3\"]:\n",
    "    for fs in [\"random\", \"fixed\"]:\n",
    "        samples = [entry for entry in annotated_dataset if any(tag.get('polarity') == 'CONFLICT' for tag in entry['tags']) and entry[\"model\"] == llm and entry[\"few_shot_condtion\"] == fs]\n",
    "\n",
    "        print(llm, fs, len(samples), \"von\", 600)"
   ]
  },
  {
   "cell_type": "code",
   "execution_count": 122,
   "metadata": {},
   "outputs": [
    {
     "data": {
      "text/plain": [
       "2293"
      ]
     },
     "execution_count": 122,
     "metadata": {},
     "output_type": "execute_result"
    }
   ],
   "source": [
    "annotated_dataset = [entry for entry in annotated_dataset if not any(tag.get('polarity') == 'CONFLICT' for tag in entry['tags'])]\n",
    "len(annotated_dataset)"
   ]
  },
  {
   "cell_type": "code",
   "execution_count": 123,
   "metadata": {},
   "outputs": [
    {
     "name": "stdout",
     "output_type": "stream",
     "text": [
      "Llama70B random 548 of 600\n",
      "Llama70B fixed 554 of 600\n",
      "GPT-3 random 596 of 600\n",
      "GPT-3 fixed 595 of 600\n"
     ]
    }
   ],
   "source": [
    "for llm in [\"Llama70B\", \"GPT-3\"]:\n",
    "    for fs in [\"random\", \"fixed\"]:\n",
    "        samples = [entry for entry in annotated_dataset if entry[\"model\"] == llm and entry[\"few_shot_condtion\"] == fs]\n",
    "        print(llm, fs, len(samples), \"of\", 600)\n",
    "\n"
   ]
  },
  {
   "cell_type": "markdown",
   "metadata": {},
   "source": [
    "### Save Examples"
   ]
  },
  {
   "cell_type": "code",
   "execution_count": 124,
   "metadata": {},
   "outputs": [],
   "source": [
    "with open(f\"annotation_datasets/annotated_synth_dataset.json\", 'w', encoding='utf-8') as file:\n",
    "    json.dump(annotated_dataset, file, ensure_ascii=False)"
   ]
  }
 ],
 "metadata": {
  "kernelspec": {
   "display_name": "tensorflow_m1",
   "language": "python",
   "name": "python3"
  },
  "language_info": {
   "codemirror_mode": {
    "name": "ipython",
    "version": 3
   },
   "file_extension": ".py",
   "mimetype": "text/x-python",
   "name": "python",
   "nbconvert_exporter": "python",
   "pygments_lexer": "ipython3",
   "version": "3.11.3"
  }
 },
 "nbformat": 4,
 "nbformat_minor": 2
}
