{
 "cells": [
  {
   "cell_type": "markdown",
   "metadata": {},
   "source": [
    "# Notebook: Format Label Studio Output of Annotated Synthetic Examples"
   ]
  },
  {
   "cell_type": "markdown",
   "metadata": {},
   "source": [
    "## Packages"
   ]
  },
  {
   "cell_type": "code",
   "execution_count": 94,
   "metadata": {},
   "outputs": [],
   "source": [
    "import json\n",
    "import sys\n",
    "import os\n",
    "sys.path.append(os.path.abspath('../02 dataset split/'))\n",
    "from format_labelstudio_json import format_json\n",
    "import random\n",
    "import pandas as pd\n",
    "import numpy as np"
   ]
  },
  {
   "cell_type": "code",
   "execution_count": 95,
   "metadata": {},
   "outputs": [],
   "source": [
    "random.seed(43)"
   ]
  },
  {
   "cell_type": "markdown",
   "metadata": {},
   "source": [
    "## Code"
   ]
  },
  {
   "cell_type": "markdown",
   "metadata": {},
   "source": [
    "### Load Examples"
   ]
  },
  {
   "cell_type": "code",
   "execution_count": 96,
   "metadata": {},
   "outputs": [],
   "source": [
    "with open(f\"annotation_datasets/synth_annotation_labelstudio_output/annotation_Llama3_70B_random_600.json\", 'r') as json_file:\n",
    "    synthetic_data_llama_random_600 = format_json(json.load(json_file))    "
   ]
  },
  {
   "cell_type": "code",
   "execution_count": 97,
   "metadata": {},
   "outputs": [],
   "source": [
    "with open(f\"annotation_datasets/synth_annotation_labelstudio_output/annotation_Llama3_70B_fixed_600.json\", 'r') as json_file:\n",
    "    synthetic_data_llama_fixed_600 = format_json(json.load(json_file))     "
   ]
  },
  {
   "cell_type": "code",
   "execution_count": 98,
   "metadata": {},
   "outputs": [],
   "source": [
    "with open(f\"annotation_datasets/synth_annotation_labelstudio_output/annotation_GPT-3_random_600.json\", 'r') as json_file:\n",
    "    synthetic_data_GPT_3_random_600 = format_json(json.load(json_file))     "
   ]
  },
  {
   "cell_type": "code",
   "execution_count": 99,
   "metadata": {},
   "outputs": [],
   "source": [
    "with open(f\"annotation_datasets/synth_annotation_labelstudio_output/annotation_GPT-3_fixed_600.json\", 'r') as json_file:\n",
    "    synthetic_data_GPT_3_fixed_600 = format_json(json.load(json_file))     "
   ]
  },
  {
   "cell_type": "code",
   "execution_count": 100,
   "metadata": {},
   "outputs": [],
   "source": [
    "with open(f\"annotation_datasets/synth_annotation_labelstudio_output/additional_annotations_for_fold_5.json\", 'r') as json_file:\n",
    "    synthetic_data_additional_annotations_fold_5 = format_json(json.load(json_file))   "
   ]
  },
  {
   "cell_type": "code",
   "execution_count": 101,
   "metadata": {},
   "outputs": [],
   "source": [
    "synthetic_data_additional_annotations_fold_5 = [ex for ex in synthetic_data_additional_annotations_fold_5 if ex[\"model\"] == \"GPT-3\"]"
   ]
  },
  {
   "cell_type": "code",
   "execution_count": 102,
   "metadata": {},
   "outputs": [
    {
     "data": {
      "text/plain": [
       "2640"
      ]
     },
     "execution_count": 102,
     "metadata": {},
     "output_type": "execute_result"
    }
   ],
   "source": [
    "annotated_dataset = synthetic_data_llama_random_600 + synthetic_data_llama_fixed_600 + \\\n",
    "    synthetic_data_GPT_3_random_600 + synthetic_data_GPT_3_fixed_600 + \\\n",
    "    synthetic_data_additional_annotations_fold_5\n",
    "\n",
    "len(annotated_dataset)"
   ]
  },
  {
   "cell_type": "code",
   "execution_count": 103,
   "metadata": {},
   "outputs": [],
   "source": [
    "confirmations = pd.read_csv('annotation_datasets/annotation_jakob_0_confirmation.csv')\n",
    "confirmations_llama = pd.read_csv('annotation_datasets/annotation_jakob_llama3_confirmation.csv')\n",
    "confirmations = confirmations + confirmations_llama\n",
    "annotation_dict = dict(zip(confirmations['id'], confirmations['second_annotator_comment']))"
   ]
  },
  {
   "cell_type": "code",
   "execution_count": 104,
   "metadata": {},
   "outputs": [],
   "source": [
    "def is_nan(value):\n",
    "    try:\n",
    "        return np.isnan(value)\n",
    "    except TypeError:\n",
    "        return False"
   ]
  },
  {
   "cell_type": "code",
   "execution_count": 105,
   "metadata": {},
   "outputs": [],
   "source": [
    "def check_ids_in_annotation_dict(filtered_dataset, annotation_dict):\n",
    "    ids_with_annotation = [id for id in annotation_dict.keys() if is_nan(annotation_dict[id]) == False]\n",
    "    \n",
    "    dataset_ids = [example[\"id\"] for example in filtered_dataset]\n",
    "    for idx, id in enumerate(ids_with_annotation):\n",
    "        if id in dataset_ids:\n",
    "            pass\n",
    "        else:\n",
    "            return False\n",
    "    return True\n"
   ]
  },
  {
   "cell_type": "code",
   "execution_count": 106,
   "metadata": {},
   "outputs": [
    {
     "data": {
      "text/plain": [
       "2400"
      ]
     },
     "execution_count": 106,
     "metadata": {},
     "output_type": "execute_result"
    }
   ],
   "source": [
    "def filter_dataset(annotated_dataset):\n",
    "    has_annotations = False\n",
    "    while has_annotations == False:\n",
    "        filtered_dataset = []\n",
    "        examples_per_combination = 100\n",
    "        combinations_count = {}\n",
    "\n",
    "        random.shuffle(annotated_dataset)\n",
    "\n",
    "        for example in annotated_dataset:\n",
    "            model = example['model']\n",
    "            split = example['split']\n",
    "            few_shot_condition = example['few_shot_condtion']\n",
    "\n",
    "            key = (model, split, few_shot_condition)\n",
    "\n",
    "            if key not in combinations_count:\n",
    "                combinations_count[key] = 0\n",
    "\n",
    "            if combinations_count[key] < examples_per_combination:\n",
    "                filtered_dataset.append(example)\n",
    "                combinations_count[key] += 1\n",
    "\n",
    "        has_annotations = check_ids_in_annotation_dict(\n",
    "            filtered_dataset, annotation_dict)\n",
    "\n",
    "    return filtered_dataset\n",
    "\n",
    "\n",
    "annotated_dataset = filter_dataset(annotated_dataset)\n",
    "len(annotated_dataset)"
   ]
  },
  {
   "cell_type": "code",
   "execution_count": 107,
   "metadata": {},
   "outputs": [
    {
     "data": {
      "text/plain": [
       "2400"
      ]
     },
     "execution_count": 107,
     "metadata": {},
     "output_type": "execute_result"
    }
   ],
   "source": [
    "len(list(set([ex[\"id\"] for ex in annotated_dataset])))\n"
   ]
  },
  {
   "cell_type": "markdown",
   "metadata": {},
   "source": [
    "### Count Examples without annotated Aspects"
   ]
  },
  {
   "cell_type": "code",
   "execution_count": 108,
   "metadata": {},
   "outputs": [
    {
     "name": "stdout",
     "output_type": "stream",
     "text": [
      "Llama3_70B fixed 10 von 600\n",
      "Llama3_70B random 15 von 600\n",
      "GPT-3 fixed 1 von 600\n",
      "GPT-3 random 0 von 600\n"
     ]
    }
   ],
   "source": [
    "for llm in [\"Llama3_70B\", \"GPT-3\"]:\n",
    "    for fs in [\"fixed\", \"random\"]:\n",
    "        samples = [entry for entry in annotated_dataset if entry[\"model\"] == llm and entry[\"few_shot_condtion\"] == fs]\n",
    "        samples_filtered = [entry for entry in samples if not entry['tags']]\n",
    "\n",
    "        entries_with_empty_tags = [entry for entry in samples_filtered if not entry['tags']]\n",
    "        print(llm, fs, len(entries_with_empty_tags), \"von 600\")"
   ]
  },
  {
   "cell_type": "code",
   "execution_count": 109,
   "metadata": {},
   "outputs": [],
   "source": [
    "# annotated_dataset = [entry for entry in annotated_dataset if entry['tags']]\n",
    "# len(annotated_dataset)"
   ]
  },
  {
   "cell_type": "markdown",
   "metadata": {},
   "source": [
    "### Samples with Conflict"
   ]
  },
  {
   "cell_type": "code",
   "execution_count": 110,
   "metadata": {},
   "outputs": [
    {
     "name": "stdout",
     "output_type": "stream",
     "text": [
      "Llama3_70B fixed 8 von 600\n",
      "Llama3_70B random 7 von 600\n",
      "GPT-3 fixed 5 von 600\n",
      "GPT-3 random 4 von 600\n"
     ]
    }
   ],
   "source": [
    "for llm in [\"Llama3_70B\", \"GPT-3\"]:\n",
    "    for fs in [\"fixed\", \"random\"]:\n",
    "        samples = [entry for entry in annotated_dataset if any(tag.get('polarity') == 'CONFLICT' for tag in entry['tags']) and entry[\"model\"] == llm and entry[\"few_shot_condtion\"] == fs]\n",
    "\n",
    "        print(llm, fs, len(samples), \"von\", 600)"
   ]
  },
  {
   "cell_type": "code",
   "execution_count": 111,
   "metadata": {},
   "outputs": [],
   "source": [
    "# annotated_dataset = [entry for entry in annotated_dataset if not any(tag.get('polarity') == 'CONFLICT' for tag in entry['tags'])]\n",
    "# len(annotated_dataset)"
   ]
  },
  {
   "cell_type": "code",
   "execution_count": 112,
   "metadata": {},
   "outputs": [
    {
     "name": "stdout",
     "output_type": "stream",
     "text": [
      "Llama3_70B fixed 600 of 600\n",
      "Llama3_70B random 600 of 600\n",
      "GPT-3 fixed 600 of 600\n",
      "GPT-3 random 600 of 600\n"
     ]
    }
   ],
   "source": [
    "for llm in [\"Llama3_70B\", \"GPT-3\"]:\n",
    "    for fs in [\"fixed\", \"random\"]:\n",
    "        samples = [entry for entry in annotated_dataset if entry[\"model\"] == llm and entry[\"few_shot_condtion\"] == fs]\n",
    "        print(llm, fs, len(samples), \"of\", 600)\n",
    "\n"
   ]
  },
  {
   "cell_type": "markdown",
   "metadata": {},
   "source": [
    "### Save Examples"
   ]
  },
  {
   "cell_type": "code",
   "execution_count": 113,
   "metadata": {},
   "outputs": [],
   "source": [
    "with open(f\"annotation_datasets/annotated_synth_dataset.json\", 'w', encoding='utf-8') as file:\n",
    "    json.dump(annotated_dataset, file, ensure_ascii=False)"
   ]
  }
 ],
 "metadata": {
  "kernelspec": {
   "display_name": "tensorflow_m1",
   "language": "python",
   "name": "python3"
  },
  "language_info": {
   "codemirror_mode": {
    "name": "ipython",
    "version": 3
   },
   "file_extension": ".py",
   "mimetype": "text/x-python",
   "name": "python",
   "nbconvert_exporter": "python",
   "pygments_lexer": "ipython3",
   "version": "3.11.3"
  }
 },
 "nbformat": 4,
 "nbformat_minor": 2
}
