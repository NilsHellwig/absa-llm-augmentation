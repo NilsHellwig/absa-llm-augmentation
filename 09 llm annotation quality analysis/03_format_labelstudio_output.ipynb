{
 "cells": [
  {
   "cell_type": "markdown",
   "metadata": {},
   "source": [
    "# Notebook: Format Label Studio Output of Annotated Synthetic Examples"
   ]
  },
  {
   "cell_type": "markdown",
   "metadata": {},
   "source": [
    "## Packages"
   ]
  },
  {
   "cell_type": "code",
   "execution_count": 58,
   "metadata": {},
   "outputs": [],
   "source": [
    "import json\n",
    "import sys\n",
    "import os\n",
    "sys.path.append(os.path.abspath('../02 dataset split/'))\n",
    "from format_labelstudio_json import format_json"
   ]
  },
  {
   "cell_type": "markdown",
   "metadata": {},
   "source": [
    "## Code"
   ]
  },
  {
   "cell_type": "markdown",
   "metadata": {},
   "source": [
    "### Load Examples"
   ]
  },
  {
   "cell_type": "code",
   "execution_count": 59,
   "metadata": {},
   "outputs": [],
   "source": [
    "with open(f\"annotation_datasets/synth_annotation_labelstudio_output/annotation_Llama70B_random_800.json\", 'r') as json_file:\n",
    "    synthetic_data_llama_random_600 = format_json(json.load(json_file))    "
   ]
  },
  {
   "cell_type": "code",
   "execution_count": 60,
   "metadata": {},
   "outputs": [],
   "source": [
    "synthetic_data_llama_random_600 = synthetic_data_llama_random_600[0:120] + synthetic_data_llama_random_600[160:280] + \\\n",
    "    synthetic_data_llama_random_600[320:440] + \\\n",
    "    synthetic_data_llama_random_600[480:600] + synthetic_data_llama_random_600[640:760]"
   ]
  },
  {
   "cell_type": "code",
   "execution_count": 61,
   "metadata": {},
   "outputs": [],
   "source": [
    "with open(f\"annotation_datasets/synth_annotation_labelstudio_output/annotation_Llama70B_fixed_600.json\", 'r') as json_file:\n",
    "    synthetic_data_llama_fixed_600 = format_json(json.load(json_file))     "
   ]
  },
  {
   "cell_type": "code",
   "execution_count": 62,
   "metadata": {},
   "outputs": [],
   "source": [
    "with open(f\"annotation_datasets/synth_annotation_labelstudio_output/annotation_GPT-3_random_600.json\", 'r') as json_file:\n",
    "    synthetic_data_GPT_3_random_600 = format_json(json.load(json_file))     "
   ]
  },
  {
   "cell_type": "code",
   "execution_count": 63,
   "metadata": {},
   "outputs": [],
   "source": [
    "with open(f\"annotation_datasets/synth_annotation_labelstudio_output/annotation_GPT-3_fixed_600.json\", 'r') as json_file:\n",
    "    synthetic_data_GPT_3_fixed_600 = format_json(json.load(json_file))     "
   ]
  },
  {
   "cell_type": "code",
   "execution_count": 64,
   "metadata": {},
   "outputs": [],
   "source": [
    "with open(f\"annotation_datasets/synth_annotation_labelstudio_output/additional_annotations_for_fold_5.json\", 'r') as json_file:\n",
    "    synthetic_data_additional_annotations_fold_5 = format_json(json.load(json_file))   "
   ]
  },
  {
   "cell_type": "code",
   "execution_count": 65,
   "metadata": {},
   "outputs": [
    {
     "data": {
      "text/plain": [
       "2880"
      ]
     },
     "execution_count": 65,
     "metadata": {},
     "output_type": "execute_result"
    }
   ],
   "source": [
    "annotated_dataset = synthetic_data_llama_random_600 + synthetic_data_llama_fixed_600 + \\\n",
    "    synthetic_data_GPT_3_random_600 + synthetic_data_GPT_3_fixed_600 + \\\n",
    "    synthetic_data_additional_annotations_fold_5\n",
    "\n",
    "len(annotated_dataset)"
   ]
  },
  {
   "cell_type": "code",
   "execution_count": 66,
   "metadata": {},
   "outputs": [
    {
     "data": {
      "text/plain": [
       "2400"
      ]
     },
     "execution_count": 66,
     "metadata": {},
     "output_type": "execute_result"
    }
   ],
   "source": [
    "def filter_dataset(annotated_dataset):\n",
    "    filtered_dataset = []\n",
    "    examples_per_combination = 100\n",
    "    combinations_count = {}\n",
    "\n",
    "    for example in annotated_dataset:\n",
    "        model = example['model']\n",
    "        split = example['split']\n",
    "        few_shot_condition = example['few_shot_condtion']\n",
    "\n",
    "        key = (model, split, few_shot_condition)\n",
    "\n",
    "        if key not in combinations_count:\n",
    "            combinations_count[key] = 0\n",
    "\n",
    "        if combinations_count[key] < examples_per_combination:\n",
    "            filtered_dataset.append(example)\n",
    "            combinations_count[key] += 1\n",
    "\n",
    "    return filtered_dataset\n",
    "\n",
    "annotated_dataset = filter_dataset(annotated_dataset)\n",
    "len(annotated_dataset)"
   ]
  },
  {
   "cell_type": "code",
   "execution_count": 67,
   "metadata": {},
   "outputs": [
    {
     "data": {
      "text/plain": [
       "2400"
      ]
     },
     "execution_count": 67,
     "metadata": {},
     "output_type": "execute_result"
    }
   ],
   "source": [
    "len(list(set([ex[\"id\"] for ex in annotated_dataset])))\n"
   ]
  },
  {
   "cell_type": "markdown",
   "metadata": {},
   "source": [
    "### Exclude / Count Examples without annotated Aspects"
   ]
  },
  {
   "cell_type": "code",
   "execution_count": 68,
   "metadata": {},
   "outputs": [
    {
     "name": "stdout",
     "output_type": "stream",
     "text": [
      "Llama70B fixed 36 von 720\n",
      "Llama70B random 37 von 720\n",
      "GPT-3 fixed 1 von 720\n",
      "GPT-3 random 0 von 720\n"
     ]
    }
   ],
   "source": [
    "for llm in [\"Llama70B\", \"GPT-3\"]:\n",
    "    for fs in [\"fixed\", \"random\"]:\n",
    "        samples = [entry for entry in annotated_dataset if entry[\"model\"] == llm and entry[\"few_shot_condtion\"] == fs]\n",
    "        samples_filtered = [entry for entry in samples if not entry['tags']]\n",
    "\n",
    "        entries_with_empty_tags = [entry for entry in samples_filtered if not entry['tags']]\n",
    "        print(llm, fs, len(entries_with_empty_tags), \"von 720\")"
   ]
  },
  {
   "cell_type": "code",
   "execution_count": 69,
   "metadata": {},
   "outputs": [
    {
     "data": {
      "text/plain": [
       "2326"
      ]
     },
     "execution_count": 69,
     "metadata": {},
     "output_type": "execute_result"
    }
   ],
   "source": [
    "annotated_dataset = [entry for entry in annotated_dataset if entry['tags']]\n",
    "len(annotated_dataset)"
   ]
  },
  {
   "cell_type": "markdown",
   "metadata": {},
   "source": [
    "### Remove Samples with Conflict"
   ]
  },
  {
   "cell_type": "code",
   "execution_count": 70,
   "metadata": {},
   "outputs": [
    {
     "name": "stdout",
     "output_type": "stream",
     "text": [
      "Llama70B fixed 7 von 720\n",
      "Llama70B random 10 von 720\n",
      "GPT-3 fixed 4 von 720\n",
      "GPT-3 random 3 von 720\n"
     ]
    }
   ],
   "source": [
    "for llm in [\"Llama70B\", \"GPT-3\"]:\n",
    "    for fs in [\"fixed\", \"random\"]:\n",
    "        samples = [entry for entry in annotated_dataset if any(tag.get('polarity') == 'CONFLICT' for tag in entry['tags']) and entry[\"model\"] == llm and entry[\"few_shot_condtion\"] == fs]\n",
    "\n",
    "        print(llm, fs, len(samples), \"von\", 720)"
   ]
  },
  {
   "cell_type": "code",
   "execution_count": 71,
   "metadata": {},
   "outputs": [
    {
     "data": {
      "text/plain": [
       "2302"
      ]
     },
     "execution_count": 71,
     "metadata": {},
     "output_type": "execute_result"
    }
   ],
   "source": [
    "annotated_dataset = [entry for entry in annotated_dataset if not any(tag.get('polarity') == 'CONFLICT' for tag in entry['tags'])]\n",
    "len(annotated_dataset)"
   ]
  },
  {
   "cell_type": "code",
   "execution_count": 72,
   "metadata": {},
   "outputs": [
    {
     "name": "stdout",
     "output_type": "stream",
     "text": [
      "Llama70B fixed 557 of 720\n",
      "Llama70B random 553 of 720\n",
      "GPT-3 fixed 595 of 720\n",
      "GPT-3 random 597 of 720\n"
     ]
    }
   ],
   "source": [
    "for llm in [\"Llama70B\", \"GPT-3\"]:\n",
    "    for fs in [\"fixed\", \"random\"]:\n",
    "        samples = [entry for entry in annotated_dataset if entry[\"model\"] == llm and entry[\"few_shot_condtion\"] == fs]\n",
    "        print(llm, fs, len(samples), \"of\", 720)\n",
    "\n"
   ]
  },
  {
   "cell_type": "markdown",
   "metadata": {},
   "source": [
    "### Save Examples"
   ]
  },
  {
   "cell_type": "code",
   "execution_count": 73,
   "metadata": {},
   "outputs": [],
   "source": [
    "with open(f\"annotation_datasets/annotated_synth_dataset.json\", 'w', encoding='utf-8') as file:\n",
    "    json.dump(annotated_dataset, file, ensure_ascii=False)"
   ]
  }
 ],
 "metadata": {
  "kernelspec": {
   "display_name": "tensorflow_m1",
   "language": "python",
   "name": "python3"
  },
  "language_info": {
   "codemirror_mode": {
    "name": "ipython",
    "version": 3
   },
   "file_extension": ".py",
   "mimetype": "text/x-python",
   "name": "python",
   "nbconvert_exporter": "python",
   "pygments_lexer": "ipython3",
   "version": "3.11.3"
  }
 },
 "nbformat": 4,
 "nbformat_minor": 2
}
