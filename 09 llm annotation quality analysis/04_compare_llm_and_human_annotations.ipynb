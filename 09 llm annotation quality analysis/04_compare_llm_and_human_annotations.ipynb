{
 "cells": [
  {
   "cell_type": "markdown",
   "metadata": {},
   "source": [
    "# Notebook: Compare LLM and Human Annotations"
   ]
  },
  {
   "cell_type": "markdown",
   "metadata": {},
   "source": [
    "## Packages"
   ]
  },
  {
   "cell_type": "code",
   "execution_count": 177,
   "metadata": {},
   "outputs": [],
   "source": [
    "from sklearn.metrics import precision_score, recall_score, accuracy_score, f1_score\n",
    "import numpy as np\n",
    "import json\n",
    "import sys\n",
    "import os"
   ]
  },
  {
   "cell_type": "code",
   "execution_count": 178,
   "metadata": {},
   "outputs": [],
   "source": [
    "sys.path.append(os.path.abspath('../07 train models/'))\n",
    "from TASD.evaluation import calculate_metrics_for_examples\n",
    "import constants"
   ]
  },
  {
   "cell_type": "markdown",
   "metadata": {},
   "source": [
    "## Settings"
   ]
  },
  {
   "cell_type": "code",
   "execution_count": 179,
   "metadata": {},
   "outputs": [],
   "source": [
    "LLMS = [\"Llama70B\", \"GPT-3\"]\n",
    "FEW_SHOT_CONDITIONS = [\"fixed\", \"random\"]"
   ]
  },
  {
   "cell_type": "code",
   "execution_count": 180,
   "metadata": {},
   "outputs": [],
   "source": [
    "LLMS_ENCODED = {\"GPT-3\": \"\\\\textbf{GPT-3.5-turbo}\", \"Llama70B\": \"\\\\textbf{Llama-2-70B}\"}\n",
    "ENCODE_CONDITION = {\"fixed\": \"\\\\textbf{LRS\\\\textsubscript{25}}\",\n",
    "                    \"random\": \"\\\\textbf{LRS\\\\textsubscript{500}}\"}"
   ]
  },
  {
   "cell_type": "markdown",
   "metadata": {},
   "source": [
    "## Code"
   ]
  },
  {
   "cell_type": "markdown",
   "metadata": {},
   "source": [
    "### Load Data"
   ]
  },
  {
   "cell_type": "markdown",
   "metadata": {},
   "source": [
    "#### Human Annotations"
   ]
  },
  {
   "cell_type": "code",
   "execution_count": 181,
   "metadata": {},
   "outputs": [],
   "source": [
    "with open(f\"annotation_datasets/annotated_synth_dataset.json\", 'r') as json_file:\n",
    "    human_annotations = json.load(json_file)    "
   ]
  },
  {
   "cell_type": "markdown",
   "metadata": {},
   "source": [
    "#### Load Synthetic "
   ]
  },
  {
   "cell_type": "code",
   "execution_count": 182,
   "metadata": {},
   "outputs": [],
   "source": [
    "llm_annotations = []\n",
    "\n",
    "for llm in LLMS:\n",
    "    for fs in [\"random\", \"fixed\"]:\n",
    "       for split_id in range(6):\n",
    "           with open(f\"../07 train models/synth/{llm}/{fs}/split_{split_id}.json\", 'r') as json_file:\n",
    "              synthetic_data_split = json.load(json_file)\n",
    "              for example in  synthetic_data_split:\n",
    "                  llm_annotations.append(example)    "
   ]
  },
  {
   "cell_type": "code",
   "execution_count": 183,
   "metadata": {},
   "outputs": [],
   "source": [
    "llm_annotations_aspects = [([{\"aspect_category\": tag[\"label\"], \"aspect_polarity\": tag[\"polarity\"],\n",
    "                              \"aspect_term\": tag[\"text\"] if tag[\"text\"] != 'NULL' else None, \"start\": tag[\"start\"], \"end\": tag[\"end\"]} for tag in example[\"tags\"]], example[\"id\"]) for example in llm_annotations]\n",
    "human_annotations_aspects = [([{\"aspect_category\": tag[\"label\"], \"aspect_polarity\": tag[\"polarity\"], \"aspect_term\": tag[\"text\"]\n",
    "                                if tag[\"text\"] != 'NULL' else None, \"start\": tag[\"start\"], \"end\": tag[\"end\"]} for tag in example[\"tags\"]], example[\"id\"], example[\"model\"], example[\"few_shot_condtion\"]) for example in human_annotations]"
   ]
  },
  {
   "cell_type": "code",
   "execution_count": 184,
   "metadata": {},
   "outputs": [],
   "source": [
    "dataset = {}"
   ]
  },
  {
   "cell_type": "code",
   "execution_count": 185,
   "metadata": {},
   "outputs": [],
   "source": [
    "def get_example_with_id(id, dataset):\n",
    "    return [example for example in dataset if example[1] == id][0][0]\n",
    "\n",
    "for llm in LLMS:\n",
    "    dataset[llm] = {}\n",
    "    for fs in FEW_SHOT_CONDITIONS:\n",
    "        dataset[llm][fs] = {}\n",
    "        human_annotations_aspects_ids = [example[1] for example in human_annotations_aspects if example[2] == llm and example[3] == fs]\n",
    "        human_annotations_samples = [example[0] for example in human_annotations_aspects if example[2] == llm and example[3] == fs]\n",
    "        llm_annotations_samples = [get_example_with_id(id, llm_annotations_aspects) for id in human_annotations_aspects_ids]\n",
    "\n",
    "        dataset[llm][fs][\"human_annotation\"] = human_annotations_samples\n",
    "        dataset[llm][fs][\"llm_annotation\"] = llm_annotations_samples"
   ]
  },
  {
   "cell_type": "markdown",
   "metadata": {},
   "source": [
    "### Analyse Quality"
   ]
  },
  {
   "cell_type": "markdown",
   "metadata": {},
   "source": [
    "#### Aspect Term Detection"
   ]
  },
  {
   "cell_type": "code",
   "execution_count": 186,
   "metadata": {},
   "outputs": [],
   "source": [
    "def calculate_tp_tn_fp_fn_aspect_term(pred, label):\n",
    "    pred_set = set(\n",
    "        f\"{range['start']}_{range['end']}\" for range in pred)\n",
    "    label_set = set(\n",
    "        f\"{range['start']}_{range['end']}\" for range in label)\n",
    "\n",
    "    tp_set = pred_set & label_set\n",
    "    tp = len(tp_set)\n",
    "\n",
    "    fp_set = pred_set - tp_set\n",
    "    fp = len(fp_set)\n",
    "\n",
    "    fn_set = label_set - tp_set\n",
    "    fn = len(fn_set)\n",
    "\n",
    "    return tp, 0, fp, fn\n"
   ]
  },
  {
   "cell_type": "code",
   "execution_count": 187,
   "metadata": {},
   "outputs": [
    {
     "name": "stdout",
     "output_type": "stream",
     "text": [
      "\\multirow{2}{*}{\\textbf{Llama-2-70B}} & \\textbf{LRS\\textsubscript{25}} & 0.806 & 0.675 & 0.837 & 0.777 \\\\\n",
      " & \\textbf{LRS\\textsubscript{500}} & 0.795 & 0.660 & 0.815 & 0.777 \\\\\n",
      "\\hline\n",
      "\\multirow{2}{*}{\\textbf{GPT-3.5-turbo}} & \\textbf{LRS\\textsubscript{25}} & 0.759 & 0.612 & 0.914 & 0.650 \\\\\n",
      " & \\textbf{LRS\\textsubscript{500}} & 0.737 & 0.584 & 0.936 & 0.608 \\\\\n",
      "\\hline\n"
     ]
    }
   ],
   "source": [
    "for llm_idx, llm in enumerate(LLMS):\n",
    "    for fs_idx, fs in enumerate(FEW_SHOT_CONDITIONS):\n",
    "        llm_annotations_aspect_terms = [\n",
    "            [{\"start\": tag[\"start\"], \"end\": tag[\"end\"]} for tag in example if tag[\"aspect_term\"] is not None] for example in dataset[llm][fs][\"llm_annotation\"]]\n",
    "        human_annotations_aspect_terms = [\n",
    "            [{\"start\": tag[\"start\"], \"end\": tag[\"end\"]} for tag in example if tag[\"aspect_term\"] is not None] for example in dataset[llm][fs][\"human_annotation\"]]\n",
    "\n",
    "        tp_total = tn_total = fp_total = fn_total = 0\n",
    "        for i in range(len(human_annotations_aspect_terms)):\n",
    "            tp, tn, fp, fn = calculate_tp_tn_fp_fn_aspect_term(\n",
    "                llm_annotations_aspect_terms[i], human_annotations_aspect_terms[i])\n",
    "            tp_total += tp\n",
    "            tn_total += tn\n",
    "            fp_total += fp\n",
    "            fn_total += fn\n",
    "\n",
    "        # Calculate metrics\n",
    "        accuracy = (tp_total + tn_total) / (tp_total + tn_total + fp_total +\n",
    "                                            fn_total) if (tp_total + tn_total + fp_total + fn_total) > 0 else 0\n",
    "        precision = tp_total / \\\n",
    "            (tp_total + fp_total) if (tp_total + fp_total) > 0 else 0\n",
    "        recall = tp_total / \\\n",
    "            (tp_total + fn_total) if (tp_total + fn_total) > 0 else 0\n",
    "\n",
    "        f1 = 2 * tp_total / (2 * tp_total + fn_total + fp_total)\n",
    "\n",
    "        llm_print = \"\\\\multirow{2}{*}{\" + LLMS_ENCODED[llm] + \"}\" if fs_idx == 0 else \"\"\n",
    "\n",
    "        fs_print = ENCODE_CONDITION[fs]\n",
    "        \n",
    "        print(llm_print, \"&\", fs_print,\n",
    "              \"&\", \"{:.3f}\".format(f1),\n",
    "              \"&\", \"{:.3f}\".format(accuracy),\n",
    "              \"&\", \"{:.3f}\".format(precision),\n",
    "              \"&\", \"{:.3f}\".format(recall), \"\\\\\\\\\")\n",
    "    print(\"\\hline\")"
   ]
  },
  {
   "cell_type": "markdown",
   "metadata": {},
   "source": [
    "#### Aspect Category"
   ]
  },
  {
   "cell_type": "code",
   "execution_count": 188,
   "metadata": {},
   "outputs": [],
   "source": [
    "def category_list_to_label(cat_list):\n",
    "    return [1 if cat in cat_list else 0 for cat in constants.ASPECT_CATEGORIES]"
   ]
  },
  {
   "cell_type": "code",
   "execution_count": 189,
   "metadata": {},
   "outputs": [
    {
     "name": "stdout",
     "output_type": "stream",
     "text": [
      "\\multirow{2}{*}{\\textbf{Llama-2-70B}} & \\textbf{LRS\\textsubscript{25}} & 0.748 & 0.740 & 0.587 \\\\\n",
      " & \\textbf{LRS\\textsubscript{500}} & 0.779 & 0.770 & 0.653 \\\\\n",
      "\\hline\n",
      "\\multirow{2}{*}{\\textbf{GPT-3.5-turbo}} & \\textbf{LRS\\textsubscript{25}} & 0.958 & 0.956 & 0.917 \\\\\n",
      " & \\textbf{LRS\\textsubscript{500}} & 0.951 & 0.951 & 0.907 \\\\\n",
      "\\hline\n"
     ]
    }
   ],
   "source": [
    "for llm_idx, llm in enumerate(LLMS):\n",
    "    for fs_idx, fs in enumerate(FEW_SHOT_CONDITIONS):\n",
    "        llm_annotations_aspect_categories = [category_list_to_label(\n",
    "            [tag[\"aspect_category\"] for tag in example]) for example in dataset[llm][fs][\"llm_annotation\"]]\n",
    "        human_annotations_aspect_categories = [category_list_to_label(\n",
    "            [tag[\"aspect_category\"] for tag in example]) for example in dataset[llm][fs][\"human_annotation\"]]\n",
    "\n",
    "        accuracy = accuracy_score(\n",
    "            human_annotations_aspect_categories, llm_annotations_aspect_categories)\n",
    "        f1_micro = f1_score(human_annotations_aspect_categories,\n",
    "                            llm_annotations_aspect_categories, average='micro')\n",
    "        f1_macro = f1_score(human_annotations_aspect_categories,\n",
    "                            llm_annotations_aspect_categories, average='macro')\n",
    "\n",
    "        llm_print = \"\\\\multirow{2}{*}{\" + \\\n",
    "            LLMS_ENCODED[llm] + \"}\" if fs_idx == 0 else \"\"\n",
    "\n",
    "        print(llm_print, \"&\", ENCODE_CONDITION[fs],\n",
    "              \"&\", \"{:.3f}\".format(f1_micro),\n",
    "              \"&\", \"{:.3f}\".format(f1_macro),\n",
    "              \"&\", \"{:.3f}\".format(accuracy), \"\\\\\\\\\")\n",
    "    print(\"\\\\hline\")"
   ]
  },
  {
   "cell_type": "markdown",
   "metadata": {},
   "source": [
    "#### Aspect Category (performance for each Aspect Category)"
   ]
  },
  {
   "cell_type": "code",
   "execution_count": 190,
   "metadata": {},
   "outputs": [
    {
     "name": "stdout",
     "output_type": "stream",
     "text": [
      "\\multirow{10}{*}{\\textbf{Llama-2-70B}} & \\multirow{5}{*}{\\textbf{LRS\\textsubscript{25}}} & \\texttt{GENERAL-IMPRESSION} & 0.547 & 0.798 & 0.429 & 0.753 \\\\\n",
      " &  & \\texttt{FOOD} & 0.747 & 0.845 & 0.820 & 0.685 \\\\\n",
      " &  & \\texttt{SERVICE} & 0.802 & 0.885 & 0.753 & 0.859 \\\\\n",
      " &  & \\texttt{AMBIENCE} & 0.777 & 0.885 & 0.779 & 0.774 \\\\\n",
      " &  & \\texttt{PRICE} & 0.828 & 0.905 & 0.753 & 0.919 \\\\\n",
      "\\arrayrulecolor{gray}\\cline{2-7}\\arrayrulecolor{black}\n",
      " & \\multirow{5}{*}{\\textbf{LRS\\textsubscript{500}}} & \\texttt{GENERAL-IMPRESSION} & 0.567 & 0.827 & 0.425 & 0.850 \\\\\n",
      " &  & \\texttt{FOOD} & 0.727 & 0.850 & 0.805 & 0.663 \\\\\n",
      " &  & \\texttt{SERVICE} & 0.845 & 0.915 & 0.853 & 0.837 \\\\\n",
      " &  & \\texttt{AMBIENCE} & 0.838 & 0.917 & 0.806 & 0.872 \\\\\n",
      " &  & \\texttt{PRICE} & 0.874 & 0.937 & 0.805 & 0.957 \\\\\n",
      "\\arrayrulecolor{gray}\\cline{2-7}\\arrayrulecolor{black}\n",
      "\\hline\n",
      "\\multirow{10}{*}{\\textbf{GPT-3.5-turbo}} & \\multirow{5}{*}{\\textbf{LRS\\textsubscript{25}}} & \\texttt{GENERAL-IMPRESSION} & 0.927 & 0.962 & 0.885 & 0.973 \\\\\n",
      " &  & \\texttt{FOOD} & 0.928 & 0.958 & 0.988 & 0.875 \\\\\n",
      " &  & \\texttt{SERVICE} & 0.984 & 0.990 & 0.995 & 0.973 \\\\\n",
      " &  & \\texttt{AMBIENCE} & 0.948 & 0.973 & 0.986 & 0.912 \\\\\n",
      " &  & \\texttt{PRICE} & 0.995 & 0.997 & 0.990 & 1.000 \\\\\n",
      "\\arrayrulecolor{gray}\\cline{2-7}\\arrayrulecolor{black}\n",
      " & \\multirow{5}{*}{\\textbf{LRS\\textsubscript{500}}} & \\texttt{GENERAL-IMPRESSION} & 0.932 & 0.967 & 0.884 & 0.986 \\\\\n",
      " &  & \\texttt{FOOD} & 0.901 & 0.942 & 0.994 & 0.824 \\\\\n",
      " &  & \\texttt{SERVICE} & 0.975 & 0.987 & 0.988 & 0.964 \\\\\n",
      " &  & \\texttt{AMBIENCE} & 0.958 & 0.980 & 0.986 & 0.932 \\\\\n",
      " &  & \\texttt{PRICE} & 0.991 & 0.995 & 0.988 & 0.994 \\\\\n",
      "\\arrayrulecolor{gray}\\cline{2-7}\\arrayrulecolor{black}\n",
      "\\hline\n"
     ]
    }
   ],
   "source": [
    "def category_list_to_label(cat_list):\n",
    "    return [1 if cat in cat_list else 0 for cat in constants.ASPECT_CATEGORIES]\n",
    "\n",
    "\n",
    "for llm_idx, llm in enumerate(LLMS):\n",
    "    for fs_idx, fs in enumerate(FEW_SHOT_CONDITIONS):\n",
    "        llm_annotations_aspect_categories = [category_list_to_label(\n",
    "            [tag[\"aspect_category\"] for tag in example]) for example in dataset[llm][fs][\"llm_annotation\"]]\n",
    "        human_annotations_aspect_categories = [category_list_to_label(\n",
    "            [tag[\"aspect_category\"] for tag in example]) for example in dataset[llm][fs][\"human_annotation\"]]\n",
    "\n",
    "        for ac_idx, aspect_category in enumerate(constants.ASPECT_CATEGORIES):\n",
    "            idx = constants.ASPECT_CATEGORIES.index(aspect_category)\n",
    "\n",
    "            tp = sum((llm_annotations_aspect_categories[i][idx] == 1) and (\n",
    "                human_annotations_aspect_categories[i][idx] == 1) for i in range(len(llm_annotations_aspect_categories)))\n",
    "            fp = sum((llm_annotations_aspect_categories[i][idx] == 1) and (\n",
    "                human_annotations_aspect_categories[i][idx] == 0) for i in range(len(llm_annotations_aspect_categories)))\n",
    "            fn = sum((llm_annotations_aspect_categories[i][idx] == 0) and (\n",
    "                human_annotations_aspect_categories[i][idx] == 1) for i in range(len(llm_annotations_aspect_categories)))\n",
    "\n",
    "            precision = tp / (tp + fp) if (tp + fp) > 0 else 0\n",
    "            recall = tp / (tp + fn) if (tp + fn) > 0 else 0\n",
    "            accuracy = accuracy_score([example[idx] for example in human_annotations_aspect_categories], [\n",
    "                                      example[idx] for example in llm_annotations_aspect_categories])\n",
    "\n",
    "            f1 = 2 * tp / (2 * tp + fn + fp)\n",
    "\n",
    "            n_samples_in_class = sum(\n",
    "                example[idx] == 1 for example in human_annotations_aspect_categories)\n",
    "\n",
    "            llm_print = \"\\\\multirow{10}{*}{\" + \\\n",
    "                LLMS_ENCODED[llm] + \"}\" if fs_idx == 0 and ac_idx == 0 else \"\"\n",
    "            fs_print = \"\\\\multirow{5}{*}{\" + \\\n",
    "                ENCODE_CONDITION[fs] + \"}\" if ac_idx == 0 else \"\"\n",
    "\n",
    "            print(llm_print, \"&\", fs_print,\n",
    "                  \"&\", \"\\\\texttt{\"+aspect_category+\"}\",\n",
    "                  \"&\", \"{:.3f}\".format(f1),\n",
    "                  \"&\", \"{:.3f}\".format(accuracy),\n",
    "                  \"&\", \"{:.3f}\".format(precision),\n",
    "                  \"&\", \"{:.3f}\".format(recall), \"\\\\\\\\\")\n",
    "\n",
    "        print(\"\\\\arrayrulecolor{gray}\\cline{2-7}\\\\arrayrulecolor{black}\")\n",
    "\n",
    "    print(\"\\\\hline\")"
   ]
  },
  {
   "cell_type": "markdown",
   "metadata": {},
   "source": [
    "#### Aspect Category + Sentiment Polarity"
   ]
  },
  {
   "cell_type": "code",
   "execution_count": 191,
   "metadata": {},
   "outputs": [],
   "source": [
    "AC_POLARITY_COMBINATIONS = [cat+\"_\"+polarity for cat in constants.ASPECT_CATEGORIES for polarity in [\"POSITIVE\", \"NEGATIVE\", \"NEUTRAL\", \"CONFLICT\"]]"
   ]
  },
  {
   "cell_type": "code",
   "execution_count": 192,
   "metadata": {},
   "outputs": [],
   "source": [
    "def category_polarity_list_to_label(cat_pol_list):\n",
    "    return [1 if ac_pol in cat_pol_list else 0 for ac_pol in AC_POLARITY_COMBINATIONS]"
   ]
  },
  {
   "cell_type": "code",
   "execution_count": 193,
   "metadata": {},
   "outputs": [
    {
     "name": "stdout",
     "output_type": "stream",
     "text": [
      "\\multirow{2}{*}{\\textbf{Llama-2-70B}} & \\textbf{LRS\\textsubscript{25}} & 0.501 & 0.350 & 0.373 \\\\\n",
      " & \\textbf{LRS\\textsubscript{500}} & 0.533 & 0.380 & 0.435 \\\\\n",
      "\\hline\n",
      "\\multirow{2}{*}{\\textbf{GPT-3.5-turbo}} & \\textbf{LRS\\textsubscript{25}} & 0.841 & 0.629 & 0.750 \\\\\n",
      " & \\textbf{LRS\\textsubscript{500}} & 0.838 & 0.621 & 0.792 \\\\\n",
      "\\hline\n"
     ]
    }
   ],
   "source": [
    "for llm_idx, llm in enumerate(LLMS):\n",
    "    for fs_idx, fs in enumerate(FEW_SHOT_CONDITIONS):\n",
    "        llm_annotations_ac_pol = [category_polarity_list_to_label(\n",
    "            [tag[\"aspect_category\"]+\"_\"+tag[\"aspect_polarity\"] for tag in example]) for example in dataset[llm][fs][\"llm_annotation\"]]\n",
    "        human_annotations_ac_pol = [category_polarity_list_to_label(\n",
    "            [tag[\"aspect_category\"]+\"_\"+tag[\"aspect_polarity\"] for tag in example]) for example in dataset[llm][fs][\"human_annotation\"]]\n",
    "\n",
    "        accuracy = accuracy_score(\n",
    "            human_annotations_ac_pol, llm_annotations_ac_pol)\n",
    "        f1_micro = f1_score(human_annotations_ac_pol,\n",
    "                            llm_annotations_ac_pol, average='micro', zero_division=0)\n",
    "        f1_macro = f1_score(human_annotations_ac_pol,\n",
    "                            llm_annotations_ac_pol, average='macro', zero_division=0)\n",
    "\n",
    "        llm_print = \"\\\\multirow{2}{*}{\" + \\\n",
    "            LLMS_ENCODED[llm] + \"}\" if fs_idx == 0 else \"\"\n",
    "\n",
    "        print(llm_print,\n",
    "              \"&\", ENCODE_CONDITION[fs],\n",
    "              \"&\", \"{:.3f}\".format(f1_micro),\n",
    "              \"&\", \"{:.3f}\".format(f1_macro),\n",
    "              \"&\", \"{:.3f}\".format(accuracy), \"\\\\\\\\\")\n",
    "    print(\"\\\\hline\")"
   ]
  },
  {
   "cell_type": "code",
   "execution_count": 194,
   "metadata": {},
   "outputs": [
    {
     "name": "stdout",
     "output_type": "stream",
     "text": [
      "\\multirow{30}{*}{\\textbf{Llama-2-70B}} & \\multirow{15}{*}{\\textbf{LRS\\textsubscript{25}}} & \\multirow{3}{*}{\\texttt{GENERAL-IMPRESSION}} & \\texttt{POSITIVE} & 0.492 & 0.897 & 0.508 & 0.476 \\\\\n",
      " &  &  & \\texttt{NEGATIVE} & 0.296 & 0.905 & 0.211 & 0.500 \\\\\n",
      " &  &  & \\texttt{NEUTRAL} & 0.175 & 0.890 & 0.099 & 0.778 \\\\\n",
      "\\arrayrulecolor{gray}\\cline{3-8}\\arrayrulecolor{black}\n",
      " &  &  & \\texttt{POSITIVE} & 0.558 & 0.878 & 0.780 & 0.434 \\\\\n",
      " &  &  & \\texttt{NEGATIVE} & 0.621 & 0.927 & 0.692 & 0.562 \\\\\n",
      " &  & \\multirow{3}{*}{\\texttt{FOOD}} & \\texttt{NEUTRAL} & 0.429 & 0.907 & 0.323 & 0.636 \\\\\n",
      "\\arrayrulecolor{gray}\\cline{3-8}\\arrayrulecolor{black}\n",
      " &  &  & \\texttt{POSITIVE} & 0.583 & 0.895 & 0.721 & 0.489 \\\\\n",
      " &  & \\multirow{3}{*}{\\texttt{SERVICE}} & \\texttt{NEGATIVE} & 0.677 & 0.933 & 0.667 & 0.689 \\\\\n",
      " &  &  & \\texttt{NEUTRAL} & 0.220 & 0.893 & 0.123 & 1.000 \\\\\n",
      "\\arrayrulecolor{gray}\\cline{3-8}\\arrayrulecolor{black}\n",
      " &  & \\multirow{3}{*}{\\texttt{AMBIENCE}} & \\texttt{POSITIVE} & 0.492 & 0.890 & 0.696 & 0.381 \\\\\n",
      " &  &  & \\texttt{NEGATIVE} & 0.694 & 0.937 & 0.705 & 0.683 \\\\\n",
      " &  &  & \\texttt{NEUTRAL} & 0.188 & 0.913 & 0.109 & 0.667 \\\\\n",
      "\\arrayrulecolor{gray}\\cline{3-8}\\arrayrulecolor{black}\n",
      " &  &  & \\texttt{POSITIVE} & 0.644 & 0.930 & 0.613 & 0.679 \\\\\n",
      " &  &  & \\texttt{NEGATIVE} & 0.629 & 0.913 & 0.638 & 0.620 \\\\\n",
      " &  & \\multirow{3}{*}{\\texttt{PRICE}} & \\texttt{NEUTRAL} & 0.311 & 0.897 & 0.209 & 0.609 \\\\\n",
      "\\arrayrulecolor{gray}\\cline{3-8}\\arrayrulecolor{black}\n",
      "\\cline{2-8}\n",
      " & \\multirow{15}{*}{\\textbf{LRS\\textsubscript{500}}} & \\multirow{3}{*}{\\texttt{GENERAL-IMPRESSION}} & \\texttt{POSITIVE} & 0.525 & 0.922 & 0.481 & 0.578 \\\\\n",
      " &  &  & \\texttt{NEGATIVE} & 0.417 & 0.930 & 0.288 & 0.750 \\\\\n",
      " &  &  & \\texttt{NEUTRAL} & 0.253 & 0.902 & 0.152 & 0.769 \\\\\n",
      "\\arrayrulecolor{gray}\\cline{3-8}\\arrayrulecolor{black}\n",
      " &  &  & \\texttt{POSITIVE} & 0.559 & 0.882 & 0.804 & 0.429 \\\\\n",
      " &  &  & \\texttt{NEGATIVE} & 0.688 & 0.950 & 0.717 & 0.660 \\\\\n",
      " &  & \\multirow{3}{*}{\\texttt{FOOD}} & \\texttt{NEUTRAL} & 0.395 & 0.923 & 0.294 & 0.600 \\\\\n",
      "\\arrayrulecolor{gray}\\cline{3-8}\\arrayrulecolor{black}\n",
      " &  &  & \\texttt{POSITIVE} & 0.621 & 0.898 & 0.769 & 0.521 \\\\\n",
      " &  & \\multirow{3}{*}{\\texttt{SERVICE}} & \\texttt{NEGATIVE} & 0.738 & 0.955 & 0.776 & 0.704 \\\\\n",
      " &  &  & \\texttt{NEUTRAL} & 0.286 & 0.917 & 0.169 & 0.909 \\\\\n",
      "\\arrayrulecolor{gray}\\cline{3-8}\\arrayrulecolor{black}\n",
      " &  & \\multirow{3}{*}{\\texttt{AMBIENCE}} & \\texttt{POSITIVE} & 0.614 & 0.910 & 0.827 & 0.489 \\\\\n",
      " &  &  & \\texttt{NEGATIVE} & 0.642 & 0.935 & 0.636 & 0.648 \\\\\n",
      " &  &  & \\texttt{NEUTRAL} & 0.145 & 0.902 & 0.082 & 0.625 \\\\\n",
      "\\arrayrulecolor{gray}\\cline{3-8}\\arrayrulecolor{black}\n",
      " &  &  & \\texttt{POSITIVE} & 0.578 & 0.937 & 0.531 & 0.634 \\\\\n",
      " &  &  & \\texttt{NEGATIVE} & 0.635 & 0.923 & 0.656 & 0.615 \\\\\n",
      " &  & \\multirow{3}{*}{\\texttt{PRICE}} & \\texttt{NEUTRAL} & 0.500 & 0.923 & 0.383 & 0.719 \\\\\n",
      "\\arrayrulecolor{gray}\\cline{3-8}\\arrayrulecolor{black}\n",
      "\\cline{2-8}\n",
      "\\hline\n",
      "\\multirow{30}{*}{\\textbf{GPT-3.5-turbo}} & \\multirow{15}{*}{\\textbf{LRS\\textsubscript{25}}} & \\multirow{3}{*}{\\texttt{GENERAL-IMPRESSION}} & \\texttt{POSITIVE} & 0.818 & 0.967 & 0.738 & 0.918 \\\\\n",
      " &  &  & \\texttt{NEGATIVE} & 0.895 & 0.982 & 0.855 & 0.940 \\\\\n",
      " &  &  & \\texttt{NEUTRAL} & 0.885 & 0.978 & 0.806 & 0.980 \\\\\n",
      "\\arrayrulecolor{gray}\\cline{3-8}\\arrayrulecolor{black}\n",
      " &  &  & \\texttt{POSITIVE} & 0.847 & 0.965 & 1.000 & 0.734 \\\\\n",
      " &  &  & \\texttt{NEGATIVE} & 0.982 & 0.997 & 0.982 & 0.982 \\\\\n",
      " &  & \\multirow{3}{*}{\\texttt{FOOD}} & \\texttt{NEUTRAL} & 0.956 & 0.992 & 0.931 & 0.982 \\\\\n",
      "\\arrayrulecolor{gray}\\cline{3-8}\\arrayrulecolor{black}\n",
      " &  &  & \\texttt{POSITIVE} & 0.918 & 0.983 & 0.933 & 0.903 \\\\\n",
      " &  & \\multirow{3}{*}{\\texttt{SERVICE}} & \\texttt{NEGATIVE} & 0.968 & 0.993 & 0.984 & 0.952 \\\\\n",
      " &  &  & \\texttt{NEUTRAL} & 0.939 & 0.987 & 0.886 & 1.000 \\\\\n",
      "\\arrayrulecolor{gray}\\cline{3-8}\\arrayrulecolor{black}\n",
      " &  & \\multirow{3}{*}{\\texttt{AMBIENCE}} & \\texttt{POSITIVE} & 0.844 & 0.972 & 0.958 & 0.754 \\\\\n",
      " &  &  & \\texttt{NEGATIVE} & 0.917 & 0.982 & 0.938 & 0.897 \\\\\n",
      " &  &  & \\texttt{NEUTRAL} & 0.795 & 0.972 & 0.688 & 0.943 \\\\\n",
      "\\arrayrulecolor{gray}\\cline{3-8}\\arrayrulecolor{black}\n",
      " &  &  & \\texttt{POSITIVE} & 0.659 & 0.900 & 0.841 & 0.542 \\\\\n",
      " &  &  & \\texttt{NEGATIVE} & 0.905 & 0.978 & 0.969 & 0.849 \\\\\n",
      " &  & \\multirow{3}{*}{\\texttt{PRICE}} & \\texttt{NEUTRAL} & 0.258 & 0.885 & 0.150 & 0.923 \\\\\n",
      "\\arrayrulecolor{gray}\\cline{3-8}\\arrayrulecolor{black}\n",
      "\\cline{2-8}\n",
      " & \\multirow{15}{*}{\\textbf{LRS\\textsubscript{500}}} & \\multirow{3}{*}{\\texttt{GENERAL-IMPRESSION}} & \\texttt{POSITIVE} & 0.880 & 0.980 & 0.830 & 0.936 \\\\\n",
      " &  &  & \\texttt{NEGATIVE} & 0.900 & 0.983 & 0.882 & 0.918 \\\\\n",
      " &  &  & \\texttt{NEUTRAL} & 0.854 & 0.977 & 0.759 & 0.976 \\\\\n",
      "\\arrayrulecolor{gray}\\cline{3-8}\\arrayrulecolor{black}\n",
      " &  &  & \\texttt{POSITIVE} & 0.808 & 0.952 & 0.984 & 0.685 \\\\\n",
      " &  &  & \\texttt{NEGATIVE} & 0.958 & 0.992 & 0.966 & 0.950 \\\\\n",
      " &  & \\multirow{3}{*}{\\texttt{FOOD}} & \\texttt{NEUTRAL} & 0.909 & 0.987 & 0.952 & 0.870 \\\\\n",
      "\\arrayrulecolor{gray}\\cline{3-8}\\arrayrulecolor{black}\n",
      " &  &  & \\texttt{POSITIVE} & 0.938 & 0.988 & 0.946 & 0.930 \\\\\n",
      " &  & \\multirow{3}{*}{\\texttt{SERVICE}} & \\texttt{NEGATIVE} & 0.940 & 0.990 & 0.940 & 0.940 \\\\\n",
      " &  &  & \\texttt{NEUTRAL} & 0.959 & 0.992 & 0.935 & 0.983 \\\\\n",
      "\\arrayrulecolor{gray}\\cline{3-8}\\arrayrulecolor{black}\n",
      " &  & \\multirow{3}{*}{\\texttt{AMBIENCE}} & \\texttt{POSITIVE} & 0.857 & 0.975 & 0.957 & 0.776 \\\\\n",
      " &  &  & \\texttt{NEGATIVE} & 0.940 & 0.990 & 0.940 & 0.940 \\\\\n",
      " &  &  & \\texttt{NEUTRAL} & 0.879 & 0.982 & 0.800 & 0.976 \\\\\n",
      "\\arrayrulecolor{gray}\\cline{3-8}\\arrayrulecolor{black}\n",
      " &  &  & \\texttt{POSITIVE} & 0.559 & 0.895 & 0.656 & 0.488 \\\\\n",
      " &  &  & \\texttt{NEGATIVE} & 0.835 & 0.965 & 0.981 & 0.726 \\\\\n",
      " &  & \\multirow{3}{*}{\\texttt{PRICE}} & \\texttt{NEUTRAL} & 0.203 & 0.922 & 0.113 & 1.000 \\\\\n",
      "\\arrayrulecolor{gray}\\cline{3-8}\\arrayrulecolor{black}\n",
      "\\cline{2-8}\n",
      "\\hline\n"
     ]
    }
   ],
   "source": [
    "def category_polarity_list_to_label(cat_polarity_list):\n",
    "    return [1 if cat_polarity in cat_polarity_list else 0 for cat_polarity in AC_POLARITY_COMBINATIONS]\n",
    "\n",
    "\n",
    "for llm_idx, llm in enumerate(LLMS):\n",
    "    for fs_idx, fs in enumerate(FEW_SHOT_CONDITIONS):\n",
    "        llm_annotations_ac_pol = [category_polarity_list_to_label(\n",
    "            [tag[\"aspect_category\"] + \"_\" + tag[\"aspect_polarity\"] for tag in example]) for example in dataset[llm][fs][\"llm_annotation\"]]\n",
    "        human_annotations_ac_pol = [category_polarity_list_to_label(\n",
    "            [tag[\"aspect_category\"] + \"_\" + tag[\"aspect_polarity\"] for tag in example]) for example in dataset[llm][fs][\"human_annotation\"]]\n",
    "\n",
    "        for ac_pol_idx, ac_pol_combination in enumerate(AC_POLARITY_COMBINATIONS):\n",
    "            idx = AC_POLARITY_COMBINATIONS.index(ac_pol_combination)\n",
    "\n",
    "            tp = sum((llm_annotations_ac_pol[i][idx] == 1) and (\n",
    "                human_annotations_ac_pol[i][idx] == 1) for i in range(len(llm_annotations_ac_pol)))\n",
    "            fp = sum((llm_annotations_ac_pol[i][idx] == 1) and (\n",
    "                human_annotations_ac_pol[i][idx] == 0) for i in range(len(llm_annotations_ac_pol)))\n",
    "            fn = sum((llm_annotations_ac_pol[i][idx] == 0) and (\n",
    "                human_annotations_ac_pol[i][idx] == 1) for i in range(len(llm_annotations_ac_pol)))\n",
    "\n",
    "            precision = tp / (tp + fp) if (tp + fp) > 0 else 0\n",
    "            recall = tp / (tp + fn) if (tp + fn) > 0 else 0\n",
    "            accuracy = accuracy_score([example[idx] for example in human_annotations_ac_pol], [\n",
    "                                      example[idx] for example in llm_annotations_ac_pol])\n",
    "            try:\n",
    "                f1 = 2 * tp / (2 * tp + fn + fp)\n",
    "            except:\n",
    "                f1 = 0\n",
    "\n",
    "            n_samples_in_class = sum(\n",
    "                example[idx] == 1 for example in human_annotations_ac_pol)\n",
    "\n",
    "            aspect_category, sentiment_polarity = ac_pol_combination.split(\"_\")\n",
    "\n",
    "            llm_print = \"\\\\multirow{30}{*}{\" + \\\n",
    "                LLMS_ENCODED[llm] + \\\n",
    "                \"}\" if fs_idx == 0 and ac_pol_idx == 0 else \"\"\n",
    "            fs_print = \"\\\\multirow{15}{*}{\" + \\\n",
    "                ENCODE_CONDITION[fs] + \"}\" if ac_pol_idx == 0 else \"\"\n",
    "            ac_print = \"\\\\multirow{3}{*}{\" + \"\\\\texttt{\" + \\\n",
    "                aspect_category+\"}\" + \"}\" if ac_pol_idx % 3 == 0 else \"\"\n",
    "\n",
    "            if sentiment_polarity != \"CONFLICT\":\n",
    "                print(llm_print,\n",
    "                      \"&\", fs_print,\n",
    "                      \"&\", ac_print,\n",
    "                      \"&\", \"\\\\texttt{\"+sentiment_polarity+\"}\",\n",
    "                      \"&\", \"{:.3f}\".format(f1),\n",
    "                      \"&\", \"{:.3f}\".format(accuracy),\n",
    "                      \"&\", \"{:.3f}\".format(precision),\n",
    "                      \"&\", \"{:.3f}\".format(recall), \"\\\\\\\\\")\n",
    "\n",
    "            if ac_pol_idx % 4 == 2:\n",
    "                print(\n",
    "                    \"\\\\arrayrulecolor{gray}\\cline{3-8}\\\\arrayrulecolor{black}\")\n",
    "\n",
    "        print(\"\\\\cline{2-8}\")\n",
    "    print(\"\\\\hline\")"
   ]
  },
  {
   "cell_type": "markdown",
   "metadata": {},
   "source": [
    "#### Aspect Term + Sentiment Polarity"
   ]
  },
  {
   "cell_type": "code",
   "execution_count": 195,
   "metadata": {},
   "outputs": [],
   "source": [
    "def calculate_tp_tn_fp_fn_e2e(pred, label):\n",
    "    pred_set = set(\n",
    "        f\"{range['start']}_{range['end']}_{range['polarity']}\" for range in pred)\n",
    "    label_set = set(\n",
    "        f\"{range['start']}_{range['end']}_{range['polarity']}\" for range in label)\n",
    "\n",
    "    tp_set = pred_set & label_set\n",
    "    tp = len(tp_set)\n",
    "\n",
    "    fp_set = pred_set - tp_set\n",
    "    fp = len(fp_set)\n",
    "\n",
    "    fn_set = label_set - tp_set\n",
    "    fn = len(fn_set)\n",
    "\n",
    "    return tp, 0, fp, fn"
   ]
  },
  {
   "cell_type": "code",
   "execution_count": 196,
   "metadata": {},
   "outputs": [],
   "source": [
    "def calculate_tp_tn_fp_fn_e2e_total(pred_total, label_total):\n",
    "    tp_total = tn_total = fp_total = fn_total = 0\n",
    "    for i in range(len(label_total)):\n",
    "        tp, tn, fp, fn = calculate_tp_tn_fp_fn_e2e(\n",
    "            pred_total[i], label_total[i])\n",
    "        tp_total += tp\n",
    "        tn_total += tn\n",
    "        fp_total += fp\n",
    "        fn_total += fn\n",
    "    return tp_total, tn_total, fp_total, fn_total"
   ]
  },
  {
   "cell_type": "code",
   "execution_count": 197,
   "metadata": {},
   "outputs": [],
   "source": [
    "def f1_macro_e2e(llm_annotations_aspect_terms, human_annotations_aspect_terms):\n",
    "    f1_scores = []\n",
    "    for pol in [\"POSITIVE\", \"NEGATIVE\", \"NEUTRAL\", \"CONFLICT\"]:\n",
    "        llm_annotations_class = [[tag for tag in example if tag[\"polarity\"] == pol]\n",
    "                                 for example in llm_annotations_aspect_terms]\n",
    "        human_annotations_class = [[tag for tag in example if tag[\"polarity\"] == pol]\n",
    "                                   for example in human_annotations_aspect_terms]\n",
    "        \n",
    "        tp_total, tn_total, fp_total, fn_total = calculate_tp_tn_fp_fn_e2e_total(llm_annotations_class, human_annotations_class)\n",
    "        f1_scores.append(2 * tp_total / (2 * tp_total + fn_total + fp_total))\n",
    "    return np.mean(f1_scores)"
   ]
  },
  {
   "cell_type": "code",
   "execution_count": 198,
   "metadata": {},
   "outputs": [
    {
     "name": "stdout",
     "output_type": "stream",
     "text": [
      "\\multirow{2}{*}{\\textbf{Llama-2-70B}} & \\textbf{LRS\\textsubscript{25}} & 0.546 & 0.387 & 0.375 \\\\\n",
      " & \\textbf{LRS\\textsubscript{500}} & 0.541 & 0.384 & 0.371 \\\\\n",
      "\\hline\n",
      "\\multirow{2}{*}{\\textbf{GPT-3.5-turbo}} & \\textbf{LRS\\textsubscript{25}} & 0.676 & 0.505 & 0.511 \\\\\n",
      " & \\textbf{LRS\\textsubscript{500}} & 0.669 & 0.498 & 0.502 \\\\\n",
      "\\hline\n"
     ]
    }
   ],
   "source": [
    "for llm_idx, llm in enumerate(LLMS):\n",
    "    for fs_idx, fs in enumerate(FEW_SHOT_CONDITIONS):\n",
    "        llm_annotations_aspect_terms = [\n",
    "            [{\"start\": tag[\"start\"], \"end\": tag[\"end\"], \"polarity\": tag[\"aspect_polarity\"]} for tag in example if tag[\"aspect_term\"] is not None] for example in dataset[llm][fs][\"llm_annotation\"]]\n",
    "        human_annotations_aspect_terms = [\n",
    "            [{\"start\": tag[\"start\"], \"end\": tag[\"end\"], \"polarity\": tag[\"aspect_polarity\"]} for tag in example if tag[\"aspect_term\"] is not None] for example in dataset[llm][fs][\"human_annotation\"]]\n",
    "\n",
    "        tp_total, tn_total, fp_total, fn_total = calculate_tp_tn_fp_fn_e2e_total(\n",
    "            llm_annotations_aspect_terms, human_annotations_aspect_terms)\n",
    "\n",
    "        # Calculate metrics\n",
    "        accuracy = (tp_total + tn_total) / (tp_total + tn_total + fp_total +\n",
    "                                            fn_total) if (tp_total + tn_total + fp_total + fn_total) > 0 else 0\n",
    "        precision = tp_total / \\\n",
    "            (tp_total + fp_total) if (tp_total + fp_total) > 0 else 0\n",
    "        recall = tp_total / \\\n",
    "            (tp_total + fn_total) if (tp_total + fn_total) > 0 else 0\n",
    "\n",
    "        f1_micro = 2 * tp_total / (2 * tp_total + fn_total + fp_total)\n",
    "\n",
    "        f1_macro = f1_macro_e2e(\n",
    "            llm_annotations_aspect_terms, human_annotations_aspect_terms)\n",
    "\n",
    "        llm_print = \"\\\\multirow{2}{*}{\" + \\\n",
    "            LLMS_ENCODED[llm] + \"}\" if fs_idx == 0 else \"\"\n",
    "\n",
    "        print(llm_print, \"&\", ENCODE_CONDITION[fs],\n",
    "              \"&\", \"{:.3f}\".format(f1_micro),\n",
    "              \"&\", \"{:.3f}\".format(f1_macro),\n",
    "              \"&\", \"{:.3f}\".format(accuracy), \"\\\\\\\\\")\n",
    "    print(\"\\hline\")"
   ]
  },
  {
   "cell_type": "markdown",
   "metadata": {},
   "source": [
    "#### Aspect Term + Aspect Category + Sentiment Polarity"
   ]
  },
  {
   "cell_type": "code",
   "execution_count": 199,
   "metadata": {},
   "outputs": [
    {
     "name": "stdout",
     "output_type": "stream",
     "text": [
      "\\multirow{2}{*}{\\textbf{Llama-2-70B}} & \\textbf{LRS\\textsubscript{25}} & 0.403 & 0.252 & 0.367 & 0.445 \\\\\n",
      " & \\textbf{LRS\\textsubscript{500}} & 0.436 & 0.279 & 0.400 & 0.479 \\\\\n",
      "\\hline\n",
      "\\multirow{2}{*}{\\textbf{GPT-3.5-turbo}} & \\textbf{LRS\\textsubscript{25}} & 0.567 & 0.395 & 0.554 & 0.580 \\\\\n",
      " & \\textbf{LRS\\textsubscript{500}} & 0.563 & 0.392 & 0.559 & 0.567 \\\\\n",
      "\\hline\n"
     ]
    }
   ],
   "source": [
    "for llm_idx, llm in enumerate(LLMS):\n",
    "    for fs_idx, fs in enumerate(FEW_SHOT_CONDITIONS):\n",
    "        metrics_triplets = calculate_metrics_for_examples(\n",
    "            dataset[llm][fs][\"human_annotation\"], dataset[llm][fs][\"llm_annotation\"])\n",
    "\n",
    "        llm_print = \"\\\\multirow{2}{*}{\" + \\\n",
    "            LLMS_ENCODED[llm] + \"}\" if fs_idx == 0 else \"\"\n",
    "        print(llm_print,\n",
    "              \"&\", ENCODE_CONDITION[fs],\n",
    "              \"&\", \"{:.3f}\".format(metrics_triplets[\"f1\"]),\n",
    "              \"&\", \"{:.3f}\".format(metrics_triplets[\"accuracy\"]),\n",
    "              \"&\", \"{:.3f}\".format(metrics_triplets[\"precision\"]),\n",
    "              \"&\", \"{:.3f}\".format(metrics_triplets[\"recall\"]), \"\\\\\\\\\")\n",
    "\n",
    "    print(\"\\\\hline\")"
   ]
  }
 ],
 "metadata": {
  "kernelspec": {
   "display_name": "tensorflow_m1",
   "language": "python",
   "name": "python3"
  },
  "language_info": {
   "codemirror_mode": {
    "name": "ipython",
    "version": 3
   },
   "file_extension": ".py",
   "mimetype": "text/x-python",
   "name": "python",
   "nbconvert_exporter": "python",
   "pygments_lexer": "ipython3",
   "version": "3.11.3"
  }
 },
 "nbformat": 4,
 "nbformat_minor": 2
}
