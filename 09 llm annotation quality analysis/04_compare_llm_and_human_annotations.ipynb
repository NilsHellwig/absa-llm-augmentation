{
 "cells": [
  {
   "cell_type": "markdown",
   "metadata": {},
   "source": [
    "# Notebook: Compare LLM and Human Annotations"
   ]
  },
  {
   "cell_type": "markdown",
   "metadata": {},
   "source": [
    "## Packages"
   ]
  },
  {
   "cell_type": "code",
   "execution_count": 1,
   "metadata": {},
   "outputs": [],
   "source": [
    "from sklearn.metrics import precision_score, recall_score, accuracy_score, f1_score\n",
    "import numpy as np\n",
    "import json\n",
    "import sys\n",
    "import os"
   ]
  },
  {
   "cell_type": "code",
   "execution_count": 2,
   "metadata": {},
   "outputs": [],
   "source": [
    "sys.path.append(os.path.abspath('../07 train models/'))\n",
    "from TASD.evaluation import calculate_metrics_for_examples\n",
    "import constants"
   ]
  },
  {
   "cell_type": "markdown",
   "metadata": {},
   "source": [
    "## Settings"
   ]
  },
  {
   "cell_type": "code",
   "execution_count": 3,
   "metadata": {},
   "outputs": [],
   "source": [
    "LLMS = [\"Llama70B\", \"GPT-3\"]\n",
    "FEW_SHOT_CONDITIONS = [\"random\", \"fixed\"]\n",
    "AC_POLARITY_COMBINATIONS = [cat+\"_\"+polarity for cat in constants.ASPECT_CATEGORIES for polarity in constants.POLARITIES]"
   ]
  },
  {
   "cell_type": "code",
   "execution_count": 4,
   "metadata": {},
   "outputs": [],
   "source": [
    "LLMS_ENCODED = {\"GPT-3\": \"\\\\textbf{GPT-3.5-turbo}\", \"Llama70B\": \"\\\\textbf{Llama-2-70B}\"}\n",
    "ENCODE_CONDITION = {\"fixed\": \"\\\\textbf{LRS\\\\textsubscript{25}}\",\n",
    "                    \"random\": \"\\\\textbf{LRS\\\\textsubscript{500}}\"}"
   ]
  },
  {
   "cell_type": "markdown",
   "metadata": {},
   "source": [
    "## Code"
   ]
  },
  {
   "cell_type": "markdown",
   "metadata": {},
   "source": [
    "### Load Data"
   ]
  },
  {
   "cell_type": "markdown",
   "metadata": {},
   "source": [
    "#### Human Annotations"
   ]
  },
  {
   "cell_type": "code",
   "execution_count": 5,
   "metadata": {},
   "outputs": [],
   "source": [
    "with open(f\"annotation_datasets/annotated_synth_dataset.json\", 'r') as json_file:\n",
    "    human_annotations = json.load(json_file)    "
   ]
  },
  {
   "cell_type": "markdown",
   "metadata": {},
   "source": [
    "#### Load Synthetic "
   ]
  },
  {
   "cell_type": "code",
   "execution_count": 6,
   "metadata": {},
   "outputs": [],
   "source": [
    "llm_annotations = []\n",
    "\n",
    "for llm in LLMS:\n",
    "    for fs in [\"random\", \"fixed\"]:\n",
    "       for split_id in range(6):\n",
    "           with open(f\"../07 train models/synth/{llm}/{fs}/split_{split_id}.json\", 'r') as json_file:\n",
    "              synthetic_data_split = json.load(json_file)\n",
    "              for example in  synthetic_data_split:\n",
    "                  llm_annotations.append(example)    "
   ]
  },
  {
   "cell_type": "code",
   "execution_count": 7,
   "metadata": {},
   "outputs": [],
   "source": [
    "llm_annotations_aspects = [([{\"aspect_category\": tag[\"label\"], \"aspect_polarity\": tag[\"polarity\"],\n",
    "                              \"aspect_term\": tag[\"text\"] if tag[\"text\"] != 'NULL' else None, \"start\": tag[\"start\"], \"end\": tag[\"end\"]} for tag in example[\"tags\"]], example[\"id\"]) for example in llm_annotations]\n",
    "human_annotations_aspects = [([{\"aspect_category\": tag[\"label\"], \"aspect_polarity\": tag[\"polarity\"], \"aspect_term\": tag[\"text\"]\n",
    "                                if tag[\"text\"] != 'NULL' else None, \"start\": tag[\"start\"], \"end\": tag[\"end\"]} for tag in example[\"tags\"]], example[\"id\"], example[\"model\"], example[\"few_shot_condtion\"]) for example in human_annotations]"
   ]
  },
  {
   "cell_type": "code",
   "execution_count": 8,
   "metadata": {},
   "outputs": [],
   "source": [
    "dataset = {}"
   ]
  },
  {
   "cell_type": "code",
   "execution_count": 9,
   "metadata": {},
   "outputs": [],
   "source": [
    "def get_example_with_id(id, dataset):\n",
    "    return [example for example in dataset if example[1] == id][0][0]\n",
    "\n",
    "for llm in LLMS:\n",
    "    dataset[llm] = {}\n",
    "    for fs in FEW_SHOT_CONDITIONS:\n",
    "        dataset[llm][fs] = {}\n",
    "        human_annotations_aspects_ids = [example[1] for example in human_annotations_aspects if example[2] == llm and example[3] == fs]\n",
    "        human_annotations_samples = [example[0] for example in human_annotations_aspects if example[2] == llm and example[3] == fs]\n",
    "        llm_annotations_samples = [get_example_with_id(id, llm_annotations_aspects) for id in human_annotations_aspects_ids]\n",
    "\n",
    "        dataset[llm][fs][\"human_annotation\"] = human_annotations_samples\n",
    "        dataset[llm][fs][\"llm_annotation\"] = llm_annotations_samples"
   ]
  },
  {
   "cell_type": "markdown",
   "metadata": {},
   "source": [
    "### Analyse Quality"
   ]
  },
  {
   "cell_type": "markdown",
   "metadata": {},
   "source": [
    "#### Aspect Term Detection"
   ]
  },
  {
   "cell_type": "code",
   "execution_count": 10,
   "metadata": {},
   "outputs": [],
   "source": [
    "def calculate_tp_tn_fp_fn_aspect_term(pred, label):\n",
    "    pred_set = set(\n",
    "        f\"{range['start']}_{range['end']}\" for range in pred)\n",
    "    label_set = set(\n",
    "        f\"{range['start']}_{range['end']}\" for range in label)\n",
    "\n",
    "    tp_set = pred_set & label_set\n",
    "    tp = len(tp_set)\n",
    "\n",
    "    fp_set = pred_set - tp_set\n",
    "    fp = len(fp_set)\n",
    "\n",
    "    fn_set = label_set - tp_set\n",
    "    fn = len(fn_set)\n",
    "\n",
    "    return tp, 0, fp, fn\n"
   ]
  },
  {
   "cell_type": "code",
   "execution_count": 11,
   "metadata": {},
   "outputs": [
    {
     "name": "stdout",
     "output_type": "stream",
     "text": [
      "\\multirow{2}{*}{\\textbf{Llama-2-70B}} & \\textbf{LRS\\textsubscript{500}} & 0.708 & 0.829 & 0.868 & 0.793 \\\\\n",
      " & \\textbf{LRS\\textsubscript{25}} & 0.698 & 0.822 & 0.882 & 0.770 \\\\\n",
      "\\hline\n",
      "\\multirow{2}{*}{\\textbf{GPT-3.5-turbo}} & \\textbf{LRS\\textsubscript{500}} & 0.579 & 0.733 & 0.932 & 0.604 \\\\\n",
      " & \\textbf{LRS\\textsubscript{25}} & 0.603 & 0.752 & 0.916 & 0.638 \\\\\n",
      "\\hline\n"
     ]
    }
   ],
   "source": [
    "for llm_idx, llm in enumerate(LLMS):\n",
    "    for fs_idx, fs in enumerate(FEW_SHOT_CONDITIONS):\n",
    "        llm_annotations_aspect_terms = [\n",
    "            [{\"start\": tag[\"start\"], \"end\": tag[\"end\"]} for tag in example if tag[\"aspect_term\"] is not None] for example in dataset[llm][fs][\"llm_annotation\"]]\n",
    "        human_annotations_aspect_terms = [\n",
    "            [{\"start\": tag[\"start\"], \"end\": tag[\"end\"]} for tag in example if tag[\"aspect_term\"] is not None] for example in dataset[llm][fs][\"human_annotation\"]]\n",
    "\n",
    "        tp_total = tn_total = fp_total = fn_total = 0\n",
    "        for i in range(len(human_annotations_aspect_terms)):\n",
    "            tp, tn, fp, fn = calculate_tp_tn_fp_fn_aspect_term(\n",
    "                llm_annotations_aspect_terms[i], human_annotations_aspect_terms[i])\n",
    "            tp_total += tp\n",
    "            tn_total += tn\n",
    "            fp_total += fp\n",
    "            fn_total += fn\n",
    "\n",
    "        # Calculate metrics\n",
    "        accuracy = (tp_total + tn_total) / (tp_total + tn_total + fp_total +\n",
    "                                            fn_total) if (tp_total + tn_total + fp_total + fn_total) > 0 else 0\n",
    "        precision = tp_total / \\\n",
    "            (tp_total + fp_total) if (tp_total + fp_total) > 0 else 0\n",
    "        recall = tp_total / \\\n",
    "            (tp_total + fn_total) if (tp_total + fn_total) > 0 else 0\n",
    "\n",
    "        f1 = 2 * tp_total / (2 * tp_total + fn_total + fp_total)\n",
    "\n",
    "        llm_print = \"\\\\multirow{2}{*}{\" + LLMS_ENCODED[llm] + \"}\" if fs_idx == 0 else \"\"\n",
    "\n",
    "        fs_print = ENCODE_CONDITION[fs]\n",
    "        \n",
    "        print(llm_print, \"&\", fs_print,\n",
    "              \"&\", \"{:.3f}\".format(accuracy),\n",
    "              \"&\", \"{:.3f}\".format(f1),\n",
    "              \"&\", \"{:.3f}\".format(precision),\n",
    "              \"&\", \"{:.3f}\".format(recall), \"\\\\\\\\\")\n",
    "    print(\"\\hline\")"
   ]
  },
  {
   "cell_type": "markdown",
   "metadata": {},
   "source": [
    "#### Aspect Category"
   ]
  },
  {
   "cell_type": "code",
   "execution_count": 12,
   "metadata": {},
   "outputs": [],
   "source": [
    "def category_list_to_label(cat_list):\n",
    "    return [1 if cat in cat_list else 0 for cat in constants.ASPECT_CATEGORIES]"
   ]
  },
  {
   "cell_type": "code",
   "execution_count": 13,
   "metadata": {},
   "outputs": [
    {
     "name": "stdout",
     "output_type": "stream",
     "text": [
      "\\multirow{2}{*}{\\textbf{Llama-2-70B}} & \\textbf{LRS\\textsubscript{500}} & 0.721 & 0.818 & 0.809 \\\\\n",
      " & \\textbf{LRS\\textsubscript{25}} & 0.635 & 0.770 & 0.761 \\\\\n",
      "\\hline\n",
      "\\multirow{2}{*}{\\textbf{GPT-3.5-turbo}} & \\textbf{LRS\\textsubscript{500}} & 0.909 & 0.953 & 0.953 \\\\\n",
      " & \\textbf{LRS\\textsubscript{25}} & 0.919 & 0.959 & 0.958 \\\\\n",
      "\\hline\n"
     ]
    }
   ],
   "source": [
    "for llm_idx, llm in enumerate(LLMS):\n",
    "    for fs_idx, fs in enumerate(FEW_SHOT_CONDITIONS):\n",
    "        llm_annotations_aspect_categories = [category_list_to_label(\n",
    "            [tag[\"aspect_category\"] for tag in example]) for example in dataset[llm][fs][\"llm_annotation\"]]\n",
    "        human_annotations_aspect_categories = [category_list_to_label(\n",
    "            [tag[\"aspect_category\"] for tag in example]) for example in dataset[llm][fs][\"human_annotation\"]]\n",
    "\n",
    "        accuracy = accuracy_score(\n",
    "            human_annotations_aspect_categories, llm_annotations_aspect_categories)\n",
    "        f1_micro = f1_score(human_annotations_aspect_categories,\n",
    "                            llm_annotations_aspect_categories, average='micro')\n",
    "        f1_macro = f1_score(human_annotations_aspect_categories,\n",
    "                            llm_annotations_aspect_categories, average='macro')\n",
    "\n",
    "        llm_print = \"\\\\multirow{2}{*}{\" + LLMS_ENCODED[llm] + \"}\" if fs_idx == 0 else \"\"\n",
    "\n",
    "        print(llm_print, \"&\", ENCODE_CONDITION[fs],\n",
    "              \"&\", \"{:.3f}\".format(accuracy),\n",
    "              \"&\", \"{:.3f}\".format(f1_micro),\n",
    "              \"&\", \"{:.3f}\".format(f1_macro), \"\\\\\\\\\")\n",
    "    print(\"\\\\hline\")"
   ]
  },
  {
   "cell_type": "markdown",
   "metadata": {},
   "source": [
    "#### Aspect Category (performance for each Aspect Category)"
   ]
  },
  {
   "cell_type": "code",
   "execution_count": 14,
   "metadata": {},
   "outputs": [
    {
     "name": "stdout",
     "output_type": "stream",
     "text": [
      "\\multirow{10}{*}{\\textbf{Llama-2-70B}} & \\multirow{5}{*}{\\textbf{LRS\\textsubscript{500}}} & \\texttt{GENERAL-IMPRESSION} & 0.607 & 0.842 & 0.468 & 0.862 \\\\\n",
      " &  & \\texttt{FOOD} & 0.776 & 0.870 & 0.871 & 0.700 \\\\\n",
      " &  & \\texttt{SERVICE} & 0.872 & 0.929 & 0.904 & 0.842 \\\\\n",
      " &  & \\texttt{AMBIENCE} & 0.880 & 0.937 & 0.875 & 0.885 \\\\\n",
      " &  & \\texttt{PRICE} & 0.911 & 0.955 & 0.865 & 0.963 \\\\\n",
      "\\arrayrulecolor{gray}\\cline{2-7}\\arrayrulecolor{black}\n",
      " & \\multirow{5}{*}{\\textbf{LRS\\textsubscript{25}}} & \\texttt{GENERAL-IMPRESSION} & 0.568 & 0.811 & 0.456 & 0.755 \\\\\n",
      " &  & \\texttt{FOOD} & 0.758 & 0.850 & 0.872 & 0.671 \\\\\n",
      " &  & \\texttt{SERVICE} & 0.834 & 0.905 & 0.810 & 0.859 \\\\\n",
      " &  & \\texttt{AMBIENCE} & 0.786 & 0.884 & 0.820 & 0.754 \\\\\n",
      " &  & \\texttt{PRICE} & 0.861 & 0.920 & 0.804 & 0.927 \\\\\n",
      "\\arrayrulecolor{gray}\\cline{2-7}\\arrayrulecolor{black}\n",
      "\\hline\n",
      "\\multirow{10}{*}{\\textbf{GPT-3.5-turbo}} & \\multirow{5}{*}{\\textbf{LRS\\textsubscript{500}}} & \\texttt{GENERAL-IMPRESSION} & 0.940 & 0.971 & 0.896 & 0.988 \\\\\n",
      " &  & \\texttt{FOOD} & 0.899 & 0.944 & 0.994 & 0.821 \\\\\n",
      " &  & \\texttt{SERVICE} & 0.974 & 0.986 & 0.990 & 0.960 \\\\\n",
      " &  & \\texttt{AMBIENCE} & 0.963 & 0.982 & 0.983 & 0.945 \\\\\n",
      " &  & \\texttt{PRICE} & 0.989 & 0.994 & 0.984 & 0.995 \\\\\n",
      "\\arrayrulecolor{gray}\\cline{2-7}\\arrayrulecolor{black}\n",
      " & \\multirow{5}{*}{\\textbf{LRS\\textsubscript{25}}} & \\texttt{GENERAL-IMPRESSION} & 0.933 & 0.964 & 0.896 & 0.973 \\\\\n",
      " &  & \\texttt{FOOD} & 0.932 & 0.961 & 0.990 & 0.881 \\\\\n",
      " &  & \\texttt{SERVICE} & 0.982 & 0.989 & 0.995 & 0.968 \\\\\n",
      " &  & \\texttt{AMBIENCE} & 0.946 & 0.972 & 0.989 & 0.907 \\\\\n",
      " &  & \\texttt{PRICE} & 0.998 & 0.999 & 0.995 & 1.000 \\\\\n",
      "\\arrayrulecolor{gray}\\cline{2-7}\\arrayrulecolor{black}\n",
      "\\hline\n"
     ]
    }
   ],
   "source": [
    "def category_list_to_label(cat_list):\n",
    "    return [1 if cat in cat_list else 0 for cat in constants.ASPECT_CATEGORIES]\n",
    "\n",
    "\n",
    "for llm_idx, llm in enumerate(LLMS):\n",
    "    for fs_idx, fs in enumerate(FEW_SHOT_CONDITIONS):\n",
    "        llm_annotations_aspect_categories = [category_list_to_label(\n",
    "            [tag[\"aspect_category\"] for tag in example]) for example in dataset[llm][fs][\"llm_annotation\"]]\n",
    "        human_annotations_aspect_categories = [category_list_to_label(\n",
    "            [tag[\"aspect_category\"] for tag in example]) for example in dataset[llm][fs][\"human_annotation\"]]\n",
    "\n",
    "        for ac_idx, aspect_category in enumerate(constants.ASPECT_CATEGORIES):\n",
    "            idx = constants.ASPECT_CATEGORIES.index(aspect_category)\n",
    "\n",
    "            tp = sum((llm_annotations_aspect_categories[i][idx] == 1) and (\n",
    "                human_annotations_aspect_categories[i][idx] == 1) for i in range(len(llm_annotations_aspect_categories)))\n",
    "            fp = sum((llm_annotations_aspect_categories[i][idx] == 1) and (\n",
    "                human_annotations_aspect_categories[i][idx] == 0) for i in range(len(llm_annotations_aspect_categories)))\n",
    "            fn = sum((llm_annotations_aspect_categories[i][idx] == 0) and (\n",
    "                human_annotations_aspect_categories[i][idx] == 1) for i in range(len(llm_annotations_aspect_categories)))\n",
    "\n",
    "            precision = tp / (tp + fp) if (tp + fp) > 0 else 0\n",
    "            recall = tp / (tp + fn) if (tp + fn) > 0 else 0\n",
    "            accuracy = accuracy_score([example[idx] for example in human_annotations_aspect_categories], [\n",
    "                                      example[idx] for example in llm_annotations_aspect_categories])\n",
    "\n",
    "            f1 = 2 * tp / (2 * tp + fn + fp)\n",
    "\n",
    "            n_samples_in_class = sum(\n",
    "                example[idx] == 1 for example in human_annotations_aspect_categories)\n",
    "\n",
    "            llm_print = \"\\\\multirow{10}{*}{\" + \\\n",
    "                LLMS_ENCODED[llm] + \"}\" if fs_idx == 0 and ac_idx == 0 else \"\"\n",
    "            fs_print = \"\\\\multirow{5}{*}{\" + \\\n",
    "                ENCODE_CONDITION[fs] + \"}\" if ac_idx == 0 else \"\"\n",
    "\n",
    "            print(llm_print, \"&\", fs_print,\n",
    "                  \"&\", \"\\\\texttt{\"+aspect_category+\"}\",\n",
    "                  \"&\", \"{:.3f}\".format(f1),\n",
    "                  \"&\", \"{:.3f}\".format(accuracy),\n",
    "                  \"&\", \"{:.3f}\".format(precision),\n",
    "                  \"&\", \"{:.3f}\".format(recall), \"\\\\\\\\\")\n",
    "\n",
    "        print(\"\\\\arrayrulecolor{gray}\\cline{2-7}\\\\arrayrulecolor{black}\")\n",
    "\n",
    "    print(\"\\\\hline\")"
   ]
  },
  {
   "cell_type": "markdown",
   "metadata": {},
   "source": [
    "#### Aspect Category + Sentiment Polarity"
   ]
  },
  {
   "cell_type": "code",
   "execution_count": 15,
   "metadata": {},
   "outputs": [],
   "source": [
    "def category_polarity_list_to_label(cat_pol_list):\n",
    "    return [1 if ac_pol in cat_pol_list else 0 for ac_pol in AC_POLARITY_COMBINATIONS]"
   ]
  },
  {
   "cell_type": "code",
   "execution_count": 16,
   "metadata": {},
   "outputs": [
    {
     "name": "stdout",
     "output_type": "stream",
     "text": [
      "\\multirow{2}{*}{\\textbf{Llama-2-70B}} & \\textbf{LRS\\textsubscript{500}} & 0.494 & 0.573 & 0.538 \\\\\n",
      " & \\textbf{LRS\\textsubscript{25}} & 0.421 & 0.532 & 0.492 \\\\\n",
      "\\hline\n",
      "\\multirow{2}{*}{\\textbf{GPT-3.5-turbo}} & \\textbf{LRS\\textsubscript{500}} & 0.795 & 0.846 & 0.835 \\\\\n",
      " & \\textbf{LRS\\textsubscript{25}} & 0.771 & 0.854 & 0.845 \\\\\n",
      "\\hline\n"
     ]
    }
   ],
   "source": [
    "for llm_idx, llm in enumerate(LLMS):\n",
    "    for fs_idx, fs in enumerate(FEW_SHOT_CONDITIONS):\n",
    "        llm_annotations_ac_pol = [category_polarity_list_to_label(\n",
    "            [tag[\"aspect_category\"]+\"_\"+tag[\"aspect_polarity\"] for tag in example]) for example in dataset[llm][fs][\"llm_annotation\"]]\n",
    "        human_annotations_ac_pol = [category_polarity_list_to_label(\n",
    "            [tag[\"aspect_category\"]+\"_\"+tag[\"aspect_polarity\"] for tag in example]) for example in dataset[llm][fs][\"human_annotation\"]]\n",
    "\n",
    "        accuracy = accuracy_score(\n",
    "            human_annotations_ac_pol, llm_annotations_ac_pol)\n",
    "        f1_micro = f1_score(human_annotations_ac_pol,\n",
    "                            llm_annotations_ac_pol, average='micro')\n",
    "        f1_macro = f1_score(human_annotations_ac_pol,\n",
    "                            llm_annotations_ac_pol, average='macro')\n",
    "\n",
    "        llm_print = \"\\\\multirow{2}{*}{\" + \\\n",
    "            LLMS_ENCODED[llm] + \"}\" if fs_idx == 0 else \"\"\n",
    "\n",
    "        print(llm_print,\n",
    "              \"&\", ENCODE_CONDITION[fs],\n",
    "              \"&\", \"{:.3f}\".format(accuracy),\n",
    "              \"&\", \"{:.3f}\".format(f1_micro),\n",
    "              \"&\", \"{:.3f}\".format(f1_macro), \"\\\\\\\\\")\n",
    "    print(\"\\\\hline\")"
   ]
  },
  {
   "cell_type": "code",
   "execution_count": 17,
   "metadata": {},
   "outputs": [
    {
     "name": "stdout",
     "output_type": "stream",
     "text": [
      "\\multirow{30}{*}{\\textbf{Llama-2-70B}} & \\multirow{15}{*}{\\textbf{LRS\\textsubscript{500}}} & \\multirow{3}{*}{\\texttt{GENERAL-IMPRESSION}} & \\texttt{POSITIVE} & 0.929 & 0.577 & 0.552 & 0.604 \\\\\n",
      " &  &  & \\texttt{NEUTRAL} & 0.902 & 0.235 & 0.139 & 0.769 \\\\\n",
      " &  &  & \\texttt{NEGATIVE} & 0.928 & 0.415 & 0.315 & 0.607 \\\\\n",
      "\\arrayrulecolor{gray}\\cline{3-8}\\arrayrulecolor{black}\n",
      " &  & \\multirow{3}{*}{\\texttt{FOOD}} & \\texttt{POSITIVE} & 0.887 & 0.586 & 0.841 & 0.449 \\\\\n",
      " &  &  & \\texttt{NEUTRAL} & 0.923 & 0.474 & 0.371 & 0.657 \\\\\n",
      " &  &  & \\texttt{NEGATIVE} & 0.950 & 0.713 & 0.788 & 0.651 \\\\\n",
      "\\arrayrulecolor{gray}\\cline{3-8}\\arrayrulecolor{black}\n",
      " &  & \\multirow{3}{*}{\\texttt{SERVICE}} & \\texttt{POSITIVE} & 0.902 & 0.660 & 0.851 & 0.538 \\\\\n",
      " &  &  & \\texttt{NEUTRAL} & 0.922 & 0.316 & 0.190 & 0.923 \\\\\n",
      " &  &  & \\texttt{NEGATIVE} & 0.958 & 0.750 & 0.824 & 0.689 \\\\\n",
      "\\arrayrulecolor{gray}\\cline{3-8}\\arrayrulecolor{black}\n",
      " &  & \\multirow{3}{*}{\\texttt{AMBIENCE}} & \\texttt{POSITIVE} & 0.916 & 0.650 & 0.867 & 0.520 \\\\\n",
      " &  &  & \\texttt{NEUTRAL} & 0.911 & 0.169 & 0.097 & 0.667 \\\\\n",
      " &  &  & \\texttt{NEGATIVE} & 0.940 & 0.697 & 0.708 & 0.687 \\\\\n",
      "\\arrayrulecolor{gray}\\cline{3-8}\\arrayrulecolor{black}\n",
      " &  & \\multirow{3}{*}{\\texttt{PRICE}} & \\texttt{POSITIVE} & 0.938 & 0.617 & 0.579 & 0.660 \\\\\n",
      " &  &  & \\texttt{NEUTRAL} & 0.931 & 0.531 & 0.419 & 0.722 \\\\\n",
      " &  &  & \\texttt{NEGATIVE} & 0.934 & 0.686 & 0.727 & 0.649 \\\\\n",
      "\\arrayrulecolor{gray}\\cline{3-8}\\arrayrulecolor{black}\n",
      "\\cline{2-8}\n",
      " & \\multirow{15}{*}{\\textbf{LRS\\textsubscript{25}}} & \\multirow{3}{*}{\\texttt{GENERAL-IMPRESSION}} & \\texttt{POSITIVE} & 0.892 & 0.486 & 0.472 & 0.500 \\\\\n",
      " &  &  & \\texttt{NEUTRAL} & 0.913 & 0.216 & 0.127 & 0.727 \\\\\n",
      " &  &  & \\texttt{NEGATIVE} & 0.907 & 0.340 & 0.254 & 0.516 \\\\\n",
      "\\arrayrulecolor{gray}\\cline{3-8}\\arrayrulecolor{black}\n",
      " &  & \\multirow{3}{*}{\\texttt{FOOD}} & \\texttt{POSITIVE} & 0.875 & 0.574 & 0.836 & 0.438 \\\\\n",
      " &  &  & \\texttt{NEUTRAL} & 0.914 & 0.447 & 0.348 & 0.622 \\\\\n",
      " &  &  & \\texttt{NEGATIVE} & 0.925 & 0.621 & 0.732 & 0.539 \\\\\n",
      "\\arrayrulecolor{gray}\\cline{3-8}\\arrayrulecolor{black}\n",
      " &  & \\multirow{3}{*}{\\texttt{SERVICE}} & \\texttt{POSITIVE} & 0.901 & 0.616 & 0.779 & 0.510 \\\\\n",
      " &  &  & \\texttt{NEUTRAL} & 0.913 & 0.275 & 0.159 & 1.000 \\\\\n",
      " &  &  & \\texttt{NEGATIVE} & 0.946 & 0.739 & 0.750 & 0.729 \\\\\n",
      "\\arrayrulecolor{gray}\\cline{3-8}\\arrayrulecolor{black}\n",
      " &  & \\multirow{3}{*}{\\texttt{AMBIENCE}} & \\texttt{POSITIVE} & 0.884 & 0.503 & 0.736 & 0.382 \\\\\n",
      " &  &  & \\texttt{NEUTRAL} & 0.920 & 0.209 & 0.123 & 0.700 \\\\\n",
      " &  &  & \\texttt{NEGATIVE} & 0.931 & 0.701 & 0.711 & 0.692 \\\\\n",
      "\\arrayrulecolor{gray}\\cline{3-8}\\arrayrulecolor{black}\n",
      " &  & \\multirow{3}{*}{\\texttt{PRICE}} & \\texttt{POSITIVE} & 0.920 & 0.629 & 0.616 & 0.643 \\\\\n",
      " &  &  & \\texttt{NEUTRAL} & 0.892 & 0.345 & 0.235 & 0.655 \\\\\n",
      " &  &  & \\texttt{NEGATIVE} & 0.926 & 0.671 & 0.714 & 0.633 \\\\\n",
      "\\arrayrulecolor{gray}\\cline{3-8}\\arrayrulecolor{black}\n",
      "\\cline{2-8}\n",
      "\\hline\n",
      "\\multirow{30}{*}{\\textbf{GPT-3.5-turbo}} & \\multirow{15}{*}{\\textbf{LRS\\textsubscript{500}}} & \\multirow{3}{*}{\\texttt{GENERAL-IMPRESSION}} & \\texttt{POSITIVE} & 0.980 & 0.877 & 0.847 & 0.909 \\\\\n",
      " &  &  & \\texttt{NEUTRAL} & 0.979 & 0.876 & 0.791 & 0.981 \\\\\n",
      " &  &  & \\texttt{NEGATIVE} & 0.985 & 0.908 & 0.885 & 0.931 \\\\\n",
      "\\arrayrulecolor{gray}\\cline{3-8}\\arrayrulecolor{black}\n",
      " &  & \\multirow{3}{*}{\\texttt{FOOD}} & \\texttt{POSITIVE} & 0.953 & 0.805 & 0.986 & 0.680 \\\\\n",
      " &  &  & \\texttt{NEUTRAL} & 0.989 & 0.925 & 0.961 & 0.891 \\\\\n",
      " &  &  & \\texttt{NEGATIVE} & 0.993 & 0.961 & 0.968 & 0.953 \\\\\n",
      "\\arrayrulecolor{gray}\\cline{3-8}\\arrayrulecolor{black}\n",
      " &  & \\multirow{3}{*}{\\texttt{SERVICE}} & \\texttt{POSITIVE} & 0.990 & 0.954 & 0.973 & 0.935 \\\\\n",
      " &  &  & \\texttt{NEUTRAL} & 0.993 & 0.964 & 0.943 & 0.985 \\\\\n",
      " &  &  & \\texttt{NEGATIVE} & 0.990 & 0.940 & 0.948 & 0.932 \\\\\n",
      "\\arrayrulecolor{gray}\\cline{3-8}\\arrayrulecolor{black}\n",
      " &  & \\multirow{3}{*}{\\texttt{AMBIENCE}} & \\texttt{POSITIVE} & 0.978 & 0.869 & 0.946 & 0.803 \\\\\n",
      " &  &  & \\texttt{NEUTRAL} & 0.983 & 0.895 & 0.836 & 0.962 \\\\\n",
      " &  &  & \\texttt{NEGATIVE} & 0.990 & 0.947 & 0.940 & 0.955 \\\\\n",
      "\\arrayrulecolor{gray}\\cline{3-8}\\arrayrulecolor{black}\n",
      " &  & \\multirow{3}{*}{\\texttt{PRICE}} & \\texttt{POSITIVE} & 0.897 & 0.543 & 0.667 & 0.458 \\\\\n",
      " &  &  & \\texttt{NEUTRAL} & 0.918 & 0.213 & 0.119 & 1.000 \\\\\n",
      " &  &  & \\texttt{NEGATIVE} & 0.968 & 0.850 & 0.970 & 0.756 \\\\\n",
      "\\arrayrulecolor{gray}\\cline{3-8}\\arrayrulecolor{black}\n",
      "\\cline{2-8}\n",
      " & \\multirow{15}{*}{\\textbf{LRS\\textsubscript{25}}} & \\multirow{3}{*}{\\texttt{GENERAL-IMPRESSION}} & \\texttt{POSITIVE} & 0.966 & 0.831 & 0.766 & 0.908 \\\\\n",
      " &  &  & \\texttt{NEUTRAL} & 0.979 & 0.889 & 0.811 & 0.984 \\\\\n",
      " &  &  & \\texttt{NEGATIVE} & 0.983 & 0.906 & 0.866 & 0.951 \\\\\n",
      "\\arrayrulecolor{gray}\\cline{3-8}\\arrayrulecolor{black}\n",
      " &  & \\multirow{3}{*}{\\texttt{FOOD}} & \\texttt{POSITIVE} & 0.965 & 0.850 & 1.000 & 0.740 \\\\\n",
      " &  &  & \\texttt{NEUTRAL} & 0.993 & 0.965 & 0.944 & 0.986 \\\\\n",
      " &  &  & \\texttt{NEGATIVE} & 0.997 & 0.984 & 0.984 & 0.984 \\\\\n",
      "\\arrayrulecolor{gray}\\cline{3-8}\\arrayrulecolor{black}\n",
      " &  & \\multirow{3}{*}{\\texttt{SERVICE}} & \\texttt{POSITIVE} & 0.985 & 0.922 & 0.942 & 0.903 \\\\\n",
      " &  &  & \\texttt{NEUTRAL} & 0.987 & 0.940 & 0.887 & 1.000 \\\\\n",
      " &  &  & \\texttt{NEGATIVE} & 0.992 & 0.961 & 0.987 & 0.937 \\\\\n",
      "\\arrayrulecolor{gray}\\cline{3-8}\\arrayrulecolor{black}\n",
      " &  & \\multirow{3}{*}{\\texttt{AMBIENCE}} & \\texttt{POSITIVE} & 0.969 & 0.828 & 0.964 & 0.726 \\\\\n",
      " &  &  & \\texttt{NEUTRAL} & 0.973 & 0.829 & 0.742 & 0.939 \\\\\n",
      " &  &  & \\texttt{NEGATIVE} & 0.983 & 0.923 & 0.947 & 0.900 \\\\\n",
      "\\arrayrulecolor{gray}\\cline{3-8}\\arrayrulecolor{black}\n",
      " &  & \\multirow{3}{*}{\\texttt{PRICE}} & \\texttt{POSITIVE} & 0.912 & 0.677 & 0.868 & 0.555 \\\\\n",
      " &  &  & \\texttt{NEUTRAL} & 0.896 & 0.245 & 0.141 & 0.923 \\\\\n",
      " &  &  & \\texttt{NEGATIVE} & 0.982 & 0.921 & 1.000 & 0.854 \\\\\n",
      "\\arrayrulecolor{gray}\\cline{3-8}\\arrayrulecolor{black}\n",
      "\\cline{2-8}\n",
      "\\hline\n"
     ]
    }
   ],
   "source": [
    "def category_polarity_list_to_label(cat_polarity_list):\n",
    "    return [1 if cat_polarity in cat_polarity_list else 0 for cat_polarity in AC_POLARITY_COMBINATIONS]\n",
    "\n",
    "\n",
    "for llm_idx, llm in enumerate(LLMS):\n",
    "    for fs_idx, fs in enumerate(FEW_SHOT_CONDITIONS):\n",
    "        llm_annotations_ac_pol = [category_polarity_list_to_label(\n",
    "            [tag[\"aspect_category\"] + \"_\" + tag[\"aspect_polarity\"] for tag in example]) for example in dataset[llm][fs][\"llm_annotation\"]]\n",
    "        human_annotations_ac_pol = [category_polarity_list_to_label(\n",
    "            [tag[\"aspect_category\"] + \"_\" + tag[\"aspect_polarity\"] for tag in example]) for example in dataset[llm][fs][\"human_annotation\"]]\n",
    "\n",
    "        for ac_pol_idx, ac_pol_combination in enumerate(AC_POLARITY_COMBINATIONS):\n",
    "            idx = AC_POLARITY_COMBINATIONS.index(ac_pol_combination)\n",
    "\n",
    "            tp = sum((llm_annotations_ac_pol[i][idx] == 1) and (\n",
    "                human_annotations_ac_pol[i][idx] == 1) for i in range(len(llm_annotations_ac_pol)))\n",
    "            fp = sum((llm_annotations_ac_pol[i][idx] == 1) and (\n",
    "                human_annotations_ac_pol[i][idx] == 0) for i in range(len(llm_annotations_ac_pol)))\n",
    "            fn = sum((llm_annotations_ac_pol[i][idx] == 0) and (\n",
    "                human_annotations_ac_pol[i][idx] == 1) for i in range(len(llm_annotations_ac_pol)))\n",
    "\n",
    "            precision = tp / (tp + fp) if (tp + fp) > 0 else 0\n",
    "            recall = tp / (tp + fn) if (tp + fn) > 0 else 0\n",
    "            accuracy = accuracy_score([example[idx] for example in human_annotations_ac_pol], [\n",
    "                                      example[idx] for example in llm_annotations_ac_pol])\n",
    "            f1 = 2 * tp / (2 * tp + fn + fp)\n",
    "\n",
    "            n_samples_in_class = sum(\n",
    "                example[idx] == 1 for example in human_annotations_ac_pol)\n",
    "\n",
    "            aspect_category, sentiment_polarity = ac_pol_combination.split(\"_\")\n",
    "\n",
    "            llm_print = \"\\\\multirow{30}{*}{\" + \\\n",
    "                LLMS_ENCODED[llm] + \\\n",
    "                \"}\" if fs_idx == 0 and ac_pol_idx == 0 else \"\"\n",
    "            fs_print = \"\\\\multirow{15}{*}{\" + \\\n",
    "                ENCODE_CONDITION[fs] + \"}\" if ac_pol_idx == 0 else \"\"\n",
    "            ac_print = \"\\\\multirow{3}{*}{\" + \"\\\\texttt{\" + \\\n",
    "                aspect_category+\"}\" + \"}\" if ac_pol_idx % 3 == 0 else \"\"\n",
    "\n",
    "            print(llm_print,\n",
    "                  \"&\", fs_print,\n",
    "                  \"&\", ac_print,\n",
    "                  \"&\", \"\\\\texttt{\"+sentiment_polarity+\"}\",\n",
    "                  \"&\", \"{:.3f}\".format(accuracy),\n",
    "                  \"&\", \"{:.3f}\".format(f1),\n",
    "                  \"&\", \"{:.3f}\".format(precision),\n",
    "                  \"&\", \"{:.3f}\".format(recall), \"\\\\\\\\\")\n",
    "\n",
    "            if ac_pol_idx % 3 == 2:\n",
    "                print(\n",
    "                    \"\\\\arrayrulecolor{gray}\\cline{3-8}\\\\arrayrulecolor{black}\")\n",
    "\n",
    "        print(\"\\\\cline{2-8}\")\n",
    "    print(\"\\\\hline\")"
   ]
  },
  {
   "cell_type": "markdown",
   "metadata": {},
   "source": [
    "#### Aspect Term + Sentiment Polarity"
   ]
  },
  {
   "cell_type": "code",
   "execution_count": 18,
   "metadata": {},
   "outputs": [],
   "source": [
    "def calculate_tp_tn_fp_fn_e2e(pred, label):\n",
    "    pred_set = set(\n",
    "        f\"{range['start']}_{range['end']}_{range['polarity']}\" for range in pred)\n",
    "    label_set = set(\n",
    "        f\"{range['start']}_{range['end']}_{range['polarity']}\" for range in label)\n",
    "\n",
    "    tp_set = pred_set & label_set\n",
    "    tp = len(tp_set)\n",
    "\n",
    "    fp_set = pred_set - tp_set\n",
    "    fp = len(fp_set)\n",
    "\n",
    "    fn_set = label_set - tp_set\n",
    "    fn = len(fn_set)\n",
    "\n",
    "    return tp, 0, fp, fn"
   ]
  },
  {
   "cell_type": "code",
   "execution_count": 19,
   "metadata": {},
   "outputs": [],
   "source": [
    "def calculate_tp_tn_fp_fn_e2e_total(pred_total, label_total):\n",
    "    tp_total = tn_total = fp_total = fn_total = 0\n",
    "    for i in range(len(label_total)):\n",
    "        tp, tn, fp, fn = calculate_tp_tn_fp_fn_e2e(\n",
    "            pred_total[i], label_total[i])\n",
    "        tp_total += tp\n",
    "        tn_total += tn\n",
    "        fp_total += fp\n",
    "        fn_total += fn\n",
    "    return tp_total, tn_total, fp_total, fn_total"
   ]
  },
  {
   "cell_type": "code",
   "execution_count": 20,
   "metadata": {},
   "outputs": [],
   "source": [
    "def f1_macro_e2e(llm_annotations_aspect_terms, human_annotations_aspect_terms):\n",
    "    f1_scores = []\n",
    "    for pol in [\"POSITIVE\", \"NEGATIVE\", \"NEUTRAL\"]:\n",
    "        llm_annotations_class = [[tag for tag in example if tag[\"polarity\"] == pol]\n",
    "                                 for example in llm_annotations_aspect_terms]\n",
    "        human_annotations_class = [[tag for tag in example if tag[\"polarity\"] == pol]\n",
    "                                   for example in human_annotations_aspect_terms]\n",
    "        \n",
    "        tp_total, tn_total, fp_total, fn_total = calculate_tp_tn_fp_fn_e2e_total(llm_annotations_class, human_annotations_class)\n",
    "        f1_scores.append(2 * tp_total / (2 * tp_total + fn_total + fp_total))\n",
    "    return np.mean(f1_scores)"
   ]
  },
  {
   "cell_type": "code",
   "execution_count": 21,
   "metadata": {},
   "outputs": [
    {
     "name": "stdout",
     "output_type": "stream",
     "text": [
      "\\multirow{2}{*}{\\textbf{Llama-2-70B}} & \\textbf{LRS\\textsubscript{500}} & 0.409 & 0.580 & 0.549 \\\\\n",
      " & \\textbf{LRS\\textsubscript{25}} & 0.403 & 0.574 & 0.538 \\\\\n",
      "\\hline\n",
      "\\multirow{2}{*}{\\textbf{GPT-3.5-turbo}} & \\textbf{LRS\\textsubscript{500}} & 0.509 & 0.674 & 0.669 \\\\\n",
      " & \\textbf{LRS\\textsubscript{25}} & 0.517 & 0.681 & 0.675 \\\\\n",
      "\\hline\n"
     ]
    }
   ],
   "source": [
    "for llm_idx, llm in enumerate(LLMS):\n",
    "    for fs_idx, fs in enumerate(FEW_SHOT_CONDITIONS):\n",
    "        llm_annotations_aspect_terms = [\n",
    "            [{\"start\": tag[\"start\"], \"end\": tag[\"end\"], \"polarity\": tag[\"aspect_polarity\"]} for tag in example if tag[\"aspect_term\"] is not None] for example in dataset[llm][fs][\"llm_annotation\"]]\n",
    "        human_annotations_aspect_terms = [\n",
    "            [{\"start\": tag[\"start\"], \"end\": tag[\"end\"], \"polarity\": tag[\"aspect_polarity\"]} for tag in example if tag[\"aspect_term\"] is not None] for example in dataset[llm][fs][\"human_annotation\"]]\n",
    "\n",
    "        tp_total, tn_total, fp_total, fn_total = calculate_tp_tn_fp_fn_e2e_total(\n",
    "            llm_annotations_aspect_terms, human_annotations_aspect_terms)\n",
    "\n",
    "        # Calculate metrics\n",
    "        accuracy = (tp_total + tn_total) / (tp_total + tn_total + fp_total +\n",
    "                                            fn_total) if (tp_total + tn_total + fp_total + fn_total) > 0 else 0\n",
    "        precision = tp_total / \\\n",
    "            (tp_total + fp_total) if (tp_total + fp_total) > 0 else 0\n",
    "        recall = tp_total / \\\n",
    "            (tp_total + fn_total) if (tp_total + fn_total) > 0 else 0\n",
    "\n",
    "        f1_micro = 2 * tp_total / (2 * tp_total + fn_total + fp_total)\n",
    "\n",
    "        f1_macro = f1_macro_e2e(\n",
    "            llm_annotations_aspect_terms, human_annotations_aspect_terms)\n",
    "\n",
    "        llm_print = \"\\\\multirow{2}{*}{\" + \\\n",
    "            LLMS_ENCODED[llm] + \"}\" if fs_idx == 0 else \"\"\n",
    "\n",
    "        print(llm_print, \"&\", ENCODE_CONDITION[fs],\n",
    "              \"&\", \"{:.3f}\".format(accuracy),\n",
    "              \"&\", \"{:.3f}\".format(f1_micro),\n",
    "              \"&\", \"{:.3f}\".format(f1_macro), \"\\\\\\\\\")\n",
    "    print(\"\\hline\")"
   ]
  },
  {
   "cell_type": "markdown",
   "metadata": {},
   "source": [
    "#### Aspect Term + Aspect Category + Sentiment Polarity"
   ]
  },
  {
   "cell_type": "code",
   "execution_count": 22,
   "metadata": {},
   "outputs": [
    {
     "name": "stdout",
     "output_type": "stream",
     "text": [
      "\\multirow{2}{*}{\\textbf{Llama-2-70B}} & \\textbf{LRS\\textsubscript{500}} & 0.307 & 0.469 & 0.443 & 0.499 \\\\\n",
      " & \\textbf{LRS\\textsubscript{25}} & 0.272 & 0.427 & 0.405 & 0.452 \\\\\n",
      "\\hline\n",
      "\\multirow{2}{*}{\\textbf{GPT-3.5-turbo}} & \\textbf{LRS\\textsubscript{500}} & 0.395 & 0.566 & 0.562 & 0.571 \\\\\n",
      " & \\textbf{LRS\\textsubscript{25}} & 0.399 & 0.570 & 0.560 & 0.581 \\\\\n",
      "\\hline\n"
     ]
    }
   ],
   "source": [
    "for llm_idx, llm in enumerate(LLMS):\n",
    "    for fs_idx, fs in enumerate(FEW_SHOT_CONDITIONS):\n",
    "        metrics_triplets = calculate_metrics_for_examples(\n",
    "            dataset[llm][fs][\"human_annotation\"], dataset[llm][fs][\"llm_annotation\"])\n",
    "\n",
    "        llm_print = \"\\\\multirow{2}{*}{\" + \\\n",
    "            LLMS_ENCODED[llm] + \"}\" if fs_idx == 0 else \"\"\n",
    "        print(llm_print,\n",
    "              \"&\", ENCODE_CONDITION[fs],\n",
    "              \"&\", \"{:.3f}\".format(metrics_triplets[\"accuracy\"]),\n",
    "              \"&\", \"{:.3f}\".format(metrics_triplets[\"f1\"]),\n",
    "              \"&\", \"{:.3f}\".format(metrics_triplets[\"precision\"]),\n",
    "              \"&\", \"{:.3f}\".format(metrics_triplets[\"recall\"]), \"\\\\\\\\\")\n",
    "\n",
    "    print(\"\\\\hline\")"
   ]
  },
  {
   "cell_type": "code",
   "execution_count": null,
   "metadata": {},
   "outputs": [],
   "source": []
  }
 ],
 "metadata": {
  "kernelspec": {
   "display_name": "tensorflow_m1",
   "language": "python",
   "name": "python3"
  },
  "language_info": {
   "codemirror_mode": {
    "name": "ipython",
    "version": 3
   },
   "file_extension": ".py",
   "mimetype": "text/x-python",
   "name": "python",
   "nbconvert_exporter": "python",
   "pygments_lexer": "ipython3",
   "version": "3.11.3"
  }
 },
 "nbformat": 4,
 "nbformat_minor": 2
}
