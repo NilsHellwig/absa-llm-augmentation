{
 "cells": [
  {
   "cell_type": "markdown",
   "metadata": {},
   "source": [
    "# Notebook: Compare LLM and Human Annotations"
   ]
  },
  {
   "cell_type": "markdown",
   "metadata": {},
   "source": [
    "## Packages"
   ]
  },
  {
   "cell_type": "code",
   "execution_count": 33,
   "metadata": {},
   "outputs": [],
   "source": [
    "from sklearn.metrics import precision_score, recall_score, accuracy_score, f1_score\n",
    "import numpy as np\n",
    "import json\n",
    "import sys\n",
    "import os"
   ]
  },
  {
   "cell_type": "code",
   "execution_count": 3,
   "metadata": {},
   "outputs": [],
   "source": [
    "sys.path.append(os.path.abspath('../07 train models/'))\n",
    "from TASD.evaluation import calculate_metrics_for_examples\n",
    "import constants"
   ]
  },
  {
   "cell_type": "markdown",
   "metadata": {},
   "source": [
    "## Settings"
   ]
  },
  {
   "cell_type": "code",
   "execution_count": 4,
   "metadata": {},
   "outputs": [],
   "source": [
    "LLMS = [\"Llama70B\", \"GPT-3\"]\n",
    "FEW_SHOT_CONDITIONS = [\"random\", \"fixed\"]\n",
    "AC_POLARITY_COMBINATIONS = [cat+\"_\"+polarity for cat in constants.ASPECT_CATEGORIES for polarity in constants.POLARITIES]"
   ]
  },
  {
   "cell_type": "code",
   "execution_count": 5,
   "metadata": {},
   "outputs": [],
   "source": [
    "LLMS_ENCODED = {\"GPT-3\": \"\\\\textbf{GPT-3.5-turbo}\", \"Llama70B\": \"\\\\textbf{Llama-2-70B}\"}\n",
    "ENCODE_CONDITION = {\"fixed\": \"\\\\textbf{LRS\\\\textsubscript{25}}\",\n",
    "                    \"random\": \"\\\\textbf{LRS\\\\textsubscript{500}}\"}"
   ]
  },
  {
   "cell_type": "markdown",
   "metadata": {},
   "source": [
    "## Code"
   ]
  },
  {
   "cell_type": "markdown",
   "metadata": {},
   "source": [
    "### Load Data"
   ]
  },
  {
   "cell_type": "markdown",
   "metadata": {},
   "source": [
    "#### Human Annotations"
   ]
  },
  {
   "cell_type": "code",
   "execution_count": 6,
   "metadata": {},
   "outputs": [],
   "source": [
    "with open(f\"annotation_datasets/annotated_synth_dataset.json\", 'r') as json_file:\n",
    "    human_annotations = json.load(json_file)    "
   ]
  },
  {
   "cell_type": "markdown",
   "metadata": {},
   "source": [
    "#### Load Synthetic "
   ]
  },
  {
   "cell_type": "code",
   "execution_count": 7,
   "metadata": {},
   "outputs": [],
   "source": [
    "llm_annotations = []\n",
    "\n",
    "for llm in LLMS:\n",
    "    for fs in [\"random\", \"fixed\"]:\n",
    "       for split_id in range(5):\n",
    "           with open(f\"../07 train models/synth/{llm}/{fs}/split_{split_id}.json\", 'r') as json_file:\n",
    "              synthetic_data_split = json.load(json_file)\n",
    "              for example in  synthetic_data_split:\n",
    "                  llm_annotations.append(example)    "
   ]
  },
  {
   "cell_type": "code",
   "execution_count": 8,
   "metadata": {},
   "outputs": [],
   "source": [
    "llm_annotations_aspects = [([{\"aspect_category\": tag[\"label\"], \"aspect_polarity\": tag[\"polarity\"],\n",
    "                              \"aspect_term\": tag[\"text\"] if tag[\"text\"] != 'NULL' else None, \"start\": tag[\"start\"], \"end\": tag[\"end\"]} for tag in example[\"tags\"]], example[\"id\"]) for example in llm_annotations]\n",
    "human_annotations_aspects = [([{\"aspect_category\": tag[\"label\"], \"aspect_polarity\": tag[\"polarity\"], \"aspect_term\": tag[\"text\"]\n",
    "                                if tag[\"text\"] != 'NULL' else None, \"start\": tag[\"start\"], \"end\": tag[\"end\"]} for tag in example[\"tags\"]], example[\"id\"], example[\"model\"], example[\"few_shot_condtion\"]) for example in human_annotations]"
   ]
  },
  {
   "cell_type": "code",
   "execution_count": 9,
   "metadata": {},
   "outputs": [],
   "source": [
    "dataset = {}"
   ]
  },
  {
   "cell_type": "code",
   "execution_count": 10,
   "metadata": {},
   "outputs": [],
   "source": [
    "def get_example_with_id(id, dataset):\n",
    "    return [example for example in dataset if example[1] == id][0][0]\n",
    "\n",
    "for llm in LLMS:\n",
    "    dataset[llm] = {}\n",
    "    for fs in FEW_SHOT_CONDITIONS:\n",
    "        dataset[llm][fs] = {}\n",
    "        human_annotations_aspects_ids = [example[1] for example in human_annotations_aspects if example[2] == llm and example[3] == fs]\n",
    "        human_annotations_samples = [example[0] for example in human_annotations_aspects if example[2] == llm and example[3] == fs]\n",
    "        llm_annotations_samples = [get_example_with_id(id, llm_annotations_aspects) for id in human_annotations_aspects_ids]\n",
    "\n",
    "        dataset[llm][fs][\"human_annotation\"] = human_annotations_samples\n",
    "        dataset[llm][fs][\"llm_annotation\"] = llm_annotations_samples"
   ]
  },
  {
   "cell_type": "markdown",
   "metadata": {},
   "source": [
    "### Analyse Quality"
   ]
  },
  {
   "cell_type": "markdown",
   "metadata": {},
   "source": [
    "#### Aspect Term Detection"
   ]
  },
  {
   "cell_type": "code",
   "execution_count": 11,
   "metadata": {},
   "outputs": [],
   "source": [
    "def calculate_tp_tn_fp_fn_aspect_term(pred, label):\n",
    "    pred_set = set(\n",
    "        f\"{range['start']}_{range['end']}\" for range in pred)\n",
    "    label_set = set(\n",
    "        f\"{range['start']}_{range['end']}\" for range in label)\n",
    "\n",
    "    tp_set = pred_set & label_set\n",
    "    tp = len(tp_set)\n",
    "\n",
    "    fp_set = pred_set - tp_set\n",
    "    fp = len(fp_set)\n",
    "\n",
    "    fn_set = label_set - tp_set\n",
    "    fn = len(fn_set)\n",
    "\n",
    "    return tp, 0, fp, fn\n"
   ]
  },
  {
   "cell_type": "code",
   "execution_count": 12,
   "metadata": {},
   "outputs": [
    {
     "name": "stdout",
     "output_type": "stream",
     "text": [
      "\\multirow{2}{*}{\\textbf{Llama-2-70B}} & \\textbf{LRS\\textsubscript{500}} & 0.703 & 0.825 & 0.865 & 0.789 \\\\\n",
      " & \\textbf{LRS\\textsubscript{25}} & 0.707 & 0.828 & 0.882 & 0.780 \\\\\n",
      "\\hline\n",
      "\\multirow{2}{*}{\\textbf{GPT-3.5-turbo}} & \\textbf{LRS\\textsubscript{500}} & 0.587 & 0.740 & 0.936 & 0.612 \\\\\n",
      " & \\textbf{LRS\\textsubscript{25}} & 0.620 & 0.765 & 0.919 & 0.656 \\\\\n",
      "\\hline\n"
     ]
    }
   ],
   "source": [
    "for llm_idx, llm in enumerate(LLMS):\n",
    "    for fs_idx, fs in enumerate(FEW_SHOT_CONDITIONS):\n",
    "        llm_annotations_aspect_terms = [\n",
    "            [{\"start\": tag[\"start\"], \"end\": tag[\"end\"]} for tag in example if tag[\"aspect_term\"] is not None] for example in dataset[llm][fs][\"llm_annotation\"]]\n",
    "        human_annotations_aspect_terms = [\n",
    "            [{\"start\": tag[\"start\"], \"end\": tag[\"end\"]} for tag in example if tag[\"aspect_term\"] is not None] for example in dataset[llm][fs][\"human_annotation\"]]\n",
    "\n",
    "        tp_total = tn_total = fp_total = fn_total = 0\n",
    "        for i in range(len(human_annotations_aspect_terms)):\n",
    "            tp, tn, fp, fn = calculate_tp_tn_fp_fn_aspect_term(\n",
    "                llm_annotations_aspect_terms[i], human_annotations_aspect_terms[i])\n",
    "            tp_total += tp\n",
    "            tn_total += tn\n",
    "            fp_total += fp\n",
    "            fn_total += fn\n",
    "\n",
    "        # Calculate metrics\n",
    "        accuracy = (tp_total + tn_total) / (tp_total + tn_total + fp_total +\n",
    "                                            fn_total) if (tp_total + tn_total + fp_total + fn_total) > 0 else 0\n",
    "        precision = tp_total / \\\n",
    "            (tp_total + fp_total) if (tp_total + fp_total) > 0 else 0\n",
    "        recall = tp_total / \\\n",
    "            (tp_total + fn_total) if (tp_total + fn_total) > 0 else 0\n",
    "\n",
    "        f1 = 2 * tp_total / (2 * tp_total + fn_total + fp_total)\n",
    "\n",
    "        llm_print = \"\\\\multirow{2}{*}{\" + LLMS_ENCODED[llm] + \"}\" if fs_idx == 0 else \"\"\n",
    "\n",
    "        fs_print = ENCODE_CONDITION[fs]\n",
    "        \n",
    "        print(llm_print, \"&\", fs_print,\n",
    "              \"&\", \"{:.3f}\".format(accuracy),\n",
    "              \"&\", \"{:.3f}\".format(f1),\n",
    "              \"&\", \"{:.3f}\".format(precision),\n",
    "              \"&\", \"{:.3f}\".format(recall), \"\\\\\\\\\")\n",
    "    print(\"\\hline\")"
   ]
  },
  {
   "cell_type": "markdown",
   "metadata": {},
   "source": [
    "#### Aspect Category"
   ]
  },
  {
   "cell_type": "code",
   "execution_count": 13,
   "metadata": {},
   "outputs": [],
   "source": [
    "def category_list_to_label(cat_list):\n",
    "    return [1 if cat in cat_list else 0 for cat in constants.ASPECT_CATEGORIES]"
   ]
  },
  {
   "cell_type": "code",
   "execution_count": 14,
   "metadata": {},
   "outputs": [
    {
     "name": "stdout",
     "output_type": "stream",
     "text": [
      "\\multirow{2}{*}{\\textbf{Llama-2-70B}} & \\textbf{LRS\\textsubscript{500}} & 0.708 & 0.811 & 0.804 \\\\\n",
      " & \\textbf{LRS\\textsubscript{25}} & 0.650 & 0.782 & 0.773 \\\\\n",
      "\\hline\n",
      "\\multirow{2}{*}{\\textbf{GPT-3.5-turbo}} & \\textbf{LRS\\textsubscript{500}} & 0.913 & 0.955 & 0.956 \\\\\n",
      " & \\textbf{LRS\\textsubscript{25}} & 0.924 & 0.965 & 0.964 \\\\\n",
      "\\hline\n"
     ]
    }
   ],
   "source": [
    "for llm_idx, llm in enumerate(LLMS):\n",
    "    for fs_idx, fs in enumerate(FEW_SHOT_CONDITIONS):\n",
    "        llm_annotations_aspect_categories = [category_list_to_label(\n",
    "            [tag[\"aspect_category\"] for tag in example]) for example in dataset[llm][fs][\"llm_annotation\"]]\n",
    "        human_annotations_aspect_categories = [category_list_to_label(\n",
    "            [tag[\"aspect_category\"] for tag in example]) for example in dataset[llm][fs][\"human_annotation\"]]\n",
    "\n",
    "        accuracy = accuracy_score(\n",
    "            human_annotations_aspect_categories, llm_annotations_aspect_categories)\n",
    "        f1_micro = f1_score(human_annotations_aspect_categories,\n",
    "                            llm_annotations_aspect_categories, average='micro')\n",
    "        f1_macro = f1_score(human_annotations_aspect_categories,\n",
    "                            llm_annotations_aspect_categories, average='macro')\n",
    "\n",
    "        llm_print = \"\\\\multirow{2}{*}{\" + LLMS_ENCODED[llm] + \"}\" if fs_idx == 0 else \"\"\n",
    "\n",
    "        print(llm_print, \"&\", ENCODE_CONDITION[fs],\n",
    "              \"&\", \"{:.3f}\".format(accuracy),\n",
    "              \"&\", \"{:.3f}\".format(f1_micro),\n",
    "              \"&\", \"{:.3f}\".format(f1_macro), \"\\\\\\\\\")\n",
    "    print(\"\\\\hline\")"
   ]
  },
  {
   "cell_type": "code",
   "execution_count": 15,
   "metadata": {},
   "outputs": [
    {
     "name": "stdout",
     "output_type": "stream",
     "text": [
      "3.11\n"
     ]
    }
   ],
   "source": [
    "number = 3.106\n",
    "formatted_number = \"{:.2f}\".format(number)  # Zeige zwei Dezimalstellen\n",
    "\n",
    "print(formatted_number)"
   ]
  },
  {
   "cell_type": "markdown",
   "metadata": {},
   "source": [
    "#### Aspect Category (performance for each Aspect Category)"
   ]
  },
  {
   "cell_type": "code",
   "execution_count": 16,
   "metadata": {},
   "outputs": [
    {
     "name": "stdout",
     "output_type": "stream",
     "text": [
      "\\multirow{10}{*}{\\textbf{Llama-2-70B}} & \\multirow{5}{*}{\\textbf{LRS\\textsubscript{500}}} & \\texttt{GENERAL-IMPRESSION} & 0.611 & 0.839 & 0.469 & 0.873 \\\\\n",
      " &  & \\texttt{FOOD} & 0.752 & 0.859 & 0.854 & 0.672 \\\\\n",
      " &  & \\texttt{SERVICE} & 0.869 & 0.925 & 0.913 & 0.829 \\\\\n",
      " &  & \\texttt{AMBIENCE} & 0.878 & 0.934 & 0.860 & 0.896 \\\\\n",
      " &  & \\texttt{PRICE} & 0.909 & 0.956 & 0.851 & 0.976 \\\\\n",
      "\\arrayrulecolor{gray}\\cline{2-7}\\arrayrulecolor{black}\n",
      " & \\multirow{5}{*}{\\textbf{LRS\\textsubscript{25}}} & \\texttt{GENERAL-IMPRESSION} & 0.580 & 0.814 & 0.467 & 0.763 \\\\\n",
      " &  & \\texttt{FOOD} & 0.764 & 0.854 & 0.879 & 0.675 \\\\\n",
      " &  & \\texttt{SERVICE} & 0.854 & 0.915 & 0.846 & 0.862 \\\\\n",
      " &  & \\texttt{AMBIENCE} & 0.799 & 0.892 & 0.815 & 0.783 \\\\\n",
      " &  & \\texttt{PRICE} & 0.871 & 0.926 & 0.832 & 0.914 \\\\\n",
      "\\arrayrulecolor{gray}\\cline{2-7}\\arrayrulecolor{black}\n",
      "\\hline\n",
      "\\multirow{10}{*}{\\textbf{GPT-3.5-turbo}} & \\multirow{5}{*}{\\textbf{LRS\\textsubscript{500}}} & \\texttt{GENERAL-IMPRESSION} & 0.947 & 0.973 & 0.911 & 0.986 \\\\\n",
      " &  & \\texttt{FOOD} & 0.889 & 0.940 & 0.993 & 0.804 \\\\\n",
      " &  & \\texttt{SERVICE} & 0.982 & 0.990 & 0.994 & 0.970 \\\\\n",
      " &  & \\texttt{AMBIENCE} & 0.970 & 0.985 & 0.986 & 0.954 \\\\\n",
      " &  & \\texttt{PRICE} & 0.990 & 0.995 & 0.987 & 0.993 \\\\\n",
      "\\arrayrulecolor{gray}\\cline{2-7}\\arrayrulecolor{black}\n",
      " & \\multirow{5}{*}{\\textbf{LRS\\textsubscript{25}}} & \\texttt{GENERAL-IMPRESSION} & 0.946 & 0.970 & 0.924 & 0.969 \\\\\n",
      " &  & \\texttt{FOOD} & 0.939 & 0.966 & 0.987 & 0.896 \\\\\n",
      " &  & \\texttt{SERVICE} & 0.981 & 0.988 & 0.994 & 0.967 \\\\\n",
      " &  & \\texttt{AMBIENCE} & 0.958 & 0.978 & 0.987 & 0.931 \\\\\n",
      " &  & \\texttt{PRICE} & 0.997 & 0.998 & 0.994 & 1.000 \\\\\n",
      "\\arrayrulecolor{gray}\\cline{2-7}\\arrayrulecolor{black}\n",
      "\\hline\n"
     ]
    }
   ],
   "source": [
    "def category_list_to_label(cat_list):\n",
    "    return [1 if cat in cat_list else 0 for cat in constants.ASPECT_CATEGORIES]\n",
    "\n",
    "\n",
    "for llm_idx, llm in enumerate(LLMS):\n",
    "    for fs_idx, fs in enumerate(FEW_SHOT_CONDITIONS):\n",
    "        llm_annotations_aspect_categories = [category_list_to_label(\n",
    "            [tag[\"aspect_category\"] for tag in example]) for example in dataset[llm][fs][\"llm_annotation\"]]\n",
    "        human_annotations_aspect_categories = [category_list_to_label(\n",
    "            [tag[\"aspect_category\"] for tag in example]) for example in dataset[llm][fs][\"human_annotation\"]]\n",
    "\n",
    "        for ac_idx, aspect_category in enumerate(constants.ASPECT_CATEGORIES):\n",
    "            idx = constants.ASPECT_CATEGORIES.index(aspect_category)\n",
    "\n",
    "            tp = sum((llm_annotations_aspect_categories[i][idx] == 1) and (\n",
    "                human_annotations_aspect_categories[i][idx] == 1) for i in range(len(llm_annotations_aspect_categories)))\n",
    "            fp = sum((llm_annotations_aspect_categories[i][idx] == 1) and (\n",
    "                human_annotations_aspect_categories[i][idx] == 0) for i in range(len(llm_annotations_aspect_categories)))\n",
    "            fn = sum((llm_annotations_aspect_categories[i][idx] == 0) and (\n",
    "                human_annotations_aspect_categories[i][idx] == 1) for i in range(len(llm_annotations_aspect_categories)))\n",
    "\n",
    "            precision = tp / (tp + fp) if (tp + fp) > 0 else 0\n",
    "            recall = tp / (tp + fn) if (tp + fn) > 0 else 0\n",
    "            accuracy = accuracy_score([example[idx] for example in human_annotations_aspect_categories], [\n",
    "                                      example[idx] for example in llm_annotations_aspect_categories])\n",
    "\n",
    "            f1 = 2 * tp / (2 * tp + fn + fp)\n",
    "\n",
    "            n_samples_in_class = sum(\n",
    "                example[idx] == 1 for example in human_annotations_aspect_categories)\n",
    "\n",
    "            llm_print = \"\\\\multirow{10}{*}{\" + \\\n",
    "                LLMS_ENCODED[llm] + \"}\" if fs_idx == 0 and ac_idx == 0 else \"\"\n",
    "            fs_print = \"\\\\multirow{5}{*}{\" + \\\n",
    "                ENCODE_CONDITION[fs] + \"}\" if ac_idx == 0 else \"\"\n",
    "\n",
    "            print(llm_print, \"&\", fs_print,\n",
    "                  \"&\", \"\\\\texttt{\"+aspect_category+\"}\",\n",
    "                  \"&\", \"{:.3f}\".format(f1),\n",
    "                  \"&\", \"{:.3f}\".format(accuracy),\n",
    "                  \"&\", \"{:.3f}\".format(precision),\n",
    "                  \"&\", \"{:.3f}\".format(recall), \"\\\\\\\\\")\n",
    "\n",
    "        print(\"\\\\arrayrulecolor{gray}\\cline{2-7}\\\\arrayrulecolor{black}\")\n",
    "\n",
    "    print(\"\\\\hline\")"
   ]
  },
  {
   "cell_type": "markdown",
   "metadata": {},
   "source": [
    "#### Aspect Category + Sentiment Polarity"
   ]
  },
  {
   "cell_type": "code",
   "execution_count": 17,
   "metadata": {},
   "outputs": [],
   "source": [
    "def category_polarity_list_to_label(cat_pol_list):\n",
    "    return [1 if ac_pol in cat_pol_list else 0 for ac_pol in AC_POLARITY_COMBINATIONS]"
   ]
  },
  {
   "cell_type": "code",
   "execution_count": 18,
   "metadata": {},
   "outputs": [
    {
     "name": "stdout",
     "output_type": "stream",
     "text": [
      "\\multirow{2}{*}{\\textbf{Llama-2-70B}} & \\textbf{LRS\\textsubscript{500}} & 0.487 & 0.572 & 0.541 \\\\\n",
      " & \\textbf{LRS\\textsubscript{25}} & 0.428 & 0.536 & 0.497 \\\\\n",
      "\\hline\n",
      "\\multirow{2}{*}{\\textbf{GPT-3.5-turbo}} & \\textbf{LRS\\textsubscript{500}} & 0.799 & 0.845 & 0.832 \\\\\n",
      " & \\textbf{LRS\\textsubscript{25}} & 0.783 & 0.863 & 0.854 \\\\\n",
      "\\hline\n"
     ]
    }
   ],
   "source": [
    "for llm_idx, llm in enumerate(LLMS):\n",
    "    for fs_idx, fs in enumerate(FEW_SHOT_CONDITIONS):\n",
    "        llm_annotations_ac_pol = [category_polarity_list_to_label(\n",
    "            [tag[\"aspect_category\"]+\"_\"+tag[\"aspect_polarity\"] for tag in example]) for example in dataset[llm][fs][\"llm_annotation\"]]\n",
    "        human_annotations_ac_pol = [category_polarity_list_to_label(\n",
    "            [tag[\"aspect_category\"]+\"_\"+tag[\"aspect_polarity\"] for tag in example]) for example in dataset[llm][fs][\"human_annotation\"]]\n",
    "\n",
    "        accuracy = accuracy_score(\n",
    "            human_annotations_ac_pol, llm_annotations_ac_pol)\n",
    "        f1_micro = f1_score(human_annotations_ac_pol,\n",
    "                            llm_annotations_ac_pol, average='micro')\n",
    "        f1_macro = f1_score(human_annotations_ac_pol,\n",
    "                            llm_annotations_ac_pol, average='macro')\n",
    "\n",
    "        llm_print = \"\\\\multirow{2}{*}{\" + \\\n",
    "            LLMS_ENCODED[llm] + \"}\" if fs_idx == 0 else \"\"\n",
    "\n",
    "        print(llm_print,\n",
    "              \"&\", ENCODE_CONDITION[fs],\n",
    "              \"&\", \"{:.3f}\".format(accuracy),\n",
    "              \"&\", \"{:.3f}\".format(f1_micro),\n",
    "              \"&\", \"{:.3f}\".format(f1_macro), \"\\\\\\\\\")\n",
    "    print(\"\\\\hline\")"
   ]
  },
  {
   "cell_type": "code",
   "execution_count": 19,
   "metadata": {},
   "outputs": [
    {
     "name": "stdout",
     "output_type": "stream",
     "text": [
      "\\multirow{30}{*}{\\textbf{Llama-2-70B}} & \\multirow{15}{*}{\\textbf{LRS\\textsubscript{500}}} & \\multirow{3}{*}{\\texttt{GENERAL-IMPRESSION}} & \\texttt{POSITIVE} & 0.931 & 0.578 & 0.578 & 0.578 \\\\\n",
      " &  &  & \\texttt{NEUTRAL} & 0.889 & 0.187 & 0.108 & 0.700 \\\\\n",
      " &  &  & \\texttt{NEGATIVE} & 0.927 & 0.444 & 0.333 & 0.667 \\\\\n",
      "\\arrayrulecolor{gray}\\cline{3-8}\\arrayrulecolor{black}\n",
      " &  & \\multirow{3}{*}{\\texttt{FOOD}} & \\texttt{POSITIVE} & 0.887 & 0.563 & 0.800 & 0.435 \\\\\n",
      " &  &  & \\texttt{NEUTRAL} & 0.929 & 0.519 & 0.429 & 0.656 \\\\\n",
      " &  &  & \\texttt{NEGATIVE} & 0.953 & 0.729 & 0.814 & 0.660 \\\\\n",
      "\\arrayrulecolor{gray}\\cline{3-8}\\arrayrulecolor{black}\n",
      " &  & \\multirow{3}{*}{\\texttt{SERVICE}} & \\texttt{POSITIVE} & 0.892 & 0.651 & 0.859 & 0.524 \\\\\n",
      " &  &  & \\texttt{NEUTRAL} & 0.916 & 0.303 & 0.182 & 0.909 \\\\\n",
      " &  &  & \\texttt{NEGATIVE} & 0.962 & 0.764 & 0.850 & 0.694 \\\\\n",
      "\\arrayrulecolor{gray}\\cline{3-8}\\arrayrulecolor{black}\n",
      " &  & \\multirow{3}{*}{\\texttt{AMBIENCE}} & \\texttt{POSITIVE} & 0.918 & 0.662 & 0.846 & 0.543 \\\\\n",
      " &  &  & \\texttt{NEUTRAL} & 0.911 & 0.197 & 0.115 & 0.667 \\\\\n",
      " &  &  & \\texttt{NEGATIVE} & 0.943 & 0.721 & 0.714 & 0.727 \\\\\n",
      "\\arrayrulecolor{gray}\\cline{3-8}\\arrayrulecolor{black}\n",
      " &  & \\multirow{3}{*}{\\texttt{PRICE}} & \\texttt{POSITIVE} & 0.940 & 0.637 & 0.580 & 0.707 \\\\\n",
      " &  &  & \\texttt{NEUTRAL} & 0.932 & 0.519 & 0.417 & 0.690 \\\\\n",
      " &  &  & \\texttt{NEGATIVE} & 0.934 & 0.647 & 0.673 & 0.623 \\\\\n",
      "\\arrayrulecolor{gray}\\cline{3-8}\\arrayrulecolor{black}\n",
      "\\cline{2-8}\n",
      " & \\multirow{15}{*}{\\textbf{LRS\\textsubscript{25}}} & \\multirow{3}{*}{\\texttt{GENERAL-IMPRESSION}} & \\texttt{POSITIVE} & 0.894 & 0.487 & 0.475 & 0.500 \\\\\n",
      " &  &  & \\texttt{NEUTRAL} & 0.908 & 0.215 & 0.127 & 0.700 \\\\\n",
      " &  &  & \\texttt{NEGATIVE} & 0.906 & 0.333 & 0.255 & 0.481 \\\\\n",
      "\\arrayrulecolor{gray}\\cline{3-8}\\arrayrulecolor{black}\n",
      " &  & \\multirow{3}{*}{\\texttt{FOOD}} & \\texttt{POSITIVE} & 0.879 & 0.579 & 0.852 & 0.438 \\\\\n",
      " &  &  & \\texttt{NEUTRAL} & 0.917 & 0.489 & 0.393 & 0.647 \\\\\n",
      " &  &  & \\texttt{NEGATIVE} & 0.921 & 0.585 & 0.689 & 0.508 \\\\\n",
      "\\arrayrulecolor{gray}\\cline{3-8}\\arrayrulecolor{black}\n",
      " &  & \\multirow{3}{*}{\\texttt{SERVICE}} & \\texttt{POSITIVE} & 0.897 & 0.601 & 0.768 & 0.494 \\\\\n",
      " &  &  & \\texttt{NEUTRAL} & 0.913 & 0.314 & 0.186 & 1.000 \\\\\n",
      " &  &  & \\texttt{NEGATIVE} & 0.951 & 0.773 & 0.807 & 0.742 \\\\\n",
      "\\arrayrulecolor{gray}\\cline{3-8}\\arrayrulecolor{black}\n",
      " &  & \\multirow{3}{*}{\\texttt{AMBIENCE}} & \\texttt{POSITIVE} & 0.890 & 0.527 & 0.739 & 0.410 \\\\\n",
      " &  &  & \\texttt{NEUTRAL} & 0.919 & 0.211 & 0.125 & 0.667 \\\\\n",
      " &  &  & \\texttt{NEGATIVE} & 0.935 & 0.719 & 0.708 & 0.730 \\\\\n",
      "\\arrayrulecolor{gray}\\cline{3-8}\\arrayrulecolor{black}\n",
      " &  & \\multirow{3}{*}{\\texttt{PRICE}} & \\texttt{POSITIVE} & 0.919 & 0.622 & 0.617 & 0.627 \\\\\n",
      " &  &  & \\texttt{NEUTRAL} & 0.890 & 0.330 & 0.224 & 0.625 \\\\\n",
      " &  &  & \\texttt{NEGATIVE} & 0.926 & 0.677 & 0.754 & 0.614 \\\\\n",
      "\\arrayrulecolor{gray}\\cline{3-8}\\arrayrulecolor{black}\n",
      "\\cline{2-8}\n",
      "\\hline\n",
      "\\multirow{30}{*}{\\textbf{GPT-3.5-turbo}} & \\multirow{15}{*}{\\textbf{LRS\\textsubscript{500}}} & \\multirow{3}{*}{\\texttt{GENERAL-IMPRESSION}} & \\texttt{POSITIVE} & 0.983 & 0.889 & 0.870 & 0.909 \\\\\n",
      " &  &  & \\texttt{NEUTRAL} & 0.977 & 0.870 & 0.783 & 0.979 \\\\\n",
      " &  &  & \\texttt{NEGATIVE} & 0.983 & 0.907 & 0.891 & 0.925 \\\\\n",
      "\\arrayrulecolor{gray}\\cline{3-8}\\arrayrulecolor{black}\n",
      " &  & \\multirow{3}{*}{\\texttt{FOOD}} & \\texttt{POSITIVE} & 0.950 & 0.792 & 0.983 & 0.663 \\\\\n",
      " &  &  & \\texttt{NEUTRAL} & 0.987 & 0.897 & 0.946 & 0.854 \\\\\n",
      " &  &  & \\texttt{NEGATIVE} & 0.992 & 0.954 & 0.963 & 0.945 \\\\\n",
      "\\arrayrulecolor{gray}\\cline{3-8}\\arrayrulecolor{black}\n",
      " &  & \\multirow{3}{*}{\\texttt{SERVICE}} & \\texttt{POSITIVE} & 0.992 & 0.961 & 0.969 & 0.954 \\\\\n",
      " &  &  & \\texttt{NEUTRAL} & 0.992 & 0.959 & 0.935 & 0.983 \\\\\n",
      " &  &  & \\texttt{NEGATIVE} & 0.993 & 0.958 & 0.979 & 0.939 \\\\\n",
      "\\arrayrulecolor{gray}\\cline{3-8}\\arrayrulecolor{black}\n",
      " &  & \\multirow{3}{*}{\\texttt{AMBIENCE}} & \\texttt{POSITIVE} & 0.980 & 0.885 & 0.958 & 0.821 \\\\\n",
      " &  &  & \\texttt{NEUTRAL} & 0.980 & 0.867 & 0.796 & 0.951 \\\\\n",
      " &  &  & \\texttt{NEGATIVE} & 0.988 & 0.939 & 0.931 & 0.947 \\\\\n",
      "\\arrayrulecolor{gray}\\cline{3-8}\\arrayrulecolor{black}\n",
      " &  & \\multirow{3}{*}{\\texttt{PRICE}} & \\texttt{POSITIVE} & 0.899 & 0.565 & 0.661 & 0.494 \\\\\n",
      " &  &  & \\texttt{NEUTRAL} & 0.923 & 0.207 & 0.115 & 1.000 \\\\\n",
      " &  &  & \\texttt{NEGATIVE} & 0.966 & 0.828 & 0.980 & 0.716 \\\\\n",
      "\\arrayrulecolor{gray}\\cline{3-8}\\arrayrulecolor{black}\n",
      "\\cline{2-8}\n",
      " & \\multirow{15}{*}{\\textbf{LRS\\textsubscript{25}}} & \\multirow{3}{*}{\\texttt{GENERAL-IMPRESSION}} & \\texttt{POSITIVE} & 0.975 & 0.876 & 0.855 & 0.898 \\\\\n",
      " &  &  & \\texttt{NEUTRAL} & 0.976 & 0.881 & 0.800 & 0.981 \\\\\n",
      " &  &  & \\texttt{NEGATIVE} & 0.985 & 0.914 & 0.873 & 0.960 \\\\\n",
      "\\arrayrulecolor{gray}\\cline{3-8}\\arrayrulecolor{black}\n",
      " &  & \\multirow{3}{*}{\\texttt{FOOD}} & \\texttt{POSITIVE} & 0.971 & 0.870 & 1.000 & 0.770 \\\\\n",
      " &  &  & \\texttt{NEUTRAL} & 0.992 & 0.957 & 0.932 & 0.982 \\\\\n",
      " &  &  & \\texttt{NEGATIVE} & 0.997 & 0.980 & 0.980 & 0.980 \\\\\n",
      "\\arrayrulecolor{gray}\\cline{3-8}\\arrayrulecolor{black}\n",
      " &  & \\multirow{3}{*}{\\texttt{SERVICE}} & \\texttt{POSITIVE} & 0.983 & 0.914 & 0.930 & 0.898 \\\\\n",
      " &  &  & \\texttt{NEUTRAL} & 0.985 & 0.929 & 0.868 & 1.000 \\\\\n",
      " &  &  & \\texttt{NEGATIVE} & 0.990 & 0.953 & 0.984 & 0.924 \\\\\n",
      "\\arrayrulecolor{gray}\\cline{3-8}\\arrayrulecolor{black}\n",
      " &  & \\multirow{3}{*}{\\texttt{AMBIENCE}} & \\texttt{POSITIVE} & 0.978 & 0.874 & 0.957 & 0.804 \\\\\n",
      " &  &  & \\texttt{NEUTRAL} & 0.976 & 0.857 & 0.792 & 0.933 \\\\\n",
      " &  &  & \\texttt{NEGATIVE} & 0.987 & 0.938 & 0.938 & 0.938 \\\\\n",
      "\\arrayrulecolor{gray}\\cline{3-8}\\arrayrulecolor{black}\n",
      " &  & \\multirow{3}{*}{\\texttt{PRICE}} & \\texttt{POSITIVE} & 0.914 & 0.687 & 0.875 & 0.566 \\\\\n",
      " &  &  & \\texttt{NEUTRAL} & 0.899 & 0.250 & 0.145 & 0.909 \\\\\n",
      " &  &  & \\texttt{NEGATIVE} & 0.985 & 0.932 & 1.000 & 0.873 \\\\\n",
      "\\arrayrulecolor{gray}\\cline{3-8}\\arrayrulecolor{black}\n",
      "\\cline{2-8}\n",
      "\\hline\n"
     ]
    }
   ],
   "source": [
    "def category_polarity_list_to_label(cat_polarity_list):\n",
    "    return [1 if cat_polarity in cat_polarity_list else 0 for cat_polarity in AC_POLARITY_COMBINATIONS]\n",
    "\n",
    "\n",
    "for llm_idx, llm in enumerate(LLMS):\n",
    "    for fs_idx, fs in enumerate(FEW_SHOT_CONDITIONS):\n",
    "        llm_annotations_ac_pol = [category_polarity_list_to_label(\n",
    "            [tag[\"aspect_category\"] + \"_\" + tag[\"aspect_polarity\"] for tag in example]) for example in dataset[llm][fs][\"llm_annotation\"]]\n",
    "        human_annotations_ac_pol = [category_polarity_list_to_label(\n",
    "            [tag[\"aspect_category\"] + \"_\" + tag[\"aspect_polarity\"] for tag in example]) for example in dataset[llm][fs][\"human_annotation\"]]\n",
    "\n",
    "        for ac_pol_idx, ac_pol_combination in enumerate(AC_POLARITY_COMBINATIONS):\n",
    "            idx = AC_POLARITY_COMBINATIONS.index(ac_pol_combination)\n",
    "\n",
    "            tp = sum((llm_annotations_ac_pol[i][idx] == 1) and (\n",
    "                human_annotations_ac_pol[i][idx] == 1) for i in range(len(llm_annotations_ac_pol)))\n",
    "            fp = sum((llm_annotations_ac_pol[i][idx] == 1) and (\n",
    "                human_annotations_ac_pol[i][idx] == 0) for i in range(len(llm_annotations_ac_pol)))\n",
    "            fn = sum((llm_annotations_ac_pol[i][idx] == 0) and (\n",
    "                human_annotations_ac_pol[i][idx] == 1) for i in range(len(llm_annotations_ac_pol)))\n",
    "\n",
    "            precision = tp / (tp + fp) if (tp + fp) > 0 else 0\n",
    "            recall = tp / (tp + fn) if (tp + fn) > 0 else 0\n",
    "            accuracy = accuracy_score([example[idx] for example in human_annotations_ac_pol], [\n",
    "                                      example[idx] for example in llm_annotations_ac_pol])\n",
    "            f1 = 2 * tp / (2 * tp + fn + fp)\n",
    "\n",
    "            n_samples_in_class = sum(\n",
    "                example[idx] == 1 for example in human_annotations_ac_pol)\n",
    "\n",
    "            aspect_category, sentiment_polarity = ac_pol_combination.split(\"_\")\n",
    "\n",
    "            llm_print = \"\\\\multirow{30}{*}{\" + \\\n",
    "                LLMS_ENCODED[llm] + \\\n",
    "                \"}\" if fs_idx == 0 and ac_pol_idx == 0 else \"\"\n",
    "            fs_print = \"\\\\multirow{15}{*}{\" + \\\n",
    "                ENCODE_CONDITION[fs] + \"}\" if ac_pol_idx == 0 else \"\"\n",
    "            ac_print = \"\\\\multirow{3}{*}{\" + \"\\\\texttt{\" + \\\n",
    "                aspect_category+\"}\" + \"}\" if ac_pol_idx % 3 == 0 else \"\"\n",
    "\n",
    "            print(llm_print,\n",
    "                  \"&\", fs_print,\n",
    "                  \"&\", ac_print,\n",
    "                  \"&\", \"\\\\texttt{\"+sentiment_polarity+\"}\",\n",
    "                  \"&\", \"{:.3f}\".format(accuracy),\n",
    "                  \"&\", \"{:.3f}\".format(f1),\n",
    "                  \"&\", \"{:.3f}\".format(precision),\n",
    "                  \"&\", \"{:.3f}\".format(recall), \"\\\\\\\\\")\n",
    "\n",
    "            if ac_pol_idx % 3 == 2:\n",
    "                print(\n",
    "                    \"\\\\arrayrulecolor{gray}\\cline{3-8}\\\\arrayrulecolor{black}\")\n",
    "\n",
    "        print(\"\\\\cline{2-8}\")\n",
    "    print(\"\\\\hline\")"
   ]
  },
  {
   "cell_type": "markdown",
   "metadata": {},
   "source": [
    "#### Aspect Term + Sentiment Polarity"
   ]
  },
  {
   "cell_type": "code",
   "execution_count": 20,
   "metadata": {},
   "outputs": [],
   "source": [
    "def calculate_tp_tn_fp_fn_e2e(pred, label):\n",
    "    pred_set = set(\n",
    "        f\"{range['start']}_{range['end']}_{range['polarity']}\" for range in pred)\n",
    "    label_set = set(\n",
    "        f\"{range['start']}_{range['end']}_{range['polarity']}\" for range in label)\n",
    "\n",
    "    tp_set = pred_set & label_set\n",
    "    tp = len(tp_set)\n",
    "\n",
    "    fp_set = pred_set - tp_set\n",
    "    fp = len(fp_set)\n",
    "\n",
    "    fn_set = label_set - tp_set\n",
    "    fn = len(fn_set)\n",
    "\n",
    "    return tp, 0, fp, fn"
   ]
  },
  {
   "cell_type": "code",
   "execution_count": 21,
   "metadata": {},
   "outputs": [],
   "source": [
    "def calculate_tp_tn_fp_fn_e2e_total(pred_total, label_total):\n",
    "    tp_total = tn_total = fp_total = fn_total = 0\n",
    "    for i in range(len(label_total)):\n",
    "        tp, tn, fp, fn = calculate_tp_tn_fp_fn_e2e(\n",
    "            pred_total[i], label_total[i])\n",
    "        tp_total += tp\n",
    "        tn_total += tn\n",
    "        fp_total += fp\n",
    "        fn_total += fn\n",
    "    return tp_total, tn_total, fp_total, fn_total"
   ]
  },
  {
   "cell_type": "code",
   "execution_count": 36,
   "metadata": {},
   "outputs": [],
   "source": [
    "def f1_macro_e2e(llm_annotations_aspect_terms, human_annotations_aspect_terms):\n",
    "    f1_scores = []\n",
    "    for pol in [\"POSITIVE\", \"NEGATIVE\", \"NEUTRAL\"]:\n",
    "        llm_annotations_class = [[tag for tag in example if tag[\"polarity\"] == pol]\n",
    "                                 for example in llm_annotations_aspect_terms]\n",
    "        human_annotations_class = [[tag for tag in example if tag[\"polarity\"] == pol]\n",
    "                                   for example in human_annotations_aspect_terms]\n",
    "        \n",
    "        tp_total, tn_total, fp_total, fn_total = calculate_tp_tn_fp_fn_e2e_total(llm_annotations_class, human_annotations_class)\n",
    "        f1_scores.append(2 * tp_total / (2 * tp_total + fn_total + fp_total))\n",
    "    return np.mean(f1_scores)"
   ]
  },
  {
   "cell_type": "code",
   "execution_count": 37,
   "metadata": {},
   "outputs": [
    {
     "name": "stdout",
     "output_type": "stream",
     "text": [
      "\\multirow{2}{*}{\\textbf{Llama-2-70B}} & \\textbf{LRS\\textsubscript{500}} & 0.411 & 0.582 & 0.556 \\\\\n",
      " & \\textbf{LRS\\textsubscript{25}} & 0.409 & 0.580 & 0.546 \\\\\n",
      "\\hline\n",
      "\\multirow{2}{*}{\\textbf{GPT-3.5-turbo}} & \\textbf{LRS\\textsubscript{500}} & 0.514 & 0.679 & 0.672 \\\\\n",
      " & \\textbf{LRS\\textsubscript{25}} & 0.532 & 0.694 & 0.688 \\\\\n",
      "\\hline\n"
     ]
    }
   ],
   "source": [
    "for llm_idx, llm in enumerate(LLMS):\n",
    "    for fs_idx, fs in enumerate(FEW_SHOT_CONDITIONS):\n",
    "        llm_annotations_aspect_terms = [\n",
    "            [{\"start\": tag[\"start\"], \"end\": tag[\"end\"], \"polarity\": tag[\"aspect_polarity\"]} for tag in example if tag[\"aspect_term\"] is not None] for example in dataset[llm][fs][\"llm_annotation\"]]\n",
    "        human_annotations_aspect_terms = [\n",
    "            [{\"start\": tag[\"start\"], \"end\": tag[\"end\"], \"polarity\": tag[\"aspect_polarity\"]} for tag in example if tag[\"aspect_term\"] is not None] for example in dataset[llm][fs][\"human_annotation\"]]\n",
    "\n",
    "        tp_total, tn_total, fp_total, fn_total = calculate_tp_tn_fp_fn_e2e_total(\n",
    "            llm_annotations_aspect_terms, human_annotations_aspect_terms)\n",
    "\n",
    "        # Calculate metrics\n",
    "        accuracy = (tp_total + tn_total) / (tp_total + tn_total + fp_total +\n",
    "                                            fn_total) if (tp_total + tn_total + fp_total + fn_total) > 0 else 0\n",
    "        precision = tp_total / \\\n",
    "            (tp_total + fp_total) if (tp_total + fp_total) > 0 else 0\n",
    "        recall = tp_total / \\\n",
    "            (tp_total + fn_total) if (tp_total + fn_total) > 0 else 0\n",
    "\n",
    "        f1_micro = 2 * tp_total / (2 * tp_total + fn_total + fp_total)\n",
    "\n",
    "        f1_macro = f1_macro_e2e(\n",
    "            llm_annotations_aspect_terms, human_annotations_aspect_terms)\n",
    "\n",
    "        llm_print = \"\\\\multirow{2}{*}{\" + \\\n",
    "            LLMS_ENCODED[llm] + \"}\" if fs_idx == 0 else \"\"\n",
    "\n",
    "        print(llm_print, \"&\", ENCODE_CONDITION[fs],\n",
    "              \"&\", \"{:.3f}\".format(accuracy),\n",
    "              \"&\", \"{:.3f}\".format(f1_micro),\n",
    "              \"&\", \"{:.3f}\".format(f1_macro), \"\\\\\\\\\")\n",
    "    print(\"\\hline\")"
   ]
  },
  {
   "cell_type": "markdown",
   "metadata": {},
   "source": [
    "#### Aspect Term + Aspect Category + Sentiment Polarity"
   ]
  },
  {
   "cell_type": "code",
   "execution_count": 23,
   "metadata": {},
   "outputs": [],
   "source": [
    "# Ordnen [check]\n",
    "# Runden [check]\n",
    "# bold font [check]\n",
    "# überschriften zentrieren [check]\n",
    "# trennlinien [check]\n",
    "# Tabellen in Latex anpassen\n",
    "# korrekt runden auch bei anderen notebooks"
   ]
  },
  {
   "cell_type": "code",
   "execution_count": 24,
   "metadata": {},
   "outputs": [
    {
     "name": "stdout",
     "output_type": "stream",
     "text": [
      "\\multirow{2}{*}{\\textbf{Llama-2-70B}} & \\textbf{LRS\\textsubscript{500}} & 0.305 & 0.467 & 0.437 & 0.501 \\\\\n",
      " & \\textbf{LRS\\textsubscript{25}} & 0.281 & 0.438 & 0.416 & 0.463 \\\\\n",
      "\\hline\n",
      "\\multirow{2}{*}{\\textbf{GPT-3.5-turbo}} & \\textbf{LRS\\textsubscript{500}} & 0.401 & 0.573 & 0.569 & 0.576 \\\\\n",
      " & \\textbf{LRS\\textsubscript{25}} & 0.412 & 0.583 & 0.569 & 0.598 \\\\\n",
      "\\hline\n"
     ]
    }
   ],
   "source": [
    "for llm_idx, llm in enumerate(LLMS):\n",
    "    for fs_idx, fs in enumerate(FEW_SHOT_CONDITIONS):\n",
    "        metrics_triplets = calculate_metrics_for_examples(\n",
    "            dataset[llm][fs][\"human_annotation\"], dataset[llm][fs][\"llm_annotation\"])\n",
    "\n",
    "        llm_print = \"\\\\multirow{2}{*}{\" + \\\n",
    "            LLMS_ENCODED[llm] + \"}\" if fs_idx == 0 else \"\"\n",
    "        print(llm_print,\n",
    "              \"&\", ENCODE_CONDITION[fs],\n",
    "              \"&\", \"{:.3f}\".format(metrics_triplets[\"accuracy\"]),\n",
    "              \"&\", \"{:.3f}\".format(metrics_triplets[\"f1\"]),\n",
    "              \"&\", \"{:.3f}\".format(metrics_triplets[\"precision\"]),\n",
    "              \"&\", \"{:.3f}\".format(metrics_triplets[\"recall\"]), \"\\\\\\\\\")\n",
    "\n",
    "    print(\"\\\\hline\")"
   ]
  },
  {
   "cell_type": "code",
   "execution_count": null,
   "metadata": {},
   "outputs": [],
   "source": []
  }
 ],
 "metadata": {
  "kernelspec": {
   "display_name": "tensorflow_m1",
   "language": "python",
   "name": "python3"
  },
  "language_info": {
   "codemirror_mode": {
    "name": "ipython",
    "version": 3
   },
   "file_extension": ".py",
   "mimetype": "text/x-python",
   "name": "python",
   "nbconvert_exporter": "python",
   "pygments_lexer": "ipython3",
   "version": "3.11.3"
  }
 },
 "nbformat": 4,
 "nbformat_minor": 2
}
