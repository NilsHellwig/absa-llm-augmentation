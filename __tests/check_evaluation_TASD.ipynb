{
 "cells": [
  {
   "cell_type": "code",
   "execution_count": 1,
   "metadata": {},
   "outputs": [],
   "source": [
    "from TASD.translate_sequence_to_tuples import preprocess_for_metrics\n",
    "from TASD.evaluation import calculate_metrics_for_examples\n",
    "from transformers import AutoTokenizer\n",
    "from datasets import load_metric\n",
    "import numpy as np\n",
    "import constants\n",
    "\n",
    "predictions_load = np.load(\"predictions.npy\")\n",
    "labels_load = np.load(\"labels.npy\")"
   ]
  },
  {
   "cell_type": "code",
   "execution_count": 2,
   "metadata": {},
   "outputs": [],
   "source": [
    "# Source: https://medium.com/nlplanet/a-full-guide-to-finetuning-t5-for-text2text-and-building-a-demo-with-streamlit-c72009631887\n",
    "\n",
    "def compute_metrics(predictions, labels):\n",
    "    tokenizer = AutoTokenizer.from_pretrained(constants.MODEL_NAME_TASD)\n",
    "    metric = load_metric(\"rouge\")\n",
    "\n",
    "    # Preprocess predictions\n",
    "    decoded_preds, decoded_labels, pred_tuples, labels_tuples = preprocess_for_metrics(\n",
    "        predictions, labels, tokenizer)\n",
    "\n",
    "    # Text Based Metrics\n",
    "    results = metric.compute(predictions=decoded_preds,\n",
    "                             references=decoded_labels, use_stemmer=True)\n",
    "    results = {key: value.mid.fmeasure * 100 for key, value in results.items()}\n",
    "    prediction_lens = [np.count_nonzero(\n",
    "        pred != tokenizer.pad_token_id) for pred in predictions]\n",
    "    results[\"gen_len\"] = np.mean(prediction_lens)\n",
    "    results = {k: round(v, 4) for k, v in results.items()}\n",
    "\n",
    "    # Calculate Total Metrics\n",
    "    total_metrics = calculate_metrics_for_examples(labels_tuples, pred_tuples)\n",
    "\n",
    "    for metric in [\"f1\", \"recall\", \"precision\", \"accuracy\"]:\n",
    "        results[metric] = total_metrics[metric]\n",
    "\n",
    "    # Calculate metrics for each aspect category\n",
    "    for aspect_category in constants.ASPECT_CATEGORIES:\n",
    "        pred_tuples_ac = [[tuple for tuple in example if tuple[\"aspect_category\"]\n",
    "                           == aspect_category] for example in pred_tuples]\n",
    "        labels_tuples_ac = [[tuple for tuple in example if tuple[\"aspect_category\"]\n",
    "                             == aspect_category] for example in labels_tuples]\n",
    "        ac_metrics = calculate_metrics_for_examples(labels_tuples_ac, pred_tuples_ac)\n",
    "        for metric in [\"f1\", \"recall\", \"precision\", \"accuracy\"]:\n",
    "            results[metric+\"_\"+aspect_category] = ac_metrics[metric]\n",
    "\n",
    "\n",
    "    return results"
   ]
  },
  {
   "cell_type": "code",
   "execution_count": 3,
   "metadata": {},
   "outputs": [
    {
     "name": "stderr",
     "output_type": "stream",
     "text": [
      "/opt/homebrew/Caskroom/miniforge/base/envs/tensorflow_m1/lib/python3.11/site-packages/transformers/models/t5/tokenization_t5_fast.py:158: FutureWarning: This tokenizer was incorrectly instantiated with a model max length of 512 which will be corrected in Transformers v5.\n",
      "For now, this behavior is kept to avoid breaking backwards compatibility when padding/encoding with `truncation is True`.\n",
      "- Be aware that you SHOULD NOT rely on t5-base automatically truncating your input to 512 when padding/encoding.\n",
      "- If you want to encode/pad to sequences longer than 512 you can either instantiate this tokenizer with `model_max_length` or pass `max_length` when encoding/padding.\n",
      "- To avoid this warning, please instantiate this tokenizer with `model_max_length` set to your preferred value.\n",
      "  warnings.warn(\n",
      "/var/folders/qy/5gtwsk6s7jgbknbqgb533x9w0000gn/T/ipykernel_78615/4102340373.py:5: FutureWarning: load_metric is deprecated and will be removed in the next major version of datasets. Use 'evaluate.load' instead, from the new library 🤗 Evaluate: https://huggingface.co/docs/evaluate\n",
      "  metric = load_metric(\"rouge\")\n"
     ]
    },
    {
     "name": "stdout",
     "output_type": "stream",
     "text": [
      "{'rouge1': 100.0, 'rouge2': 100.0, 'rougeL': 100.0, 'rougeLsum': 100.0, 'gen_len': 25.964, 'f1': 1.0, 'recall': 1.0, 'precision': 1.0, 'accuracy': 1.0, 'f1_GENERAL-IMPRESSION': 1.0, 'recall_GENERAL-IMPRESSION': 1.0, 'precision_GENERAL-IMPRESSION': 1.0, 'accuracy_GENERAL-IMPRESSION': 1.0, 'f1_FOOD': 1.0, 'recall_FOOD': 1.0, 'precision_FOOD': 1.0, 'accuracy_FOOD': 1.0, 'f1_SERVICE': 1.0, 'recall_SERVICE': 1.0, 'precision_SERVICE': 1.0, 'accuracy_SERVICE': 1.0, 'f1_AMBIENCE': 1.0, 'recall_AMBIENCE': 1.0, 'precision_AMBIENCE': 1.0, 'accuracy_AMBIENCE': 1.0, 'f1_PRICE': 1.0, 'recall_PRICE': 1.0, 'precision_PRICE': 1.0, 'accuracy_PRICE': 1.0}\n"
     ]
    },
    {
     "data": {
      "text/plain": [
       "{'rouge1': 100.0,\n",
       " 'rouge2': 100.0,\n",
       " 'rougeL': 100.0,\n",
       " 'rougeLsum': 100.0,\n",
       " 'gen_len': 25.964,\n",
       " 'f1': 1.0,\n",
       " 'recall': 1.0,\n",
       " 'precision': 1.0,\n",
       " 'accuracy': 1.0,\n",
       " 'f1_GENERAL-IMPRESSION': 1.0,\n",
       " 'recall_GENERAL-IMPRESSION': 1.0,\n",
       " 'precision_GENERAL-IMPRESSION': 1.0,\n",
       " 'accuracy_GENERAL-IMPRESSION': 1.0,\n",
       " 'f1_FOOD': 1.0,\n",
       " 'recall_FOOD': 1.0,\n",
       " 'precision_FOOD': 1.0,\n",
       " 'accuracy_FOOD': 1.0,\n",
       " 'f1_SERVICE': 1.0,\n",
       " 'recall_SERVICE': 1.0,\n",
       " 'precision_SERVICE': 1.0,\n",
       " 'accuracy_SERVICE': 1.0,\n",
       " 'f1_AMBIENCE': 1.0,\n",
       " 'recall_AMBIENCE': 1.0,\n",
       " 'precision_AMBIENCE': 1.0,\n",
       " 'accuracy_AMBIENCE': 1.0,\n",
       " 'f1_PRICE': 1.0,\n",
       " 'recall_PRICE': 1.0,\n",
       " 'precision_PRICE': 1.0,\n",
       " 'accuracy_PRICE': 1.0}"
      ]
     },
     "execution_count": 3,
     "metadata": {},
     "output_type": "execute_result"
    }
   ],
   "source": [
    "compute_metrics(predictions_load, labels_load)"
   ]
  }
 ],
 "metadata": {
  "kernelspec": {
   "display_name": "tensorflow_m1",
   "language": "python",
   "name": "python3"
  },
  "language_info": {
   "codemirror_mode": {
    "name": "ipython",
    "version": 3
   },
   "file_extension": ".py",
   "mimetype": "text/x-python",
   "name": "python",
   "nbconvert_exporter": "python",
   "pygments_lexer": "ipython3",
   "version": "3.11.3"
  }
 },
 "nbformat": 4,
 "nbformat_minor": 2
}
