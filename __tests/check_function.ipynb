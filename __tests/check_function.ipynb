{
 "cells": [
  {
   "cell_type": "code",
   "execution_count": 102,
   "metadata": {},
   "outputs": [],
   "source": [
    "import constants\n",
    "import pickle\n",
    "import json\n",
    "from transformers import AutoTokenizer"
   ]
  },
  {
   "cell_type": "code",
   "execution_count": 103,
   "metadata": {},
   "outputs": [],
   "source": [
    "def get_token_role_in_span_OTE(token_start: int, token_end: int, span_start: int, span_end: int):\n",
    "    # Wrong Annoation (span) or wrong token start/end -> token's start can't be before the token's end\n",
    "    if token_end <= token_start or span_start > span_end:\n",
    "        return \"N\"\n",
    "    if token_end < span_start or span_end < token_start:\n",
    "        return \"O\"\n",
    "    if token_start > span_start:\n",
    "        return \"I\"\n",
    "    else:\n",
    "        return \"B\"\n",
    "\n",
    "\n",
    "def get_token_role_in_span_OTE_old(token_start: int, token_end: int, span_start: int, span_end: int):\n",
    "    # Wrong Annoation (span) or wrong token start/end -> token's start can't be before the token's end\n",
    "    if token_end <= token_start or span_start > span_end:\n",
    "        return \"N\"\n",
    "    if token_start < span_start or token_end > span_end:\n",
    "        return \"O\"\n",
    "    if token_start > span_start:\n",
    "        return \"I\"\n",
    "    else:\n",
    "        return \"B\"\n",
    "\n",
    "\n",
    "def preprocess_example_OTE(example, tokenizer):\n",
    "    print(\"example:\", example)\n",
    "    import json\n",
    "    with open(\"example_dict.json\", \"w\") as file:\n",
    "       json.dump(example, file)\n",
    "    input_text = example[\"text\"] + \"[SEP]\" + example[\"aspect_category\"]\n",
    "    one_hot_output = [[0 for _ in constants.LABEL_TO_ID_OTE.keys()]\n",
    "                      for _ in range(constants.MAX_TOKENS_ACD)]\n",
    "\n",
    "    tokenized_input_text = tokenizer(input_text,\n",
    "                                     return_offsets_mapping=True,\n",
    "                                     padding=\"max_length\",\n",
    "                                     max_length=constants.MAX_TOKENS_ACD,\n",
    "                                     truncation=True)\n",
    "\n",
    "    for (token_start, token_end), token_labels in zip(tokenized_input_text[\"offset_mapping\"], one_hot_output):\n",
    "        for span in example[\"tags\"]:\n",
    "            role = get_token_role_in_span_OTE(\n",
    "                token_start, token_end, span[\"start\"], span[\"end\"])\n",
    "            if role == \"B\":\n",
    "                token_labels[constants.LABEL_TO_ID_OTE[\"B\"]] = 1\n",
    "            elif role == \"I\":\n",
    "                token_labels[constants.LABEL_TO_ID_OTE[\"I\"]] = 1\n",
    "\n",
    "        if token_labels[constants.LABEL_TO_ID_OTE[\"B\"]] == 0 and token_labels[constants.LABEL_TO_ID_OTE[\"I\"]] == 0:\n",
    "            token_labels[constants.LABEL_TO_ID_OTE[\"O\"]] = 1\n",
    "\n",
    "    return {\n",
    "        \"input_ids\": tokenized_input_text[\"input_ids\"],\n",
    "        \"attention_mask\": tokenized_input_text[\"attention_mask\"],\n",
    "        \"offset_mapping\": tokenized_input_text[\"offset_mapping\"],\n",
    "        \"aspect_category\": example[\"aspect_category\"],\n",
    "        \"labels\": one_hot_output\n",
    "    }"
   ]
  },
  {
   "cell_type": "code",
   "execution_count": 104,
   "metadata": {},
   "outputs": [],
   "source": [
    "tokenizer = AutoTokenizer.from_pretrained(constants.MODEL_NAME_OTE)"
   ]
  },
  {
   "cell_type": "code",
   "execution_count": 105,
   "metadata": {},
   "outputs": [
    {
     "data": {
      "text/plain": [
       "{'text': 'Preis war nicht heiß, kümmerte den Service aber nicht.',\n",
       " 'aspect_category': 'FOOD',\n",
       " 'tags': [{'end': 4,\n",
       "   'start': 0,\n",
       "   'tag_with_polarity': 'FOOD-POSITIVE',\n",
       "   'tag_with_polarity_and_type': 'FOOD-POSITIVE-explicit',\n",
       "   'text': 'Suppe',\n",
       "   'type': 'label-explicit',\n",
       "   'label': 'FOOD',\n",
       "   'polarity': 'POSITIVE'}],\n",
       " 'id': '9372f1ee-58b3-425e-8a6b-775627bbd424'}"
      ]
     },
     "execution_count": 105,
     "metadata": {},
     "output_type": "execute_result"
    }
   ],
   "source": [
    "with open(\"example_dict.json\", \"r\") as file:\n",
    "    example = json.load(file)\n",
    "example"
   ]
  },
  {
   "cell_type": "code",
   "execution_count": 106,
   "metadata": {},
   "outputs": [],
   "source": [
    "example = {'text': 'Preis war nicht heiß, kümmerte den Service aber nicht.',\n",
    "           'aspect_category': 'FOOD',\n",
    "           'tags': [{'end': 5,\n",
    "                     'start': 0,\n",
    "                     'tag_with_polarity': 'FOOD-POSITIVE',\n",
    "                     'tag_with_polarity_and_type': 'FOOD-POSITIVE-explicit',\n",
    "                     'text': 'Suppe',\n",
    "                     'type': 'label-explicit',\n",
    "                     'label': 'FOOD',\n",
    "                     'polarity': 'POSITIVE'}],\n",
    "           'id': '9372f1ee-58b3-425e-8a6b-775627bbd424'}"
   ]
  },
  {
   "cell_type": "code",
   "execution_count": 107,
   "metadata": {},
   "outputs": [
    {
     "data": {
      "text/plain": [
       "'Preis'"
      ]
     },
     "execution_count": 107,
     "metadata": {},
     "output_type": "execute_result"
    }
   ],
   "source": [
    "example[\"text\"][example[\"tags\"][0][\"start\"]:example[\"tags\"][0][\"end\"]]"
   ]
  },
  {
   "cell_type": "code",
   "execution_count": 109,
   "metadata": {},
   "outputs": [
    {
     "name": "stdout",
     "output_type": "stream",
     "text": [
      "example: {'text': 'Preis war nicht heiß, kümmerte den Service aber nicht.', 'aspect_category': 'FOOD', 'tags': [{'end': 5, 'start': 0, 'tag_with_polarity': 'FOOD-POSITIVE', 'tag_with_polarity_and_type': 'FOOD-POSITIVE-explicit', 'text': 'Suppe', 'type': 'label-explicit', 'label': 'FOOD', 'polarity': 'POSITIVE'}], 'id': '9372f1ee-58b3-425e-8a6b-775627bbd424'}\n",
      "example: {'text': 'Preis war nicht heiß, kümmerte den Service aber nicht.', 'aspect_category': 'FOOD', 'tags': [{'end': 5, 'start': 0, 'tag_with_polarity': 'FOOD-POSITIVE', 'tag_with_polarity_and_type': 'FOOD-POSITIVE-explicit', 'text': 'Suppe', 'type': 'label-explicit', 'label': 'FOOD', 'polarity': 'POSITIVE'}], 'id': '9372f1ee-58b3-425e-8a6b-775627bbd424'}\n"
     ]
    },
    {
     "data": {
      "text/plain": [
       "([102,\n",
       "  2020,\n",
       "  285,\n",
       "  255,\n",
       "  1988,\n",
       "  818,\n",
       "  16947,\n",
       "  30881,\n",
       "  190,\n",
       "  5502,\n",
       "  494,\n",
       "  255,\n",
       "  566,\n",
       "  103,\n",
       "  161,\n",
       "  28823,\n",
       "  30909,\n",
       "  103,\n",
       "  0,\n",
       "  0],\n",
       " [[1, 0, 0],\n",
       "  [0, 1, 0],\n",
       "  [1, 0, 0],\n",
       "  [1, 0, 0],\n",
       "  [1, 0, 0],\n",
       "  [1, 0, 0],\n",
       "  [1, 0, 0],\n",
       "  [1, 0, 0],\n",
       "  [1, 0, 0],\n",
       "  [1, 0, 0],\n",
       "  [1, 0, 0],\n",
       "  [1, 0, 0],\n",
       "  [1, 0, 0],\n",
       "  [1, 0, 0],\n",
       "  [1, 0, 0],\n",
       "  [1, 0, 0],\n",
       "  [1, 0, 0],\n",
       "  [1, 0, 0],\n",
       "  [1, 0, 0],\n",
       "  [1, 0, 0]])"
      ]
     },
     "execution_count": 109,
     "metadata": {},
     "output_type": "execute_result"
    }
   ],
   "source": [
    "preprocess_example_OTE(example, tokenizer)[\"input_ids\"][:20], preprocess_example_OTE(example, tokenizer)[\"labels\"][:20]"
   ]
  },
  {
   "cell_type": "code",
   "execution_count": null,
   "metadata": {},
   "outputs": [],
   "source": []
  }
 ],
 "metadata": {
  "kernelspec": {
   "display_name": "tensorflow_m1",
   "language": "python",
   "name": "python3"
  },
  "language_info": {
   "codemirror_mode": {
    "name": "ipython",
    "version": 3
   },
   "file_extension": ".py",
   "mimetype": "text/x-python",
   "name": "python",
   "nbconvert_exporter": "python",
   "pygments_lexer": "ipython3",
   "version": "3.11.3"
  },
  "orig_nbformat": 4
 },
 "nbformat": 4,
 "nbformat_minor": 2
}
